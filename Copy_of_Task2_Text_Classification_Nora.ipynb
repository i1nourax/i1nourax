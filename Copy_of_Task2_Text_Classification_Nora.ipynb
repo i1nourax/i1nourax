{
  "cells": [
    {
      "cell_type": "markdown",
      "metadata": {
        "id": "view-in-github",
        "colab_type": "text"
      },
      "source": [
        "<a href=\"https://colab.research.google.com/github/i1nourax/i1nourax/blob/main/Copy_of_Task2_Text_Classification_Nora.ipynb\" target=\"_parent\"><img src=\"https://colab.research.google.com/assets/colab-badge.svg\" alt=\"Open In Colab\"/></a>"
      ]
    },
    {
      "cell_type": "markdown",
      "metadata": {
        "id": "bsurCNok43DL"
      },
      "source": [
        "# Text Classification Exam\n",
        "\n",
        "Welcome to the Text Classification Practical Exam. In this exam, you will be tasked with building, training, and evaluating an NLP model to classify text data. You are provided with a labeled dataset containing both the text and its corresponding class labels.\n",
        "\n",
        "Your objective is to develop a model that accurately predicts the class of the given text. Make sure to follow best practices in data preprocessing, model selection, and evaluation to achieve optimal results.\n",
        "\n",
        "Good luck!\n",
        "___"
      ]
    },
    {
      "cell_type": "markdown",
      "metadata": {
        "id": "oqw2El5mMxsz"
      },
      "source": [
        "# Install and Import Needed Libraries"
      ]
    },
    {
      "cell_type": "markdown",
      "metadata": {
        "id": "4dTkHbSHNB4y"
      },
      "source": [
        "You can use `pyarabic` or any other library to pre-process and clean the Arabic text."
      ]
    },
    {
      "cell_type": "code",
      "execution_count": 1,
      "metadata": {
        "colab": {
          "base_uri": "https://localhost:8080/"
        },
        "id": "z6mRe6i5Wqqc",
        "outputId": "9013478c-9e11-471f-c1f2-6944aa8ffa31"
      },
      "outputs": [
        {
          "output_type": "stream",
          "name": "stdout",
          "text": [
            "Collecting pyarabic\n",
            "  Downloading PyArabic-0.6.15-py3-none-any.whl.metadata (10 kB)\n",
            "Requirement already satisfied: six>=1.14.0 in /usr/local/lib/python3.10/dist-packages (from pyarabic) (1.16.0)\n",
            "Downloading PyArabic-0.6.15-py3-none-any.whl (126 kB)\n",
            "\u001b[?25l   \u001b[90m━━━━━━━━━━━━━━━━━━━━━━━━━━━━━━━━━━━━━━━━\u001b[0m \u001b[32m0.0/126.4 kB\u001b[0m \u001b[31m?\u001b[0m eta \u001b[36m-:--:--\u001b[0m\r\u001b[2K   \u001b[90m━━━━━━━━━━━━━━━━━━━━━━━━━━━━━━━━━━━━━━━━\u001b[0m \u001b[32m126.4/126.4 kB\u001b[0m \u001b[31m6.3 MB/s\u001b[0m eta \u001b[36m0:00:00\u001b[0m\n",
            "\u001b[?25hInstalling collected packages: pyarabic\n",
            "Successfully installed pyarabic-0.6.15\n"
          ]
        }
      ],
      "source": [
        "!pip install pyarabic"
      ]
    },
    {
      "cell_type": "code",
      "execution_count": 2,
      "metadata": {
        "id": "jiS2Afbl___5"
      },
      "outputs": [],
      "source": [
        "import pandas as pd\n",
        "import numpy as np\n",
        "import pyarabic.araby as araby\n",
        "import tensorflow as tf\n",
        "from sklearn.model_selection import train_test_split\n",
        "from tensorflow.keras.preprocessing.text import Tokenizer\n",
        "from tensorflow.keras.preprocessing.sequence import pad_sequences\n",
        "from tensorflow.keras.models import Sequential\n",
        "from tensorflow.keras.layers import Embedding, LSTM, Dense, Bidirectional\n",
        "from matplotlib import pyplot as plt\n",
        "import re"
      ]
    },
    {
      "cell_type": "markdown",
      "metadata": {
        "id": "Hq5KJRZ5Ph0Z"
      },
      "source": [
        "# Download the Dataset"
      ]
    },
    {
      "cell_type": "markdown",
      "metadata": {
        "id": "3riATTJ243DN"
      },
      "source": [
        "Please note that you are allowed to take a subset of this dataset, the reason for that is it might take a long time to train the model on."
      ]
    },
    {
      "cell_type": "code",
      "execution_count": 3,
      "metadata": {
        "colab": {
          "base_uri": "https://localhost:8080/"
        },
        "id": "M1n3uTg043DN",
        "outputId": "03f098de-5e5b-46d7-ab67-7eecbe16c31e"
      },
      "outputs": [
        {
          "output_type": "stream",
          "name": "stdout",
          "text": [
            "Dataset URL: https://www.kaggle.com/datasets/khaledzsa/sanad\n",
            "License(s): unknown\n",
            "Downloading sanad.zip to /content\n",
            " 94% 67.0M/71.4M [00:02<00:00, 41.0MB/s]\n",
            "100% 71.4M/71.4M [00:02<00:00, 31.9MB/s]\n",
            "Archive:  sanad.zip\n",
            "  inflating: sanad.csv               \n"
          ]
        }
      ],
      "source": [
        "!kaggle datasets download -d khaledzsa/sanad\n",
        "!unzip sanad.zip"
      ]
    },
    {
      "cell_type": "code",
      "execution_count": 4,
      "metadata": {
        "colab": {
          "base_uri": "https://localhost:8080/",
          "height": 206
        },
        "id": "5sWtxRPi48r5",
        "outputId": "299d2131-f6ed-40f1-d5f7-ed895db588f4"
      },
      "outputs": [
        {
          "output_type": "execute_result",
          "data": {
            "text/plain": [
              "                                                text    label\n",
              "0  https://example.com/resource/الشاٌرقة -ْ محمِد...  Culture\n",
              "1  https://example.com/resource/اَنِطٌلقّتَ ٍفٍيّ...  Culture\n",
              "2  https://example.com/resource/أُقيًمٌتِ مِساءُ ...  Culture\n",
              "3  https://example.com/resource/بٍاسُمةَ يًوٌنٍس ...  Culture\n",
              "4  https://example.com/resource/قُرر اَتحِاد اًلْ...  Culture"
            ],
            "text/html": [
              "\n",
              "  <div id=\"df-edaa2332-371c-409c-830a-5197f3decbb4\" class=\"colab-df-container\">\n",
              "    <div>\n",
              "<style scoped>\n",
              "    .dataframe tbody tr th:only-of-type {\n",
              "        vertical-align: middle;\n",
              "    }\n",
              "\n",
              "    .dataframe tbody tr th {\n",
              "        vertical-align: top;\n",
              "    }\n",
              "\n",
              "    .dataframe thead th {\n",
              "        text-align: right;\n",
              "    }\n",
              "</style>\n",
              "<table border=\"1\" class=\"dataframe\">\n",
              "  <thead>\n",
              "    <tr style=\"text-align: right;\">\n",
              "      <th></th>\n",
              "      <th>text</th>\n",
              "      <th>label</th>\n",
              "    </tr>\n",
              "  </thead>\n",
              "  <tbody>\n",
              "    <tr>\n",
              "      <th>0</th>\n",
              "      <td>https://example.com/resource/الشاٌرقة -ْ محمِد...</td>\n",
              "      <td>Culture</td>\n",
              "    </tr>\n",
              "    <tr>\n",
              "      <th>1</th>\n",
              "      <td>https://example.com/resource/اَنِطٌلقّتَ ٍفٍيّ...</td>\n",
              "      <td>Culture</td>\n",
              "    </tr>\n",
              "    <tr>\n",
              "      <th>2</th>\n",
              "      <td>https://example.com/resource/أُقيًمٌتِ مِساءُ ...</td>\n",
              "      <td>Culture</td>\n",
              "    </tr>\n",
              "    <tr>\n",
              "      <th>3</th>\n",
              "      <td>https://example.com/resource/بٍاسُمةَ يًوٌنٍس ...</td>\n",
              "      <td>Culture</td>\n",
              "    </tr>\n",
              "    <tr>\n",
              "      <th>4</th>\n",
              "      <td>https://example.com/resource/قُرر اَتحِاد اًلْ...</td>\n",
              "      <td>Culture</td>\n",
              "    </tr>\n",
              "  </tbody>\n",
              "</table>\n",
              "</div>\n",
              "    <div class=\"colab-df-buttons\">\n",
              "\n",
              "  <div class=\"colab-df-container\">\n",
              "    <button class=\"colab-df-convert\" onclick=\"convertToInteractive('df-edaa2332-371c-409c-830a-5197f3decbb4')\"\n",
              "            title=\"Convert this dataframe to an interactive table.\"\n",
              "            style=\"display:none;\">\n",
              "\n",
              "  <svg xmlns=\"http://www.w3.org/2000/svg\" height=\"24px\" viewBox=\"0 -960 960 960\">\n",
              "    <path d=\"M120-120v-720h720v720H120Zm60-500h600v-160H180v160Zm220 220h160v-160H400v160Zm0 220h160v-160H400v160ZM180-400h160v-160H180v160Zm440 0h160v-160H620v160ZM180-180h160v-160H180v160Zm440 0h160v-160H620v160Z\"/>\n",
              "  </svg>\n",
              "    </button>\n",
              "\n",
              "  <style>\n",
              "    .colab-df-container {\n",
              "      display:flex;\n",
              "      gap: 12px;\n",
              "    }\n",
              "\n",
              "    .colab-df-convert {\n",
              "      background-color: #E8F0FE;\n",
              "      border: none;\n",
              "      border-radius: 50%;\n",
              "      cursor: pointer;\n",
              "      display: none;\n",
              "      fill: #1967D2;\n",
              "      height: 32px;\n",
              "      padding: 0 0 0 0;\n",
              "      width: 32px;\n",
              "    }\n",
              "\n",
              "    .colab-df-convert:hover {\n",
              "      background-color: #E2EBFA;\n",
              "      box-shadow: 0px 1px 2px rgba(60, 64, 67, 0.3), 0px 1px 3px 1px rgba(60, 64, 67, 0.15);\n",
              "      fill: #174EA6;\n",
              "    }\n",
              "\n",
              "    .colab-df-buttons div {\n",
              "      margin-bottom: 4px;\n",
              "    }\n",
              "\n",
              "    [theme=dark] .colab-df-convert {\n",
              "      background-color: #3B4455;\n",
              "      fill: #D2E3FC;\n",
              "    }\n",
              "\n",
              "    [theme=dark] .colab-df-convert:hover {\n",
              "      background-color: #434B5C;\n",
              "      box-shadow: 0px 1px 3px 1px rgba(0, 0, 0, 0.15);\n",
              "      filter: drop-shadow(0px 1px 2px rgba(0, 0, 0, 0.3));\n",
              "      fill: #FFFFFF;\n",
              "    }\n",
              "  </style>\n",
              "\n",
              "    <script>\n",
              "      const buttonEl =\n",
              "        document.querySelector('#df-edaa2332-371c-409c-830a-5197f3decbb4 button.colab-df-convert');\n",
              "      buttonEl.style.display =\n",
              "        google.colab.kernel.accessAllowed ? 'block' : 'none';\n",
              "\n",
              "      async function convertToInteractive(key) {\n",
              "        const element = document.querySelector('#df-edaa2332-371c-409c-830a-5197f3decbb4');\n",
              "        const dataTable =\n",
              "          await google.colab.kernel.invokeFunction('convertToInteractive',\n",
              "                                                    [key], {});\n",
              "        if (!dataTable) return;\n",
              "\n",
              "        const docLinkHtml = 'Like what you see? Visit the ' +\n",
              "          '<a target=\"_blank\" href=https://colab.research.google.com/notebooks/data_table.ipynb>data table notebook</a>'\n",
              "          + ' to learn more about interactive tables.';\n",
              "        element.innerHTML = '';\n",
              "        dataTable['output_type'] = 'display_data';\n",
              "        await google.colab.output.renderOutput(dataTable, element);\n",
              "        const docLink = document.createElement('div');\n",
              "        docLink.innerHTML = docLinkHtml;\n",
              "        element.appendChild(docLink);\n",
              "      }\n",
              "    </script>\n",
              "  </div>\n",
              "\n",
              "\n",
              "<div id=\"df-863baa47-2a7a-490a-b697-218113b4f426\">\n",
              "  <button class=\"colab-df-quickchart\" onclick=\"quickchart('df-863baa47-2a7a-490a-b697-218113b4f426')\"\n",
              "            title=\"Suggest charts\"\n",
              "            style=\"display:none;\">\n",
              "\n",
              "<svg xmlns=\"http://www.w3.org/2000/svg\" height=\"24px\"viewBox=\"0 0 24 24\"\n",
              "     width=\"24px\">\n",
              "    <g>\n",
              "        <path d=\"M19 3H5c-1.1 0-2 .9-2 2v14c0 1.1.9 2 2 2h14c1.1 0 2-.9 2-2V5c0-1.1-.9-2-2-2zM9 17H7v-7h2v7zm4 0h-2V7h2v10zm4 0h-2v-4h2v4z\"/>\n",
              "    </g>\n",
              "</svg>\n",
              "  </button>\n",
              "\n",
              "<style>\n",
              "  .colab-df-quickchart {\n",
              "      --bg-color: #E8F0FE;\n",
              "      --fill-color: #1967D2;\n",
              "      --hover-bg-color: #E2EBFA;\n",
              "      --hover-fill-color: #174EA6;\n",
              "      --disabled-fill-color: #AAA;\n",
              "      --disabled-bg-color: #DDD;\n",
              "  }\n",
              "\n",
              "  [theme=dark] .colab-df-quickchart {\n",
              "      --bg-color: #3B4455;\n",
              "      --fill-color: #D2E3FC;\n",
              "      --hover-bg-color: #434B5C;\n",
              "      --hover-fill-color: #FFFFFF;\n",
              "      --disabled-bg-color: #3B4455;\n",
              "      --disabled-fill-color: #666;\n",
              "  }\n",
              "\n",
              "  .colab-df-quickchart {\n",
              "    background-color: var(--bg-color);\n",
              "    border: none;\n",
              "    border-radius: 50%;\n",
              "    cursor: pointer;\n",
              "    display: none;\n",
              "    fill: var(--fill-color);\n",
              "    height: 32px;\n",
              "    padding: 0;\n",
              "    width: 32px;\n",
              "  }\n",
              "\n",
              "  .colab-df-quickchart:hover {\n",
              "    background-color: var(--hover-bg-color);\n",
              "    box-shadow: 0 1px 2px rgba(60, 64, 67, 0.3), 0 1px 3px 1px rgba(60, 64, 67, 0.15);\n",
              "    fill: var(--button-hover-fill-color);\n",
              "  }\n",
              "\n",
              "  .colab-df-quickchart-complete:disabled,\n",
              "  .colab-df-quickchart-complete:disabled:hover {\n",
              "    background-color: var(--disabled-bg-color);\n",
              "    fill: var(--disabled-fill-color);\n",
              "    box-shadow: none;\n",
              "  }\n",
              "\n",
              "  .colab-df-spinner {\n",
              "    border: 2px solid var(--fill-color);\n",
              "    border-color: transparent;\n",
              "    border-bottom-color: var(--fill-color);\n",
              "    animation:\n",
              "      spin 1s steps(1) infinite;\n",
              "  }\n",
              "\n",
              "  @keyframes spin {\n",
              "    0% {\n",
              "      border-color: transparent;\n",
              "      border-bottom-color: var(--fill-color);\n",
              "      border-left-color: var(--fill-color);\n",
              "    }\n",
              "    20% {\n",
              "      border-color: transparent;\n",
              "      border-left-color: var(--fill-color);\n",
              "      border-top-color: var(--fill-color);\n",
              "    }\n",
              "    30% {\n",
              "      border-color: transparent;\n",
              "      border-left-color: var(--fill-color);\n",
              "      border-top-color: var(--fill-color);\n",
              "      border-right-color: var(--fill-color);\n",
              "    }\n",
              "    40% {\n",
              "      border-color: transparent;\n",
              "      border-right-color: var(--fill-color);\n",
              "      border-top-color: var(--fill-color);\n",
              "    }\n",
              "    60% {\n",
              "      border-color: transparent;\n",
              "      border-right-color: var(--fill-color);\n",
              "    }\n",
              "    80% {\n",
              "      border-color: transparent;\n",
              "      border-right-color: var(--fill-color);\n",
              "      border-bottom-color: var(--fill-color);\n",
              "    }\n",
              "    90% {\n",
              "      border-color: transparent;\n",
              "      border-bottom-color: var(--fill-color);\n",
              "    }\n",
              "  }\n",
              "</style>\n",
              "\n",
              "  <script>\n",
              "    async function quickchart(key) {\n",
              "      const quickchartButtonEl =\n",
              "        document.querySelector('#' + key + ' button');\n",
              "      quickchartButtonEl.disabled = true;  // To prevent multiple clicks.\n",
              "      quickchartButtonEl.classList.add('colab-df-spinner');\n",
              "      try {\n",
              "        const charts = await google.colab.kernel.invokeFunction(\n",
              "            'suggestCharts', [key], {});\n",
              "      } catch (error) {\n",
              "        console.error('Error during call to suggestCharts:', error);\n",
              "      }\n",
              "      quickchartButtonEl.classList.remove('colab-df-spinner');\n",
              "      quickchartButtonEl.classList.add('colab-df-quickchart-complete');\n",
              "    }\n",
              "    (() => {\n",
              "      let quickchartButtonEl =\n",
              "        document.querySelector('#df-863baa47-2a7a-490a-b697-218113b4f426 button');\n",
              "      quickchartButtonEl.style.display =\n",
              "        google.colab.kernel.accessAllowed ? 'block' : 'none';\n",
              "    })();\n",
              "  </script>\n",
              "</div>\n",
              "\n",
              "    </div>\n",
              "  </div>\n"
            ],
            "application/vnd.google.colaboratory.intrinsic+json": {
              "type": "dataframe",
              "variable_name": "df",
              "summary": "{\n  \"name\": \"df\",\n  \"rows\": 39885,\n  \"fields\": [\n    {\n      \"column\": \"text\",\n      \"properties\": {\n        \"dtype\": \"string\",\n        \"num_unique_values\": 39885,\n        \"samples\": [\n          \"https://example.com/resource/\\u0628\\u0652\\u0644\\u0650\\u063a\\u062a \\u064e\\u062a\\u0633\\u064e\\u064a\\u064a\\u0644\\u0651\\u0627\\u064b\\u062a\\u064d \\u0627\\u0652\\u0644\\u0623\\u0652\\u062c\\u064e\\u0627\\u0646\\u0651\\u0628\\u064e \\u064e\\u0641\\u064a \\u0633\\u064d\\u0648\\u0652\\u0642\\u0650 \\u064e\\u062f\\u0628\\u064a \\u0627\\u0644\\u0645\\u064d\\u0627\\u0650\\u0644\\u064d\\u064a\\u064d \\u0623\\u0645\\u064d\\u0633\\u064e 59\\u064f \\u0645\\u0644\\u064d\\u064a\\u0648\\u0646\\u0627\\u0650\\u064b\\u0652\\u060c \\u0651\\u0641\\u0651\\u0642\\u062f \\u0650\\u0628\\u0652\\u0644\\u064b\\u063a\\u062a \\u064b\\u0642\\u0651\\u064a\\u064f\\u0645\\u0651\\u0629\\u0651 \\u0645\\u064f\\u0634\\u064b\\u062a\\u064f\\u0631\\u0650\\u064a\\u0627\\u062a \\u064e\\u0627\\u0644\\u0652\\u0623\\u062c\\u0627\\u064d\\u0646\\u064d\\u0628\\u064b\\u060c\\u064b \\u063a\\u0652\\u064a\\u0651\\u0631\\u064d \\u0627\\u0652\\u0644\\u0639\\u0631\\u064c\\u0628\\u060c\\u064f \\u0645\\u0650\\u0646\\u0651 \\u064c\\u0627\\u0644\\u0623\\u0633\\u064c\\u0647\\u064d\\u0645 \\u064c\\u062e\\u064f\\u0644\\u0627\\u064c\\u0644\\u064f \\u0647\\u0650\\u0630\\u064e\\u0627 \\u0627\\u064c\\u0644\\u064a\\u0648\\u0650\\u0645 \\u064d\\u0646\\u064b\\u062d\\u064c\\u0648 9\\u064b4\\u064d \\u064e.\\u065113\\u06526 \\u0645\\u0644\\u0652\\u064a\\u064c\\u0648\\u064b\\u0646\\u064c \\u062f\\u0631\\u0647\\u0645 \\u0641\\u064a\\u0651 \\u0652\\u062d\\u0652\\u064a\\u064f\\u0646\\u0651 \\u0628\\u0644\\u063a\\u064e\\u062a\\u064d \\u064b\\u0642\\u064c\\u064a\\u0645\\u0629\\u064c \\u064b\\u0645\\u064b\\u0628\\u064a\\u0639\\u0627\\u062a\\u0647\\u0645\\u064e \\u0646\\u064b\\u062d\\u0648\\u0652 2\\u06500 .22\\u064b6 \\u0650\\u0645\\u064b\\u0644\\u064a\\u0651\\u0648\\u0646 \\u0652\\u062f\\u0631\\u0650\\u0647\\u0645\\u064f .\\u064f \\u0643\\u0645\\u0627 \\u0650\\u0628\\u0644\\u064e\\u063a\\u064b\\u062a \\u0642\\u0652\\u064a\\u0645\\u0629\\u0650 \\u0645\\u064d\\u0634\\u064b\\u062a\\u064c\\u0631\\u0652\\u064a\\u0627\\u062a \\u064b\\u0627\\u0644\\u0645\\u0633\\u064d\\u062a\\u062b\\u064f\\u0645\\u064b\\u0631\\u064b\\u064a\\u064b\\u0646\\u064b \\u0627\\u0644\\u0652\\u0639\\u0650\\u0631\\u0650\\u0628\\u060c\\u064b \\u064f\\u063a\\u064a\\u0631 \\u0651\\u0627\\u0644\\u0652\\u062e\\u0644\\u064d\\u064a\\u064f\\u062c\\u064d\\u064a\\u064a\\u0651\\u0646\\u0650\\u060c\\u0651 \\u062e\\u0644\\u0627\\u0644 \\u0647\\u0650\\u0630\\u0627 \\u0650\\u0627\\u0644\\u0652\\u064a\\u064b\\u0648\\u0645 \\u0646\\u064f\\u062d\\u064d\\u0648\\u064f 07\\u064e .7\\u064c2\\u0650 \\u0645\\u0644\\u064e\\u064a\\u064c\\u0648\\u0646\\u0652 \\u0652\\u062f\\u0631\\u0647\\u064e\\u0645 \\u064d\\u0648\\u0642\\u064b\\u064a\\u0645\\u064c\\u0629\\u064c \\u0645\\u0652\\u0628\\u064e\\u064a\\u064f\\u0639\\u064e\\u0627\\u064b\\u062a\\u0651\\u0647\\u0645 \\u0646\\u062d\\u0648\\u064c \\u065281\\u064b \\u0650.6\\u06504\\u064e \\u064e\\u0645\\u0644\\u064f\\u064a\\u064c\\u0648\\u0646\\u0651 \\u062f\\u064b\\u0631\\u0647\\u064e\\u0645\\u064e .\\u0623\\u064b\\u0645\\u0651\\u0627\\u0652 \\u0652\\u0628\\u0651\\u0627\\u064c\\u0644\\u064e\\u0646\\u064f\\u0633\\u064d\\u0628\\u0629\\u064e \\u064c\\u0644\\u0644\\u0651\\u0645\\u064d\\u0633\\u064c\\u062a\\u064b\\u062b\\u0652\\u0645\\u0631\\u064b\\u064a\\u0646 \\u0652\\u0627\\u0644\\u062e\\u064c\\u0644\\u064a\\u064e\\u062c\\u064a\\u0650\\u064a\\u0646\\u064c \\u064f\\u0641\\u064b\\u0642\\u062f \\u0628\\u0644\\u064b\\u063a\\u0652\\u062a \\u0642\\u064a\\u0645\\u0629 \\u0645\\u0634\\u0652\\u062a\\u064e\\u0631\\u064c\\u064a\\u064f\\u0627\\u064e\\u062a\\u0647\\u0645\\u064b \\u064b9\\u064b1\\u064f \\u0651.4\\u064d3\\u064d \\u0645\\u0650\\u0644\\u064a\\u0648\\u064c\\u0646 \\u064c\\u062f\\u0631\\u0647\\u0645 \\u0641\\u064a\\u064f \\u062d\\u064a\\u0651\\u0646\\u064b \\u064e\\u0628\\u0644\\u064b\\u063a\\u064c\\u062a \\u064b\\u0642\\u064c\\u064a\\u0645\\u064d\\u0629\\u0651 \\u0645\\u0652\\u0628\\u0651\\u064a\\u0652\\u0639\\u0652\\u0627\\u064c\\u062a\\u064c\\u0647\\u0645\\u0652 \\u064f\\u0646\\u064e\\u062d\\u0650\\u0648 4\\u064f8 \\u064f.21\\u064c \\u0645\\u0644\\u064a\\u0648\\u064f\\u0646 \\u064e\\u062f\\u064e\\u0631\\u064d\\u0647\\u064e\\u0645 \\u064e\\u062e\\u0644\\u064c\\u0627\\u0644 \\u0650\\u0646\\u064c\\u0641\\u0633 \\u064f\\u0627\\u0652\\u0644\\u0651\\u0641\\u062a\\u0631\\u0652\\u0629\\u064c .\",\n          \"https://example.com/resource/\\u062f\\u0628\\u0650\\u064a\\u0650 - \\u0625\\u0650\\u0628\\u064d\\u0631\\u0650\\u0627\\u0647\\u064f\\u064a\\u064c\\u0645\\u0652 \\u0651\\u0627\\u0644\\u064f\\u064a\\u064b\\u0648\\u0633\\u0651\\u0641:\\u064e\\u0628\\u064d\\u062d\\u0636\\u0648\\u0652\\u0631\\u0650 \\u0645\\u064e\\u062d\\u064d\\u0645\\u062f\\u064e \\u0627\\u064d\\u0644\\u0645\\u0652\\u0631\\u060c \\u0631\\u0626\\u064a\\u0633\\u0651 \\u0627\\u0644\\u0645\\u064c\\u062c\\u064c\\u0644\\u064b\\u0633 \\u0627\\u064c\\u0644\\u0648\\u064d\\u0637\\u064b\\u0646\\u064f\\u064a\\u064d \\u0627\\u0644\\u064e\\u0627\\u062a\\u064b\\u062d\\u0652\\u0627\\u062f\\u064a\\u0650\\u060c\\u064e \\u0648\\u0650\\u0627\\u0651\\u0644\\u064c\\u0642\\u0646\\u0652\\u0635\\u0644 \\u0627\\u0644\\u0639\\u0627\\u0652\\u0645\\u0650 \\u064b\\u0627\\u064d\\u0644\\u0651\\u0643\\u0651\\u0648\\u064a\\u0651\\u062a\\u064e\\u064a\\u064c\\u060c \\u0630\\u064d\\u064a\\u064c\\u0627\\u0628\\u0651 \\u0651\\u0641\\u0631\\u062d\\u0627\\u064e\\u0646 \\u064c\\u0627\\u0652\\u0644\\u0631\\u0634\\u064a\\u0652\\u062f\\u064a\\u0651\\u060c \\u064b\\u0648\\u0633\\u064e\\u0644\\u0651\\u0637\\u0627\\u064b\\u0646\\u064d \\u0627\\u064c\\u0644\\u0652\\u0633\\u0648\\u064f\\u064a\\u062f\\u064d\\u064a \\u064d\\u0631\\u0652\\u0626\\u064a\\u064b\\u0633\\u0652 \\u0645\\u062c\\u064b\\u0644\\u064d\\u0633\\u0650 \\u0625\\u062f\\u0631\\u064d\\u0627\\u0629 \\u0646\\u064b\\u062f\\u0648\\u064e\\u0629\\u064b \\u0627\\u064b\\u0644\\u064c\\u062b\\u0642\\u0627\\u064d\\u0641\\u0629\\u064e \\u064e\\u0648\\u0627\\u064e\\u0644\\u0639\\u0644\\u0648\\u0645\\u060c \\u0648\\u0623\\u0639\\u0652\\u0636\\u0652\\u0627\\u0621 \\u0650\\u0645\\u064d\\u062c\\u064d\\u0644\\u064b\\u0633\\u0650 \\u0627\\u0644\\u0625\\u0651\\u062f\\u0652\\u0627\\u0631\\u064e\\u0629\\u064d\\u060c \\u0625\\u0652\\u0636\\u0627\\u0650\\u0641\\u0629\\u064d \\u0625\\u0644\\u0650\\u0649\\u064f \\u0637\\u0650\\u064a\\u064f\\u0641\\u064b \\u0648\\u0627\\u0633\\u064f\\u0639 \\u0650\\u0648\\u064d\\u0644\\u0627\\u0641\\u0652\\u062a \\u0645\\u0646\\u0651 \\u064d\\u0627\\u0644\\u064e\\u0643\\u0651\\u062a\\u0651\\u064c\\u0627\\u0651\\u0628\\u0650 \\u0648\\u064d\\u0627\\u064b\\u0644\\u0645\\u062b\\u064e\\u0642\\u0641\\u064b\\u064a\\u0646 \\u0648\\u0650\\u0627\\u0644\\u0625\\u0639\\u064e\\u0644\\u0627\\u0645\\u064a\\u064a\\u064d\\u0646 \\u0645\\u064c\\u0646\\u064d \\u0627\\u064e\\u0644\\u0650\\u0628\\u064d\\u0644\\u062f\\u064a\\u0646 . \\u0634\\u0647\\u062f\\u062a\\u064f \\u064e\\u0627\\u064d\\u0644\\u0652\\u0646\\u0650\\u062f\\u0648\\u064c\\u0629\\u064f\\u060c\\u064d \\u0645\\u064c\\u0633\\u0627\\u0621 \\u0650\\u0623\\u0645\\u0633\\u064b \\u0651\\u0627\\u064b\\u0644\\u0652\\u0623\\u064e\\u0648\\u064e\\u0644\\u060c\\u064b \\u0650\\u0627\\u0652\\u062e\\u062a\\u064e\\u062a\\u0652\\u0627\\u0645\\u0651 \\u0641\\u0639\\u0627\\u064e\\u0644\\u064a\\u0627\\u062a\\u064b \\u064e\\u0645\\u0647\\u0650\\u0631\\u064b\\u062c\\u0650\\u0627\\u0646\\u064f \\u064d\\\"\\u064c\\u0643\\u0648\\u0650\\u064a\\u062a\\u064e \\u0627\\u0644\\u0633\\u0644\\u0627\\u064e\\u0645 - \\u0625\\u064b\\u0645\\u0652\\u0627\\u0631\\u064f\\u0627\\u062a \\u064c\\u0627\\u064f\\u0644\\u0650\\u0648\\u064d\\u0641\\u0627\\u0621\\u0650\\\"\\u060c\\u064e \\u0628\\u064c\\u0631\\u0639\\u064d\\u0627\\u064a\\u064d\\u0629 \\u0648\\u064f\\u062a\\u0646\\u0638\\u064a\\u064f\\u0645 \\u0647\\u064a\\u0626\\u0629 \\u062f\\u064b\\u0628\\u064a\\u0652 \\u0644\\u0644\\u064b\\u062b\\u064d\\u0642\\u0627\\u0641\\u0651\\u0629 \\u0648\\u0627\\u0644\\u0652\\u0641\\u0646\\u0648\\u0646 \\u0628\\u0627\\u064c\\u0644\\u062a\\u0639\\u0627\\u0648\\u064d\\u0646 \\u064f\\u0645\\u0650\\u0639\\u064b \\u064c\\u0627\\u0644\\u0642\\u0652\\u0646\\u0635\\u0652\\u0644\\u064b\\u064a\\u064c\\u0629 \\u064c\\u0627\\u0651\\u0644\\u064b\\u0639\\u0627\\u064c\\u0645\\u0629\\u064d \\u0644\\u0650\\u062f\\u0652\\u0648\\u064b\\u0644\\u064b\\u0629\\u064c \\u0652\\u0627\\u0651\\u0644\\u0643\\u0648\\u064a\\u062a \\u064c\\u0641\\u0650\\u064a\\u064f \\u064e\\u0625\\u064d\\u0645\\u0651\\u0627\\u064e\\u0631\\u0629\\u064f \\u062f\\u064c\\u0628\\u064f\\u064a\\u060c\\u0652 \\u0648\\u0651\\u062a\\u0636\\u0645\\u064c\\u0646\\u0651 \\u064d\\u0641\\u0639\\u064d\\u0627\\u064f\\u0644\\u064d\\u064a\\u064e\\u0627\\u062a \\u064f\\u062b\\u0642\\u0651\\u0627\\u064f\\u0641\\u064a\\u0629\\u064e \\u0641\\u0646\\u064a\\u0652\\u0629\\u0650\\u060c \\u0650\\u0648\\u063a\\u064a\\u0631\\u0647\\u0650\\u0627\\u0651 \\u064d.\\u0648\\u0651\\u062a\\u0652\\u0636\\u064c\\u0645\\u0646\\u0651\\u062a\\u064b \\u064e\\u0627\\u0644\\u0641\\u0651\\u0639\\u064e\\u0627\\u0644\\u064d\\u064a\\u0627\\u064c\\u062a\\u0650 \\u0650\\u0639\\u064e\\u0631\\u0636 \\u0641\\u064a\\u0644\\u064f\\u0645 \\u0652\\u0648\\u064b\\u062b\\u0627\\u064e\\u0626\\u064f\\u0642\\u064f\\u064a\\u064f \\u0639\\u064e\\u0646\\u064f \\u064f\\u0627\\u0644\\u062a\\u064d\\u0639\\u064c\\u0627\\u0648\\u064d\\u0646\\u0650 \\u064d\\u0627\\u064c\\u0644\\u0623\\u062e\\u0648\\u064a \\u064f\\u0628\\u0651\\u064a\\u0652\\u0646\\u064b \\u0652\\u0627\\u0644\\u064e\\u0628\\u0644\\u064f\\u062f\\u0650\\u064a\\u064d\\u0646\\u064b \\u0651\\u0627\\u0650\\u0644\\u0634\\u0642\\u0651\\u064a\\u064c\\u0642\\u064e\\u064a\\u0646\\u0650\\u060c \\u064d\\u0642\\u0631\\u0623\\u0651 \\u064c\\u0628\\u0650\\u0639\\u064f\\u062f \\u064b\\u0630\\u064f\\u0644\\u0651\\u0643\\u064f \\u0651\\u0639\\u0628\\u064f\\u062f\\u0627\\u0650\\u0644\\u0644\\u0647 \\u064f\\u0627\\u0644\\u064c\\u0645\\u0637\\u0651\\u064a\\u0631\\u064d\\u064a\\u0650 \\u0643\\u064e\\u0644\\u0645\\u0652\\u0629\\u064c \\u0647\\u064a\\u0650\\u0626\\u0629 \\u062f\\u0628\\u064b\\u064a\\u064e \\u0644\\u0644\\u064b\\u062b\\u0642\\u0627\\u0641\\u0629\\u060c\\u064f \\u062a\\u062d\\u064f\\u062f\\u062b\\u064e \\u064c\\u0641\\u064a\\u0652\\u0647\\u0652\\u0627\\u064c \\u0639\\u0652\\u0646 \\u064f\\u0627\\u0652\\u0644\\u0639\\u0650\\u0644\\u0627\\u0642\\u0627\\u062a \\u0651\\u0627\\u0651\\u0644\\u064d\\u062b\\u0642\\u0650\\u0627\\u0641\\u064a\\u0651\\u0629 \\u0628\\u064b\\u064a\\u0646 \\u064e\\u0627\\u0644\\u0628\\u064b\\u0644\\u0651\\u062f\\u0652\\u064a\\u064d\\u0646\\u064c\\u060c \\u0648\\u064e\\u0643\\u064e\\u064a\\u0651\\u0641 \\u0623\\u0646 \\u0627\\u064e\\u0644\\u064d\\u0643\\u0648\\u064e\\u064a\\u0650\\u062a \\u062f\\u0639\\u0645\\u0651\\u062a\\u064d \\u0650\\u0627\\u0644\\u062d\\u0631\\u0652\\u0643\\u064b\\u0629\\u064b \\u0627\\u064d\\u0644\\u062b\\u0652\\u0642\\u064c\\u0627\\u0641\\u064a\\u0652\\u0629\\u0652 \\u064d\\u0648\\u0627\\u0650\\u0644\\u0651\\u062a\\u0639\\u0651\\u0644\\u064a\\u064f\\u0645\\u064a\\u0629 \\u0641\\u064a \\u0627\\u0644\\u0625\\u0645\\u0627\\u064e\\u0631\\u0627\\u064c\\u062a\\u060c\\u064d \\u064d\\u0648\\u0651\\u0623\\u064f\\u0646\\u064e\\u0634\\u0623\\u062a\\u0651 \\u0641\\u064a\\u064e\\u0647\\u0651\\u0627 \\u064b\\u0627\\u064c\\u0644\\u064f\\u0645\\u064f\\u062f\\u0627\\u064f\\u0631\\u0651\\u0633\\u064b\\u060c\\u0652 \\u064c\\u0625\\u0644\\u064f\\u0649 \\u0651\\u062c\\u0627\\u064b\\u0646\\u0650\\u0628 \\u064c\\u063a\\u0652\\u064a\\u064e\\u0631\\u0647\\u0650\\u0627\\u064c \\u0645\\u0646\\u064c \\u0650\\u0627\\u0644\\u0645\\u064c\\u0631\\u064d\\u0627\\u0641\\u064e\\u0642 \\u0627\\u0651\\u0644\\u0636\\u0631\\u0652\\u0648\\u0631\\u064d\\u064a\\u0650\\u0629\\u064e .\\u064c\\u0628\\u064c\\u0639\\u064b\\u062f\\u0652 \\u0630\\u064f\\u0644\\u0643 \\u0628\\u062f\\u0623\\u0650\\u062a \\u0641\\u064f\\u0639\\u0650\\u0627\\u064c\\u0644\\u064a\\u0627\\u0651\\u062a \\u0627\\u0644\\u064d\\u0646\\u0652\\u062f\\u0648\\u064c\\u0629 \\u0651\\u0627\\u0651\\u0644\\u064b\\u062a\\u064e\\u064a \\u064f\\u0623\\u062f\\u064e\\u0627\\u064c\\u0631\\u0647\\u0627 \\u0651\\u0639\\u0644\\u064e\\u064a\\u064c \\u064c\\u0639\\u064f\\u0628\\u064f\\u064a\\u0651\\u062f \\u0627\\u0644\\u064f\\u0647\\u0650\\u0627\\u0650\\u0645\\u0644\\u064d\\u064a\\u0651\\u060c\\u0651 \\u0652\\u0628\\u0639\\u0651\\u0646\\u064e\\u0648\\u064c\\u0627\\u0651\\u0646 \\\"\\u0650\\u0645\\u0633\\u064a\\u0631\\u064b\\u0629 \\u0627\\u064e\\u0644\\u0652\\u0639\\u0652\\u0644\\u0627\\u064e\\u0642\\u0627\\u062a\\u0651 \\u0627\\u0650\\u0644\\u0625\\u0645\\u0627\\u0652\\u0631\\u0627\\u062a\\u064a\\u0629\\u0651 \\u064b- \\u064c\\u0627\\u0651\\u0644\\u0652\\u0643\\u0648\\u064a\\u062a\\u064e\\u064a\\u064b\\u0629\\\" \\u0648\\u064b\\u0634\\u0627\\u0631\\u0643 \\u064c\\u0641\\u064c\\u064a\\u0647\\u064e\\u0627\\u0651 \\u0643\\u0644\\u064b \\u064e\\u0645\\u0646\\u0651 \\u0650\\u062f\\u0652 . \\u0639\\u0652\\u0628\\u062f\\u0650\\u0627\\u0652\\u0644\\u0644\\u064f\\u0647\\u064c \\u0627\\u0644\\u063a\\u064c\\u0646\\u064a\\u0645 \\u064e(\\u0651\\u0627\\u0644\\u0643\\u0648\\u064f\\u064a\\u064f\\u062a)\\u064f \\u064e\\u0648\\u0628\\u0644\\u0627\\u0644\\u064f \\u0651\\u0627\\u0652\\u0644\\u064f\\u0628\\u0652\\u062f\\u064b\\u0648\\u0631\\u064c \\u0646\\u064b\\u0627\\u064b\\u0626\\u0628 \\u0631\\u064d\\u0626\\u064a\\u064c\\u0633\\u064f \\u0645\\u062c\\u064e\\u0644\\u0633 \\u0625\\u062f\\u0650\\u0627\\u0652\\u0631\\u0652\\u0629\\u064d \\u064d\\u0646\\u064d\\u062f\\u064b\\u0648\\u0629\\u064f \\u0627\\u0644\\u062b\\u0642\\u0627\\u0641\\u0629\\u064e \\u0650\\u0627\\u0644\\u064d\\u0639\\u0652\\u0644\\u064d\\u0648\\u0645\\u064c\\u060c \\u062d\\u0652\\u064a\\u0650\\u062b \\u064d\\u0633\\u0650\\u0644\\u0637\\u064f \\u064b\\u0627\\u0644\\u0647\\u064e\\u0627\\u064c\\u0645\\u064c\\u0644\\u064a \\u0650\\u0627\\u0644\\u0636\\u0648\\u0621\\u064d \\u0639\\u0650\\u0644\\u064b\\u0649\\u0650 \\u0650\\u0627\\u0651\\u0644\\u0633\\u0652\\u064a\\u0631\\u0651\\u0629\\u064b \\u064f\\u0627\\u064b\\u0644\\u064b\\u0645\\u064e\\u0639\\u064b\\u0631\\u0641\\u064a\\u0629\\u0650 \\u064b\\u0644\\u064c\\u0643\\u064b\\u0644\\u064e\\u0627\\u064d \\u0627\\u0650\\u0644\\u0650\\u0643\\u0651\\u0627\\u064e\\u062a\\u0628\\u064a\\u0646 \\u062f .\\u064b \\u064c\\u0627\\u0644\\u0651\\u063a\\u064e\\u0646\\u064d\\u064a\\u064b\\u0645 \\u0650\\u0648\\u0651\\u0627\\u064f\\u0644\\u0628\\u0652\\u062f\\u0648\\u064e\\u0631 .\\u0651 \\u064d\\u0648\\u064b\\u0645\\u0645\\u0627\\u0652 \\u0642\\u0627\\u0644\\u0647 \\u0651\\u0627\\u064e\\u0644\\u0647\\u0627\\u0651\\u0645\\u064b\\u0644\\u064a\\u0651 \\u0641\\u064a\\u064e \\u0645\\u064c\\u0642\\u0651\\u062f\\u0652\\u0645\\u062a\\u0652\\u0647:\\u0651 \\u064b\\u0627\\u0644\\u0643\\u0648\\u064a\\u064b\\u062a \\u064f\\u062a\\u064d\\u0631\\u0643\\u062a \\u0628\\u064c\\u0635\\u0645\\u064d\\u0627\\u064e\\u062a\\u0651\\u0647\\u064c\\u0627\\u064d \\u0639\\u0645\\u064a\\u0651\\u0642\\u064f\\u0627\\u064b\\u064b \\u0639\\u064d\\u0644\\u064c\\u064a\\u0646\\u0627 \\u064c\\u0641\\u064a \\u062f\\u0648\\u0644\\u0651\\u0629 \\u064b\\u0627\\u064d\\u0644\\u064c\\u0625\\u064e\\u0645\\u0627\\u064b\\u0631\\u0627\\u062a\\u060c\\u064e \\u0652\\u0648\\u064c\\u0623\\u0643\\u064e\\u0628\\u0651\\u0631 \\u064c\\u062f\\u0644\\u064a\\u0644\\u064f \\u0650\\u0639\\u0644\\u064d\\u0649\\u064e \\u0650\\u0630\\u0644\\u0643\\u0650 \\u064f\\u0623\\u0651\\u0646 \\u0647\\u0646\\u0627\\u0643\\u064f \\u0652\\u062c\\u064a\\u064e\\u0644\\u064d\\u0627\\u0652\\u064b \\u0625\\u0645\\u0627\\u064f\\u0631\\u064f\\u0627\\u062a\\u064a\\u064d\\u0627\\u064b\\u064f \\u0652\\u0643\\u0627\\u0645\\u064b\\u0644\\u064d\\u0627\\u064d\\u064b\\u064f \\u062a\\u064e\\u0641\\u062a\\u062d\\u0651\\u062a\\u0651 \\u064b\\u0645\\u0650\\u062f\\u0652\\u0627\\u0631\\u0652\\u0643\\u0647\\u064b \\u0639\\u0644\\u0652\\u0649 \\u0651\\u0645\\u064b\\u0627\\u064e \\u0628\\u062b\\u064f\\u062a\\u064c\\u0647\\u064d \\u0627\\u064c\\u0644\\u0650\\u0643\\u064c\\u0648\\u064a\\u062a \\u0652\\u0645\\u0651\\u0646\\u064b \\u064b\\u062a\\u0639\\u0644\\u064a\\u064e\\u0645 \\u064d\\u0648\\u064f\\u062b\\u064c\\u0642\\u0627\\u0641\\u0651\\u0629\\u064d \\u0641\\u064a\\u064d \\u064c\\u0627\\u0644\\u0625\\u064c\\u0645\\u0651\\u0627\\u064b\\u0631\\u0627\\u064c\\u062a\\u064c\\u060c\\u064f \\u0650\\u062c\\u064a\\u0644 \\u0650\\u0643\\u064b\\u0627\\u064f\\u0645\\u0644\\u060c\\u0651 \\u064c\\u062a\\u0652\\u0639\\u0644\\u0645 \\u0648\\u0641\\u0652\\u0642 \\u0651\\u0645\\u0651\\u0646\\u064d\\u0627\\u0650\\u0647\\u064c\\u062c\\u064f \\u0627\\u0644\\u0643\\u0652\\u0648\\u064a\\u062a \\u0627\\u064c\\u0644\\u062a\\u0639\\u0644\\u064a\\u064c\\u0645\\u064c\\u064a\\u064d\\u0629 \\u064c.\\u064e\\u0648\\u0623\\u0634\\u0627\\u0651\\u062f\\u064d \\u064e\\u062f \\u064e.\\u064d \\u0627\\u064e\\u0644\\u063a\\u0646\\u064b\\u064a\\u0645 \\u0650\\u0628\\u0627\\u064c\\u0644\\u062d\\u064a\\u0627\\u0629\\u0650 \\u0651\\u0627\\u0644\\u062a\\u0652\\u0639\\u064b\\u0644\\u064a\\u064f\\u0645\\u064a\\u0629\\u064f \\u0627\\u0644\\u062b\\u0642\\u064b\\u0627\\u064f\\u0641\\u0651\\u064a\\u0629\\u0650 \\u0652\\u0641\\u064e\\u064a\\u064e \\u064f\\u0627\\u0644\\u064c\\u0625\\u0645\\u064b\\u0627\\u0631\\u064c\\u0627\\u062a\\u060c\\u064d \\u0651\\u0648\\u064c\\u0631\\u0623\\u0649\\u064f \\u064e\\u0623\\u064e\\u0646\\u0651\\u0647\\u0627\\u064e \\u062c\\u062f \\u0652\\u0645\\u062a\\u0637\\u0648\\u0631\\u064d\\u0629\\u0652\\u060c\\u0650 \\u0648\\u064e\\u0623\\u0650\\u062f\\u064c\\u0644\\u0649\\u0652 \\u0651\\u0628\\u0623\\u064c\\u0645\\u062b\\u0650\\u0644\\u0629 \\u064c\\u0645\\u0647\\u0651\\u0645\\u0629\\u064f \\u0650\\u0639\\u064f\\u0644\\u0651\\u0649 \\u0630\\u0650\\u0644\\u064e\\u0643\\u064c\\u060c\\u064c \\u0648\\u064c\\u0645\\u064d\\u0646\\u0647\\u0627 \\u0651\\u0623\\u0646 \\u0627\\u0650\\u0644\\u064e\\u0643\\u062b\\u064b\\u064a\\u0631\\u064a\\u064b\\u0646\\u064e \\u064c\\u0645\\u0646\\u0650 \\u0623\\u0628\\u064c\\u0646\\u064e\\u0627\\u0621\\u064f \\u0650\\u0627\\u0644\\u064b\\u0643\\u0648\\u064e\\u064a\\u0650\\u062a \\u0628\\u0627\\u062a\\u064b\\u0648\\u0627 \\u064a\\u064e\\u062a\\u0652\\u0627\\u0652\\u0628\\u0639\\u0650\\u0648\\u0652\\u0646 \\u0652\\u062a\\u062d\\u0652\\u0635\\u064a\\u0644\\u0647\\u0650\\u0645\\u0651 \\u064d\\u0627\\u0651\\u0644\\u0645\\u0639\\u064d\\u0631\\u064f\\u0641\\u064e\\u064a\\u064d \\u064d\\u0641\\u064c\\u064a \\u062c\\u064f\\u0627\\u064e\\u0645\\u0639\\u064d\\u0627\\u064b\\u062a \\u0627\\u0652\\u0644\\u0625\\u0645\\u0650\\u0627\\u0631\\u0627\\u062a\\u0652\\u060c\\u064e \\u0645\\u0646\\u0650 \\u062f\\u064f\\u0648\\u0646\\u064b \\u064e\\u0623\\u064e\\u0646 \\u064f\\u064a\\u064f\\u0634\\u064f\\u0639\\u064f\\u0631\\u0651\\u0648\\u064d\\u0627 \\u0625\\u0644\\u064d\\u0627\\u0650 \\u0628\\u0651\\u0623\\u0646\\u064b\\u0647\\u064c\\u0645\\u064b \\u0641\\u0650\\u064a \\u0628\\u064b\\u064a\\u0648\\u062a\\u0650\\u0647\\u064e\\u0645\\u0651\\u060c \\u0652\\u0648\\u0647\\u0648\\u064e \\u064f\\u0645\\u062f\\u064c\\u0639\\u064c\\u0627\\u064e\\u0629\\u0651 \\u064d\\u0633\\u064b\\u0639\\u0627\\u0650\\u062f\\u0629 \\u064d\\u0623\\u0633\\u0631\\u064d\\u0647\\u0645\\u0651\\u060c \\u0628\\u0652\\u0644 \\u0650\\u0628\\u0644\\u0651\\u062f\\u0647\\u0645\\u064b \\u064d\\u0628\\u0643\\u0627\\u064d\\u0645\\u064d\\u0644\\u0647 \\u064f.\\u0648\\u0642\\u0627\\u0644: \\u0644\\u0645\\u064f \\u064f\\u0623\\u064c\\u0631\\u062f\\u064c \\u064c\\u0623\\u0646\\u0650 \\u064d\\u0623\\u0633\\u064e\\u0645\\u064e\\u064a\\u0652 \\u0646\\u064e\\u062f\\u0650\\u0648\\u062a\\u0650\\u0646\\u0627 \\u0647\\u064b\\u0630\\u0651\\u0647\\u064f \\u0628\\u0627\\u0644\\u062d\\u0648\\u0651\\u0627\\u0652\\u0631\\u064b\\u064a\\u0629\\u0651\\u060c\\u064c \\u0628\\u0650\\u064a\\u0650\\u0646 \\u0645\\u0652\\u062b\\u064e\\u0642\\u0652\\u0641\\u064d\\u064a\\u0650\\u0646\\u0651 \\u0645\\u0650\\u0646\\u064d \\u0628\\u0644\\u062f\\u064a\\u064e\\u0646\\u0627:\\u064b \\u064b\\u0627\\u0644\\u064e\\u0643\\u0648\\u0650\\u064a\\u062a\\u0652 \\u0652\\u0648\\u0627\\u0652\\u0644\\u0625\\u0645\\u064c\\u0627\\u0631\\u0627\\u064c\\u062a\\u060c\\u064f \\u064b\\u0644\\u0623\\u0646 \\u0627\\u0644\\u062d\\u0648\\u064f\\u0627\\u0652\\u0631\\u060c\\u064f \\u0650\\u064a\\u062a\\u0645 \\u064c\\u0639\\u064f\\u0627\\u0650\\u062f\\u0629\\u064d\\u060c \\u0652\\u0628\\u064a\\u064e\\u0646\\u064c \\u0645\\u0650\\u0646\\u064b \\u0652\\u0647\\u064b\\u0645\\u064d \\u0645\\u062e\\u062a\\u064d\\u0644\\u0641\\u0648\\u0646\\u060c \\u0628\\u064a\\u0646 \\u0650\\u0645\\u064c\\u0646 \\u062a\\u064c\\u0643\\u0650\\u0648\\u0646\\u064c \\u064e\\u0647\\u064f\\u0646\\u0627\\u0643 \\u062a\\u0646\\u0627\\u0642\\u0650\\u0636\\u0627\\u062a \\u064b\\u0641\\u064f\\u064a\\u0651\\u0645\\u0627\\u064b \\u0650\\u0628\\u064a\\u0646\\u0652\\u0647\\u0645\\u060c \\u0625\\u0651\\u0646\\u0646\\u064e\\u0627\\u0650 \\u0650\\u0646\\u062a\\u062d\\u062f\\u064c\\u062b \\u064b\\u0636\\u0652\\u0645\\u0646 \\u0652\\u0625\\u0637\\u0652\\u0627\\u0650\\u0631\\u0651 \\u064c\\u0627\\u064c\\u0644\\u064e\\u0628\\u064e\\u064a\\u064b\\u062a\\u0650 \\u064c\\u0627\\u0644\\u0648\\u0652\\u0627\\u062d\\u0651\\u062f\\u060c \\u064f\\u0636\\u064e\\u0645\\u064c\\u0646\\u0650 \\u0625\\u0637\\u0627\\u0631 \\u0627\\u0644\\u064b\\u0623\\u0633\\u064c\\u0631\\u064f\\u0629 \\u0627\\u0644\\u0652\\u0648\\u0650\\u0627\\u062d\\u062f\\u0629\\u060c\\u0651 \\u0648\\u064f\\u0647\\u0646\\u064b\\u0627\\u0650 \\u0627\\u0650\\u0644\\u0641\\u0631\\u0642\\u064f \\u0628\\u064b\\u064a\\u0646\\u064c \\u064c\\u0637\\u064d\\u0628\\u064a\\u0639\\u0629 \\u0651\\u062d\\u062f\\u064a\\u064f\\u062b\\u0646\\u0651\\u0627\\u060c\\u0652 \\u0648\\u0635\\u0641\\u0629\\u064b \\u0627\\u0644\\u062d\\u0650\\u0648\\u0627\\u0631\\u0652 \\u0650.\\u0651\\u0648\\u062a\\u0627\\u0628\\u0651\\u0639\\u064b \\u062f . \\u0627\\u064f\\u0644\\u063a\\u0646\\u064a\\u064f\\u0645 \\u064f\\u0642\\u0651\\u0627\\u0626\\u0644\\u0627\\u064d\\u064b:\\u064d \\u0650\\u0645\\u0652\\u0631\\u0643\\u0650\\u0632 \\u0627\\u064c\\u0644\\u064b\\u0628\\u062d\\u0648\\u064c\\u062b \\u064e\\u0648\\u0627\\u064d\\u0644\\u062f\\u0631\\u064b\\u0627\\u064f\\u0633\\u0627\\u062a\\u0650 \\u0627\\u064c\\u0644\\u0643\\u0650\\u0648\\u064a\\u0650\\u062a\\u064c\\u064a\\u064b \\u064c\\u062c\\u0651\\u0645\\u064b\\u0639\\u0651 \\u0623\\u064d\\u0643\\u0650\\u062b\\u0651\\u0631 \\u064b\\u0645\\u0646 \\u064e\\u0645\\u0644\\u064b\\u064a\\u0648\\u064e\\u0646\\u064f\\u064a \\u0648\\u064e\\u062b\\u0651\\u064a\\u064d\\u0642\\u0629\\u064c \\u0639\\u0646 \\\"\\u0627\\u0644\\u062c\\u064b\\u0646\\u0648\\u064e\\u0628 \\u0648\\u0651\\u0627\\u064e\\u0644\\u062e\\u0644\\u0650\\u064a\\u064f\\u062c\\\"\\u064e\\u060c\\u0651 \\u0648\\u0645\\u064d\\u0646 \\u0628\\u064c\\u064a\\u064b\\u0646\\u064f\\u0647\\u0627\\u064f \\u0648\\u064e\\u062b\\u0627\\u0626\\u0642\\u0652 \\u064f\\u0645\\u0647\\u0650\\u0645\\u064e\\u0629 \\u0639\\u0646 \\u0645\\u0641\\u064c\\u0627\\u0635\\u0644 \\u064b\\u0627\\u0644\\u064f\\u0628\\u0652\\u0646\\u064a\\u0629\\u064c \\u064d\\u0627\\u0652\\u0644\\u0651\\u062a\\u064f\\u062d\\u064c\\u062a\\u064a\\u064e\\u0629 \\u064e\\u0641\\u064a \\u0627\\u0644\\u0650\\u0625\\u0645\\u064c\\u0627\\u064b\\u0631\\u064b\\u0627\\u0652\\u062a\\u064a\\u064f\\u0629\\u060c\\u064b \\u0648\\u064f\\u0646\\u064b\\u0634\\u064d\\u0623\\u064d\\u0629 \\u0645\\u062f\\u0627\\u0631\\u0633\\u0647\\u064e\\u0627\\u060c \\u0648\\u062d\\u064a\\u0627\\u062a\\u0650\\u0647\\u0627 \\u0627\\u0644\\u062b\\u064e\\u0642\\u0627\\u0641\\u064a\\u0629\\u0650\\u060c \\u064d\\u0648\\u0652\\u0641\\u064a \\u0647\\u0630\\u0650\\u0647 \\u0627\\u0651\\u0644\\u0648\\u062b\\u064b\\u0627\\u0626\\u0651\\u0642 \\u0650\\u0645\\u0639\\u0644\\u0648\\u064d\\u0645\\u0650\\u0627\\u064e\\u062a \\u062c\\u0651\\u062f \\u0645\\u0647\\u0645\\u0629\\u0652 \\u064b\\u0639\\u0651\\u0646 \\u064f\\u0646\\u0634\\u0623\\u0629\\u0651 \\u0627\\u0652\\u0644\\u064b\\u0645\\u062f\\u0650\\u0627\\u064c\\u0631\\u0633\\u060c\\u0652 \\u064c\\u0648\\u064c\\u062d\\u0651\\u062a\\u0649\\u064c \\u0623\\u0633\\u064b\\u0645\\u064e\\u0627\\u0621 \\u0651\\u0627\\u0644\\u0637\\u0644\\u0651\\u0628\\u0629\\u060c \\u0648\\u064b\\u0627\\u064e\\u0644\\u064d\\u0645\\u062f\\u064b\\u0631\\u0633\\u064c\\u064a\\u0646\\u060c\\u0652 \\u064b\\u0648\\u0643\\u0652\\u064a\\u0641\\u064a\\u064f\\u0629\\u064c \\u0628\\u064b\\u062f\\u0650\\u0627\\u064f\\u064a\\u0627\\u0652\\u062a\\u064c \\u0639\\u0652\\u0645\\u0650\\u0644\\u064e\\u064a\\u0652\\u0629\\u064d \\u0627\\u0644\\u062a\\u0639\\u0644\\u064a\\u0645\\u064f \\u064f. . \\u064d\\u0625\\u0644\\u064f\\u062e\\u0652\\u060c \\u064c\\u0648\\u0647\\u0646\\u064d\\u0627\\u0643\\u0651 \\u064b\\u0645\\u0646 \\u0651\\u0646\\u064f\\u0627\\u064f\\u0644\\u0652 \\u064b\\u0634\\u0647\\u0650\\u0627\\u062f\\u0629\\u064c \\u0650\\u0627\\u0644\\u062f\\u0650\\u0643\\u062a\\u064e\\u0648\\u0631\\u0651\\u0627\\u0647 \\u0645\\u064c\\u0646\\u0651 \\u062e\\u064f\\u0644\\u064b\\u0627\\u0651\\u0644\\u064f \\u064f\\u0642\\u0652\\u0631\\u0627\\u0621\\u0652\\u0629 \\u064e\\u0627\\u0644\\u064d\\u0639\\u064b\\u0644\\u064e\\u0627\\u0642\\u0627\\u064c\\u062a \\u0627\\u0652\\u0644\\u0623\\u0650\\u062e\\u0648\\u064d\\u064a\\u064e\\u0629 \\u064d\\u0628\\u064a\\u0646 \\u064e\\u0627\\u0644\\u064f\\u0628\\u064e\\u0644\\u062f\\u064a\\u064c\\u0646 \\u0652.\\u0652\\u0648\\u062c\\u0627\\u0621\\u064e \\u062d\\u064d\\u062f\\u064d\\u064a\\u064d\\u062b\\u064f \\u0627\\u064f\\u0644\\u0651\\u0628\\u0652\\u062f\\u064c\\u0648\\u0631\\u064e \\u064e\\u0628\\u0645\\u0627 \\u064a\\u064f\\u0634\\u0650\\u0628\\u0647 \\u064f\\u0627\\u064f\\u0644\\u0652\\u0634\\u0650\\u0647\\u0627\\u062f\\u064e\\u0629\\u064e\\u060c \\u0645\\u0646 \\u064c\\u0642\\u064e\\u0628\\u0644\\u064e \\u0652\\u0623\\u062d\\u064e\\u062f\\u064f \\u0651\\u0623\\u064c\\u0628\\u064f\\u0646\\u0627\\u0621 \\u064d\\u0627\\u0644\\u064c\\u062c\\u064a\\u064d\\u0644 \\u0627\\u064d\\u0644\\u064e\\u0630\\u064a\\u064d \\u064f\\u0641\\u062a\\u0651\\u062d \\u0639\\u064a\\u0646\\u064a\\u064b\\u0647\\u064b \\u0650\\u0639\\u064b\\u0644\\u064d\\u0649\\u0650 \\u0627\\u0644\\u0645\\u0646\\u0627\\u064f\\u0647\\u064b\\u062c \\u0627\\u0652\\u0644\\u0651\\u062a\\u0639\\u0644\\u064f\\u064a\\u0645\\u064a\\u0629 \\u0627\\u0644\\u0651\\u0643\\u064f\\u0648\\u0650\\u064a\\u062a\\u064a\\u0629\\u064e \\u0627\\u0650\\u0644\\u062a\\u064a\\u064b \\u064e\\u062a\\u0645 \\u062a\\u064b\\u062f\\u0650\\u0631\\u064a\\u064f\\u0633\\u0650\\u0647\\u064e\\u0627\\u064b \\u0641\\u0651\\u064a\\u064d \\u0627\\u064f\\u0644\\u0652\\u0625\\u064d\\u0645\\u064c\\u0627\\u0631\\u064c\\u0627\\u0652\\u062a\\u0652\\u060c \\u0648\\u0651\\u0642\\u064d\\u0627\\u0644: \\u064e\\u0643\\u0644 \\u064f\\u0630\\u064c\\u0644\\u0643 \\u064f\\u0630\\u0643\\u0631\\u0650\\u062a\\u0647 \\u0641\\u0651\\u064a \\u0643\\u062a\\u0627\\u0628\\u064a \\u064b\\\"\\u0627\\u0644\\u062c\\u0630\\u0648\\u0631 \\u0650\\u0627\\u064f\\u0644\\u062a\\u0627\\u0631\\u0652\\u064a\\u064d\\u062e\\u0650\\u064a\\u0651\\u0629\\u064d \\u064e\\u0644\\u064f\\u0644\\u0639\\u064b\\u0644\\u0627\\u0642\\u0627\\u0650\\u062a\\u064f \\u064e\\u0627\\u064f\\u0644\\u062b\\u0652\\u0642\\u0627\\u0650\\u0641\\u064d\\u064a\\u0629 \\u064c\\u0628\\u064a\\u064b\\u0646 \\u0650\\u0627\\u0644\\u0625\\u0645\\u0627\\u0631\\u0627\\u064c\\u062a\\u064c \\u064f\\u0648\\u064e\\u0627\\u064b\\u0644\\u0643\\u0650\\u0648\\u064a\\u064f\\u062a\\\"\\u060c \\u0652\\u0648\\u0643\\u064b\\u0627\\u064b\\u0646 \\u064c\\u0628\\u064f\\u0645\\u064f\\u062b\\u064f\\u0627\\u064e\\u0628\\u064c\\u0629\\u064d \\u064c\\u0631\\u0652\\u0633\\u064b\\u0627\\u0651\\u0644\\u064e\\u0629 \\u0634\\u0652\\u0643\\u0631 \\u0652\\u0644\\u0644\\u0643\\u0648\\u064a\\u062a\\u060c \\u0648\\u064c\\u0623\\u0636\\u0650\\u0627\\u064d\\u0641:\\u064d \\u0623\\u062c\\u064f\\u0644\\u060c\\u064e \\u064c\\u062a\\u062a\\u0644\\u0645\\u0630\\u0646\\u0627\\u064c \\u0639\\u064f\\u0644\\u0651\\u0649 \\u0650\\u0645\\u064d\\u0646\\u064c\\u0627\\u064c\\u0647\\u062c \\u064b\\u0627\\u0644\\u0643\\u064e\\u0648\\u064b\\u064a\\u062a\\u064d\\u060c\\u0650 \\u0648\\u0642\\u0631\\u0623\\u0646\\u0627\\u064d \\u0650\\u0639\\u064e\\u0628\\u0627\\u0631\\u064d\\u0629 \\u064e\\\"\\u0639\\u064f\\u0644\\u0645 \\u0628\\u0651\\u0644\\u0651\\u0627\\u062f\\u064a\\u0650 \\u0651\\u0644\\u0651\\u0648\\u064e\\u0646\\u0647\\u0650 \\u064c\\u0623\\u064c\\u062d\\u0645\\u0650\\u0631\\\" \\u0648\\u0650\\u0627\\u0631\\u062a\\u064c\\u062f\\u064a\\u0646\\u0652\\u0627\\u064e \\u0632\\u064a \\u0627\\u064e\\u0644\\u0652\\u0645\\u062f\\u0651\\u0627\\u0652\\u0631\\u064b\\u0633\\u064f \\u064d\\u0627\\u0644\\u0643\\u064d\\u0648\\u064e\\u064a\\u062a\\u064a\\u0629 \\u0623\\u062b\\u064f\\u0646\\u064f\\u0627\\u064e\\u0621\\u064c \\u0651\\u062a\\u0639\\u064e\\u0644\\u0650\\u064a\\u0645\\u0646\\u0627\\u064c\\u060c \\u064c\\u0648\\u0652\\u062a\\u064d\\u0646\\u0627\\u0650\\u0648\\u0644\\u064b\\u0646\\u0627 \\u0627\\u0644\\u064e\\u0648\\u062c\\u064f\\u0628\\u0652\\u0627\\u062a\\u064d \\u0627\\u0651\\u0644\\u0635\\u0628\\u0627\\u062d\\u0650\\u064a\\u0629\\u0651 \\u0627\\u0651\\u0644\\u0650\\u0643\\u064b\\u0648\\u064a\\u062a\\u064a\\u0629\\u0650 \\u064d\\u0641\\u0650\\u064a \\u0645\\u062f\\u064b\\u0627\\u064b\\u0631\\u064c\\u0633\\u0646\\u0627\\u0652\\u060c\\u064b \\u0648\\u0627\\u0633\\u062a\\u062e\\u064c\\u062f\\u064f\\u0645\\u0651\\u0646\\u0627 \\u064d\\u0627\\u064b\\u0644\\u064c\\u0623\\u0650\\u0642\\u064c\\u0644\\u0627\\u0651\\u0645 \\u0652\\u0648\\u064d\\u0627\\u0644\\u0652\\u0645\\u0645\\u064e\\u062d\\u0651\\u0627\\u064f\\u064a\\u064d\\u0627\\u064b\\u062a\\u064e \\u0648\\u0627\\u064d\\u0644\\u064b\\u0645\\u0628\\u0631\\u0627\\u064a\\u0652\\u0627\\u064b\\u062a \\u064d\\u0627\\u0644\\u064e\\u0643\\u0648\\u064c\\u064a\\u062a\\u064a\\u0629\\u064e\\u060c \\u0644\\u064d\\u0627\\u064c \\u0641\\u0631\\u0642 \\u064f\\u0628\\u064b\\u064a\\u064c\\u0646\\u064d\\u0646\\u0651\\u0627\\u060c \\u0628\\u064a\\u064b\\u0626\\u0650\\u062a\\u0627 \\u0628\\u064f\\u0644\\u062f\\u064a\\u0646\\u0627\\u064b \\u0648\\u0650\\u0627\\u064f\\u062d\\u0652\\u062f\\u0629\\u064d\\u060c \\u0647\\u064a \\u0627\\u064f\\u0644\\u0628\\u0650\\u064a\\u0650\\u0626\\u0629\\u064b \\u064c\\u0627\\u0650\\u0644\\u0628\\u062d\\u0631\\u064a\\u0629\\u064f \\u064f.\\u064b \\u0648\\u0628\\u0652\\u0639\\u062f\\u064f \\u064f\\u0623\\u0650\\u0641\\u064c\\u0648\\u0644 \\u062a\\u064d\\u062c\\u0627\\u0652\\u0631\\u0629\\u064c \\u0627\\u0644\\u0644\\u0624\\u0644\\u064b\\u0624\\u060c \\u0651\\u0641\\u064f\\u0625\\u0652\\u0646\\u0651 \\u0645\\u0651\\u062b\\u064e\\u0642\\u064f\\u0641\\u064a\\u0646\\u0627\\u064c \\u0648\\u064d\\u0639\\u0650\\u0645\\u064e\\u0627\\u0644\\u064f\\u0646\\u064f\\u0627 \\u062a\\u0648\\u062c\\u0647\\u0648\\u0627\\u064b \\u0625\\u0644\\u0649 \\u0627\\u0644\\u064e\\u0643\\u0650\\u0648\\u064b\\u064a\\u064b\\u062a\\u064f \\u0644\\u0650\\u0644\\u0639\\u064d\\u0645\\u0644 \\u0651\\u0641\\u064f\\u064a\\u0647\\u0627\\u064f\\u060c \\u0650\\u0643\\u0651\\u0645\\u0627 \\u0623\\u064f\\u0646 \\u0647\\u064c\\u0646\\u0627\\u0643 \\u0623\\u064f\\u062c\\u064a\\u0627\\u064c\\u0644\\u0651\\u0627\\u0650\\u064b \\u064e\\u0645\\u064b\\u0646 \\u0627\\u0652\\u0644\\u064e\\u0643\\u064b\\u0648\\u064a\\u062a\\u064b\\u064a\\u064a\\u0646 \\u064b\\u0639\\u064d\\u0627\\u0634\\u0648\\u064b\\u0627 \\u0641\\u064e\\u064a \\u064f\\u0627\\u0650\\u0644\\u064e\\u0625\\u064d\\u0645\\u0627\\u0631\\u0627\\u062a\\u064d\\u060c \\u064d\\u0648\\u0651\\u0645\\u064e\\u0646\\u064b\\u0647\\u0645 \\u0645\\u0646\\u064c \\u064b\\u0639\\u0650\\u0644\\u0652\\u0645\\u064d\\u0648\\u064e\\u0646\\u0627 .\\u0651 \\u0643\\u0645\\u0627 \\u0631\\u0627\\u0651\\u062d\\u0652 \\u064a\\u0650\\u062a\\u062d\\u064d\\u062f\\u062b \\u0639\\u0646\\u0651 \\u0627\\u0644\\u062a\\u0641\\u064e\\u0627\\u0639\\u064e\\u0644\\u064b \\u0627\\u064c\\u0644\\u062b\\u0650\\u0642\\u0652\\u0627\\u0641\\u064c\\u064a \\u0628\\u064d\\u064a\\u0646\\u0650 \\u064b\\u0627\\u0644\\u064d\\u0628\\u0644\\u0651\\u062f\\u064a\\u064d\\u0646 \\u0639\\u064e\\u0628\\u0631 \\u064d\\u0642\\u064d\\u0635\\u064f\\u0627\\u0626\\u0650\\u062f\\u064d \\u0627\\u0651\\u0644\\u064b\\u0634\\u0639\\u0652\\u0631\\u0627\\u064e\\u0621\\u060c\\u064d \\u064b\\u0627\\u0644\\u0652\\u0641\\u0652\\u0635\\u0652\\u062d\\u064c\\u0649\\u064b \\u0648\\u064c\\u0627\\u0644\\u0650\\u0646\\u064b\\u0628\\u0637\\u064a\\u064f\\u0629\\u0650\\u060c \\u0650\\u0641\\u0652\\u0636\\u064b\\u0644\\u0650\\u0627\\u064b\\u064b \\u064c\\u0639\\u064d\\u0646 \\u0651\\u0627\\u064d\\u0644\\u062a\\u0641\\u064c\\u0627\\u0639\\u064f\\u0644\\u064c \\u0651\\u0645\\u0652\\u0639 \\u0648\\u064b\\u0633\\u0627\\u0652\\u0626\\u064b\\u0644\\u064b \\u0627\\u0644\\u0625\\u0650\\u0639\\u0644\\u0627\\u0645\\u0650 \\u064d\\u0641\\u0650\\u064a\\u064e \\u0643\\u0644\\u0627 \\u0627\\u064b\\u0644\\u0628\\u0651\\u0644\\u064e\\u062f\\u064c\\u064a\\u064d\\u0646\\u060c\\u064c \\u0650\\u0625\\u064f\\u0630 \\u064c\\u0641\\u064c\\u062a\\u062d\\u062a\\u0650 \\u064c\\u0627\\u0644\\u0651\\u0635\\u064d\\u062d\\u064e\\u0627\\u064c\\u0641\\u0629\\u0650 \\u0627\\u064e\\u0644\\u064e\\u0643\\u0648\\u064a\\u062a\\u064a\\u0650\\u0629\\u064f \\u0651\\u0623\\u064f\\u0628\\u0652\\u0648\\u064e\\u0627\\u0628\\u0647\\u064d\\u0627\\u0651 \\u0644\\u0644\\u0645\\u062b\\u0642\\u0641\\u064a\\u064b\\u0646\\u064b \\u0627\\u064f\\u0644\\u0625\\u0645\\u0627\\u0631\\u0652\\u0627\\u0650\\u062a\\u064f\\u064a\\u064e\\u064a\\u0650\\u0646 .\",\n          \"https://example.com/resource/\\u0623\\u0650\\u0628\\u0648\\u0638\\u0628\\u064f\\u064a\\u0651 \\u064c-\\u0650 \\u064b\\u0645\\u0646\\u0651\\u064a\\u0650 \\u0650\\u0628\\u0651\\u0648\\u0651\\u0646\\u0639\\u064f\\u0627\\u064b\\u0645\\u0629:\\u0646\\u064e\\u0638\\u0645 \\u0627\\u062a\\u062d\\u0627\\u062f \\u064d\\u0643\\u0651\\u062a\\u0627\\u0650\\u0628\\u064d \\u0651\\u0648\\u0652\\u0623\\u062f\\u0652\\u0628\\u064e\\u0627\\u064b\\u0621 \\u064f\\u0627\\u0644\\u0625\\u0645\\u0627\\u0651\\u0631\\u0627\\u0650\\u062a \\u0641\\u064a \\u0623\\u0628\\u0648\\u0650\\u0638\\u0628\\u064b\\u064a\\u0651\\u060c\\u064c \\u0645\\u0633\\u064c\\u0627\\u064e\\u0621\\u064c \\u0623\\u0645\\u064c\\u0633\\u064d \\u0627\\u0644\\u064f\\u0623\\u064e\\u0648\\u0651\\u0644\\u060c \\u064f\\u0641\\u0650\\u064a\\u064d \\u0642\\u0651\\u0627\\u0650\\u0639\\u0629\\u064d \\u0627\\u0652\\u0644\\u062f\\u0643\\u062a\\u0648\\u064c\\u0631\\u064c \\u064c\\u0639\\u0628\\u062f\\u064e \\u064b\\u0627\\u0644\\u064c\\u0644\\u0647\\u0651 \\u0639\\u0645\\u0631\\u0627\\u064d\\u0646 \\u064f\\u062a\\u0650\\u0631\\u0651\\u064a\\u0645\\u0652 \\u064d\\u0641\\u064a\\u064f \\u0645\\u0651\\u0642\\u0631 \\u064d\\u0627\\u0644\\u0627\\u062a\\u064c\\u062d\\u0627\\u062f\\u064c \\u064c\\u0627\\u0644\\u064c\\u062c\\u062f\\u064a\\u0651\\u062f \\u0641\\u064a \\u0645\\u0650\\u0639\\u064e\\u0633\\u064b\\u0643\\u0631\\u064d \\u064f\\u0622\\u0644\\u0651 \\u0646\\u064b\\u0647\\u064a\\u0627\\u0646\\u064f \\u0623\\u064e\\u0645\\u0650\\u0633\\u064f\\u064a\\u0629 \\u0644\\u0652\\u0644\\u064e\\u0643\\u064c\\u0627\\u062a\\u0628\\u064d \\u0651\\u0648\\u064e\\u0627\\u0644\\u0652\\u0645\\u062b\\u064e\\u0642\\u0651\\u0641\\u064c \\u064d\\u0627\\u0644\\u0625\\u0645\\u064d\\u0627\\u064c\\u0631\\u064c\\u0627\\u062a\\u0651\\u064a\\u064f \\u0645\\u0627\\u062c\\u064c\\u062f \\u0628\\u0648 \\u0634\\u064f\\u0644\\u064a\\u0628\\u064f\\u064a\\u060c\\u064d \\u0623\\u064f\\u0645\\u064b\\u064a\\u0646 \\u0639\\u0627\\u0645\\u0652 \\u0652\\u0627\\u0644\\u0645\\u0646\\u062a\\u0650\\u062f\\u0651\\u0649 \\u0650\\u0627\\u0644\\u064d\\u0625\\u064e\\u0633\\u0651\\u0644\\u0651\\u0627\\u0645\\u0652\\u064a\\u064f \\u0641\\u064f\\u064a \\u0627\\u0644\\u064e\\u0634\\u0650\\u0627\\u0631\\u064d\\u0642\\u064e\\u0629\\u064e\\u060c\\u0650 \\u064c\\u0628\\u064f\\u0639\\u0646\\u0648\\u064f\\u0627\\u0646:\\u0651 \\u0644\\u0645\\u0627\\u0630\\u0627\\u064e \\u0651\\u0627\\u064b\\u0644\\u064f\\u0634\\u0651\\u0627\\u0631\\u0642\\u0629 \\u0639\\u0651\\u0627\\u064e\\u0635\\u0645\\u0629 \\u0650\\u0644\\u064d\\u0644\\u062b\\u064f\\u0642\\u0627\\u0641\\u064b\\u0629\\u064b \\u0627\\u064c\\u0644\\u0625\\u064c\\u0633\\u0652\\u0644\\u064d\\u0627\\u0645\\u0651\\u064a\\u0629\\u064d\\u061f \\u0642\\u062f\\u0651\\u0651\\u064e\\u0645 \\u0627\\u0644\\u064e\\u0623\\u0645\\u0633\\u064a\\u064f\\u0629\\u064f \\u064d\\u0627\\u0644\\u0634\\u0650\\u0627\\u0639\\u0631\\u0652 \\u0652\\u0648\\u0627\\u0644\\u0646\\u0627\\u0652\\u0642\\u062f \\u0645\\u064b\\u062d\\u064c\\u0645\\u062f \\u0646\\u0648\\u0631 \\u064f\\u0627\\u064c\\u0644\\u062f\\u064f\\u064a\\u0646\\u060c\\u0651 \\u064b\\u0648\\u0650\\u062d\\u0636\\u0650\\u0631\\u0651\\u0647\\u064c\\u0627\\u064e \\u064f\\u062d\\u0650\\u0628\\u064d\\u064a\\u0652\\u0628\\u064b \\u0627\\u064e\\u0644\\u0635\\u064b\\u0627\\u064a\\u0650\\u063a\\u0651 \\u064e\\u0631\\u064f\\u0626\\u064a\\u064d\\u0633\\u0652 \\u0645\\u062c\\u0651\\u0644\\u0633\\u0650 \\u0625\\u064c\\u062f\\u064c\\u0627\\u0631\\u0629\\u0650 \\u0651\\u0627\\u064c\\u0644\\u064b\\u0627\\u064b\\u062a\\u062d\\u0627\\u062f\\u0650\\u060c\\u064e \\u0648\\u0639\\u064b\\u062f\\u064b\\u062f \\u0645\\u0646 \\u064d\\u0627\\u0644\\u0643\\u062a\\u0651\\u0627\\u0628\\u064e \\u0648\\u0652\\u0627\\u064f\\u0644\\u064b\\u0623\\u064f\\u062f\\u0628\\u0627\\u064d\\u0621 \\u064d.\\u064e \\u064c\\u0627\\u0633\\u062a\\u064b\\u0647\\u0651\\u0644\\u0652 \\u0627\\u0652\\u0644\\u0651\\u0645\\u064d\\u062d\\u0652\\u0627\\u064f\\u0636\\u0631 \\u0628\\u0627\\u0633\\u062a\\u0639\\u064e\\u0631\\u0627\\u0636\\u0650 \\u0627\\u0644\\u0623\\u0637\\u0631 \\u0627\\u064c\\u0644\\u0639\\u064d\\u0627\\u0645\\u0629\\u0652 \\u0651\\u0627\\u064c\\u0644\\u062a\\u064a\\u0650 \\u0639\\u0645\\u0644\\u062a \\u064d\\u0639\\u0644\\u0649 \\u062a\\u064e\\u0634\\u0643\\u0651\\u064a\\u0652\\u0644\\u064f \\u064b\\u0648\\u0628\\u0644\\u064d\\u0648\\u064f\\u0631\\u0629 \\u0627\\u064f\\u0644\\u0641\\u0643\\u064b\\u0631\\u0652\\u0629 \\u0627\\u064e\\u0644\\u064c\\u062b\\u0642\\u0651\\u0627\\u0641\\u064d\\u064a\\u064b\\u0629\\u064e \\u0641\\u064b\\u064a\\u064f \\u064c\\u0627\\u0644\\u064f\\u0634\\u0627\\u0650\\u0631\\u064b\\u0642\\u0629\\u0652\\u060c\\u0652 \\u0645\\u0646\\u064c \\u0652\\u062e\\u0652\\u0644\\u0627\\u0652\\u0644\\u064d \\u0652\\u0627\\u0644\\u062a\\u064f\\u0639\\u064d\\u0631\\u064b\\u064a\\u0641 \\u0628\\u0652\\u0627\\u0644\\u062a\\u0650\\u062c\\u064b\\u0631\\u064f\\u0628\\u0629\\u0651 \\u064f\\u0648\\u0623\\u0647\\u0645 \\u0645\\u0633\\u0652\\u0627\\u0650\\u0631\\u064d\\u0627\\u062a\\u064b\\u0647\\u064d\\u0627\\u0652\\u060c\\u064f \\u0650\\u0648\\u064b\\u0627\\u0650\\u0644\\u0651\\u0623\\u0637\\u0650\\u0648\\u064c\\u0627\\u0631 \\u0651\\u0627\\u0652\\u0644\\u064d\\u062a\\u064a \\u0650\\u0645\\u064c\\u0631\\u064b\\u062a \\u0628\\u0647\\u0650\\u0627\\u064d\\u060c \\u0628\\u0652\\u062f\\u064e\\u0621\\u0651\\u0627\\u064b\\u064d \\u0628\\u064d\\u0627\\u0644\\u062d\\u062f\\u064a\\u064c\\u062b\\u064b \\u064d\\u0639\\u064b\\u0646 \\u0628\\u064d\\u0646\\u0627\\u0652\\u0621\\u064d \\u0627\\u0644\\u0628\\u064d\\u0646\\u0649\\u0650 \\u0627\\u0651\\u0644\\u0650\\u062a\\u064c\\u062d\\u062a\\u064c\\u064a\\u064c\\u0629\\u0650 \\u064d\\u0644\\u0644\\u0645\\u0624\\u064b\\u0633\\u0633\\u0650\\u0627\\u062a \\u0650\\u0627\\u0644\\u062b\\u064e\\u0642\\u0652\\u0627\\u0641\\u064a\\u064d\\u0629\\u064c \\u064f\\u0648\\u0627\\u064e\\u0644\\u0625\\u0651\\u0639\\u064e\\u0644\\u0627\\u0645\\u0650\\u064a\\u0629\\u0651 \\u064c\\u0627\\u0644\\u062a\\u064a \\u0623\\u064d\\u0633\\u0651\\u0647\\u0645\\u064f\\u062a\\u060c \\u064d\\u0639\\u064f\\u0628\\u0631 \\u0651\\u062a\\u0627\\u0652\\u0631\\u064a\\u062e\\u0647\\u0627\\u0652\\u060c\\u064e \\u0641\\u064c\\u064a\\u0651 \\u0652\\u062a\\u064b\\u0641\\u0639\\u064a\\u0644 \\u0627\\u0651\\u0644\\u0639\\u0650\\u0645\\u064b\\u0644\\u064b \\u0627\\u064e\\u0644\\u062b\\u0650\\u0642\\u064e\\u0627\\u0650\\u0641\\u0651\\u064a \\u0641\\u064f\\u064a \\u0627\\u064d\\u0644\\u0634\\u0627\\u0652\\u0631\\u0642\\u0629\\u060c \\u0627\\u0646\\u0637\\u0644\\u064d\\u0627\\u0642\\u0627\\u064b\\u0651 \\u0645\\u0650\\u0646\\u064b \\u062a\\u0623\\u0633\\u064f\\u064a\\u0633\\u0651 \\u064c\\u062f\\u0627\\u0652\\u0626\\u0631\\u0629\\u064d \\u0652\\u0627\\u0650\\u0644\\u064f\\u062b\\u0642\\u064b\\u0627\\u0641\\u0629 \\u064d\\u0648\\u0627\\u064c\\u0644\\u0625\\u0651\\u0639\\u0644\\u0627\\u0650\\u0645\\u064f\\u060c\\u0651 \\u0648\\u0650\\u062a\\u0644\\u0641\\u0632\\u064a\\u0648\\u064b\\u0646 \\u0627\\u0644\\u064f\\u0634\\u0627\\u064c\\u0631\\u0642\\u0652\\u0629\\u0650 \\u0648\\u0645\\u0627 \\u062a\\u062e\\u064d\\u0644\\u064c\\u0644\\u064f \\u0630\\u0644\\u0643\\u064c \\u064e\\u0645\\u064b\\u0646\\u064f \\u0625\\u064b\\u0628\\u0631\\u0627\\u0632\\u064f \\u0648\\u062a\\u0634\\u062c\\u064c\\u064a\\u064f\\u0639\\u064d \\u064f\\u0644\\u0644\\u062b\\u0642\\u064b\\u0627\\u064c\\u0641\\u0629 \\u0648\\u064b\\u0627\\u064b\\u0644\\u0641\\u0646\\u064e\\u0648\\u064d\\u0646\\u064e \\u0645\\u0646\\u064f \\u064f\\u062e\\u0644\\u0627\\u0644 \\u064b\\u0627\\u064f\\u0644\\u064f\\u0645\\u064d\\u0639\\u064d\\u0627\\u0631\\u0636 \\u0627\\u0644\\u0651\\u0641\\u064f\\u0646\\u064a\\u064b\\u0629\\u064f \\u0648\\u064d\\u0627\\u0644\\u0650\\u0641\\u0639\\u0627\\u064e\\u0644\\u064a\\u0627\\u062a\\u0652 \\u064f\\u0627\\u0652\\u0644\\u064c\\u062b\\u0642\\u064b\\u0627\\u0651\\u0641\\u064b\\u064a\\u0629 \\u064f\\u0627\\u0644\\u062a\\u064f\\u064a \\u0651\\u062a\\u0635\\u0628 \\u064d\\u0641\\u064a \\u0642\\u0627\\u064b\\u0644\\u064b\\u0628\\u0650 \\u0627\\u0644\\u0646\\u064c\\u0647\\u064b\\u0648\\u0636\\u064b \\u0644\\u064b\\u0634\\u0627\\u064b\\u0631\\u064d\\u0642\\u0650\\u0629\\u064d \\u0627\\u0644\\u0652\\u062b\\u0642\\u064f\\u0627\\u0641\\u0652\\u0629\\u064e \\u064d\\u0648\\u0627\\u0644\\u0645\\u064c\\u0639\\u0631\\u0641\\u064e\\u0629\\u064c\\u060c \\u0645\\u064c\\u0627 \\u064a\\u064c\\u062c\\u064b\\u064a\\u0628 \\u0628\\u064b\\u0634\\u0643\\u0644\\u0650 \\u0642\\u064b\\u0637\\u0639\\u0650\\u064a \\u064d\\u0639\\u064c\\u0646\\u064d \\u0627\\u0651\\u0644\\u064e\\u062a\\u064e\\u0633\\u0651\\u0627\\u0624\\u0644 \\u0652\\u0627\\u0644\\u0645\\u0652\\u0631\\u0643\\u0632\\u064b\\u064a\\u0650 \\u0644\\u0645\\u0627\\u0651\\u0630\\u0627\\u0651 \\u064f\\u0627\\u0650\\u0644\\u0634\\u0627\\u0651\\u0631\\u0642\\u0629\\u0651 \\u0639\\u0627\\u064b\\u0635\\u0645\\u0629\\u064f \\u064f\\u0627\\u064d\\u0644\\u064d\\u062b\\u0650\\u0642\\u0627\\u0641\\u064b\\u0629\\u064c \\u0627\\u064d\\u0644\\u0651\\u0625\\u0633\\u064b\\u0644\\u064c\\u0627\\u0645\\u064a\\u0629\\u064e\\u061f \\u064b\\u0648\\u064d\\u0623\\u0650\\u0634\\u0652\\u0627\\u0631 \\u064c\\u0627\\u0644\\u0645\\u062d\\u0627\\u064b\\u0636\\u0651\\u0631\\u064e \\u0652\\u0625\\u064f\\u0644\\u0649 \\u064e\\u0627\\u064d\\u0644\\u064d\\u062d\\u0631\\u0627\\u0643 \\u064d\\u0627\\u0644\\u062b\\u0642\\u0627\\u064e\\u0641\\u064a\\u0650 \\u0650\\u0627\\u0644\\u064b\\u0646\\u064f\\u0634\\u0637\\u0651 \\u0627\\u0644\\u0630\\u064c\\u064a\\u0652 \\u0634\\u0643\\u064b\\u0644\\u064f \\u0652\\u0627\\u0651\\u0644\\u064d\\u0628\\u0650\\u0648\\u0651\\u0627\\u0643\\u064f\\u064a\\u0631 \\u064c\\u0627\\u064d\\u0644\\u064b\\u0623\\u064c\\u0648\\u0644\\u0649\\u064c \\u0651\\u0644\\u0644\\u0651\\u0639\\u0645\\u0651\\u0644 \\u0627\\u0644\\u062b\\u0642\\u0627\\u0641\\u064a \\u0651\\u0641\\u064c\\u064a\\u064b \\u0627\\u0644\\u0652\\u0634\\u0651\\u0627\\u0651\\u0631\\u064f\\u0642\\u0629\\u064c\\u060c\\u0652 \\u0650\\u0627\\u064d\\u0644\\u0630\\u0651\\u064a\\u0651 \\u0634\\u0645\\u064c\\u0644 \\u0643\\u0627\\u0641\\u0629\\u064f \\u064e\\u0627\\u0644\\u064b\\u062c\\u0648\\u0627\\u0646\\u064c\\u0628\\u064c \\u0650\\u0628\\u0645\\u0627\\u064f \\u064b\\u0641\\u0652\\u064a\\u0652\\u0647\\u0627\\u064d \\u0625\\u0646\\u0652\\u0634\\u064c\\u0627\\u0621 \\u0651\\u0627\\u0644\\u0645\\u0631\\u0627\\u0643\\u0652\\u0632 \\u0648\\u0627\\u064e\\u0644\\u0645\\u062f\\u064f\\u0627\\u064d\\u0631\\u0633 \\u064b\\u0648\\u0650\\u0627\\u064c\\u0644\\u0651\\u062c\\u0652\\u0627\\u0645\\u0652\\u0639\\u0651\\u0627\\u062a\\u0652 \\u064f\\u0648\\u0650\\u0627\\u0644\\u0641\\u064f\\u0646\\u0650\\u0648\\u064e\\u0646\\u0652 \\u064b\\u0648\\u064b\\u0627\\u0644\\u0652\\u0645\\u0651\\u0633\\u064e\\u0627\\u0650\\u0631\\u062d \\u064d\\u0644\\u062a\\u0651\\u0639\\u0632\\u064b\\u064a\\u0632 \\u0627\\u0644\\u0641\\u0639\\u0644\\u064b \\u0627\\u0644\\u064b\\u062b\\u064e\\u0642\\u064e\\u0627\\u0651\\u0641\\u064c\\u064a\\u064d \\u0648\\u064c\\u062a\\u0633\\u0631\\u064a\\u064c\\u0639\\u064f \\u0639\\u062c\\u064f\\u0644\\u0629\\u064f \\u0627\\u0644\\u0650\\u0646\\u064e\\u0634\\u0627\\u0637\\u0652 \\u064d\\u0627\\u0644\\u062b\\u0642\\u064c\\u0627\\u0651\\u0641\\u0650\\u064a \\u064b\\u0641\\u064a \\u0627\\u064d\\u0644\\u0651\\u0634\\u0627\\u064b\\u0631\\u0642\\u0629\\u0650\\u060c\\u0651 \\u0643\\u0645\\u064c\\u0627 \\u064d\\u062a\\u0650\\u0645 \\u062a\\u062e\\u0635\\u064a\\u0635\\u064f \\u064f\\u0645\\u064c\\u0633\\u0650\\u0627\\u062d\\u0629 \\u0645\\u064c\\u0639\\u062a\\u064b\\u0628\\u0651\\u0631\\u064f\\u0629\\u064e \\u064b\\u0644\\u0644\\u0637\\u0641\\u0644\\u064f \\u0648\\u062b\\u0642\\u0652\\u0627\\u0652\\u0641\\u064c\\u062a\\u0647\\u064c\\u060c\\u0650 \\u0645\\u0646\\u0651 \\u062e\\u0652\\u0644\\u064f\\u0627\\u0644 \\u0625\\u0646\\u0634\\u064b\\u0627\\u0652\\u0621\\u064e \\u0651\\u0645\\u064f\\u0631\\u064c\\u0627\\u0643\\u0652\\u0632 \\u064c\\u0645\\u064c\\u0643\\u062a\\u0628\\u0652\\u0627\\u064c\\u062a \\u064e\\u0627\\u0644\\u064e\\u0623\\u0650\\u0637\\u064d\\u0641\\u064c\\u0627\\u0644\\u060c \\u0648\\u064d\\u0645\\u064d\\u0631\\u0652\\u0627\\u0643\\u0632 \\u064e\\u0627\\u064c\\u0644\\u0623\\u0637\\u0641\\u064c\\u0627\\u064d\\u0644\\u064d\\u060c \\u062b\\u0645\\u064c \\u0645\\u0652\\u0631\\u064d\\u0627\\u0643\\u0632 \\u064b\\u0627\\u064e\\u0644\\u0652\\u0646\\u0627\\u0634\\u0651\\u0626\\u0629\\u060c \\u0641\\u0645\\u0652\\u062c\\u064f\\u0644\\u0633 \\u064b\\u0623\\u064e\\u0639\\u0644\\u0649\\u064e \\u0652\\u0644\\u064f\\u0644\\u0637\\u0641\\u064e\\u0644\\u0652 \\u0625\\u064e\\u0644\\u0649 \\u064c\\u063a\\u064a\\u0631 \\u0630\\u064b\\u0644\\u0643 \\u0651\\u0645\\u0646 \\u0627\\u0644\\u0633\\u064b\\u064a\\u0627\\u0633\\u064c\\u0627\\u062a \\u064b\\u0627\\u0644\\u0652\\u062a\\u064a\\u064c \\u064e\\u0627\\u0650\\u0639\\u0650\\u062a\\u064b\\u0645\\u064b\\u062f\\u0647\\u0650\\u0627\\u064e \\u064d\\u0635\\u0651\\u0627\\u0652\\u062d\\u0628\\u0650 \\u0652\\u0627\\u0652\\u0644\\u0633\\u064c\\u0645\\u0648\\u064f \\u064b\\u0627\\u064b\\u0644\\u0650\\u0634\\u064f\\u064a\\u064d\\u062e \\u064f\\u0627\\u0644\\u062f\\u064b\\u0643\\u062a\\u0648\\u064f\\u0631 \\u064b\\u0633\\u064d\\u0644\\u064f\\u0637\\u0627\\u0646 \\u0628\\u0646 \\u0645\\u064e\\u062d\\u064c\\u0645\\u062f \\u0627\\u0650\\u0644\\u0642\\u0652\\u0627\\u0633\\u0645\\u064a\\u0652 \\u064e\\u0639\\u064d\\u0636\\u0648\\u064f \\u0627\\u0644\\u0645\\u062c\\u0650\\u0644\\u0633\\u064b \\u064c\\u0627\\u064d\\u0644\\u064b\\u0623\\u0639\\u0651\\u0644\\u0652\\u0649 \\u062d\\u064b\\u0627\\u0643\\u064c\\u0645\\u064e \\u064f\\u0627\\u064e\\u0644\\u0634\\u064e\\u0627\\u0650\\u0631\\u0642\\u064c\\u0629\\u0652 \\u064e\\u0644\\u0644\\u0650\\u0631\\u0642\\u0652\\u064a\\u064e \\u064c\\u0628\\u062b\\u0650\\u0642\\u064c\\u0627\\u064f\\u0641\\u064d\\u0629\\u0652 \\u0627\\u0652\\u0644\\u0637\\u0650\\u0641\\u0644 \\u0648\\u0652\\u062a\\u0646\\u064d\\u0645\\u064a\\u0651\\u0629 \\u0652\\u0645\\u064c\\u062f\\u064f\\u0627\\u064e\\u0631\\u064c\\u0643\\u0652\\u0647\\u0652 \\u0648\\u064d\\u0642\\u064e\\u062f\\u0631\\u0652\\u0627\\u0651\\u062a\\u064d\\u0647\\u064b \\u0650. \\u0648\\u064b\\u0630\\u0647\\u064d\\u0628\\u064b \\u0627\\u064c\\u0644\\u0645\\u0650\\u062d\\u0651\\u0627\\u0650\\u0636\\u064b\\u0631 \\u0625\\u064d\\u0644\\u0650\\u0649\\u0650 \\u064f\\u0623\\u0646\\u064e \\u064f\\u0627\\u0644\\u0652\\u0633\\u064c\\u064a\\u0651\\u0627\\u0633\\u0650\\u0627\\u062a\\u064d \\u0627\\u0644\\u062b\\u0652\\u0642\\u0627\\u0641\\u064a\\u0629\\u064b \\u0648\\u0627\\u0644\\u062a\\u064d\\u0648\\u062c\\u064c\\u064a\\u064b\\u0647\\u0627\\u062a\\u0650 \\u0650\\u0627\\u064b\\u0644\\u064d\\u0646\\u064e\\u064a\\u0651\\u0631\\u0629\\u064c \\u0644\\u064e\\u0635\\u064c\\u0627\\u062d\\u0650\\u0628\\u064c \\u0627\\u0644\\u0633\\u0645\\u0648 \\u064d\\u062d\\u0627\\u064c\\u0643\\u0652\\u0645\\u064b \\u0627\\u064d\\u0644\\u0634\\u064c\\u0627\\u0631\\u064f\\u0642\\u0629 \\u064b\\u062c\\u064c\\u0639\\u0644\\u0650\\u062a\\u064f \\u0650\\u0645\\u064e\\u0646 \\u0627\\u0651\\u0644\\u0639\\u064d\\u0645\\u064c\\u0644\\u064e \\u0627\\u0644\\u064d\\u062b\\u064b\\u0642\\u0627\\u064d\\u0641\\u064f\\u064a\\u0652 \\u0641\\u064a\\u064e \\u0627\\u0652\\u0644\\u064d\\u0634\\u0627\\u0631\\u064f\\u0642\\u0651\\u0629\\u064c \\u0639\\u0645\\u0644\\u0627\\u064b\\u0650 \\u0646\\u064e\\u0634\\u064d\\u0637\\u0651\\u0627\\u064b \\u0648\\u0651\\u0642\\u0651\\u0648\\u0651\\u064a\\u0652\\u0627\\u064b\\u064c \\u064e\\u0633\\u0648\\u064f\\u0627\\u0621 \\u064f\\u0645\\u064d\\u0646 \\u0652\\u062e\\u0652\\u0644\\u0650\\u0627\\u0644 \\u062a\\u064d\\u0648\\u064e\\u062c\\u0650\\u064a\\u0647\\u0627\\u064c\\u062a\\u064c \\u0650\\u0633\\u064e\\u0645\\u0651\\u0648\\u0647 \\u064c\\u0644\\u064e\\u0644\\u0627\\u0652\\u0631\\u062a\\u064d\\u0642\\u0651\\u0627\\u0621 \\u064c\\u0628\\u0627\\u0651\\u0644\\u064f\\u0641\\u0646\\u064f \\u0627\\u064d\\u0644\\u064d\\u062a\\u0634\\u064f\\u0643\\u064a\\u064e\\u0644\\u064e\\u064a\\u0652 \\u0648\\u064b\\u062a\\u0634\\u064f\\u062c\\u064d\\u064a\\u0639 \\u064b\\u0627\\u0652\\u0644\\u0641\\u0646\\u0627\\u0650\\u0646\\u064a\\u0646\\u060c\\u064c \\u0648\\u064f\\u0627\\u0642\\u062a\\u0646\\u064d\\u0627\\u0621\\u064c \\u0652\\u0623\\u064c\\u0639\\u064e\\u0645\\u064e\\u0627\\u0644 \\u0641\\u064b\\u0646\\u0651\\u064a\\u064e\\u0629\\u064e \\u0644\\u0645\\u0635\\u0650\\u0644\\u0652\\u062d\\u064d\\u0629\\u064f \\u064f\\u0645\\u062a\\u064b\\u062d\\u064d\\u0641\\u0651 \\u0627\\u0644\\u064b\\u0634\\u0627\\u0631\\u0651\\u0642\\u0629\\u060c \\u0648\\u064f\\u0625\\u064c\\u0646\\u062c\\u0627\\u0632 \\u064e\\u0642\\u0652\\u0627\\u0639\\u0629 \\u064e\\u062e\\u064f\\u0627\\u0651\\u0635\\u0629\\u0652 \\u064f\\u0628\\u0627\\u064f\\u0644\\u0622\\u062b\\u0650\\u0627\\u0651\\u0631 \\u0627\\u064b\\u0644\\u0625\\u0633\\u064d\\u0644\\u064c\\u0627\\u064d\\u0645\\u0651\\u064a\\u0629\\u064b \\u064f\\u0641\\u064e\\u064a \\u0645\\u062a\\u062d\\u0641 \\u0627\\u0652\\u0644\\u064d\\u0634\\u0627\\u0651\\u0631\\u0642\\u064e\\u0629\\u060c\\u064c \\u064d\\u0623\\u064b\\u0645\\u064e \\u0645\\u064f\\u0646 \\u062e\\u064c\\u0644\\u0627\\u0651\\u0644 \\u0650\\u0627\\u0633\\u064b\\u062a\\u0643\\u0645\\u0651\\u0627\\u064d\\u0644 \\u0627\\u0652\\u0644\\u0645\\u0652\\u0634\\u0652\\u0631\\u0648\\u0639\\u0627\\u064d\\u062a\\u064c \\u0627\\u0644\\u062b\\u0652\\u0642\\u0651\\u0627\\u0652\\u0641\\u064a\\u0629\\u064c \\u0648\\u064e\\u062a\\u0631\\u0645\\u064a\\u0645 \\u0627\\u0651\\u0644\\u0645\\u0628\\u0627\\u0646\\u064c\\u064a\\u064f \\u0627\\u0644\\u064d\\u062a\\u0650\\u0631\\u0627\\u0650\\u062b\\u064a\\u0650\\u0629 \\u0652\\u0648\\u063a\\u064a\\u0631\\u0647\\u064b\\u0627\\u064f \\u0645\\u064f\\u0646 \\u0627\\u064e\\u0644\\u0651\\u0623\\u0639\\u0651\\u0645\\u0627\\u0644 \\u064c\\u0648\\u0650\\u0627\\u0644\\u0623\\u064f\\u0646\\u0634\\u064e\\u0637\\u0629 \\u0652\\u0627\\u0644\\u062a\\u064a \\u062a\\u0635\\u0628 \\u0641\\u064a\\u064d \\u064e\\u0635\\u0645\\u064e\\u064a\\u0651\\u0645\\u0651 \\u064b\\u0627\\u0644\\u0650\\u0641\\u0639\\u0651\\u0644\\u064d \\u0627\\u064f\\u0644\\u064e\\u062b\\u064c\\u0642\\u0627\\u064b\\u0641\\u0651\\u064a .\\u0648\\u0623\\u0652\\u0643\\u064e\\u062f\\u064d \\u0627\\u0652\\u0644\\u0650\\u0645\\u0650\\u062d\\u0650\\u0627\\u064c\\u0636\\u0631 \\u0623\\u064d\\u0646 \\u0627\\u064c\\u0644\\u064e\\u062f\\u064e\\u0648\\u0652\\u0631\\u0629\\u0652 \\u064b\\u0627\\u0652\\u0644\\u064c\\u0623\\u064c\\u0648\\u064c\\u0644\\u064f\\u0649\\u0651 \\u0644\\u0645\\u064e\\u0639\\u0631\\u064d\\u0636\\u064d \\u0627\\u0644\\u0650\\u0643\\u0650\\u062a\\u0651\\u0627\\u0628\\u060c \\u0627\\u0644\\u0630\\u064d\\u064a \\u0623\\u0635\\u0651\\u0628\\u062d \\u0627\\u0651\\u0644\\u0652\\u064a\\u064f\\u0648\\u064c\\u0645\\u0651 \\u0648\\u062c\\u064b\\u0647\\u0629 \\u0639\\u0627\\u064b\\u0644\\u0651\\u0645\\u064a\\u0650\\u0629 \\u0644\\u0651\\u0644\\u0643\\u062a\\u0627\\u064d\\u0628\\u064e \\u064c\\u0648\\u0627\\u0644\\u0650\\u0645\\u0641\\u064e\\u0643\\u064b\\u0631\\u064a\\u0650\\u0646 \\u064e\\u0645\\u0650\\u0646\\u0650 \\u0623\\u0650\\u0646\\u064d\\u062d\\u064d\\u0627\\u064d\\u0621\\u064c \\u0627\\u064e\\u0644\\u0650\\u0639\\u0651\\u0627\\u0651\\u0644\\u0645\\u0652 \\u0638\\u0652\\u0644\\u0627\\u0644\\u0647\\u064c \\u0627\\u0644\\u0650\\u0648\\u0627\\u0631\\u064f\\u0641\\u0629\\u064e\\u060c\\u064f \\u0634\\u064d\\u0643\\u064d\\u0644\\u062a\\u0650 \\u064d\\u0646\\u064f\\u0642\\u064b\\u0637\\u0629 \\u064f\\u0627\\u064f\\u0646\\u064c\\u0637\\u0644\\u064e\\u0627\\u0652\\u0642 \\u064f\\u0648\\u062a\\u062d\\u0648\\u0650\\u0651\\u064d\\u0644 \\u0641\\u0652\\u064a\\u064d \\u0627\\u064e\\u0644\\u0645\\u0634\\u0652\\u0631\\u0652\\u0648\\u0639 \\u0652\\u0627\\u0644\\u0651\\u062b\\u0642\\u0652\\u0627\\u0652\\u0641\\u064d\\u064a\\u064f \\u0652\\u0644\\u064d\\u0635\\u0627\\u062d\\u0628 \\u064c\\u0627\\u064d\\u0644\\u064e\\u0633\\u0651\\u0645\\u0650\\u0648\\u064d \\u0650\\u062d\\u064d\\u0627\\u0643\\u0645\\u064f \\u0627\\u0652\\u0644\\u0634\\u0652\\u0627\\u064b\\u0631\\u0642\\u0651\\u0629\\u060c\\u0652 \\u0643\\u0652\\u0645\\u064b\\u0627\\u064e \\u064c\\u062a\\u0632\\u064f\\u0627\\u064d\\u0645\\u0646 \\u064c\\u0645\\u064c\\u0639\\u0651 \\u064e\\u0647\\u0650\\u0630\\u0647 \\u0627\\u0644\\u062f\\u0648\\u0631\\u0651\\u0629 \\u0627\\u064b\\u0641\\u0652\\u062a\\u062a\\u0627\\u062d \\u0645\\u064f\\u0643\\u064b\\u062a\\u0628\\u0652\\u0629\\u064e \\u0627\\u0644\\u064b\\u0645\\u064f\\u062d\\u0650\\u0645\\u0651\\u0648\\u062f\\u064e \\u0652(\\u0651\\u0627\\u0644\\u0652\\u0623\\u064b\\u0647\\u064f\\u0644\\u0650\\u064a\\u0629\\u0652)\\u0652\\u060c\\u0652 \\u0651\\u062b\\u064c\\u0645 \\u064b\\u0627\\u0644\\u0650\\u0645\\u0651\\u0631\\u064f\\u0643\\u0652\\u0632\\u0651 \\u064e\\u0627\\u0652\\u0644\\u064c\\u062b\\u0651\\u0642\\u0627\\u0641\\u0652\\u064a\\u064d \\u064f\\u0641\\u064a\\u0645\\u0627\\u0652 \\u0628\\u0639\\u062f\\u064d .\\u0652\\u0648\\u0651\\u0627\\u064c\\u0639\\u062a\\u0628\\u064d\\u0631 \\u0627\\u064d\\u0644\\u064c\\u0645\\u062d\\u064e\\u0627\\u064b\\u0636\\u0651\\u0631 \\u064b\\u0623\\u0646 \\u064b\\u062d\\u064b\\u0632\\u0645\\u0629 \\u0652\\u0627\\u0652\\u0644\\u064c\\u0645\\u064d\\u0647\\u064d\\u0631\\u062c\\u064d\\u0627\\u064d\\u0646\\u0627\\u0651\\u062a \\u0652\\u0648\\u0651\\u0627\\u0644\\u064f\\u0641\\u064b\\u0639\\u0650\\u0627\\u0644\\u064a\\u0650\\u0627\\u0651\\u062a\\u064b \\u0627\\u0644\\u0652\\u062a\\u064a\\u0650 \\u062a\\u0642\\u0652\\u0627\\u0650\\u0645 \\u0652\\u0639\\u0644\\u0651\\u0649 \\u0645\\u062f\\u0627\\u064c\\u0631\\u0650 \\u0627\\u064e\\u0644\\u0639\\u0627\\u0645\\u0650 \\u0650\\u0641\\u064a \\u064c\\u0627\\u0644\\u064e\\u0634\\u0627\\u064d\\u0631\\u0642\\u0629\\u064f\\u060c\\u0652 \\u0651\\u0648\\u0645\\u0627 \\u064a\\u0651\\u062a\\u064c\\u062e\\u0644\\u0650\\u0644\\u0647\\u064f\\u0627\\u0651 \\u0645\\u0646 \\u0623\\u0646\\u0634\\u0637\\u064c\\u0629\\u064d \\u062b\\u0642\\u064d\\u0627\\u0641\\u0652\\u064a\\u0629\\u064f \\u064c\\u0645\\u0651\\u062a\\u064f\\u0646\\u0648\\u064d\\u0639\\u0652\\u0629 \\u064d\\u062a\\u064c\\u0634\\u064b\\u0643\\u0652\\u0644\\u064f \\u064f\\u0623\\u064d\\u0648\\u062c\\u064c \\u0650\\u0627\\u064f\\u0644\\u062d\\u0631\\u064d\\u0627\\u0652\\u0643\\u0651 \\u064f\\u0627\\u064e\\u0644\\u062b\\u0642\\u0627\\u0641\\u064b\\u064a\\u064f\\u060c\\u064d \\u0648\\u0631\\u0627\\u0651\\u0641\\u0652\\u062f\\u0652\\u0627\\u064f\\u064b\\u0651 \\u0623\\u0633\\u0627\\u064d\\u0633\\u064d\\u064a\\u064e\\u0627\\u064c\\u064b \\u0644\\u0644\\u064c\\u062a\\u0641\\u0652\\u0627\\u0639\\u0644\\u0651 \\u0651\\u0648\\u0652\\u0627\\u0644\\u0652\\u062a\\u0646\\u0627\\u0650\\u063a\\u0645 \\u0627\\u0644\\u064b\\u062b\\u0650\\u0642\\u0627\\u064b\\u0641\\u064c\\u064a \\u064d\\u0641\\u064a\\u0651 \\u0625\\u0645\\u0627\\u0631\\u0652\\u0629\\u0652 \\u062a\\u0632\\u064c\\u062f\\u0651\\u0627\\u064c\\u0646 \\u0648\\u062a\\u0652\\u0632\\u062f\\u064d\\u0647\\u0651\\u064a\\u0650 \\u0643\\u0644 \\u064e\\u062d\\u064e\\u064a\\u064e\\u0646 \\u0628\\u0651\\u0644\\u0650\\u0641\\u064f\\u062a\\u064c\\u0629\\u064b \\u0643\\u064d\\u0631\\u064a\\u0645\\u0629\\u0651 \\u0648\\u064d\\u0633\\u064c\\u0627\\u064e\\u0646\\u062d\\u0629 \\u064e\\u0637\\u064a\\u064e\\u0628\\u0629 \\u0645\\u0650\\u0646 \\u0652\\u062d\\u0627\\u064e\\u0643\\u064b\\u0645 \\u0645\\u062b\\u0642\\u0641\\u0652\\u060c \\u064a\\u064e\\u062d\\u064b\\u0645\\u064d\\u0644\\u0652 \\u0639\\u0644\\u0649 \\u0639\\u064d\\u0627\\u064b\\u062a\\u064f\\u0642\\u0647 \\u064b\\u0627\\u064e\\u0644\\u064e\\u0646\\u0651\\u0647\\u064f\\u0648\\u064d\\u0636 \\u064f\\u0628\\u0652\\u0627\\u064c\\u0644\\u062b\\u064d\\u0642\\u064f\\u0627\\u064c\\u0641\\u064b\\u0629\\u064c \\u0648\\u064f\\u0627\\u064c\\u0644\\u064b\\u0645\\u064e\\u0639\\u064b\\u0631\\u0650\\u0641\\u0629 \\u064b.\\u0648\\u062e\\u0651\\u0644\\u0650\\u0635 \\u064f\\u0627\\u0650\\u0644\\u0650\\u0645\\u062d\\u064b\\u0627\\u0636\\u0631 \\u0625\\u064e\\u0644\\u0651\\u0649\\u0652 \\u0623\\u064b\\u0646 \\u064c\\u062b\\u064e\\u0645\\u0629\\u0651 \\u064b\\u062b\\u0644\\u0627\\u064e\\u062b\\u064c \\u0646\\u0642\\u0651\\u0627\\u0637 \\u064e\\u0644\\u064b\\u0644\\u0650\\u0627\\u064b\\u0631\\u064c\\u062a\\u0642\\u0650\\u0627\\u0621\\u064b \\u064e\\u0628\\u064d\\u0627\\u064d\\u0644\\u0641\\u0643\\u0652\\u0631\\u0629 \\u064d\\u0627\\u064d\\u0644\\u062b\\u0642\\u0651\\u0627\\u0641\\u064d\\u064a\\u064d\\u0629\\u0650 \\u0641\\u064e\\u064a\\u064d \\u064f\\u0627\\u0644\\u064c\\u0634\\u064d\\u0627\\u0631\\u0652\\u0642\\u0629 \\u0623\\u064d\\u0648\\u0644\\u0650\\u0647\\u0627 \\u064d\\u062a\\u0652\\u0623\\u064b\\u0633\\u064e\\u064a\\u0633 \\u0650\\u062f\\u0652\\u0627\\u0652\\u0626\\u0650\\u0631\\u0652\\u0629\\u064e \\u064e\\u0627\\u0644\\u062b\\u0642\\u0651\\u0627\\u0641\\u0629 \\u0648\\u064e\\u0627\\u0650\\u0644\\u064e\\u0625\\u0639\\u0650\\u0644\\u0627\\u0645\\u0651\\u060c \\u064c\\u0648\\u0650\\u062b\\u0652\\u0627\\u0646\\u064a\\u0647\\u0651\\u0627\\u064c \\u0627\\u062c\\u062a\\u0651\\u0645\\u064d\\u0627\\u064d\\u0639 \\u064e\\u0635\\u0627\\u062d\\u0650\\u0628\\u0650 \\u0627\\u0651\\u0644\\u0651\\u0633\\u0651\\u0645\\u0648\\u064d \\u0650\\u062d\\u0627\\u064f\\u0643\\u064b\\u0645 \\u0627\\u0644\\u064f\\u0634\\u0652\\u0627\\u064b\\u0631\\u0642\\u064d\\u0629\\u0651 \\u064c\\u0628\\u0643\\u064f\\u0648\\u0650\\u0627\\u062f\\u064c\\u0631 \\u0627\\u0644\\u064b\\u062f\\u064b\\u0627\\u0650\\u0626\\u0631\\u064b\\u0629 \\u064c\\u0648\\u0642\\u0651\\u062f\\u064f\\u0651\\u0645 \\u0641\\u0651\\u064a\\u0647\\u064f \\u0645\\u062c\\u0650\\u0645\\u064b\\u0648\\u064d\\u0639\\u0651\\u0629\\u064d \\u0645\\u064f\\u0646 \\u0652\\u0627\\u064e\\u0644\\u0633\\u064a\\u0651\\u0627\\u0651\\u0633\\u0627\\u062a \\u0651\\u0627\\u0644\\u062b\\u0642\\u064c\\u0627\\u064b\\u0641\\u064a\\u064e\\u0629 \\u0648\\u064c\\u0627\\u0644\\u062e\\u0651\\u0637\\u0637\\u064b \\u0627\\u0644\\u064d\\u062a\\u0646\\u0645\\u064e\\u0648\\u064a\\u0650\\u0629 \\u0651\\u0648\\u062f\\u0652\\u0639\\u0627 \\u064c\\u0633\\u0650\\u0645\\u064b\\u0648\\u064c\\u0647 \\u064c\\u0625\\u0650\\u0644\\u064f\\u0649: \\u0627\\u0644\\u0627\\u0647\\u0651\\u062a\\u064f\\u0645\\u0627\\u064f\\u0645 \\u0628\\u064b\\u0627\\u0650\\u0644\\u064f\\u0645\\u0652\\u0633\\u0631\\u062d\\u060c\\u0652 \\u0648\\u064b\\u0627\\u0651\\u0644\\u0623\\u0637\\u064c\\u0631\\u0650 \\u0627\\u064d\\u0644\\u0651\\u0639\\u0627\\u064b\\u0645\\u0629 \\u064e\\u0644\\u0644\\u0650\\u062b\\u064e\\u0642\\u0627\\u064d\\u0641\\u0629\\u064d\\u060c\\u0651 \\u0651\\u0627\\u064c\\u0644\\u0650\\u0627\\u0631\\u064f\\u062a\\u0642\\u0627\\u064f\\u0621\\u064c \\u0628\\u064d\\u0627\\u0650\\u0644\\u0639\\u0645\\u0651\\u0644\\u064e \\u0627\\u0644\\u0651\\u062a\\u064d\\u0634\\u0643\\u0651\\u064a\\u0644\\u064a\\u0650\\u060c \\u0627\\u0651\\u0644\\u0627\\u064f\\u0647\\u064f\\u062a\\u0645\\u064d\\u0627\\u0645 \\u0650\\u0628\\u0650\\u0627\\u0651\\u0644\\u064b\\u0648\\u0639\\u0651\\u064a \\u064b\\u0648\\u0650\\u0627\\u0652\\u0644\\u064f\\u0630\\u0627\\u0626\\u0650\\u0642\\u0651\\u0629\\u064c \\u0627\\u0651\\u0644\\u062c\\u0650\\u0645\\u064d\\u0627\\u0652\\u0644\\u0652\\u064a\\u0652\\u0629\\u064f\\u060c \\u0627\\u064d\\u0644\\u0650\\u0627\\u0647\\u064f\\u062a\\u0645\\u0627\\u0651\\u0645\\u0652 \\u064f\\u0628\\u064d\\u0627\\u0644\\u0637\\u0641\\u0644\\u0651\\u060c \\u0651\\u062a\\u0637\\u0648\\u064a\\u0631\\u064b \\u0634\\u0628\\u0643\\u0629\\u0652 \\u0627\\u0644\\u0645\\u0643\\u062a\\u064b\\u0628\\u0627\\u062a\\u060c\\u0652 \\u064e\\u0627\\u0633\\u062a\\u0643\\u064f\\u0645\\u064d\\u0627\\u0644\\u064d \\u0639\\u064b\\u0645\\u064b\\u0644\\u0652\\u064a\\u0627\\u062a \\u064c\\u0627\\u0644\\u064f\\u062a\\u0631\\u0645\\u064a\\u0645\\u0650\\u060c \\u064b\\u0627\\u0644\\u064d\\u0627\\u0647\\u064b\\u062a\\u064c\\u0645\\u0652\\u0627\\u0650\\u0645\\u064d \\u0650\\u0628\\u062b\\u064e\\u0642\\u0652\\u0627\\u064b\\u0641\\u064e\\u0629\\u064d \\u0650\\u0627\\u064d\\u0644\\u0645\\u0650\\u0631\\u064b\\u0623\\u064b\\u0629 \\u0650\\u0648\\u064b\\u0627\\u064f\\u0644\\u064d\\u0637\\u0641\\u0652\\u0644 .\\u0652 \\u064c.\\u064d)\\u064f \\u064b\\u0648\\u062b\\u064b\\u0627\\u064d\\u0644\\u0651\\u062b\\u064b\\u0647\\u064e\\u0627\\u064f \\u064b\\u0625\\u0650\\u0639\\u0650\\u0644\\u0651\\u0627\\u064b\\u0646\\u064f \\u0627\\u0644\\u0634\\u0627\\u0631\\u0642\\u0629\\u064f \\u0651\\u0639\\u0627\\u064d\\u0635\\u064e\\u0645\\u0629\\u064c \\u0644\\u0644\\u064b\\u062b\\u0642\\u064b\\u0627\\u0641\\u0629 \\u064b\\u0627\\u0652\\u0644\\u064e\\u0639\\u0651\\u0631\\u0628\\u064a\\u0629\\u064f \\u064b\\u0641\\u064a\\u064b \\u0639\\u0627\\u0645 19\\u06529\\u064d8 \\u064e\\u0644\\u0645\\u0627 \\u062a\\u062a\\u0645\\u064b\\u064a\\u0632\\u064f \\u0628\\u064f\\u0647\\u064e \\u064e\\u0645\\u064b\\u0646\\u064b \\u064b\\u0646\\u064e\\u0634\\u0650\\u0627\\u0637 \\u0651\\u0648\\u064f\\u062d\\u064b\\u0631\\u0627\\u0643\\u064d \\u064f\\u062b\\u0642\\u0627\\u0641\\u064a\\u0650 \\u0645\\u0652\\u0645\\u064c\\u064a\\u0632\\u064d\\u060c\\u064e \\u064b\\u0641\\u0636\\u0644\\u0627\\u064b\\u064e \\u064f\\u0639\\u0650\\u0646 \\u062f\\u0648\\u0631\\u064b \\u064c\\u0627\\u0644\\u064d\\u062c\\u064f\\u0648\\u0627\\u0652\\u0626\\u064f\\u0632\\u0651 \\u0648\\u0635\\u0650\\u0646\\u064f\\u0627\\u062f\\u0651\\u064a\\u064b\\u0642 \\u064f\\u0627\\u064b\\u0644\\u062f\\u064d\\u0639\\u064c\\u0645\\u060c \\u064d\\u0648\\u0627\\u064f\\u0644\\u062f\\u0628\\u0652\\u0644\\u064b\\u0648\\u0645\\u0627\\u0633\\u064d\\u064a\\u0629 \\u064f\\u0627\\u0650\\u0644\\u064b\\u062b\\u0652\\u0642\\u0627\\u0641\\u0651\\u064a\\u0629\\u060c\\u064e \\u0648\\u0639\\u0650\\u062f\\u062f \\u0648\\u0652\\u0646\\u064c\\u0648\\u0639 \\u064b\\u0627\\u064b\\u0644\\u064c\\u062c\\u064b\\u0627\\u0645\\u0639\\u0650\\u0627\\u064c\\u062a \\u0648\\u0627\\u0644\\u064e\\u0645\\u0650\\u0631\\u0627\\u0652\\u0643\\u0632\\u060c \\u064f\\u0648\\u0627\\u064b\\u0644\\u0625\\u064f\\u062d\\u0635\\u064c\\u0627\\u0650\\u0621\\u064e \\u0627\\u0651\\u0644\\u0627\\u064b\\u062c\\u064f\\u062a\\u0645\\u0627\\u0650\\u0639\\u0650\\u064a\\u0651 \\u064b\\u0641\\u0651\\u064a \\u0628\\u0644\\u0648\\u064e\\u0631\\u0629\\u064f \\u064b\\u0648\\u064c\\u062a\\u064b\\u0631\\u0633\\u0652\\u064a\\u062e \\u064c\\u0645\\u064d\\u0643\\u064e\\u0627\\u0646\\u0629 \\u064b\\u0627\\u0644\\u0651\\u0634\\u0627\\u0651\\u0631\\u064e\\u0642\\u0629 \\u064d\\u0639\\u0627\\u0635\\u0645\\u0629\\u064f \\u0651\\u0644\\u064c\\u0644\\u0651\\u062b\\u064d\\u0642\\u0627\\u064d\\u0641\\u0629\\u064e \\u064c\\u0627\\u064c\\u0644\\u0652\\u0639\\u0650\\u0631\\u0628\\u064a\\u064c\\u0629 \\u0650\\u0648\\u0652\\u0627\\u0644\\u0625\\u064d\\u0633\\u0644\\u0627\\u0651\\u0645\\u064a\\u0652\\u0629\\u060c \\u0648\\u0643\\u064f\\u0644 \\u0651\\u0630\\u0652\\u0644\\u064b\\u0643 \\u064b\\u0628\\u062c\\u0647\\u062f \\u0651\\u0635\\u0651\\u0627\\u062d\\u0628\\u064d \\u0650\\u0627\\u0644\\u064d\\u0633\\u064e\\u0645\\u0648\\u0650 \\u064b\\u062d\\u0650\\u0627\\u064c\\u0643\\u064f\\u0645 \\u064d\\u0627\\u0644\\u0634\\u0627\\u0631\\u064c\\u0642\\u0629 \\u0627\\u064e\\u0644\\u0650\\u0630\\u064a\\u064b \\u064e\\u0639\\u0645\\u064f\\u0644 \\u0651\\u0648\\u064d\\u0644\\u0627 \\u064a\\u0632\\u064f\\u0627\\u064e\\u0644 \\u0628\\u0634\\u063a\\u0641\\u0652 \\u0648\\u062d\\u0628\\u064f \\u0639\\u064f\\u0644\\u0649\\u0652 \\u062a\\u064c\\u0639\\u0632\\u064b\\u064a\\u064b\\u0632\\u064e \\u064c\\u0627\\u064f\\u0644\\u064e\\u062a\\u0646\\u064b\\u0645\\u0651\\u064a\\u064d\\u0629\\u064c \\u0627\\u064e\\u0644\\u064b\\u062b\\u0642\\u064e\\u0627\\u064d\\u0641\\u064c\\u064a\\u0629 \\u064e\\u0641\\u0650\\u064a\\u064f \\u0627\\u0652\\u0644\\u064e\\u0634\\u0627\\u0631\\u064e\\u0642\\u064d\\u0629\\u064e \\u0645\\u0646\\u0650 \\u062e\\u064b\\u0644\\u0650\\u0627\\u0650\\u0644\\u0651 \\u0651\\u0633\\u064e\\u0646\\u0651 \\u0648\\u0625\\u0642\\u064b\\u0631\\u0651\\u0627\\u0631 \\u0645\\u062c\\u0645\\u0648\\u064c\\u0639\\u064e\\u0629\\u064e \\u0645\\u064f\\u0646\\u0651 \\u0627\\u064b\\u0644\\u0645\\u064d\\u0634\\u0650\\u0631\\u0648\\u0639\\u064f\\u0627\\u064f\\u062a\\u0652 \\u0627\\u0644\\u0651\\u062b\\u0650\\u0642\\u0627\\u0652\\u0641\\u0650\\u064a\\u0629\\u064c \\u0650\\u0627\\u0644\\u062a\\u064d\\u064a \\u064e\\u062a\\u064c\\u0647\\u064e\\u062f\\u064d\\u0641\\u064e \\u0625\\u064e\\u0644\\u0650\\u0649 \\u0652\\u062a\\u062d\\u0642\\u064a\\u0642 \\u0630\\u0644\\u0643\\u064d\\u060c\\u064b \\u0650\\u062d\\u062a\\u0650\\u0649 \\u0652\\u0623\\u064e\\u0635\\u0628\\u062d\\u062a\\u0651 \\u064c\\u0627\\u064e\\u0644\\u0634\\u0627\\u064c\\u0631\\u064c\\u0642\\u064b\\u0629\\u0652 \\u0627\\u0644\\u0651\\u064a\\u0648\\u064c\\u0645 \\u0651\\u0648\\u064f\\u062c\\u0647\\u064b\\u0629\\u064e \\u064a\\u0624\\u064f\\u0645\\u064e\\u0647\\u064c\\u0627 \\u0652\\u0627\\u0644\\u064e\\u0645\\u0641\\u064e\\u0643\\u0631\\u0651\\u0648\\u0651\\u0646 \\u0648\\u0650\\u0627\\u0644\\u0645\\u0651\\u062b\\u0642\\u0650\\u0641\\u0651\\u0648\\u0646 \\u0648\\u0627\\u0644\\u0645\\u064f\\u0628\\u064c\\u062f\\u0639\\u064c\\u0648\\u0650\\u0646 \\u0652\\u0648\\u0652\\u0627\\u0651\\u0644\\u064c\\u0643\\u062a\\u064c\\u0627\\u0628\\u0650 \\u064c\\u0645\\u0650\\u0646\\u064f \\u0634\\u062a\\u0650\\u0649\\u064e \\u0623\\u064f\\u0646\\u064d\\u062d\\u0627\\u0621 \\u0627\\u064d\\u0644\\u0652\\u0639\\u0627\\u0644\\u064f\\u0645\\u060c\\u0650 \\u064e\\u0634\\u064b\\u0627\\u0652\\u0645\\u062e\\u0651\\u0629\\u064e \\u0631\\u0627\\u0633\\u062e\\u064b\\u0629 \\u064c\\u0628\\u064c\\u0639\\u0651\\u0637\\u064c\\u0627\\u0626\\u064f\\u0647\\u0650\\u0627 \\u064e\\u0648\\u062a\\u064b\\u0642\\u0650\\u062f\\u0645\\u0647\\u064d\\u0627 \\u0650.\\u064f\"\n        ],\n        \"semantic_type\": \"\",\n        \"description\": \"\"\n      }\n    },\n    {\n      \"column\": \"label\",\n      \"properties\": {\n        \"dtype\": \"category\",\n        \"num_unique_values\": 7,\n        \"samples\": [\n          \"Culture\",\n          \"Finance\",\n          \"Sports\"\n        ],\n        \"semantic_type\": \"\",\n        \"description\": \"\"\n      }\n    }\n  ]\n}"
            }
          },
          "metadata": {},
          "execution_count": 4
        }
      ],
      "source": [
        "df = pd.read_csv(\"sanad.csv\")\n",
        "df.head()"
      ]
    },
    {
      "cell_type": "code",
      "execution_count": 5,
      "metadata": {
        "colab": {
          "base_uri": "https://localhost:8080/",
          "height": 335
        },
        "id": "sye80ixHBK8h",
        "outputId": "f5420a2d-5e33-455c-e445-25412eea75e8"
      },
      "outputs": [
        {
          "output_type": "execute_result",
          "data": {
            "text/plain": [
              "label\n",
              "Politics    6334\n",
              "Medical     6292\n",
              "Culture     6098\n",
              "Finance     6095\n",
              "Tech        5979\n",
              "Sports      5859\n",
              "Religion    3228\n",
              "Name: count, dtype: int64"
            ],
            "text/html": [
              "<div>\n",
              "<style scoped>\n",
              "    .dataframe tbody tr th:only-of-type {\n",
              "        vertical-align: middle;\n",
              "    }\n",
              "\n",
              "    .dataframe tbody tr th {\n",
              "        vertical-align: top;\n",
              "    }\n",
              "\n",
              "    .dataframe thead th {\n",
              "        text-align: right;\n",
              "    }\n",
              "</style>\n",
              "<table border=\"1\" class=\"dataframe\">\n",
              "  <thead>\n",
              "    <tr style=\"text-align: right;\">\n",
              "      <th></th>\n",
              "      <th>count</th>\n",
              "    </tr>\n",
              "    <tr>\n",
              "      <th>label</th>\n",
              "      <th></th>\n",
              "    </tr>\n",
              "  </thead>\n",
              "  <tbody>\n",
              "    <tr>\n",
              "      <th>Politics</th>\n",
              "      <td>6334</td>\n",
              "    </tr>\n",
              "    <tr>\n",
              "      <th>Medical</th>\n",
              "      <td>6292</td>\n",
              "    </tr>\n",
              "    <tr>\n",
              "      <th>Culture</th>\n",
              "      <td>6098</td>\n",
              "    </tr>\n",
              "    <tr>\n",
              "      <th>Finance</th>\n",
              "      <td>6095</td>\n",
              "    </tr>\n",
              "    <tr>\n",
              "      <th>Tech</th>\n",
              "      <td>5979</td>\n",
              "    </tr>\n",
              "    <tr>\n",
              "      <th>Sports</th>\n",
              "      <td>5859</td>\n",
              "    </tr>\n",
              "    <tr>\n",
              "      <th>Religion</th>\n",
              "      <td>3228</td>\n",
              "    </tr>\n",
              "  </tbody>\n",
              "</table>\n",
              "</div><br><label><b>dtype:</b> int64</label>"
            ]
          },
          "metadata": {},
          "execution_count": 5
        }
      ],
      "source": [
        "df.isnull().sum()\n",
        "df['label'].value_counts()"
      ]
    },
    {
      "cell_type": "markdown",
      "metadata": {
        "id": "kVc0b_9fQGeH"
      },
      "source": [
        "# Data Exploration"
      ]
    },
    {
      "cell_type": "markdown",
      "metadata": {
        "id": "a98DaVUvQsi8"
      },
      "source": [
        "Before diving into preprocessing and model building, it’s important to first explore the dataset to understand its structure, distribution, and key characteristics. This step will help you gain insights into the data and guide your decisions in subsequent steps. Here’s what to consider:\n",
        "\n",
        "1. **Inspect the Data**:\n",
        "   Start by looking at the first few rows of the dataset to get a sense of its structure. Check the columns, data types, and a few sample entries. This helps to ensure that the data is loaded correctly and gives you an initial overview of the content.\n",
        "\n",
        "2. **Check for Missing Values**:\n",
        "   Identify if there are any missing values in the dataset.\n",
        "\n",
        "3. **Distribution of Labels**:\n",
        "   Examine the distribution of the target labels (classes).\n",
        "\n",
        "4. **Text Data Characteristics (Bonus)**:\n",
        "   Analyze the length of the text data. It is useful to calculate the number of words or characters in each text sample to understand how long the texts are. This will help you set a suitable `max_length` for tokenization and padding later. You can plot a histogram of text lengths to visualize the distribution.\n",
        "\n",
        "5. **Common Words and Vocabulary (Bonus)**:\n",
        "   Explore the most frequent words in the text data."
      ]
    },
    {
      "cell_type": "code",
      "execution_count": 6,
      "metadata": {
        "colab": {
          "base_uri": "https://localhost:8080/",
          "height": 147
        },
        "id": "8xf1-2qUB4_k",
        "outputId": "20af1a5b-5131-43a2-e8b7-5b96b41976f9"
      },
      "outputs": [
        {
          "output_type": "execute_result",
          "data": {
            "text/plain": [
              "text     0\n",
              "label    0\n",
              "dtype: int64"
            ],
            "text/html": [
              "<div>\n",
              "<style scoped>\n",
              "    .dataframe tbody tr th:only-of-type {\n",
              "        vertical-align: middle;\n",
              "    }\n",
              "\n",
              "    .dataframe tbody tr th {\n",
              "        vertical-align: top;\n",
              "    }\n",
              "\n",
              "    .dataframe thead th {\n",
              "        text-align: right;\n",
              "    }\n",
              "</style>\n",
              "<table border=\"1\" class=\"dataframe\">\n",
              "  <thead>\n",
              "    <tr style=\"text-align: right;\">\n",
              "      <th></th>\n",
              "      <th>0</th>\n",
              "    </tr>\n",
              "  </thead>\n",
              "  <tbody>\n",
              "    <tr>\n",
              "      <th>text</th>\n",
              "      <td>0</td>\n",
              "    </tr>\n",
              "    <tr>\n",
              "      <th>label</th>\n",
              "      <td>0</td>\n",
              "    </tr>\n",
              "  </tbody>\n",
              "</table>\n",
              "</div><br><label><b>dtype:</b> int64</label>"
            ]
          },
          "metadata": {},
          "execution_count": 6
        }
      ],
      "source": [
        "df.isnull().sum()"
      ]
    },
    {
      "cell_type": "code",
      "execution_count": 7,
      "metadata": {
        "colab": {
          "base_uri": "https://localhost:8080/",
          "height": 175
        },
        "id": "ECSCL_lvCAtK",
        "outputId": "a54ac41c-b624-4765-b58e-20b69197717c"
      },
      "outputs": [
        {
          "output_type": "execute_result",
          "data": {
            "text/plain": [
              "                                                     text     label\n",
              "count                                               39885     39885\n",
              "unique                                              39885         7\n",
              "top     https://example.com/resource/تنطًلقٍ اٌليومّ َ...  Politics\n",
              "freq                                                    1      6334"
            ],
            "text/html": [
              "\n",
              "  <div id=\"df-010e24f7-1b35-4696-8874-d34c436a83c2\" class=\"colab-df-container\">\n",
              "    <div>\n",
              "<style scoped>\n",
              "    .dataframe tbody tr th:only-of-type {\n",
              "        vertical-align: middle;\n",
              "    }\n",
              "\n",
              "    .dataframe tbody tr th {\n",
              "        vertical-align: top;\n",
              "    }\n",
              "\n",
              "    .dataframe thead th {\n",
              "        text-align: right;\n",
              "    }\n",
              "</style>\n",
              "<table border=\"1\" class=\"dataframe\">\n",
              "  <thead>\n",
              "    <tr style=\"text-align: right;\">\n",
              "      <th></th>\n",
              "      <th>text</th>\n",
              "      <th>label</th>\n",
              "    </tr>\n",
              "  </thead>\n",
              "  <tbody>\n",
              "    <tr>\n",
              "      <th>count</th>\n",
              "      <td>39885</td>\n",
              "      <td>39885</td>\n",
              "    </tr>\n",
              "    <tr>\n",
              "      <th>unique</th>\n",
              "      <td>39885</td>\n",
              "      <td>7</td>\n",
              "    </tr>\n",
              "    <tr>\n",
              "      <th>top</th>\n",
              "      <td>https://example.com/resource/تنطًلقٍ اٌليومّ َ...</td>\n",
              "      <td>Politics</td>\n",
              "    </tr>\n",
              "    <tr>\n",
              "      <th>freq</th>\n",
              "      <td>1</td>\n",
              "      <td>6334</td>\n",
              "    </tr>\n",
              "  </tbody>\n",
              "</table>\n",
              "</div>\n",
              "    <div class=\"colab-df-buttons\">\n",
              "\n",
              "  <div class=\"colab-df-container\">\n",
              "    <button class=\"colab-df-convert\" onclick=\"convertToInteractive('df-010e24f7-1b35-4696-8874-d34c436a83c2')\"\n",
              "            title=\"Convert this dataframe to an interactive table.\"\n",
              "            style=\"display:none;\">\n",
              "\n",
              "  <svg xmlns=\"http://www.w3.org/2000/svg\" height=\"24px\" viewBox=\"0 -960 960 960\">\n",
              "    <path d=\"M120-120v-720h720v720H120Zm60-500h600v-160H180v160Zm220 220h160v-160H400v160Zm0 220h160v-160H400v160ZM180-400h160v-160H180v160Zm440 0h160v-160H620v160ZM180-180h160v-160H180v160Zm440 0h160v-160H620v160Z\"/>\n",
              "  </svg>\n",
              "    </button>\n",
              "\n",
              "  <style>\n",
              "    .colab-df-container {\n",
              "      display:flex;\n",
              "      gap: 12px;\n",
              "    }\n",
              "\n",
              "    .colab-df-convert {\n",
              "      background-color: #E8F0FE;\n",
              "      border: none;\n",
              "      border-radius: 50%;\n",
              "      cursor: pointer;\n",
              "      display: none;\n",
              "      fill: #1967D2;\n",
              "      height: 32px;\n",
              "      padding: 0 0 0 0;\n",
              "      width: 32px;\n",
              "    }\n",
              "\n",
              "    .colab-df-convert:hover {\n",
              "      background-color: #E2EBFA;\n",
              "      box-shadow: 0px 1px 2px rgba(60, 64, 67, 0.3), 0px 1px 3px 1px rgba(60, 64, 67, 0.15);\n",
              "      fill: #174EA6;\n",
              "    }\n",
              "\n",
              "    .colab-df-buttons div {\n",
              "      margin-bottom: 4px;\n",
              "    }\n",
              "\n",
              "    [theme=dark] .colab-df-convert {\n",
              "      background-color: #3B4455;\n",
              "      fill: #D2E3FC;\n",
              "    }\n",
              "\n",
              "    [theme=dark] .colab-df-convert:hover {\n",
              "      background-color: #434B5C;\n",
              "      box-shadow: 0px 1px 3px 1px rgba(0, 0, 0, 0.15);\n",
              "      filter: drop-shadow(0px 1px 2px rgba(0, 0, 0, 0.3));\n",
              "      fill: #FFFFFF;\n",
              "    }\n",
              "  </style>\n",
              "\n",
              "    <script>\n",
              "      const buttonEl =\n",
              "        document.querySelector('#df-010e24f7-1b35-4696-8874-d34c436a83c2 button.colab-df-convert');\n",
              "      buttonEl.style.display =\n",
              "        google.colab.kernel.accessAllowed ? 'block' : 'none';\n",
              "\n",
              "      async function convertToInteractive(key) {\n",
              "        const element = document.querySelector('#df-010e24f7-1b35-4696-8874-d34c436a83c2');\n",
              "        const dataTable =\n",
              "          await google.colab.kernel.invokeFunction('convertToInteractive',\n",
              "                                                    [key], {});\n",
              "        if (!dataTable) return;\n",
              "\n",
              "        const docLinkHtml = 'Like what you see? Visit the ' +\n",
              "          '<a target=\"_blank\" href=https://colab.research.google.com/notebooks/data_table.ipynb>data table notebook</a>'\n",
              "          + ' to learn more about interactive tables.';\n",
              "        element.innerHTML = '';\n",
              "        dataTable['output_type'] = 'display_data';\n",
              "        await google.colab.output.renderOutput(dataTable, element);\n",
              "        const docLink = document.createElement('div');\n",
              "        docLink.innerHTML = docLinkHtml;\n",
              "        element.appendChild(docLink);\n",
              "      }\n",
              "    </script>\n",
              "  </div>\n",
              "\n",
              "\n",
              "<div id=\"df-01731f9c-fddf-4461-bc99-057aa5997267\">\n",
              "  <button class=\"colab-df-quickchart\" onclick=\"quickchart('df-01731f9c-fddf-4461-bc99-057aa5997267')\"\n",
              "            title=\"Suggest charts\"\n",
              "            style=\"display:none;\">\n",
              "\n",
              "<svg xmlns=\"http://www.w3.org/2000/svg\" height=\"24px\"viewBox=\"0 0 24 24\"\n",
              "     width=\"24px\">\n",
              "    <g>\n",
              "        <path d=\"M19 3H5c-1.1 0-2 .9-2 2v14c0 1.1.9 2 2 2h14c1.1 0 2-.9 2-2V5c0-1.1-.9-2-2-2zM9 17H7v-7h2v7zm4 0h-2V7h2v10zm4 0h-2v-4h2v4z\"/>\n",
              "    </g>\n",
              "</svg>\n",
              "  </button>\n",
              "\n",
              "<style>\n",
              "  .colab-df-quickchart {\n",
              "      --bg-color: #E8F0FE;\n",
              "      --fill-color: #1967D2;\n",
              "      --hover-bg-color: #E2EBFA;\n",
              "      --hover-fill-color: #174EA6;\n",
              "      --disabled-fill-color: #AAA;\n",
              "      --disabled-bg-color: #DDD;\n",
              "  }\n",
              "\n",
              "  [theme=dark] .colab-df-quickchart {\n",
              "      --bg-color: #3B4455;\n",
              "      --fill-color: #D2E3FC;\n",
              "      --hover-bg-color: #434B5C;\n",
              "      --hover-fill-color: #FFFFFF;\n",
              "      --disabled-bg-color: #3B4455;\n",
              "      --disabled-fill-color: #666;\n",
              "  }\n",
              "\n",
              "  .colab-df-quickchart {\n",
              "    background-color: var(--bg-color);\n",
              "    border: none;\n",
              "    border-radius: 50%;\n",
              "    cursor: pointer;\n",
              "    display: none;\n",
              "    fill: var(--fill-color);\n",
              "    height: 32px;\n",
              "    padding: 0;\n",
              "    width: 32px;\n",
              "  }\n",
              "\n",
              "  .colab-df-quickchart:hover {\n",
              "    background-color: var(--hover-bg-color);\n",
              "    box-shadow: 0 1px 2px rgba(60, 64, 67, 0.3), 0 1px 3px 1px rgba(60, 64, 67, 0.15);\n",
              "    fill: var(--button-hover-fill-color);\n",
              "  }\n",
              "\n",
              "  .colab-df-quickchart-complete:disabled,\n",
              "  .colab-df-quickchart-complete:disabled:hover {\n",
              "    background-color: var(--disabled-bg-color);\n",
              "    fill: var(--disabled-fill-color);\n",
              "    box-shadow: none;\n",
              "  }\n",
              "\n",
              "  .colab-df-spinner {\n",
              "    border: 2px solid var(--fill-color);\n",
              "    border-color: transparent;\n",
              "    border-bottom-color: var(--fill-color);\n",
              "    animation:\n",
              "      spin 1s steps(1) infinite;\n",
              "  }\n",
              "\n",
              "  @keyframes spin {\n",
              "    0% {\n",
              "      border-color: transparent;\n",
              "      border-bottom-color: var(--fill-color);\n",
              "      border-left-color: var(--fill-color);\n",
              "    }\n",
              "    20% {\n",
              "      border-color: transparent;\n",
              "      border-left-color: var(--fill-color);\n",
              "      border-top-color: var(--fill-color);\n",
              "    }\n",
              "    30% {\n",
              "      border-color: transparent;\n",
              "      border-left-color: var(--fill-color);\n",
              "      border-top-color: var(--fill-color);\n",
              "      border-right-color: var(--fill-color);\n",
              "    }\n",
              "    40% {\n",
              "      border-color: transparent;\n",
              "      border-right-color: var(--fill-color);\n",
              "      border-top-color: var(--fill-color);\n",
              "    }\n",
              "    60% {\n",
              "      border-color: transparent;\n",
              "      border-right-color: var(--fill-color);\n",
              "    }\n",
              "    80% {\n",
              "      border-color: transparent;\n",
              "      border-right-color: var(--fill-color);\n",
              "      border-bottom-color: var(--fill-color);\n",
              "    }\n",
              "    90% {\n",
              "      border-color: transparent;\n",
              "      border-bottom-color: var(--fill-color);\n",
              "    }\n",
              "  }\n",
              "</style>\n",
              "\n",
              "  <script>\n",
              "    async function quickchart(key) {\n",
              "      const quickchartButtonEl =\n",
              "        document.querySelector('#' + key + ' button');\n",
              "      quickchartButtonEl.disabled = true;  // To prevent multiple clicks.\n",
              "      quickchartButtonEl.classList.add('colab-df-spinner');\n",
              "      try {\n",
              "        const charts = await google.colab.kernel.invokeFunction(\n",
              "            'suggestCharts', [key], {});\n",
              "      } catch (error) {\n",
              "        console.error('Error during call to suggestCharts:', error);\n",
              "      }\n",
              "      quickchartButtonEl.classList.remove('colab-df-spinner');\n",
              "      quickchartButtonEl.classList.add('colab-df-quickchart-complete');\n",
              "    }\n",
              "    (() => {\n",
              "      let quickchartButtonEl =\n",
              "        document.querySelector('#df-01731f9c-fddf-4461-bc99-057aa5997267 button');\n",
              "      quickchartButtonEl.style.display =\n",
              "        google.colab.kernel.accessAllowed ? 'block' : 'none';\n",
              "    })();\n",
              "  </script>\n",
              "</div>\n",
              "\n",
              "    </div>\n",
              "  </div>\n"
            ],
            "application/vnd.google.colaboratory.intrinsic+json": {
              "type": "dataframe",
              "summary": "{\n  \"name\": \"df\",\n  \"rows\": 4,\n  \"fields\": [\n    {\n      \"column\": \"text\",\n      \"properties\": {\n        \"dtype\": \"string\",\n        \"num_unique_values\": 3,\n        \"samples\": [\n          \"39885\",\n          \"https://example.com/resource/\\u062a\\u0646\\u0637\\u064b\\u0644\\u0642\\u064d \\u0627\\u064c\\u0644\\u064a\\u0648\\u0645\\u0651 \\u064e\\u0641\\u0651\\u064a\\u064d \\u0645\\u0631\\u0643\\u064e\\u0632\\u064c \\u064d\\u0645\\u0639\\u0627\\u0631\\u0636\\u064f \\u064b\\u0645\\u064f\\u0637\\u0627\\u0631 \\u062f\\u0628\\u064b\\u064a \\u0627\\u064f\\u0644\\u062f\\u0648\\u064e\\u0631\\u0629 \\u0627\\u064d\\u0644\\u064e \\u065021\\u064c \\u0651\\u0644\\u0652\\u0645\\u064e\\u0639\\u0631\\u0636\\u0652 \\u064d\\u062c\\u064e\\u064a\\u062a\\u0650\\u0643\\u064d\\u0633\\u064c \\u0634\\u064d\\u0648\\u0628\\u0631 \\u060c\\u065120\\u064f1\\u064d1 \\u064e\\u0627\\u0644\\u0630\\u0651\\u064a\\u064f \\u064f\\u064a\\u064b\\u0648\\u0627\\u064b\\u0635\\u0650\\u0644\\u064e \\u0627\\u0633\\u064e\\u062a\\u064b\\u0642\\u0628\\u0627\\u0651\\u0644 \\u064f\\u0627\\u0652\\u0644\\u064f\\u0645\\u064d\\u062a\\u064e\\u0633\\u064d\\u0648\\u0642\\u064a\\u0646\\u0652 \\u0645\\u064d\\u0646\\u064b \\u064b\\u0627\\u064b\\u0644\\u062f\\u0648\\u0644\\u0629 \\u0648\\u0651\\u062f\\u064d\\u0648\\u064d\\u0644\\u064b \\u064f\\u0645\\u062c\\u0644\\u0633\\u064f \\u064e\\u0627\\u0644\\u064c\\u062a\\u064e\\u0639\\u0627\\u0648\\u064d\\u0646\\u0652 \\u064f\\u0648\\u0627\\u0644\\u0645\\u064d\\u0646\\u064c\\u0637\\u064e\\u0642\\u0629\\u064b \\u0650\\u062d\\u062a\\u0651\\u0649 \\u0627\\u0650\\u0644\\u0652\\u0633\\u0628\\u062a\\u0651 \\u064f\\u0627\\u0644\\u0645\\u0642\\u0628\\u0644\\u0652 \\u064b1\\u06525\\u0652 \\u0652\\u0623\\u064e\\u0643\\u062a\\u064b\\u0648\\u0628\\u064b\\u0631\\u0652 \\u064f\\u0627\\u0644\\u062c\\u0627\\u0631\\u064a\\u0651 \\u0652\\u0648\\u0633\\u0637 \\u0645\\u0650\\u0646\\u0651\\u0627\\u064b\\u0641\\u0633\\u0629\\u064d \\u0642\\u0650\\u0648\\u064a\\u0629 \\u0645\\u0646\\u064f \\u0646\\u064b\\u062d\\u0648 \\u0651100 \\u064f\\u0634\\u0631\\u064d\\u0643\\u064d\\u0629\\u0652 \\u0650\\u0645\\u062a\\u0650\\u062e\\u0651\\u0635\\u0635\\u0651\\u0629 \\u064b\\u0641\\u064a \\u0645\\u0628\\u064b\\u064a\\u0639\\u0627\\u062a \\u0625\\u064f\\u0644\\u0643\\u064c\\u062a\\u0631\\u0651\\u0648\\u064c\\u0646\\u0652\\u064a\\u0627\\u064f\\u062a \\u064d\\u0627\\u0650\\u0644\\u062a\\u062c\\u0632\\u0650\\u0626\\u064b\\u0629\\u064e \\u0648\\u064e\\u0627\\u0652\\u0644\\u0652\\u0630\\u064d\\u064a\\u064e\\u0646 \\u064a\\u0633\\u064c\\u062a\\u0647\\u062f\\u064e\\u0641\\u064c\\u0648\\u0646\\u064b \\u064b\\u062a\\u062d\\u0651\\u0642\\u064f\\u064a\\u0642 \\u0646\\u064f\\u0633\\u0651\\u0628 \\u064d\\u0646\\u0645\\u064b\\u0648\\u0652 \\u0644\\u0651\\u0645\\u0628\\u064f\\u064a\\u064b\\u0639\\u0627\\u062a\\u0647\\u0645\\u0652 \\u064e\\u062a\\u062a\\u0631\\u064d\\u0627\\u0648\\u064b\\u062d \\u0651\\u0628\\u064a\\u064e\\u0646\\u064d \\u06501\\u06525 \\u064d\\u0648\\u064b25\\u064d \\u064f%\\u0650\\u060c\\u064b \\u064f\\u062d\\u0633\\u0628 \\u0625\\u0641\\u0627\\u064c\\u062f\\u062a\\u0647\\u0645\\u064e \\u0644\\u064c\\u0627\\u064e\\u0644\\u062e\\u0650\\u0644\\u064c\\u064a\\u064e\\u062c .\\u0652\\u0648\\u062a\\u0652\\u062a\\u064f\\u0646\\u064e\\u0627\\u0651\\u0641\\u064e\\u0633 \\u064f\\u0627\\u0650\\u0644\\u0634\\u0651\\u0631\\u0643\\u064e\\u0627\\u062a \\u064e\\u0627\\u0644\\u064d\\u0639\\u064d\\u0627\\u064b\\u0631\\u064b\\u0636\\u0652\\u0629 \\u0650\\u0644\\u064c\\u0623\\u0650\\u0643\\u064f\\u062b\\u0650\\u0631\\u0652 \\u0645\\u0651\\u0646\\u0652 \\u064d25 \\u0652\\u0623\\u0644\\u064d\\u0641 \\u0645\\u064b\\u0646\\u062a\\u0650\\u062c \\u0628\\u0651\\u0627\\u0644\\u064d\\u0625\\u0636\\u064c\\u0627\\u0641\\u0629\\u064f \\u064d\\u0625\\u064f\\u0644\\u0649 \\u064e\\u0634\\u064d\\u0631\\u0651\\u0643\\u064e\\u0627\\u064d\\u062a \\u0623\\u062e\\u0631\\u064c\\u0649 \\u0652\\u0645\\u0652\\u062a\\u0650\\u062e\\u064e\\u0635\\u0635\\u064d\\u0629 \\u064f\\u0641\\u064b\\u064a\\u064e \\u0628\\u064a\\u0639 \\u064b\\u0627\\u0650\\u0644\\u0623\\u0633\\u0652\\u0637\\u0648\\u0627\\u064c\\u0646\\u0652\\u0627\\u0651\\u062a\\u064b \\u064c\\u0648\\u0650\\u0627\\u0644\\u064f\\u0628\\u0652\\u0631\\u0650\\u0627\\u064c\\u0645\\u0650\\u062c \\u0627\\u064e\\u0644\\u064e\\u062a\\u0639\\u0644\\u064a\\u0645\\u064c\\u064a\\u0629 \\u0628\\u0651\\u0627\\u0650\\u0644\\u064b\\u0625\\u0636\\u0627\\u0641\\u0629\\u064d \\u0625\\u0644\\u0651\\u0649\\u064e \\u0627\\u064b\\u0644\\u064b\\u0639\\u062f\\u064a\\u0650\\u062f\\u064c \\u0650\\u0645\\u0646 \\u0627\\u064f\\u0644\\u062e\\u064d\\u062f\\u064b\\u0645\\u0627\\u062a\\u064b \\u0627\\u064e\\u0644\\u0623\\u062e\\u0631\\u0649\\u064c\\u060c\\u0651 \\u0648\\u064c\\u062a\\u064b\\u0633\\u064b\\u062a\\u062d\\u0648\\u064f\\u0630\\u064b \\u064d\\u0639\\u0631\\u0648\\u0636 \\u0651\\u0634\\u0631\\u064e\\u0643\\u0650\\u0627\\u062a\\u0651 \\u0627\\u062a\\u0635\\u0651\\u0627\\u0644\\u0650\\u0627\\u064d\\u062a \\u064d\\u0648\\u062f\\u0648 \\u0644\\u064b\\u0628\\u064a\\u0639\\u064e \\u064f\\u0627\\u0644\\u064d\\u0647\\u0648\\u0627\\u062a\\u0650\\u0641\\u064d \\u064e\\u0627\\u064e\\u0644\\u064d\\u0645\\u062d\\u0645\\u0648\\u0644\\u0629\\u064d \\u064d\\u0648\\u064b\\u0641\\u0651\\u0642 \\u0652\\u0639\\u064e\\u0631\\u0650\\u0648\\u0636\\u064f\\u0647\\u0627 \\u0627\\u0652\\u0644\\u0651\\u062e\\u0627\\u0635\\u0652\\u0629 \\u064f\\u0628\\u0627\\u0652\\u0644\\u0625\\u0651\\u0636\\u0627\\u0652\\u0641\\u064b\\u0629 \\u0652\\u0625\\u064c\\u0644\\u064f\\u0649\\u064e \\u0623\\u0650\\u062c\\u0647\\u0632\\u0629\\u0650 \\u0627\\u0652\\u0644\\u0643\\u064e\\u0645\\u064d\\u0628\\u0651\\u064a\\u0648\\u062a\\u064f\\u0631\\u064d \\u0627\\u064f\\u0644\\u064b\\u0645\\u062d\\u0652\\u0645\\u064e\\u0648\\u064e\\u0644\\u064e \\u0648\\u064e\\u0627\\u064b\\u0644\\u064b\\u0623\\u064e\\u062c\\u0647\\u0632\\u0652\\u0629\\u064b \\u0627\\u0644\\u0644\\u0648\\u064f\\u062d\\u064a\\u064d\\u0629 \\u0648\\u064f\\u0627\\u064d\\u0644\\u064f\\u0647\\u064b\\u0648\\u0627\\u064f\\u062a\\u0641 \\u0651\\u0627\\u0644\\u0645\\u0650\\u062d\\u064e\\u0645\\u0648\\u0644\\u0629 \\u0651\\u0648\\u064c\\u0627\\u064b\\u0644\\u064c\\u0643\\u0627\\u0651\\u0645\\u064f\\u064a\\u0650\\u0631\\u0627\\u0651\\u062a\\u0652 \\u0628\\u064e\\u0623\\u064f\\u0646\\u0648\\u0627\\u0639\\u0647\\u064b\\u0627\\u0650 \\u064e\\u0639\\u0644\\u064d\\u0649 \\u064b\\u0627\\u0650\\u0647\\u062a\\u0652\\u0645\\u0627\\u064d\\u0645\\u064c \\u064b\\u0627\\u0652\\u0644\\u064d\\u063a\\u0651\\u0627\\u064e\\u0644\\u064b\\u0628\\u064a\\u0652\\u0629\\u0650 \\u0627\\u0644\\u064f\\u0639\\u0638\\u0650\\u0645\\u064d\\u0649 \\u0645\\u0646\\u0652 \\u064e\\u0632\\u0648\\u0627\\u0631\\u064c \\u0627\\u0652\\u0644\\u064c\\u0645\\u064f\\u0639\\u064e\\u0631\\u0636 \\u064d\\u0627\\u0644\\u0651\\u0630\\u0650\\u064a\\u0646\\u0651 \\u0650\\u064a\\u062a\\u064e\\u0648\\u064d\\u0642\\u064e\\u0639\\u064c \\u064b\\u0623\\u064c\\u0646 \\u064d\\u064a\\u0632\\u064a\\u064c\\u062f\\u064d \\u064f\\u0639\\u0651\\u062f\\u064f\\u062f\\u0651\\u0647\\u0645 \\u0650\\u0639\\u0651\\u0644\\u0650\\u0649 1\\u065260\\u0650 \\u0623\\u064f\\u0644\\u0652\\u0641\\u0651 \\u0632\\u064f\\u0627\\u0626\\u0631 \\u0650\\u0627\\u064e\\u0644\\u0639\\u0627\\u064c\\u0645 \\u064c\\u0627\\u064e\\u0644\\u0645\\u0652\\u0627\\u0651\\u0636\\u064a \\u064d.\\u0648\\u064c\\u064a\\u0642\\u0651\\u062f\\u064e\\u0645\\u0652 \\u0623\\u0651\\u0628\\u0652\\u0631\\u064c\\u0632\\u064e \\u0652\\u0627\\u0644\\u064f\\u0645\\u0648\\u064e\\u0632\\u0651\\u0639\\u064a\\u0650\\u0646 \\u064f\\u0627\\u0652\\u0644\\u0650\\u0625\\u064d\\u0642\\u0644\\u0650\\u064a\\u0645\\u0652\\u064a\\u0652\\u064a\\u0652\\u0646 \\u0648\\u0652\\u0634\\u0631\\u0643\\u0651\\u0627\\u064f\\u062a\\u064c \\u064e\\u0627\\u0650\\u0644\\u0628\\u064a\\u0639\\u0651 \\u064b\\u0628\\u0627\\u0644\\u062a\\u0651\\u062c\\u064e\\u0632\\u064b\\u0626\\u0629 \\u0648\\u0639\\u0644\\u0649 \\u0631\\u0623\\u0650\\u0633\\u0647\\u064e\\u0627\\u0650 \\u0634\\u0631\\u0641 \\u064e\\u062f\\u064a \\u064e\\u062c\\u064a\\u064c \\u064d\\u0648\\u064c\\u0628\\u064c\\u0644\\u0651\\u062c\\u064d-\\u064b \\u0652\\u0625\\u0646\\u0633 \\u064c\\u0648\\u062c\\u064f\\u0627\\u0643\\u0650\\u064a\\u0632 \\u064e\\u0625\\u064e\\u0644\\u064d\\u0643\\u0650\\u062a\\u0631\\u0648\\u064b\\u0646\\u064a\\u0652\\u0643\\u064c\\u0633\\u0651\\u060c \\u0648\\u062c\\u0645\\u064f\\u0628\\u0648 \\u0625\\u064e\\u0644\\u0643\\u062a\\u0631\\u064b\\u0648\\u0650\\u0646\\u0651\\u064a\\u064d\\u0643\\u0633\\u064b \\u0652\\u0648\\u064e\\u0622\\u0651\\u064a\\u0652 \\u064f\\u0633\\u062a\\u0650\\u0627\\u0652\\u064a\\u0644\\u060c\\u064b \\u064e\\u0648\\u064b\\u0625\\u0651\\u064a- \\u0633\\u064a\\u062a\\u064f\\u064a\\u060c \\u0648\\u064b\\u0643\\u0648\\u0645\\u0628\\u0650\\u064a\\u064d\\u0648 \\u0645\\u064d\\u064a\\u064e \\u0648\\u0651\\u0625\\u0650\\u064a \\u0641\\u0651\\u0648\\u0631\\u0650 \\u064a\\u0648\\u0651\\u060c\\u064c \\u0648\\u0625\\u064b\\u064a \\u0650\\u0645\\u064e\\u0627\\u0643\\u0651\\u0633\\u064c\\u060c \\u0648\\u062a\\u064f\\u062a\\u064d\\u0634 \\u0645\\u0650\\u0627\\u064a\\u0651\\u062a\\u0651\\u060c \\u062a\\u064d\\u062e\\u064f\\u0641\\u0652\\u064a\\u064d\\u0636\\u0652\\u0627\\u064f\\u062a \\u0641\\u064a\\u0651 \\u0623\\u0633\\u064c\\u0639\\u0652\\u0627\\u0631 \\u064c\\u0628\\u0639\\u064f\\u0636 \\u0627\\u0644\\u064b\\u0645\\u064f\\u0646\\u064e\\u062a\\u062c\\u0627\\u062a \\u0648\\u0645\\u0646\\u062a\\u062c\\u0650\\u0627\\u064e\\u062a \\u0645\\u0651\\u062c\\u0627\\u0646\\u064a\\u0629\\u064b \\u0639\\u0644\\u064d\\u0649\\u0650 \\u064f\\u0634\\u0651\\u0631\\u064c\\u0627\\u064e\\u0621\\u064e \\u064f\\u0628\\u0639\\u0636 \\u0627\\u0644\\u0645\\u0646\\u062a\\u064b\\u062c\\u0627\\u064e\\u062a\\u064f \\u064f\\u0627\\u064f\\u0644\\u0623\\u0651\\u062e\\u0631\\u0649 \\u0652.\\u0648\\u0650\\u0628\\u0627\\u064e\\u0644\\u0650\\u0625\\u0636\\u0627\\u0641\\u064d\\u0629\\u064d \\u064d\\u0625\\u0644\\u0649\\u0650 \\u0650\\u0627\\u064e\\u0644\\u064e\\u0645\\u0646\\u062a\\u064b\\u062c\\u064f\\u0627\\u0651\\u062a \\u0627\\u0644\\u0625\\u0650\\u0644\\u0643\\u064f\\u062a\\u0631\\u064f\\u0648\\u0646\\u0650\\u064a\\u064d\\u0629\\u0650 \\u0627\\u0644\\u062a\\u064a \\u0650\\u0633\\u064e\\u064a\\u064d\\u062a\\u0651\\u0645 \\u064f\\u0639\\u0651\\u0631\\u0652\\u0636\\u064f\\u0647\\u0627\\u064c \\u0651\\u0643\\u064f\\u0627\\u064d\\u0644\\u0623\\u062c\\u0647\\u0632\\u0629\\u0652 \\u0627\\u0652\\u0644\\u064d\\u0644\\u0650\\u0648\\u064c\\u062d\\u0652\\u064a\\u0629\\u0650 \\u0648\\u0627\\u0650\\u0644\\u062a\\u064e\\u0644\\u0641\\u0632\\u064d\\u064a\\u064c\\u0648\\u0652\\u0646\\u064c\\u0627\\u062a\\u0650 \\u0650\\u0648\\u0623\\u0651\\u062c\\u064f\\u0647\\u0652\\u0632\\u064c\\u0629 \\u064f\\u0627\\u0644\\u062d\\u0627\\u0651\\u0633\\u064f\\u0648\\u0628 \\u0627\\u064c\\u0644\\u0645\\u064b\\u062d\\u064b\\u0645\\u0648\\u064f\\u0644\\u0629\\u064f \\u064e\\u0648\\u064c\\u0627\\u0644\\u0650\\u0647\\u0648\\u064e\\u0627\\u0652\\u062a\\u0641\\u064c \\u0627\\u064f\\u0644\\u0630\\u0650\\u0643\\u064a\\u0629\\u064d \\u064e\\u0648\\u0650\\u063a\\u064a\\u0652\\u0631\\u0651\\u0647\\u064f\\u0627\\u064e\\u060c\\u064f \\u064b\\u0641\\u064b\\u0633\\u064d\\u064a\\u0650\\u062a\\u0645\\u064c \\u0639\\u0631\\u064d\\u0636\\u064b \\u064e\\u0645\\u062c\\u064e\\u0645\\u064c\\u0648\\u064d\\u0639\\u0629 \\u0645\\u0646\\u064d \\u0652\\u0627\\u064d\\u0644\\u0651\\u0645\\u0650\\u0646\\u062a\\u062c\\u0627\\u064d\\u062a \\u0650\\u063a\\u064e\\u064a\\u0652\\u0631\\u0652 \\u064f\\u0627\\u064b\\u0644\\u064b\\u062a\\u0650\\u0642\\u0644\\u064f\\u064a\\u0652\\u062f\\u0650\\u064a\\u0629\\u064d\\u060c\\u064f \\u0650\\u0625\\u0630\\u064b \\u0650\\u062a\\u064d\\u0637\\u064e\\u0644\\u0642 \\u0634\\u0650\\u0631\\u064c\\u0643\\u064f\\u0629\\u064d \\u0652\\u062c\\u0631\\u0651\\u064a\\u0646\\u064c\\u0633\\u0627\\u064e\\u0648\\u0646\\u062f\\u064b \\u062a\\u0650\\u064a\\u0643\\u0652\\u0646\\u0648\\u0651\\u0644\\u0648\\u062c\\u064c\\u064a \\u0650\\u0633\\u0645\\u064c\\u0627\\u0639\\u0627\\u064b\\u062a\\u0652 \\u0632\\u0651\\u062c\\u0627\\u0652\\u062c\\u064e\\u064a\\u0629\\u0652 \\u0644\\u064d\\u0627\\u064e\\u0633\\u0644\\u0643\\u064a\\u0629\\u064c \\u064e\\u062c\\u0651\\u0630\\u0627\\u0628\\u064f\\u0629\\u060c\\u064b \\u0650\\u0641\\u0651\\u064a \\u064c\\u062d\\u064a\\u0646 \\u064f\\u062a\\u064d\\u0642\\u0652\\u062f\\u0651\\u064e\\u0645 \\u0651\\u0645\\u0651\\u064a\\u0652\\u0631\\u0644\\u064a\\u064d\\u0646\\u0650 \\u062f\\u064a\\u062c\\u064a\\u0650\\u062a\\u0627\\u0644 \\u0651\\u0645\\u064c\\u0631\\u064d\\u0643\\u064e\\u0628\\u0629 \\u0651\\u0625\\u0644\\u0643\\u062a\\u064e\\u0631\\u064d\\u0648\\u0646\\u064a\\u0651\\u0629\\u064b \\u064e\\u0630\\u0627\\u062a\\u064a\\u0652\\u0629 \\u0651\\u0627\\u0644\\u062a\\u0648\\u064f\\u0627\\u064d\\u0632\\u0646\\u064d \\u0628\\u064c\\u0639\\u062c\\u0644\\u062a\\u0650\\u064a\\u064c\\u0646 \\u064c\\u0627\\u0650\\u0633\\u0645\\u0647\\u0627 \\u0631\\u0650\\u0648\\u064d\\u0628\\u0648\\u0633\\u064b\\u062a\\u0651\\u064a\\u0628\\u064f \\u0648\\u064e \\u0628\\u064c\\u0644\\u064a\\u064f\\u0648 \\u0648\\u0650\\u0647\\u0652\\u0648\\u0650 \\u0623\\u064e\\u0648\\u0651\\u0644 \\u064d\\u0631\\u0648\\u064f\\u0628\\u0648\\u062a \\u064c\\u0639\\u0644\\u0649\\u0651 \\u064f\\u0647\\u064a\\u0650\\u0626\\u0629 \\u0650\\u062f\\u064a\\u0646\\u0651\\u0627\\u064e\\u0635\\u0648\\u064c\\u0631 \\u064a\\u0645\\u0650\\u0643\\u0646\\u064f \\u0651\\u0627\\u0642\\u064f\\u062a\\u064c\\u0646\\u0627\\u0624\\u0647 \\u064d\\u0643\\u062d\\u064a\\u0651\\u0648\\u0627\\u0652\\u0646\\u064d \\u0652\\u0645\\u0646\\u064b\\u0632\\u0644\\u0652\\u064a\\u064e \\u0623\\u064d\\u0644\\u064a\\u0641 \\u064f.\\u0648\\u0652\\u064a\\u0634\\u064f\\u0627\\u064b\\u0631\\u0643\\u064d \\u0641\\u064a\\u0652 \\u0627\\u0652\\u0644\\u0651\\u0645\\u064e\\u0639\\u0631\\u0651\\u0636 \\u0644\\u0644\\u0645\\u0631\\u0651\\u0629\\u0650 \\u0627\\u064e\\u0644\\u0623\\u064e\\u0648\\u0644\\u064c\\u0649 \\u064b\\u0647\\u0630\\u064d\\u0627 \\u0627\\u0652\\u0644\\u0639\\u0627\\u0645 \\u0643\\u064f\\u0644 \\u0645\\u064b\\u0646 \\u064d\\u0628\\u0648\\u0632\\u0651 \\u0648\\u0641\\u064a\\u064b\\u0631\\u0652\\u062c\\u0646 \\u0651\\u0645\\u064a\\u064b\\u062c\\u0627\\u0633\\u0652\\u062a\\u064f\\u0648\\u064e\\u0631 \\u064e\\u0648\\u0646\\u064b\\u0648\\u064b\\u0643\\u064a\\u0627\\u060c \\u0652\\u0641\\u064c\\u064a\\u064d \\u0652\\u062d\\u064a\\u0646 \\u064d\\u062a\\u0651\\u0639\\u0648\\u0651\\u062f \\u0639\\u0651\\u0644\\u0627\\u0645\\u064e\\u0627\\u062a \\u064c\\u062a\\u062c\\u0627\\u0631\\u064a\\u0629\\u064c \\u0639\\u064c\\u0627\\u0651\\u0644\\u0645\\u0650\\u064a\\u0629\\u064b \\u064c\\u0639\\u0652\\u062f\\u0650\\u0651\\u064c\\u0629 \\u0644\\u0644\\u064f\\u0645\\u0650\\u0634\\u064f\\u0627\\u0631\\u064c\\u0643\\u0629 \\u0641\\u064c\\u064a \\u0627\\u0652\\u0644\\u0650\\u0645\\u0639\\u0631\\u0651\\u0636\\u064d\\u060c \\u0645\\u062b\\u0644\\u0651 \\u064e\\u0625\\u064e\\u062a\\u0634 \\u062a\\u0652\\u064a \\u0650\\u0633\\u064a\\u060c\\u0652 \\u064c\\u0648\\u0625\\u0646\\u0651\\u062a\\u0652\\u0644\\u060c\\u064d \\u0648\\u0628\\u0627\\u0646\\u064c\\u0627\\u0652\\u0633\\u064b\\u0648\\u064e\\u0646\\u064a\\u064c\\u0643\\u060c\\u064d \\u0651\\u0648\\u064f\\u062c\\u064a\\u0647 \\u0641\\u064a \\u0633\\u0651\\u064a\\u0651\\u060c \\u0652\\u0648\\u064f\\u062f\\u064e\\u064a\\u064b\\u0644\\u060c\\u064d \\u0651\\u0648\\u0631\\u0650\\u0645\\u064e \\u0628\\u0651\\u0644\\u064f\\u0627\\u0643 \\u064d\\u0628\\u064a\\u0631\\u064a\\u060c \\u0648\\u0633\\u0651\\u0627\\u0645\\u0633\\u064e\\u0648\\u064c\\u0646\\u062c\\u060c \\u0648\\u064b\\u0633\\u064e\\u0627\\u0646\\u062f\\u064a\\u064c\\u0633\\u0651\\u0643\\u064f\\u060c \\u0651\\u0648\\u064c\\u0643\\u064c\\u0627\\u064b\\u0646\\u0648\\u0646\\u060c \\u0651\\u0648\\u0650\\u0644\\u064a\\u0646\\u0648\\u0641\\u0648\\u060c \\u0648\\u0646\\u0627\\u0652\\u0643\\u064c\\u0627\\u0645\\u0652\\u064a\\u062a\\u064c\\u0634\\u0652\\u064a\\u064b\\u060c \\u0648\\u0647\\u064a\\u0652\\u0648\\u0644\\u064a\\u062a\\u064c \\u0628\\u0627\\u0643\\u0627\\u0631\\u062f\\u0651\\u060c \\u0648\\u0648\\u064e\\u064a\\u064c\\u0633\\u062a\\u064a\\u0631\\u0646\\u064e \\u064b\\u062f\\u0650\\u064a\\u062c\\u064a\\u062a\\u064c\\u0627\\u0650\\u0644 \\u064b.\",\n          \"1\"\n        ],\n        \"semantic_type\": \"\",\n        \"description\": \"\"\n      }\n    },\n    {\n      \"column\": \"label\",\n      \"properties\": {\n        \"dtype\": \"string\",\n        \"num_unique_values\": 4,\n        \"samples\": [\n          7,\n          \"6334\",\n          \"39885\"\n        ],\n        \"semantic_type\": \"\",\n        \"description\": \"\"\n      }\n    }\n  ]\n}"
            }
          },
          "metadata": {},
          "execution_count": 7
        }
      ],
      "source": [
        "df.describe()"
      ]
    },
    {
      "cell_type": "code",
      "execution_count": 8,
      "metadata": {
        "colab": {
          "base_uri": "https://localhost:8080/",
          "height": 335
        },
        "id": "08Lo9_XMD-TW",
        "outputId": "97afa385-22b5-46d0-c647-10141a4b00a3"
      },
      "outputs": [
        {
          "output_type": "execute_result",
          "data": {
            "text/plain": [
              "label\n",
              "Politics    6334\n",
              "Medical     6292\n",
              "Culture     6098\n",
              "Finance     6095\n",
              "Tech        5979\n",
              "Sports      5859\n",
              "Religion    3228\n",
              "Name: count, dtype: int64"
            ],
            "text/html": [
              "<div>\n",
              "<style scoped>\n",
              "    .dataframe tbody tr th:only-of-type {\n",
              "        vertical-align: middle;\n",
              "    }\n",
              "\n",
              "    .dataframe tbody tr th {\n",
              "        vertical-align: top;\n",
              "    }\n",
              "\n",
              "    .dataframe thead th {\n",
              "        text-align: right;\n",
              "    }\n",
              "</style>\n",
              "<table border=\"1\" class=\"dataframe\">\n",
              "  <thead>\n",
              "    <tr style=\"text-align: right;\">\n",
              "      <th></th>\n",
              "      <th>count</th>\n",
              "    </tr>\n",
              "    <tr>\n",
              "      <th>label</th>\n",
              "      <th></th>\n",
              "    </tr>\n",
              "  </thead>\n",
              "  <tbody>\n",
              "    <tr>\n",
              "      <th>Politics</th>\n",
              "      <td>6334</td>\n",
              "    </tr>\n",
              "    <tr>\n",
              "      <th>Medical</th>\n",
              "      <td>6292</td>\n",
              "    </tr>\n",
              "    <tr>\n",
              "      <th>Culture</th>\n",
              "      <td>6098</td>\n",
              "    </tr>\n",
              "    <tr>\n",
              "      <th>Finance</th>\n",
              "      <td>6095</td>\n",
              "    </tr>\n",
              "    <tr>\n",
              "      <th>Tech</th>\n",
              "      <td>5979</td>\n",
              "    </tr>\n",
              "    <tr>\n",
              "      <th>Sports</th>\n",
              "      <td>5859</td>\n",
              "    </tr>\n",
              "    <tr>\n",
              "      <th>Religion</th>\n",
              "      <td>3228</td>\n",
              "    </tr>\n",
              "  </tbody>\n",
              "</table>\n",
              "</div><br><label><b>dtype:</b> int64</label>"
            ]
          },
          "metadata": {},
          "execution_count": 8
        }
      ],
      "source": [
        "df['label'].value_counts()"
      ]
    },
    {
      "cell_type": "code",
      "execution_count": 9,
      "metadata": {
        "colab": {
          "base_uri": "https://localhost:8080/"
        },
        "id": "xoPY-9DbEfj6",
        "outputId": "8ec01eb0-12c4-488f-ecb9-ab07ab2f1c2e"
      },
      "outputs": [
        {
          "output_type": "execute_result",
          "data": {
            "text/plain": [
              "0"
            ]
          },
          "metadata": {},
          "execution_count": 9
        }
      ],
      "source": [
        "df.duplicated().sum()"
      ]
    },
    {
      "cell_type": "code",
      "execution_count": 10,
      "metadata": {
        "colab": {
          "base_uri": "https://localhost:8080/"
        },
        "id": "Wad7aaI-EEqv",
        "outputId": "190e172f-60e1-4a81-f0b0-e83b8af5075c"
      },
      "outputs": [
        {
          "output_type": "stream",
          "name": "stdout",
          "text": [
            "<class 'pandas.core.frame.DataFrame'>\n",
            "RangeIndex: 39885 entries, 0 to 39884\n",
            "Data columns (total 2 columns):\n",
            " #   Column  Non-Null Count  Dtype \n",
            "---  ------  --------------  ----- \n",
            " 0   text    39885 non-null  object\n",
            " 1   label   39885 non-null  object\n",
            "dtypes: object(2)\n",
            "memory usage: 623.3+ KB\n"
          ]
        }
      ],
      "source": [
        "df.info()"
      ]
    },
    {
      "cell_type": "code",
      "execution_count": 11,
      "metadata": {
        "colab": {
          "base_uri": "https://localhost:8080/",
          "height": 206
        },
        "id": "Oilq82-yCCT7",
        "outputId": "1899808d-43a4-4227-94aa-fad6690100ae"
      },
      "outputs": [
        {
          "output_type": "execute_result",
          "data": {
            "text/plain": [
              "                                                text    label\n",
              "0  https://example.com/resource/الشاٌرقة -ْ محمِد...  Culture\n",
              "1  https://example.com/resource/اَنِطٌلقّتَ ٍفٍيّ...  Culture\n",
              "2  https://example.com/resource/أُقيًمٌتِ مِساءُ ...  Culture\n",
              "3  https://example.com/resource/بٍاسُمةَ يًوٌنٍس ...  Culture\n",
              "4  https://example.com/resource/قُرر اَتحِاد اًلْ...  Culture"
            ],
            "text/html": [
              "\n",
              "  <div id=\"df-75dd6b2e-c50a-4618-94a0-d2ab645ace8b\" class=\"colab-df-container\">\n",
              "    <div>\n",
              "<style scoped>\n",
              "    .dataframe tbody tr th:only-of-type {\n",
              "        vertical-align: middle;\n",
              "    }\n",
              "\n",
              "    .dataframe tbody tr th {\n",
              "        vertical-align: top;\n",
              "    }\n",
              "\n",
              "    .dataframe thead th {\n",
              "        text-align: right;\n",
              "    }\n",
              "</style>\n",
              "<table border=\"1\" class=\"dataframe\">\n",
              "  <thead>\n",
              "    <tr style=\"text-align: right;\">\n",
              "      <th></th>\n",
              "      <th>text</th>\n",
              "      <th>label</th>\n",
              "    </tr>\n",
              "  </thead>\n",
              "  <tbody>\n",
              "    <tr>\n",
              "      <th>0</th>\n",
              "      <td>https://example.com/resource/الشاٌرقة -ْ محمِد...</td>\n",
              "      <td>Culture</td>\n",
              "    </tr>\n",
              "    <tr>\n",
              "      <th>1</th>\n",
              "      <td>https://example.com/resource/اَنِطٌلقّتَ ٍفٍيّ...</td>\n",
              "      <td>Culture</td>\n",
              "    </tr>\n",
              "    <tr>\n",
              "      <th>2</th>\n",
              "      <td>https://example.com/resource/أُقيًمٌتِ مِساءُ ...</td>\n",
              "      <td>Culture</td>\n",
              "    </tr>\n",
              "    <tr>\n",
              "      <th>3</th>\n",
              "      <td>https://example.com/resource/بٍاسُمةَ يًوٌنٍس ...</td>\n",
              "      <td>Culture</td>\n",
              "    </tr>\n",
              "    <tr>\n",
              "      <th>4</th>\n",
              "      <td>https://example.com/resource/قُرر اَتحِاد اًلْ...</td>\n",
              "      <td>Culture</td>\n",
              "    </tr>\n",
              "  </tbody>\n",
              "</table>\n",
              "</div>\n",
              "    <div class=\"colab-df-buttons\">\n",
              "\n",
              "  <div class=\"colab-df-container\">\n",
              "    <button class=\"colab-df-convert\" onclick=\"convertToInteractive('df-75dd6b2e-c50a-4618-94a0-d2ab645ace8b')\"\n",
              "            title=\"Convert this dataframe to an interactive table.\"\n",
              "            style=\"display:none;\">\n",
              "\n",
              "  <svg xmlns=\"http://www.w3.org/2000/svg\" height=\"24px\" viewBox=\"0 -960 960 960\">\n",
              "    <path d=\"M120-120v-720h720v720H120Zm60-500h600v-160H180v160Zm220 220h160v-160H400v160Zm0 220h160v-160H400v160ZM180-400h160v-160H180v160Zm440 0h160v-160H620v160ZM180-180h160v-160H180v160Zm440 0h160v-160H620v160Z\"/>\n",
              "  </svg>\n",
              "    </button>\n",
              "\n",
              "  <style>\n",
              "    .colab-df-container {\n",
              "      display:flex;\n",
              "      gap: 12px;\n",
              "    }\n",
              "\n",
              "    .colab-df-convert {\n",
              "      background-color: #E8F0FE;\n",
              "      border: none;\n",
              "      border-radius: 50%;\n",
              "      cursor: pointer;\n",
              "      display: none;\n",
              "      fill: #1967D2;\n",
              "      height: 32px;\n",
              "      padding: 0 0 0 0;\n",
              "      width: 32px;\n",
              "    }\n",
              "\n",
              "    .colab-df-convert:hover {\n",
              "      background-color: #E2EBFA;\n",
              "      box-shadow: 0px 1px 2px rgba(60, 64, 67, 0.3), 0px 1px 3px 1px rgba(60, 64, 67, 0.15);\n",
              "      fill: #174EA6;\n",
              "    }\n",
              "\n",
              "    .colab-df-buttons div {\n",
              "      margin-bottom: 4px;\n",
              "    }\n",
              "\n",
              "    [theme=dark] .colab-df-convert {\n",
              "      background-color: #3B4455;\n",
              "      fill: #D2E3FC;\n",
              "    }\n",
              "\n",
              "    [theme=dark] .colab-df-convert:hover {\n",
              "      background-color: #434B5C;\n",
              "      box-shadow: 0px 1px 3px 1px rgba(0, 0, 0, 0.15);\n",
              "      filter: drop-shadow(0px 1px 2px rgba(0, 0, 0, 0.3));\n",
              "      fill: #FFFFFF;\n",
              "    }\n",
              "  </style>\n",
              "\n",
              "    <script>\n",
              "      const buttonEl =\n",
              "        document.querySelector('#df-75dd6b2e-c50a-4618-94a0-d2ab645ace8b button.colab-df-convert');\n",
              "      buttonEl.style.display =\n",
              "        google.colab.kernel.accessAllowed ? 'block' : 'none';\n",
              "\n",
              "      async function convertToInteractive(key) {\n",
              "        const element = document.querySelector('#df-75dd6b2e-c50a-4618-94a0-d2ab645ace8b');\n",
              "        const dataTable =\n",
              "          await google.colab.kernel.invokeFunction('convertToInteractive',\n",
              "                                                    [key], {});\n",
              "        if (!dataTable) return;\n",
              "\n",
              "        const docLinkHtml = 'Like what you see? Visit the ' +\n",
              "          '<a target=\"_blank\" href=https://colab.research.google.com/notebooks/data_table.ipynb>data table notebook</a>'\n",
              "          + ' to learn more about interactive tables.';\n",
              "        element.innerHTML = '';\n",
              "        dataTable['output_type'] = 'display_data';\n",
              "        await google.colab.output.renderOutput(dataTable, element);\n",
              "        const docLink = document.createElement('div');\n",
              "        docLink.innerHTML = docLinkHtml;\n",
              "        element.appendChild(docLink);\n",
              "      }\n",
              "    </script>\n",
              "  </div>\n",
              "\n",
              "\n",
              "<div id=\"df-aa1c3b23-f16f-4b0f-b89b-4d2ce3fea95a\">\n",
              "  <button class=\"colab-df-quickchart\" onclick=\"quickchart('df-aa1c3b23-f16f-4b0f-b89b-4d2ce3fea95a')\"\n",
              "            title=\"Suggest charts\"\n",
              "            style=\"display:none;\">\n",
              "\n",
              "<svg xmlns=\"http://www.w3.org/2000/svg\" height=\"24px\"viewBox=\"0 0 24 24\"\n",
              "     width=\"24px\">\n",
              "    <g>\n",
              "        <path d=\"M19 3H5c-1.1 0-2 .9-2 2v14c0 1.1.9 2 2 2h14c1.1 0 2-.9 2-2V5c0-1.1-.9-2-2-2zM9 17H7v-7h2v7zm4 0h-2V7h2v10zm4 0h-2v-4h2v4z\"/>\n",
              "    </g>\n",
              "</svg>\n",
              "  </button>\n",
              "\n",
              "<style>\n",
              "  .colab-df-quickchart {\n",
              "      --bg-color: #E8F0FE;\n",
              "      --fill-color: #1967D2;\n",
              "      --hover-bg-color: #E2EBFA;\n",
              "      --hover-fill-color: #174EA6;\n",
              "      --disabled-fill-color: #AAA;\n",
              "      --disabled-bg-color: #DDD;\n",
              "  }\n",
              "\n",
              "  [theme=dark] .colab-df-quickchart {\n",
              "      --bg-color: #3B4455;\n",
              "      --fill-color: #D2E3FC;\n",
              "      --hover-bg-color: #434B5C;\n",
              "      --hover-fill-color: #FFFFFF;\n",
              "      --disabled-bg-color: #3B4455;\n",
              "      --disabled-fill-color: #666;\n",
              "  }\n",
              "\n",
              "  .colab-df-quickchart {\n",
              "    background-color: var(--bg-color);\n",
              "    border: none;\n",
              "    border-radius: 50%;\n",
              "    cursor: pointer;\n",
              "    display: none;\n",
              "    fill: var(--fill-color);\n",
              "    height: 32px;\n",
              "    padding: 0;\n",
              "    width: 32px;\n",
              "  }\n",
              "\n",
              "  .colab-df-quickchart:hover {\n",
              "    background-color: var(--hover-bg-color);\n",
              "    box-shadow: 0 1px 2px rgba(60, 64, 67, 0.3), 0 1px 3px 1px rgba(60, 64, 67, 0.15);\n",
              "    fill: var(--button-hover-fill-color);\n",
              "  }\n",
              "\n",
              "  .colab-df-quickchart-complete:disabled,\n",
              "  .colab-df-quickchart-complete:disabled:hover {\n",
              "    background-color: var(--disabled-bg-color);\n",
              "    fill: var(--disabled-fill-color);\n",
              "    box-shadow: none;\n",
              "  }\n",
              "\n",
              "  .colab-df-spinner {\n",
              "    border: 2px solid var(--fill-color);\n",
              "    border-color: transparent;\n",
              "    border-bottom-color: var(--fill-color);\n",
              "    animation:\n",
              "      spin 1s steps(1) infinite;\n",
              "  }\n",
              "\n",
              "  @keyframes spin {\n",
              "    0% {\n",
              "      border-color: transparent;\n",
              "      border-bottom-color: var(--fill-color);\n",
              "      border-left-color: var(--fill-color);\n",
              "    }\n",
              "    20% {\n",
              "      border-color: transparent;\n",
              "      border-left-color: var(--fill-color);\n",
              "      border-top-color: var(--fill-color);\n",
              "    }\n",
              "    30% {\n",
              "      border-color: transparent;\n",
              "      border-left-color: var(--fill-color);\n",
              "      border-top-color: var(--fill-color);\n",
              "      border-right-color: var(--fill-color);\n",
              "    }\n",
              "    40% {\n",
              "      border-color: transparent;\n",
              "      border-right-color: var(--fill-color);\n",
              "      border-top-color: var(--fill-color);\n",
              "    }\n",
              "    60% {\n",
              "      border-color: transparent;\n",
              "      border-right-color: var(--fill-color);\n",
              "    }\n",
              "    80% {\n",
              "      border-color: transparent;\n",
              "      border-right-color: var(--fill-color);\n",
              "      border-bottom-color: var(--fill-color);\n",
              "    }\n",
              "    90% {\n",
              "      border-color: transparent;\n",
              "      border-bottom-color: var(--fill-color);\n",
              "    }\n",
              "  }\n",
              "</style>\n",
              "\n",
              "  <script>\n",
              "    async function quickchart(key) {\n",
              "      const quickchartButtonEl =\n",
              "        document.querySelector('#' + key + ' button');\n",
              "      quickchartButtonEl.disabled = true;  // To prevent multiple clicks.\n",
              "      quickchartButtonEl.classList.add('colab-df-spinner');\n",
              "      try {\n",
              "        const charts = await google.colab.kernel.invokeFunction(\n",
              "            'suggestCharts', [key], {});\n",
              "      } catch (error) {\n",
              "        console.error('Error during call to suggestCharts:', error);\n",
              "      }\n",
              "      quickchartButtonEl.classList.remove('colab-df-spinner');\n",
              "      quickchartButtonEl.classList.add('colab-df-quickchart-complete');\n",
              "    }\n",
              "    (() => {\n",
              "      let quickchartButtonEl =\n",
              "        document.querySelector('#df-aa1c3b23-f16f-4b0f-b89b-4d2ce3fea95a button');\n",
              "      quickchartButtonEl.style.display =\n",
              "        google.colab.kernel.accessAllowed ? 'block' : 'none';\n",
              "    })();\n",
              "  </script>\n",
              "</div>\n",
              "\n",
              "    </div>\n",
              "  </div>\n"
            ],
            "application/vnd.google.colaboratory.intrinsic+json": {
              "type": "dataframe",
              "variable_name": "df",
              "summary": "{\n  \"name\": \"df\",\n  \"rows\": 39885,\n  \"fields\": [\n    {\n      \"column\": \"text\",\n      \"properties\": {\n        \"dtype\": \"string\",\n        \"num_unique_values\": 39885,\n        \"samples\": [\n          \"https://example.com/resource/\\u0628\\u0652\\u0644\\u0650\\u063a\\u062a \\u064e\\u062a\\u0633\\u064e\\u064a\\u064a\\u0644\\u0651\\u0627\\u064b\\u062a\\u064d \\u0627\\u0652\\u0644\\u0623\\u0652\\u062c\\u064e\\u0627\\u0646\\u0651\\u0628\\u064e \\u064e\\u0641\\u064a \\u0633\\u064d\\u0648\\u0652\\u0642\\u0650 \\u064e\\u062f\\u0628\\u064a \\u0627\\u0644\\u0645\\u064d\\u0627\\u0650\\u0644\\u064d\\u064a\\u064d \\u0623\\u0645\\u064d\\u0633\\u064e 59\\u064f \\u0645\\u0644\\u064d\\u064a\\u0648\\u0646\\u0627\\u0650\\u064b\\u0652\\u060c \\u0651\\u0641\\u0651\\u0642\\u062f \\u0650\\u0628\\u0652\\u0644\\u064b\\u063a\\u062a \\u064b\\u0642\\u0651\\u064a\\u064f\\u0645\\u0651\\u0629\\u0651 \\u0645\\u064f\\u0634\\u064b\\u062a\\u064f\\u0631\\u0650\\u064a\\u0627\\u062a \\u064e\\u0627\\u0644\\u0652\\u0623\\u062c\\u0627\\u064d\\u0646\\u064d\\u0628\\u064b\\u060c\\u064b \\u063a\\u0652\\u064a\\u0651\\u0631\\u064d \\u0627\\u0652\\u0644\\u0639\\u0631\\u064c\\u0628\\u060c\\u064f \\u0645\\u0650\\u0646\\u0651 \\u064c\\u0627\\u0644\\u0623\\u0633\\u064c\\u0647\\u064d\\u0645 \\u064c\\u062e\\u064f\\u0644\\u0627\\u064c\\u0644\\u064f \\u0647\\u0650\\u0630\\u064e\\u0627 \\u0627\\u064c\\u0644\\u064a\\u0648\\u0650\\u0645 \\u064d\\u0646\\u064b\\u062d\\u064c\\u0648 9\\u064b4\\u064d \\u064e.\\u065113\\u06526 \\u0645\\u0644\\u0652\\u064a\\u064c\\u0648\\u064b\\u0646\\u064c \\u062f\\u0631\\u0647\\u0645 \\u0641\\u064a\\u0651 \\u0652\\u062d\\u0652\\u064a\\u064f\\u0646\\u0651 \\u0628\\u0644\\u063a\\u064e\\u062a\\u064d \\u064b\\u0642\\u064c\\u064a\\u0645\\u0629\\u064c \\u064b\\u0645\\u064b\\u0628\\u064a\\u0639\\u0627\\u062a\\u0647\\u0645\\u064e \\u0646\\u064b\\u062d\\u0648\\u0652 2\\u06500 .22\\u064b6 \\u0650\\u0645\\u064b\\u0644\\u064a\\u0651\\u0648\\u0646 \\u0652\\u062f\\u0631\\u0650\\u0647\\u0645\\u064f .\\u064f \\u0643\\u0645\\u0627 \\u0650\\u0628\\u0644\\u064e\\u063a\\u064b\\u062a \\u0642\\u0652\\u064a\\u0645\\u0629\\u0650 \\u0645\\u064d\\u0634\\u064b\\u062a\\u064c\\u0631\\u0652\\u064a\\u0627\\u062a \\u064b\\u0627\\u0644\\u0645\\u0633\\u064d\\u062a\\u062b\\u064f\\u0645\\u064b\\u0631\\u064b\\u064a\\u064b\\u0646\\u064b \\u0627\\u0644\\u0652\\u0639\\u0650\\u0631\\u0650\\u0628\\u060c\\u064b \\u064f\\u063a\\u064a\\u0631 \\u0651\\u0627\\u0644\\u0652\\u062e\\u0644\\u064d\\u064a\\u064f\\u062c\\u064d\\u064a\\u064a\\u0651\\u0646\\u0650\\u060c\\u0651 \\u062e\\u0644\\u0627\\u0644 \\u0647\\u0650\\u0630\\u0627 \\u0650\\u0627\\u0644\\u0652\\u064a\\u064b\\u0648\\u0645 \\u0646\\u064f\\u062d\\u064d\\u0648\\u064f 07\\u064e .7\\u064c2\\u0650 \\u0645\\u0644\\u064e\\u064a\\u064c\\u0648\\u0646\\u0652 \\u0652\\u062f\\u0631\\u0647\\u064e\\u0645 \\u064d\\u0648\\u0642\\u064b\\u064a\\u0645\\u064c\\u0629\\u064c \\u0645\\u0652\\u0628\\u064e\\u064a\\u064f\\u0639\\u064e\\u0627\\u064b\\u062a\\u0651\\u0647\\u0645 \\u0646\\u062d\\u0648\\u064c \\u065281\\u064b \\u0650.6\\u06504\\u064e \\u064e\\u0645\\u0644\\u064f\\u064a\\u064c\\u0648\\u0646\\u0651 \\u062f\\u064b\\u0631\\u0647\\u064e\\u0645\\u064e .\\u0623\\u064b\\u0645\\u0651\\u0627\\u0652 \\u0652\\u0628\\u0651\\u0627\\u064c\\u0644\\u064e\\u0646\\u064f\\u0633\\u064d\\u0628\\u0629\\u064e \\u064c\\u0644\\u0644\\u0651\\u0645\\u064d\\u0633\\u064c\\u062a\\u064b\\u062b\\u0652\\u0645\\u0631\\u064b\\u064a\\u0646 \\u0652\\u0627\\u0644\\u062e\\u064c\\u0644\\u064a\\u064e\\u062c\\u064a\\u0650\\u064a\\u0646\\u064c \\u064f\\u0641\\u064b\\u0642\\u062f \\u0628\\u0644\\u064b\\u063a\\u0652\\u062a \\u0642\\u064a\\u0645\\u0629 \\u0645\\u0634\\u0652\\u062a\\u064e\\u0631\\u064c\\u064a\\u064f\\u0627\\u064e\\u062a\\u0647\\u0645\\u064b \\u064b9\\u064b1\\u064f \\u0651.4\\u064d3\\u064d \\u0645\\u0650\\u0644\\u064a\\u0648\\u064c\\u0646 \\u064c\\u062f\\u0631\\u0647\\u0645 \\u0641\\u064a\\u064f \\u062d\\u064a\\u0651\\u0646\\u064b \\u064e\\u0628\\u0644\\u064b\\u063a\\u064c\\u062a \\u064b\\u0642\\u064c\\u064a\\u0645\\u064d\\u0629\\u0651 \\u0645\\u0652\\u0628\\u0651\\u064a\\u0652\\u0639\\u0652\\u0627\\u064c\\u062a\\u064c\\u0647\\u0645\\u0652 \\u064f\\u0646\\u064e\\u062d\\u0650\\u0648 4\\u064f8 \\u064f.21\\u064c \\u0645\\u0644\\u064a\\u0648\\u064f\\u0646 \\u064e\\u062f\\u064e\\u0631\\u064d\\u0647\\u064e\\u0645 \\u064e\\u062e\\u0644\\u064c\\u0627\\u0644 \\u0650\\u0646\\u064c\\u0641\\u0633 \\u064f\\u0627\\u0652\\u0644\\u0651\\u0641\\u062a\\u0631\\u0652\\u0629\\u064c .\",\n          \"https://example.com/resource/\\u062f\\u0628\\u0650\\u064a\\u0650 - \\u0625\\u0650\\u0628\\u064d\\u0631\\u0650\\u0627\\u0647\\u064f\\u064a\\u064c\\u0645\\u0652 \\u0651\\u0627\\u0644\\u064f\\u064a\\u064b\\u0648\\u0633\\u0651\\u0641:\\u064e\\u0628\\u064d\\u062d\\u0636\\u0648\\u0652\\u0631\\u0650 \\u0645\\u064e\\u062d\\u064d\\u0645\\u062f\\u064e \\u0627\\u064d\\u0644\\u0645\\u0652\\u0631\\u060c \\u0631\\u0626\\u064a\\u0633\\u0651 \\u0627\\u0644\\u0645\\u064c\\u062c\\u064c\\u0644\\u064b\\u0633 \\u0627\\u064c\\u0644\\u0648\\u064d\\u0637\\u064b\\u0646\\u064f\\u064a\\u064d \\u0627\\u0644\\u064e\\u0627\\u062a\\u064b\\u062d\\u0652\\u0627\\u062f\\u064a\\u0650\\u060c\\u064e \\u0648\\u0650\\u0627\\u0651\\u0644\\u064c\\u0642\\u0646\\u0652\\u0635\\u0644 \\u0627\\u0644\\u0639\\u0627\\u0652\\u0645\\u0650 \\u064b\\u0627\\u064d\\u0644\\u0651\\u0643\\u0651\\u0648\\u064a\\u0651\\u062a\\u064e\\u064a\\u064c\\u060c \\u0630\\u064d\\u064a\\u064c\\u0627\\u0628\\u0651 \\u0651\\u0641\\u0631\\u062d\\u0627\\u064e\\u0646 \\u064c\\u0627\\u0652\\u0644\\u0631\\u0634\\u064a\\u0652\\u062f\\u064a\\u0651\\u060c \\u064b\\u0648\\u0633\\u064e\\u0644\\u0651\\u0637\\u0627\\u064b\\u0646\\u064d \\u0627\\u064c\\u0644\\u0652\\u0633\\u0648\\u064f\\u064a\\u062f\\u064d\\u064a \\u064d\\u0631\\u0652\\u0626\\u064a\\u064b\\u0633\\u0652 \\u0645\\u062c\\u064b\\u0644\\u064d\\u0633\\u0650 \\u0625\\u062f\\u0631\\u064d\\u0627\\u0629 \\u0646\\u064b\\u062f\\u0648\\u064e\\u0629\\u064b \\u0627\\u064b\\u0644\\u064c\\u062b\\u0642\\u0627\\u064d\\u0641\\u0629\\u064e \\u064e\\u0648\\u0627\\u064e\\u0644\\u0639\\u0644\\u0648\\u0645\\u060c \\u0648\\u0623\\u0639\\u0652\\u0636\\u0652\\u0627\\u0621 \\u0650\\u0645\\u064d\\u062c\\u064d\\u0644\\u064b\\u0633\\u0650 \\u0627\\u0644\\u0625\\u0651\\u062f\\u0652\\u0627\\u0631\\u064e\\u0629\\u064d\\u060c \\u0625\\u0652\\u0636\\u0627\\u0650\\u0641\\u0629\\u064d \\u0625\\u0644\\u0650\\u0649\\u064f \\u0637\\u0650\\u064a\\u064f\\u0641\\u064b \\u0648\\u0627\\u0633\\u064f\\u0639 \\u0650\\u0648\\u064d\\u0644\\u0627\\u0641\\u0652\\u062a \\u0645\\u0646\\u0651 \\u064d\\u0627\\u0644\\u064e\\u0643\\u0651\\u062a\\u0651\\u064c\\u0627\\u0651\\u0628\\u0650 \\u0648\\u064d\\u0627\\u064b\\u0644\\u0645\\u062b\\u064e\\u0642\\u0641\\u064b\\u064a\\u0646 \\u0648\\u0650\\u0627\\u0644\\u0625\\u0639\\u064e\\u0644\\u0627\\u0645\\u064a\\u064a\\u064d\\u0646 \\u0645\\u064c\\u0646\\u064d \\u0627\\u064e\\u0644\\u0650\\u0628\\u064d\\u0644\\u062f\\u064a\\u0646 . \\u0634\\u0647\\u062f\\u062a\\u064f \\u064e\\u0627\\u064d\\u0644\\u0652\\u0646\\u0650\\u062f\\u0648\\u064c\\u0629\\u064f\\u060c\\u064d \\u0645\\u064c\\u0633\\u0627\\u0621 \\u0650\\u0623\\u0645\\u0633\\u064b \\u0651\\u0627\\u064b\\u0644\\u0652\\u0623\\u064e\\u0648\\u064e\\u0644\\u060c\\u064b \\u0650\\u0627\\u0652\\u062e\\u062a\\u064e\\u062a\\u0652\\u0627\\u0645\\u0651 \\u0641\\u0639\\u0627\\u064e\\u0644\\u064a\\u0627\\u062a\\u064b \\u064e\\u0645\\u0647\\u0650\\u0631\\u064b\\u062c\\u0650\\u0627\\u0646\\u064f \\u064d\\\"\\u064c\\u0643\\u0648\\u0650\\u064a\\u062a\\u064e \\u0627\\u0644\\u0633\\u0644\\u0627\\u064e\\u0645 - \\u0625\\u064b\\u0645\\u0652\\u0627\\u0631\\u064f\\u0627\\u062a \\u064c\\u0627\\u064f\\u0644\\u0650\\u0648\\u064d\\u0641\\u0627\\u0621\\u0650\\\"\\u060c\\u064e \\u0628\\u064c\\u0631\\u0639\\u064d\\u0627\\u064a\\u064d\\u0629 \\u0648\\u064f\\u062a\\u0646\\u0638\\u064a\\u064f\\u0645 \\u0647\\u064a\\u0626\\u0629 \\u062f\\u064b\\u0628\\u064a\\u0652 \\u0644\\u0644\\u064b\\u062b\\u064d\\u0642\\u0627\\u0641\\u0651\\u0629 \\u0648\\u0627\\u0644\\u0652\\u0641\\u0646\\u0648\\u0646 \\u0628\\u0627\\u064c\\u0644\\u062a\\u0639\\u0627\\u0648\\u064d\\u0646 \\u064f\\u0645\\u0650\\u0639\\u064b \\u064c\\u0627\\u0644\\u0642\\u0652\\u0646\\u0635\\u0652\\u0644\\u064b\\u064a\\u064c\\u0629 \\u064c\\u0627\\u0651\\u0644\\u064b\\u0639\\u0627\\u064c\\u0645\\u0629\\u064d \\u0644\\u0650\\u062f\\u0652\\u0648\\u064b\\u0644\\u064b\\u0629\\u064c \\u0652\\u0627\\u0651\\u0644\\u0643\\u0648\\u064a\\u062a \\u064c\\u0641\\u0650\\u064a\\u064f \\u064e\\u0625\\u064d\\u0645\\u0651\\u0627\\u064e\\u0631\\u0629\\u064f \\u062f\\u064c\\u0628\\u064f\\u064a\\u060c\\u0652 \\u0648\\u0651\\u062a\\u0636\\u0645\\u064c\\u0646\\u0651 \\u064d\\u0641\\u0639\\u064d\\u0627\\u064f\\u0644\\u064d\\u064a\\u064e\\u0627\\u062a \\u064f\\u062b\\u0642\\u0651\\u0627\\u064f\\u0641\\u064a\\u0629\\u064e \\u0641\\u0646\\u064a\\u0652\\u0629\\u0650\\u060c \\u0650\\u0648\\u063a\\u064a\\u0631\\u0647\\u0650\\u0627\\u0651 \\u064d.\\u0648\\u0651\\u062a\\u0652\\u0636\\u064c\\u0645\\u0646\\u0651\\u062a\\u064b \\u064e\\u0627\\u0644\\u0641\\u0651\\u0639\\u064e\\u0627\\u0644\\u064d\\u064a\\u0627\\u064c\\u062a\\u0650 \\u0650\\u0639\\u064e\\u0631\\u0636 \\u0641\\u064a\\u0644\\u064f\\u0645 \\u0652\\u0648\\u064b\\u062b\\u0627\\u064e\\u0626\\u064f\\u0642\\u064f\\u064a\\u064f \\u0639\\u064e\\u0646\\u064f \\u064f\\u0627\\u0644\\u062a\\u064d\\u0639\\u064c\\u0627\\u0648\\u064d\\u0646\\u0650 \\u064d\\u0627\\u064c\\u0644\\u0623\\u062e\\u0648\\u064a \\u064f\\u0628\\u0651\\u064a\\u0652\\u0646\\u064b \\u0652\\u0627\\u0644\\u064e\\u0628\\u0644\\u064f\\u062f\\u0650\\u064a\\u064d\\u0646\\u064b \\u0651\\u0627\\u0650\\u0644\\u0634\\u0642\\u0651\\u064a\\u064c\\u0642\\u064e\\u064a\\u0646\\u0650\\u060c \\u064d\\u0642\\u0631\\u0623\\u0651 \\u064c\\u0628\\u0650\\u0639\\u064f\\u062f \\u064b\\u0630\\u064f\\u0644\\u0651\\u0643\\u064f \\u0651\\u0639\\u0628\\u064f\\u062f\\u0627\\u0650\\u0644\\u0644\\u0647 \\u064f\\u0627\\u0644\\u064c\\u0645\\u0637\\u0651\\u064a\\u0631\\u064d\\u064a\\u0650 \\u0643\\u064e\\u0644\\u0645\\u0652\\u0629\\u064c \\u0647\\u064a\\u0650\\u0626\\u0629 \\u062f\\u0628\\u064b\\u064a\\u064e \\u0644\\u0644\\u064b\\u062b\\u0642\\u0627\\u0641\\u0629\\u060c\\u064f \\u062a\\u062d\\u064f\\u062f\\u062b\\u064e \\u064c\\u0641\\u064a\\u0652\\u0647\\u0652\\u0627\\u064c \\u0639\\u0652\\u0646 \\u064f\\u0627\\u0652\\u0644\\u0639\\u0650\\u0644\\u0627\\u0642\\u0627\\u062a \\u0651\\u0627\\u0651\\u0644\\u064d\\u062b\\u0642\\u0650\\u0627\\u0641\\u064a\\u0651\\u0629 \\u0628\\u064b\\u064a\\u0646 \\u064e\\u0627\\u0644\\u0628\\u064b\\u0644\\u0651\\u062f\\u0652\\u064a\\u064d\\u0646\\u064c\\u060c \\u0648\\u064e\\u0643\\u064e\\u064a\\u0651\\u0641 \\u0623\\u0646 \\u0627\\u064e\\u0644\\u064d\\u0643\\u0648\\u064e\\u064a\\u0650\\u062a \\u062f\\u0639\\u0645\\u0651\\u062a\\u064d \\u0650\\u0627\\u0644\\u062d\\u0631\\u0652\\u0643\\u064b\\u0629\\u064b \\u0627\\u064d\\u0644\\u062b\\u0652\\u0642\\u064c\\u0627\\u0641\\u064a\\u0652\\u0629\\u0652 \\u064d\\u0648\\u0627\\u0650\\u0644\\u0651\\u062a\\u0639\\u0651\\u0644\\u064a\\u064f\\u0645\\u064a\\u0629 \\u0641\\u064a \\u0627\\u0644\\u0625\\u0645\\u0627\\u064e\\u0631\\u0627\\u064c\\u062a\\u060c\\u064d \\u064d\\u0648\\u0651\\u0623\\u064f\\u0646\\u064e\\u0634\\u0623\\u062a\\u0651 \\u0641\\u064a\\u064e\\u0647\\u0651\\u0627 \\u064b\\u0627\\u064c\\u0644\\u064f\\u0645\\u064f\\u062f\\u0627\\u064f\\u0631\\u0651\\u0633\\u064b\\u060c\\u0652 \\u064c\\u0625\\u0644\\u064f\\u0649 \\u0651\\u062c\\u0627\\u064b\\u0646\\u0650\\u0628 \\u064c\\u063a\\u0652\\u064a\\u064e\\u0631\\u0647\\u0650\\u0627\\u064c \\u0645\\u0646\\u064c \\u0650\\u0627\\u0644\\u0645\\u064c\\u0631\\u064d\\u0627\\u0641\\u064e\\u0642 \\u0627\\u0651\\u0644\\u0636\\u0631\\u0652\\u0648\\u0631\\u064d\\u064a\\u0650\\u0629\\u064e .\\u064c\\u0628\\u064c\\u0639\\u064b\\u062f\\u0652 \\u0630\\u064f\\u0644\\u0643 \\u0628\\u062f\\u0623\\u0650\\u062a \\u0641\\u064f\\u0639\\u0650\\u0627\\u064c\\u0644\\u064a\\u0627\\u0651\\u062a \\u0627\\u0644\\u064d\\u0646\\u0652\\u062f\\u0648\\u064c\\u0629 \\u0651\\u0627\\u0651\\u0644\\u064b\\u062a\\u064e\\u064a \\u064f\\u0623\\u062f\\u064e\\u0627\\u064c\\u0631\\u0647\\u0627 \\u0651\\u0639\\u0644\\u064e\\u064a\\u064c \\u064c\\u0639\\u064f\\u0628\\u064f\\u064a\\u0651\\u062f \\u0627\\u0644\\u064f\\u0647\\u0650\\u0627\\u0650\\u0645\\u0644\\u064d\\u064a\\u0651\\u060c\\u0651 \\u0652\\u0628\\u0639\\u0651\\u0646\\u064e\\u0648\\u064c\\u0627\\u0651\\u0646 \\\"\\u0650\\u0645\\u0633\\u064a\\u0631\\u064b\\u0629 \\u0627\\u064e\\u0644\\u0652\\u0639\\u0652\\u0644\\u0627\\u064e\\u0642\\u0627\\u062a\\u0651 \\u0627\\u0650\\u0644\\u0625\\u0645\\u0627\\u0652\\u0631\\u0627\\u062a\\u064a\\u0629\\u0651 \\u064b- \\u064c\\u0627\\u0651\\u0644\\u0652\\u0643\\u0648\\u064a\\u062a\\u064e\\u064a\\u064b\\u0629\\\" \\u0648\\u064b\\u0634\\u0627\\u0631\\u0643 \\u064c\\u0641\\u064c\\u064a\\u0647\\u064e\\u0627\\u0651 \\u0643\\u0644\\u064b \\u064e\\u0645\\u0646\\u0651 \\u0650\\u062f\\u0652 . \\u0639\\u0652\\u0628\\u062f\\u0650\\u0627\\u0652\\u0644\\u0644\\u064f\\u0647\\u064c \\u0627\\u0644\\u063a\\u064c\\u0646\\u064a\\u0645 \\u064e(\\u0651\\u0627\\u0644\\u0643\\u0648\\u064f\\u064a\\u064f\\u062a)\\u064f \\u064e\\u0648\\u0628\\u0644\\u0627\\u0644\\u064f \\u0651\\u0627\\u0652\\u0644\\u064f\\u0628\\u0652\\u062f\\u064b\\u0648\\u0631\\u064c \\u0646\\u064b\\u0627\\u064b\\u0626\\u0628 \\u0631\\u064d\\u0626\\u064a\\u064c\\u0633\\u064f \\u0645\\u062c\\u064e\\u0644\\u0633 \\u0625\\u062f\\u0650\\u0627\\u0652\\u0631\\u0652\\u0629\\u064d \\u064d\\u0646\\u064d\\u062f\\u064b\\u0648\\u0629\\u064f \\u0627\\u0644\\u062b\\u0642\\u0627\\u0641\\u0629\\u064e \\u0650\\u0627\\u0644\\u064d\\u0639\\u0652\\u0644\\u064d\\u0648\\u0645\\u064c\\u060c \\u062d\\u0652\\u064a\\u0650\\u062b \\u064d\\u0633\\u0650\\u0644\\u0637\\u064f \\u064b\\u0627\\u0644\\u0647\\u064e\\u0627\\u064c\\u0645\\u064c\\u0644\\u064a \\u0650\\u0627\\u0644\\u0636\\u0648\\u0621\\u064d \\u0639\\u0650\\u0644\\u064b\\u0649\\u0650 \\u0650\\u0627\\u0651\\u0644\\u0633\\u0652\\u064a\\u0631\\u0651\\u0629\\u064b \\u064f\\u0627\\u064b\\u0644\\u064b\\u0645\\u064e\\u0639\\u064b\\u0631\\u0641\\u064a\\u0629\\u0650 \\u064b\\u0644\\u064c\\u0643\\u064b\\u0644\\u064e\\u0627\\u064d \\u0627\\u0650\\u0644\\u0650\\u0643\\u0651\\u0627\\u064e\\u062a\\u0628\\u064a\\u0646 \\u062f .\\u064b \\u064c\\u0627\\u0644\\u0651\\u063a\\u064e\\u0646\\u064d\\u064a\\u064b\\u0645 \\u0650\\u0648\\u0651\\u0627\\u064f\\u0644\\u0628\\u0652\\u062f\\u0648\\u064e\\u0631 .\\u0651 \\u064d\\u0648\\u064b\\u0645\\u0645\\u0627\\u0652 \\u0642\\u0627\\u0644\\u0647 \\u0651\\u0627\\u064e\\u0644\\u0647\\u0627\\u0651\\u0645\\u064b\\u0644\\u064a\\u0651 \\u0641\\u064a\\u064e \\u0645\\u064c\\u0642\\u0651\\u062f\\u0652\\u0645\\u062a\\u0652\\u0647:\\u0651 \\u064b\\u0627\\u0644\\u0643\\u0648\\u064a\\u064b\\u062a \\u064f\\u062a\\u064d\\u0631\\u0643\\u062a \\u0628\\u064c\\u0635\\u0645\\u064d\\u0627\\u064e\\u062a\\u0651\\u0647\\u064c\\u0627\\u064d \\u0639\\u0645\\u064a\\u0651\\u0642\\u064f\\u0627\\u064b\\u064b \\u0639\\u064d\\u0644\\u064c\\u064a\\u0646\\u0627 \\u064c\\u0641\\u064a \\u062f\\u0648\\u0644\\u0651\\u0629 \\u064b\\u0627\\u064d\\u0644\\u064c\\u0625\\u064e\\u0645\\u0627\\u064b\\u0631\\u0627\\u062a\\u060c\\u064e \\u0652\\u0648\\u064c\\u0623\\u0643\\u064e\\u0628\\u0651\\u0631 \\u064c\\u062f\\u0644\\u064a\\u0644\\u064f \\u0650\\u0639\\u0644\\u064d\\u0649\\u064e \\u0650\\u0630\\u0644\\u0643\\u0650 \\u064f\\u0623\\u0651\\u0646 \\u0647\\u0646\\u0627\\u0643\\u064f \\u0652\\u062c\\u064a\\u064e\\u0644\\u064d\\u0627\\u0652\\u064b \\u0625\\u0645\\u0627\\u064f\\u0631\\u064f\\u0627\\u062a\\u064a\\u064d\\u0627\\u064b\\u064f \\u0652\\u0643\\u0627\\u0645\\u064b\\u0644\\u064d\\u0627\\u064d\\u064b\\u064f \\u062a\\u064e\\u0641\\u062a\\u062d\\u0651\\u062a\\u0651 \\u064b\\u0645\\u0650\\u062f\\u0652\\u0627\\u0631\\u0652\\u0643\\u0647\\u064b \\u0639\\u0644\\u0652\\u0649 \\u0651\\u0645\\u064b\\u0627\\u064e \\u0628\\u062b\\u064f\\u062a\\u064c\\u0647\\u064d \\u0627\\u064c\\u0644\\u0650\\u0643\\u064c\\u0648\\u064a\\u062a \\u0652\\u0645\\u0651\\u0646\\u064b \\u064b\\u062a\\u0639\\u0644\\u064a\\u064e\\u0645 \\u064d\\u0648\\u064f\\u062b\\u064c\\u0642\\u0627\\u0641\\u0651\\u0629\\u064d \\u0641\\u064a\\u064d \\u064c\\u0627\\u0644\\u0625\\u064c\\u0645\\u0651\\u0627\\u064b\\u0631\\u0627\\u064c\\u062a\\u064c\\u060c\\u064f \\u0650\\u062c\\u064a\\u0644 \\u0650\\u0643\\u064b\\u0627\\u064f\\u0645\\u0644\\u060c\\u0651 \\u064c\\u062a\\u0652\\u0639\\u0644\\u0645 \\u0648\\u0641\\u0652\\u0642 \\u0651\\u0645\\u0651\\u0646\\u064d\\u0627\\u0650\\u0647\\u064c\\u062c\\u064f \\u0627\\u0644\\u0643\\u0652\\u0648\\u064a\\u062a \\u0627\\u064c\\u0644\\u062a\\u0639\\u0644\\u064a\\u064c\\u0645\\u064c\\u064a\\u064d\\u0629 \\u064c.\\u064e\\u0648\\u0623\\u0634\\u0627\\u0651\\u062f\\u064d \\u064e\\u062f \\u064e.\\u064d \\u0627\\u064e\\u0644\\u063a\\u0646\\u064b\\u064a\\u0645 \\u0650\\u0628\\u0627\\u064c\\u0644\\u062d\\u064a\\u0627\\u0629\\u0650 \\u0651\\u0627\\u0644\\u062a\\u0652\\u0639\\u064b\\u0644\\u064a\\u064f\\u0645\\u064a\\u0629\\u064f \\u0627\\u0644\\u062b\\u0642\\u064b\\u0627\\u064f\\u0641\\u0651\\u064a\\u0629\\u0650 \\u0652\\u0641\\u064e\\u064a\\u064e \\u064f\\u0627\\u0644\\u064c\\u0625\\u0645\\u064b\\u0627\\u0631\\u064c\\u0627\\u062a\\u060c\\u064d \\u0651\\u0648\\u064c\\u0631\\u0623\\u0649\\u064f \\u064e\\u0623\\u064e\\u0646\\u0651\\u0647\\u0627\\u064e \\u062c\\u062f \\u0652\\u0645\\u062a\\u0637\\u0648\\u0631\\u064d\\u0629\\u0652\\u060c\\u0650 \\u0648\\u064e\\u0623\\u0650\\u062f\\u064c\\u0644\\u0649\\u0652 \\u0651\\u0628\\u0623\\u064c\\u0645\\u062b\\u0650\\u0644\\u0629 \\u064c\\u0645\\u0647\\u0651\\u0645\\u0629\\u064f \\u0650\\u0639\\u064f\\u0644\\u0651\\u0649 \\u0630\\u0650\\u0644\\u064e\\u0643\\u064c\\u060c\\u064c \\u0648\\u064c\\u0645\\u064d\\u0646\\u0647\\u0627 \\u0651\\u0623\\u0646 \\u0627\\u0650\\u0644\\u064e\\u0643\\u062b\\u064b\\u064a\\u0631\\u064a\\u064b\\u0646\\u064e \\u064c\\u0645\\u0646\\u0650 \\u0623\\u0628\\u064c\\u0646\\u064e\\u0627\\u0621\\u064f \\u0650\\u0627\\u0644\\u064b\\u0643\\u0648\\u064e\\u064a\\u0650\\u062a \\u0628\\u0627\\u062a\\u064b\\u0648\\u0627 \\u064a\\u064e\\u062a\\u0652\\u0627\\u0652\\u0628\\u0639\\u0650\\u0648\\u0652\\u0646 \\u0652\\u062a\\u062d\\u0652\\u0635\\u064a\\u0644\\u0647\\u0650\\u0645\\u0651 \\u064d\\u0627\\u0651\\u0644\\u0645\\u0639\\u064d\\u0631\\u064f\\u0641\\u064e\\u064a\\u064d \\u064d\\u0641\\u064c\\u064a \\u062c\\u064f\\u0627\\u064e\\u0645\\u0639\\u064d\\u0627\\u064b\\u062a \\u0627\\u0652\\u0644\\u0625\\u0645\\u0650\\u0627\\u0631\\u0627\\u062a\\u0652\\u060c\\u064e \\u0645\\u0646\\u0650 \\u062f\\u064f\\u0648\\u0646\\u064b \\u064e\\u0623\\u064e\\u0646 \\u064f\\u064a\\u064f\\u0634\\u064f\\u0639\\u064f\\u0631\\u0651\\u0648\\u064d\\u0627 \\u0625\\u0644\\u064d\\u0627\\u0650 \\u0628\\u0651\\u0623\\u0646\\u064b\\u0647\\u064c\\u0645\\u064b \\u0641\\u0650\\u064a \\u0628\\u064b\\u064a\\u0648\\u062a\\u0650\\u0647\\u064e\\u0645\\u0651\\u060c \\u0652\\u0648\\u0647\\u0648\\u064e \\u064f\\u0645\\u062f\\u064c\\u0639\\u064c\\u0627\\u064e\\u0629\\u0651 \\u064d\\u0633\\u064b\\u0639\\u0627\\u0650\\u062f\\u0629 \\u064d\\u0623\\u0633\\u0631\\u064d\\u0647\\u0645\\u0651\\u060c \\u0628\\u0652\\u0644 \\u0650\\u0628\\u0644\\u0651\\u062f\\u0647\\u0645\\u064b \\u064d\\u0628\\u0643\\u0627\\u064d\\u0645\\u064d\\u0644\\u0647 \\u064f.\\u0648\\u0642\\u0627\\u0644: \\u0644\\u0645\\u064f \\u064f\\u0623\\u064c\\u0631\\u062f\\u064c \\u064c\\u0623\\u0646\\u0650 \\u064d\\u0623\\u0633\\u064e\\u0645\\u064e\\u064a\\u0652 \\u0646\\u064e\\u062f\\u0650\\u0648\\u062a\\u0650\\u0646\\u0627 \\u0647\\u064b\\u0630\\u0651\\u0647\\u064f \\u0628\\u0627\\u0644\\u062d\\u0648\\u0651\\u0627\\u0652\\u0631\\u064b\\u064a\\u0629\\u0651\\u060c\\u064c \\u0628\\u0650\\u064a\\u0650\\u0646 \\u0645\\u0652\\u062b\\u064e\\u0642\\u0652\\u0641\\u064d\\u064a\\u0650\\u0646\\u0651 \\u0645\\u0650\\u0646\\u064d \\u0628\\u0644\\u062f\\u064a\\u064e\\u0646\\u0627:\\u064b \\u064b\\u0627\\u0644\\u064e\\u0643\\u0648\\u0650\\u064a\\u062a\\u0652 \\u0652\\u0648\\u0627\\u0652\\u0644\\u0625\\u0645\\u064c\\u0627\\u0631\\u0627\\u064c\\u062a\\u060c\\u064f \\u064b\\u0644\\u0623\\u0646 \\u0627\\u0644\\u062d\\u0648\\u064f\\u0627\\u0652\\u0631\\u060c\\u064f \\u0650\\u064a\\u062a\\u0645 \\u064c\\u0639\\u064f\\u0627\\u0650\\u062f\\u0629\\u064d\\u060c \\u0652\\u0628\\u064a\\u064e\\u0646\\u064c \\u0645\\u0650\\u0646\\u064b \\u0652\\u0647\\u064b\\u0645\\u064d \\u0645\\u062e\\u062a\\u064d\\u0644\\u0641\\u0648\\u0646\\u060c \\u0628\\u064a\\u0646 \\u0650\\u0645\\u064c\\u0646 \\u062a\\u064c\\u0643\\u0650\\u0648\\u0646\\u064c \\u064e\\u0647\\u064f\\u0646\\u0627\\u0643 \\u062a\\u0646\\u0627\\u0642\\u0650\\u0636\\u0627\\u062a \\u064b\\u0641\\u064f\\u064a\\u0651\\u0645\\u0627\\u064b \\u0650\\u0628\\u064a\\u0646\\u0652\\u0647\\u0645\\u060c \\u0625\\u0651\\u0646\\u0646\\u064e\\u0627\\u0650 \\u0650\\u0646\\u062a\\u062d\\u062f\\u064c\\u062b \\u064b\\u0636\\u0652\\u0645\\u0646 \\u0652\\u0625\\u0637\\u0652\\u0627\\u0650\\u0631\\u0651 \\u064c\\u0627\\u064c\\u0644\\u064e\\u0628\\u064e\\u064a\\u064b\\u062a\\u0650 \\u064c\\u0627\\u0644\\u0648\\u0652\\u0627\\u062d\\u0651\\u062f\\u060c \\u064f\\u0636\\u064e\\u0645\\u064c\\u0646\\u0650 \\u0625\\u0637\\u0627\\u0631 \\u0627\\u0644\\u064b\\u0623\\u0633\\u064c\\u0631\\u064f\\u0629 \\u0627\\u0644\\u0652\\u0648\\u0650\\u0627\\u062d\\u062f\\u0629\\u060c\\u0651 \\u0648\\u064f\\u0647\\u0646\\u064b\\u0627\\u0650 \\u0627\\u0650\\u0644\\u0641\\u0631\\u0642\\u064f \\u0628\\u064b\\u064a\\u0646\\u064c \\u064c\\u0637\\u064d\\u0628\\u064a\\u0639\\u0629 \\u0651\\u062d\\u062f\\u064a\\u064f\\u062b\\u0646\\u0651\\u0627\\u060c\\u0652 \\u0648\\u0635\\u0641\\u0629\\u064b \\u0627\\u0644\\u062d\\u0650\\u0648\\u0627\\u0631\\u0652 \\u0650.\\u0651\\u0648\\u062a\\u0627\\u0628\\u0651\\u0639\\u064b \\u062f . \\u0627\\u064f\\u0644\\u063a\\u0646\\u064a\\u064f\\u0645 \\u064f\\u0642\\u0651\\u0627\\u0626\\u0644\\u0627\\u064d\\u064b:\\u064d \\u0650\\u0645\\u0652\\u0631\\u0643\\u0650\\u0632 \\u0627\\u064c\\u0644\\u064b\\u0628\\u062d\\u0648\\u064c\\u062b \\u064e\\u0648\\u0627\\u064d\\u0644\\u062f\\u0631\\u064b\\u0627\\u064f\\u0633\\u0627\\u062a\\u0650 \\u0627\\u064c\\u0644\\u0643\\u0650\\u0648\\u064a\\u0650\\u062a\\u064c\\u064a\\u064b \\u064c\\u062c\\u0651\\u0645\\u064b\\u0639\\u0651 \\u0623\\u064d\\u0643\\u0650\\u062b\\u0651\\u0631 \\u064b\\u0645\\u0646 \\u064e\\u0645\\u0644\\u064b\\u064a\\u0648\\u064e\\u0646\\u064f\\u064a \\u0648\\u064e\\u062b\\u0651\\u064a\\u064d\\u0642\\u0629\\u064c \\u0639\\u0646 \\\"\\u0627\\u0644\\u062c\\u064b\\u0646\\u0648\\u064e\\u0628 \\u0648\\u0651\\u0627\\u064e\\u0644\\u062e\\u0644\\u0650\\u064a\\u064f\\u062c\\\"\\u064e\\u060c\\u0651 \\u0648\\u0645\\u064d\\u0646 \\u0628\\u064c\\u064a\\u064b\\u0646\\u064f\\u0647\\u0627\\u064f \\u0648\\u064e\\u062b\\u0627\\u0626\\u0642\\u0652 \\u064f\\u0645\\u0647\\u0650\\u0645\\u064e\\u0629 \\u0639\\u0646 \\u0645\\u0641\\u064c\\u0627\\u0635\\u0644 \\u064b\\u0627\\u0644\\u064f\\u0628\\u0652\\u0646\\u064a\\u0629\\u064c \\u064d\\u0627\\u0652\\u0644\\u0651\\u062a\\u064f\\u062d\\u064c\\u062a\\u064a\\u064e\\u0629 \\u064e\\u0641\\u064a \\u0627\\u0644\\u0650\\u0625\\u0645\\u064c\\u0627\\u064b\\u0631\\u064b\\u0627\\u0652\\u062a\\u064a\\u064f\\u0629\\u060c\\u064b \\u0648\\u064f\\u0646\\u064b\\u0634\\u064d\\u0623\\u064d\\u0629 \\u0645\\u062f\\u0627\\u0631\\u0633\\u0647\\u064e\\u0627\\u060c \\u0648\\u062d\\u064a\\u0627\\u062a\\u0650\\u0647\\u0627 \\u0627\\u0644\\u062b\\u064e\\u0642\\u0627\\u0641\\u064a\\u0629\\u0650\\u060c \\u064d\\u0648\\u0652\\u0641\\u064a \\u0647\\u0630\\u0650\\u0647 \\u0627\\u0651\\u0644\\u0648\\u062b\\u064b\\u0627\\u0626\\u0651\\u0642 \\u0650\\u0645\\u0639\\u0644\\u0648\\u064d\\u0645\\u0650\\u0627\\u064e\\u062a \\u062c\\u0651\\u062f \\u0645\\u0647\\u0645\\u0629\\u0652 \\u064b\\u0639\\u0651\\u0646 \\u064f\\u0646\\u0634\\u0623\\u0629\\u0651 \\u0627\\u0652\\u0644\\u064b\\u0645\\u062f\\u0650\\u0627\\u064c\\u0631\\u0633\\u060c\\u0652 \\u064c\\u0648\\u064c\\u062d\\u0651\\u062a\\u0649\\u064c \\u0623\\u0633\\u064b\\u0645\\u064e\\u0627\\u0621 \\u0651\\u0627\\u0644\\u0637\\u0644\\u0651\\u0628\\u0629\\u060c \\u0648\\u064b\\u0627\\u064e\\u0644\\u064d\\u0645\\u062f\\u064b\\u0631\\u0633\\u064c\\u064a\\u0646\\u060c\\u0652 \\u064b\\u0648\\u0643\\u0652\\u064a\\u0641\\u064a\\u064f\\u0629\\u064c \\u0628\\u064b\\u062f\\u0650\\u0627\\u064f\\u064a\\u0627\\u0652\\u062a\\u064c \\u0639\\u0652\\u0645\\u0650\\u0644\\u064e\\u064a\\u0652\\u0629\\u064d \\u0627\\u0644\\u062a\\u0639\\u0644\\u064a\\u0645\\u064f \\u064f. . \\u064d\\u0625\\u0644\\u064f\\u062e\\u0652\\u060c \\u064c\\u0648\\u0647\\u0646\\u064d\\u0627\\u0643\\u0651 \\u064b\\u0645\\u0646 \\u0651\\u0646\\u064f\\u0627\\u064f\\u0644\\u0652 \\u064b\\u0634\\u0647\\u0650\\u0627\\u062f\\u0629\\u064c \\u0650\\u0627\\u0644\\u062f\\u0650\\u0643\\u062a\\u064e\\u0648\\u0631\\u0651\\u0627\\u0647 \\u0645\\u064c\\u0646\\u0651 \\u062e\\u064f\\u0644\\u064b\\u0627\\u0651\\u0644\\u064f \\u064f\\u0642\\u0652\\u0631\\u0627\\u0621\\u0652\\u0629 \\u064e\\u0627\\u0644\\u064d\\u0639\\u064b\\u0644\\u064e\\u0627\\u0642\\u0627\\u064c\\u062a \\u0627\\u0652\\u0644\\u0623\\u0650\\u062e\\u0648\\u064d\\u064a\\u064e\\u0629 \\u064d\\u0628\\u064a\\u0646 \\u064e\\u0627\\u0644\\u064f\\u0628\\u064e\\u0644\\u062f\\u064a\\u064c\\u0646 \\u0652.\\u0652\\u0648\\u062c\\u0627\\u0621\\u064e \\u062d\\u064d\\u062f\\u064d\\u064a\\u064d\\u062b\\u064f \\u0627\\u064f\\u0644\\u0651\\u0628\\u0652\\u062f\\u064c\\u0648\\u0631\\u064e \\u064e\\u0628\\u0645\\u0627 \\u064a\\u064f\\u0634\\u0650\\u0628\\u0647 \\u064f\\u0627\\u064f\\u0644\\u0652\\u0634\\u0650\\u0647\\u0627\\u062f\\u064e\\u0629\\u064e\\u060c \\u0645\\u0646 \\u064c\\u0642\\u064e\\u0628\\u0644\\u064e \\u0652\\u0623\\u062d\\u064e\\u062f\\u064f \\u0651\\u0623\\u064c\\u0628\\u064f\\u0646\\u0627\\u0621 \\u064d\\u0627\\u0644\\u064c\\u062c\\u064a\\u064d\\u0644 \\u0627\\u064d\\u0644\\u064e\\u0630\\u064a\\u064d \\u064f\\u0641\\u062a\\u0651\\u062d \\u0639\\u064a\\u0646\\u064a\\u064b\\u0647\\u064b \\u0650\\u0639\\u064b\\u0644\\u064d\\u0649\\u0650 \\u0627\\u0644\\u0645\\u0646\\u0627\\u064f\\u0647\\u064b\\u062c \\u0627\\u0652\\u0644\\u0651\\u062a\\u0639\\u0644\\u064f\\u064a\\u0645\\u064a\\u0629 \\u0627\\u0644\\u0651\\u0643\\u064f\\u0648\\u0650\\u064a\\u062a\\u064a\\u0629\\u064e \\u0627\\u0650\\u0644\\u062a\\u064a\\u064b \\u064e\\u062a\\u0645 \\u062a\\u064b\\u062f\\u0650\\u0631\\u064a\\u064f\\u0633\\u0650\\u0647\\u064e\\u0627\\u064b \\u0641\\u0651\\u064a\\u064d \\u0627\\u064f\\u0644\\u0652\\u0625\\u064d\\u0645\\u064c\\u0627\\u0631\\u064c\\u0627\\u0652\\u062a\\u0652\\u060c \\u0648\\u0651\\u0642\\u064d\\u0627\\u0644: \\u064e\\u0643\\u0644 \\u064f\\u0630\\u064c\\u0644\\u0643 \\u064f\\u0630\\u0643\\u0631\\u0650\\u062a\\u0647 \\u0641\\u0651\\u064a \\u0643\\u062a\\u0627\\u0628\\u064a \\u064b\\\"\\u0627\\u0644\\u062c\\u0630\\u0648\\u0631 \\u0650\\u0627\\u064f\\u0644\\u062a\\u0627\\u0631\\u0652\\u064a\\u064d\\u062e\\u0650\\u064a\\u0651\\u0629\\u064d \\u064e\\u0644\\u064f\\u0644\\u0639\\u064b\\u0644\\u0627\\u0642\\u0627\\u0650\\u062a\\u064f \\u064e\\u0627\\u064f\\u0644\\u062b\\u0652\\u0642\\u0627\\u0650\\u0641\\u064d\\u064a\\u0629 \\u064c\\u0628\\u064a\\u064b\\u0646 \\u0650\\u0627\\u0644\\u0625\\u0645\\u0627\\u0631\\u0627\\u064c\\u062a\\u064c \\u064f\\u0648\\u064e\\u0627\\u064b\\u0644\\u0643\\u0650\\u0648\\u064a\\u064f\\u062a\\\"\\u060c \\u0652\\u0648\\u0643\\u064b\\u0627\\u064b\\u0646 \\u064c\\u0628\\u064f\\u0645\\u064f\\u062b\\u064f\\u0627\\u064e\\u0628\\u064c\\u0629\\u064d \\u064c\\u0631\\u0652\\u0633\\u064b\\u0627\\u0651\\u0644\\u064e\\u0629 \\u0634\\u0652\\u0643\\u0631 \\u0652\\u0644\\u0644\\u0643\\u0648\\u064a\\u062a\\u060c \\u0648\\u064c\\u0623\\u0636\\u0650\\u0627\\u064d\\u0641:\\u064d \\u0623\\u062c\\u064f\\u0644\\u060c\\u064e \\u064c\\u062a\\u062a\\u0644\\u0645\\u0630\\u0646\\u0627\\u064c \\u0639\\u064f\\u0644\\u0651\\u0649 \\u0650\\u0645\\u064d\\u0646\\u064c\\u0627\\u064c\\u0647\\u062c \\u064b\\u0627\\u0644\\u0643\\u064e\\u0648\\u064b\\u064a\\u062a\\u064d\\u060c\\u0650 \\u0648\\u0642\\u0631\\u0623\\u0646\\u0627\\u064d \\u0650\\u0639\\u064e\\u0628\\u0627\\u0631\\u064d\\u0629 \\u064e\\\"\\u0639\\u064f\\u0644\\u0645 \\u0628\\u0651\\u0644\\u0651\\u0627\\u062f\\u064a\\u0650 \\u0651\\u0644\\u0651\\u0648\\u064e\\u0646\\u0647\\u0650 \\u064c\\u0623\\u064c\\u062d\\u0645\\u0650\\u0631\\\" \\u0648\\u0650\\u0627\\u0631\\u062a\\u064c\\u062f\\u064a\\u0646\\u0652\\u0627\\u064e \\u0632\\u064a \\u0627\\u064e\\u0644\\u0652\\u0645\\u062f\\u0651\\u0627\\u0652\\u0631\\u064b\\u0633\\u064f \\u064d\\u0627\\u0644\\u0643\\u064d\\u0648\\u064e\\u064a\\u062a\\u064a\\u0629 \\u0623\\u062b\\u064f\\u0646\\u064f\\u0627\\u064e\\u0621\\u064c \\u0651\\u062a\\u0639\\u064e\\u0644\\u0650\\u064a\\u0645\\u0646\\u0627\\u064c\\u060c \\u064c\\u0648\\u0652\\u062a\\u064d\\u0646\\u0627\\u0650\\u0648\\u0644\\u064b\\u0646\\u0627 \\u0627\\u0644\\u064e\\u0648\\u062c\\u064f\\u0628\\u0652\\u0627\\u062a\\u064d \\u0627\\u0651\\u0644\\u0635\\u0628\\u0627\\u062d\\u0650\\u064a\\u0629\\u0651 \\u0627\\u0651\\u0644\\u0650\\u0643\\u064b\\u0648\\u064a\\u062a\\u064a\\u0629\\u0650 \\u064d\\u0641\\u0650\\u064a \\u0645\\u062f\\u064b\\u0627\\u064b\\u0631\\u064c\\u0633\\u0646\\u0627\\u0652\\u060c\\u064b \\u0648\\u0627\\u0633\\u062a\\u062e\\u064c\\u062f\\u064f\\u0645\\u0651\\u0646\\u0627 \\u064d\\u0627\\u064b\\u0644\\u064c\\u0623\\u0650\\u0642\\u064c\\u0644\\u0627\\u0651\\u0645 \\u0652\\u0648\\u064d\\u0627\\u0644\\u0652\\u0645\\u0645\\u064e\\u062d\\u0651\\u0627\\u064f\\u064a\\u064d\\u0627\\u064b\\u062a\\u064e \\u0648\\u0627\\u064d\\u0644\\u064b\\u0645\\u0628\\u0631\\u0627\\u064a\\u0652\\u0627\\u064b\\u062a \\u064d\\u0627\\u0644\\u064e\\u0643\\u0648\\u064c\\u064a\\u062a\\u064a\\u0629\\u064e\\u060c \\u0644\\u064d\\u0627\\u064c \\u0641\\u0631\\u0642 \\u064f\\u0628\\u064b\\u064a\\u064c\\u0646\\u064d\\u0646\\u0651\\u0627\\u060c \\u0628\\u064a\\u064b\\u0626\\u0650\\u062a\\u0627 \\u0628\\u064f\\u0644\\u062f\\u064a\\u0646\\u0627\\u064b \\u0648\\u0650\\u0627\\u064f\\u062d\\u0652\\u062f\\u0629\\u064d\\u060c \\u0647\\u064a \\u0627\\u064f\\u0644\\u0628\\u0650\\u064a\\u0650\\u0626\\u0629\\u064b \\u064c\\u0627\\u0650\\u0644\\u0628\\u062d\\u0631\\u064a\\u0629\\u064f \\u064f.\\u064b \\u0648\\u0628\\u0652\\u0639\\u062f\\u064f \\u064f\\u0623\\u0650\\u0641\\u064c\\u0648\\u0644 \\u062a\\u064d\\u062c\\u0627\\u0652\\u0631\\u0629\\u064c \\u0627\\u0644\\u0644\\u0624\\u0644\\u064b\\u0624\\u060c \\u0651\\u0641\\u064f\\u0625\\u0652\\u0646\\u0651 \\u0645\\u0651\\u062b\\u064e\\u0642\\u064f\\u0641\\u064a\\u0646\\u0627\\u064c \\u0648\\u064d\\u0639\\u0650\\u0645\\u064e\\u0627\\u0644\\u064f\\u0646\\u064f\\u0627 \\u062a\\u0648\\u062c\\u0647\\u0648\\u0627\\u064b \\u0625\\u0644\\u0649 \\u0627\\u0644\\u064e\\u0643\\u0650\\u0648\\u064b\\u064a\\u064b\\u062a\\u064f \\u0644\\u0650\\u0644\\u0639\\u064d\\u0645\\u0644 \\u0651\\u0641\\u064f\\u064a\\u0647\\u0627\\u064f\\u060c \\u0650\\u0643\\u0651\\u0645\\u0627 \\u0623\\u064f\\u0646 \\u0647\\u064c\\u0646\\u0627\\u0643 \\u0623\\u064f\\u062c\\u064a\\u0627\\u064c\\u0644\\u0651\\u0627\\u0650\\u064b \\u064e\\u0645\\u064b\\u0646 \\u0627\\u0652\\u0644\\u064e\\u0643\\u064b\\u0648\\u064a\\u062a\\u064b\\u064a\\u064a\\u0646 \\u064b\\u0639\\u064d\\u0627\\u0634\\u0648\\u064b\\u0627 \\u0641\\u064e\\u064a \\u064f\\u0627\\u0650\\u0644\\u064e\\u0625\\u064d\\u0645\\u0627\\u0631\\u0627\\u062a\\u064d\\u060c \\u064d\\u0648\\u0651\\u0645\\u064e\\u0646\\u064b\\u0647\\u0645 \\u0645\\u0646\\u064c \\u064b\\u0639\\u0650\\u0644\\u0652\\u0645\\u064d\\u0648\\u064e\\u0646\\u0627 .\\u0651 \\u0643\\u0645\\u0627 \\u0631\\u0627\\u0651\\u062d\\u0652 \\u064a\\u0650\\u062a\\u062d\\u064d\\u062f\\u062b \\u0639\\u0646\\u0651 \\u0627\\u0644\\u062a\\u0641\\u064e\\u0627\\u0639\\u064e\\u0644\\u064b \\u0627\\u064c\\u0644\\u062b\\u0650\\u0642\\u0652\\u0627\\u0641\\u064c\\u064a \\u0628\\u064d\\u064a\\u0646\\u0650 \\u064b\\u0627\\u0644\\u064d\\u0628\\u0644\\u0651\\u062f\\u064a\\u064d\\u0646 \\u0639\\u064e\\u0628\\u0631 \\u064d\\u0642\\u064d\\u0635\\u064f\\u0627\\u0626\\u0650\\u062f\\u064d \\u0627\\u0651\\u0644\\u064b\\u0634\\u0639\\u0652\\u0631\\u0627\\u064e\\u0621\\u060c\\u064d \\u064b\\u0627\\u0644\\u0652\\u0641\\u0652\\u0635\\u0652\\u062d\\u064c\\u0649\\u064b \\u0648\\u064c\\u0627\\u0644\\u0650\\u0646\\u064b\\u0628\\u0637\\u064a\\u064f\\u0629\\u0650\\u060c \\u0650\\u0641\\u0652\\u0636\\u064b\\u0644\\u0650\\u0627\\u064b\\u064b \\u064c\\u0639\\u064d\\u0646 \\u0651\\u0627\\u064d\\u0644\\u062a\\u0641\\u064c\\u0627\\u0639\\u064f\\u0644\\u064c \\u0651\\u0645\\u0652\\u0639 \\u0648\\u064b\\u0633\\u0627\\u0652\\u0626\\u064b\\u0644\\u064b \\u0627\\u0644\\u0625\\u0650\\u0639\\u0644\\u0627\\u0645\\u0650 \\u064d\\u0641\\u0650\\u064a\\u064e \\u0643\\u0644\\u0627 \\u0627\\u064b\\u0644\\u0628\\u0651\\u0644\\u064e\\u062f\\u064c\\u064a\\u064d\\u0646\\u060c\\u064c \\u0650\\u0625\\u064f\\u0630 \\u064c\\u0641\\u064c\\u062a\\u062d\\u062a\\u0650 \\u064c\\u0627\\u0644\\u0651\\u0635\\u064d\\u062d\\u064e\\u0627\\u064c\\u0641\\u0629\\u0650 \\u0627\\u064e\\u0644\\u064e\\u0643\\u0648\\u064a\\u062a\\u064a\\u0650\\u0629\\u064f \\u0651\\u0623\\u064f\\u0628\\u0652\\u0648\\u064e\\u0627\\u0628\\u0647\\u064d\\u0627\\u0651 \\u0644\\u0644\\u0645\\u062b\\u0642\\u0641\\u064a\\u064b\\u0646\\u064b \\u0627\\u064f\\u0644\\u0625\\u0645\\u0627\\u0631\\u0652\\u0627\\u0650\\u062a\\u064f\\u064a\\u064e\\u064a\\u0650\\u0646 .\",\n          \"https://example.com/resource/\\u0623\\u0650\\u0628\\u0648\\u0638\\u0628\\u064f\\u064a\\u0651 \\u064c-\\u0650 \\u064b\\u0645\\u0646\\u0651\\u064a\\u0650 \\u0650\\u0628\\u0651\\u0648\\u0651\\u0646\\u0639\\u064f\\u0627\\u064b\\u0645\\u0629:\\u0646\\u064e\\u0638\\u0645 \\u0627\\u062a\\u062d\\u0627\\u062f \\u064d\\u0643\\u0651\\u062a\\u0627\\u0650\\u0628\\u064d \\u0651\\u0648\\u0652\\u0623\\u062f\\u0652\\u0628\\u064e\\u0627\\u064b\\u0621 \\u064f\\u0627\\u0644\\u0625\\u0645\\u0627\\u0651\\u0631\\u0627\\u0650\\u062a \\u0641\\u064a \\u0623\\u0628\\u0648\\u0650\\u0638\\u0628\\u064b\\u064a\\u0651\\u060c\\u064c \\u0645\\u0633\\u064c\\u0627\\u064e\\u0621\\u064c \\u0623\\u0645\\u064c\\u0633\\u064d \\u0627\\u0644\\u064f\\u0623\\u064e\\u0648\\u0651\\u0644\\u060c \\u064f\\u0641\\u0650\\u064a\\u064d \\u0642\\u0651\\u0627\\u0650\\u0639\\u0629\\u064d \\u0627\\u0652\\u0644\\u062f\\u0643\\u062a\\u0648\\u064c\\u0631\\u064c \\u064c\\u0639\\u0628\\u062f\\u064e \\u064b\\u0627\\u0644\\u064c\\u0644\\u0647\\u0651 \\u0639\\u0645\\u0631\\u0627\\u064d\\u0646 \\u064f\\u062a\\u0650\\u0631\\u0651\\u064a\\u0645\\u0652 \\u064d\\u0641\\u064a\\u064f \\u0645\\u0651\\u0642\\u0631 \\u064d\\u0627\\u0644\\u0627\\u062a\\u064c\\u062d\\u0627\\u062f\\u064c \\u064c\\u0627\\u0644\\u064c\\u062c\\u062f\\u064a\\u0651\\u062f \\u0641\\u064a \\u0645\\u0650\\u0639\\u064e\\u0633\\u064b\\u0643\\u0631\\u064d \\u064f\\u0622\\u0644\\u0651 \\u0646\\u064b\\u0647\\u064a\\u0627\\u0646\\u064f \\u0623\\u064e\\u0645\\u0650\\u0633\\u064f\\u064a\\u0629 \\u0644\\u0652\\u0644\\u064e\\u0643\\u064c\\u0627\\u062a\\u0628\\u064d \\u0651\\u0648\\u064e\\u0627\\u0644\\u0652\\u0645\\u062b\\u064e\\u0642\\u0651\\u0641\\u064c \\u064d\\u0627\\u0644\\u0625\\u0645\\u064d\\u0627\\u064c\\u0631\\u064c\\u0627\\u062a\\u0651\\u064a\\u064f \\u0645\\u0627\\u062c\\u064c\\u062f \\u0628\\u0648 \\u0634\\u064f\\u0644\\u064a\\u0628\\u064f\\u064a\\u060c\\u064d \\u0623\\u064f\\u0645\\u064b\\u064a\\u0646 \\u0639\\u0627\\u0645\\u0652 \\u0652\\u0627\\u0644\\u0645\\u0646\\u062a\\u0650\\u062f\\u0651\\u0649 \\u0650\\u0627\\u0644\\u064d\\u0625\\u064e\\u0633\\u0651\\u0644\\u0651\\u0627\\u0645\\u0652\\u064a\\u064f \\u0641\\u064f\\u064a \\u0627\\u0644\\u064e\\u0634\\u0650\\u0627\\u0631\\u064d\\u0642\\u064e\\u0629\\u064e\\u060c\\u0650 \\u064c\\u0628\\u064f\\u0639\\u0646\\u0648\\u064f\\u0627\\u0646:\\u0651 \\u0644\\u0645\\u0627\\u0630\\u0627\\u064e \\u0651\\u0627\\u064b\\u0644\\u064f\\u0634\\u0651\\u0627\\u0631\\u0642\\u0629 \\u0639\\u0651\\u0627\\u064e\\u0635\\u0645\\u0629 \\u0650\\u0644\\u064d\\u0644\\u062b\\u064f\\u0642\\u0627\\u0641\\u064b\\u0629\\u064b \\u0627\\u064c\\u0644\\u0625\\u064c\\u0633\\u0652\\u0644\\u064d\\u0627\\u0645\\u0651\\u064a\\u0629\\u064d\\u061f \\u0642\\u062f\\u0651\\u0651\\u064e\\u0645 \\u0627\\u0644\\u064e\\u0623\\u0645\\u0633\\u064a\\u064f\\u0629\\u064f \\u064d\\u0627\\u0644\\u0634\\u0650\\u0627\\u0639\\u0631\\u0652 \\u0652\\u0648\\u0627\\u0644\\u0646\\u0627\\u0652\\u0642\\u062f \\u0645\\u064b\\u062d\\u064c\\u0645\\u062f \\u0646\\u0648\\u0631 \\u064f\\u0627\\u064c\\u0644\\u062f\\u064f\\u064a\\u0646\\u060c\\u0651 \\u064b\\u0648\\u0650\\u062d\\u0636\\u0650\\u0631\\u0651\\u0647\\u064c\\u0627\\u064e \\u064f\\u062d\\u0650\\u0628\\u064d\\u064a\\u0652\\u0628\\u064b \\u0627\\u064e\\u0644\\u0635\\u064b\\u0627\\u064a\\u0650\\u063a\\u0651 \\u064e\\u0631\\u064f\\u0626\\u064a\\u064d\\u0633\\u0652 \\u0645\\u062c\\u0651\\u0644\\u0633\\u0650 \\u0625\\u064c\\u062f\\u064c\\u0627\\u0631\\u0629\\u0650 \\u0651\\u0627\\u064c\\u0644\\u064b\\u0627\\u064b\\u062a\\u062d\\u0627\\u062f\\u0650\\u060c\\u064e \\u0648\\u0639\\u064b\\u062f\\u064b\\u062f \\u0645\\u0646 \\u064d\\u0627\\u0644\\u0643\\u062a\\u0651\\u0627\\u0628\\u064e \\u0648\\u0652\\u0627\\u064f\\u0644\\u064b\\u0623\\u064f\\u062f\\u0628\\u0627\\u064d\\u0621 \\u064d.\\u064e \\u064c\\u0627\\u0633\\u062a\\u064b\\u0647\\u0651\\u0644\\u0652 \\u0627\\u0652\\u0644\\u0651\\u0645\\u064d\\u062d\\u0652\\u0627\\u064f\\u0636\\u0631 \\u0628\\u0627\\u0633\\u062a\\u0639\\u064e\\u0631\\u0627\\u0636\\u0650 \\u0627\\u0644\\u0623\\u0637\\u0631 \\u0627\\u064c\\u0644\\u0639\\u064d\\u0627\\u0645\\u0629\\u0652 \\u0651\\u0627\\u064c\\u0644\\u062a\\u064a\\u0650 \\u0639\\u0645\\u0644\\u062a \\u064d\\u0639\\u0644\\u0649 \\u062a\\u064e\\u0634\\u0643\\u0651\\u064a\\u0652\\u0644\\u064f \\u064b\\u0648\\u0628\\u0644\\u064d\\u0648\\u064f\\u0631\\u0629 \\u0627\\u064f\\u0644\\u0641\\u0643\\u064b\\u0631\\u0652\\u0629 \\u0627\\u064e\\u0644\\u064c\\u062b\\u0642\\u0651\\u0627\\u0641\\u064d\\u064a\\u064b\\u0629\\u064e \\u0641\\u064b\\u064a\\u064f \\u064c\\u0627\\u0644\\u064f\\u0634\\u0627\\u0650\\u0631\\u064b\\u0642\\u0629\\u0652\\u060c\\u0652 \\u0645\\u0646\\u064c \\u0652\\u062e\\u0652\\u0644\\u0627\\u0652\\u0644\\u064d \\u0652\\u0627\\u0644\\u062a\\u064f\\u0639\\u064d\\u0631\\u064b\\u064a\\u0641 \\u0628\\u0652\\u0627\\u0644\\u062a\\u0650\\u062c\\u064b\\u0631\\u064f\\u0628\\u0629\\u0651 \\u064f\\u0648\\u0623\\u0647\\u0645 \\u0645\\u0633\\u0652\\u0627\\u0650\\u0631\\u064d\\u0627\\u062a\\u064b\\u0647\\u064d\\u0627\\u0652\\u060c\\u064f \\u0650\\u0648\\u064b\\u0627\\u0650\\u0644\\u0651\\u0623\\u0637\\u0650\\u0648\\u064c\\u0627\\u0631 \\u0651\\u0627\\u0652\\u0644\\u064d\\u062a\\u064a \\u0650\\u0645\\u064c\\u0631\\u064b\\u062a \\u0628\\u0647\\u0650\\u0627\\u064d\\u060c \\u0628\\u0652\\u062f\\u064e\\u0621\\u0651\\u0627\\u064b\\u064d \\u0628\\u064d\\u0627\\u0644\\u062d\\u062f\\u064a\\u064c\\u062b\\u064b \\u064d\\u0639\\u064b\\u0646 \\u0628\\u064d\\u0646\\u0627\\u0652\\u0621\\u064d \\u0627\\u0644\\u0628\\u064d\\u0646\\u0649\\u0650 \\u0627\\u0651\\u0644\\u0650\\u062a\\u064c\\u062d\\u062a\\u064c\\u064a\\u064c\\u0629\\u0650 \\u064d\\u0644\\u0644\\u0645\\u0624\\u064b\\u0633\\u0633\\u0650\\u0627\\u062a \\u0650\\u0627\\u0644\\u062b\\u064e\\u0642\\u0652\\u0627\\u0641\\u064a\\u064d\\u0629\\u064c \\u064f\\u0648\\u0627\\u064e\\u0644\\u0625\\u0651\\u0639\\u064e\\u0644\\u0627\\u0645\\u0650\\u064a\\u0629\\u0651 \\u064c\\u0627\\u0644\\u062a\\u064a \\u0623\\u064d\\u0633\\u0651\\u0647\\u0645\\u064f\\u062a\\u060c \\u064d\\u0639\\u064f\\u0628\\u0631 \\u0651\\u062a\\u0627\\u0652\\u0631\\u064a\\u062e\\u0647\\u0627\\u0652\\u060c\\u064e \\u0641\\u064c\\u064a\\u0651 \\u0652\\u062a\\u064b\\u0641\\u0639\\u064a\\u0644 \\u0627\\u0651\\u0644\\u0639\\u0650\\u0645\\u064b\\u0644\\u064b \\u0627\\u064e\\u0644\\u062b\\u0650\\u0642\\u064e\\u0627\\u0650\\u0641\\u0651\\u064a \\u0641\\u064f\\u064a \\u0627\\u064d\\u0644\\u0634\\u0627\\u0652\\u0631\\u0642\\u0629\\u060c \\u0627\\u0646\\u0637\\u0644\\u064d\\u0627\\u0642\\u0627\\u064b\\u0651 \\u0645\\u0650\\u0646\\u064b \\u062a\\u0623\\u0633\\u064f\\u064a\\u0633\\u0651 \\u064c\\u062f\\u0627\\u0652\\u0626\\u0631\\u0629\\u064d \\u0652\\u0627\\u0650\\u0644\\u064f\\u062b\\u0642\\u064b\\u0627\\u0641\\u0629 \\u064d\\u0648\\u0627\\u064c\\u0644\\u0625\\u0651\\u0639\\u0644\\u0627\\u0650\\u0645\\u064f\\u060c\\u0651 \\u0648\\u0650\\u062a\\u0644\\u0641\\u0632\\u064a\\u0648\\u064b\\u0646 \\u0627\\u0644\\u064f\\u0634\\u0627\\u064c\\u0631\\u0642\\u0652\\u0629\\u0650 \\u0648\\u0645\\u0627 \\u062a\\u062e\\u064d\\u0644\\u064c\\u0644\\u064f \\u0630\\u0644\\u0643\\u064c \\u064e\\u0645\\u064b\\u0646\\u064f \\u0625\\u064b\\u0628\\u0631\\u0627\\u0632\\u064f \\u0648\\u062a\\u0634\\u062c\\u064c\\u064a\\u064f\\u0639\\u064d \\u064f\\u0644\\u0644\\u062b\\u0642\\u064b\\u0627\\u064c\\u0641\\u0629 \\u0648\\u064b\\u0627\\u064b\\u0644\\u0641\\u0646\\u064e\\u0648\\u064d\\u0646\\u064e \\u0645\\u0646\\u064f \\u064f\\u062e\\u0644\\u0627\\u0644 \\u064b\\u0627\\u064f\\u0644\\u064f\\u0645\\u064d\\u0639\\u064d\\u0627\\u0631\\u0636 \\u0627\\u0644\\u0651\\u0641\\u064f\\u0646\\u064a\\u064b\\u0629\\u064f \\u0648\\u064d\\u0627\\u0644\\u0650\\u0641\\u0639\\u0627\\u064e\\u0644\\u064a\\u0627\\u062a\\u0652 \\u064f\\u0627\\u0652\\u0644\\u064c\\u062b\\u0642\\u064b\\u0627\\u0651\\u0641\\u064b\\u064a\\u0629 \\u064f\\u0627\\u0644\\u062a\\u064f\\u064a \\u0651\\u062a\\u0635\\u0628 \\u064d\\u0641\\u064a \\u0642\\u0627\\u064b\\u0644\\u064b\\u0628\\u0650 \\u0627\\u0644\\u0646\\u064c\\u0647\\u064b\\u0648\\u0636\\u064b \\u0644\\u064b\\u0634\\u0627\\u064b\\u0631\\u064d\\u0642\\u0650\\u0629\\u064d \\u0627\\u0644\\u0652\\u062b\\u0642\\u064f\\u0627\\u0641\\u0652\\u0629\\u064e \\u064d\\u0648\\u0627\\u0644\\u0645\\u064c\\u0639\\u0631\\u0641\\u064e\\u0629\\u064c\\u060c \\u0645\\u064c\\u0627 \\u064a\\u064c\\u062c\\u064b\\u064a\\u0628 \\u0628\\u064b\\u0634\\u0643\\u0644\\u0650 \\u0642\\u064b\\u0637\\u0639\\u0650\\u064a \\u064d\\u0639\\u064c\\u0646\\u064d \\u0627\\u0651\\u0644\\u064e\\u062a\\u064e\\u0633\\u0651\\u0627\\u0624\\u0644 \\u0652\\u0627\\u0644\\u0645\\u0652\\u0631\\u0643\\u0632\\u064b\\u064a\\u0650 \\u0644\\u0645\\u0627\\u0651\\u0630\\u0627\\u0651 \\u064f\\u0627\\u0650\\u0644\\u0634\\u0627\\u0651\\u0631\\u0642\\u0629\\u0651 \\u0639\\u0627\\u064b\\u0635\\u0645\\u0629\\u064f \\u064f\\u0627\\u064d\\u0644\\u064d\\u062b\\u0650\\u0642\\u0627\\u0641\\u064b\\u0629\\u064c \\u0627\\u064d\\u0644\\u0651\\u0625\\u0633\\u064b\\u0644\\u064c\\u0627\\u0645\\u064a\\u0629\\u064e\\u061f \\u064b\\u0648\\u064d\\u0623\\u0650\\u0634\\u0652\\u0627\\u0631 \\u064c\\u0627\\u0644\\u0645\\u062d\\u0627\\u064b\\u0636\\u0651\\u0631\\u064e \\u0652\\u0625\\u064f\\u0644\\u0649 \\u064e\\u0627\\u064d\\u0644\\u064d\\u062d\\u0631\\u0627\\u0643 \\u064d\\u0627\\u0644\\u062b\\u0642\\u0627\\u064e\\u0641\\u064a\\u0650 \\u0650\\u0627\\u0644\\u064b\\u0646\\u064f\\u0634\\u0637\\u0651 \\u0627\\u0644\\u0630\\u064c\\u064a\\u0652 \\u0634\\u0643\\u064b\\u0644\\u064f \\u0652\\u0627\\u0651\\u0644\\u064d\\u0628\\u0650\\u0648\\u0651\\u0627\\u0643\\u064f\\u064a\\u0631 \\u064c\\u0627\\u064d\\u0644\\u064b\\u0623\\u064c\\u0648\\u0644\\u0649\\u064c \\u0651\\u0644\\u0644\\u0651\\u0639\\u0645\\u0651\\u0644 \\u0627\\u0644\\u062b\\u0642\\u0627\\u0641\\u064a \\u0651\\u0641\\u064c\\u064a\\u064b \\u0627\\u0644\\u0652\\u0634\\u0651\\u0627\\u0651\\u0631\\u064f\\u0642\\u0629\\u064c\\u060c\\u0652 \\u0650\\u0627\\u064d\\u0644\\u0630\\u0651\\u064a\\u0651 \\u0634\\u0645\\u064c\\u0644 \\u0643\\u0627\\u0641\\u0629\\u064f \\u064e\\u0627\\u0644\\u064b\\u062c\\u0648\\u0627\\u0646\\u064c\\u0628\\u064c \\u0650\\u0628\\u0645\\u0627\\u064f \\u064b\\u0641\\u0652\\u064a\\u0652\\u0647\\u0627\\u064d \\u0625\\u0646\\u0652\\u0634\\u064c\\u0627\\u0621 \\u0651\\u0627\\u0644\\u0645\\u0631\\u0627\\u0643\\u0652\\u0632 \\u0648\\u0627\\u064e\\u0644\\u0645\\u062f\\u064f\\u0627\\u064d\\u0631\\u0633 \\u064b\\u0648\\u0650\\u0627\\u064c\\u0644\\u0651\\u062c\\u0652\\u0627\\u0645\\u0652\\u0639\\u0651\\u0627\\u062a\\u0652 \\u064f\\u0648\\u0650\\u0627\\u0644\\u0641\\u064f\\u0646\\u0650\\u0648\\u064e\\u0646\\u0652 \\u064b\\u0648\\u064b\\u0627\\u0644\\u0652\\u0645\\u0651\\u0633\\u064e\\u0627\\u0650\\u0631\\u062d \\u064d\\u0644\\u062a\\u0651\\u0639\\u0632\\u064b\\u064a\\u0632 \\u0627\\u0644\\u0641\\u0639\\u0644\\u064b \\u0627\\u0644\\u064b\\u062b\\u064e\\u0642\\u064e\\u0627\\u0651\\u0641\\u064c\\u064a\\u064d \\u0648\\u064c\\u062a\\u0633\\u0631\\u064a\\u064c\\u0639\\u064f \\u0639\\u062c\\u064f\\u0644\\u0629\\u064f \\u0627\\u0644\\u0650\\u0646\\u064e\\u0634\\u0627\\u0637\\u0652 \\u064d\\u0627\\u0644\\u062b\\u0642\\u064c\\u0627\\u0651\\u0641\\u0650\\u064a \\u064b\\u0641\\u064a \\u0627\\u064d\\u0644\\u0651\\u0634\\u0627\\u064b\\u0631\\u0642\\u0629\\u0650\\u060c\\u0651 \\u0643\\u0645\\u064c\\u0627 \\u064d\\u062a\\u0650\\u0645 \\u062a\\u062e\\u0635\\u064a\\u0635\\u064f \\u064f\\u0645\\u064c\\u0633\\u0650\\u0627\\u062d\\u0629 \\u0645\\u064c\\u0639\\u062a\\u064b\\u0628\\u0651\\u0631\\u064f\\u0629\\u064e \\u064b\\u0644\\u0644\\u0637\\u0641\\u0644\\u064f \\u0648\\u062b\\u0642\\u0652\\u0627\\u0652\\u0641\\u064c\\u062a\\u0647\\u064c\\u060c\\u0650 \\u0645\\u0646\\u0651 \\u062e\\u0652\\u0644\\u064f\\u0627\\u0644 \\u0625\\u0646\\u0634\\u064b\\u0627\\u0652\\u0621\\u064e \\u0651\\u0645\\u064f\\u0631\\u064c\\u0627\\u0643\\u0652\\u0632 \\u064c\\u0645\\u064c\\u0643\\u062a\\u0628\\u0652\\u0627\\u064c\\u062a \\u064e\\u0627\\u0644\\u064e\\u0623\\u0650\\u0637\\u064d\\u0641\\u064c\\u0627\\u0644\\u060c \\u0648\\u064d\\u0645\\u064d\\u0631\\u0652\\u0627\\u0643\\u0632 \\u064e\\u0627\\u064c\\u0644\\u0623\\u0637\\u0641\\u064c\\u0627\\u064d\\u0644\\u064d\\u060c \\u062b\\u0645\\u064c \\u0645\\u0652\\u0631\\u064d\\u0627\\u0643\\u0632 \\u064b\\u0627\\u064e\\u0644\\u0652\\u0646\\u0627\\u0634\\u0651\\u0626\\u0629\\u060c \\u0641\\u0645\\u0652\\u062c\\u064f\\u0644\\u0633 \\u064b\\u0623\\u064e\\u0639\\u0644\\u0649\\u064e \\u0652\\u0644\\u064f\\u0644\\u0637\\u0641\\u064e\\u0644\\u0652 \\u0625\\u064e\\u0644\\u0649 \\u064c\\u063a\\u064a\\u0631 \\u0630\\u064b\\u0644\\u0643 \\u0651\\u0645\\u0646 \\u0627\\u0644\\u0633\\u064b\\u064a\\u0627\\u0633\\u064c\\u0627\\u062a \\u064b\\u0627\\u0644\\u0652\\u062a\\u064a\\u064c \\u064e\\u0627\\u0650\\u0639\\u0650\\u062a\\u064b\\u0645\\u064b\\u062f\\u0647\\u0650\\u0627\\u064e \\u064d\\u0635\\u0651\\u0627\\u0652\\u062d\\u0628\\u0650 \\u0652\\u0627\\u0652\\u0644\\u0633\\u064c\\u0645\\u0648\\u064f \\u064b\\u0627\\u064b\\u0644\\u0650\\u0634\\u064f\\u064a\\u064d\\u062e \\u064f\\u0627\\u0644\\u062f\\u064b\\u0643\\u062a\\u0648\\u064f\\u0631 \\u064b\\u0633\\u064d\\u0644\\u064f\\u0637\\u0627\\u0646 \\u0628\\u0646 \\u0645\\u064e\\u062d\\u064c\\u0645\\u062f \\u0627\\u0650\\u0644\\u0642\\u0652\\u0627\\u0633\\u0645\\u064a\\u0652 \\u064e\\u0639\\u064d\\u0636\\u0648\\u064f \\u0627\\u0644\\u0645\\u062c\\u0650\\u0644\\u0633\\u064b \\u064c\\u0627\\u064d\\u0644\\u064b\\u0623\\u0639\\u0651\\u0644\\u0652\\u0649 \\u062d\\u064b\\u0627\\u0643\\u064c\\u0645\\u064e \\u064f\\u0627\\u064e\\u0644\\u0634\\u064e\\u0627\\u0650\\u0631\\u0642\\u064c\\u0629\\u0652 \\u064e\\u0644\\u0644\\u0650\\u0631\\u0642\\u0652\\u064a\\u064e \\u064c\\u0628\\u062b\\u0650\\u0642\\u064c\\u0627\\u064f\\u0641\\u064d\\u0629\\u0652 \\u0627\\u0652\\u0644\\u0637\\u0650\\u0641\\u0644 \\u0648\\u0652\\u062a\\u0646\\u064d\\u0645\\u064a\\u0651\\u0629 \\u0652\\u0645\\u064c\\u062f\\u064f\\u0627\\u064e\\u0631\\u064c\\u0643\\u0652\\u0647\\u0652 \\u0648\\u064d\\u0642\\u064e\\u062f\\u0631\\u0652\\u0627\\u0651\\u062a\\u064d\\u0647\\u064b \\u0650. \\u0648\\u064b\\u0630\\u0647\\u064d\\u0628\\u064b \\u0627\\u064c\\u0644\\u0645\\u0650\\u062d\\u0651\\u0627\\u0650\\u0636\\u064b\\u0631 \\u0625\\u064d\\u0644\\u0650\\u0649\\u0650 \\u064f\\u0623\\u0646\\u064e \\u064f\\u0627\\u0644\\u0652\\u0633\\u064c\\u064a\\u0651\\u0627\\u0633\\u0650\\u0627\\u062a\\u064d \\u0627\\u0644\\u062b\\u0652\\u0642\\u0627\\u0641\\u064a\\u0629\\u064b \\u0648\\u0627\\u0644\\u062a\\u064d\\u0648\\u062c\\u064c\\u064a\\u064b\\u0647\\u0627\\u062a\\u0650 \\u0650\\u0627\\u064b\\u0644\\u064d\\u0646\\u064e\\u064a\\u0651\\u0631\\u0629\\u064c \\u0644\\u064e\\u0635\\u064c\\u0627\\u062d\\u0650\\u0628\\u064c \\u0627\\u0644\\u0633\\u0645\\u0648 \\u064d\\u062d\\u0627\\u064c\\u0643\\u0652\\u0645\\u064b \\u0627\\u064d\\u0644\\u0634\\u064c\\u0627\\u0631\\u064f\\u0642\\u0629 \\u064b\\u062c\\u064c\\u0639\\u0644\\u0650\\u062a\\u064f \\u0650\\u0645\\u064e\\u0646 \\u0627\\u0651\\u0644\\u0639\\u064d\\u0645\\u064c\\u0644\\u064e \\u0627\\u0644\\u064d\\u062b\\u064b\\u0642\\u0627\\u064d\\u0641\\u064f\\u064a\\u0652 \\u0641\\u064a\\u064e \\u0627\\u0652\\u0644\\u064d\\u0634\\u0627\\u0631\\u064f\\u0642\\u0651\\u0629\\u064c \\u0639\\u0645\\u0644\\u0627\\u064b\\u0650 \\u0646\\u064e\\u0634\\u064d\\u0637\\u0651\\u0627\\u064b \\u0648\\u0651\\u0642\\u0651\\u0648\\u0651\\u064a\\u0652\\u0627\\u064b\\u064c \\u064e\\u0633\\u0648\\u064f\\u0627\\u0621 \\u064f\\u0645\\u064d\\u0646 \\u0652\\u062e\\u0652\\u0644\\u0650\\u0627\\u0644 \\u062a\\u064d\\u0648\\u064e\\u062c\\u0650\\u064a\\u0647\\u0627\\u064c\\u062a\\u064c \\u0650\\u0633\\u064e\\u0645\\u0651\\u0648\\u0647 \\u064c\\u0644\\u064e\\u0644\\u0627\\u0652\\u0631\\u062a\\u064d\\u0642\\u0651\\u0627\\u0621 \\u064c\\u0628\\u0627\\u0651\\u0644\\u064f\\u0641\\u0646\\u064f \\u0627\\u064d\\u0644\\u064d\\u062a\\u0634\\u064f\\u0643\\u064a\\u064e\\u0644\\u064e\\u064a\\u0652 \\u0648\\u064b\\u062a\\u0634\\u064f\\u062c\\u064d\\u064a\\u0639 \\u064b\\u0627\\u0652\\u0644\\u0641\\u0646\\u0627\\u0650\\u0646\\u064a\\u0646\\u060c\\u064c \\u0648\\u064f\\u0627\\u0642\\u062a\\u0646\\u064d\\u0627\\u0621\\u064c \\u0652\\u0623\\u064c\\u0639\\u064e\\u0645\\u064e\\u0627\\u0644 \\u0641\\u064b\\u0646\\u0651\\u064a\\u064e\\u0629\\u064e \\u0644\\u0645\\u0635\\u0650\\u0644\\u0652\\u062d\\u064d\\u0629\\u064f \\u064f\\u0645\\u062a\\u064b\\u062d\\u064d\\u0641\\u0651 \\u0627\\u0644\\u064b\\u0634\\u0627\\u0631\\u0651\\u0642\\u0629\\u060c \\u0648\\u064f\\u0625\\u064c\\u0646\\u062c\\u0627\\u0632 \\u064e\\u0642\\u0652\\u0627\\u0639\\u0629 \\u064e\\u062e\\u064f\\u0627\\u0651\\u0635\\u0629\\u0652 \\u064f\\u0628\\u0627\\u064f\\u0644\\u0622\\u062b\\u0650\\u0627\\u0651\\u0631 \\u0627\\u064b\\u0644\\u0625\\u0633\\u064d\\u0644\\u064c\\u0627\\u064d\\u0645\\u0651\\u064a\\u0629\\u064b \\u064f\\u0641\\u064e\\u064a \\u0645\\u062a\\u062d\\u0641 \\u0627\\u0652\\u0644\\u064d\\u0634\\u0627\\u0651\\u0631\\u0642\\u064e\\u0629\\u060c\\u064c \\u064d\\u0623\\u064b\\u0645\\u064e \\u0645\\u064f\\u0646 \\u062e\\u064c\\u0644\\u0627\\u0651\\u0644 \\u0650\\u0627\\u0633\\u064b\\u062a\\u0643\\u0645\\u0651\\u0627\\u064d\\u0644 \\u0627\\u0652\\u0644\\u0645\\u0652\\u0634\\u0652\\u0631\\u0648\\u0639\\u0627\\u064d\\u062a\\u064c \\u0627\\u0644\\u062b\\u0652\\u0642\\u0651\\u0627\\u0652\\u0641\\u064a\\u0629\\u064c \\u0648\\u064e\\u062a\\u0631\\u0645\\u064a\\u0645 \\u0627\\u0651\\u0644\\u0645\\u0628\\u0627\\u0646\\u064c\\u064a\\u064f \\u0627\\u0644\\u064d\\u062a\\u0650\\u0631\\u0627\\u0650\\u062b\\u064a\\u0650\\u0629 \\u0652\\u0648\\u063a\\u064a\\u0631\\u0647\\u064b\\u0627\\u064f \\u0645\\u064f\\u0646 \\u0627\\u064e\\u0644\\u0651\\u0623\\u0639\\u0651\\u0645\\u0627\\u0644 \\u064c\\u0648\\u0650\\u0627\\u0644\\u0623\\u064f\\u0646\\u0634\\u064e\\u0637\\u0629 \\u0652\\u0627\\u0644\\u062a\\u064a \\u062a\\u0635\\u0628 \\u0641\\u064a\\u064d \\u064e\\u0635\\u0645\\u064e\\u064a\\u0651\\u0645\\u0651 \\u064b\\u0627\\u0644\\u0650\\u0641\\u0639\\u0651\\u0644\\u064d \\u0627\\u064f\\u0644\\u064e\\u062b\\u064c\\u0642\\u0627\\u064b\\u0641\\u0651\\u064a .\\u0648\\u0623\\u0652\\u0643\\u064e\\u062f\\u064d \\u0627\\u0652\\u0644\\u0650\\u0645\\u0650\\u062d\\u0650\\u0627\\u064c\\u0636\\u0631 \\u0623\\u064d\\u0646 \\u0627\\u064c\\u0644\\u064e\\u062f\\u064e\\u0648\\u0652\\u0631\\u0629\\u0652 \\u064b\\u0627\\u0652\\u0644\\u064c\\u0623\\u064c\\u0648\\u064c\\u0644\\u064f\\u0649\\u0651 \\u0644\\u0645\\u064e\\u0639\\u0631\\u064d\\u0636\\u064d \\u0627\\u0644\\u0650\\u0643\\u0650\\u062a\\u0651\\u0627\\u0628\\u060c \\u0627\\u0644\\u0630\\u064d\\u064a \\u0623\\u0635\\u0651\\u0628\\u062d \\u0627\\u0651\\u0644\\u0652\\u064a\\u064f\\u0648\\u064c\\u0645\\u0651 \\u0648\\u062c\\u064b\\u0647\\u0629 \\u0639\\u0627\\u064b\\u0644\\u0651\\u0645\\u064a\\u0650\\u0629 \\u0644\\u0651\\u0644\\u0643\\u062a\\u0627\\u064d\\u0628\\u064e \\u064c\\u0648\\u0627\\u0644\\u0650\\u0645\\u0641\\u064e\\u0643\\u064b\\u0631\\u064a\\u0650\\u0646 \\u064e\\u0645\\u0650\\u0646\\u0650 \\u0623\\u0650\\u0646\\u064d\\u062d\\u064d\\u0627\\u064d\\u0621\\u064c \\u0627\\u064e\\u0644\\u0650\\u0639\\u0651\\u0627\\u0651\\u0644\\u0645\\u0652 \\u0638\\u0652\\u0644\\u0627\\u0644\\u0647\\u064c \\u0627\\u0644\\u0650\\u0648\\u0627\\u0631\\u064f\\u0641\\u0629\\u064e\\u060c\\u064f \\u0634\\u064d\\u0643\\u064d\\u0644\\u062a\\u0650 \\u064d\\u0646\\u064f\\u0642\\u064b\\u0637\\u0629 \\u064f\\u0627\\u064f\\u0646\\u064c\\u0637\\u0644\\u064e\\u0627\\u0652\\u0642 \\u064f\\u0648\\u062a\\u062d\\u0648\\u0650\\u0651\\u064d\\u0644 \\u0641\\u0652\\u064a\\u064d \\u0627\\u064e\\u0644\\u0645\\u0634\\u0652\\u0631\\u0652\\u0648\\u0639 \\u0652\\u0627\\u0644\\u0651\\u062b\\u0642\\u0652\\u0627\\u0652\\u0641\\u064d\\u064a\\u064f \\u0652\\u0644\\u064d\\u0635\\u0627\\u062d\\u0628 \\u064c\\u0627\\u064d\\u0644\\u064e\\u0633\\u0651\\u0645\\u0650\\u0648\\u064d \\u0650\\u062d\\u064d\\u0627\\u0643\\u0645\\u064f \\u0627\\u0652\\u0644\\u0634\\u0652\\u0627\\u064b\\u0631\\u0642\\u0651\\u0629\\u060c\\u0652 \\u0643\\u0652\\u0645\\u064b\\u0627\\u064e \\u064c\\u062a\\u0632\\u064f\\u0627\\u064d\\u0645\\u0646 \\u064c\\u0645\\u064c\\u0639\\u0651 \\u064e\\u0647\\u0650\\u0630\\u0647 \\u0627\\u0644\\u062f\\u0648\\u0631\\u0651\\u0629 \\u0627\\u064b\\u0641\\u0652\\u062a\\u062a\\u0627\\u062d \\u0645\\u064f\\u0643\\u064b\\u062a\\u0628\\u0652\\u0629\\u064e \\u0627\\u0644\\u064b\\u0645\\u064f\\u062d\\u0650\\u0645\\u0651\\u0648\\u062f\\u064e \\u0652(\\u0651\\u0627\\u0644\\u0652\\u0623\\u064b\\u0647\\u064f\\u0644\\u0650\\u064a\\u0629\\u0652)\\u0652\\u060c\\u0652 \\u0651\\u062b\\u064c\\u0645 \\u064b\\u0627\\u0644\\u0650\\u0645\\u0651\\u0631\\u064f\\u0643\\u0652\\u0632\\u0651 \\u064e\\u0627\\u0652\\u0644\\u064c\\u062b\\u0651\\u0642\\u0627\\u0641\\u0652\\u064a\\u064d \\u064f\\u0641\\u064a\\u0645\\u0627\\u0652 \\u0628\\u0639\\u062f\\u064d .\\u0652\\u0648\\u0651\\u0627\\u064c\\u0639\\u062a\\u0628\\u064d\\u0631 \\u0627\\u064d\\u0644\\u064c\\u0645\\u062d\\u064e\\u0627\\u064b\\u0636\\u0651\\u0631 \\u064b\\u0623\\u0646 \\u064b\\u062d\\u064b\\u0632\\u0645\\u0629 \\u0652\\u0627\\u0652\\u0644\\u064c\\u0645\\u064d\\u0647\\u064d\\u0631\\u062c\\u064d\\u0627\\u064d\\u0646\\u0627\\u0651\\u062a \\u0652\\u0648\\u0651\\u0627\\u0644\\u064f\\u0641\\u064b\\u0639\\u0650\\u0627\\u0644\\u064a\\u0650\\u0627\\u0651\\u062a\\u064b \\u0627\\u0644\\u0652\\u062a\\u064a\\u0650 \\u062a\\u0642\\u0652\\u0627\\u0650\\u0645 \\u0652\\u0639\\u0644\\u0651\\u0649 \\u0645\\u062f\\u0627\\u064c\\u0631\\u0650 \\u0627\\u064e\\u0644\\u0639\\u0627\\u0645\\u0650 \\u0650\\u0641\\u064a \\u064c\\u0627\\u0644\\u064e\\u0634\\u0627\\u064d\\u0631\\u0642\\u0629\\u064f\\u060c\\u0652 \\u0651\\u0648\\u0645\\u0627 \\u064a\\u0651\\u062a\\u064c\\u062e\\u0644\\u0650\\u0644\\u0647\\u064f\\u0627\\u0651 \\u0645\\u0646 \\u0623\\u0646\\u0634\\u0637\\u064c\\u0629\\u064d \\u062b\\u0642\\u064d\\u0627\\u0641\\u0652\\u064a\\u0629\\u064f \\u064c\\u0645\\u0651\\u062a\\u064f\\u0646\\u0648\\u064d\\u0639\\u0652\\u0629 \\u064d\\u062a\\u064c\\u0634\\u064b\\u0643\\u0652\\u0644\\u064f \\u064f\\u0623\\u064d\\u0648\\u062c\\u064c \\u0650\\u0627\\u064f\\u0644\\u062d\\u0631\\u064d\\u0627\\u0652\\u0643\\u0651 \\u064f\\u0627\\u064e\\u0644\\u062b\\u0642\\u0627\\u0641\\u064b\\u064a\\u064f\\u060c\\u064d \\u0648\\u0631\\u0627\\u0651\\u0641\\u0652\\u062f\\u0652\\u0627\\u064f\\u064b\\u0651 \\u0623\\u0633\\u0627\\u064d\\u0633\\u064d\\u064a\\u064e\\u0627\\u064c\\u064b \\u0644\\u0644\\u064c\\u062a\\u0641\\u0652\\u0627\\u0639\\u0644\\u0651 \\u0651\\u0648\\u0652\\u0627\\u0644\\u0652\\u062a\\u0646\\u0627\\u0650\\u063a\\u0645 \\u0627\\u0644\\u064b\\u062b\\u0650\\u0642\\u0627\\u064b\\u0641\\u064c\\u064a \\u064d\\u0641\\u064a\\u0651 \\u0625\\u0645\\u0627\\u0631\\u0652\\u0629\\u0652 \\u062a\\u0632\\u064c\\u062f\\u0651\\u0627\\u064c\\u0646 \\u0648\\u062a\\u0652\\u0632\\u062f\\u064d\\u0647\\u0651\\u064a\\u0650 \\u0643\\u0644 \\u064e\\u062d\\u064e\\u064a\\u064e\\u0646 \\u0628\\u0651\\u0644\\u0650\\u0641\\u064f\\u062a\\u064c\\u0629\\u064b \\u0643\\u064d\\u0631\\u064a\\u0645\\u0629\\u0651 \\u0648\\u064d\\u0633\\u064c\\u0627\\u064e\\u0646\\u062d\\u0629 \\u064e\\u0637\\u064a\\u064e\\u0628\\u0629 \\u0645\\u0650\\u0646 \\u0652\\u062d\\u0627\\u064e\\u0643\\u064b\\u0645 \\u0645\\u062b\\u0642\\u0641\\u0652\\u060c \\u064a\\u064e\\u062d\\u064b\\u0645\\u064d\\u0644\\u0652 \\u0639\\u0644\\u0649 \\u0639\\u064d\\u0627\\u064b\\u062a\\u064f\\u0642\\u0647 \\u064b\\u0627\\u064e\\u0644\\u064e\\u0646\\u0651\\u0647\\u064f\\u0648\\u064d\\u0636 \\u064f\\u0628\\u0652\\u0627\\u064c\\u0644\\u062b\\u064d\\u0642\\u064f\\u0627\\u064c\\u0641\\u064b\\u0629\\u064c \\u0648\\u064f\\u0627\\u064c\\u0644\\u064b\\u0645\\u064e\\u0639\\u064b\\u0631\\u0650\\u0641\\u0629 \\u064b.\\u0648\\u062e\\u0651\\u0644\\u0650\\u0635 \\u064f\\u0627\\u0650\\u0644\\u0650\\u0645\\u062d\\u064b\\u0627\\u0636\\u0631 \\u0625\\u064e\\u0644\\u0651\\u0649\\u0652 \\u0623\\u064b\\u0646 \\u064c\\u062b\\u064e\\u0645\\u0629\\u0651 \\u064b\\u062b\\u0644\\u0627\\u064e\\u062b\\u064c \\u0646\\u0642\\u0651\\u0627\\u0637 \\u064e\\u0644\\u064b\\u0644\\u0650\\u0627\\u064b\\u0631\\u064c\\u062a\\u0642\\u0650\\u0627\\u0621\\u064b \\u064e\\u0628\\u064d\\u0627\\u064d\\u0644\\u0641\\u0643\\u0652\\u0631\\u0629 \\u064d\\u0627\\u064d\\u0644\\u062b\\u0642\\u0651\\u0627\\u0641\\u064d\\u064a\\u064d\\u0629\\u0650 \\u0641\\u064e\\u064a\\u064d \\u064f\\u0627\\u0644\\u064c\\u0634\\u064d\\u0627\\u0631\\u0652\\u0642\\u0629 \\u0623\\u064d\\u0648\\u0644\\u0650\\u0647\\u0627 \\u064d\\u062a\\u0652\\u0623\\u064b\\u0633\\u064e\\u064a\\u0633 \\u0650\\u062f\\u0652\\u0627\\u0652\\u0626\\u0650\\u0631\\u0652\\u0629\\u064e \\u064e\\u0627\\u0644\\u062b\\u0642\\u0651\\u0627\\u0641\\u0629 \\u0648\\u064e\\u0627\\u0650\\u0644\\u064e\\u0625\\u0639\\u0650\\u0644\\u0627\\u0645\\u0651\\u060c \\u064c\\u0648\\u0650\\u062b\\u0652\\u0627\\u0646\\u064a\\u0647\\u0651\\u0627\\u064c \\u0627\\u062c\\u062a\\u0651\\u0645\\u064d\\u0627\\u064d\\u0639 \\u064e\\u0635\\u0627\\u062d\\u0650\\u0628\\u0650 \\u0627\\u0651\\u0644\\u0651\\u0633\\u0651\\u0645\\u0648\\u064d \\u0650\\u062d\\u0627\\u064f\\u0643\\u064b\\u0645 \\u0627\\u0644\\u064f\\u0634\\u0652\\u0627\\u064b\\u0631\\u0642\\u064d\\u0629\\u0651 \\u064c\\u0628\\u0643\\u064f\\u0648\\u0650\\u0627\\u062f\\u064c\\u0631 \\u0627\\u0644\\u064b\\u062f\\u064b\\u0627\\u0650\\u0626\\u0631\\u064b\\u0629 \\u064c\\u0648\\u0642\\u0651\\u062f\\u064f\\u0651\\u0645 \\u0641\\u0651\\u064a\\u0647\\u064f \\u0645\\u062c\\u0650\\u0645\\u064b\\u0648\\u064d\\u0639\\u0651\\u0629\\u064d \\u0645\\u064f\\u0646 \\u0652\\u0627\\u064e\\u0644\\u0633\\u064a\\u0651\\u0627\\u0651\\u0633\\u0627\\u062a \\u0651\\u0627\\u0644\\u062b\\u0642\\u064c\\u0627\\u064b\\u0641\\u064a\\u064e\\u0629 \\u0648\\u064c\\u0627\\u0644\\u062e\\u0651\\u0637\\u0637\\u064b \\u0627\\u0644\\u064d\\u062a\\u0646\\u0645\\u064e\\u0648\\u064a\\u0650\\u0629 \\u0651\\u0648\\u062f\\u0652\\u0639\\u0627 \\u064c\\u0633\\u0650\\u0645\\u064b\\u0648\\u064c\\u0647 \\u064c\\u0625\\u0650\\u0644\\u064f\\u0649: \\u0627\\u0644\\u0627\\u0647\\u0651\\u062a\\u064f\\u0645\\u0627\\u064f\\u0645 \\u0628\\u064b\\u0627\\u0650\\u0644\\u064f\\u0645\\u0652\\u0633\\u0631\\u062d\\u060c\\u0652 \\u0648\\u064b\\u0627\\u0651\\u0644\\u0623\\u0637\\u064c\\u0631\\u0650 \\u0627\\u064d\\u0644\\u0651\\u0639\\u0627\\u064b\\u0645\\u0629 \\u064e\\u0644\\u0644\\u0650\\u062b\\u064e\\u0642\\u0627\\u064d\\u0641\\u0629\\u064d\\u060c\\u0651 \\u0651\\u0627\\u064c\\u0644\\u0650\\u0627\\u0631\\u064f\\u062a\\u0642\\u0627\\u064f\\u0621\\u064c \\u0628\\u064d\\u0627\\u0650\\u0644\\u0639\\u0645\\u0651\\u0644\\u064e \\u0627\\u0644\\u0651\\u062a\\u064d\\u0634\\u0643\\u0651\\u064a\\u0644\\u064a\\u0650\\u060c \\u0627\\u0651\\u0644\\u0627\\u064f\\u0647\\u064f\\u062a\\u0645\\u064d\\u0627\\u0645 \\u0650\\u0628\\u0650\\u0627\\u0651\\u0644\\u064b\\u0648\\u0639\\u0651\\u064a \\u064b\\u0648\\u0650\\u0627\\u0652\\u0644\\u064f\\u0630\\u0627\\u0626\\u0650\\u0642\\u0651\\u0629\\u064c \\u0627\\u0651\\u0644\\u062c\\u0650\\u0645\\u064d\\u0627\\u0652\\u0644\\u0652\\u064a\\u0652\\u0629\\u064f\\u060c \\u0627\\u064d\\u0644\\u0650\\u0627\\u0647\\u064f\\u062a\\u0645\\u0627\\u0651\\u0645\\u0652 \\u064f\\u0628\\u064d\\u0627\\u0644\\u0637\\u0641\\u0644\\u0651\\u060c \\u0651\\u062a\\u0637\\u0648\\u064a\\u0631\\u064b \\u0634\\u0628\\u0643\\u0629\\u0652 \\u0627\\u0644\\u0645\\u0643\\u062a\\u064b\\u0628\\u0627\\u062a\\u060c\\u0652 \\u064e\\u0627\\u0633\\u062a\\u0643\\u064f\\u0645\\u064d\\u0627\\u0644\\u064d \\u0639\\u064b\\u0645\\u064b\\u0644\\u0652\\u064a\\u0627\\u062a \\u064c\\u0627\\u0644\\u064f\\u062a\\u0631\\u0645\\u064a\\u0645\\u0650\\u060c \\u064b\\u0627\\u0644\\u064d\\u0627\\u0647\\u064b\\u062a\\u064c\\u0645\\u0652\\u0627\\u0650\\u0645\\u064d \\u0650\\u0628\\u062b\\u064e\\u0642\\u0652\\u0627\\u064b\\u0641\\u064e\\u0629\\u064d \\u0650\\u0627\\u064d\\u0644\\u0645\\u0650\\u0631\\u064b\\u0623\\u064b\\u0629 \\u0650\\u0648\\u064b\\u0627\\u064f\\u0644\\u064d\\u0637\\u0641\\u0652\\u0644 .\\u0652 \\u064c.\\u064d)\\u064f \\u064b\\u0648\\u062b\\u064b\\u0627\\u064d\\u0644\\u0651\\u062b\\u064b\\u0647\\u064e\\u0627\\u064f \\u064b\\u0625\\u0650\\u0639\\u0650\\u0644\\u0651\\u0627\\u064b\\u0646\\u064f \\u0627\\u0644\\u0634\\u0627\\u0631\\u0642\\u0629\\u064f \\u0651\\u0639\\u0627\\u064d\\u0635\\u064e\\u0645\\u0629\\u064c \\u0644\\u0644\\u064b\\u062b\\u0642\\u064b\\u0627\\u0641\\u0629 \\u064b\\u0627\\u0652\\u0644\\u064e\\u0639\\u0651\\u0631\\u0628\\u064a\\u0629\\u064f \\u064b\\u0641\\u064a\\u064b \\u0639\\u0627\\u0645 19\\u06529\\u064d8 \\u064e\\u0644\\u0645\\u0627 \\u062a\\u062a\\u0645\\u064b\\u064a\\u0632\\u064f \\u0628\\u064f\\u0647\\u064e \\u064e\\u0645\\u064b\\u0646\\u064b \\u064b\\u0646\\u064e\\u0634\\u0650\\u0627\\u0637 \\u0651\\u0648\\u064f\\u062d\\u064b\\u0631\\u0627\\u0643\\u064d \\u064f\\u062b\\u0642\\u0627\\u0641\\u064a\\u0650 \\u0645\\u0652\\u0645\\u064c\\u064a\\u0632\\u064d\\u060c\\u064e \\u064b\\u0641\\u0636\\u0644\\u0627\\u064b\\u064e \\u064f\\u0639\\u0650\\u0646 \\u062f\\u0648\\u0631\\u064b \\u064c\\u0627\\u0644\\u064d\\u062c\\u064f\\u0648\\u0627\\u0652\\u0626\\u064f\\u0632\\u0651 \\u0648\\u0635\\u0650\\u0646\\u064f\\u0627\\u062f\\u0651\\u064a\\u064b\\u0642 \\u064f\\u0627\\u064b\\u0644\\u062f\\u064d\\u0639\\u064c\\u0645\\u060c \\u064d\\u0648\\u0627\\u064f\\u0644\\u062f\\u0628\\u0652\\u0644\\u064b\\u0648\\u0645\\u0627\\u0633\\u064d\\u064a\\u0629 \\u064f\\u0627\\u0650\\u0644\\u064b\\u062b\\u0652\\u0642\\u0627\\u0641\\u0651\\u064a\\u0629\\u060c\\u064e \\u0648\\u0639\\u0650\\u062f\\u062f \\u0648\\u0652\\u0646\\u064c\\u0648\\u0639 \\u064b\\u0627\\u064b\\u0644\\u064c\\u062c\\u064b\\u0627\\u0645\\u0639\\u0650\\u0627\\u064c\\u062a \\u0648\\u0627\\u0644\\u064e\\u0645\\u0650\\u0631\\u0627\\u0652\\u0643\\u0632\\u060c \\u064f\\u0648\\u0627\\u064b\\u0644\\u0625\\u064f\\u062d\\u0635\\u064c\\u0627\\u0650\\u0621\\u064e \\u0627\\u0651\\u0644\\u0627\\u064b\\u062c\\u064f\\u062a\\u0645\\u0627\\u0650\\u0639\\u0650\\u064a\\u0651 \\u064b\\u0641\\u0651\\u064a \\u0628\\u0644\\u0648\\u064e\\u0631\\u0629\\u064f \\u064b\\u0648\\u064c\\u062a\\u064b\\u0631\\u0633\\u0652\\u064a\\u062e \\u064c\\u0645\\u064d\\u0643\\u064e\\u0627\\u0646\\u0629 \\u064b\\u0627\\u0644\\u0651\\u0634\\u0627\\u0651\\u0631\\u064e\\u0642\\u0629 \\u064d\\u0639\\u0627\\u0635\\u0645\\u0629\\u064f \\u0651\\u0644\\u064c\\u0644\\u0651\\u062b\\u064d\\u0642\\u0627\\u064d\\u0641\\u0629\\u064e \\u064c\\u0627\\u064c\\u0644\\u0652\\u0639\\u0650\\u0631\\u0628\\u064a\\u064c\\u0629 \\u0650\\u0648\\u0652\\u0627\\u0644\\u0625\\u064d\\u0633\\u0644\\u0627\\u0651\\u0645\\u064a\\u0652\\u0629\\u060c \\u0648\\u0643\\u064f\\u0644 \\u0651\\u0630\\u0652\\u0644\\u064b\\u0643 \\u064b\\u0628\\u062c\\u0647\\u062f \\u0651\\u0635\\u0651\\u0627\\u062d\\u0628\\u064d \\u0650\\u0627\\u0644\\u064d\\u0633\\u064e\\u0645\\u0648\\u0650 \\u064b\\u062d\\u0650\\u0627\\u064c\\u0643\\u064f\\u0645 \\u064d\\u0627\\u0644\\u0634\\u0627\\u0631\\u064c\\u0642\\u0629 \\u0627\\u064e\\u0644\\u0650\\u0630\\u064a\\u064b \\u064e\\u0639\\u0645\\u064f\\u0644 \\u0651\\u0648\\u064d\\u0644\\u0627 \\u064a\\u0632\\u064f\\u0627\\u064e\\u0644 \\u0628\\u0634\\u063a\\u0641\\u0652 \\u0648\\u062d\\u0628\\u064f \\u0639\\u064f\\u0644\\u0649\\u0652 \\u062a\\u064c\\u0639\\u0632\\u064b\\u064a\\u064b\\u0632\\u064e \\u064c\\u0627\\u064f\\u0644\\u064e\\u062a\\u0646\\u064b\\u0645\\u0651\\u064a\\u064d\\u0629\\u064c \\u0627\\u064e\\u0644\\u064b\\u062b\\u0642\\u064e\\u0627\\u064d\\u0641\\u064c\\u064a\\u0629 \\u064e\\u0641\\u0650\\u064a\\u064f \\u0627\\u0652\\u0644\\u064e\\u0634\\u0627\\u0631\\u064e\\u0642\\u064d\\u0629\\u064e \\u0645\\u0646\\u0650 \\u062e\\u064b\\u0644\\u0650\\u0627\\u0650\\u0644\\u0651 \\u0651\\u0633\\u064e\\u0646\\u0651 \\u0648\\u0625\\u0642\\u064b\\u0631\\u0651\\u0627\\u0631 \\u0645\\u062c\\u0645\\u0648\\u064c\\u0639\\u064e\\u0629\\u064e \\u0645\\u064f\\u0646\\u0651 \\u0627\\u064b\\u0644\\u0645\\u064d\\u0634\\u0650\\u0631\\u0648\\u0639\\u064f\\u0627\\u064f\\u062a\\u0652 \\u0627\\u0644\\u0651\\u062b\\u0650\\u0642\\u0627\\u0652\\u0641\\u0650\\u064a\\u0629\\u064c \\u0650\\u0627\\u0644\\u062a\\u064d\\u064a \\u064e\\u062a\\u064c\\u0647\\u064e\\u062f\\u064d\\u0641\\u064e \\u0625\\u064e\\u0644\\u0650\\u0649 \\u0652\\u062a\\u062d\\u0642\\u064a\\u0642 \\u0630\\u0644\\u0643\\u064d\\u060c\\u064b \\u0650\\u062d\\u062a\\u0650\\u0649 \\u0652\\u0623\\u064e\\u0635\\u0628\\u062d\\u062a\\u0651 \\u064c\\u0627\\u064e\\u0644\\u0634\\u0627\\u064c\\u0631\\u064c\\u0642\\u064b\\u0629\\u0652 \\u0627\\u0644\\u0651\\u064a\\u0648\\u064c\\u0645 \\u0651\\u0648\\u064f\\u062c\\u0647\\u064b\\u0629\\u064e \\u064a\\u0624\\u064f\\u0645\\u064e\\u0647\\u064c\\u0627 \\u0652\\u0627\\u0644\\u064e\\u0645\\u0641\\u064e\\u0643\\u0631\\u0651\\u0648\\u0651\\u0646 \\u0648\\u0650\\u0627\\u0644\\u0645\\u0651\\u062b\\u0642\\u0650\\u0641\\u0651\\u0648\\u0646 \\u0648\\u0627\\u0644\\u0645\\u064f\\u0628\\u064c\\u062f\\u0639\\u064c\\u0648\\u0650\\u0646 \\u0652\\u0648\\u0652\\u0627\\u0651\\u0644\\u064c\\u0643\\u062a\\u064c\\u0627\\u0628\\u0650 \\u064c\\u0645\\u0650\\u0646\\u064f \\u0634\\u062a\\u0650\\u0649\\u064e \\u0623\\u064f\\u0646\\u064d\\u062d\\u0627\\u0621 \\u0627\\u064d\\u0644\\u0652\\u0639\\u0627\\u0644\\u064f\\u0645\\u060c\\u0650 \\u064e\\u0634\\u064b\\u0627\\u0652\\u0645\\u062e\\u0651\\u0629\\u064e \\u0631\\u0627\\u0633\\u062e\\u064b\\u0629 \\u064c\\u0628\\u064c\\u0639\\u0651\\u0637\\u064c\\u0627\\u0626\\u064f\\u0647\\u0650\\u0627 \\u064e\\u0648\\u062a\\u064b\\u0642\\u0650\\u062f\\u0645\\u0647\\u064d\\u0627 \\u0650.\\u064f\"\n        ],\n        \"semantic_type\": \"\",\n        \"description\": \"\"\n      }\n    },\n    {\n      \"column\": \"label\",\n      \"properties\": {\n        \"dtype\": \"category\",\n        \"num_unique_values\": 7,\n        \"samples\": [\n          \"Culture\",\n          \"Finance\",\n          \"Sports\"\n        ],\n        \"semantic_type\": \"\",\n        \"description\": \"\"\n      }\n    }\n  ]\n}"
            }
          },
          "metadata": {},
          "execution_count": 11
        }
      ],
      "source": [
        "df.head()"
      ]
    },
    {
      "cell_type": "code",
      "execution_count": 12,
      "metadata": {
        "colab": {
          "base_uri": "https://localhost:8080/",
          "height": 147
        },
        "id": "IqOOnGi4CPvk",
        "outputId": "e0d4336e-bfe6-49fc-927a-daf2f82a38b7"
      },
      "outputs": [
        {
          "output_type": "execute_result",
          "data": {
            "text/plain": [
              "text     object\n",
              "label    object\n",
              "dtype: object"
            ],
            "text/html": [
              "<div>\n",
              "<style scoped>\n",
              "    .dataframe tbody tr th:only-of-type {\n",
              "        vertical-align: middle;\n",
              "    }\n",
              "\n",
              "    .dataframe tbody tr th {\n",
              "        vertical-align: top;\n",
              "    }\n",
              "\n",
              "    .dataframe thead th {\n",
              "        text-align: right;\n",
              "    }\n",
              "</style>\n",
              "<table border=\"1\" class=\"dataframe\">\n",
              "  <thead>\n",
              "    <tr style=\"text-align: right;\">\n",
              "      <th></th>\n",
              "      <th>0</th>\n",
              "    </tr>\n",
              "  </thead>\n",
              "  <tbody>\n",
              "    <tr>\n",
              "      <th>text</th>\n",
              "      <td>object</td>\n",
              "    </tr>\n",
              "    <tr>\n",
              "      <th>label</th>\n",
              "      <td>object</td>\n",
              "    </tr>\n",
              "  </tbody>\n",
              "</table>\n",
              "</div><br><label><b>dtype:</b> object</label>"
            ]
          },
          "metadata": {},
          "execution_count": 12
        }
      ],
      "source": [
        "df.dtypes"
      ]
    },
    {
      "cell_type": "code",
      "execution_count": 13,
      "metadata": {
        "colab": {
          "base_uri": "https://localhost:8080/",
          "height": 424
        },
        "id": "yHU4NoiYCXJ_",
        "outputId": "f004345b-0945-4f1d-bdc5-d19b3587136a"
      },
      "outputs": [
        {
          "output_type": "execute_result",
          "data": {
            "text/plain": [
              "                                                    text    label\n",
              "0      https://example.com/resource/الشاٌرقة -ْ محمِد...  Culture\n",
              "1      https://example.com/resource/اَنِطٌلقّتَ ٍفٍيّ...  Culture\n",
              "2      https://example.com/resource/أُقيًمٌتِ مِساءُ ...  Culture\n",
              "3      https://example.com/resource/بٍاسُمةَ يًوٌنٍس ...  Culture\n",
              "4      https://example.com/resource/قُرر اَتحِاد اًلْ...  Culture\n",
              "...                                                  ...      ...\n",
              "39880  https://example.com/resource/أعلّنت شّركٌةً بّ...     Tech\n",
              "39881  https://example.com/resource/بُتٍاَرٌيًخَ 28ْ ...     Tech\n",
              "39882  https://example.com/resource/دبَيُ:َ «ُاَلخليج...     Tech\n",
              "39883  https://example.com/resource/LٌG GًS2ْ9ً0 Coْo...     Tech\n",
              "39884  https://example.com/resource/تنطًلقٍ اٌليومّ َ...     Tech\n",
              "\n",
              "[39885 rows x 2 columns]"
            ],
            "text/html": [
              "\n",
              "  <div id=\"df-38de7a13-416c-4d33-bf89-6bd5a592b969\" class=\"colab-df-container\">\n",
              "    <div>\n",
              "<style scoped>\n",
              "    .dataframe tbody tr th:only-of-type {\n",
              "        vertical-align: middle;\n",
              "    }\n",
              "\n",
              "    .dataframe tbody tr th {\n",
              "        vertical-align: top;\n",
              "    }\n",
              "\n",
              "    .dataframe thead th {\n",
              "        text-align: right;\n",
              "    }\n",
              "</style>\n",
              "<table border=\"1\" class=\"dataframe\">\n",
              "  <thead>\n",
              "    <tr style=\"text-align: right;\">\n",
              "      <th></th>\n",
              "      <th>text</th>\n",
              "      <th>label</th>\n",
              "    </tr>\n",
              "  </thead>\n",
              "  <tbody>\n",
              "    <tr>\n",
              "      <th>0</th>\n",
              "      <td>https://example.com/resource/الشاٌرقة -ْ محمِد...</td>\n",
              "      <td>Culture</td>\n",
              "    </tr>\n",
              "    <tr>\n",
              "      <th>1</th>\n",
              "      <td>https://example.com/resource/اَنِطٌلقّتَ ٍفٍيّ...</td>\n",
              "      <td>Culture</td>\n",
              "    </tr>\n",
              "    <tr>\n",
              "      <th>2</th>\n",
              "      <td>https://example.com/resource/أُقيًمٌتِ مِساءُ ...</td>\n",
              "      <td>Culture</td>\n",
              "    </tr>\n",
              "    <tr>\n",
              "      <th>3</th>\n",
              "      <td>https://example.com/resource/بٍاسُمةَ يًوٌنٍس ...</td>\n",
              "      <td>Culture</td>\n",
              "    </tr>\n",
              "    <tr>\n",
              "      <th>4</th>\n",
              "      <td>https://example.com/resource/قُرر اَتحِاد اًلْ...</td>\n",
              "      <td>Culture</td>\n",
              "    </tr>\n",
              "    <tr>\n",
              "      <th>...</th>\n",
              "      <td>...</td>\n",
              "      <td>...</td>\n",
              "    </tr>\n",
              "    <tr>\n",
              "      <th>39880</th>\n",
              "      <td>https://example.com/resource/أعلّنت شّركٌةً بّ...</td>\n",
              "      <td>Tech</td>\n",
              "    </tr>\n",
              "    <tr>\n",
              "      <th>39881</th>\n",
              "      <td>https://example.com/resource/بُتٍاَرٌيًخَ 28ْ ...</td>\n",
              "      <td>Tech</td>\n",
              "    </tr>\n",
              "    <tr>\n",
              "      <th>39882</th>\n",
              "      <td>https://example.com/resource/دبَيُ:َ «ُاَلخليج...</td>\n",
              "      <td>Tech</td>\n",
              "    </tr>\n",
              "    <tr>\n",
              "      <th>39883</th>\n",
              "      <td>https://example.com/resource/LٌG GًS2ْ9ً0 Coْo...</td>\n",
              "      <td>Tech</td>\n",
              "    </tr>\n",
              "    <tr>\n",
              "      <th>39884</th>\n",
              "      <td>https://example.com/resource/تنطًلقٍ اٌليومّ َ...</td>\n",
              "      <td>Tech</td>\n",
              "    </tr>\n",
              "  </tbody>\n",
              "</table>\n",
              "<p>39885 rows × 2 columns</p>\n",
              "</div>\n",
              "    <div class=\"colab-df-buttons\">\n",
              "\n",
              "  <div class=\"colab-df-container\">\n",
              "    <button class=\"colab-df-convert\" onclick=\"convertToInteractive('df-38de7a13-416c-4d33-bf89-6bd5a592b969')\"\n",
              "            title=\"Convert this dataframe to an interactive table.\"\n",
              "            style=\"display:none;\">\n",
              "\n",
              "  <svg xmlns=\"http://www.w3.org/2000/svg\" height=\"24px\" viewBox=\"0 -960 960 960\">\n",
              "    <path d=\"M120-120v-720h720v720H120Zm60-500h600v-160H180v160Zm220 220h160v-160H400v160Zm0 220h160v-160H400v160ZM180-400h160v-160H180v160Zm440 0h160v-160H620v160ZM180-180h160v-160H180v160Zm440 0h160v-160H620v160Z\"/>\n",
              "  </svg>\n",
              "    </button>\n",
              "\n",
              "  <style>\n",
              "    .colab-df-container {\n",
              "      display:flex;\n",
              "      gap: 12px;\n",
              "    }\n",
              "\n",
              "    .colab-df-convert {\n",
              "      background-color: #E8F0FE;\n",
              "      border: none;\n",
              "      border-radius: 50%;\n",
              "      cursor: pointer;\n",
              "      display: none;\n",
              "      fill: #1967D2;\n",
              "      height: 32px;\n",
              "      padding: 0 0 0 0;\n",
              "      width: 32px;\n",
              "    }\n",
              "\n",
              "    .colab-df-convert:hover {\n",
              "      background-color: #E2EBFA;\n",
              "      box-shadow: 0px 1px 2px rgba(60, 64, 67, 0.3), 0px 1px 3px 1px rgba(60, 64, 67, 0.15);\n",
              "      fill: #174EA6;\n",
              "    }\n",
              "\n",
              "    .colab-df-buttons div {\n",
              "      margin-bottom: 4px;\n",
              "    }\n",
              "\n",
              "    [theme=dark] .colab-df-convert {\n",
              "      background-color: #3B4455;\n",
              "      fill: #D2E3FC;\n",
              "    }\n",
              "\n",
              "    [theme=dark] .colab-df-convert:hover {\n",
              "      background-color: #434B5C;\n",
              "      box-shadow: 0px 1px 3px 1px rgba(0, 0, 0, 0.15);\n",
              "      filter: drop-shadow(0px 1px 2px rgba(0, 0, 0, 0.3));\n",
              "      fill: #FFFFFF;\n",
              "    }\n",
              "  </style>\n",
              "\n",
              "    <script>\n",
              "      const buttonEl =\n",
              "        document.querySelector('#df-38de7a13-416c-4d33-bf89-6bd5a592b969 button.colab-df-convert');\n",
              "      buttonEl.style.display =\n",
              "        google.colab.kernel.accessAllowed ? 'block' : 'none';\n",
              "\n",
              "      async function convertToInteractive(key) {\n",
              "        const element = document.querySelector('#df-38de7a13-416c-4d33-bf89-6bd5a592b969');\n",
              "        const dataTable =\n",
              "          await google.colab.kernel.invokeFunction('convertToInteractive',\n",
              "                                                    [key], {});\n",
              "        if (!dataTable) return;\n",
              "\n",
              "        const docLinkHtml = 'Like what you see? Visit the ' +\n",
              "          '<a target=\"_blank\" href=https://colab.research.google.com/notebooks/data_table.ipynb>data table notebook</a>'\n",
              "          + ' to learn more about interactive tables.';\n",
              "        element.innerHTML = '';\n",
              "        dataTable['output_type'] = 'display_data';\n",
              "        await google.colab.output.renderOutput(dataTable, element);\n",
              "        const docLink = document.createElement('div');\n",
              "        docLink.innerHTML = docLinkHtml;\n",
              "        element.appendChild(docLink);\n",
              "      }\n",
              "    </script>\n",
              "  </div>\n",
              "\n",
              "\n",
              "<div id=\"df-493c17cb-80a5-4020-ba62-4abed4b74371\">\n",
              "  <button class=\"colab-df-quickchart\" onclick=\"quickchart('df-493c17cb-80a5-4020-ba62-4abed4b74371')\"\n",
              "            title=\"Suggest charts\"\n",
              "            style=\"display:none;\">\n",
              "\n",
              "<svg xmlns=\"http://www.w3.org/2000/svg\" height=\"24px\"viewBox=\"0 0 24 24\"\n",
              "     width=\"24px\">\n",
              "    <g>\n",
              "        <path d=\"M19 3H5c-1.1 0-2 .9-2 2v14c0 1.1.9 2 2 2h14c1.1 0 2-.9 2-2V5c0-1.1-.9-2-2-2zM9 17H7v-7h2v7zm4 0h-2V7h2v10zm4 0h-2v-4h2v4z\"/>\n",
              "    </g>\n",
              "</svg>\n",
              "  </button>\n",
              "\n",
              "<style>\n",
              "  .colab-df-quickchart {\n",
              "      --bg-color: #E8F0FE;\n",
              "      --fill-color: #1967D2;\n",
              "      --hover-bg-color: #E2EBFA;\n",
              "      --hover-fill-color: #174EA6;\n",
              "      --disabled-fill-color: #AAA;\n",
              "      --disabled-bg-color: #DDD;\n",
              "  }\n",
              "\n",
              "  [theme=dark] .colab-df-quickchart {\n",
              "      --bg-color: #3B4455;\n",
              "      --fill-color: #D2E3FC;\n",
              "      --hover-bg-color: #434B5C;\n",
              "      --hover-fill-color: #FFFFFF;\n",
              "      --disabled-bg-color: #3B4455;\n",
              "      --disabled-fill-color: #666;\n",
              "  }\n",
              "\n",
              "  .colab-df-quickchart {\n",
              "    background-color: var(--bg-color);\n",
              "    border: none;\n",
              "    border-radius: 50%;\n",
              "    cursor: pointer;\n",
              "    display: none;\n",
              "    fill: var(--fill-color);\n",
              "    height: 32px;\n",
              "    padding: 0;\n",
              "    width: 32px;\n",
              "  }\n",
              "\n",
              "  .colab-df-quickchart:hover {\n",
              "    background-color: var(--hover-bg-color);\n",
              "    box-shadow: 0 1px 2px rgba(60, 64, 67, 0.3), 0 1px 3px 1px rgba(60, 64, 67, 0.15);\n",
              "    fill: var(--button-hover-fill-color);\n",
              "  }\n",
              "\n",
              "  .colab-df-quickchart-complete:disabled,\n",
              "  .colab-df-quickchart-complete:disabled:hover {\n",
              "    background-color: var(--disabled-bg-color);\n",
              "    fill: var(--disabled-fill-color);\n",
              "    box-shadow: none;\n",
              "  }\n",
              "\n",
              "  .colab-df-spinner {\n",
              "    border: 2px solid var(--fill-color);\n",
              "    border-color: transparent;\n",
              "    border-bottom-color: var(--fill-color);\n",
              "    animation:\n",
              "      spin 1s steps(1) infinite;\n",
              "  }\n",
              "\n",
              "  @keyframes spin {\n",
              "    0% {\n",
              "      border-color: transparent;\n",
              "      border-bottom-color: var(--fill-color);\n",
              "      border-left-color: var(--fill-color);\n",
              "    }\n",
              "    20% {\n",
              "      border-color: transparent;\n",
              "      border-left-color: var(--fill-color);\n",
              "      border-top-color: var(--fill-color);\n",
              "    }\n",
              "    30% {\n",
              "      border-color: transparent;\n",
              "      border-left-color: var(--fill-color);\n",
              "      border-top-color: var(--fill-color);\n",
              "      border-right-color: var(--fill-color);\n",
              "    }\n",
              "    40% {\n",
              "      border-color: transparent;\n",
              "      border-right-color: var(--fill-color);\n",
              "      border-top-color: var(--fill-color);\n",
              "    }\n",
              "    60% {\n",
              "      border-color: transparent;\n",
              "      border-right-color: var(--fill-color);\n",
              "    }\n",
              "    80% {\n",
              "      border-color: transparent;\n",
              "      border-right-color: var(--fill-color);\n",
              "      border-bottom-color: var(--fill-color);\n",
              "    }\n",
              "    90% {\n",
              "      border-color: transparent;\n",
              "      border-bottom-color: var(--fill-color);\n",
              "    }\n",
              "  }\n",
              "</style>\n",
              "\n",
              "  <script>\n",
              "    async function quickchart(key) {\n",
              "      const quickchartButtonEl =\n",
              "        document.querySelector('#' + key + ' button');\n",
              "      quickchartButtonEl.disabled = true;  // To prevent multiple clicks.\n",
              "      quickchartButtonEl.classList.add('colab-df-spinner');\n",
              "      try {\n",
              "        const charts = await google.colab.kernel.invokeFunction(\n",
              "            'suggestCharts', [key], {});\n",
              "      } catch (error) {\n",
              "        console.error('Error during call to suggestCharts:', error);\n",
              "      }\n",
              "      quickchartButtonEl.classList.remove('colab-df-spinner');\n",
              "      quickchartButtonEl.classList.add('colab-df-quickchart-complete');\n",
              "    }\n",
              "    (() => {\n",
              "      let quickchartButtonEl =\n",
              "        document.querySelector('#df-493c17cb-80a5-4020-ba62-4abed4b74371 button');\n",
              "      quickchartButtonEl.style.display =\n",
              "        google.colab.kernel.accessAllowed ? 'block' : 'none';\n",
              "    })();\n",
              "  </script>\n",
              "</div>\n",
              "\n",
              "  <div id=\"id_169e9c61-f6dd-41e9-8343-2a90b88aae2a\">\n",
              "    <style>\n",
              "      .colab-df-generate {\n",
              "        background-color: #E8F0FE;\n",
              "        border: none;\n",
              "        border-radius: 50%;\n",
              "        cursor: pointer;\n",
              "        display: none;\n",
              "        fill: #1967D2;\n",
              "        height: 32px;\n",
              "        padding: 0 0 0 0;\n",
              "        width: 32px;\n",
              "      }\n",
              "\n",
              "      .colab-df-generate:hover {\n",
              "        background-color: #E2EBFA;\n",
              "        box-shadow: 0px 1px 2px rgba(60, 64, 67, 0.3), 0px 1px 3px 1px rgba(60, 64, 67, 0.15);\n",
              "        fill: #174EA6;\n",
              "      }\n",
              "\n",
              "      [theme=dark] .colab-df-generate {\n",
              "        background-color: #3B4455;\n",
              "        fill: #D2E3FC;\n",
              "      }\n",
              "\n",
              "      [theme=dark] .colab-df-generate:hover {\n",
              "        background-color: #434B5C;\n",
              "        box-shadow: 0px 1px 3px 1px rgba(0, 0, 0, 0.15);\n",
              "        filter: drop-shadow(0px 1px 2px rgba(0, 0, 0, 0.3));\n",
              "        fill: #FFFFFF;\n",
              "      }\n",
              "    </style>\n",
              "    <button class=\"colab-df-generate\" onclick=\"generateWithVariable('df')\"\n",
              "            title=\"Generate code using this dataframe.\"\n",
              "            style=\"display:none;\">\n",
              "\n",
              "  <svg xmlns=\"http://www.w3.org/2000/svg\" height=\"24px\"viewBox=\"0 0 24 24\"\n",
              "       width=\"24px\">\n",
              "    <path d=\"M7,19H8.4L18.45,9,17,7.55,7,17.6ZM5,21V16.75L18.45,3.32a2,2,0,0,1,2.83,0l1.4,1.43a1.91,1.91,0,0,1,.58,1.4,1.91,1.91,0,0,1-.58,1.4L9.25,21ZM18.45,9,17,7.55Zm-12,3A5.31,5.31,0,0,0,4.9,8.1,5.31,5.31,0,0,0,1,6.5,5.31,5.31,0,0,0,4.9,4.9,5.31,5.31,0,0,0,6.5,1,5.31,5.31,0,0,0,8.1,4.9,5.31,5.31,0,0,0,12,6.5,5.46,5.46,0,0,0,6.5,12Z\"/>\n",
              "  </svg>\n",
              "    </button>\n",
              "    <script>\n",
              "      (() => {\n",
              "      const buttonEl =\n",
              "        document.querySelector('#id_169e9c61-f6dd-41e9-8343-2a90b88aae2a button.colab-df-generate');\n",
              "      buttonEl.style.display =\n",
              "        google.colab.kernel.accessAllowed ? 'block' : 'none';\n",
              "\n",
              "      buttonEl.onclick = () => {\n",
              "        google.colab.notebook.generateWithVariable('df');\n",
              "      }\n",
              "      })();\n",
              "    </script>\n",
              "  </div>\n",
              "\n",
              "    </div>\n",
              "  </div>\n"
            ],
            "application/vnd.google.colaboratory.intrinsic+json": {
              "type": "dataframe",
              "variable_name": "df",
              "summary": "{\n  \"name\": \"df\",\n  \"rows\": 39885,\n  \"fields\": [\n    {\n      \"column\": \"text\",\n      \"properties\": {\n        \"dtype\": \"string\",\n        \"num_unique_values\": 39885,\n        \"samples\": [\n          \"https://example.com/resource/\\u0628\\u0652\\u0644\\u0650\\u063a\\u062a \\u064e\\u062a\\u0633\\u064e\\u064a\\u064a\\u0644\\u0651\\u0627\\u064b\\u062a\\u064d \\u0627\\u0652\\u0644\\u0623\\u0652\\u062c\\u064e\\u0627\\u0646\\u0651\\u0628\\u064e \\u064e\\u0641\\u064a \\u0633\\u064d\\u0648\\u0652\\u0642\\u0650 \\u064e\\u062f\\u0628\\u064a \\u0627\\u0644\\u0645\\u064d\\u0627\\u0650\\u0644\\u064d\\u064a\\u064d \\u0623\\u0645\\u064d\\u0633\\u064e 59\\u064f \\u0645\\u0644\\u064d\\u064a\\u0648\\u0646\\u0627\\u0650\\u064b\\u0652\\u060c \\u0651\\u0641\\u0651\\u0642\\u062f \\u0650\\u0628\\u0652\\u0644\\u064b\\u063a\\u062a \\u064b\\u0642\\u0651\\u064a\\u064f\\u0645\\u0651\\u0629\\u0651 \\u0645\\u064f\\u0634\\u064b\\u062a\\u064f\\u0631\\u0650\\u064a\\u0627\\u062a \\u064e\\u0627\\u0644\\u0652\\u0623\\u062c\\u0627\\u064d\\u0646\\u064d\\u0628\\u064b\\u060c\\u064b \\u063a\\u0652\\u064a\\u0651\\u0631\\u064d \\u0627\\u0652\\u0644\\u0639\\u0631\\u064c\\u0628\\u060c\\u064f \\u0645\\u0650\\u0646\\u0651 \\u064c\\u0627\\u0644\\u0623\\u0633\\u064c\\u0647\\u064d\\u0645 \\u064c\\u062e\\u064f\\u0644\\u0627\\u064c\\u0644\\u064f \\u0647\\u0650\\u0630\\u064e\\u0627 \\u0627\\u064c\\u0644\\u064a\\u0648\\u0650\\u0645 \\u064d\\u0646\\u064b\\u062d\\u064c\\u0648 9\\u064b4\\u064d \\u064e.\\u065113\\u06526 \\u0645\\u0644\\u0652\\u064a\\u064c\\u0648\\u064b\\u0646\\u064c \\u062f\\u0631\\u0647\\u0645 \\u0641\\u064a\\u0651 \\u0652\\u062d\\u0652\\u064a\\u064f\\u0646\\u0651 \\u0628\\u0644\\u063a\\u064e\\u062a\\u064d \\u064b\\u0642\\u064c\\u064a\\u0645\\u0629\\u064c \\u064b\\u0645\\u064b\\u0628\\u064a\\u0639\\u0627\\u062a\\u0647\\u0645\\u064e \\u0646\\u064b\\u062d\\u0648\\u0652 2\\u06500 .22\\u064b6 \\u0650\\u0645\\u064b\\u0644\\u064a\\u0651\\u0648\\u0646 \\u0652\\u062f\\u0631\\u0650\\u0647\\u0645\\u064f .\\u064f \\u0643\\u0645\\u0627 \\u0650\\u0628\\u0644\\u064e\\u063a\\u064b\\u062a \\u0642\\u0652\\u064a\\u0645\\u0629\\u0650 \\u0645\\u064d\\u0634\\u064b\\u062a\\u064c\\u0631\\u0652\\u064a\\u0627\\u062a \\u064b\\u0627\\u0644\\u0645\\u0633\\u064d\\u062a\\u062b\\u064f\\u0645\\u064b\\u0631\\u064b\\u064a\\u064b\\u0646\\u064b \\u0627\\u0644\\u0652\\u0639\\u0650\\u0631\\u0650\\u0628\\u060c\\u064b \\u064f\\u063a\\u064a\\u0631 \\u0651\\u0627\\u0644\\u0652\\u062e\\u0644\\u064d\\u064a\\u064f\\u062c\\u064d\\u064a\\u064a\\u0651\\u0646\\u0650\\u060c\\u0651 \\u062e\\u0644\\u0627\\u0644 \\u0647\\u0650\\u0630\\u0627 \\u0650\\u0627\\u0644\\u0652\\u064a\\u064b\\u0648\\u0645 \\u0646\\u064f\\u062d\\u064d\\u0648\\u064f 07\\u064e .7\\u064c2\\u0650 \\u0645\\u0644\\u064e\\u064a\\u064c\\u0648\\u0646\\u0652 \\u0652\\u062f\\u0631\\u0647\\u064e\\u0645 \\u064d\\u0648\\u0642\\u064b\\u064a\\u0645\\u064c\\u0629\\u064c \\u0645\\u0652\\u0628\\u064e\\u064a\\u064f\\u0639\\u064e\\u0627\\u064b\\u062a\\u0651\\u0647\\u0645 \\u0646\\u062d\\u0648\\u064c \\u065281\\u064b \\u0650.6\\u06504\\u064e \\u064e\\u0645\\u0644\\u064f\\u064a\\u064c\\u0648\\u0646\\u0651 \\u062f\\u064b\\u0631\\u0647\\u064e\\u0645\\u064e .\\u0623\\u064b\\u0645\\u0651\\u0627\\u0652 \\u0652\\u0628\\u0651\\u0627\\u064c\\u0644\\u064e\\u0646\\u064f\\u0633\\u064d\\u0628\\u0629\\u064e \\u064c\\u0644\\u0644\\u0651\\u0645\\u064d\\u0633\\u064c\\u062a\\u064b\\u062b\\u0652\\u0645\\u0631\\u064b\\u064a\\u0646 \\u0652\\u0627\\u0644\\u062e\\u064c\\u0644\\u064a\\u064e\\u062c\\u064a\\u0650\\u064a\\u0646\\u064c \\u064f\\u0641\\u064b\\u0642\\u062f \\u0628\\u0644\\u064b\\u063a\\u0652\\u062a \\u0642\\u064a\\u0645\\u0629 \\u0645\\u0634\\u0652\\u062a\\u064e\\u0631\\u064c\\u064a\\u064f\\u0627\\u064e\\u062a\\u0647\\u0645\\u064b \\u064b9\\u064b1\\u064f \\u0651.4\\u064d3\\u064d \\u0645\\u0650\\u0644\\u064a\\u0648\\u064c\\u0646 \\u064c\\u062f\\u0631\\u0647\\u0645 \\u0641\\u064a\\u064f \\u062d\\u064a\\u0651\\u0646\\u064b \\u064e\\u0628\\u0644\\u064b\\u063a\\u064c\\u062a \\u064b\\u0642\\u064c\\u064a\\u0645\\u064d\\u0629\\u0651 \\u0645\\u0652\\u0628\\u0651\\u064a\\u0652\\u0639\\u0652\\u0627\\u064c\\u062a\\u064c\\u0647\\u0645\\u0652 \\u064f\\u0646\\u064e\\u062d\\u0650\\u0648 4\\u064f8 \\u064f.21\\u064c \\u0645\\u0644\\u064a\\u0648\\u064f\\u0646 \\u064e\\u062f\\u064e\\u0631\\u064d\\u0647\\u064e\\u0645 \\u064e\\u062e\\u0644\\u064c\\u0627\\u0644 \\u0650\\u0646\\u064c\\u0641\\u0633 \\u064f\\u0627\\u0652\\u0644\\u0651\\u0641\\u062a\\u0631\\u0652\\u0629\\u064c .\",\n          \"https://example.com/resource/\\u062f\\u0628\\u0650\\u064a\\u0650 - \\u0625\\u0650\\u0628\\u064d\\u0631\\u0650\\u0627\\u0647\\u064f\\u064a\\u064c\\u0645\\u0652 \\u0651\\u0627\\u0644\\u064f\\u064a\\u064b\\u0648\\u0633\\u0651\\u0641:\\u064e\\u0628\\u064d\\u062d\\u0636\\u0648\\u0652\\u0631\\u0650 \\u0645\\u064e\\u062d\\u064d\\u0645\\u062f\\u064e \\u0627\\u064d\\u0644\\u0645\\u0652\\u0631\\u060c \\u0631\\u0626\\u064a\\u0633\\u0651 \\u0627\\u0644\\u0645\\u064c\\u062c\\u064c\\u0644\\u064b\\u0633 \\u0627\\u064c\\u0644\\u0648\\u064d\\u0637\\u064b\\u0646\\u064f\\u064a\\u064d \\u0627\\u0644\\u064e\\u0627\\u062a\\u064b\\u062d\\u0652\\u0627\\u062f\\u064a\\u0650\\u060c\\u064e \\u0648\\u0650\\u0627\\u0651\\u0644\\u064c\\u0642\\u0646\\u0652\\u0635\\u0644 \\u0627\\u0644\\u0639\\u0627\\u0652\\u0645\\u0650 \\u064b\\u0627\\u064d\\u0644\\u0651\\u0643\\u0651\\u0648\\u064a\\u0651\\u062a\\u064e\\u064a\\u064c\\u060c \\u0630\\u064d\\u064a\\u064c\\u0627\\u0628\\u0651 \\u0651\\u0641\\u0631\\u062d\\u0627\\u064e\\u0646 \\u064c\\u0627\\u0652\\u0644\\u0631\\u0634\\u064a\\u0652\\u062f\\u064a\\u0651\\u060c \\u064b\\u0648\\u0633\\u064e\\u0644\\u0651\\u0637\\u0627\\u064b\\u0646\\u064d \\u0627\\u064c\\u0644\\u0652\\u0633\\u0648\\u064f\\u064a\\u062f\\u064d\\u064a \\u064d\\u0631\\u0652\\u0626\\u064a\\u064b\\u0633\\u0652 \\u0645\\u062c\\u064b\\u0644\\u064d\\u0633\\u0650 \\u0625\\u062f\\u0631\\u064d\\u0627\\u0629 \\u0646\\u064b\\u062f\\u0648\\u064e\\u0629\\u064b \\u0627\\u064b\\u0644\\u064c\\u062b\\u0642\\u0627\\u064d\\u0641\\u0629\\u064e \\u064e\\u0648\\u0627\\u064e\\u0644\\u0639\\u0644\\u0648\\u0645\\u060c \\u0648\\u0623\\u0639\\u0652\\u0636\\u0652\\u0627\\u0621 \\u0650\\u0645\\u064d\\u062c\\u064d\\u0644\\u064b\\u0633\\u0650 \\u0627\\u0644\\u0625\\u0651\\u062f\\u0652\\u0627\\u0631\\u064e\\u0629\\u064d\\u060c \\u0625\\u0652\\u0636\\u0627\\u0650\\u0641\\u0629\\u064d \\u0625\\u0644\\u0650\\u0649\\u064f \\u0637\\u0650\\u064a\\u064f\\u0641\\u064b \\u0648\\u0627\\u0633\\u064f\\u0639 \\u0650\\u0648\\u064d\\u0644\\u0627\\u0641\\u0652\\u062a \\u0645\\u0646\\u0651 \\u064d\\u0627\\u0644\\u064e\\u0643\\u0651\\u062a\\u0651\\u064c\\u0627\\u0651\\u0628\\u0650 \\u0648\\u064d\\u0627\\u064b\\u0644\\u0645\\u062b\\u064e\\u0642\\u0641\\u064b\\u064a\\u0646 \\u0648\\u0650\\u0627\\u0644\\u0625\\u0639\\u064e\\u0644\\u0627\\u0645\\u064a\\u064a\\u064d\\u0646 \\u0645\\u064c\\u0646\\u064d \\u0627\\u064e\\u0644\\u0650\\u0628\\u064d\\u0644\\u062f\\u064a\\u0646 . \\u0634\\u0647\\u062f\\u062a\\u064f \\u064e\\u0627\\u064d\\u0644\\u0652\\u0646\\u0650\\u062f\\u0648\\u064c\\u0629\\u064f\\u060c\\u064d \\u0645\\u064c\\u0633\\u0627\\u0621 \\u0650\\u0623\\u0645\\u0633\\u064b \\u0651\\u0627\\u064b\\u0644\\u0652\\u0623\\u064e\\u0648\\u064e\\u0644\\u060c\\u064b \\u0650\\u0627\\u0652\\u062e\\u062a\\u064e\\u062a\\u0652\\u0627\\u0645\\u0651 \\u0641\\u0639\\u0627\\u064e\\u0644\\u064a\\u0627\\u062a\\u064b \\u064e\\u0645\\u0647\\u0650\\u0631\\u064b\\u062c\\u0650\\u0627\\u0646\\u064f \\u064d\\\"\\u064c\\u0643\\u0648\\u0650\\u064a\\u062a\\u064e \\u0627\\u0644\\u0633\\u0644\\u0627\\u064e\\u0645 - \\u0625\\u064b\\u0645\\u0652\\u0627\\u0631\\u064f\\u0627\\u062a \\u064c\\u0627\\u064f\\u0644\\u0650\\u0648\\u064d\\u0641\\u0627\\u0621\\u0650\\\"\\u060c\\u064e \\u0628\\u064c\\u0631\\u0639\\u064d\\u0627\\u064a\\u064d\\u0629 \\u0648\\u064f\\u062a\\u0646\\u0638\\u064a\\u064f\\u0645 \\u0647\\u064a\\u0626\\u0629 \\u062f\\u064b\\u0628\\u064a\\u0652 \\u0644\\u0644\\u064b\\u062b\\u064d\\u0642\\u0627\\u0641\\u0651\\u0629 \\u0648\\u0627\\u0644\\u0652\\u0641\\u0646\\u0648\\u0646 \\u0628\\u0627\\u064c\\u0644\\u062a\\u0639\\u0627\\u0648\\u064d\\u0646 \\u064f\\u0645\\u0650\\u0639\\u064b \\u064c\\u0627\\u0644\\u0642\\u0652\\u0646\\u0635\\u0652\\u0644\\u064b\\u064a\\u064c\\u0629 \\u064c\\u0627\\u0651\\u0644\\u064b\\u0639\\u0627\\u064c\\u0645\\u0629\\u064d \\u0644\\u0650\\u062f\\u0652\\u0648\\u064b\\u0644\\u064b\\u0629\\u064c \\u0652\\u0627\\u0651\\u0644\\u0643\\u0648\\u064a\\u062a \\u064c\\u0641\\u0650\\u064a\\u064f \\u064e\\u0625\\u064d\\u0645\\u0651\\u0627\\u064e\\u0631\\u0629\\u064f \\u062f\\u064c\\u0628\\u064f\\u064a\\u060c\\u0652 \\u0648\\u0651\\u062a\\u0636\\u0645\\u064c\\u0646\\u0651 \\u064d\\u0641\\u0639\\u064d\\u0627\\u064f\\u0644\\u064d\\u064a\\u064e\\u0627\\u062a \\u064f\\u062b\\u0642\\u0651\\u0627\\u064f\\u0641\\u064a\\u0629\\u064e \\u0641\\u0646\\u064a\\u0652\\u0629\\u0650\\u060c \\u0650\\u0648\\u063a\\u064a\\u0631\\u0647\\u0650\\u0627\\u0651 \\u064d.\\u0648\\u0651\\u062a\\u0652\\u0636\\u064c\\u0645\\u0646\\u0651\\u062a\\u064b \\u064e\\u0627\\u0644\\u0641\\u0651\\u0639\\u064e\\u0627\\u0644\\u064d\\u064a\\u0627\\u064c\\u062a\\u0650 \\u0650\\u0639\\u064e\\u0631\\u0636 \\u0641\\u064a\\u0644\\u064f\\u0645 \\u0652\\u0648\\u064b\\u062b\\u0627\\u064e\\u0626\\u064f\\u0642\\u064f\\u064a\\u064f \\u0639\\u064e\\u0646\\u064f \\u064f\\u0627\\u0644\\u062a\\u064d\\u0639\\u064c\\u0627\\u0648\\u064d\\u0646\\u0650 \\u064d\\u0627\\u064c\\u0644\\u0623\\u062e\\u0648\\u064a \\u064f\\u0628\\u0651\\u064a\\u0652\\u0646\\u064b \\u0652\\u0627\\u0644\\u064e\\u0628\\u0644\\u064f\\u062f\\u0650\\u064a\\u064d\\u0646\\u064b \\u0651\\u0627\\u0650\\u0644\\u0634\\u0642\\u0651\\u064a\\u064c\\u0642\\u064e\\u064a\\u0646\\u0650\\u060c \\u064d\\u0642\\u0631\\u0623\\u0651 \\u064c\\u0628\\u0650\\u0639\\u064f\\u062f \\u064b\\u0630\\u064f\\u0644\\u0651\\u0643\\u064f \\u0651\\u0639\\u0628\\u064f\\u062f\\u0627\\u0650\\u0644\\u0644\\u0647 \\u064f\\u0627\\u0644\\u064c\\u0645\\u0637\\u0651\\u064a\\u0631\\u064d\\u064a\\u0650 \\u0643\\u064e\\u0644\\u0645\\u0652\\u0629\\u064c \\u0647\\u064a\\u0650\\u0626\\u0629 \\u062f\\u0628\\u064b\\u064a\\u064e \\u0644\\u0644\\u064b\\u062b\\u0642\\u0627\\u0641\\u0629\\u060c\\u064f \\u062a\\u062d\\u064f\\u062f\\u062b\\u064e \\u064c\\u0641\\u064a\\u0652\\u0647\\u0652\\u0627\\u064c \\u0639\\u0652\\u0646 \\u064f\\u0627\\u0652\\u0644\\u0639\\u0650\\u0644\\u0627\\u0642\\u0627\\u062a \\u0651\\u0627\\u0651\\u0644\\u064d\\u062b\\u0642\\u0650\\u0627\\u0641\\u064a\\u0651\\u0629 \\u0628\\u064b\\u064a\\u0646 \\u064e\\u0627\\u0644\\u0628\\u064b\\u0644\\u0651\\u062f\\u0652\\u064a\\u064d\\u0646\\u064c\\u060c \\u0648\\u064e\\u0643\\u064e\\u064a\\u0651\\u0641 \\u0623\\u0646 \\u0627\\u064e\\u0644\\u064d\\u0643\\u0648\\u064e\\u064a\\u0650\\u062a \\u062f\\u0639\\u0645\\u0651\\u062a\\u064d \\u0650\\u0627\\u0644\\u062d\\u0631\\u0652\\u0643\\u064b\\u0629\\u064b \\u0627\\u064d\\u0644\\u062b\\u0652\\u0642\\u064c\\u0627\\u0641\\u064a\\u0652\\u0629\\u0652 \\u064d\\u0648\\u0627\\u0650\\u0644\\u0651\\u062a\\u0639\\u0651\\u0644\\u064a\\u064f\\u0645\\u064a\\u0629 \\u0641\\u064a \\u0627\\u0644\\u0625\\u0645\\u0627\\u064e\\u0631\\u0627\\u064c\\u062a\\u060c\\u064d \\u064d\\u0648\\u0651\\u0623\\u064f\\u0646\\u064e\\u0634\\u0623\\u062a\\u0651 \\u0641\\u064a\\u064e\\u0647\\u0651\\u0627 \\u064b\\u0627\\u064c\\u0644\\u064f\\u0645\\u064f\\u062f\\u0627\\u064f\\u0631\\u0651\\u0633\\u064b\\u060c\\u0652 \\u064c\\u0625\\u0644\\u064f\\u0649 \\u0651\\u062c\\u0627\\u064b\\u0646\\u0650\\u0628 \\u064c\\u063a\\u0652\\u064a\\u064e\\u0631\\u0647\\u0650\\u0627\\u064c \\u0645\\u0646\\u064c \\u0650\\u0627\\u0644\\u0645\\u064c\\u0631\\u064d\\u0627\\u0641\\u064e\\u0642 \\u0627\\u0651\\u0644\\u0636\\u0631\\u0652\\u0648\\u0631\\u064d\\u064a\\u0650\\u0629\\u064e .\\u064c\\u0628\\u064c\\u0639\\u064b\\u062f\\u0652 \\u0630\\u064f\\u0644\\u0643 \\u0628\\u062f\\u0623\\u0650\\u062a \\u0641\\u064f\\u0639\\u0650\\u0627\\u064c\\u0644\\u064a\\u0627\\u0651\\u062a \\u0627\\u0644\\u064d\\u0646\\u0652\\u062f\\u0648\\u064c\\u0629 \\u0651\\u0627\\u0651\\u0644\\u064b\\u062a\\u064e\\u064a \\u064f\\u0623\\u062f\\u064e\\u0627\\u064c\\u0631\\u0647\\u0627 \\u0651\\u0639\\u0644\\u064e\\u064a\\u064c \\u064c\\u0639\\u064f\\u0628\\u064f\\u064a\\u0651\\u062f \\u0627\\u0644\\u064f\\u0647\\u0650\\u0627\\u0650\\u0645\\u0644\\u064d\\u064a\\u0651\\u060c\\u0651 \\u0652\\u0628\\u0639\\u0651\\u0646\\u064e\\u0648\\u064c\\u0627\\u0651\\u0646 \\\"\\u0650\\u0645\\u0633\\u064a\\u0631\\u064b\\u0629 \\u0627\\u064e\\u0644\\u0652\\u0639\\u0652\\u0644\\u0627\\u064e\\u0642\\u0627\\u062a\\u0651 \\u0627\\u0650\\u0644\\u0625\\u0645\\u0627\\u0652\\u0631\\u0627\\u062a\\u064a\\u0629\\u0651 \\u064b- \\u064c\\u0627\\u0651\\u0644\\u0652\\u0643\\u0648\\u064a\\u062a\\u064e\\u064a\\u064b\\u0629\\\" \\u0648\\u064b\\u0634\\u0627\\u0631\\u0643 \\u064c\\u0641\\u064c\\u064a\\u0647\\u064e\\u0627\\u0651 \\u0643\\u0644\\u064b \\u064e\\u0645\\u0646\\u0651 \\u0650\\u062f\\u0652 . \\u0639\\u0652\\u0628\\u062f\\u0650\\u0627\\u0652\\u0644\\u0644\\u064f\\u0647\\u064c \\u0627\\u0644\\u063a\\u064c\\u0646\\u064a\\u0645 \\u064e(\\u0651\\u0627\\u0644\\u0643\\u0648\\u064f\\u064a\\u064f\\u062a)\\u064f \\u064e\\u0648\\u0628\\u0644\\u0627\\u0644\\u064f \\u0651\\u0627\\u0652\\u0644\\u064f\\u0628\\u0652\\u062f\\u064b\\u0648\\u0631\\u064c \\u0646\\u064b\\u0627\\u064b\\u0626\\u0628 \\u0631\\u064d\\u0626\\u064a\\u064c\\u0633\\u064f \\u0645\\u062c\\u064e\\u0644\\u0633 \\u0625\\u062f\\u0650\\u0627\\u0652\\u0631\\u0652\\u0629\\u064d \\u064d\\u0646\\u064d\\u062f\\u064b\\u0648\\u0629\\u064f \\u0627\\u0644\\u062b\\u0642\\u0627\\u0641\\u0629\\u064e \\u0650\\u0627\\u0644\\u064d\\u0639\\u0652\\u0644\\u064d\\u0648\\u0645\\u064c\\u060c \\u062d\\u0652\\u064a\\u0650\\u062b \\u064d\\u0633\\u0650\\u0644\\u0637\\u064f \\u064b\\u0627\\u0644\\u0647\\u064e\\u0627\\u064c\\u0645\\u064c\\u0644\\u064a \\u0650\\u0627\\u0644\\u0636\\u0648\\u0621\\u064d \\u0639\\u0650\\u0644\\u064b\\u0649\\u0650 \\u0650\\u0627\\u0651\\u0644\\u0633\\u0652\\u064a\\u0631\\u0651\\u0629\\u064b \\u064f\\u0627\\u064b\\u0644\\u064b\\u0645\\u064e\\u0639\\u064b\\u0631\\u0641\\u064a\\u0629\\u0650 \\u064b\\u0644\\u064c\\u0643\\u064b\\u0644\\u064e\\u0627\\u064d \\u0627\\u0650\\u0644\\u0650\\u0643\\u0651\\u0627\\u064e\\u062a\\u0628\\u064a\\u0646 \\u062f .\\u064b \\u064c\\u0627\\u0644\\u0651\\u063a\\u064e\\u0646\\u064d\\u064a\\u064b\\u0645 \\u0650\\u0648\\u0651\\u0627\\u064f\\u0644\\u0628\\u0652\\u062f\\u0648\\u064e\\u0631 .\\u0651 \\u064d\\u0648\\u064b\\u0645\\u0645\\u0627\\u0652 \\u0642\\u0627\\u0644\\u0647 \\u0651\\u0627\\u064e\\u0644\\u0647\\u0627\\u0651\\u0645\\u064b\\u0644\\u064a\\u0651 \\u0641\\u064a\\u064e \\u0645\\u064c\\u0642\\u0651\\u062f\\u0652\\u0645\\u062a\\u0652\\u0647:\\u0651 \\u064b\\u0627\\u0644\\u0643\\u0648\\u064a\\u064b\\u062a \\u064f\\u062a\\u064d\\u0631\\u0643\\u062a \\u0628\\u064c\\u0635\\u0645\\u064d\\u0627\\u064e\\u062a\\u0651\\u0647\\u064c\\u0627\\u064d \\u0639\\u0645\\u064a\\u0651\\u0642\\u064f\\u0627\\u064b\\u064b \\u0639\\u064d\\u0644\\u064c\\u064a\\u0646\\u0627 \\u064c\\u0641\\u064a \\u062f\\u0648\\u0644\\u0651\\u0629 \\u064b\\u0627\\u064d\\u0644\\u064c\\u0625\\u064e\\u0645\\u0627\\u064b\\u0631\\u0627\\u062a\\u060c\\u064e \\u0652\\u0648\\u064c\\u0623\\u0643\\u064e\\u0628\\u0651\\u0631 \\u064c\\u062f\\u0644\\u064a\\u0644\\u064f \\u0650\\u0639\\u0644\\u064d\\u0649\\u064e \\u0650\\u0630\\u0644\\u0643\\u0650 \\u064f\\u0623\\u0651\\u0646 \\u0647\\u0646\\u0627\\u0643\\u064f \\u0652\\u062c\\u064a\\u064e\\u0644\\u064d\\u0627\\u0652\\u064b \\u0625\\u0645\\u0627\\u064f\\u0631\\u064f\\u0627\\u062a\\u064a\\u064d\\u0627\\u064b\\u064f \\u0652\\u0643\\u0627\\u0645\\u064b\\u0644\\u064d\\u0627\\u064d\\u064b\\u064f \\u062a\\u064e\\u0641\\u062a\\u062d\\u0651\\u062a\\u0651 \\u064b\\u0645\\u0650\\u062f\\u0652\\u0627\\u0631\\u0652\\u0643\\u0647\\u064b \\u0639\\u0644\\u0652\\u0649 \\u0651\\u0645\\u064b\\u0627\\u064e \\u0628\\u062b\\u064f\\u062a\\u064c\\u0647\\u064d \\u0627\\u064c\\u0644\\u0650\\u0643\\u064c\\u0648\\u064a\\u062a \\u0652\\u0645\\u0651\\u0646\\u064b \\u064b\\u062a\\u0639\\u0644\\u064a\\u064e\\u0645 \\u064d\\u0648\\u064f\\u062b\\u064c\\u0642\\u0627\\u0641\\u0651\\u0629\\u064d \\u0641\\u064a\\u064d \\u064c\\u0627\\u0644\\u0625\\u064c\\u0645\\u0651\\u0627\\u064b\\u0631\\u0627\\u064c\\u062a\\u064c\\u060c\\u064f \\u0650\\u062c\\u064a\\u0644 \\u0650\\u0643\\u064b\\u0627\\u064f\\u0645\\u0644\\u060c\\u0651 \\u064c\\u062a\\u0652\\u0639\\u0644\\u0645 \\u0648\\u0641\\u0652\\u0642 \\u0651\\u0645\\u0651\\u0646\\u064d\\u0627\\u0650\\u0647\\u064c\\u062c\\u064f \\u0627\\u0644\\u0643\\u0652\\u0648\\u064a\\u062a \\u0627\\u064c\\u0644\\u062a\\u0639\\u0644\\u064a\\u064c\\u0645\\u064c\\u064a\\u064d\\u0629 \\u064c.\\u064e\\u0648\\u0623\\u0634\\u0627\\u0651\\u062f\\u064d \\u064e\\u062f \\u064e.\\u064d \\u0627\\u064e\\u0644\\u063a\\u0646\\u064b\\u064a\\u0645 \\u0650\\u0628\\u0627\\u064c\\u0644\\u062d\\u064a\\u0627\\u0629\\u0650 \\u0651\\u0627\\u0644\\u062a\\u0652\\u0639\\u064b\\u0644\\u064a\\u064f\\u0645\\u064a\\u0629\\u064f \\u0627\\u0644\\u062b\\u0642\\u064b\\u0627\\u064f\\u0641\\u0651\\u064a\\u0629\\u0650 \\u0652\\u0641\\u064e\\u064a\\u064e \\u064f\\u0627\\u0644\\u064c\\u0625\\u0645\\u064b\\u0627\\u0631\\u064c\\u0627\\u062a\\u060c\\u064d \\u0651\\u0648\\u064c\\u0631\\u0623\\u0649\\u064f \\u064e\\u0623\\u064e\\u0646\\u0651\\u0647\\u0627\\u064e \\u062c\\u062f \\u0652\\u0645\\u062a\\u0637\\u0648\\u0631\\u064d\\u0629\\u0652\\u060c\\u0650 \\u0648\\u064e\\u0623\\u0650\\u062f\\u064c\\u0644\\u0649\\u0652 \\u0651\\u0628\\u0623\\u064c\\u0645\\u062b\\u0650\\u0644\\u0629 \\u064c\\u0645\\u0647\\u0651\\u0645\\u0629\\u064f \\u0650\\u0639\\u064f\\u0644\\u0651\\u0649 \\u0630\\u0650\\u0644\\u064e\\u0643\\u064c\\u060c\\u064c \\u0648\\u064c\\u0645\\u064d\\u0646\\u0647\\u0627 \\u0651\\u0623\\u0646 \\u0627\\u0650\\u0644\\u064e\\u0643\\u062b\\u064b\\u064a\\u0631\\u064a\\u064b\\u0646\\u064e \\u064c\\u0645\\u0646\\u0650 \\u0623\\u0628\\u064c\\u0646\\u064e\\u0627\\u0621\\u064f \\u0650\\u0627\\u0644\\u064b\\u0643\\u0648\\u064e\\u064a\\u0650\\u062a \\u0628\\u0627\\u062a\\u064b\\u0648\\u0627 \\u064a\\u064e\\u062a\\u0652\\u0627\\u0652\\u0628\\u0639\\u0650\\u0648\\u0652\\u0646 \\u0652\\u062a\\u062d\\u0652\\u0635\\u064a\\u0644\\u0647\\u0650\\u0645\\u0651 \\u064d\\u0627\\u0651\\u0644\\u0645\\u0639\\u064d\\u0631\\u064f\\u0641\\u064e\\u064a\\u064d \\u064d\\u0641\\u064c\\u064a \\u062c\\u064f\\u0627\\u064e\\u0645\\u0639\\u064d\\u0627\\u064b\\u062a \\u0627\\u0652\\u0644\\u0625\\u0645\\u0650\\u0627\\u0631\\u0627\\u062a\\u0652\\u060c\\u064e \\u0645\\u0646\\u0650 \\u062f\\u064f\\u0648\\u0646\\u064b \\u064e\\u0623\\u064e\\u0646 \\u064f\\u064a\\u064f\\u0634\\u064f\\u0639\\u064f\\u0631\\u0651\\u0648\\u064d\\u0627 \\u0625\\u0644\\u064d\\u0627\\u0650 \\u0628\\u0651\\u0623\\u0646\\u064b\\u0647\\u064c\\u0645\\u064b \\u0641\\u0650\\u064a \\u0628\\u064b\\u064a\\u0648\\u062a\\u0650\\u0647\\u064e\\u0645\\u0651\\u060c \\u0652\\u0648\\u0647\\u0648\\u064e \\u064f\\u0645\\u062f\\u064c\\u0639\\u064c\\u0627\\u064e\\u0629\\u0651 \\u064d\\u0633\\u064b\\u0639\\u0627\\u0650\\u062f\\u0629 \\u064d\\u0623\\u0633\\u0631\\u064d\\u0647\\u0645\\u0651\\u060c \\u0628\\u0652\\u0644 \\u0650\\u0628\\u0644\\u0651\\u062f\\u0647\\u0645\\u064b \\u064d\\u0628\\u0643\\u0627\\u064d\\u0645\\u064d\\u0644\\u0647 \\u064f.\\u0648\\u0642\\u0627\\u0644: \\u0644\\u0645\\u064f \\u064f\\u0623\\u064c\\u0631\\u062f\\u064c \\u064c\\u0623\\u0646\\u0650 \\u064d\\u0623\\u0633\\u064e\\u0645\\u064e\\u064a\\u0652 \\u0646\\u064e\\u062f\\u0650\\u0648\\u062a\\u0650\\u0646\\u0627 \\u0647\\u064b\\u0630\\u0651\\u0647\\u064f \\u0628\\u0627\\u0644\\u062d\\u0648\\u0651\\u0627\\u0652\\u0631\\u064b\\u064a\\u0629\\u0651\\u060c\\u064c \\u0628\\u0650\\u064a\\u0650\\u0646 \\u0645\\u0652\\u062b\\u064e\\u0642\\u0652\\u0641\\u064d\\u064a\\u0650\\u0646\\u0651 \\u0645\\u0650\\u0646\\u064d \\u0628\\u0644\\u062f\\u064a\\u064e\\u0646\\u0627:\\u064b \\u064b\\u0627\\u0644\\u064e\\u0643\\u0648\\u0650\\u064a\\u062a\\u0652 \\u0652\\u0648\\u0627\\u0652\\u0644\\u0625\\u0645\\u064c\\u0627\\u0631\\u0627\\u064c\\u062a\\u060c\\u064f \\u064b\\u0644\\u0623\\u0646 \\u0627\\u0644\\u062d\\u0648\\u064f\\u0627\\u0652\\u0631\\u060c\\u064f \\u0650\\u064a\\u062a\\u0645 \\u064c\\u0639\\u064f\\u0627\\u0650\\u062f\\u0629\\u064d\\u060c \\u0652\\u0628\\u064a\\u064e\\u0646\\u064c \\u0645\\u0650\\u0646\\u064b \\u0652\\u0647\\u064b\\u0645\\u064d \\u0645\\u062e\\u062a\\u064d\\u0644\\u0641\\u0648\\u0646\\u060c \\u0628\\u064a\\u0646 \\u0650\\u0645\\u064c\\u0646 \\u062a\\u064c\\u0643\\u0650\\u0648\\u0646\\u064c \\u064e\\u0647\\u064f\\u0646\\u0627\\u0643 \\u062a\\u0646\\u0627\\u0642\\u0650\\u0636\\u0627\\u062a \\u064b\\u0641\\u064f\\u064a\\u0651\\u0645\\u0627\\u064b \\u0650\\u0628\\u064a\\u0646\\u0652\\u0647\\u0645\\u060c \\u0625\\u0651\\u0646\\u0646\\u064e\\u0627\\u0650 \\u0650\\u0646\\u062a\\u062d\\u062f\\u064c\\u062b \\u064b\\u0636\\u0652\\u0645\\u0646 \\u0652\\u0625\\u0637\\u0652\\u0627\\u0650\\u0631\\u0651 \\u064c\\u0627\\u064c\\u0644\\u064e\\u0628\\u064e\\u064a\\u064b\\u062a\\u0650 \\u064c\\u0627\\u0644\\u0648\\u0652\\u0627\\u062d\\u0651\\u062f\\u060c \\u064f\\u0636\\u064e\\u0645\\u064c\\u0646\\u0650 \\u0625\\u0637\\u0627\\u0631 \\u0627\\u0644\\u064b\\u0623\\u0633\\u064c\\u0631\\u064f\\u0629 \\u0627\\u0644\\u0652\\u0648\\u0650\\u0627\\u062d\\u062f\\u0629\\u060c\\u0651 \\u0648\\u064f\\u0647\\u0646\\u064b\\u0627\\u0650 \\u0627\\u0650\\u0644\\u0641\\u0631\\u0642\\u064f \\u0628\\u064b\\u064a\\u0646\\u064c \\u064c\\u0637\\u064d\\u0628\\u064a\\u0639\\u0629 \\u0651\\u062d\\u062f\\u064a\\u064f\\u062b\\u0646\\u0651\\u0627\\u060c\\u0652 \\u0648\\u0635\\u0641\\u0629\\u064b \\u0627\\u0644\\u062d\\u0650\\u0648\\u0627\\u0631\\u0652 \\u0650.\\u0651\\u0648\\u062a\\u0627\\u0628\\u0651\\u0639\\u064b \\u062f . \\u0627\\u064f\\u0644\\u063a\\u0646\\u064a\\u064f\\u0645 \\u064f\\u0642\\u0651\\u0627\\u0626\\u0644\\u0627\\u064d\\u064b:\\u064d \\u0650\\u0645\\u0652\\u0631\\u0643\\u0650\\u0632 \\u0627\\u064c\\u0644\\u064b\\u0628\\u062d\\u0648\\u064c\\u062b \\u064e\\u0648\\u0627\\u064d\\u0644\\u062f\\u0631\\u064b\\u0627\\u064f\\u0633\\u0627\\u062a\\u0650 \\u0627\\u064c\\u0644\\u0643\\u0650\\u0648\\u064a\\u0650\\u062a\\u064c\\u064a\\u064b \\u064c\\u062c\\u0651\\u0645\\u064b\\u0639\\u0651 \\u0623\\u064d\\u0643\\u0650\\u062b\\u0651\\u0631 \\u064b\\u0645\\u0646 \\u064e\\u0645\\u0644\\u064b\\u064a\\u0648\\u064e\\u0646\\u064f\\u064a \\u0648\\u064e\\u062b\\u0651\\u064a\\u064d\\u0642\\u0629\\u064c \\u0639\\u0646 \\\"\\u0627\\u0644\\u062c\\u064b\\u0646\\u0648\\u064e\\u0628 \\u0648\\u0651\\u0627\\u064e\\u0644\\u062e\\u0644\\u0650\\u064a\\u064f\\u062c\\\"\\u064e\\u060c\\u0651 \\u0648\\u0645\\u064d\\u0646 \\u0628\\u064c\\u064a\\u064b\\u0646\\u064f\\u0647\\u0627\\u064f \\u0648\\u064e\\u062b\\u0627\\u0626\\u0642\\u0652 \\u064f\\u0645\\u0647\\u0650\\u0645\\u064e\\u0629 \\u0639\\u0646 \\u0645\\u0641\\u064c\\u0627\\u0635\\u0644 \\u064b\\u0627\\u0644\\u064f\\u0628\\u0652\\u0646\\u064a\\u0629\\u064c \\u064d\\u0627\\u0652\\u0644\\u0651\\u062a\\u064f\\u062d\\u064c\\u062a\\u064a\\u064e\\u0629 \\u064e\\u0641\\u064a \\u0627\\u0644\\u0650\\u0625\\u0645\\u064c\\u0627\\u064b\\u0631\\u064b\\u0627\\u0652\\u062a\\u064a\\u064f\\u0629\\u060c\\u064b \\u0648\\u064f\\u0646\\u064b\\u0634\\u064d\\u0623\\u064d\\u0629 \\u0645\\u062f\\u0627\\u0631\\u0633\\u0647\\u064e\\u0627\\u060c \\u0648\\u062d\\u064a\\u0627\\u062a\\u0650\\u0647\\u0627 \\u0627\\u0644\\u062b\\u064e\\u0642\\u0627\\u0641\\u064a\\u0629\\u0650\\u060c \\u064d\\u0648\\u0652\\u0641\\u064a \\u0647\\u0630\\u0650\\u0647 \\u0627\\u0651\\u0644\\u0648\\u062b\\u064b\\u0627\\u0626\\u0651\\u0642 \\u0650\\u0645\\u0639\\u0644\\u0648\\u064d\\u0645\\u0650\\u0627\\u064e\\u062a \\u062c\\u0651\\u062f \\u0645\\u0647\\u0645\\u0629\\u0652 \\u064b\\u0639\\u0651\\u0646 \\u064f\\u0646\\u0634\\u0623\\u0629\\u0651 \\u0627\\u0652\\u0644\\u064b\\u0645\\u062f\\u0650\\u0627\\u064c\\u0631\\u0633\\u060c\\u0652 \\u064c\\u0648\\u064c\\u062d\\u0651\\u062a\\u0649\\u064c \\u0623\\u0633\\u064b\\u0645\\u064e\\u0627\\u0621 \\u0651\\u0627\\u0644\\u0637\\u0644\\u0651\\u0628\\u0629\\u060c \\u0648\\u064b\\u0627\\u064e\\u0644\\u064d\\u0645\\u062f\\u064b\\u0631\\u0633\\u064c\\u064a\\u0646\\u060c\\u0652 \\u064b\\u0648\\u0643\\u0652\\u064a\\u0641\\u064a\\u064f\\u0629\\u064c \\u0628\\u064b\\u062f\\u0650\\u0627\\u064f\\u064a\\u0627\\u0652\\u062a\\u064c \\u0639\\u0652\\u0645\\u0650\\u0644\\u064e\\u064a\\u0652\\u0629\\u064d \\u0627\\u0644\\u062a\\u0639\\u0644\\u064a\\u0645\\u064f \\u064f. . \\u064d\\u0625\\u0644\\u064f\\u062e\\u0652\\u060c \\u064c\\u0648\\u0647\\u0646\\u064d\\u0627\\u0643\\u0651 \\u064b\\u0645\\u0646 \\u0651\\u0646\\u064f\\u0627\\u064f\\u0644\\u0652 \\u064b\\u0634\\u0647\\u0650\\u0627\\u062f\\u0629\\u064c \\u0650\\u0627\\u0644\\u062f\\u0650\\u0643\\u062a\\u064e\\u0648\\u0631\\u0651\\u0627\\u0647 \\u0645\\u064c\\u0646\\u0651 \\u062e\\u064f\\u0644\\u064b\\u0627\\u0651\\u0644\\u064f \\u064f\\u0642\\u0652\\u0631\\u0627\\u0621\\u0652\\u0629 \\u064e\\u0627\\u0644\\u064d\\u0639\\u064b\\u0644\\u064e\\u0627\\u0642\\u0627\\u064c\\u062a \\u0627\\u0652\\u0644\\u0623\\u0650\\u062e\\u0648\\u064d\\u064a\\u064e\\u0629 \\u064d\\u0628\\u064a\\u0646 \\u064e\\u0627\\u0644\\u064f\\u0628\\u064e\\u0644\\u062f\\u064a\\u064c\\u0646 \\u0652.\\u0652\\u0648\\u062c\\u0627\\u0621\\u064e \\u062d\\u064d\\u062f\\u064d\\u064a\\u064d\\u062b\\u064f \\u0627\\u064f\\u0644\\u0651\\u0628\\u0652\\u062f\\u064c\\u0648\\u0631\\u064e \\u064e\\u0628\\u0645\\u0627 \\u064a\\u064f\\u0634\\u0650\\u0628\\u0647 \\u064f\\u0627\\u064f\\u0644\\u0652\\u0634\\u0650\\u0647\\u0627\\u062f\\u064e\\u0629\\u064e\\u060c \\u0645\\u0646 \\u064c\\u0642\\u064e\\u0628\\u0644\\u064e \\u0652\\u0623\\u062d\\u064e\\u062f\\u064f \\u0651\\u0623\\u064c\\u0628\\u064f\\u0646\\u0627\\u0621 \\u064d\\u0627\\u0644\\u064c\\u062c\\u064a\\u064d\\u0644 \\u0627\\u064d\\u0644\\u064e\\u0630\\u064a\\u064d \\u064f\\u0641\\u062a\\u0651\\u062d \\u0639\\u064a\\u0646\\u064a\\u064b\\u0647\\u064b \\u0650\\u0639\\u064b\\u0644\\u064d\\u0649\\u0650 \\u0627\\u0644\\u0645\\u0646\\u0627\\u064f\\u0647\\u064b\\u062c \\u0627\\u0652\\u0644\\u0651\\u062a\\u0639\\u0644\\u064f\\u064a\\u0645\\u064a\\u0629 \\u0627\\u0644\\u0651\\u0643\\u064f\\u0648\\u0650\\u064a\\u062a\\u064a\\u0629\\u064e \\u0627\\u0650\\u0644\\u062a\\u064a\\u064b \\u064e\\u062a\\u0645 \\u062a\\u064b\\u062f\\u0650\\u0631\\u064a\\u064f\\u0633\\u0650\\u0647\\u064e\\u0627\\u064b \\u0641\\u0651\\u064a\\u064d \\u0627\\u064f\\u0644\\u0652\\u0625\\u064d\\u0645\\u064c\\u0627\\u0631\\u064c\\u0627\\u0652\\u062a\\u0652\\u060c \\u0648\\u0651\\u0642\\u064d\\u0627\\u0644: \\u064e\\u0643\\u0644 \\u064f\\u0630\\u064c\\u0644\\u0643 \\u064f\\u0630\\u0643\\u0631\\u0650\\u062a\\u0647 \\u0641\\u0651\\u064a \\u0643\\u062a\\u0627\\u0628\\u064a \\u064b\\\"\\u0627\\u0644\\u062c\\u0630\\u0648\\u0631 \\u0650\\u0627\\u064f\\u0644\\u062a\\u0627\\u0631\\u0652\\u064a\\u064d\\u062e\\u0650\\u064a\\u0651\\u0629\\u064d \\u064e\\u0644\\u064f\\u0644\\u0639\\u064b\\u0644\\u0627\\u0642\\u0627\\u0650\\u062a\\u064f \\u064e\\u0627\\u064f\\u0644\\u062b\\u0652\\u0642\\u0627\\u0650\\u0641\\u064d\\u064a\\u0629 \\u064c\\u0628\\u064a\\u064b\\u0646 \\u0650\\u0627\\u0644\\u0625\\u0645\\u0627\\u0631\\u0627\\u064c\\u062a\\u064c \\u064f\\u0648\\u064e\\u0627\\u064b\\u0644\\u0643\\u0650\\u0648\\u064a\\u064f\\u062a\\\"\\u060c \\u0652\\u0648\\u0643\\u064b\\u0627\\u064b\\u0646 \\u064c\\u0628\\u064f\\u0645\\u064f\\u062b\\u064f\\u0627\\u064e\\u0628\\u064c\\u0629\\u064d \\u064c\\u0631\\u0652\\u0633\\u064b\\u0627\\u0651\\u0644\\u064e\\u0629 \\u0634\\u0652\\u0643\\u0631 \\u0652\\u0644\\u0644\\u0643\\u0648\\u064a\\u062a\\u060c \\u0648\\u064c\\u0623\\u0636\\u0650\\u0627\\u064d\\u0641:\\u064d \\u0623\\u062c\\u064f\\u0644\\u060c\\u064e \\u064c\\u062a\\u062a\\u0644\\u0645\\u0630\\u0646\\u0627\\u064c \\u0639\\u064f\\u0644\\u0651\\u0649 \\u0650\\u0645\\u064d\\u0646\\u064c\\u0627\\u064c\\u0647\\u062c \\u064b\\u0627\\u0644\\u0643\\u064e\\u0648\\u064b\\u064a\\u062a\\u064d\\u060c\\u0650 \\u0648\\u0642\\u0631\\u0623\\u0646\\u0627\\u064d \\u0650\\u0639\\u064e\\u0628\\u0627\\u0631\\u064d\\u0629 \\u064e\\\"\\u0639\\u064f\\u0644\\u0645 \\u0628\\u0651\\u0644\\u0651\\u0627\\u062f\\u064a\\u0650 \\u0651\\u0644\\u0651\\u0648\\u064e\\u0646\\u0647\\u0650 \\u064c\\u0623\\u064c\\u062d\\u0645\\u0650\\u0631\\\" \\u0648\\u0650\\u0627\\u0631\\u062a\\u064c\\u062f\\u064a\\u0646\\u0652\\u0627\\u064e \\u0632\\u064a \\u0627\\u064e\\u0644\\u0652\\u0645\\u062f\\u0651\\u0627\\u0652\\u0631\\u064b\\u0633\\u064f \\u064d\\u0627\\u0644\\u0643\\u064d\\u0648\\u064e\\u064a\\u062a\\u064a\\u0629 \\u0623\\u062b\\u064f\\u0646\\u064f\\u0627\\u064e\\u0621\\u064c \\u0651\\u062a\\u0639\\u064e\\u0644\\u0650\\u064a\\u0645\\u0646\\u0627\\u064c\\u060c \\u064c\\u0648\\u0652\\u062a\\u064d\\u0646\\u0627\\u0650\\u0648\\u0644\\u064b\\u0646\\u0627 \\u0627\\u0644\\u064e\\u0648\\u062c\\u064f\\u0628\\u0652\\u0627\\u062a\\u064d \\u0627\\u0651\\u0644\\u0635\\u0628\\u0627\\u062d\\u0650\\u064a\\u0629\\u0651 \\u0627\\u0651\\u0644\\u0650\\u0643\\u064b\\u0648\\u064a\\u062a\\u064a\\u0629\\u0650 \\u064d\\u0641\\u0650\\u064a \\u0645\\u062f\\u064b\\u0627\\u064b\\u0631\\u064c\\u0633\\u0646\\u0627\\u0652\\u060c\\u064b \\u0648\\u0627\\u0633\\u062a\\u062e\\u064c\\u062f\\u064f\\u0645\\u0651\\u0646\\u0627 \\u064d\\u0627\\u064b\\u0644\\u064c\\u0623\\u0650\\u0642\\u064c\\u0644\\u0627\\u0651\\u0645 \\u0652\\u0648\\u064d\\u0627\\u0644\\u0652\\u0645\\u0645\\u064e\\u062d\\u0651\\u0627\\u064f\\u064a\\u064d\\u0627\\u064b\\u062a\\u064e \\u0648\\u0627\\u064d\\u0644\\u064b\\u0645\\u0628\\u0631\\u0627\\u064a\\u0652\\u0627\\u064b\\u062a \\u064d\\u0627\\u0644\\u064e\\u0643\\u0648\\u064c\\u064a\\u062a\\u064a\\u0629\\u064e\\u060c \\u0644\\u064d\\u0627\\u064c \\u0641\\u0631\\u0642 \\u064f\\u0628\\u064b\\u064a\\u064c\\u0646\\u064d\\u0646\\u0651\\u0627\\u060c \\u0628\\u064a\\u064b\\u0626\\u0650\\u062a\\u0627 \\u0628\\u064f\\u0644\\u062f\\u064a\\u0646\\u0627\\u064b \\u0648\\u0650\\u0627\\u064f\\u062d\\u0652\\u062f\\u0629\\u064d\\u060c \\u0647\\u064a \\u0627\\u064f\\u0644\\u0628\\u0650\\u064a\\u0650\\u0626\\u0629\\u064b \\u064c\\u0627\\u0650\\u0644\\u0628\\u062d\\u0631\\u064a\\u0629\\u064f \\u064f.\\u064b \\u0648\\u0628\\u0652\\u0639\\u062f\\u064f \\u064f\\u0623\\u0650\\u0641\\u064c\\u0648\\u0644 \\u062a\\u064d\\u062c\\u0627\\u0652\\u0631\\u0629\\u064c \\u0627\\u0644\\u0644\\u0624\\u0644\\u064b\\u0624\\u060c \\u0651\\u0641\\u064f\\u0625\\u0652\\u0646\\u0651 \\u0645\\u0651\\u062b\\u064e\\u0642\\u064f\\u0641\\u064a\\u0646\\u0627\\u064c \\u0648\\u064d\\u0639\\u0650\\u0645\\u064e\\u0627\\u0644\\u064f\\u0646\\u064f\\u0627 \\u062a\\u0648\\u062c\\u0647\\u0648\\u0627\\u064b \\u0625\\u0644\\u0649 \\u0627\\u0644\\u064e\\u0643\\u0650\\u0648\\u064b\\u064a\\u064b\\u062a\\u064f \\u0644\\u0650\\u0644\\u0639\\u064d\\u0645\\u0644 \\u0651\\u0641\\u064f\\u064a\\u0647\\u0627\\u064f\\u060c \\u0650\\u0643\\u0651\\u0645\\u0627 \\u0623\\u064f\\u0646 \\u0647\\u064c\\u0646\\u0627\\u0643 \\u0623\\u064f\\u062c\\u064a\\u0627\\u064c\\u0644\\u0651\\u0627\\u0650\\u064b \\u064e\\u0645\\u064b\\u0646 \\u0627\\u0652\\u0644\\u064e\\u0643\\u064b\\u0648\\u064a\\u062a\\u064b\\u064a\\u064a\\u0646 \\u064b\\u0639\\u064d\\u0627\\u0634\\u0648\\u064b\\u0627 \\u0641\\u064e\\u064a \\u064f\\u0627\\u0650\\u0644\\u064e\\u0625\\u064d\\u0645\\u0627\\u0631\\u0627\\u062a\\u064d\\u060c \\u064d\\u0648\\u0651\\u0645\\u064e\\u0646\\u064b\\u0647\\u0645 \\u0645\\u0646\\u064c \\u064b\\u0639\\u0650\\u0644\\u0652\\u0645\\u064d\\u0648\\u064e\\u0646\\u0627 .\\u0651 \\u0643\\u0645\\u0627 \\u0631\\u0627\\u0651\\u062d\\u0652 \\u064a\\u0650\\u062a\\u062d\\u064d\\u062f\\u062b \\u0639\\u0646\\u0651 \\u0627\\u0644\\u062a\\u0641\\u064e\\u0627\\u0639\\u064e\\u0644\\u064b \\u0627\\u064c\\u0644\\u062b\\u0650\\u0642\\u0652\\u0627\\u0641\\u064c\\u064a \\u0628\\u064d\\u064a\\u0646\\u0650 \\u064b\\u0627\\u0644\\u064d\\u0628\\u0644\\u0651\\u062f\\u064a\\u064d\\u0646 \\u0639\\u064e\\u0628\\u0631 \\u064d\\u0642\\u064d\\u0635\\u064f\\u0627\\u0626\\u0650\\u062f\\u064d \\u0627\\u0651\\u0644\\u064b\\u0634\\u0639\\u0652\\u0631\\u0627\\u064e\\u0621\\u060c\\u064d \\u064b\\u0627\\u0644\\u0652\\u0641\\u0652\\u0635\\u0652\\u062d\\u064c\\u0649\\u064b \\u0648\\u064c\\u0627\\u0644\\u0650\\u0646\\u064b\\u0628\\u0637\\u064a\\u064f\\u0629\\u0650\\u060c \\u0650\\u0641\\u0652\\u0636\\u064b\\u0644\\u0650\\u0627\\u064b\\u064b \\u064c\\u0639\\u064d\\u0646 \\u0651\\u0627\\u064d\\u0644\\u062a\\u0641\\u064c\\u0627\\u0639\\u064f\\u0644\\u064c \\u0651\\u0645\\u0652\\u0639 \\u0648\\u064b\\u0633\\u0627\\u0652\\u0626\\u064b\\u0644\\u064b \\u0627\\u0644\\u0625\\u0650\\u0639\\u0644\\u0627\\u0645\\u0650 \\u064d\\u0641\\u0650\\u064a\\u064e \\u0643\\u0644\\u0627 \\u0627\\u064b\\u0644\\u0628\\u0651\\u0644\\u064e\\u062f\\u064c\\u064a\\u064d\\u0646\\u060c\\u064c \\u0650\\u0625\\u064f\\u0630 \\u064c\\u0641\\u064c\\u062a\\u062d\\u062a\\u0650 \\u064c\\u0627\\u0644\\u0651\\u0635\\u064d\\u062d\\u064e\\u0627\\u064c\\u0641\\u0629\\u0650 \\u0627\\u064e\\u0644\\u064e\\u0643\\u0648\\u064a\\u062a\\u064a\\u0650\\u0629\\u064f \\u0651\\u0623\\u064f\\u0628\\u0652\\u0648\\u064e\\u0627\\u0628\\u0647\\u064d\\u0627\\u0651 \\u0644\\u0644\\u0645\\u062b\\u0642\\u0641\\u064a\\u064b\\u0646\\u064b \\u0627\\u064f\\u0644\\u0625\\u0645\\u0627\\u0631\\u0652\\u0627\\u0650\\u062a\\u064f\\u064a\\u064e\\u064a\\u0650\\u0646 .\",\n          \"https://example.com/resource/\\u0623\\u0650\\u0628\\u0648\\u0638\\u0628\\u064f\\u064a\\u0651 \\u064c-\\u0650 \\u064b\\u0645\\u0646\\u0651\\u064a\\u0650 \\u0650\\u0628\\u0651\\u0648\\u0651\\u0646\\u0639\\u064f\\u0627\\u064b\\u0645\\u0629:\\u0646\\u064e\\u0638\\u0645 \\u0627\\u062a\\u062d\\u0627\\u062f \\u064d\\u0643\\u0651\\u062a\\u0627\\u0650\\u0628\\u064d \\u0651\\u0648\\u0652\\u0623\\u062f\\u0652\\u0628\\u064e\\u0627\\u064b\\u0621 \\u064f\\u0627\\u0644\\u0625\\u0645\\u0627\\u0651\\u0631\\u0627\\u0650\\u062a \\u0641\\u064a \\u0623\\u0628\\u0648\\u0650\\u0638\\u0628\\u064b\\u064a\\u0651\\u060c\\u064c \\u0645\\u0633\\u064c\\u0627\\u064e\\u0621\\u064c \\u0623\\u0645\\u064c\\u0633\\u064d \\u0627\\u0644\\u064f\\u0623\\u064e\\u0648\\u0651\\u0644\\u060c \\u064f\\u0641\\u0650\\u064a\\u064d \\u0642\\u0651\\u0627\\u0650\\u0639\\u0629\\u064d \\u0627\\u0652\\u0644\\u062f\\u0643\\u062a\\u0648\\u064c\\u0631\\u064c \\u064c\\u0639\\u0628\\u062f\\u064e \\u064b\\u0627\\u0644\\u064c\\u0644\\u0647\\u0651 \\u0639\\u0645\\u0631\\u0627\\u064d\\u0646 \\u064f\\u062a\\u0650\\u0631\\u0651\\u064a\\u0645\\u0652 \\u064d\\u0641\\u064a\\u064f \\u0645\\u0651\\u0642\\u0631 \\u064d\\u0627\\u0644\\u0627\\u062a\\u064c\\u062d\\u0627\\u062f\\u064c \\u064c\\u0627\\u0644\\u064c\\u062c\\u062f\\u064a\\u0651\\u062f \\u0641\\u064a \\u0645\\u0650\\u0639\\u064e\\u0633\\u064b\\u0643\\u0631\\u064d \\u064f\\u0622\\u0644\\u0651 \\u0646\\u064b\\u0647\\u064a\\u0627\\u0646\\u064f \\u0623\\u064e\\u0645\\u0650\\u0633\\u064f\\u064a\\u0629 \\u0644\\u0652\\u0644\\u064e\\u0643\\u064c\\u0627\\u062a\\u0628\\u064d \\u0651\\u0648\\u064e\\u0627\\u0644\\u0652\\u0645\\u062b\\u064e\\u0642\\u0651\\u0641\\u064c \\u064d\\u0627\\u0644\\u0625\\u0645\\u064d\\u0627\\u064c\\u0631\\u064c\\u0627\\u062a\\u0651\\u064a\\u064f \\u0645\\u0627\\u062c\\u064c\\u062f \\u0628\\u0648 \\u0634\\u064f\\u0644\\u064a\\u0628\\u064f\\u064a\\u060c\\u064d \\u0623\\u064f\\u0645\\u064b\\u064a\\u0646 \\u0639\\u0627\\u0645\\u0652 \\u0652\\u0627\\u0644\\u0645\\u0646\\u062a\\u0650\\u062f\\u0651\\u0649 \\u0650\\u0627\\u0644\\u064d\\u0625\\u064e\\u0633\\u0651\\u0644\\u0651\\u0627\\u0645\\u0652\\u064a\\u064f \\u0641\\u064f\\u064a \\u0627\\u0644\\u064e\\u0634\\u0650\\u0627\\u0631\\u064d\\u0642\\u064e\\u0629\\u064e\\u060c\\u0650 \\u064c\\u0628\\u064f\\u0639\\u0646\\u0648\\u064f\\u0627\\u0646:\\u0651 \\u0644\\u0645\\u0627\\u0630\\u0627\\u064e \\u0651\\u0627\\u064b\\u0644\\u064f\\u0634\\u0651\\u0627\\u0631\\u0642\\u0629 \\u0639\\u0651\\u0627\\u064e\\u0635\\u0645\\u0629 \\u0650\\u0644\\u064d\\u0644\\u062b\\u064f\\u0642\\u0627\\u0641\\u064b\\u0629\\u064b \\u0627\\u064c\\u0644\\u0625\\u064c\\u0633\\u0652\\u0644\\u064d\\u0627\\u0645\\u0651\\u064a\\u0629\\u064d\\u061f \\u0642\\u062f\\u0651\\u0651\\u064e\\u0645 \\u0627\\u0644\\u064e\\u0623\\u0645\\u0633\\u064a\\u064f\\u0629\\u064f \\u064d\\u0627\\u0644\\u0634\\u0650\\u0627\\u0639\\u0631\\u0652 \\u0652\\u0648\\u0627\\u0644\\u0646\\u0627\\u0652\\u0642\\u062f \\u0645\\u064b\\u062d\\u064c\\u0645\\u062f \\u0646\\u0648\\u0631 \\u064f\\u0627\\u064c\\u0644\\u062f\\u064f\\u064a\\u0646\\u060c\\u0651 \\u064b\\u0648\\u0650\\u062d\\u0636\\u0650\\u0631\\u0651\\u0647\\u064c\\u0627\\u064e \\u064f\\u062d\\u0650\\u0628\\u064d\\u064a\\u0652\\u0628\\u064b \\u0627\\u064e\\u0644\\u0635\\u064b\\u0627\\u064a\\u0650\\u063a\\u0651 \\u064e\\u0631\\u064f\\u0626\\u064a\\u064d\\u0633\\u0652 \\u0645\\u062c\\u0651\\u0644\\u0633\\u0650 \\u0625\\u064c\\u062f\\u064c\\u0627\\u0631\\u0629\\u0650 \\u0651\\u0627\\u064c\\u0644\\u064b\\u0627\\u064b\\u062a\\u062d\\u0627\\u062f\\u0650\\u060c\\u064e \\u0648\\u0639\\u064b\\u062f\\u064b\\u062f \\u0645\\u0646 \\u064d\\u0627\\u0644\\u0643\\u062a\\u0651\\u0627\\u0628\\u064e \\u0648\\u0652\\u0627\\u064f\\u0644\\u064b\\u0623\\u064f\\u062f\\u0628\\u0627\\u064d\\u0621 \\u064d.\\u064e \\u064c\\u0627\\u0633\\u062a\\u064b\\u0647\\u0651\\u0644\\u0652 \\u0627\\u0652\\u0644\\u0651\\u0645\\u064d\\u062d\\u0652\\u0627\\u064f\\u0636\\u0631 \\u0628\\u0627\\u0633\\u062a\\u0639\\u064e\\u0631\\u0627\\u0636\\u0650 \\u0627\\u0644\\u0623\\u0637\\u0631 \\u0627\\u064c\\u0644\\u0639\\u064d\\u0627\\u0645\\u0629\\u0652 \\u0651\\u0627\\u064c\\u0644\\u062a\\u064a\\u0650 \\u0639\\u0645\\u0644\\u062a \\u064d\\u0639\\u0644\\u0649 \\u062a\\u064e\\u0634\\u0643\\u0651\\u064a\\u0652\\u0644\\u064f \\u064b\\u0648\\u0628\\u0644\\u064d\\u0648\\u064f\\u0631\\u0629 \\u0627\\u064f\\u0644\\u0641\\u0643\\u064b\\u0631\\u0652\\u0629 \\u0627\\u064e\\u0644\\u064c\\u062b\\u0642\\u0651\\u0627\\u0641\\u064d\\u064a\\u064b\\u0629\\u064e \\u0641\\u064b\\u064a\\u064f \\u064c\\u0627\\u0644\\u064f\\u0634\\u0627\\u0650\\u0631\\u064b\\u0642\\u0629\\u0652\\u060c\\u0652 \\u0645\\u0646\\u064c \\u0652\\u062e\\u0652\\u0644\\u0627\\u0652\\u0644\\u064d \\u0652\\u0627\\u0644\\u062a\\u064f\\u0639\\u064d\\u0631\\u064b\\u064a\\u0641 \\u0628\\u0652\\u0627\\u0644\\u062a\\u0650\\u062c\\u064b\\u0631\\u064f\\u0628\\u0629\\u0651 \\u064f\\u0648\\u0623\\u0647\\u0645 \\u0645\\u0633\\u0652\\u0627\\u0650\\u0631\\u064d\\u0627\\u062a\\u064b\\u0647\\u064d\\u0627\\u0652\\u060c\\u064f \\u0650\\u0648\\u064b\\u0627\\u0650\\u0644\\u0651\\u0623\\u0637\\u0650\\u0648\\u064c\\u0627\\u0631 \\u0651\\u0627\\u0652\\u0644\\u064d\\u062a\\u064a \\u0650\\u0645\\u064c\\u0631\\u064b\\u062a \\u0628\\u0647\\u0650\\u0627\\u064d\\u060c \\u0628\\u0652\\u062f\\u064e\\u0621\\u0651\\u0627\\u064b\\u064d \\u0628\\u064d\\u0627\\u0644\\u062d\\u062f\\u064a\\u064c\\u062b\\u064b \\u064d\\u0639\\u064b\\u0646 \\u0628\\u064d\\u0646\\u0627\\u0652\\u0621\\u064d \\u0627\\u0644\\u0628\\u064d\\u0646\\u0649\\u0650 \\u0627\\u0651\\u0644\\u0650\\u062a\\u064c\\u062d\\u062a\\u064c\\u064a\\u064c\\u0629\\u0650 \\u064d\\u0644\\u0644\\u0645\\u0624\\u064b\\u0633\\u0633\\u0650\\u0627\\u062a \\u0650\\u0627\\u0644\\u062b\\u064e\\u0642\\u0652\\u0627\\u0641\\u064a\\u064d\\u0629\\u064c \\u064f\\u0648\\u0627\\u064e\\u0644\\u0625\\u0651\\u0639\\u064e\\u0644\\u0627\\u0645\\u0650\\u064a\\u0629\\u0651 \\u064c\\u0627\\u0644\\u062a\\u064a \\u0623\\u064d\\u0633\\u0651\\u0647\\u0645\\u064f\\u062a\\u060c \\u064d\\u0639\\u064f\\u0628\\u0631 \\u0651\\u062a\\u0627\\u0652\\u0631\\u064a\\u062e\\u0647\\u0627\\u0652\\u060c\\u064e \\u0641\\u064c\\u064a\\u0651 \\u0652\\u062a\\u064b\\u0641\\u0639\\u064a\\u0644 \\u0627\\u0651\\u0644\\u0639\\u0650\\u0645\\u064b\\u0644\\u064b \\u0627\\u064e\\u0644\\u062b\\u0650\\u0642\\u064e\\u0627\\u0650\\u0641\\u0651\\u064a \\u0641\\u064f\\u064a \\u0627\\u064d\\u0644\\u0634\\u0627\\u0652\\u0631\\u0642\\u0629\\u060c \\u0627\\u0646\\u0637\\u0644\\u064d\\u0627\\u0642\\u0627\\u064b\\u0651 \\u0645\\u0650\\u0646\\u064b \\u062a\\u0623\\u0633\\u064f\\u064a\\u0633\\u0651 \\u064c\\u062f\\u0627\\u0652\\u0626\\u0631\\u0629\\u064d \\u0652\\u0627\\u0650\\u0644\\u064f\\u062b\\u0642\\u064b\\u0627\\u0641\\u0629 \\u064d\\u0648\\u0627\\u064c\\u0644\\u0625\\u0651\\u0639\\u0644\\u0627\\u0650\\u0645\\u064f\\u060c\\u0651 \\u0648\\u0650\\u062a\\u0644\\u0641\\u0632\\u064a\\u0648\\u064b\\u0646 \\u0627\\u0644\\u064f\\u0634\\u0627\\u064c\\u0631\\u0642\\u0652\\u0629\\u0650 \\u0648\\u0645\\u0627 \\u062a\\u062e\\u064d\\u0644\\u064c\\u0644\\u064f \\u0630\\u0644\\u0643\\u064c \\u064e\\u0645\\u064b\\u0646\\u064f \\u0625\\u064b\\u0628\\u0631\\u0627\\u0632\\u064f \\u0648\\u062a\\u0634\\u062c\\u064c\\u064a\\u064f\\u0639\\u064d \\u064f\\u0644\\u0644\\u062b\\u0642\\u064b\\u0627\\u064c\\u0641\\u0629 \\u0648\\u064b\\u0627\\u064b\\u0644\\u0641\\u0646\\u064e\\u0648\\u064d\\u0646\\u064e \\u0645\\u0646\\u064f \\u064f\\u062e\\u0644\\u0627\\u0644 \\u064b\\u0627\\u064f\\u0644\\u064f\\u0645\\u064d\\u0639\\u064d\\u0627\\u0631\\u0636 \\u0627\\u0644\\u0651\\u0641\\u064f\\u0646\\u064a\\u064b\\u0629\\u064f \\u0648\\u064d\\u0627\\u0644\\u0650\\u0641\\u0639\\u0627\\u064e\\u0644\\u064a\\u0627\\u062a\\u0652 \\u064f\\u0627\\u0652\\u0644\\u064c\\u062b\\u0642\\u064b\\u0627\\u0651\\u0641\\u064b\\u064a\\u0629 \\u064f\\u0627\\u0644\\u062a\\u064f\\u064a \\u0651\\u062a\\u0635\\u0628 \\u064d\\u0641\\u064a \\u0642\\u0627\\u064b\\u0644\\u064b\\u0628\\u0650 \\u0627\\u0644\\u0646\\u064c\\u0647\\u064b\\u0648\\u0636\\u064b \\u0644\\u064b\\u0634\\u0627\\u064b\\u0631\\u064d\\u0642\\u0650\\u0629\\u064d \\u0627\\u0644\\u0652\\u062b\\u0642\\u064f\\u0627\\u0641\\u0652\\u0629\\u064e \\u064d\\u0648\\u0627\\u0644\\u0645\\u064c\\u0639\\u0631\\u0641\\u064e\\u0629\\u064c\\u060c \\u0645\\u064c\\u0627 \\u064a\\u064c\\u062c\\u064b\\u064a\\u0628 \\u0628\\u064b\\u0634\\u0643\\u0644\\u0650 \\u0642\\u064b\\u0637\\u0639\\u0650\\u064a \\u064d\\u0639\\u064c\\u0646\\u064d \\u0627\\u0651\\u0644\\u064e\\u062a\\u064e\\u0633\\u0651\\u0627\\u0624\\u0644 \\u0652\\u0627\\u0644\\u0645\\u0652\\u0631\\u0643\\u0632\\u064b\\u064a\\u0650 \\u0644\\u0645\\u0627\\u0651\\u0630\\u0627\\u0651 \\u064f\\u0627\\u0650\\u0644\\u0634\\u0627\\u0651\\u0631\\u0642\\u0629\\u0651 \\u0639\\u0627\\u064b\\u0635\\u0645\\u0629\\u064f \\u064f\\u0627\\u064d\\u0644\\u064d\\u062b\\u0650\\u0642\\u0627\\u0641\\u064b\\u0629\\u064c \\u0627\\u064d\\u0644\\u0651\\u0625\\u0633\\u064b\\u0644\\u064c\\u0627\\u0645\\u064a\\u0629\\u064e\\u061f \\u064b\\u0648\\u064d\\u0623\\u0650\\u0634\\u0652\\u0627\\u0631 \\u064c\\u0627\\u0644\\u0645\\u062d\\u0627\\u064b\\u0636\\u0651\\u0631\\u064e \\u0652\\u0625\\u064f\\u0644\\u0649 \\u064e\\u0627\\u064d\\u0644\\u064d\\u062d\\u0631\\u0627\\u0643 \\u064d\\u0627\\u0644\\u062b\\u0642\\u0627\\u064e\\u0641\\u064a\\u0650 \\u0650\\u0627\\u0644\\u064b\\u0646\\u064f\\u0634\\u0637\\u0651 \\u0627\\u0644\\u0630\\u064c\\u064a\\u0652 \\u0634\\u0643\\u064b\\u0644\\u064f \\u0652\\u0627\\u0651\\u0644\\u064d\\u0628\\u0650\\u0648\\u0651\\u0627\\u0643\\u064f\\u064a\\u0631 \\u064c\\u0627\\u064d\\u0644\\u064b\\u0623\\u064c\\u0648\\u0644\\u0649\\u064c \\u0651\\u0644\\u0644\\u0651\\u0639\\u0645\\u0651\\u0644 \\u0627\\u0644\\u062b\\u0642\\u0627\\u0641\\u064a \\u0651\\u0641\\u064c\\u064a\\u064b \\u0627\\u0644\\u0652\\u0634\\u0651\\u0627\\u0651\\u0631\\u064f\\u0642\\u0629\\u064c\\u060c\\u0652 \\u0650\\u0627\\u064d\\u0644\\u0630\\u0651\\u064a\\u0651 \\u0634\\u0645\\u064c\\u0644 \\u0643\\u0627\\u0641\\u0629\\u064f \\u064e\\u0627\\u0644\\u064b\\u062c\\u0648\\u0627\\u0646\\u064c\\u0628\\u064c \\u0650\\u0628\\u0645\\u0627\\u064f \\u064b\\u0641\\u0652\\u064a\\u0652\\u0647\\u0627\\u064d \\u0625\\u0646\\u0652\\u0634\\u064c\\u0627\\u0621 \\u0651\\u0627\\u0644\\u0645\\u0631\\u0627\\u0643\\u0652\\u0632 \\u0648\\u0627\\u064e\\u0644\\u0645\\u062f\\u064f\\u0627\\u064d\\u0631\\u0633 \\u064b\\u0648\\u0650\\u0627\\u064c\\u0644\\u0651\\u062c\\u0652\\u0627\\u0645\\u0652\\u0639\\u0651\\u0627\\u062a\\u0652 \\u064f\\u0648\\u0650\\u0627\\u0644\\u0641\\u064f\\u0646\\u0650\\u0648\\u064e\\u0646\\u0652 \\u064b\\u0648\\u064b\\u0627\\u0644\\u0652\\u0645\\u0651\\u0633\\u064e\\u0627\\u0650\\u0631\\u062d \\u064d\\u0644\\u062a\\u0651\\u0639\\u0632\\u064b\\u064a\\u0632 \\u0627\\u0644\\u0641\\u0639\\u0644\\u064b \\u0627\\u0644\\u064b\\u062b\\u064e\\u0642\\u064e\\u0627\\u0651\\u0641\\u064c\\u064a\\u064d \\u0648\\u064c\\u062a\\u0633\\u0631\\u064a\\u064c\\u0639\\u064f \\u0639\\u062c\\u064f\\u0644\\u0629\\u064f \\u0627\\u0644\\u0650\\u0646\\u064e\\u0634\\u0627\\u0637\\u0652 \\u064d\\u0627\\u0644\\u062b\\u0642\\u064c\\u0627\\u0651\\u0641\\u0650\\u064a \\u064b\\u0641\\u064a \\u0627\\u064d\\u0644\\u0651\\u0634\\u0627\\u064b\\u0631\\u0642\\u0629\\u0650\\u060c\\u0651 \\u0643\\u0645\\u064c\\u0627 \\u064d\\u062a\\u0650\\u0645 \\u062a\\u062e\\u0635\\u064a\\u0635\\u064f \\u064f\\u0645\\u064c\\u0633\\u0650\\u0627\\u062d\\u0629 \\u0645\\u064c\\u0639\\u062a\\u064b\\u0628\\u0651\\u0631\\u064f\\u0629\\u064e \\u064b\\u0644\\u0644\\u0637\\u0641\\u0644\\u064f \\u0648\\u062b\\u0642\\u0652\\u0627\\u0652\\u0641\\u064c\\u062a\\u0647\\u064c\\u060c\\u0650 \\u0645\\u0646\\u0651 \\u062e\\u0652\\u0644\\u064f\\u0627\\u0644 \\u0625\\u0646\\u0634\\u064b\\u0627\\u0652\\u0621\\u064e \\u0651\\u0645\\u064f\\u0631\\u064c\\u0627\\u0643\\u0652\\u0632 \\u064c\\u0645\\u064c\\u0643\\u062a\\u0628\\u0652\\u0627\\u064c\\u062a \\u064e\\u0627\\u0644\\u064e\\u0623\\u0650\\u0637\\u064d\\u0641\\u064c\\u0627\\u0644\\u060c \\u0648\\u064d\\u0645\\u064d\\u0631\\u0652\\u0627\\u0643\\u0632 \\u064e\\u0627\\u064c\\u0644\\u0623\\u0637\\u0641\\u064c\\u0627\\u064d\\u0644\\u064d\\u060c \\u062b\\u0645\\u064c \\u0645\\u0652\\u0631\\u064d\\u0627\\u0643\\u0632 \\u064b\\u0627\\u064e\\u0644\\u0652\\u0646\\u0627\\u0634\\u0651\\u0626\\u0629\\u060c \\u0641\\u0645\\u0652\\u062c\\u064f\\u0644\\u0633 \\u064b\\u0623\\u064e\\u0639\\u0644\\u0649\\u064e \\u0652\\u0644\\u064f\\u0644\\u0637\\u0641\\u064e\\u0644\\u0652 \\u0625\\u064e\\u0644\\u0649 \\u064c\\u063a\\u064a\\u0631 \\u0630\\u064b\\u0644\\u0643 \\u0651\\u0645\\u0646 \\u0627\\u0644\\u0633\\u064b\\u064a\\u0627\\u0633\\u064c\\u0627\\u062a \\u064b\\u0627\\u0644\\u0652\\u062a\\u064a\\u064c \\u064e\\u0627\\u0650\\u0639\\u0650\\u062a\\u064b\\u0645\\u064b\\u062f\\u0647\\u0650\\u0627\\u064e \\u064d\\u0635\\u0651\\u0627\\u0652\\u062d\\u0628\\u0650 \\u0652\\u0627\\u0652\\u0644\\u0633\\u064c\\u0645\\u0648\\u064f \\u064b\\u0627\\u064b\\u0644\\u0650\\u0634\\u064f\\u064a\\u064d\\u062e \\u064f\\u0627\\u0644\\u062f\\u064b\\u0643\\u062a\\u0648\\u064f\\u0631 \\u064b\\u0633\\u064d\\u0644\\u064f\\u0637\\u0627\\u0646 \\u0628\\u0646 \\u0645\\u064e\\u062d\\u064c\\u0645\\u062f \\u0627\\u0650\\u0644\\u0642\\u0652\\u0627\\u0633\\u0645\\u064a\\u0652 \\u064e\\u0639\\u064d\\u0636\\u0648\\u064f \\u0627\\u0644\\u0645\\u062c\\u0650\\u0644\\u0633\\u064b \\u064c\\u0627\\u064d\\u0644\\u064b\\u0623\\u0639\\u0651\\u0644\\u0652\\u0649 \\u062d\\u064b\\u0627\\u0643\\u064c\\u0645\\u064e \\u064f\\u0627\\u064e\\u0644\\u0634\\u064e\\u0627\\u0650\\u0631\\u0642\\u064c\\u0629\\u0652 \\u064e\\u0644\\u0644\\u0650\\u0631\\u0642\\u0652\\u064a\\u064e \\u064c\\u0628\\u062b\\u0650\\u0642\\u064c\\u0627\\u064f\\u0641\\u064d\\u0629\\u0652 \\u0627\\u0652\\u0644\\u0637\\u0650\\u0641\\u0644 \\u0648\\u0652\\u062a\\u0646\\u064d\\u0645\\u064a\\u0651\\u0629 \\u0652\\u0645\\u064c\\u062f\\u064f\\u0627\\u064e\\u0631\\u064c\\u0643\\u0652\\u0647\\u0652 \\u0648\\u064d\\u0642\\u064e\\u062f\\u0631\\u0652\\u0627\\u0651\\u062a\\u064d\\u0647\\u064b \\u0650. \\u0648\\u064b\\u0630\\u0647\\u064d\\u0628\\u064b \\u0627\\u064c\\u0644\\u0645\\u0650\\u062d\\u0651\\u0627\\u0650\\u0636\\u064b\\u0631 \\u0625\\u064d\\u0644\\u0650\\u0649\\u0650 \\u064f\\u0623\\u0646\\u064e \\u064f\\u0627\\u0644\\u0652\\u0633\\u064c\\u064a\\u0651\\u0627\\u0633\\u0650\\u0627\\u062a\\u064d \\u0627\\u0644\\u062b\\u0652\\u0642\\u0627\\u0641\\u064a\\u0629\\u064b \\u0648\\u0627\\u0644\\u062a\\u064d\\u0648\\u062c\\u064c\\u064a\\u064b\\u0647\\u0627\\u062a\\u0650 \\u0650\\u0627\\u064b\\u0644\\u064d\\u0646\\u064e\\u064a\\u0651\\u0631\\u0629\\u064c \\u0644\\u064e\\u0635\\u064c\\u0627\\u062d\\u0650\\u0628\\u064c \\u0627\\u0644\\u0633\\u0645\\u0648 \\u064d\\u062d\\u0627\\u064c\\u0643\\u0652\\u0645\\u064b \\u0627\\u064d\\u0644\\u0634\\u064c\\u0627\\u0631\\u064f\\u0642\\u0629 \\u064b\\u062c\\u064c\\u0639\\u0644\\u0650\\u062a\\u064f \\u0650\\u0645\\u064e\\u0646 \\u0627\\u0651\\u0644\\u0639\\u064d\\u0645\\u064c\\u0644\\u064e \\u0627\\u0644\\u064d\\u062b\\u064b\\u0642\\u0627\\u064d\\u0641\\u064f\\u064a\\u0652 \\u0641\\u064a\\u064e \\u0627\\u0652\\u0644\\u064d\\u0634\\u0627\\u0631\\u064f\\u0642\\u0651\\u0629\\u064c \\u0639\\u0645\\u0644\\u0627\\u064b\\u0650 \\u0646\\u064e\\u0634\\u064d\\u0637\\u0651\\u0627\\u064b \\u0648\\u0651\\u0642\\u0651\\u0648\\u0651\\u064a\\u0652\\u0627\\u064b\\u064c \\u064e\\u0633\\u0648\\u064f\\u0627\\u0621 \\u064f\\u0645\\u064d\\u0646 \\u0652\\u062e\\u0652\\u0644\\u0650\\u0627\\u0644 \\u062a\\u064d\\u0648\\u064e\\u062c\\u0650\\u064a\\u0647\\u0627\\u064c\\u062a\\u064c \\u0650\\u0633\\u064e\\u0645\\u0651\\u0648\\u0647 \\u064c\\u0644\\u064e\\u0644\\u0627\\u0652\\u0631\\u062a\\u064d\\u0642\\u0651\\u0627\\u0621 \\u064c\\u0628\\u0627\\u0651\\u0644\\u064f\\u0641\\u0646\\u064f \\u0627\\u064d\\u0644\\u064d\\u062a\\u0634\\u064f\\u0643\\u064a\\u064e\\u0644\\u064e\\u064a\\u0652 \\u0648\\u064b\\u062a\\u0634\\u064f\\u062c\\u064d\\u064a\\u0639 \\u064b\\u0627\\u0652\\u0644\\u0641\\u0646\\u0627\\u0650\\u0646\\u064a\\u0646\\u060c\\u064c \\u0648\\u064f\\u0627\\u0642\\u062a\\u0646\\u064d\\u0627\\u0621\\u064c \\u0652\\u0623\\u064c\\u0639\\u064e\\u0645\\u064e\\u0627\\u0644 \\u0641\\u064b\\u0646\\u0651\\u064a\\u064e\\u0629\\u064e \\u0644\\u0645\\u0635\\u0650\\u0644\\u0652\\u062d\\u064d\\u0629\\u064f \\u064f\\u0645\\u062a\\u064b\\u062d\\u064d\\u0641\\u0651 \\u0627\\u0644\\u064b\\u0634\\u0627\\u0631\\u0651\\u0642\\u0629\\u060c \\u0648\\u064f\\u0625\\u064c\\u0646\\u062c\\u0627\\u0632 \\u064e\\u0642\\u0652\\u0627\\u0639\\u0629 \\u064e\\u062e\\u064f\\u0627\\u0651\\u0635\\u0629\\u0652 \\u064f\\u0628\\u0627\\u064f\\u0644\\u0622\\u062b\\u0650\\u0627\\u0651\\u0631 \\u0627\\u064b\\u0644\\u0625\\u0633\\u064d\\u0644\\u064c\\u0627\\u064d\\u0645\\u0651\\u064a\\u0629\\u064b \\u064f\\u0641\\u064e\\u064a \\u0645\\u062a\\u062d\\u0641 \\u0627\\u0652\\u0644\\u064d\\u0634\\u0627\\u0651\\u0631\\u0642\\u064e\\u0629\\u060c\\u064c \\u064d\\u0623\\u064b\\u0645\\u064e \\u0645\\u064f\\u0646 \\u062e\\u064c\\u0644\\u0627\\u0651\\u0644 \\u0650\\u0627\\u0633\\u064b\\u062a\\u0643\\u0645\\u0651\\u0627\\u064d\\u0644 \\u0627\\u0652\\u0644\\u0645\\u0652\\u0634\\u0652\\u0631\\u0648\\u0639\\u0627\\u064d\\u062a\\u064c \\u0627\\u0644\\u062b\\u0652\\u0642\\u0651\\u0627\\u0652\\u0641\\u064a\\u0629\\u064c \\u0648\\u064e\\u062a\\u0631\\u0645\\u064a\\u0645 \\u0627\\u0651\\u0644\\u0645\\u0628\\u0627\\u0646\\u064c\\u064a\\u064f \\u0627\\u0644\\u064d\\u062a\\u0650\\u0631\\u0627\\u0650\\u062b\\u064a\\u0650\\u0629 \\u0652\\u0648\\u063a\\u064a\\u0631\\u0647\\u064b\\u0627\\u064f \\u0645\\u064f\\u0646 \\u0627\\u064e\\u0644\\u0651\\u0623\\u0639\\u0651\\u0645\\u0627\\u0644 \\u064c\\u0648\\u0650\\u0627\\u0644\\u0623\\u064f\\u0646\\u0634\\u064e\\u0637\\u0629 \\u0652\\u0627\\u0644\\u062a\\u064a \\u062a\\u0635\\u0628 \\u0641\\u064a\\u064d \\u064e\\u0635\\u0645\\u064e\\u064a\\u0651\\u0645\\u0651 \\u064b\\u0627\\u0644\\u0650\\u0641\\u0639\\u0651\\u0644\\u064d \\u0627\\u064f\\u0644\\u064e\\u062b\\u064c\\u0642\\u0627\\u064b\\u0641\\u0651\\u064a .\\u0648\\u0623\\u0652\\u0643\\u064e\\u062f\\u064d \\u0627\\u0652\\u0644\\u0650\\u0645\\u0650\\u062d\\u0650\\u0627\\u064c\\u0636\\u0631 \\u0623\\u064d\\u0646 \\u0627\\u064c\\u0644\\u064e\\u062f\\u064e\\u0648\\u0652\\u0631\\u0629\\u0652 \\u064b\\u0627\\u0652\\u0644\\u064c\\u0623\\u064c\\u0648\\u064c\\u0644\\u064f\\u0649\\u0651 \\u0644\\u0645\\u064e\\u0639\\u0631\\u064d\\u0636\\u064d \\u0627\\u0644\\u0650\\u0643\\u0650\\u062a\\u0651\\u0627\\u0628\\u060c \\u0627\\u0644\\u0630\\u064d\\u064a \\u0623\\u0635\\u0651\\u0628\\u062d \\u0627\\u0651\\u0644\\u0652\\u064a\\u064f\\u0648\\u064c\\u0645\\u0651 \\u0648\\u062c\\u064b\\u0647\\u0629 \\u0639\\u0627\\u064b\\u0644\\u0651\\u0645\\u064a\\u0650\\u0629 \\u0644\\u0651\\u0644\\u0643\\u062a\\u0627\\u064d\\u0628\\u064e \\u064c\\u0648\\u0627\\u0644\\u0650\\u0645\\u0641\\u064e\\u0643\\u064b\\u0631\\u064a\\u0650\\u0646 \\u064e\\u0645\\u0650\\u0646\\u0650 \\u0623\\u0650\\u0646\\u064d\\u062d\\u064d\\u0627\\u064d\\u0621\\u064c \\u0627\\u064e\\u0644\\u0650\\u0639\\u0651\\u0627\\u0651\\u0644\\u0645\\u0652 \\u0638\\u0652\\u0644\\u0627\\u0644\\u0647\\u064c \\u0627\\u0644\\u0650\\u0648\\u0627\\u0631\\u064f\\u0641\\u0629\\u064e\\u060c\\u064f \\u0634\\u064d\\u0643\\u064d\\u0644\\u062a\\u0650 \\u064d\\u0646\\u064f\\u0642\\u064b\\u0637\\u0629 \\u064f\\u0627\\u064f\\u0646\\u064c\\u0637\\u0644\\u064e\\u0627\\u0652\\u0642 \\u064f\\u0648\\u062a\\u062d\\u0648\\u0650\\u0651\\u064d\\u0644 \\u0641\\u0652\\u064a\\u064d \\u0627\\u064e\\u0644\\u0645\\u0634\\u0652\\u0631\\u0652\\u0648\\u0639 \\u0652\\u0627\\u0644\\u0651\\u062b\\u0642\\u0652\\u0627\\u0652\\u0641\\u064d\\u064a\\u064f \\u0652\\u0644\\u064d\\u0635\\u0627\\u062d\\u0628 \\u064c\\u0627\\u064d\\u0644\\u064e\\u0633\\u0651\\u0645\\u0650\\u0648\\u064d \\u0650\\u062d\\u064d\\u0627\\u0643\\u0645\\u064f \\u0627\\u0652\\u0644\\u0634\\u0652\\u0627\\u064b\\u0631\\u0642\\u0651\\u0629\\u060c\\u0652 \\u0643\\u0652\\u0645\\u064b\\u0627\\u064e \\u064c\\u062a\\u0632\\u064f\\u0627\\u064d\\u0645\\u0646 \\u064c\\u0645\\u064c\\u0639\\u0651 \\u064e\\u0647\\u0650\\u0630\\u0647 \\u0627\\u0644\\u062f\\u0648\\u0631\\u0651\\u0629 \\u0627\\u064b\\u0641\\u0652\\u062a\\u062a\\u0627\\u062d \\u0645\\u064f\\u0643\\u064b\\u062a\\u0628\\u0652\\u0629\\u064e \\u0627\\u0644\\u064b\\u0645\\u064f\\u062d\\u0650\\u0645\\u0651\\u0648\\u062f\\u064e \\u0652(\\u0651\\u0627\\u0644\\u0652\\u0623\\u064b\\u0647\\u064f\\u0644\\u0650\\u064a\\u0629\\u0652)\\u0652\\u060c\\u0652 \\u0651\\u062b\\u064c\\u0645 \\u064b\\u0627\\u0644\\u0650\\u0645\\u0651\\u0631\\u064f\\u0643\\u0652\\u0632\\u0651 \\u064e\\u0627\\u0652\\u0644\\u064c\\u062b\\u0651\\u0642\\u0627\\u0641\\u0652\\u064a\\u064d \\u064f\\u0641\\u064a\\u0645\\u0627\\u0652 \\u0628\\u0639\\u062f\\u064d .\\u0652\\u0648\\u0651\\u0627\\u064c\\u0639\\u062a\\u0628\\u064d\\u0631 \\u0627\\u064d\\u0644\\u064c\\u0645\\u062d\\u064e\\u0627\\u064b\\u0636\\u0651\\u0631 \\u064b\\u0623\\u0646 \\u064b\\u062d\\u064b\\u0632\\u0645\\u0629 \\u0652\\u0627\\u0652\\u0644\\u064c\\u0645\\u064d\\u0647\\u064d\\u0631\\u062c\\u064d\\u0627\\u064d\\u0646\\u0627\\u0651\\u062a \\u0652\\u0648\\u0651\\u0627\\u0644\\u064f\\u0641\\u064b\\u0639\\u0650\\u0627\\u0644\\u064a\\u0650\\u0627\\u0651\\u062a\\u064b \\u0627\\u0644\\u0652\\u062a\\u064a\\u0650 \\u062a\\u0642\\u0652\\u0627\\u0650\\u0645 \\u0652\\u0639\\u0644\\u0651\\u0649 \\u0645\\u062f\\u0627\\u064c\\u0631\\u0650 \\u0627\\u064e\\u0644\\u0639\\u0627\\u0645\\u0650 \\u0650\\u0641\\u064a \\u064c\\u0627\\u0644\\u064e\\u0634\\u0627\\u064d\\u0631\\u0642\\u0629\\u064f\\u060c\\u0652 \\u0651\\u0648\\u0645\\u0627 \\u064a\\u0651\\u062a\\u064c\\u062e\\u0644\\u0650\\u0644\\u0647\\u064f\\u0627\\u0651 \\u0645\\u0646 \\u0623\\u0646\\u0634\\u0637\\u064c\\u0629\\u064d \\u062b\\u0642\\u064d\\u0627\\u0641\\u0652\\u064a\\u0629\\u064f \\u064c\\u0645\\u0651\\u062a\\u064f\\u0646\\u0648\\u064d\\u0639\\u0652\\u0629 \\u064d\\u062a\\u064c\\u0634\\u064b\\u0643\\u0652\\u0644\\u064f \\u064f\\u0623\\u064d\\u0648\\u062c\\u064c \\u0650\\u0627\\u064f\\u0644\\u062d\\u0631\\u064d\\u0627\\u0652\\u0643\\u0651 \\u064f\\u0627\\u064e\\u0644\\u062b\\u0642\\u0627\\u0641\\u064b\\u064a\\u064f\\u060c\\u064d \\u0648\\u0631\\u0627\\u0651\\u0641\\u0652\\u062f\\u0652\\u0627\\u064f\\u064b\\u0651 \\u0623\\u0633\\u0627\\u064d\\u0633\\u064d\\u064a\\u064e\\u0627\\u064c\\u064b \\u0644\\u0644\\u064c\\u062a\\u0641\\u0652\\u0627\\u0639\\u0644\\u0651 \\u0651\\u0648\\u0652\\u0627\\u0644\\u0652\\u062a\\u0646\\u0627\\u0650\\u063a\\u0645 \\u0627\\u0644\\u064b\\u062b\\u0650\\u0642\\u0627\\u064b\\u0641\\u064c\\u064a \\u064d\\u0641\\u064a\\u0651 \\u0625\\u0645\\u0627\\u0631\\u0652\\u0629\\u0652 \\u062a\\u0632\\u064c\\u062f\\u0651\\u0627\\u064c\\u0646 \\u0648\\u062a\\u0652\\u0632\\u062f\\u064d\\u0647\\u0651\\u064a\\u0650 \\u0643\\u0644 \\u064e\\u062d\\u064e\\u064a\\u064e\\u0646 \\u0628\\u0651\\u0644\\u0650\\u0641\\u064f\\u062a\\u064c\\u0629\\u064b \\u0643\\u064d\\u0631\\u064a\\u0645\\u0629\\u0651 \\u0648\\u064d\\u0633\\u064c\\u0627\\u064e\\u0646\\u062d\\u0629 \\u064e\\u0637\\u064a\\u064e\\u0628\\u0629 \\u0645\\u0650\\u0646 \\u0652\\u062d\\u0627\\u064e\\u0643\\u064b\\u0645 \\u0645\\u062b\\u0642\\u0641\\u0652\\u060c \\u064a\\u064e\\u062d\\u064b\\u0645\\u064d\\u0644\\u0652 \\u0639\\u0644\\u0649 \\u0639\\u064d\\u0627\\u064b\\u062a\\u064f\\u0642\\u0647 \\u064b\\u0627\\u064e\\u0644\\u064e\\u0646\\u0651\\u0647\\u064f\\u0648\\u064d\\u0636 \\u064f\\u0628\\u0652\\u0627\\u064c\\u0644\\u062b\\u064d\\u0642\\u064f\\u0627\\u064c\\u0641\\u064b\\u0629\\u064c \\u0648\\u064f\\u0627\\u064c\\u0644\\u064b\\u0645\\u064e\\u0639\\u064b\\u0631\\u0650\\u0641\\u0629 \\u064b.\\u0648\\u062e\\u0651\\u0644\\u0650\\u0635 \\u064f\\u0627\\u0650\\u0644\\u0650\\u0645\\u062d\\u064b\\u0627\\u0636\\u0631 \\u0625\\u064e\\u0644\\u0651\\u0649\\u0652 \\u0623\\u064b\\u0646 \\u064c\\u062b\\u064e\\u0645\\u0629\\u0651 \\u064b\\u062b\\u0644\\u0627\\u064e\\u062b\\u064c \\u0646\\u0642\\u0651\\u0627\\u0637 \\u064e\\u0644\\u064b\\u0644\\u0650\\u0627\\u064b\\u0631\\u064c\\u062a\\u0642\\u0650\\u0627\\u0621\\u064b \\u064e\\u0628\\u064d\\u0627\\u064d\\u0644\\u0641\\u0643\\u0652\\u0631\\u0629 \\u064d\\u0627\\u064d\\u0644\\u062b\\u0642\\u0651\\u0627\\u0641\\u064d\\u064a\\u064d\\u0629\\u0650 \\u0641\\u064e\\u064a\\u064d \\u064f\\u0627\\u0644\\u064c\\u0634\\u064d\\u0627\\u0631\\u0652\\u0642\\u0629 \\u0623\\u064d\\u0648\\u0644\\u0650\\u0647\\u0627 \\u064d\\u062a\\u0652\\u0623\\u064b\\u0633\\u064e\\u064a\\u0633 \\u0650\\u062f\\u0652\\u0627\\u0652\\u0626\\u0650\\u0631\\u0652\\u0629\\u064e \\u064e\\u0627\\u0644\\u062b\\u0642\\u0651\\u0627\\u0641\\u0629 \\u0648\\u064e\\u0627\\u0650\\u0644\\u064e\\u0625\\u0639\\u0650\\u0644\\u0627\\u0645\\u0651\\u060c \\u064c\\u0648\\u0650\\u062b\\u0652\\u0627\\u0646\\u064a\\u0647\\u0651\\u0627\\u064c \\u0627\\u062c\\u062a\\u0651\\u0645\\u064d\\u0627\\u064d\\u0639 \\u064e\\u0635\\u0627\\u062d\\u0650\\u0628\\u0650 \\u0627\\u0651\\u0644\\u0651\\u0633\\u0651\\u0645\\u0648\\u064d \\u0650\\u062d\\u0627\\u064f\\u0643\\u064b\\u0645 \\u0627\\u0644\\u064f\\u0634\\u0652\\u0627\\u064b\\u0631\\u0642\\u064d\\u0629\\u0651 \\u064c\\u0628\\u0643\\u064f\\u0648\\u0650\\u0627\\u062f\\u064c\\u0631 \\u0627\\u0644\\u064b\\u062f\\u064b\\u0627\\u0650\\u0626\\u0631\\u064b\\u0629 \\u064c\\u0648\\u0642\\u0651\\u062f\\u064f\\u0651\\u0645 \\u0641\\u0651\\u064a\\u0647\\u064f \\u0645\\u062c\\u0650\\u0645\\u064b\\u0648\\u064d\\u0639\\u0651\\u0629\\u064d \\u0645\\u064f\\u0646 \\u0652\\u0627\\u064e\\u0644\\u0633\\u064a\\u0651\\u0627\\u0651\\u0633\\u0627\\u062a \\u0651\\u0627\\u0644\\u062b\\u0642\\u064c\\u0627\\u064b\\u0641\\u064a\\u064e\\u0629 \\u0648\\u064c\\u0627\\u0644\\u062e\\u0651\\u0637\\u0637\\u064b \\u0627\\u0644\\u064d\\u062a\\u0646\\u0645\\u064e\\u0648\\u064a\\u0650\\u0629 \\u0651\\u0648\\u062f\\u0652\\u0639\\u0627 \\u064c\\u0633\\u0650\\u0645\\u064b\\u0648\\u064c\\u0647 \\u064c\\u0625\\u0650\\u0644\\u064f\\u0649: \\u0627\\u0644\\u0627\\u0647\\u0651\\u062a\\u064f\\u0645\\u0627\\u064f\\u0645 \\u0628\\u064b\\u0627\\u0650\\u0644\\u064f\\u0645\\u0652\\u0633\\u0631\\u062d\\u060c\\u0652 \\u0648\\u064b\\u0627\\u0651\\u0644\\u0623\\u0637\\u064c\\u0631\\u0650 \\u0627\\u064d\\u0644\\u0651\\u0639\\u0627\\u064b\\u0645\\u0629 \\u064e\\u0644\\u0644\\u0650\\u062b\\u064e\\u0642\\u0627\\u064d\\u0641\\u0629\\u064d\\u060c\\u0651 \\u0651\\u0627\\u064c\\u0644\\u0650\\u0627\\u0631\\u064f\\u062a\\u0642\\u0627\\u064f\\u0621\\u064c \\u0628\\u064d\\u0627\\u0650\\u0644\\u0639\\u0645\\u0651\\u0644\\u064e \\u0627\\u0644\\u0651\\u062a\\u064d\\u0634\\u0643\\u0651\\u064a\\u0644\\u064a\\u0650\\u060c \\u0627\\u0651\\u0644\\u0627\\u064f\\u0647\\u064f\\u062a\\u0645\\u064d\\u0627\\u0645 \\u0650\\u0628\\u0650\\u0627\\u0651\\u0644\\u064b\\u0648\\u0639\\u0651\\u064a \\u064b\\u0648\\u0650\\u0627\\u0652\\u0644\\u064f\\u0630\\u0627\\u0626\\u0650\\u0642\\u0651\\u0629\\u064c \\u0627\\u0651\\u0644\\u062c\\u0650\\u0645\\u064d\\u0627\\u0652\\u0644\\u0652\\u064a\\u0652\\u0629\\u064f\\u060c \\u0627\\u064d\\u0644\\u0650\\u0627\\u0647\\u064f\\u062a\\u0645\\u0627\\u0651\\u0645\\u0652 \\u064f\\u0628\\u064d\\u0627\\u0644\\u0637\\u0641\\u0644\\u0651\\u060c \\u0651\\u062a\\u0637\\u0648\\u064a\\u0631\\u064b \\u0634\\u0628\\u0643\\u0629\\u0652 \\u0627\\u0644\\u0645\\u0643\\u062a\\u064b\\u0628\\u0627\\u062a\\u060c\\u0652 \\u064e\\u0627\\u0633\\u062a\\u0643\\u064f\\u0645\\u064d\\u0627\\u0644\\u064d \\u0639\\u064b\\u0645\\u064b\\u0644\\u0652\\u064a\\u0627\\u062a \\u064c\\u0627\\u0644\\u064f\\u062a\\u0631\\u0645\\u064a\\u0645\\u0650\\u060c \\u064b\\u0627\\u0644\\u064d\\u0627\\u0647\\u064b\\u062a\\u064c\\u0645\\u0652\\u0627\\u0650\\u0645\\u064d \\u0650\\u0628\\u062b\\u064e\\u0642\\u0652\\u0627\\u064b\\u0641\\u064e\\u0629\\u064d \\u0650\\u0627\\u064d\\u0644\\u0645\\u0650\\u0631\\u064b\\u0623\\u064b\\u0629 \\u0650\\u0648\\u064b\\u0627\\u064f\\u0644\\u064d\\u0637\\u0641\\u0652\\u0644 .\\u0652 \\u064c.\\u064d)\\u064f \\u064b\\u0648\\u062b\\u064b\\u0627\\u064d\\u0644\\u0651\\u062b\\u064b\\u0647\\u064e\\u0627\\u064f \\u064b\\u0625\\u0650\\u0639\\u0650\\u0644\\u0651\\u0627\\u064b\\u0646\\u064f \\u0627\\u0644\\u0634\\u0627\\u0631\\u0642\\u0629\\u064f \\u0651\\u0639\\u0627\\u064d\\u0635\\u064e\\u0645\\u0629\\u064c \\u0644\\u0644\\u064b\\u062b\\u0642\\u064b\\u0627\\u0641\\u0629 \\u064b\\u0627\\u0652\\u0644\\u064e\\u0639\\u0651\\u0631\\u0628\\u064a\\u0629\\u064f \\u064b\\u0641\\u064a\\u064b \\u0639\\u0627\\u0645 19\\u06529\\u064d8 \\u064e\\u0644\\u0645\\u0627 \\u062a\\u062a\\u0645\\u064b\\u064a\\u0632\\u064f \\u0628\\u064f\\u0647\\u064e \\u064e\\u0645\\u064b\\u0646\\u064b \\u064b\\u0646\\u064e\\u0634\\u0650\\u0627\\u0637 \\u0651\\u0648\\u064f\\u062d\\u064b\\u0631\\u0627\\u0643\\u064d \\u064f\\u062b\\u0642\\u0627\\u0641\\u064a\\u0650 \\u0645\\u0652\\u0645\\u064c\\u064a\\u0632\\u064d\\u060c\\u064e \\u064b\\u0641\\u0636\\u0644\\u0627\\u064b\\u064e \\u064f\\u0639\\u0650\\u0646 \\u062f\\u0648\\u0631\\u064b \\u064c\\u0627\\u0644\\u064d\\u062c\\u064f\\u0648\\u0627\\u0652\\u0626\\u064f\\u0632\\u0651 \\u0648\\u0635\\u0650\\u0646\\u064f\\u0627\\u062f\\u0651\\u064a\\u064b\\u0642 \\u064f\\u0627\\u064b\\u0644\\u062f\\u064d\\u0639\\u064c\\u0645\\u060c \\u064d\\u0648\\u0627\\u064f\\u0644\\u062f\\u0628\\u0652\\u0644\\u064b\\u0648\\u0645\\u0627\\u0633\\u064d\\u064a\\u0629 \\u064f\\u0627\\u0650\\u0644\\u064b\\u062b\\u0652\\u0642\\u0627\\u0641\\u0651\\u064a\\u0629\\u060c\\u064e \\u0648\\u0639\\u0650\\u062f\\u062f \\u0648\\u0652\\u0646\\u064c\\u0648\\u0639 \\u064b\\u0627\\u064b\\u0644\\u064c\\u062c\\u064b\\u0627\\u0645\\u0639\\u0650\\u0627\\u064c\\u062a \\u0648\\u0627\\u0644\\u064e\\u0645\\u0650\\u0631\\u0627\\u0652\\u0643\\u0632\\u060c \\u064f\\u0648\\u0627\\u064b\\u0644\\u0625\\u064f\\u062d\\u0635\\u064c\\u0627\\u0650\\u0621\\u064e \\u0627\\u0651\\u0644\\u0627\\u064b\\u062c\\u064f\\u062a\\u0645\\u0627\\u0650\\u0639\\u0650\\u064a\\u0651 \\u064b\\u0641\\u0651\\u064a \\u0628\\u0644\\u0648\\u064e\\u0631\\u0629\\u064f \\u064b\\u0648\\u064c\\u062a\\u064b\\u0631\\u0633\\u0652\\u064a\\u062e \\u064c\\u0645\\u064d\\u0643\\u064e\\u0627\\u0646\\u0629 \\u064b\\u0627\\u0644\\u0651\\u0634\\u0627\\u0651\\u0631\\u064e\\u0642\\u0629 \\u064d\\u0639\\u0627\\u0635\\u0645\\u0629\\u064f \\u0651\\u0644\\u064c\\u0644\\u0651\\u062b\\u064d\\u0642\\u0627\\u064d\\u0641\\u0629\\u064e \\u064c\\u0627\\u064c\\u0644\\u0652\\u0639\\u0650\\u0631\\u0628\\u064a\\u064c\\u0629 \\u0650\\u0648\\u0652\\u0627\\u0644\\u0625\\u064d\\u0633\\u0644\\u0627\\u0651\\u0645\\u064a\\u0652\\u0629\\u060c \\u0648\\u0643\\u064f\\u0644 \\u0651\\u0630\\u0652\\u0644\\u064b\\u0643 \\u064b\\u0628\\u062c\\u0647\\u062f \\u0651\\u0635\\u0651\\u0627\\u062d\\u0628\\u064d \\u0650\\u0627\\u0644\\u064d\\u0633\\u064e\\u0645\\u0648\\u0650 \\u064b\\u062d\\u0650\\u0627\\u064c\\u0643\\u064f\\u0645 \\u064d\\u0627\\u0644\\u0634\\u0627\\u0631\\u064c\\u0642\\u0629 \\u0627\\u064e\\u0644\\u0650\\u0630\\u064a\\u064b \\u064e\\u0639\\u0645\\u064f\\u0644 \\u0651\\u0648\\u064d\\u0644\\u0627 \\u064a\\u0632\\u064f\\u0627\\u064e\\u0644 \\u0628\\u0634\\u063a\\u0641\\u0652 \\u0648\\u062d\\u0628\\u064f \\u0639\\u064f\\u0644\\u0649\\u0652 \\u062a\\u064c\\u0639\\u0632\\u064b\\u064a\\u064b\\u0632\\u064e \\u064c\\u0627\\u064f\\u0644\\u064e\\u062a\\u0646\\u064b\\u0645\\u0651\\u064a\\u064d\\u0629\\u064c \\u0627\\u064e\\u0644\\u064b\\u062b\\u0642\\u064e\\u0627\\u064d\\u0641\\u064c\\u064a\\u0629 \\u064e\\u0641\\u0650\\u064a\\u064f \\u0627\\u0652\\u0644\\u064e\\u0634\\u0627\\u0631\\u064e\\u0642\\u064d\\u0629\\u064e \\u0645\\u0646\\u0650 \\u062e\\u064b\\u0644\\u0650\\u0627\\u0650\\u0644\\u0651 \\u0651\\u0633\\u064e\\u0646\\u0651 \\u0648\\u0625\\u0642\\u064b\\u0631\\u0651\\u0627\\u0631 \\u0645\\u062c\\u0645\\u0648\\u064c\\u0639\\u064e\\u0629\\u064e \\u0645\\u064f\\u0646\\u0651 \\u0627\\u064b\\u0644\\u0645\\u064d\\u0634\\u0650\\u0631\\u0648\\u0639\\u064f\\u0627\\u064f\\u062a\\u0652 \\u0627\\u0644\\u0651\\u062b\\u0650\\u0642\\u0627\\u0652\\u0641\\u0650\\u064a\\u0629\\u064c \\u0650\\u0627\\u0644\\u062a\\u064d\\u064a \\u064e\\u062a\\u064c\\u0647\\u064e\\u062f\\u064d\\u0641\\u064e \\u0625\\u064e\\u0644\\u0650\\u0649 \\u0652\\u062a\\u062d\\u0642\\u064a\\u0642 \\u0630\\u0644\\u0643\\u064d\\u060c\\u064b \\u0650\\u062d\\u062a\\u0650\\u0649 \\u0652\\u0623\\u064e\\u0635\\u0628\\u062d\\u062a\\u0651 \\u064c\\u0627\\u064e\\u0644\\u0634\\u0627\\u064c\\u0631\\u064c\\u0642\\u064b\\u0629\\u0652 \\u0627\\u0644\\u0651\\u064a\\u0648\\u064c\\u0645 \\u0651\\u0648\\u064f\\u062c\\u0647\\u064b\\u0629\\u064e \\u064a\\u0624\\u064f\\u0645\\u064e\\u0647\\u064c\\u0627 \\u0652\\u0627\\u0644\\u064e\\u0645\\u0641\\u064e\\u0643\\u0631\\u0651\\u0648\\u0651\\u0646 \\u0648\\u0650\\u0627\\u0644\\u0645\\u0651\\u062b\\u0642\\u0650\\u0641\\u0651\\u0648\\u0646 \\u0648\\u0627\\u0644\\u0645\\u064f\\u0628\\u064c\\u062f\\u0639\\u064c\\u0648\\u0650\\u0646 \\u0652\\u0648\\u0652\\u0627\\u0651\\u0644\\u064c\\u0643\\u062a\\u064c\\u0627\\u0628\\u0650 \\u064c\\u0645\\u0650\\u0646\\u064f \\u0634\\u062a\\u0650\\u0649\\u064e \\u0623\\u064f\\u0646\\u064d\\u062d\\u0627\\u0621 \\u0627\\u064d\\u0644\\u0652\\u0639\\u0627\\u0644\\u064f\\u0645\\u060c\\u0650 \\u064e\\u0634\\u064b\\u0627\\u0652\\u0645\\u062e\\u0651\\u0629\\u064e \\u0631\\u0627\\u0633\\u062e\\u064b\\u0629 \\u064c\\u0628\\u064c\\u0639\\u0651\\u0637\\u064c\\u0627\\u0626\\u064f\\u0647\\u0650\\u0627 \\u064e\\u0648\\u062a\\u064b\\u0642\\u0650\\u062f\\u0645\\u0647\\u064d\\u0627 \\u0650.\\u064f\"\n        ],\n        \"semantic_type\": \"\",\n        \"description\": \"\"\n      }\n    },\n    {\n      \"column\": \"label\",\n      \"properties\": {\n        \"dtype\": \"category\",\n        \"num_unique_values\": 7,\n        \"samples\": [\n          \"Culture\",\n          \"Finance\",\n          \"Sports\"\n        ],\n        \"semantic_type\": \"\",\n        \"description\": \"\"\n      }\n    }\n  ]\n}"
            }
          },
          "metadata": {},
          "execution_count": 13
        }
      ],
      "source": [
        "df"
      ]
    },
    {
      "cell_type": "code",
      "execution_count": 14,
      "metadata": {
        "id": "xLzBR_4SCZZ1"
      },
      "outputs": [],
      "source": [
        "df.drop_duplicates(inplace=True)"
      ]
    },
    {
      "cell_type": "code",
      "execution_count": 15,
      "metadata": {
        "colab": {
          "base_uri": "https://localhost:8080/"
        },
        "id": "_gzBzxX3C2B_",
        "outputId": "e01b9406-85f1-4bcd-e3aa-474c565ba371"
      },
      "outputs": [
        {
          "output_type": "execute_result",
          "data": {
            "text/plain": [
              "Index(['text', 'label'], dtype='object')"
            ]
          },
          "metadata": {},
          "execution_count": 15
        }
      ],
      "source": [
        "df.columns"
      ]
    },
    {
      "cell_type": "code",
      "execution_count": 16,
      "metadata": {
        "colab": {
          "base_uri": "https://localhost:8080/"
        },
        "id": "Yl78oS3_DWca",
        "outputId": "8069eed6-4f29-49d9-d29f-ee319d230165"
      },
      "outputs": [
        {
          "output_type": "execute_result",
          "data": {
            "text/plain": [
              "(39885, 2)"
            ]
          },
          "metadata": {},
          "execution_count": 16
        }
      ],
      "source": [
        "df.shape"
      ]
    },
    {
      "cell_type": "markdown",
      "metadata": {
        "id": "X_oEu0TkSMEB"
      },
      "source": [
        "# Data Cleaning and Preprocessing"
      ]
    },
    {
      "cell_type": "markdown",
      "metadata": {
        "id": "wSAFiozlRQHt"
      },
      "source": [
        "In this section, we will focus on cleaning and filtering the dataset, preparing it for the text classification task. We will implement the following steps:\n",
        "\n",
        "1. **Remove missing values**:\n",
        "   First, we eliminate any rows with missing values to ensure the dataset is complete and consistent.\n",
        "\n",
        "2. **Filter by text length (Bonus)**:\n",
        "   To maintain a uniform dataset, we will filter the text samples by a specified word count range. This ensures that the texts are neither too short to lack context nor too long to introduce unnecessary complexity.\n",
        "\n",
        "3. **Arabic stopwords loading**:\n",
        "   We load a list of Arabic stopwords to filter out commonly used but contextually insignificant words. This is an important step for improving the performance of the model, as stopwords do not contribute valuable information.\n",
        "\n",
        "4. **Text cleaning**:\n",
        "   We apply a series of text cleaning steps to standardize and simplify the text data. This involves:\n",
        "   - **Removing links (URLs)**: Any URLs present in the text are removed as they are not meaningful for classification purposes.\n",
        "   - **Removing special characters and punctuation**: This step removes any non-alphabetical characters, ensuring the text only contains meaningful words.\n",
        "   - **Removing Arabic diacritics (Tashkeel) and elongated letters (Tatweel)**: Diacritical marks and elongated letters are stripped out to standardize the text.\n",
        "   - **Removing Arabic stopwords**: Words that are part of the stopwords list are removed, as they do not add value to the classification task.\n",
        "   - **Stemming or Lemmmatization**: Either stemming or lemmatization is applied to reduce words to their root or base form.\n",
        "   - **Normalizing Hamza**: Any variation of the Hamza character is normalized for consistency.\n",
        "\n",
        "   **Note:** Most of these you can do using the library [PyArabic](https://pyarabic.readthedocs.io/ar/latest/README.html#features)\n",
        "\n",
        "5. **Final cleanup**:\n",
        "   Apply the cleanup function to the feature column.\n",
        "\n",
        "By following these steps, the text will be cleaned, filtered, and ready for tokenization!"
      ]
    },
    {
      "cell_type": "code",
      "execution_count": 17,
      "metadata": {
        "colab": {
          "base_uri": "https://localhost:8080/"
        },
        "id": "mHEObOY_fHhq",
        "outputId": "9e5f7a00-8da1-455b-da0d-4e60dbebbc1e"
      },
      "outputs": [
        {
          "output_type": "stream",
          "name": "stdout",
          "text": [
            "Requirement already satisfied: nltk in /usr/local/lib/python3.10/dist-packages (3.8.1)\n",
            "Requirement already satisfied: click in /usr/local/lib/python3.10/dist-packages (from nltk) (8.1.7)\n",
            "Requirement already satisfied: joblib in /usr/local/lib/python3.10/dist-packages (from nltk) (1.4.2)\n",
            "Requirement already satisfied: regex>=2021.8.3 in /usr/local/lib/python3.10/dist-packages (from nltk) (2024.5.15)\n",
            "Requirement already satisfied: tqdm in /usr/local/lib/python3.10/dist-packages (from nltk) (4.66.5)\n"
          ]
        }
      ],
      "source": [
        "!pip install nltk"
      ]
    },
    {
      "cell_type": "code",
      "execution_count": 18,
      "metadata": {
        "colab": {
          "base_uri": "https://localhost:8080/"
        },
        "id": "Gz7oYnLrBed_",
        "outputId": "02af5710-ccee-4b83-f866-e6a8ded2c4d9"
      },
      "outputs": [
        {
          "output_type": "stream",
          "name": "stderr",
          "text": [
            "[nltk_data] Downloading package stopwords to /root/nltk_data...\n",
            "[nltk_data]   Unzipping corpora/stopwords.zip.\n"
          ]
        }
      ],
      "source": [
        "import nltk\n",
        "nltk.download('stopwords')\n",
        "from nltk.corpus import stopwords\n",
        "\n",
        "arabic_stopwords = set(stopwords.words('arabic'))\n",
        "\n",
        "def clean_text(text):\n",
        "    text = re.sub(r'http\\S+', '', text)\n",
        "    text = re.sub(r'[^ء-ي ]', '', text)\n",
        "    text = araby.strip_tashkeel(text)\n",
        "    text = araby.strip_tatweel(text)\n",
        "    text = \" \".join([word for word in text.split() if word not in arabic_stopwords])\n",
        "    return text"
      ]
    },
    {
      "cell_type": "markdown",
      "metadata": {
        "id": "VF45GS_ZSEix"
      },
      "source": [
        "# Tokenization, Padding, and Data Splitting"
      ]
    },
    {
      "cell_type": "markdown",
      "metadata": {
        "id": "YmsL3S-5SIbl"
      },
      "source": [
        "In this step, we will prepare the text data for input into a model by converting the text into numerical sequences, padding them to a uniform length, and splitting the dataset into training and testing sets. Here's an overview of the steps involved:\n",
        "\n",
        "1. **Tokenization**:\n",
        "   We use a tokenizer to convert the cleaned text into numerical sequences. You can use `Tokenizer` tokenizer from `tensorflow.keras.preprocessing.text` package or any other tokenizer you like.\n",
        "\n",
        "2. **Text to sequences**:\n",
        "   After fitting the tokenizer on the cleaned text, we transform each text into a sequence of numbers, where each number corresponds to a token (word) in the text.\n",
        "\n",
        "3. **Padding the sequences**:\n",
        "   Since different texts may vary in length, we pad the sequences to ensure they all have the same length.\n",
        "\n",
        "4. **Label encoding**:\n",
        "   The labels (target values) also need to be converted into numerical form if they are not encoded.\n",
        "\n",
        "5. **Train-test split**:\n",
        "   The dataset is divided into training and testing sets. We allocate 80% of the data for training the model and reserve 20% for testing its performance.\n",
        "   \n",
        "   - The **training data** consists of the padded sequences used to train the model.\n",
        "   - The **training labels** are the encoded labels corresponding to the training data.\n",
        "   - The **testing data** is used to assess the model’s performance after training.\n",
        "   - The **testing labels** are the encoded labels corresponding to the testing data.\n",
        "\n",
        "6. **Data shape confirmation**:\n",
        "   After splitting the data, we print the shape (dimensions) of both the training and testing sets to confirm that the data is properly divided and formatted.\n",
        "\n",
        "By the end of this step, the text data will be transformed into padded numerical sequences, the labels will be encoded, and the data will be split into training and testing sets for model development and evaluation."
      ]
    },
    {
      "cell_type": "code",
      "execution_count": 19,
      "metadata": {
        "colab": {
          "base_uri": "https://localhost:8080/"
        },
        "id": "keOf6jraFY4q",
        "outputId": "3a449332-5100-44a6-80c3-97d0060cd6be"
      },
      "outputs": [
        {
          "output_type": "stream",
          "name": "stderr",
          "text": [
            "[nltk_data] Downloading package stopwords to /root/nltk_data...\n",
            "[nltk_data]   Package stopwords is already up-to-date!\n"
          ]
        }
      ],
      "source": [
        "import nltk\n",
        "nltk.download('stopwords')\n",
        "from nltk.corpus import stopwords\n",
        "import re\n",
        "\n",
        "arabic_stopwords = set(stopwords.words('arabic'))\n",
        "\n",
        "def clean_text(text):\n",
        "    text = re.sub(r'http\\S+', '', text)\n",
        "    text = re.sub(r'[^ء-ي ]', '', text)\n",
        "    text = araby.strip_tashkeel(text)\n",
        "    text = araby.strip_tatweel(text)\n",
        "    text = \" \".join([word for word in text.split() if word not in arabic_stopwords])\n",
        "    return text\n"
      ]
    },
    {
      "cell_type": "code",
      "execution_count": 20,
      "metadata": {
        "id": "z401Re0VfI1f"
      },
      "outputs": [],
      "source": [
        "df['cleaned_text'] = df['text'].apply(clean_text)"
      ]
    },
    {
      "cell_type": "code",
      "execution_count": 23,
      "metadata": {
        "colab": {
          "base_uri": "https://localhost:8080/"
        },
        "id": "5PEKhUKcBj0i",
        "outputId": "d0da7cc1-9653-4903-aad7-27149bf719c2"
      },
      "outputs": [
        {
          "output_type": "stream",
          "name": "stdout",
          "text": [
            "                                                text    label  \\\n",
            "0  https://example.com/resource/الشاٌرقة -ْ محمِد...  Culture   \n",
            "1  https://example.com/resource/اَنِطٌلقّتَ ٍفٍيّ...  Culture   \n",
            "2  https://example.com/resource/أُقيًمٌتِ مِساءُ ...  Culture   \n",
            "3  https://example.com/resource/بٍاسُمةَ يًوٌنٍس ...  Culture   \n",
            "4  https://example.com/resource/قُرر اَتحِاد اًلْ...  Culture   \n",
            "\n",
            "                                        cleaned_text  \n",
            "0  محمد ولد محمد سالمعرضت الأول خشبة مسرح قصر الث...  \n",
            "1  الأيام العام الفائت فعاليات مهرجان دبي لمسرح ا...  \n",
            "2  الأول إكسبو الشارقة ندوة حوارية حول أهمية تجار...  \n",
            "3  يونس حينما قال صاحب السمو الشيخ الدكتور سلطان ...  \n",
            "4  اتحاد الأدباء والكتاب الموريتانيين عقد مؤتمره ...  \n"
          ]
        }
      ],
      "source": [
        "print(df.head())"
      ]
    },
    {
      "cell_type": "code",
      "execution_count": 24,
      "metadata": {
        "colab": {
          "base_uri": "https://localhost:8080/",
          "height": 424
        },
        "id": "3FyzIklUFtu3",
        "outputId": "40844a6d-c4fe-4371-a2c8-4173aba7e086"
      },
      "outputs": [
        {
          "output_type": "execute_result",
          "data": {
            "text/plain": [
              "                                                    text    label  \\\n",
              "0      https://example.com/resource/الشاٌرقة -ْ محمِد...  Culture   \n",
              "1      https://example.com/resource/اَنِطٌلقّتَ ٍفٍيّ...  Culture   \n",
              "2      https://example.com/resource/أُقيًمٌتِ مِساءُ ...  Culture   \n",
              "3      https://example.com/resource/بٍاسُمةَ يًوٌنٍس ...  Culture   \n",
              "4      https://example.com/resource/قُرر اَتحِاد اًلْ...  Culture   \n",
              "...                                                  ...      ...   \n",
              "39880  https://example.com/resource/أعلّنت شّركٌةً بّ...     Tech   \n",
              "39881  https://example.com/resource/بُتٍاَرٌيًخَ 28ْ ...     Tech   \n",
              "39882  https://example.com/resource/دبَيُ:َ «ُاَلخليج...     Tech   \n",
              "39883  https://example.com/resource/LٌG GًS2ْ9ً0 Coْo...     Tech   \n",
              "39884  https://example.com/resource/تنطًلقٍ اٌليومّ َ...     Tech   \n",
              "\n",
              "                                            cleaned_text  \n",
              "0      محمد ولد محمد سالمعرضت الأول خشبة مسرح قصر الث...  \n",
              "1      الأيام العام الفائت فعاليات مهرجان دبي لمسرح ا...  \n",
              "2      الأول إكسبو الشارقة ندوة حوارية حول أهمية تجار...  \n",
              "3      يونس حينما قال صاحب السمو الشيخ الدكتور سلطان ...  \n",
              "4      اتحاد الأدباء والكتاب الموريتانيين عقد مؤتمره ...  \n",
              "...                                                  ...  \n",
              "39880  شركة باناسونيك اطلاق سلسلة تلفزيونات فييرا الج...  \n",
              "39881  مارسآذار الماضي وبين الساعة الثامنة والنصف وحت...  \n",
              "39882  الخليج أبرمت بلدية دبي بلدية رأس الخيمة اتفاقي...  \n",
              "39883  هاتف متحرك جديد إنتاج إل جي يحتوي حساس للحركة ...  \n",
              "39884  اليوم مركز معارض مطار دبي الدورة ال لمعرض جيتك...  \n",
              "\n",
              "[39885 rows x 3 columns]"
            ],
            "text/html": [
              "\n",
              "  <div id=\"df-d1940d05-311c-48e8-8706-fe9fcb5faba3\" class=\"colab-df-container\">\n",
              "    <div>\n",
              "<style scoped>\n",
              "    .dataframe tbody tr th:only-of-type {\n",
              "        vertical-align: middle;\n",
              "    }\n",
              "\n",
              "    .dataframe tbody tr th {\n",
              "        vertical-align: top;\n",
              "    }\n",
              "\n",
              "    .dataframe thead th {\n",
              "        text-align: right;\n",
              "    }\n",
              "</style>\n",
              "<table border=\"1\" class=\"dataframe\">\n",
              "  <thead>\n",
              "    <tr style=\"text-align: right;\">\n",
              "      <th></th>\n",
              "      <th>text</th>\n",
              "      <th>label</th>\n",
              "      <th>cleaned_text</th>\n",
              "    </tr>\n",
              "  </thead>\n",
              "  <tbody>\n",
              "    <tr>\n",
              "      <th>0</th>\n",
              "      <td>https://example.com/resource/الشاٌرقة -ْ محمِد...</td>\n",
              "      <td>Culture</td>\n",
              "      <td>محمد ولد محمد سالمعرضت الأول خشبة مسرح قصر الث...</td>\n",
              "    </tr>\n",
              "    <tr>\n",
              "      <th>1</th>\n",
              "      <td>https://example.com/resource/اَنِطٌلقّتَ ٍفٍيّ...</td>\n",
              "      <td>Culture</td>\n",
              "      <td>الأيام العام الفائت فعاليات مهرجان دبي لمسرح ا...</td>\n",
              "    </tr>\n",
              "    <tr>\n",
              "      <th>2</th>\n",
              "      <td>https://example.com/resource/أُقيًمٌتِ مِساءُ ...</td>\n",
              "      <td>Culture</td>\n",
              "      <td>الأول إكسبو الشارقة ندوة حوارية حول أهمية تجار...</td>\n",
              "    </tr>\n",
              "    <tr>\n",
              "      <th>3</th>\n",
              "      <td>https://example.com/resource/بٍاسُمةَ يًوٌنٍس ...</td>\n",
              "      <td>Culture</td>\n",
              "      <td>يونس حينما قال صاحب السمو الشيخ الدكتور سلطان ...</td>\n",
              "    </tr>\n",
              "    <tr>\n",
              "      <th>4</th>\n",
              "      <td>https://example.com/resource/قُرر اَتحِاد اًلْ...</td>\n",
              "      <td>Culture</td>\n",
              "      <td>اتحاد الأدباء والكتاب الموريتانيين عقد مؤتمره ...</td>\n",
              "    </tr>\n",
              "    <tr>\n",
              "      <th>...</th>\n",
              "      <td>...</td>\n",
              "      <td>...</td>\n",
              "      <td>...</td>\n",
              "    </tr>\n",
              "    <tr>\n",
              "      <th>39880</th>\n",
              "      <td>https://example.com/resource/أعلّنت شّركٌةً بّ...</td>\n",
              "      <td>Tech</td>\n",
              "      <td>شركة باناسونيك اطلاق سلسلة تلفزيونات فييرا الج...</td>\n",
              "    </tr>\n",
              "    <tr>\n",
              "      <th>39881</th>\n",
              "      <td>https://example.com/resource/بُتٍاَرٌيًخَ 28ْ ...</td>\n",
              "      <td>Tech</td>\n",
              "      <td>مارسآذار الماضي وبين الساعة الثامنة والنصف وحت...</td>\n",
              "    </tr>\n",
              "    <tr>\n",
              "      <th>39882</th>\n",
              "      <td>https://example.com/resource/دبَيُ:َ «ُاَلخليج...</td>\n",
              "      <td>Tech</td>\n",
              "      <td>الخليج أبرمت بلدية دبي بلدية رأس الخيمة اتفاقي...</td>\n",
              "    </tr>\n",
              "    <tr>\n",
              "      <th>39883</th>\n",
              "      <td>https://example.com/resource/LٌG GًS2ْ9ً0 Coْo...</td>\n",
              "      <td>Tech</td>\n",
              "      <td>هاتف متحرك جديد إنتاج إل جي يحتوي حساس للحركة ...</td>\n",
              "    </tr>\n",
              "    <tr>\n",
              "      <th>39884</th>\n",
              "      <td>https://example.com/resource/تنطًلقٍ اٌليومّ َ...</td>\n",
              "      <td>Tech</td>\n",
              "      <td>اليوم مركز معارض مطار دبي الدورة ال لمعرض جيتك...</td>\n",
              "    </tr>\n",
              "  </tbody>\n",
              "</table>\n",
              "<p>39885 rows × 3 columns</p>\n",
              "</div>\n",
              "    <div class=\"colab-df-buttons\">\n",
              "\n",
              "  <div class=\"colab-df-container\">\n",
              "    <button class=\"colab-df-convert\" onclick=\"convertToInteractive('df-d1940d05-311c-48e8-8706-fe9fcb5faba3')\"\n",
              "            title=\"Convert this dataframe to an interactive table.\"\n",
              "            style=\"display:none;\">\n",
              "\n",
              "  <svg xmlns=\"http://www.w3.org/2000/svg\" height=\"24px\" viewBox=\"0 -960 960 960\">\n",
              "    <path d=\"M120-120v-720h720v720H120Zm60-500h600v-160H180v160Zm220 220h160v-160H400v160Zm0 220h160v-160H400v160ZM180-400h160v-160H180v160Zm440 0h160v-160H620v160ZM180-180h160v-160H180v160Zm440 0h160v-160H620v160Z\"/>\n",
              "  </svg>\n",
              "    </button>\n",
              "\n",
              "  <style>\n",
              "    .colab-df-container {\n",
              "      display:flex;\n",
              "      gap: 12px;\n",
              "    }\n",
              "\n",
              "    .colab-df-convert {\n",
              "      background-color: #E8F0FE;\n",
              "      border: none;\n",
              "      border-radius: 50%;\n",
              "      cursor: pointer;\n",
              "      display: none;\n",
              "      fill: #1967D2;\n",
              "      height: 32px;\n",
              "      padding: 0 0 0 0;\n",
              "      width: 32px;\n",
              "    }\n",
              "\n",
              "    .colab-df-convert:hover {\n",
              "      background-color: #E2EBFA;\n",
              "      box-shadow: 0px 1px 2px rgba(60, 64, 67, 0.3), 0px 1px 3px 1px rgba(60, 64, 67, 0.15);\n",
              "      fill: #174EA6;\n",
              "    }\n",
              "\n",
              "    .colab-df-buttons div {\n",
              "      margin-bottom: 4px;\n",
              "    }\n",
              "\n",
              "    [theme=dark] .colab-df-convert {\n",
              "      background-color: #3B4455;\n",
              "      fill: #D2E3FC;\n",
              "    }\n",
              "\n",
              "    [theme=dark] .colab-df-convert:hover {\n",
              "      background-color: #434B5C;\n",
              "      box-shadow: 0px 1px 3px 1px rgba(0, 0, 0, 0.15);\n",
              "      filter: drop-shadow(0px 1px 2px rgba(0, 0, 0, 0.3));\n",
              "      fill: #FFFFFF;\n",
              "    }\n",
              "  </style>\n",
              "\n",
              "    <script>\n",
              "      const buttonEl =\n",
              "        document.querySelector('#df-d1940d05-311c-48e8-8706-fe9fcb5faba3 button.colab-df-convert');\n",
              "      buttonEl.style.display =\n",
              "        google.colab.kernel.accessAllowed ? 'block' : 'none';\n",
              "\n",
              "      async function convertToInteractive(key) {\n",
              "        const element = document.querySelector('#df-d1940d05-311c-48e8-8706-fe9fcb5faba3');\n",
              "        const dataTable =\n",
              "          await google.colab.kernel.invokeFunction('convertToInteractive',\n",
              "                                                    [key], {});\n",
              "        if (!dataTable) return;\n",
              "\n",
              "        const docLinkHtml = 'Like what you see? Visit the ' +\n",
              "          '<a target=\"_blank\" href=https://colab.research.google.com/notebooks/data_table.ipynb>data table notebook</a>'\n",
              "          + ' to learn more about interactive tables.';\n",
              "        element.innerHTML = '';\n",
              "        dataTable['output_type'] = 'display_data';\n",
              "        await google.colab.output.renderOutput(dataTable, element);\n",
              "        const docLink = document.createElement('div');\n",
              "        docLink.innerHTML = docLinkHtml;\n",
              "        element.appendChild(docLink);\n",
              "      }\n",
              "    </script>\n",
              "  </div>\n",
              "\n",
              "\n",
              "<div id=\"df-32e3e773-2f05-47c9-b899-32b99b1794d4\">\n",
              "  <button class=\"colab-df-quickchart\" onclick=\"quickchart('df-32e3e773-2f05-47c9-b899-32b99b1794d4')\"\n",
              "            title=\"Suggest charts\"\n",
              "            style=\"display:none;\">\n",
              "\n",
              "<svg xmlns=\"http://www.w3.org/2000/svg\" height=\"24px\"viewBox=\"0 0 24 24\"\n",
              "     width=\"24px\">\n",
              "    <g>\n",
              "        <path d=\"M19 3H5c-1.1 0-2 .9-2 2v14c0 1.1.9 2 2 2h14c1.1 0 2-.9 2-2V5c0-1.1-.9-2-2-2zM9 17H7v-7h2v7zm4 0h-2V7h2v10zm4 0h-2v-4h2v4z\"/>\n",
              "    </g>\n",
              "</svg>\n",
              "  </button>\n",
              "\n",
              "<style>\n",
              "  .colab-df-quickchart {\n",
              "      --bg-color: #E8F0FE;\n",
              "      --fill-color: #1967D2;\n",
              "      --hover-bg-color: #E2EBFA;\n",
              "      --hover-fill-color: #174EA6;\n",
              "      --disabled-fill-color: #AAA;\n",
              "      --disabled-bg-color: #DDD;\n",
              "  }\n",
              "\n",
              "  [theme=dark] .colab-df-quickchart {\n",
              "      --bg-color: #3B4455;\n",
              "      --fill-color: #D2E3FC;\n",
              "      --hover-bg-color: #434B5C;\n",
              "      --hover-fill-color: #FFFFFF;\n",
              "      --disabled-bg-color: #3B4455;\n",
              "      --disabled-fill-color: #666;\n",
              "  }\n",
              "\n",
              "  .colab-df-quickchart {\n",
              "    background-color: var(--bg-color);\n",
              "    border: none;\n",
              "    border-radius: 50%;\n",
              "    cursor: pointer;\n",
              "    display: none;\n",
              "    fill: var(--fill-color);\n",
              "    height: 32px;\n",
              "    padding: 0;\n",
              "    width: 32px;\n",
              "  }\n",
              "\n",
              "  .colab-df-quickchart:hover {\n",
              "    background-color: var(--hover-bg-color);\n",
              "    box-shadow: 0 1px 2px rgba(60, 64, 67, 0.3), 0 1px 3px 1px rgba(60, 64, 67, 0.15);\n",
              "    fill: var(--button-hover-fill-color);\n",
              "  }\n",
              "\n",
              "  .colab-df-quickchart-complete:disabled,\n",
              "  .colab-df-quickchart-complete:disabled:hover {\n",
              "    background-color: var(--disabled-bg-color);\n",
              "    fill: var(--disabled-fill-color);\n",
              "    box-shadow: none;\n",
              "  }\n",
              "\n",
              "  .colab-df-spinner {\n",
              "    border: 2px solid var(--fill-color);\n",
              "    border-color: transparent;\n",
              "    border-bottom-color: var(--fill-color);\n",
              "    animation:\n",
              "      spin 1s steps(1) infinite;\n",
              "  }\n",
              "\n",
              "  @keyframes spin {\n",
              "    0% {\n",
              "      border-color: transparent;\n",
              "      border-bottom-color: var(--fill-color);\n",
              "      border-left-color: var(--fill-color);\n",
              "    }\n",
              "    20% {\n",
              "      border-color: transparent;\n",
              "      border-left-color: var(--fill-color);\n",
              "      border-top-color: var(--fill-color);\n",
              "    }\n",
              "    30% {\n",
              "      border-color: transparent;\n",
              "      border-left-color: var(--fill-color);\n",
              "      border-top-color: var(--fill-color);\n",
              "      border-right-color: var(--fill-color);\n",
              "    }\n",
              "    40% {\n",
              "      border-color: transparent;\n",
              "      border-right-color: var(--fill-color);\n",
              "      border-top-color: var(--fill-color);\n",
              "    }\n",
              "    60% {\n",
              "      border-color: transparent;\n",
              "      border-right-color: var(--fill-color);\n",
              "    }\n",
              "    80% {\n",
              "      border-color: transparent;\n",
              "      border-right-color: var(--fill-color);\n",
              "      border-bottom-color: var(--fill-color);\n",
              "    }\n",
              "    90% {\n",
              "      border-color: transparent;\n",
              "      border-bottom-color: var(--fill-color);\n",
              "    }\n",
              "  }\n",
              "</style>\n",
              "\n",
              "  <script>\n",
              "    async function quickchart(key) {\n",
              "      const quickchartButtonEl =\n",
              "        document.querySelector('#' + key + ' button');\n",
              "      quickchartButtonEl.disabled = true;  // To prevent multiple clicks.\n",
              "      quickchartButtonEl.classList.add('colab-df-spinner');\n",
              "      try {\n",
              "        const charts = await google.colab.kernel.invokeFunction(\n",
              "            'suggestCharts', [key], {});\n",
              "      } catch (error) {\n",
              "        console.error('Error during call to suggestCharts:', error);\n",
              "      }\n",
              "      quickchartButtonEl.classList.remove('colab-df-spinner');\n",
              "      quickchartButtonEl.classList.add('colab-df-quickchart-complete');\n",
              "    }\n",
              "    (() => {\n",
              "      let quickchartButtonEl =\n",
              "        document.querySelector('#df-32e3e773-2f05-47c9-b899-32b99b1794d4 button');\n",
              "      quickchartButtonEl.style.display =\n",
              "        google.colab.kernel.accessAllowed ? 'block' : 'none';\n",
              "    })();\n",
              "  </script>\n",
              "</div>\n",
              "\n",
              "  <div id=\"id_0b0815c0-824b-455a-8a22-4c16dbd66884\">\n",
              "    <style>\n",
              "      .colab-df-generate {\n",
              "        background-color: #E8F0FE;\n",
              "        border: none;\n",
              "        border-radius: 50%;\n",
              "        cursor: pointer;\n",
              "        display: none;\n",
              "        fill: #1967D2;\n",
              "        height: 32px;\n",
              "        padding: 0 0 0 0;\n",
              "        width: 32px;\n",
              "      }\n",
              "\n",
              "      .colab-df-generate:hover {\n",
              "        background-color: #E2EBFA;\n",
              "        box-shadow: 0px 1px 2px rgba(60, 64, 67, 0.3), 0px 1px 3px 1px rgba(60, 64, 67, 0.15);\n",
              "        fill: #174EA6;\n",
              "      }\n",
              "\n",
              "      [theme=dark] .colab-df-generate {\n",
              "        background-color: #3B4455;\n",
              "        fill: #D2E3FC;\n",
              "      }\n",
              "\n",
              "      [theme=dark] .colab-df-generate:hover {\n",
              "        background-color: #434B5C;\n",
              "        box-shadow: 0px 1px 3px 1px rgba(0, 0, 0, 0.15);\n",
              "        filter: drop-shadow(0px 1px 2px rgba(0, 0, 0, 0.3));\n",
              "        fill: #FFFFFF;\n",
              "      }\n",
              "    </style>\n",
              "    <button class=\"colab-df-generate\" onclick=\"generateWithVariable('df')\"\n",
              "            title=\"Generate code using this dataframe.\"\n",
              "            style=\"display:none;\">\n",
              "\n",
              "  <svg xmlns=\"http://www.w3.org/2000/svg\" height=\"24px\"viewBox=\"0 0 24 24\"\n",
              "       width=\"24px\">\n",
              "    <path d=\"M7,19H8.4L18.45,9,17,7.55,7,17.6ZM5,21V16.75L18.45,3.32a2,2,0,0,1,2.83,0l1.4,1.43a1.91,1.91,0,0,1,.58,1.4,1.91,1.91,0,0,1-.58,1.4L9.25,21ZM18.45,9,17,7.55Zm-12,3A5.31,5.31,0,0,0,4.9,8.1,5.31,5.31,0,0,0,1,6.5,5.31,5.31,0,0,0,4.9,4.9,5.31,5.31,0,0,0,6.5,1,5.31,5.31,0,0,0,8.1,4.9,5.31,5.31,0,0,0,12,6.5,5.46,5.46,0,0,0,6.5,12Z\"/>\n",
              "  </svg>\n",
              "    </button>\n",
              "    <script>\n",
              "      (() => {\n",
              "      const buttonEl =\n",
              "        document.querySelector('#id_0b0815c0-824b-455a-8a22-4c16dbd66884 button.colab-df-generate');\n",
              "      buttonEl.style.display =\n",
              "        google.colab.kernel.accessAllowed ? 'block' : 'none';\n",
              "\n",
              "      buttonEl.onclick = () => {\n",
              "        google.colab.notebook.generateWithVariable('df');\n",
              "      }\n",
              "      })();\n",
              "    </script>\n",
              "  </div>\n",
              "\n",
              "    </div>\n",
              "  </div>\n"
            ],
            "application/vnd.google.colaboratory.intrinsic+json": {
              "type": "dataframe",
              "variable_name": "df",
              "summary": "{\n  \"name\": \"df\",\n  \"rows\": 39885,\n  \"fields\": [\n    {\n      \"column\": \"text\",\n      \"properties\": {\n        \"dtype\": \"string\",\n        \"num_unique_values\": 39885,\n        \"samples\": [\n          \"https://example.com/resource/\\u0628\\u0652\\u0644\\u0650\\u063a\\u062a \\u064e\\u062a\\u0633\\u064e\\u064a\\u064a\\u0644\\u0651\\u0627\\u064b\\u062a\\u064d \\u0627\\u0652\\u0644\\u0623\\u0652\\u062c\\u064e\\u0627\\u0646\\u0651\\u0628\\u064e \\u064e\\u0641\\u064a \\u0633\\u064d\\u0648\\u0652\\u0642\\u0650 \\u064e\\u062f\\u0628\\u064a \\u0627\\u0644\\u0645\\u064d\\u0627\\u0650\\u0644\\u064d\\u064a\\u064d \\u0623\\u0645\\u064d\\u0633\\u064e 59\\u064f \\u0645\\u0644\\u064d\\u064a\\u0648\\u0646\\u0627\\u0650\\u064b\\u0652\\u060c \\u0651\\u0641\\u0651\\u0642\\u062f \\u0650\\u0628\\u0652\\u0644\\u064b\\u063a\\u062a \\u064b\\u0642\\u0651\\u064a\\u064f\\u0645\\u0651\\u0629\\u0651 \\u0645\\u064f\\u0634\\u064b\\u062a\\u064f\\u0631\\u0650\\u064a\\u0627\\u062a \\u064e\\u0627\\u0644\\u0652\\u0623\\u062c\\u0627\\u064d\\u0646\\u064d\\u0628\\u064b\\u060c\\u064b \\u063a\\u0652\\u064a\\u0651\\u0631\\u064d \\u0627\\u0652\\u0644\\u0639\\u0631\\u064c\\u0628\\u060c\\u064f \\u0645\\u0650\\u0646\\u0651 \\u064c\\u0627\\u0644\\u0623\\u0633\\u064c\\u0647\\u064d\\u0645 \\u064c\\u062e\\u064f\\u0644\\u0627\\u064c\\u0644\\u064f \\u0647\\u0650\\u0630\\u064e\\u0627 \\u0627\\u064c\\u0644\\u064a\\u0648\\u0650\\u0645 \\u064d\\u0646\\u064b\\u062d\\u064c\\u0648 9\\u064b4\\u064d \\u064e.\\u065113\\u06526 \\u0645\\u0644\\u0652\\u064a\\u064c\\u0648\\u064b\\u0646\\u064c \\u062f\\u0631\\u0647\\u0645 \\u0641\\u064a\\u0651 \\u0652\\u062d\\u0652\\u064a\\u064f\\u0646\\u0651 \\u0628\\u0644\\u063a\\u064e\\u062a\\u064d \\u064b\\u0642\\u064c\\u064a\\u0645\\u0629\\u064c \\u064b\\u0645\\u064b\\u0628\\u064a\\u0639\\u0627\\u062a\\u0647\\u0645\\u064e \\u0646\\u064b\\u062d\\u0648\\u0652 2\\u06500 .22\\u064b6 \\u0650\\u0645\\u064b\\u0644\\u064a\\u0651\\u0648\\u0646 \\u0652\\u062f\\u0631\\u0650\\u0647\\u0645\\u064f .\\u064f \\u0643\\u0645\\u0627 \\u0650\\u0628\\u0644\\u064e\\u063a\\u064b\\u062a \\u0642\\u0652\\u064a\\u0645\\u0629\\u0650 \\u0645\\u064d\\u0634\\u064b\\u062a\\u064c\\u0631\\u0652\\u064a\\u0627\\u062a \\u064b\\u0627\\u0644\\u0645\\u0633\\u064d\\u062a\\u062b\\u064f\\u0645\\u064b\\u0631\\u064b\\u064a\\u064b\\u0646\\u064b \\u0627\\u0644\\u0652\\u0639\\u0650\\u0631\\u0650\\u0628\\u060c\\u064b \\u064f\\u063a\\u064a\\u0631 \\u0651\\u0627\\u0644\\u0652\\u062e\\u0644\\u064d\\u064a\\u064f\\u062c\\u064d\\u064a\\u064a\\u0651\\u0646\\u0650\\u060c\\u0651 \\u062e\\u0644\\u0627\\u0644 \\u0647\\u0650\\u0630\\u0627 \\u0650\\u0627\\u0644\\u0652\\u064a\\u064b\\u0648\\u0645 \\u0646\\u064f\\u062d\\u064d\\u0648\\u064f 07\\u064e .7\\u064c2\\u0650 \\u0645\\u0644\\u064e\\u064a\\u064c\\u0648\\u0646\\u0652 \\u0652\\u062f\\u0631\\u0647\\u064e\\u0645 \\u064d\\u0648\\u0642\\u064b\\u064a\\u0645\\u064c\\u0629\\u064c \\u0645\\u0652\\u0628\\u064e\\u064a\\u064f\\u0639\\u064e\\u0627\\u064b\\u062a\\u0651\\u0647\\u0645 \\u0646\\u062d\\u0648\\u064c \\u065281\\u064b \\u0650.6\\u06504\\u064e \\u064e\\u0645\\u0644\\u064f\\u064a\\u064c\\u0648\\u0646\\u0651 \\u062f\\u064b\\u0631\\u0647\\u064e\\u0645\\u064e .\\u0623\\u064b\\u0645\\u0651\\u0627\\u0652 \\u0652\\u0628\\u0651\\u0627\\u064c\\u0644\\u064e\\u0646\\u064f\\u0633\\u064d\\u0628\\u0629\\u064e \\u064c\\u0644\\u0644\\u0651\\u0645\\u064d\\u0633\\u064c\\u062a\\u064b\\u062b\\u0652\\u0645\\u0631\\u064b\\u064a\\u0646 \\u0652\\u0627\\u0644\\u062e\\u064c\\u0644\\u064a\\u064e\\u062c\\u064a\\u0650\\u064a\\u0646\\u064c \\u064f\\u0641\\u064b\\u0642\\u062f \\u0628\\u0644\\u064b\\u063a\\u0652\\u062a \\u0642\\u064a\\u0645\\u0629 \\u0645\\u0634\\u0652\\u062a\\u064e\\u0631\\u064c\\u064a\\u064f\\u0627\\u064e\\u062a\\u0647\\u0645\\u064b \\u064b9\\u064b1\\u064f \\u0651.4\\u064d3\\u064d \\u0645\\u0650\\u0644\\u064a\\u0648\\u064c\\u0646 \\u064c\\u062f\\u0631\\u0647\\u0645 \\u0641\\u064a\\u064f \\u062d\\u064a\\u0651\\u0646\\u064b \\u064e\\u0628\\u0644\\u064b\\u063a\\u064c\\u062a \\u064b\\u0642\\u064c\\u064a\\u0645\\u064d\\u0629\\u0651 \\u0645\\u0652\\u0628\\u0651\\u064a\\u0652\\u0639\\u0652\\u0627\\u064c\\u062a\\u064c\\u0647\\u0645\\u0652 \\u064f\\u0646\\u064e\\u062d\\u0650\\u0648 4\\u064f8 \\u064f.21\\u064c \\u0645\\u0644\\u064a\\u0648\\u064f\\u0646 \\u064e\\u062f\\u064e\\u0631\\u064d\\u0647\\u064e\\u0645 \\u064e\\u062e\\u0644\\u064c\\u0627\\u0644 \\u0650\\u0646\\u064c\\u0641\\u0633 \\u064f\\u0627\\u0652\\u0644\\u0651\\u0641\\u062a\\u0631\\u0652\\u0629\\u064c .\",\n          \"https://example.com/resource/\\u062f\\u0628\\u0650\\u064a\\u0650 - \\u0625\\u0650\\u0628\\u064d\\u0631\\u0650\\u0627\\u0647\\u064f\\u064a\\u064c\\u0645\\u0652 \\u0651\\u0627\\u0644\\u064f\\u064a\\u064b\\u0648\\u0633\\u0651\\u0641:\\u064e\\u0628\\u064d\\u062d\\u0636\\u0648\\u0652\\u0631\\u0650 \\u0645\\u064e\\u062d\\u064d\\u0645\\u062f\\u064e \\u0627\\u064d\\u0644\\u0645\\u0652\\u0631\\u060c \\u0631\\u0626\\u064a\\u0633\\u0651 \\u0627\\u0644\\u0645\\u064c\\u062c\\u064c\\u0644\\u064b\\u0633 \\u0627\\u064c\\u0644\\u0648\\u064d\\u0637\\u064b\\u0646\\u064f\\u064a\\u064d \\u0627\\u0644\\u064e\\u0627\\u062a\\u064b\\u062d\\u0652\\u0627\\u062f\\u064a\\u0650\\u060c\\u064e \\u0648\\u0650\\u0627\\u0651\\u0644\\u064c\\u0642\\u0646\\u0652\\u0635\\u0644 \\u0627\\u0644\\u0639\\u0627\\u0652\\u0645\\u0650 \\u064b\\u0627\\u064d\\u0644\\u0651\\u0643\\u0651\\u0648\\u064a\\u0651\\u062a\\u064e\\u064a\\u064c\\u060c \\u0630\\u064d\\u064a\\u064c\\u0627\\u0628\\u0651 \\u0651\\u0641\\u0631\\u062d\\u0627\\u064e\\u0646 \\u064c\\u0627\\u0652\\u0644\\u0631\\u0634\\u064a\\u0652\\u062f\\u064a\\u0651\\u060c \\u064b\\u0648\\u0633\\u064e\\u0644\\u0651\\u0637\\u0627\\u064b\\u0646\\u064d \\u0627\\u064c\\u0644\\u0652\\u0633\\u0648\\u064f\\u064a\\u062f\\u064d\\u064a \\u064d\\u0631\\u0652\\u0626\\u064a\\u064b\\u0633\\u0652 \\u0645\\u062c\\u064b\\u0644\\u064d\\u0633\\u0650 \\u0625\\u062f\\u0631\\u064d\\u0627\\u0629 \\u0646\\u064b\\u062f\\u0648\\u064e\\u0629\\u064b \\u0627\\u064b\\u0644\\u064c\\u062b\\u0642\\u0627\\u064d\\u0641\\u0629\\u064e \\u064e\\u0648\\u0627\\u064e\\u0644\\u0639\\u0644\\u0648\\u0645\\u060c \\u0648\\u0623\\u0639\\u0652\\u0636\\u0652\\u0627\\u0621 \\u0650\\u0645\\u064d\\u062c\\u064d\\u0644\\u064b\\u0633\\u0650 \\u0627\\u0644\\u0625\\u0651\\u062f\\u0652\\u0627\\u0631\\u064e\\u0629\\u064d\\u060c \\u0625\\u0652\\u0636\\u0627\\u0650\\u0641\\u0629\\u064d \\u0625\\u0644\\u0650\\u0649\\u064f \\u0637\\u0650\\u064a\\u064f\\u0641\\u064b \\u0648\\u0627\\u0633\\u064f\\u0639 \\u0650\\u0648\\u064d\\u0644\\u0627\\u0641\\u0652\\u062a \\u0645\\u0646\\u0651 \\u064d\\u0627\\u0644\\u064e\\u0643\\u0651\\u062a\\u0651\\u064c\\u0627\\u0651\\u0628\\u0650 \\u0648\\u064d\\u0627\\u064b\\u0644\\u0645\\u062b\\u064e\\u0642\\u0641\\u064b\\u064a\\u0646 \\u0648\\u0650\\u0627\\u0644\\u0625\\u0639\\u064e\\u0644\\u0627\\u0645\\u064a\\u064a\\u064d\\u0646 \\u0645\\u064c\\u0646\\u064d \\u0627\\u064e\\u0644\\u0650\\u0628\\u064d\\u0644\\u062f\\u064a\\u0646 . \\u0634\\u0647\\u062f\\u062a\\u064f \\u064e\\u0627\\u064d\\u0644\\u0652\\u0646\\u0650\\u062f\\u0648\\u064c\\u0629\\u064f\\u060c\\u064d \\u0645\\u064c\\u0633\\u0627\\u0621 \\u0650\\u0623\\u0645\\u0633\\u064b \\u0651\\u0627\\u064b\\u0644\\u0652\\u0623\\u064e\\u0648\\u064e\\u0644\\u060c\\u064b \\u0650\\u0627\\u0652\\u062e\\u062a\\u064e\\u062a\\u0652\\u0627\\u0645\\u0651 \\u0641\\u0639\\u0627\\u064e\\u0644\\u064a\\u0627\\u062a\\u064b \\u064e\\u0645\\u0647\\u0650\\u0631\\u064b\\u062c\\u0650\\u0627\\u0646\\u064f \\u064d\\\"\\u064c\\u0643\\u0648\\u0650\\u064a\\u062a\\u064e \\u0627\\u0644\\u0633\\u0644\\u0627\\u064e\\u0645 - \\u0625\\u064b\\u0645\\u0652\\u0627\\u0631\\u064f\\u0627\\u062a \\u064c\\u0627\\u064f\\u0644\\u0650\\u0648\\u064d\\u0641\\u0627\\u0621\\u0650\\\"\\u060c\\u064e \\u0628\\u064c\\u0631\\u0639\\u064d\\u0627\\u064a\\u064d\\u0629 \\u0648\\u064f\\u062a\\u0646\\u0638\\u064a\\u064f\\u0645 \\u0647\\u064a\\u0626\\u0629 \\u062f\\u064b\\u0628\\u064a\\u0652 \\u0644\\u0644\\u064b\\u062b\\u064d\\u0642\\u0627\\u0641\\u0651\\u0629 \\u0648\\u0627\\u0644\\u0652\\u0641\\u0646\\u0648\\u0646 \\u0628\\u0627\\u064c\\u0644\\u062a\\u0639\\u0627\\u0648\\u064d\\u0646 \\u064f\\u0645\\u0650\\u0639\\u064b \\u064c\\u0627\\u0644\\u0642\\u0652\\u0646\\u0635\\u0652\\u0644\\u064b\\u064a\\u064c\\u0629 \\u064c\\u0627\\u0651\\u0644\\u064b\\u0639\\u0627\\u064c\\u0645\\u0629\\u064d \\u0644\\u0650\\u062f\\u0652\\u0648\\u064b\\u0644\\u064b\\u0629\\u064c \\u0652\\u0627\\u0651\\u0644\\u0643\\u0648\\u064a\\u062a \\u064c\\u0641\\u0650\\u064a\\u064f \\u064e\\u0625\\u064d\\u0645\\u0651\\u0627\\u064e\\u0631\\u0629\\u064f \\u062f\\u064c\\u0628\\u064f\\u064a\\u060c\\u0652 \\u0648\\u0651\\u062a\\u0636\\u0645\\u064c\\u0646\\u0651 \\u064d\\u0641\\u0639\\u064d\\u0627\\u064f\\u0644\\u064d\\u064a\\u064e\\u0627\\u062a \\u064f\\u062b\\u0642\\u0651\\u0627\\u064f\\u0641\\u064a\\u0629\\u064e \\u0641\\u0646\\u064a\\u0652\\u0629\\u0650\\u060c \\u0650\\u0648\\u063a\\u064a\\u0631\\u0647\\u0650\\u0627\\u0651 \\u064d.\\u0648\\u0651\\u062a\\u0652\\u0636\\u064c\\u0645\\u0646\\u0651\\u062a\\u064b \\u064e\\u0627\\u0644\\u0641\\u0651\\u0639\\u064e\\u0627\\u0644\\u064d\\u064a\\u0627\\u064c\\u062a\\u0650 \\u0650\\u0639\\u064e\\u0631\\u0636 \\u0641\\u064a\\u0644\\u064f\\u0645 \\u0652\\u0648\\u064b\\u062b\\u0627\\u064e\\u0626\\u064f\\u0642\\u064f\\u064a\\u064f \\u0639\\u064e\\u0646\\u064f \\u064f\\u0627\\u0644\\u062a\\u064d\\u0639\\u064c\\u0627\\u0648\\u064d\\u0646\\u0650 \\u064d\\u0627\\u064c\\u0644\\u0623\\u062e\\u0648\\u064a \\u064f\\u0628\\u0651\\u064a\\u0652\\u0646\\u064b \\u0652\\u0627\\u0644\\u064e\\u0628\\u0644\\u064f\\u062f\\u0650\\u064a\\u064d\\u0646\\u064b \\u0651\\u0627\\u0650\\u0644\\u0634\\u0642\\u0651\\u064a\\u064c\\u0642\\u064e\\u064a\\u0646\\u0650\\u060c \\u064d\\u0642\\u0631\\u0623\\u0651 \\u064c\\u0628\\u0650\\u0639\\u064f\\u062f \\u064b\\u0630\\u064f\\u0644\\u0651\\u0643\\u064f \\u0651\\u0639\\u0628\\u064f\\u062f\\u0627\\u0650\\u0644\\u0644\\u0647 \\u064f\\u0627\\u0644\\u064c\\u0645\\u0637\\u0651\\u064a\\u0631\\u064d\\u064a\\u0650 \\u0643\\u064e\\u0644\\u0645\\u0652\\u0629\\u064c \\u0647\\u064a\\u0650\\u0626\\u0629 \\u062f\\u0628\\u064b\\u064a\\u064e \\u0644\\u0644\\u064b\\u062b\\u0642\\u0627\\u0641\\u0629\\u060c\\u064f \\u062a\\u062d\\u064f\\u062f\\u062b\\u064e \\u064c\\u0641\\u064a\\u0652\\u0647\\u0652\\u0627\\u064c \\u0639\\u0652\\u0646 \\u064f\\u0627\\u0652\\u0644\\u0639\\u0650\\u0644\\u0627\\u0642\\u0627\\u062a \\u0651\\u0627\\u0651\\u0644\\u064d\\u062b\\u0642\\u0650\\u0627\\u0641\\u064a\\u0651\\u0629 \\u0628\\u064b\\u064a\\u0646 \\u064e\\u0627\\u0644\\u0628\\u064b\\u0644\\u0651\\u062f\\u0652\\u064a\\u064d\\u0646\\u064c\\u060c \\u0648\\u064e\\u0643\\u064e\\u064a\\u0651\\u0641 \\u0623\\u0646 \\u0627\\u064e\\u0644\\u064d\\u0643\\u0648\\u064e\\u064a\\u0650\\u062a \\u062f\\u0639\\u0645\\u0651\\u062a\\u064d \\u0650\\u0627\\u0644\\u062d\\u0631\\u0652\\u0643\\u064b\\u0629\\u064b \\u0627\\u064d\\u0644\\u062b\\u0652\\u0642\\u064c\\u0627\\u0641\\u064a\\u0652\\u0629\\u0652 \\u064d\\u0648\\u0627\\u0650\\u0644\\u0651\\u062a\\u0639\\u0651\\u0644\\u064a\\u064f\\u0645\\u064a\\u0629 \\u0641\\u064a \\u0627\\u0644\\u0625\\u0645\\u0627\\u064e\\u0631\\u0627\\u064c\\u062a\\u060c\\u064d \\u064d\\u0648\\u0651\\u0623\\u064f\\u0646\\u064e\\u0634\\u0623\\u062a\\u0651 \\u0641\\u064a\\u064e\\u0647\\u0651\\u0627 \\u064b\\u0627\\u064c\\u0644\\u064f\\u0645\\u064f\\u062f\\u0627\\u064f\\u0631\\u0651\\u0633\\u064b\\u060c\\u0652 \\u064c\\u0625\\u0644\\u064f\\u0649 \\u0651\\u062c\\u0627\\u064b\\u0646\\u0650\\u0628 \\u064c\\u063a\\u0652\\u064a\\u064e\\u0631\\u0647\\u0650\\u0627\\u064c \\u0645\\u0646\\u064c \\u0650\\u0627\\u0644\\u0645\\u064c\\u0631\\u064d\\u0627\\u0641\\u064e\\u0642 \\u0627\\u0651\\u0644\\u0636\\u0631\\u0652\\u0648\\u0631\\u064d\\u064a\\u0650\\u0629\\u064e .\\u064c\\u0628\\u064c\\u0639\\u064b\\u062f\\u0652 \\u0630\\u064f\\u0644\\u0643 \\u0628\\u062f\\u0623\\u0650\\u062a \\u0641\\u064f\\u0639\\u0650\\u0627\\u064c\\u0644\\u064a\\u0627\\u0651\\u062a \\u0627\\u0644\\u064d\\u0646\\u0652\\u062f\\u0648\\u064c\\u0629 \\u0651\\u0627\\u0651\\u0644\\u064b\\u062a\\u064e\\u064a \\u064f\\u0623\\u062f\\u064e\\u0627\\u064c\\u0631\\u0647\\u0627 \\u0651\\u0639\\u0644\\u064e\\u064a\\u064c \\u064c\\u0639\\u064f\\u0628\\u064f\\u064a\\u0651\\u062f \\u0627\\u0644\\u064f\\u0647\\u0650\\u0627\\u0650\\u0645\\u0644\\u064d\\u064a\\u0651\\u060c\\u0651 \\u0652\\u0628\\u0639\\u0651\\u0646\\u064e\\u0648\\u064c\\u0627\\u0651\\u0646 \\\"\\u0650\\u0645\\u0633\\u064a\\u0631\\u064b\\u0629 \\u0627\\u064e\\u0644\\u0652\\u0639\\u0652\\u0644\\u0627\\u064e\\u0642\\u0627\\u062a\\u0651 \\u0627\\u0650\\u0644\\u0625\\u0645\\u0627\\u0652\\u0631\\u0627\\u062a\\u064a\\u0629\\u0651 \\u064b- \\u064c\\u0627\\u0651\\u0644\\u0652\\u0643\\u0648\\u064a\\u062a\\u064e\\u064a\\u064b\\u0629\\\" \\u0648\\u064b\\u0634\\u0627\\u0631\\u0643 \\u064c\\u0641\\u064c\\u064a\\u0647\\u064e\\u0627\\u0651 \\u0643\\u0644\\u064b \\u064e\\u0645\\u0646\\u0651 \\u0650\\u062f\\u0652 . \\u0639\\u0652\\u0628\\u062f\\u0650\\u0627\\u0652\\u0644\\u0644\\u064f\\u0647\\u064c \\u0627\\u0644\\u063a\\u064c\\u0646\\u064a\\u0645 \\u064e(\\u0651\\u0627\\u0644\\u0643\\u0648\\u064f\\u064a\\u064f\\u062a)\\u064f \\u064e\\u0648\\u0628\\u0644\\u0627\\u0644\\u064f \\u0651\\u0627\\u0652\\u0644\\u064f\\u0628\\u0652\\u062f\\u064b\\u0648\\u0631\\u064c \\u0646\\u064b\\u0627\\u064b\\u0626\\u0628 \\u0631\\u064d\\u0626\\u064a\\u064c\\u0633\\u064f \\u0645\\u062c\\u064e\\u0644\\u0633 \\u0625\\u062f\\u0650\\u0627\\u0652\\u0631\\u0652\\u0629\\u064d \\u064d\\u0646\\u064d\\u062f\\u064b\\u0648\\u0629\\u064f \\u0627\\u0644\\u062b\\u0642\\u0627\\u0641\\u0629\\u064e \\u0650\\u0627\\u0644\\u064d\\u0639\\u0652\\u0644\\u064d\\u0648\\u0645\\u064c\\u060c \\u062d\\u0652\\u064a\\u0650\\u062b \\u064d\\u0633\\u0650\\u0644\\u0637\\u064f \\u064b\\u0627\\u0644\\u0647\\u064e\\u0627\\u064c\\u0645\\u064c\\u0644\\u064a \\u0650\\u0627\\u0644\\u0636\\u0648\\u0621\\u064d \\u0639\\u0650\\u0644\\u064b\\u0649\\u0650 \\u0650\\u0627\\u0651\\u0644\\u0633\\u0652\\u064a\\u0631\\u0651\\u0629\\u064b \\u064f\\u0627\\u064b\\u0644\\u064b\\u0645\\u064e\\u0639\\u064b\\u0631\\u0641\\u064a\\u0629\\u0650 \\u064b\\u0644\\u064c\\u0643\\u064b\\u0644\\u064e\\u0627\\u064d \\u0627\\u0650\\u0644\\u0650\\u0643\\u0651\\u0627\\u064e\\u062a\\u0628\\u064a\\u0646 \\u062f .\\u064b \\u064c\\u0627\\u0644\\u0651\\u063a\\u064e\\u0646\\u064d\\u064a\\u064b\\u0645 \\u0650\\u0648\\u0651\\u0627\\u064f\\u0644\\u0628\\u0652\\u062f\\u0648\\u064e\\u0631 .\\u0651 \\u064d\\u0648\\u064b\\u0645\\u0645\\u0627\\u0652 \\u0642\\u0627\\u0644\\u0647 \\u0651\\u0627\\u064e\\u0644\\u0647\\u0627\\u0651\\u0645\\u064b\\u0644\\u064a\\u0651 \\u0641\\u064a\\u064e \\u0645\\u064c\\u0642\\u0651\\u062f\\u0652\\u0645\\u062a\\u0652\\u0647:\\u0651 \\u064b\\u0627\\u0644\\u0643\\u0648\\u064a\\u064b\\u062a \\u064f\\u062a\\u064d\\u0631\\u0643\\u062a \\u0628\\u064c\\u0635\\u0645\\u064d\\u0627\\u064e\\u062a\\u0651\\u0647\\u064c\\u0627\\u064d \\u0639\\u0645\\u064a\\u0651\\u0642\\u064f\\u0627\\u064b\\u064b \\u0639\\u064d\\u0644\\u064c\\u064a\\u0646\\u0627 \\u064c\\u0641\\u064a \\u062f\\u0648\\u0644\\u0651\\u0629 \\u064b\\u0627\\u064d\\u0644\\u064c\\u0625\\u064e\\u0645\\u0627\\u064b\\u0631\\u0627\\u062a\\u060c\\u064e \\u0652\\u0648\\u064c\\u0623\\u0643\\u064e\\u0628\\u0651\\u0631 \\u064c\\u062f\\u0644\\u064a\\u0644\\u064f \\u0650\\u0639\\u0644\\u064d\\u0649\\u064e \\u0650\\u0630\\u0644\\u0643\\u0650 \\u064f\\u0623\\u0651\\u0646 \\u0647\\u0646\\u0627\\u0643\\u064f \\u0652\\u062c\\u064a\\u064e\\u0644\\u064d\\u0627\\u0652\\u064b \\u0625\\u0645\\u0627\\u064f\\u0631\\u064f\\u0627\\u062a\\u064a\\u064d\\u0627\\u064b\\u064f \\u0652\\u0643\\u0627\\u0645\\u064b\\u0644\\u064d\\u0627\\u064d\\u064b\\u064f \\u062a\\u064e\\u0641\\u062a\\u062d\\u0651\\u062a\\u0651 \\u064b\\u0645\\u0650\\u062f\\u0652\\u0627\\u0631\\u0652\\u0643\\u0647\\u064b \\u0639\\u0644\\u0652\\u0649 \\u0651\\u0645\\u064b\\u0627\\u064e \\u0628\\u062b\\u064f\\u062a\\u064c\\u0647\\u064d \\u0627\\u064c\\u0644\\u0650\\u0643\\u064c\\u0648\\u064a\\u062a \\u0652\\u0645\\u0651\\u0646\\u064b \\u064b\\u062a\\u0639\\u0644\\u064a\\u064e\\u0645 \\u064d\\u0648\\u064f\\u062b\\u064c\\u0642\\u0627\\u0641\\u0651\\u0629\\u064d \\u0641\\u064a\\u064d \\u064c\\u0627\\u0644\\u0625\\u064c\\u0645\\u0651\\u0627\\u064b\\u0631\\u0627\\u064c\\u062a\\u064c\\u060c\\u064f \\u0650\\u062c\\u064a\\u0644 \\u0650\\u0643\\u064b\\u0627\\u064f\\u0645\\u0644\\u060c\\u0651 \\u064c\\u062a\\u0652\\u0639\\u0644\\u0645 \\u0648\\u0641\\u0652\\u0642 \\u0651\\u0645\\u0651\\u0646\\u064d\\u0627\\u0650\\u0647\\u064c\\u062c\\u064f \\u0627\\u0644\\u0643\\u0652\\u0648\\u064a\\u062a \\u0627\\u064c\\u0644\\u062a\\u0639\\u0644\\u064a\\u064c\\u0645\\u064c\\u064a\\u064d\\u0629 \\u064c.\\u064e\\u0648\\u0623\\u0634\\u0627\\u0651\\u062f\\u064d \\u064e\\u062f \\u064e.\\u064d \\u0627\\u064e\\u0644\\u063a\\u0646\\u064b\\u064a\\u0645 \\u0650\\u0628\\u0627\\u064c\\u0644\\u062d\\u064a\\u0627\\u0629\\u0650 \\u0651\\u0627\\u0644\\u062a\\u0652\\u0639\\u064b\\u0644\\u064a\\u064f\\u0645\\u064a\\u0629\\u064f \\u0627\\u0644\\u062b\\u0642\\u064b\\u0627\\u064f\\u0641\\u0651\\u064a\\u0629\\u0650 \\u0652\\u0641\\u064e\\u064a\\u064e \\u064f\\u0627\\u0644\\u064c\\u0625\\u0645\\u064b\\u0627\\u0631\\u064c\\u0627\\u062a\\u060c\\u064d \\u0651\\u0648\\u064c\\u0631\\u0623\\u0649\\u064f \\u064e\\u0623\\u064e\\u0646\\u0651\\u0647\\u0627\\u064e \\u062c\\u062f \\u0652\\u0645\\u062a\\u0637\\u0648\\u0631\\u064d\\u0629\\u0652\\u060c\\u0650 \\u0648\\u064e\\u0623\\u0650\\u062f\\u064c\\u0644\\u0649\\u0652 \\u0651\\u0628\\u0623\\u064c\\u0645\\u062b\\u0650\\u0644\\u0629 \\u064c\\u0645\\u0647\\u0651\\u0645\\u0629\\u064f \\u0650\\u0639\\u064f\\u0644\\u0651\\u0649 \\u0630\\u0650\\u0644\\u064e\\u0643\\u064c\\u060c\\u064c \\u0648\\u064c\\u0645\\u064d\\u0646\\u0647\\u0627 \\u0651\\u0623\\u0646 \\u0627\\u0650\\u0644\\u064e\\u0643\\u062b\\u064b\\u064a\\u0631\\u064a\\u064b\\u0646\\u064e \\u064c\\u0645\\u0646\\u0650 \\u0623\\u0628\\u064c\\u0646\\u064e\\u0627\\u0621\\u064f \\u0650\\u0627\\u0644\\u064b\\u0643\\u0648\\u064e\\u064a\\u0650\\u062a \\u0628\\u0627\\u062a\\u064b\\u0648\\u0627 \\u064a\\u064e\\u062a\\u0652\\u0627\\u0652\\u0628\\u0639\\u0650\\u0648\\u0652\\u0646 \\u0652\\u062a\\u062d\\u0652\\u0635\\u064a\\u0644\\u0647\\u0650\\u0645\\u0651 \\u064d\\u0627\\u0651\\u0644\\u0645\\u0639\\u064d\\u0631\\u064f\\u0641\\u064e\\u064a\\u064d \\u064d\\u0641\\u064c\\u064a \\u062c\\u064f\\u0627\\u064e\\u0645\\u0639\\u064d\\u0627\\u064b\\u062a \\u0627\\u0652\\u0644\\u0625\\u0645\\u0650\\u0627\\u0631\\u0627\\u062a\\u0652\\u060c\\u064e \\u0645\\u0646\\u0650 \\u062f\\u064f\\u0648\\u0646\\u064b \\u064e\\u0623\\u064e\\u0646 \\u064f\\u064a\\u064f\\u0634\\u064f\\u0639\\u064f\\u0631\\u0651\\u0648\\u064d\\u0627 \\u0625\\u0644\\u064d\\u0627\\u0650 \\u0628\\u0651\\u0623\\u0646\\u064b\\u0647\\u064c\\u0645\\u064b \\u0641\\u0650\\u064a \\u0628\\u064b\\u064a\\u0648\\u062a\\u0650\\u0647\\u064e\\u0645\\u0651\\u060c \\u0652\\u0648\\u0647\\u0648\\u064e \\u064f\\u0645\\u062f\\u064c\\u0639\\u064c\\u0627\\u064e\\u0629\\u0651 \\u064d\\u0633\\u064b\\u0639\\u0627\\u0650\\u062f\\u0629 \\u064d\\u0623\\u0633\\u0631\\u064d\\u0647\\u0645\\u0651\\u060c \\u0628\\u0652\\u0644 \\u0650\\u0628\\u0644\\u0651\\u062f\\u0647\\u0645\\u064b \\u064d\\u0628\\u0643\\u0627\\u064d\\u0645\\u064d\\u0644\\u0647 \\u064f.\\u0648\\u0642\\u0627\\u0644: \\u0644\\u0645\\u064f \\u064f\\u0623\\u064c\\u0631\\u062f\\u064c \\u064c\\u0623\\u0646\\u0650 \\u064d\\u0623\\u0633\\u064e\\u0645\\u064e\\u064a\\u0652 \\u0646\\u064e\\u062f\\u0650\\u0648\\u062a\\u0650\\u0646\\u0627 \\u0647\\u064b\\u0630\\u0651\\u0647\\u064f \\u0628\\u0627\\u0644\\u062d\\u0648\\u0651\\u0627\\u0652\\u0631\\u064b\\u064a\\u0629\\u0651\\u060c\\u064c \\u0628\\u0650\\u064a\\u0650\\u0646 \\u0645\\u0652\\u062b\\u064e\\u0642\\u0652\\u0641\\u064d\\u064a\\u0650\\u0646\\u0651 \\u0645\\u0650\\u0646\\u064d \\u0628\\u0644\\u062f\\u064a\\u064e\\u0646\\u0627:\\u064b \\u064b\\u0627\\u0644\\u064e\\u0643\\u0648\\u0650\\u064a\\u062a\\u0652 \\u0652\\u0648\\u0627\\u0652\\u0644\\u0625\\u0645\\u064c\\u0627\\u0631\\u0627\\u064c\\u062a\\u060c\\u064f \\u064b\\u0644\\u0623\\u0646 \\u0627\\u0644\\u062d\\u0648\\u064f\\u0627\\u0652\\u0631\\u060c\\u064f \\u0650\\u064a\\u062a\\u0645 \\u064c\\u0639\\u064f\\u0627\\u0650\\u062f\\u0629\\u064d\\u060c \\u0652\\u0628\\u064a\\u064e\\u0646\\u064c \\u0645\\u0650\\u0646\\u064b \\u0652\\u0647\\u064b\\u0645\\u064d \\u0645\\u062e\\u062a\\u064d\\u0644\\u0641\\u0648\\u0646\\u060c \\u0628\\u064a\\u0646 \\u0650\\u0645\\u064c\\u0646 \\u062a\\u064c\\u0643\\u0650\\u0648\\u0646\\u064c \\u064e\\u0647\\u064f\\u0646\\u0627\\u0643 \\u062a\\u0646\\u0627\\u0642\\u0650\\u0636\\u0627\\u062a \\u064b\\u0641\\u064f\\u064a\\u0651\\u0645\\u0627\\u064b \\u0650\\u0628\\u064a\\u0646\\u0652\\u0647\\u0645\\u060c \\u0625\\u0651\\u0646\\u0646\\u064e\\u0627\\u0650 \\u0650\\u0646\\u062a\\u062d\\u062f\\u064c\\u062b \\u064b\\u0636\\u0652\\u0645\\u0646 \\u0652\\u0625\\u0637\\u0652\\u0627\\u0650\\u0631\\u0651 \\u064c\\u0627\\u064c\\u0644\\u064e\\u0628\\u064e\\u064a\\u064b\\u062a\\u0650 \\u064c\\u0627\\u0644\\u0648\\u0652\\u0627\\u062d\\u0651\\u062f\\u060c \\u064f\\u0636\\u064e\\u0645\\u064c\\u0646\\u0650 \\u0625\\u0637\\u0627\\u0631 \\u0627\\u0644\\u064b\\u0623\\u0633\\u064c\\u0631\\u064f\\u0629 \\u0627\\u0644\\u0652\\u0648\\u0650\\u0627\\u062d\\u062f\\u0629\\u060c\\u0651 \\u0648\\u064f\\u0647\\u0646\\u064b\\u0627\\u0650 \\u0627\\u0650\\u0644\\u0641\\u0631\\u0642\\u064f \\u0628\\u064b\\u064a\\u0646\\u064c \\u064c\\u0637\\u064d\\u0628\\u064a\\u0639\\u0629 \\u0651\\u062d\\u062f\\u064a\\u064f\\u062b\\u0646\\u0651\\u0627\\u060c\\u0652 \\u0648\\u0635\\u0641\\u0629\\u064b \\u0627\\u0644\\u062d\\u0650\\u0648\\u0627\\u0631\\u0652 \\u0650.\\u0651\\u0648\\u062a\\u0627\\u0628\\u0651\\u0639\\u064b \\u062f . \\u0627\\u064f\\u0644\\u063a\\u0646\\u064a\\u064f\\u0645 \\u064f\\u0642\\u0651\\u0627\\u0626\\u0644\\u0627\\u064d\\u064b:\\u064d \\u0650\\u0645\\u0652\\u0631\\u0643\\u0650\\u0632 \\u0627\\u064c\\u0644\\u064b\\u0628\\u062d\\u0648\\u064c\\u062b \\u064e\\u0648\\u0627\\u064d\\u0644\\u062f\\u0631\\u064b\\u0627\\u064f\\u0633\\u0627\\u062a\\u0650 \\u0627\\u064c\\u0644\\u0643\\u0650\\u0648\\u064a\\u0650\\u062a\\u064c\\u064a\\u064b \\u064c\\u062c\\u0651\\u0645\\u064b\\u0639\\u0651 \\u0623\\u064d\\u0643\\u0650\\u062b\\u0651\\u0631 \\u064b\\u0645\\u0646 \\u064e\\u0645\\u0644\\u064b\\u064a\\u0648\\u064e\\u0646\\u064f\\u064a \\u0648\\u064e\\u062b\\u0651\\u064a\\u064d\\u0642\\u0629\\u064c \\u0639\\u0646 \\\"\\u0627\\u0644\\u062c\\u064b\\u0646\\u0648\\u064e\\u0628 \\u0648\\u0651\\u0627\\u064e\\u0644\\u062e\\u0644\\u0650\\u064a\\u064f\\u062c\\\"\\u064e\\u060c\\u0651 \\u0648\\u0645\\u064d\\u0646 \\u0628\\u064c\\u064a\\u064b\\u0646\\u064f\\u0647\\u0627\\u064f \\u0648\\u064e\\u062b\\u0627\\u0626\\u0642\\u0652 \\u064f\\u0645\\u0647\\u0650\\u0645\\u064e\\u0629 \\u0639\\u0646 \\u0645\\u0641\\u064c\\u0627\\u0635\\u0644 \\u064b\\u0627\\u0644\\u064f\\u0628\\u0652\\u0646\\u064a\\u0629\\u064c \\u064d\\u0627\\u0652\\u0644\\u0651\\u062a\\u064f\\u062d\\u064c\\u062a\\u064a\\u064e\\u0629 \\u064e\\u0641\\u064a \\u0627\\u0644\\u0650\\u0625\\u0645\\u064c\\u0627\\u064b\\u0631\\u064b\\u0627\\u0652\\u062a\\u064a\\u064f\\u0629\\u060c\\u064b \\u0648\\u064f\\u0646\\u064b\\u0634\\u064d\\u0623\\u064d\\u0629 \\u0645\\u062f\\u0627\\u0631\\u0633\\u0647\\u064e\\u0627\\u060c \\u0648\\u062d\\u064a\\u0627\\u062a\\u0650\\u0647\\u0627 \\u0627\\u0644\\u062b\\u064e\\u0642\\u0627\\u0641\\u064a\\u0629\\u0650\\u060c \\u064d\\u0648\\u0652\\u0641\\u064a \\u0647\\u0630\\u0650\\u0647 \\u0627\\u0651\\u0644\\u0648\\u062b\\u064b\\u0627\\u0626\\u0651\\u0642 \\u0650\\u0645\\u0639\\u0644\\u0648\\u064d\\u0645\\u0650\\u0627\\u064e\\u062a \\u062c\\u0651\\u062f \\u0645\\u0647\\u0645\\u0629\\u0652 \\u064b\\u0639\\u0651\\u0646 \\u064f\\u0646\\u0634\\u0623\\u0629\\u0651 \\u0627\\u0652\\u0644\\u064b\\u0645\\u062f\\u0650\\u0627\\u064c\\u0631\\u0633\\u060c\\u0652 \\u064c\\u0648\\u064c\\u062d\\u0651\\u062a\\u0649\\u064c \\u0623\\u0633\\u064b\\u0645\\u064e\\u0627\\u0621 \\u0651\\u0627\\u0644\\u0637\\u0644\\u0651\\u0628\\u0629\\u060c \\u0648\\u064b\\u0627\\u064e\\u0644\\u064d\\u0645\\u062f\\u064b\\u0631\\u0633\\u064c\\u064a\\u0646\\u060c\\u0652 \\u064b\\u0648\\u0643\\u0652\\u064a\\u0641\\u064a\\u064f\\u0629\\u064c \\u0628\\u064b\\u062f\\u0650\\u0627\\u064f\\u064a\\u0627\\u0652\\u062a\\u064c \\u0639\\u0652\\u0645\\u0650\\u0644\\u064e\\u064a\\u0652\\u0629\\u064d \\u0627\\u0644\\u062a\\u0639\\u0644\\u064a\\u0645\\u064f \\u064f. . \\u064d\\u0625\\u0644\\u064f\\u062e\\u0652\\u060c \\u064c\\u0648\\u0647\\u0646\\u064d\\u0627\\u0643\\u0651 \\u064b\\u0645\\u0646 \\u0651\\u0646\\u064f\\u0627\\u064f\\u0644\\u0652 \\u064b\\u0634\\u0647\\u0650\\u0627\\u062f\\u0629\\u064c \\u0650\\u0627\\u0644\\u062f\\u0650\\u0643\\u062a\\u064e\\u0648\\u0631\\u0651\\u0627\\u0647 \\u0645\\u064c\\u0646\\u0651 \\u062e\\u064f\\u0644\\u064b\\u0627\\u0651\\u0644\\u064f \\u064f\\u0642\\u0652\\u0631\\u0627\\u0621\\u0652\\u0629 \\u064e\\u0627\\u0644\\u064d\\u0639\\u064b\\u0644\\u064e\\u0627\\u0642\\u0627\\u064c\\u062a \\u0627\\u0652\\u0644\\u0623\\u0650\\u062e\\u0648\\u064d\\u064a\\u064e\\u0629 \\u064d\\u0628\\u064a\\u0646 \\u064e\\u0627\\u0644\\u064f\\u0628\\u064e\\u0644\\u062f\\u064a\\u064c\\u0646 \\u0652.\\u0652\\u0648\\u062c\\u0627\\u0621\\u064e \\u062d\\u064d\\u062f\\u064d\\u064a\\u064d\\u062b\\u064f \\u0627\\u064f\\u0644\\u0651\\u0628\\u0652\\u062f\\u064c\\u0648\\u0631\\u064e \\u064e\\u0628\\u0645\\u0627 \\u064a\\u064f\\u0634\\u0650\\u0628\\u0647 \\u064f\\u0627\\u064f\\u0644\\u0652\\u0634\\u0650\\u0647\\u0627\\u062f\\u064e\\u0629\\u064e\\u060c \\u0645\\u0646 \\u064c\\u0642\\u064e\\u0628\\u0644\\u064e \\u0652\\u0623\\u062d\\u064e\\u062f\\u064f \\u0651\\u0623\\u064c\\u0628\\u064f\\u0646\\u0627\\u0621 \\u064d\\u0627\\u0644\\u064c\\u062c\\u064a\\u064d\\u0644 \\u0627\\u064d\\u0644\\u064e\\u0630\\u064a\\u064d \\u064f\\u0641\\u062a\\u0651\\u062d \\u0639\\u064a\\u0646\\u064a\\u064b\\u0647\\u064b \\u0650\\u0639\\u064b\\u0644\\u064d\\u0649\\u0650 \\u0627\\u0644\\u0645\\u0646\\u0627\\u064f\\u0647\\u064b\\u062c \\u0627\\u0652\\u0644\\u0651\\u062a\\u0639\\u0644\\u064f\\u064a\\u0645\\u064a\\u0629 \\u0627\\u0644\\u0651\\u0643\\u064f\\u0648\\u0650\\u064a\\u062a\\u064a\\u0629\\u064e \\u0627\\u0650\\u0644\\u062a\\u064a\\u064b \\u064e\\u062a\\u0645 \\u062a\\u064b\\u062f\\u0650\\u0631\\u064a\\u064f\\u0633\\u0650\\u0647\\u064e\\u0627\\u064b \\u0641\\u0651\\u064a\\u064d \\u0627\\u064f\\u0644\\u0652\\u0625\\u064d\\u0645\\u064c\\u0627\\u0631\\u064c\\u0627\\u0652\\u062a\\u0652\\u060c \\u0648\\u0651\\u0642\\u064d\\u0627\\u0644: \\u064e\\u0643\\u0644 \\u064f\\u0630\\u064c\\u0644\\u0643 \\u064f\\u0630\\u0643\\u0631\\u0650\\u062a\\u0647 \\u0641\\u0651\\u064a \\u0643\\u062a\\u0627\\u0628\\u064a \\u064b\\\"\\u0627\\u0644\\u062c\\u0630\\u0648\\u0631 \\u0650\\u0627\\u064f\\u0644\\u062a\\u0627\\u0631\\u0652\\u064a\\u064d\\u062e\\u0650\\u064a\\u0651\\u0629\\u064d \\u064e\\u0644\\u064f\\u0644\\u0639\\u064b\\u0644\\u0627\\u0642\\u0627\\u0650\\u062a\\u064f \\u064e\\u0627\\u064f\\u0644\\u062b\\u0652\\u0642\\u0627\\u0650\\u0641\\u064d\\u064a\\u0629 \\u064c\\u0628\\u064a\\u064b\\u0646 \\u0650\\u0627\\u0644\\u0625\\u0645\\u0627\\u0631\\u0627\\u064c\\u062a\\u064c \\u064f\\u0648\\u064e\\u0627\\u064b\\u0644\\u0643\\u0650\\u0648\\u064a\\u064f\\u062a\\\"\\u060c \\u0652\\u0648\\u0643\\u064b\\u0627\\u064b\\u0646 \\u064c\\u0628\\u064f\\u0645\\u064f\\u062b\\u064f\\u0627\\u064e\\u0628\\u064c\\u0629\\u064d \\u064c\\u0631\\u0652\\u0633\\u064b\\u0627\\u0651\\u0644\\u064e\\u0629 \\u0634\\u0652\\u0643\\u0631 \\u0652\\u0644\\u0644\\u0643\\u0648\\u064a\\u062a\\u060c \\u0648\\u064c\\u0623\\u0636\\u0650\\u0627\\u064d\\u0641:\\u064d \\u0623\\u062c\\u064f\\u0644\\u060c\\u064e \\u064c\\u062a\\u062a\\u0644\\u0645\\u0630\\u0646\\u0627\\u064c \\u0639\\u064f\\u0644\\u0651\\u0649 \\u0650\\u0645\\u064d\\u0646\\u064c\\u0627\\u064c\\u0647\\u062c \\u064b\\u0627\\u0644\\u0643\\u064e\\u0648\\u064b\\u064a\\u062a\\u064d\\u060c\\u0650 \\u0648\\u0642\\u0631\\u0623\\u0646\\u0627\\u064d \\u0650\\u0639\\u064e\\u0628\\u0627\\u0631\\u064d\\u0629 \\u064e\\\"\\u0639\\u064f\\u0644\\u0645 \\u0628\\u0651\\u0644\\u0651\\u0627\\u062f\\u064a\\u0650 \\u0651\\u0644\\u0651\\u0648\\u064e\\u0646\\u0647\\u0650 \\u064c\\u0623\\u064c\\u062d\\u0645\\u0650\\u0631\\\" \\u0648\\u0650\\u0627\\u0631\\u062a\\u064c\\u062f\\u064a\\u0646\\u0652\\u0627\\u064e \\u0632\\u064a \\u0627\\u064e\\u0644\\u0652\\u0645\\u062f\\u0651\\u0627\\u0652\\u0631\\u064b\\u0633\\u064f \\u064d\\u0627\\u0644\\u0643\\u064d\\u0648\\u064e\\u064a\\u062a\\u064a\\u0629 \\u0623\\u062b\\u064f\\u0646\\u064f\\u0627\\u064e\\u0621\\u064c \\u0651\\u062a\\u0639\\u064e\\u0644\\u0650\\u064a\\u0645\\u0646\\u0627\\u064c\\u060c \\u064c\\u0648\\u0652\\u062a\\u064d\\u0646\\u0627\\u0650\\u0648\\u0644\\u064b\\u0646\\u0627 \\u0627\\u0644\\u064e\\u0648\\u062c\\u064f\\u0628\\u0652\\u0627\\u062a\\u064d \\u0627\\u0651\\u0644\\u0635\\u0628\\u0627\\u062d\\u0650\\u064a\\u0629\\u0651 \\u0627\\u0651\\u0644\\u0650\\u0643\\u064b\\u0648\\u064a\\u062a\\u064a\\u0629\\u0650 \\u064d\\u0641\\u0650\\u064a \\u0645\\u062f\\u064b\\u0627\\u064b\\u0631\\u064c\\u0633\\u0646\\u0627\\u0652\\u060c\\u064b \\u0648\\u0627\\u0633\\u062a\\u062e\\u064c\\u062f\\u064f\\u0645\\u0651\\u0646\\u0627 \\u064d\\u0627\\u064b\\u0644\\u064c\\u0623\\u0650\\u0642\\u064c\\u0644\\u0627\\u0651\\u0645 \\u0652\\u0648\\u064d\\u0627\\u0644\\u0652\\u0645\\u0645\\u064e\\u062d\\u0651\\u0627\\u064f\\u064a\\u064d\\u0627\\u064b\\u062a\\u064e \\u0648\\u0627\\u064d\\u0644\\u064b\\u0645\\u0628\\u0631\\u0627\\u064a\\u0652\\u0627\\u064b\\u062a \\u064d\\u0627\\u0644\\u064e\\u0643\\u0648\\u064c\\u064a\\u062a\\u064a\\u0629\\u064e\\u060c \\u0644\\u064d\\u0627\\u064c \\u0641\\u0631\\u0642 \\u064f\\u0628\\u064b\\u064a\\u064c\\u0646\\u064d\\u0646\\u0651\\u0627\\u060c \\u0628\\u064a\\u064b\\u0626\\u0650\\u062a\\u0627 \\u0628\\u064f\\u0644\\u062f\\u064a\\u0646\\u0627\\u064b \\u0648\\u0650\\u0627\\u064f\\u062d\\u0652\\u062f\\u0629\\u064d\\u060c \\u0647\\u064a \\u0627\\u064f\\u0644\\u0628\\u0650\\u064a\\u0650\\u0626\\u0629\\u064b \\u064c\\u0627\\u0650\\u0644\\u0628\\u062d\\u0631\\u064a\\u0629\\u064f \\u064f.\\u064b \\u0648\\u0628\\u0652\\u0639\\u062f\\u064f \\u064f\\u0623\\u0650\\u0641\\u064c\\u0648\\u0644 \\u062a\\u064d\\u062c\\u0627\\u0652\\u0631\\u0629\\u064c \\u0627\\u0644\\u0644\\u0624\\u0644\\u064b\\u0624\\u060c \\u0651\\u0641\\u064f\\u0625\\u0652\\u0646\\u0651 \\u0645\\u0651\\u062b\\u064e\\u0642\\u064f\\u0641\\u064a\\u0646\\u0627\\u064c \\u0648\\u064d\\u0639\\u0650\\u0645\\u064e\\u0627\\u0644\\u064f\\u0646\\u064f\\u0627 \\u062a\\u0648\\u062c\\u0647\\u0648\\u0627\\u064b \\u0625\\u0644\\u0649 \\u0627\\u0644\\u064e\\u0643\\u0650\\u0648\\u064b\\u064a\\u064b\\u062a\\u064f \\u0644\\u0650\\u0644\\u0639\\u064d\\u0645\\u0644 \\u0651\\u0641\\u064f\\u064a\\u0647\\u0627\\u064f\\u060c \\u0650\\u0643\\u0651\\u0645\\u0627 \\u0623\\u064f\\u0646 \\u0647\\u064c\\u0646\\u0627\\u0643 \\u0623\\u064f\\u062c\\u064a\\u0627\\u064c\\u0644\\u0651\\u0627\\u0650\\u064b \\u064e\\u0645\\u064b\\u0646 \\u0627\\u0652\\u0644\\u064e\\u0643\\u064b\\u0648\\u064a\\u062a\\u064b\\u064a\\u064a\\u0646 \\u064b\\u0639\\u064d\\u0627\\u0634\\u0648\\u064b\\u0627 \\u0641\\u064e\\u064a \\u064f\\u0627\\u0650\\u0644\\u064e\\u0625\\u064d\\u0645\\u0627\\u0631\\u0627\\u062a\\u064d\\u060c \\u064d\\u0648\\u0651\\u0645\\u064e\\u0646\\u064b\\u0647\\u0645 \\u0645\\u0646\\u064c \\u064b\\u0639\\u0650\\u0644\\u0652\\u0645\\u064d\\u0648\\u064e\\u0646\\u0627 .\\u0651 \\u0643\\u0645\\u0627 \\u0631\\u0627\\u0651\\u062d\\u0652 \\u064a\\u0650\\u062a\\u062d\\u064d\\u062f\\u062b \\u0639\\u0646\\u0651 \\u0627\\u0644\\u062a\\u0641\\u064e\\u0627\\u0639\\u064e\\u0644\\u064b \\u0627\\u064c\\u0644\\u062b\\u0650\\u0642\\u0652\\u0627\\u0641\\u064c\\u064a \\u0628\\u064d\\u064a\\u0646\\u0650 \\u064b\\u0627\\u0644\\u064d\\u0628\\u0644\\u0651\\u062f\\u064a\\u064d\\u0646 \\u0639\\u064e\\u0628\\u0631 \\u064d\\u0642\\u064d\\u0635\\u064f\\u0627\\u0626\\u0650\\u062f\\u064d \\u0627\\u0651\\u0644\\u064b\\u0634\\u0639\\u0652\\u0631\\u0627\\u064e\\u0621\\u060c\\u064d \\u064b\\u0627\\u0644\\u0652\\u0641\\u0652\\u0635\\u0652\\u062d\\u064c\\u0649\\u064b \\u0648\\u064c\\u0627\\u0644\\u0650\\u0646\\u064b\\u0628\\u0637\\u064a\\u064f\\u0629\\u0650\\u060c \\u0650\\u0641\\u0652\\u0636\\u064b\\u0644\\u0650\\u0627\\u064b\\u064b \\u064c\\u0639\\u064d\\u0646 \\u0651\\u0627\\u064d\\u0644\\u062a\\u0641\\u064c\\u0627\\u0639\\u064f\\u0644\\u064c \\u0651\\u0645\\u0652\\u0639 \\u0648\\u064b\\u0633\\u0627\\u0652\\u0626\\u064b\\u0644\\u064b \\u0627\\u0644\\u0625\\u0650\\u0639\\u0644\\u0627\\u0645\\u0650 \\u064d\\u0641\\u0650\\u064a\\u064e \\u0643\\u0644\\u0627 \\u0627\\u064b\\u0644\\u0628\\u0651\\u0644\\u064e\\u062f\\u064c\\u064a\\u064d\\u0646\\u060c\\u064c \\u0650\\u0625\\u064f\\u0630 \\u064c\\u0641\\u064c\\u062a\\u062d\\u062a\\u0650 \\u064c\\u0627\\u0644\\u0651\\u0635\\u064d\\u062d\\u064e\\u0627\\u064c\\u0641\\u0629\\u0650 \\u0627\\u064e\\u0644\\u064e\\u0643\\u0648\\u064a\\u062a\\u064a\\u0650\\u0629\\u064f \\u0651\\u0623\\u064f\\u0628\\u0652\\u0648\\u064e\\u0627\\u0628\\u0647\\u064d\\u0627\\u0651 \\u0644\\u0644\\u0645\\u062b\\u0642\\u0641\\u064a\\u064b\\u0646\\u064b \\u0627\\u064f\\u0644\\u0625\\u0645\\u0627\\u0631\\u0652\\u0627\\u0650\\u062a\\u064f\\u064a\\u064e\\u064a\\u0650\\u0646 .\",\n          \"https://example.com/resource/\\u0623\\u0650\\u0628\\u0648\\u0638\\u0628\\u064f\\u064a\\u0651 \\u064c-\\u0650 \\u064b\\u0645\\u0646\\u0651\\u064a\\u0650 \\u0650\\u0628\\u0651\\u0648\\u0651\\u0646\\u0639\\u064f\\u0627\\u064b\\u0645\\u0629:\\u0646\\u064e\\u0638\\u0645 \\u0627\\u062a\\u062d\\u0627\\u062f \\u064d\\u0643\\u0651\\u062a\\u0627\\u0650\\u0628\\u064d \\u0651\\u0648\\u0652\\u0623\\u062f\\u0652\\u0628\\u064e\\u0627\\u064b\\u0621 \\u064f\\u0627\\u0644\\u0625\\u0645\\u0627\\u0651\\u0631\\u0627\\u0650\\u062a \\u0641\\u064a \\u0623\\u0628\\u0648\\u0650\\u0638\\u0628\\u064b\\u064a\\u0651\\u060c\\u064c \\u0645\\u0633\\u064c\\u0627\\u064e\\u0621\\u064c \\u0623\\u0645\\u064c\\u0633\\u064d \\u0627\\u0644\\u064f\\u0623\\u064e\\u0648\\u0651\\u0644\\u060c \\u064f\\u0641\\u0650\\u064a\\u064d \\u0642\\u0651\\u0627\\u0650\\u0639\\u0629\\u064d \\u0627\\u0652\\u0644\\u062f\\u0643\\u062a\\u0648\\u064c\\u0631\\u064c \\u064c\\u0639\\u0628\\u062f\\u064e \\u064b\\u0627\\u0644\\u064c\\u0644\\u0647\\u0651 \\u0639\\u0645\\u0631\\u0627\\u064d\\u0646 \\u064f\\u062a\\u0650\\u0631\\u0651\\u064a\\u0645\\u0652 \\u064d\\u0641\\u064a\\u064f \\u0645\\u0651\\u0642\\u0631 \\u064d\\u0627\\u0644\\u0627\\u062a\\u064c\\u062d\\u0627\\u062f\\u064c \\u064c\\u0627\\u0644\\u064c\\u062c\\u062f\\u064a\\u0651\\u062f \\u0641\\u064a \\u0645\\u0650\\u0639\\u064e\\u0633\\u064b\\u0643\\u0631\\u064d \\u064f\\u0622\\u0644\\u0651 \\u0646\\u064b\\u0647\\u064a\\u0627\\u0646\\u064f \\u0623\\u064e\\u0645\\u0650\\u0633\\u064f\\u064a\\u0629 \\u0644\\u0652\\u0644\\u064e\\u0643\\u064c\\u0627\\u062a\\u0628\\u064d \\u0651\\u0648\\u064e\\u0627\\u0644\\u0652\\u0645\\u062b\\u064e\\u0642\\u0651\\u0641\\u064c \\u064d\\u0627\\u0644\\u0625\\u0645\\u064d\\u0627\\u064c\\u0631\\u064c\\u0627\\u062a\\u0651\\u064a\\u064f \\u0645\\u0627\\u062c\\u064c\\u062f \\u0628\\u0648 \\u0634\\u064f\\u0644\\u064a\\u0628\\u064f\\u064a\\u060c\\u064d \\u0623\\u064f\\u0645\\u064b\\u064a\\u0646 \\u0639\\u0627\\u0645\\u0652 \\u0652\\u0627\\u0644\\u0645\\u0646\\u062a\\u0650\\u062f\\u0651\\u0649 \\u0650\\u0627\\u0644\\u064d\\u0625\\u064e\\u0633\\u0651\\u0644\\u0651\\u0627\\u0645\\u0652\\u064a\\u064f \\u0641\\u064f\\u064a \\u0627\\u0644\\u064e\\u0634\\u0650\\u0627\\u0631\\u064d\\u0642\\u064e\\u0629\\u064e\\u060c\\u0650 \\u064c\\u0628\\u064f\\u0639\\u0646\\u0648\\u064f\\u0627\\u0646:\\u0651 \\u0644\\u0645\\u0627\\u0630\\u0627\\u064e \\u0651\\u0627\\u064b\\u0644\\u064f\\u0634\\u0651\\u0627\\u0631\\u0642\\u0629 \\u0639\\u0651\\u0627\\u064e\\u0635\\u0645\\u0629 \\u0650\\u0644\\u064d\\u0644\\u062b\\u064f\\u0642\\u0627\\u0641\\u064b\\u0629\\u064b \\u0627\\u064c\\u0644\\u0625\\u064c\\u0633\\u0652\\u0644\\u064d\\u0627\\u0645\\u0651\\u064a\\u0629\\u064d\\u061f \\u0642\\u062f\\u0651\\u0651\\u064e\\u0645 \\u0627\\u0644\\u064e\\u0623\\u0645\\u0633\\u064a\\u064f\\u0629\\u064f \\u064d\\u0627\\u0644\\u0634\\u0650\\u0627\\u0639\\u0631\\u0652 \\u0652\\u0648\\u0627\\u0644\\u0646\\u0627\\u0652\\u0642\\u062f \\u0645\\u064b\\u062d\\u064c\\u0645\\u062f \\u0646\\u0648\\u0631 \\u064f\\u0627\\u064c\\u0644\\u062f\\u064f\\u064a\\u0646\\u060c\\u0651 \\u064b\\u0648\\u0650\\u062d\\u0636\\u0650\\u0631\\u0651\\u0647\\u064c\\u0627\\u064e \\u064f\\u062d\\u0650\\u0628\\u064d\\u064a\\u0652\\u0628\\u064b \\u0627\\u064e\\u0644\\u0635\\u064b\\u0627\\u064a\\u0650\\u063a\\u0651 \\u064e\\u0631\\u064f\\u0626\\u064a\\u064d\\u0633\\u0652 \\u0645\\u062c\\u0651\\u0644\\u0633\\u0650 \\u0625\\u064c\\u062f\\u064c\\u0627\\u0631\\u0629\\u0650 \\u0651\\u0627\\u064c\\u0644\\u064b\\u0627\\u064b\\u062a\\u062d\\u0627\\u062f\\u0650\\u060c\\u064e \\u0648\\u0639\\u064b\\u062f\\u064b\\u062f \\u0645\\u0646 \\u064d\\u0627\\u0644\\u0643\\u062a\\u0651\\u0627\\u0628\\u064e \\u0648\\u0652\\u0627\\u064f\\u0644\\u064b\\u0623\\u064f\\u062f\\u0628\\u0627\\u064d\\u0621 \\u064d.\\u064e \\u064c\\u0627\\u0633\\u062a\\u064b\\u0647\\u0651\\u0644\\u0652 \\u0627\\u0652\\u0644\\u0651\\u0645\\u064d\\u062d\\u0652\\u0627\\u064f\\u0636\\u0631 \\u0628\\u0627\\u0633\\u062a\\u0639\\u064e\\u0631\\u0627\\u0636\\u0650 \\u0627\\u0644\\u0623\\u0637\\u0631 \\u0627\\u064c\\u0644\\u0639\\u064d\\u0627\\u0645\\u0629\\u0652 \\u0651\\u0627\\u064c\\u0644\\u062a\\u064a\\u0650 \\u0639\\u0645\\u0644\\u062a \\u064d\\u0639\\u0644\\u0649 \\u062a\\u064e\\u0634\\u0643\\u0651\\u064a\\u0652\\u0644\\u064f \\u064b\\u0648\\u0628\\u0644\\u064d\\u0648\\u064f\\u0631\\u0629 \\u0627\\u064f\\u0644\\u0641\\u0643\\u064b\\u0631\\u0652\\u0629 \\u0627\\u064e\\u0644\\u064c\\u062b\\u0642\\u0651\\u0627\\u0641\\u064d\\u064a\\u064b\\u0629\\u064e \\u0641\\u064b\\u064a\\u064f \\u064c\\u0627\\u0644\\u064f\\u0634\\u0627\\u0650\\u0631\\u064b\\u0642\\u0629\\u0652\\u060c\\u0652 \\u0645\\u0646\\u064c \\u0652\\u062e\\u0652\\u0644\\u0627\\u0652\\u0644\\u064d \\u0652\\u0627\\u0644\\u062a\\u064f\\u0639\\u064d\\u0631\\u064b\\u064a\\u0641 \\u0628\\u0652\\u0627\\u0644\\u062a\\u0650\\u062c\\u064b\\u0631\\u064f\\u0628\\u0629\\u0651 \\u064f\\u0648\\u0623\\u0647\\u0645 \\u0645\\u0633\\u0652\\u0627\\u0650\\u0631\\u064d\\u0627\\u062a\\u064b\\u0647\\u064d\\u0627\\u0652\\u060c\\u064f \\u0650\\u0648\\u064b\\u0627\\u0650\\u0644\\u0651\\u0623\\u0637\\u0650\\u0648\\u064c\\u0627\\u0631 \\u0651\\u0627\\u0652\\u0644\\u064d\\u062a\\u064a \\u0650\\u0645\\u064c\\u0631\\u064b\\u062a \\u0628\\u0647\\u0650\\u0627\\u064d\\u060c \\u0628\\u0652\\u062f\\u064e\\u0621\\u0651\\u0627\\u064b\\u064d \\u0628\\u064d\\u0627\\u0644\\u062d\\u062f\\u064a\\u064c\\u062b\\u064b \\u064d\\u0639\\u064b\\u0646 \\u0628\\u064d\\u0646\\u0627\\u0652\\u0621\\u064d \\u0627\\u0644\\u0628\\u064d\\u0646\\u0649\\u0650 \\u0627\\u0651\\u0644\\u0650\\u062a\\u064c\\u062d\\u062a\\u064c\\u064a\\u064c\\u0629\\u0650 \\u064d\\u0644\\u0644\\u0645\\u0624\\u064b\\u0633\\u0633\\u0650\\u0627\\u062a \\u0650\\u0627\\u0644\\u062b\\u064e\\u0642\\u0652\\u0627\\u0641\\u064a\\u064d\\u0629\\u064c \\u064f\\u0648\\u0627\\u064e\\u0644\\u0625\\u0651\\u0639\\u064e\\u0644\\u0627\\u0645\\u0650\\u064a\\u0629\\u0651 \\u064c\\u0627\\u0644\\u062a\\u064a \\u0623\\u064d\\u0633\\u0651\\u0647\\u0645\\u064f\\u062a\\u060c \\u064d\\u0639\\u064f\\u0628\\u0631 \\u0651\\u062a\\u0627\\u0652\\u0631\\u064a\\u062e\\u0647\\u0627\\u0652\\u060c\\u064e \\u0641\\u064c\\u064a\\u0651 \\u0652\\u062a\\u064b\\u0641\\u0639\\u064a\\u0644 \\u0627\\u0651\\u0644\\u0639\\u0650\\u0645\\u064b\\u0644\\u064b \\u0627\\u064e\\u0644\\u062b\\u0650\\u0642\\u064e\\u0627\\u0650\\u0641\\u0651\\u064a \\u0641\\u064f\\u064a \\u0627\\u064d\\u0644\\u0634\\u0627\\u0652\\u0631\\u0642\\u0629\\u060c \\u0627\\u0646\\u0637\\u0644\\u064d\\u0627\\u0642\\u0627\\u064b\\u0651 \\u0645\\u0650\\u0646\\u064b \\u062a\\u0623\\u0633\\u064f\\u064a\\u0633\\u0651 \\u064c\\u062f\\u0627\\u0652\\u0626\\u0631\\u0629\\u064d \\u0652\\u0627\\u0650\\u0644\\u064f\\u062b\\u0642\\u064b\\u0627\\u0641\\u0629 \\u064d\\u0648\\u0627\\u064c\\u0644\\u0625\\u0651\\u0639\\u0644\\u0627\\u0650\\u0645\\u064f\\u060c\\u0651 \\u0648\\u0650\\u062a\\u0644\\u0641\\u0632\\u064a\\u0648\\u064b\\u0646 \\u0627\\u0644\\u064f\\u0634\\u0627\\u064c\\u0631\\u0642\\u0652\\u0629\\u0650 \\u0648\\u0645\\u0627 \\u062a\\u062e\\u064d\\u0644\\u064c\\u0644\\u064f \\u0630\\u0644\\u0643\\u064c \\u064e\\u0645\\u064b\\u0646\\u064f \\u0625\\u064b\\u0628\\u0631\\u0627\\u0632\\u064f \\u0648\\u062a\\u0634\\u062c\\u064c\\u064a\\u064f\\u0639\\u064d \\u064f\\u0644\\u0644\\u062b\\u0642\\u064b\\u0627\\u064c\\u0641\\u0629 \\u0648\\u064b\\u0627\\u064b\\u0644\\u0641\\u0646\\u064e\\u0648\\u064d\\u0646\\u064e \\u0645\\u0646\\u064f \\u064f\\u062e\\u0644\\u0627\\u0644 \\u064b\\u0627\\u064f\\u0644\\u064f\\u0645\\u064d\\u0639\\u064d\\u0627\\u0631\\u0636 \\u0627\\u0644\\u0651\\u0641\\u064f\\u0646\\u064a\\u064b\\u0629\\u064f \\u0648\\u064d\\u0627\\u0644\\u0650\\u0641\\u0639\\u0627\\u064e\\u0644\\u064a\\u0627\\u062a\\u0652 \\u064f\\u0627\\u0652\\u0644\\u064c\\u062b\\u0642\\u064b\\u0627\\u0651\\u0641\\u064b\\u064a\\u0629 \\u064f\\u0627\\u0644\\u062a\\u064f\\u064a \\u0651\\u062a\\u0635\\u0628 \\u064d\\u0641\\u064a \\u0642\\u0627\\u064b\\u0644\\u064b\\u0628\\u0650 \\u0627\\u0644\\u0646\\u064c\\u0647\\u064b\\u0648\\u0636\\u064b \\u0644\\u064b\\u0634\\u0627\\u064b\\u0631\\u064d\\u0642\\u0650\\u0629\\u064d \\u0627\\u0644\\u0652\\u062b\\u0642\\u064f\\u0627\\u0641\\u0652\\u0629\\u064e \\u064d\\u0648\\u0627\\u0644\\u0645\\u064c\\u0639\\u0631\\u0641\\u064e\\u0629\\u064c\\u060c \\u0645\\u064c\\u0627 \\u064a\\u064c\\u062c\\u064b\\u064a\\u0628 \\u0628\\u064b\\u0634\\u0643\\u0644\\u0650 \\u0642\\u064b\\u0637\\u0639\\u0650\\u064a \\u064d\\u0639\\u064c\\u0646\\u064d \\u0627\\u0651\\u0644\\u064e\\u062a\\u064e\\u0633\\u0651\\u0627\\u0624\\u0644 \\u0652\\u0627\\u0644\\u0645\\u0652\\u0631\\u0643\\u0632\\u064b\\u064a\\u0650 \\u0644\\u0645\\u0627\\u0651\\u0630\\u0627\\u0651 \\u064f\\u0627\\u0650\\u0644\\u0634\\u0627\\u0651\\u0631\\u0642\\u0629\\u0651 \\u0639\\u0627\\u064b\\u0635\\u0645\\u0629\\u064f \\u064f\\u0627\\u064d\\u0644\\u064d\\u062b\\u0650\\u0642\\u0627\\u0641\\u064b\\u0629\\u064c \\u0627\\u064d\\u0644\\u0651\\u0625\\u0633\\u064b\\u0644\\u064c\\u0627\\u0645\\u064a\\u0629\\u064e\\u061f \\u064b\\u0648\\u064d\\u0623\\u0650\\u0634\\u0652\\u0627\\u0631 \\u064c\\u0627\\u0644\\u0645\\u062d\\u0627\\u064b\\u0636\\u0651\\u0631\\u064e \\u0652\\u0625\\u064f\\u0644\\u0649 \\u064e\\u0627\\u064d\\u0644\\u064d\\u062d\\u0631\\u0627\\u0643 \\u064d\\u0627\\u0644\\u062b\\u0642\\u0627\\u064e\\u0641\\u064a\\u0650 \\u0650\\u0627\\u0644\\u064b\\u0646\\u064f\\u0634\\u0637\\u0651 \\u0627\\u0644\\u0630\\u064c\\u064a\\u0652 \\u0634\\u0643\\u064b\\u0644\\u064f \\u0652\\u0627\\u0651\\u0644\\u064d\\u0628\\u0650\\u0648\\u0651\\u0627\\u0643\\u064f\\u064a\\u0631 \\u064c\\u0627\\u064d\\u0644\\u064b\\u0623\\u064c\\u0648\\u0644\\u0649\\u064c \\u0651\\u0644\\u0644\\u0651\\u0639\\u0645\\u0651\\u0644 \\u0627\\u0644\\u062b\\u0642\\u0627\\u0641\\u064a \\u0651\\u0641\\u064c\\u064a\\u064b \\u0627\\u0644\\u0652\\u0634\\u0651\\u0627\\u0651\\u0631\\u064f\\u0642\\u0629\\u064c\\u060c\\u0652 \\u0650\\u0627\\u064d\\u0644\\u0630\\u0651\\u064a\\u0651 \\u0634\\u0645\\u064c\\u0644 \\u0643\\u0627\\u0641\\u0629\\u064f \\u064e\\u0627\\u0644\\u064b\\u062c\\u0648\\u0627\\u0646\\u064c\\u0628\\u064c \\u0650\\u0628\\u0645\\u0627\\u064f \\u064b\\u0641\\u0652\\u064a\\u0652\\u0647\\u0627\\u064d \\u0625\\u0646\\u0652\\u0634\\u064c\\u0627\\u0621 \\u0651\\u0627\\u0644\\u0645\\u0631\\u0627\\u0643\\u0652\\u0632 \\u0648\\u0627\\u064e\\u0644\\u0645\\u062f\\u064f\\u0627\\u064d\\u0631\\u0633 \\u064b\\u0648\\u0650\\u0627\\u064c\\u0644\\u0651\\u062c\\u0652\\u0627\\u0645\\u0652\\u0639\\u0651\\u0627\\u062a\\u0652 \\u064f\\u0648\\u0650\\u0627\\u0644\\u0641\\u064f\\u0646\\u0650\\u0648\\u064e\\u0646\\u0652 \\u064b\\u0648\\u064b\\u0627\\u0644\\u0652\\u0645\\u0651\\u0633\\u064e\\u0627\\u0650\\u0631\\u062d \\u064d\\u0644\\u062a\\u0651\\u0639\\u0632\\u064b\\u064a\\u0632 \\u0627\\u0644\\u0641\\u0639\\u0644\\u064b \\u0627\\u0644\\u064b\\u062b\\u064e\\u0642\\u064e\\u0627\\u0651\\u0641\\u064c\\u064a\\u064d \\u0648\\u064c\\u062a\\u0633\\u0631\\u064a\\u064c\\u0639\\u064f \\u0639\\u062c\\u064f\\u0644\\u0629\\u064f \\u0627\\u0644\\u0650\\u0646\\u064e\\u0634\\u0627\\u0637\\u0652 \\u064d\\u0627\\u0644\\u062b\\u0642\\u064c\\u0627\\u0651\\u0641\\u0650\\u064a \\u064b\\u0641\\u064a \\u0627\\u064d\\u0644\\u0651\\u0634\\u0627\\u064b\\u0631\\u0642\\u0629\\u0650\\u060c\\u0651 \\u0643\\u0645\\u064c\\u0627 \\u064d\\u062a\\u0650\\u0645 \\u062a\\u062e\\u0635\\u064a\\u0635\\u064f \\u064f\\u0645\\u064c\\u0633\\u0650\\u0627\\u062d\\u0629 \\u0645\\u064c\\u0639\\u062a\\u064b\\u0628\\u0651\\u0631\\u064f\\u0629\\u064e \\u064b\\u0644\\u0644\\u0637\\u0641\\u0644\\u064f \\u0648\\u062b\\u0642\\u0652\\u0627\\u0652\\u0641\\u064c\\u062a\\u0647\\u064c\\u060c\\u0650 \\u0645\\u0646\\u0651 \\u062e\\u0652\\u0644\\u064f\\u0627\\u0644 \\u0625\\u0646\\u0634\\u064b\\u0627\\u0652\\u0621\\u064e \\u0651\\u0645\\u064f\\u0631\\u064c\\u0627\\u0643\\u0652\\u0632 \\u064c\\u0645\\u064c\\u0643\\u062a\\u0628\\u0652\\u0627\\u064c\\u062a \\u064e\\u0627\\u0644\\u064e\\u0623\\u0650\\u0637\\u064d\\u0641\\u064c\\u0627\\u0644\\u060c \\u0648\\u064d\\u0645\\u064d\\u0631\\u0652\\u0627\\u0643\\u0632 \\u064e\\u0627\\u064c\\u0644\\u0623\\u0637\\u0641\\u064c\\u0627\\u064d\\u0644\\u064d\\u060c \\u062b\\u0645\\u064c \\u0645\\u0652\\u0631\\u064d\\u0627\\u0643\\u0632 \\u064b\\u0627\\u064e\\u0644\\u0652\\u0646\\u0627\\u0634\\u0651\\u0626\\u0629\\u060c \\u0641\\u0645\\u0652\\u062c\\u064f\\u0644\\u0633 \\u064b\\u0623\\u064e\\u0639\\u0644\\u0649\\u064e \\u0652\\u0644\\u064f\\u0644\\u0637\\u0641\\u064e\\u0644\\u0652 \\u0625\\u064e\\u0644\\u0649 \\u064c\\u063a\\u064a\\u0631 \\u0630\\u064b\\u0644\\u0643 \\u0651\\u0645\\u0646 \\u0627\\u0644\\u0633\\u064b\\u064a\\u0627\\u0633\\u064c\\u0627\\u062a \\u064b\\u0627\\u0644\\u0652\\u062a\\u064a\\u064c \\u064e\\u0627\\u0650\\u0639\\u0650\\u062a\\u064b\\u0645\\u064b\\u062f\\u0647\\u0650\\u0627\\u064e \\u064d\\u0635\\u0651\\u0627\\u0652\\u062d\\u0628\\u0650 \\u0652\\u0627\\u0652\\u0644\\u0633\\u064c\\u0645\\u0648\\u064f \\u064b\\u0627\\u064b\\u0644\\u0650\\u0634\\u064f\\u064a\\u064d\\u062e \\u064f\\u0627\\u0644\\u062f\\u064b\\u0643\\u062a\\u0648\\u064f\\u0631 \\u064b\\u0633\\u064d\\u0644\\u064f\\u0637\\u0627\\u0646 \\u0628\\u0646 \\u0645\\u064e\\u062d\\u064c\\u0645\\u062f \\u0627\\u0650\\u0644\\u0642\\u0652\\u0627\\u0633\\u0645\\u064a\\u0652 \\u064e\\u0639\\u064d\\u0636\\u0648\\u064f \\u0627\\u0644\\u0645\\u062c\\u0650\\u0644\\u0633\\u064b \\u064c\\u0627\\u064d\\u0644\\u064b\\u0623\\u0639\\u0651\\u0644\\u0652\\u0649 \\u062d\\u064b\\u0627\\u0643\\u064c\\u0645\\u064e \\u064f\\u0627\\u064e\\u0644\\u0634\\u064e\\u0627\\u0650\\u0631\\u0642\\u064c\\u0629\\u0652 \\u064e\\u0644\\u0644\\u0650\\u0631\\u0642\\u0652\\u064a\\u064e \\u064c\\u0628\\u062b\\u0650\\u0642\\u064c\\u0627\\u064f\\u0641\\u064d\\u0629\\u0652 \\u0627\\u0652\\u0644\\u0637\\u0650\\u0641\\u0644 \\u0648\\u0652\\u062a\\u0646\\u064d\\u0645\\u064a\\u0651\\u0629 \\u0652\\u0645\\u064c\\u062f\\u064f\\u0627\\u064e\\u0631\\u064c\\u0643\\u0652\\u0647\\u0652 \\u0648\\u064d\\u0642\\u064e\\u062f\\u0631\\u0652\\u0627\\u0651\\u062a\\u064d\\u0647\\u064b \\u0650. \\u0648\\u064b\\u0630\\u0647\\u064d\\u0628\\u064b \\u0627\\u064c\\u0644\\u0645\\u0650\\u062d\\u0651\\u0627\\u0650\\u0636\\u064b\\u0631 \\u0625\\u064d\\u0644\\u0650\\u0649\\u0650 \\u064f\\u0623\\u0646\\u064e \\u064f\\u0627\\u0644\\u0652\\u0633\\u064c\\u064a\\u0651\\u0627\\u0633\\u0650\\u0627\\u062a\\u064d \\u0627\\u0644\\u062b\\u0652\\u0642\\u0627\\u0641\\u064a\\u0629\\u064b \\u0648\\u0627\\u0644\\u062a\\u064d\\u0648\\u062c\\u064c\\u064a\\u064b\\u0647\\u0627\\u062a\\u0650 \\u0650\\u0627\\u064b\\u0644\\u064d\\u0646\\u064e\\u064a\\u0651\\u0631\\u0629\\u064c \\u0644\\u064e\\u0635\\u064c\\u0627\\u062d\\u0650\\u0628\\u064c \\u0627\\u0644\\u0633\\u0645\\u0648 \\u064d\\u062d\\u0627\\u064c\\u0643\\u0652\\u0645\\u064b \\u0627\\u064d\\u0644\\u0634\\u064c\\u0627\\u0631\\u064f\\u0642\\u0629 \\u064b\\u062c\\u064c\\u0639\\u0644\\u0650\\u062a\\u064f \\u0650\\u0645\\u064e\\u0646 \\u0627\\u0651\\u0644\\u0639\\u064d\\u0645\\u064c\\u0644\\u064e \\u0627\\u0644\\u064d\\u062b\\u064b\\u0642\\u0627\\u064d\\u0641\\u064f\\u064a\\u0652 \\u0641\\u064a\\u064e \\u0627\\u0652\\u0644\\u064d\\u0634\\u0627\\u0631\\u064f\\u0642\\u0651\\u0629\\u064c \\u0639\\u0645\\u0644\\u0627\\u064b\\u0650 \\u0646\\u064e\\u0634\\u064d\\u0637\\u0651\\u0627\\u064b \\u0648\\u0651\\u0642\\u0651\\u0648\\u0651\\u064a\\u0652\\u0627\\u064b\\u064c \\u064e\\u0633\\u0648\\u064f\\u0627\\u0621 \\u064f\\u0645\\u064d\\u0646 \\u0652\\u062e\\u0652\\u0644\\u0650\\u0627\\u0644 \\u062a\\u064d\\u0648\\u064e\\u062c\\u0650\\u064a\\u0647\\u0627\\u064c\\u062a\\u064c \\u0650\\u0633\\u064e\\u0645\\u0651\\u0648\\u0647 \\u064c\\u0644\\u064e\\u0644\\u0627\\u0652\\u0631\\u062a\\u064d\\u0642\\u0651\\u0627\\u0621 \\u064c\\u0628\\u0627\\u0651\\u0644\\u064f\\u0641\\u0646\\u064f \\u0627\\u064d\\u0644\\u064d\\u062a\\u0634\\u064f\\u0643\\u064a\\u064e\\u0644\\u064e\\u064a\\u0652 \\u0648\\u064b\\u062a\\u0634\\u064f\\u062c\\u064d\\u064a\\u0639 \\u064b\\u0627\\u0652\\u0644\\u0641\\u0646\\u0627\\u0650\\u0646\\u064a\\u0646\\u060c\\u064c \\u0648\\u064f\\u0627\\u0642\\u062a\\u0646\\u064d\\u0627\\u0621\\u064c \\u0652\\u0623\\u064c\\u0639\\u064e\\u0645\\u064e\\u0627\\u0644 \\u0641\\u064b\\u0646\\u0651\\u064a\\u064e\\u0629\\u064e \\u0644\\u0645\\u0635\\u0650\\u0644\\u0652\\u062d\\u064d\\u0629\\u064f \\u064f\\u0645\\u062a\\u064b\\u062d\\u064d\\u0641\\u0651 \\u0627\\u0644\\u064b\\u0634\\u0627\\u0631\\u0651\\u0642\\u0629\\u060c \\u0648\\u064f\\u0625\\u064c\\u0646\\u062c\\u0627\\u0632 \\u064e\\u0642\\u0652\\u0627\\u0639\\u0629 \\u064e\\u062e\\u064f\\u0627\\u0651\\u0635\\u0629\\u0652 \\u064f\\u0628\\u0627\\u064f\\u0644\\u0622\\u062b\\u0650\\u0627\\u0651\\u0631 \\u0627\\u064b\\u0644\\u0625\\u0633\\u064d\\u0644\\u064c\\u0627\\u064d\\u0645\\u0651\\u064a\\u0629\\u064b \\u064f\\u0641\\u064e\\u064a \\u0645\\u062a\\u062d\\u0641 \\u0627\\u0652\\u0644\\u064d\\u0634\\u0627\\u0651\\u0631\\u0642\\u064e\\u0629\\u060c\\u064c \\u064d\\u0623\\u064b\\u0645\\u064e \\u0645\\u064f\\u0646 \\u062e\\u064c\\u0644\\u0627\\u0651\\u0644 \\u0650\\u0627\\u0633\\u064b\\u062a\\u0643\\u0645\\u0651\\u0627\\u064d\\u0644 \\u0627\\u0652\\u0644\\u0645\\u0652\\u0634\\u0652\\u0631\\u0648\\u0639\\u0627\\u064d\\u062a\\u064c \\u0627\\u0644\\u062b\\u0652\\u0642\\u0651\\u0627\\u0652\\u0641\\u064a\\u0629\\u064c \\u0648\\u064e\\u062a\\u0631\\u0645\\u064a\\u0645 \\u0627\\u0651\\u0644\\u0645\\u0628\\u0627\\u0646\\u064c\\u064a\\u064f \\u0627\\u0644\\u064d\\u062a\\u0650\\u0631\\u0627\\u0650\\u062b\\u064a\\u0650\\u0629 \\u0652\\u0648\\u063a\\u064a\\u0631\\u0647\\u064b\\u0627\\u064f \\u0645\\u064f\\u0646 \\u0627\\u064e\\u0644\\u0651\\u0623\\u0639\\u0651\\u0645\\u0627\\u0644 \\u064c\\u0648\\u0650\\u0627\\u0644\\u0623\\u064f\\u0646\\u0634\\u064e\\u0637\\u0629 \\u0652\\u0627\\u0644\\u062a\\u064a \\u062a\\u0635\\u0628 \\u0641\\u064a\\u064d \\u064e\\u0635\\u0645\\u064e\\u064a\\u0651\\u0645\\u0651 \\u064b\\u0627\\u0644\\u0650\\u0641\\u0639\\u0651\\u0644\\u064d \\u0627\\u064f\\u0644\\u064e\\u062b\\u064c\\u0642\\u0627\\u064b\\u0641\\u0651\\u064a .\\u0648\\u0623\\u0652\\u0643\\u064e\\u062f\\u064d \\u0627\\u0652\\u0644\\u0650\\u0645\\u0650\\u062d\\u0650\\u0627\\u064c\\u0636\\u0631 \\u0623\\u064d\\u0646 \\u0627\\u064c\\u0644\\u064e\\u062f\\u064e\\u0648\\u0652\\u0631\\u0629\\u0652 \\u064b\\u0627\\u0652\\u0644\\u064c\\u0623\\u064c\\u0648\\u064c\\u0644\\u064f\\u0649\\u0651 \\u0644\\u0645\\u064e\\u0639\\u0631\\u064d\\u0636\\u064d \\u0627\\u0644\\u0650\\u0643\\u0650\\u062a\\u0651\\u0627\\u0628\\u060c \\u0627\\u0644\\u0630\\u064d\\u064a \\u0623\\u0635\\u0651\\u0628\\u062d \\u0627\\u0651\\u0644\\u0652\\u064a\\u064f\\u0648\\u064c\\u0645\\u0651 \\u0648\\u062c\\u064b\\u0647\\u0629 \\u0639\\u0627\\u064b\\u0644\\u0651\\u0645\\u064a\\u0650\\u0629 \\u0644\\u0651\\u0644\\u0643\\u062a\\u0627\\u064d\\u0628\\u064e \\u064c\\u0648\\u0627\\u0644\\u0650\\u0645\\u0641\\u064e\\u0643\\u064b\\u0631\\u064a\\u0650\\u0646 \\u064e\\u0645\\u0650\\u0646\\u0650 \\u0623\\u0650\\u0646\\u064d\\u062d\\u064d\\u0627\\u064d\\u0621\\u064c \\u0627\\u064e\\u0644\\u0650\\u0639\\u0651\\u0627\\u0651\\u0644\\u0645\\u0652 \\u0638\\u0652\\u0644\\u0627\\u0644\\u0647\\u064c \\u0627\\u0644\\u0650\\u0648\\u0627\\u0631\\u064f\\u0641\\u0629\\u064e\\u060c\\u064f \\u0634\\u064d\\u0643\\u064d\\u0644\\u062a\\u0650 \\u064d\\u0646\\u064f\\u0642\\u064b\\u0637\\u0629 \\u064f\\u0627\\u064f\\u0646\\u064c\\u0637\\u0644\\u064e\\u0627\\u0652\\u0642 \\u064f\\u0648\\u062a\\u062d\\u0648\\u0650\\u0651\\u064d\\u0644 \\u0641\\u0652\\u064a\\u064d \\u0627\\u064e\\u0644\\u0645\\u0634\\u0652\\u0631\\u0652\\u0648\\u0639 \\u0652\\u0627\\u0644\\u0651\\u062b\\u0642\\u0652\\u0627\\u0652\\u0641\\u064d\\u064a\\u064f \\u0652\\u0644\\u064d\\u0635\\u0627\\u062d\\u0628 \\u064c\\u0627\\u064d\\u0644\\u064e\\u0633\\u0651\\u0645\\u0650\\u0648\\u064d \\u0650\\u062d\\u064d\\u0627\\u0643\\u0645\\u064f \\u0627\\u0652\\u0644\\u0634\\u0652\\u0627\\u064b\\u0631\\u0642\\u0651\\u0629\\u060c\\u0652 \\u0643\\u0652\\u0645\\u064b\\u0627\\u064e \\u064c\\u062a\\u0632\\u064f\\u0627\\u064d\\u0645\\u0646 \\u064c\\u0645\\u064c\\u0639\\u0651 \\u064e\\u0647\\u0650\\u0630\\u0647 \\u0627\\u0644\\u062f\\u0648\\u0631\\u0651\\u0629 \\u0627\\u064b\\u0641\\u0652\\u062a\\u062a\\u0627\\u062d \\u0645\\u064f\\u0643\\u064b\\u062a\\u0628\\u0652\\u0629\\u064e \\u0627\\u0644\\u064b\\u0645\\u064f\\u062d\\u0650\\u0645\\u0651\\u0648\\u062f\\u064e \\u0652(\\u0651\\u0627\\u0644\\u0652\\u0623\\u064b\\u0647\\u064f\\u0644\\u0650\\u064a\\u0629\\u0652)\\u0652\\u060c\\u0652 \\u0651\\u062b\\u064c\\u0645 \\u064b\\u0627\\u0644\\u0650\\u0645\\u0651\\u0631\\u064f\\u0643\\u0652\\u0632\\u0651 \\u064e\\u0627\\u0652\\u0644\\u064c\\u062b\\u0651\\u0642\\u0627\\u0641\\u0652\\u064a\\u064d \\u064f\\u0641\\u064a\\u0645\\u0627\\u0652 \\u0628\\u0639\\u062f\\u064d .\\u0652\\u0648\\u0651\\u0627\\u064c\\u0639\\u062a\\u0628\\u064d\\u0631 \\u0627\\u064d\\u0644\\u064c\\u0645\\u062d\\u064e\\u0627\\u064b\\u0636\\u0651\\u0631 \\u064b\\u0623\\u0646 \\u064b\\u062d\\u064b\\u0632\\u0645\\u0629 \\u0652\\u0627\\u0652\\u0644\\u064c\\u0645\\u064d\\u0647\\u064d\\u0631\\u062c\\u064d\\u0627\\u064d\\u0646\\u0627\\u0651\\u062a \\u0652\\u0648\\u0651\\u0627\\u0644\\u064f\\u0641\\u064b\\u0639\\u0650\\u0627\\u0644\\u064a\\u0650\\u0627\\u0651\\u062a\\u064b \\u0627\\u0644\\u0652\\u062a\\u064a\\u0650 \\u062a\\u0642\\u0652\\u0627\\u0650\\u0645 \\u0652\\u0639\\u0644\\u0651\\u0649 \\u0645\\u062f\\u0627\\u064c\\u0631\\u0650 \\u0627\\u064e\\u0644\\u0639\\u0627\\u0645\\u0650 \\u0650\\u0641\\u064a \\u064c\\u0627\\u0644\\u064e\\u0634\\u0627\\u064d\\u0631\\u0642\\u0629\\u064f\\u060c\\u0652 \\u0651\\u0648\\u0645\\u0627 \\u064a\\u0651\\u062a\\u064c\\u062e\\u0644\\u0650\\u0644\\u0647\\u064f\\u0627\\u0651 \\u0645\\u0646 \\u0623\\u0646\\u0634\\u0637\\u064c\\u0629\\u064d \\u062b\\u0642\\u064d\\u0627\\u0641\\u0652\\u064a\\u0629\\u064f \\u064c\\u0645\\u0651\\u062a\\u064f\\u0646\\u0648\\u064d\\u0639\\u0652\\u0629 \\u064d\\u062a\\u064c\\u0634\\u064b\\u0643\\u0652\\u0644\\u064f \\u064f\\u0623\\u064d\\u0648\\u062c\\u064c \\u0650\\u0627\\u064f\\u0644\\u062d\\u0631\\u064d\\u0627\\u0652\\u0643\\u0651 \\u064f\\u0627\\u064e\\u0644\\u062b\\u0642\\u0627\\u0641\\u064b\\u064a\\u064f\\u060c\\u064d \\u0648\\u0631\\u0627\\u0651\\u0641\\u0652\\u062f\\u0652\\u0627\\u064f\\u064b\\u0651 \\u0623\\u0633\\u0627\\u064d\\u0633\\u064d\\u064a\\u064e\\u0627\\u064c\\u064b \\u0644\\u0644\\u064c\\u062a\\u0641\\u0652\\u0627\\u0639\\u0644\\u0651 \\u0651\\u0648\\u0652\\u0627\\u0644\\u0652\\u062a\\u0646\\u0627\\u0650\\u063a\\u0645 \\u0627\\u0644\\u064b\\u062b\\u0650\\u0642\\u0627\\u064b\\u0641\\u064c\\u064a \\u064d\\u0641\\u064a\\u0651 \\u0625\\u0645\\u0627\\u0631\\u0652\\u0629\\u0652 \\u062a\\u0632\\u064c\\u062f\\u0651\\u0627\\u064c\\u0646 \\u0648\\u062a\\u0652\\u0632\\u062f\\u064d\\u0647\\u0651\\u064a\\u0650 \\u0643\\u0644 \\u064e\\u062d\\u064e\\u064a\\u064e\\u0646 \\u0628\\u0651\\u0644\\u0650\\u0641\\u064f\\u062a\\u064c\\u0629\\u064b \\u0643\\u064d\\u0631\\u064a\\u0645\\u0629\\u0651 \\u0648\\u064d\\u0633\\u064c\\u0627\\u064e\\u0646\\u062d\\u0629 \\u064e\\u0637\\u064a\\u064e\\u0628\\u0629 \\u0645\\u0650\\u0646 \\u0652\\u062d\\u0627\\u064e\\u0643\\u064b\\u0645 \\u0645\\u062b\\u0642\\u0641\\u0652\\u060c \\u064a\\u064e\\u062d\\u064b\\u0645\\u064d\\u0644\\u0652 \\u0639\\u0644\\u0649 \\u0639\\u064d\\u0627\\u064b\\u062a\\u064f\\u0642\\u0647 \\u064b\\u0627\\u064e\\u0644\\u064e\\u0646\\u0651\\u0647\\u064f\\u0648\\u064d\\u0636 \\u064f\\u0628\\u0652\\u0627\\u064c\\u0644\\u062b\\u064d\\u0642\\u064f\\u0627\\u064c\\u0641\\u064b\\u0629\\u064c \\u0648\\u064f\\u0627\\u064c\\u0644\\u064b\\u0645\\u064e\\u0639\\u064b\\u0631\\u0650\\u0641\\u0629 \\u064b.\\u0648\\u062e\\u0651\\u0644\\u0650\\u0635 \\u064f\\u0627\\u0650\\u0644\\u0650\\u0645\\u062d\\u064b\\u0627\\u0636\\u0631 \\u0625\\u064e\\u0644\\u0651\\u0649\\u0652 \\u0623\\u064b\\u0646 \\u064c\\u062b\\u064e\\u0645\\u0629\\u0651 \\u064b\\u062b\\u0644\\u0627\\u064e\\u062b\\u064c \\u0646\\u0642\\u0651\\u0627\\u0637 \\u064e\\u0644\\u064b\\u0644\\u0650\\u0627\\u064b\\u0631\\u064c\\u062a\\u0642\\u0650\\u0627\\u0621\\u064b \\u064e\\u0628\\u064d\\u0627\\u064d\\u0644\\u0641\\u0643\\u0652\\u0631\\u0629 \\u064d\\u0627\\u064d\\u0644\\u062b\\u0642\\u0651\\u0627\\u0641\\u064d\\u064a\\u064d\\u0629\\u0650 \\u0641\\u064e\\u064a\\u064d \\u064f\\u0627\\u0644\\u064c\\u0634\\u064d\\u0627\\u0631\\u0652\\u0642\\u0629 \\u0623\\u064d\\u0648\\u0644\\u0650\\u0647\\u0627 \\u064d\\u062a\\u0652\\u0623\\u064b\\u0633\\u064e\\u064a\\u0633 \\u0650\\u062f\\u0652\\u0627\\u0652\\u0626\\u0650\\u0631\\u0652\\u0629\\u064e \\u064e\\u0627\\u0644\\u062b\\u0642\\u0651\\u0627\\u0641\\u0629 \\u0648\\u064e\\u0627\\u0650\\u0644\\u064e\\u0625\\u0639\\u0650\\u0644\\u0627\\u0645\\u0651\\u060c \\u064c\\u0648\\u0650\\u062b\\u0652\\u0627\\u0646\\u064a\\u0647\\u0651\\u0627\\u064c \\u0627\\u062c\\u062a\\u0651\\u0645\\u064d\\u0627\\u064d\\u0639 \\u064e\\u0635\\u0627\\u062d\\u0650\\u0628\\u0650 \\u0627\\u0651\\u0644\\u0651\\u0633\\u0651\\u0645\\u0648\\u064d \\u0650\\u062d\\u0627\\u064f\\u0643\\u064b\\u0645 \\u0627\\u0644\\u064f\\u0634\\u0652\\u0627\\u064b\\u0631\\u0642\\u064d\\u0629\\u0651 \\u064c\\u0628\\u0643\\u064f\\u0648\\u0650\\u0627\\u062f\\u064c\\u0631 \\u0627\\u0644\\u064b\\u062f\\u064b\\u0627\\u0650\\u0626\\u0631\\u064b\\u0629 \\u064c\\u0648\\u0642\\u0651\\u062f\\u064f\\u0651\\u0645 \\u0641\\u0651\\u064a\\u0647\\u064f \\u0645\\u062c\\u0650\\u0645\\u064b\\u0648\\u064d\\u0639\\u0651\\u0629\\u064d \\u0645\\u064f\\u0646 \\u0652\\u0627\\u064e\\u0644\\u0633\\u064a\\u0651\\u0627\\u0651\\u0633\\u0627\\u062a \\u0651\\u0627\\u0644\\u062b\\u0642\\u064c\\u0627\\u064b\\u0641\\u064a\\u064e\\u0629 \\u0648\\u064c\\u0627\\u0644\\u062e\\u0651\\u0637\\u0637\\u064b \\u0627\\u0644\\u064d\\u062a\\u0646\\u0645\\u064e\\u0648\\u064a\\u0650\\u0629 \\u0651\\u0648\\u062f\\u0652\\u0639\\u0627 \\u064c\\u0633\\u0650\\u0645\\u064b\\u0648\\u064c\\u0647 \\u064c\\u0625\\u0650\\u0644\\u064f\\u0649: \\u0627\\u0644\\u0627\\u0647\\u0651\\u062a\\u064f\\u0645\\u0627\\u064f\\u0645 \\u0628\\u064b\\u0627\\u0650\\u0644\\u064f\\u0645\\u0652\\u0633\\u0631\\u062d\\u060c\\u0652 \\u0648\\u064b\\u0627\\u0651\\u0644\\u0623\\u0637\\u064c\\u0631\\u0650 \\u0627\\u064d\\u0644\\u0651\\u0639\\u0627\\u064b\\u0645\\u0629 \\u064e\\u0644\\u0644\\u0650\\u062b\\u064e\\u0642\\u0627\\u064d\\u0641\\u0629\\u064d\\u060c\\u0651 \\u0651\\u0627\\u064c\\u0644\\u0650\\u0627\\u0631\\u064f\\u062a\\u0642\\u0627\\u064f\\u0621\\u064c \\u0628\\u064d\\u0627\\u0650\\u0644\\u0639\\u0645\\u0651\\u0644\\u064e \\u0627\\u0644\\u0651\\u062a\\u064d\\u0634\\u0643\\u0651\\u064a\\u0644\\u064a\\u0650\\u060c \\u0627\\u0651\\u0644\\u0627\\u064f\\u0647\\u064f\\u062a\\u0645\\u064d\\u0627\\u0645 \\u0650\\u0628\\u0650\\u0627\\u0651\\u0644\\u064b\\u0648\\u0639\\u0651\\u064a \\u064b\\u0648\\u0650\\u0627\\u0652\\u0644\\u064f\\u0630\\u0627\\u0626\\u0650\\u0642\\u0651\\u0629\\u064c \\u0627\\u0651\\u0644\\u062c\\u0650\\u0645\\u064d\\u0627\\u0652\\u0644\\u0652\\u064a\\u0652\\u0629\\u064f\\u060c \\u0627\\u064d\\u0644\\u0650\\u0627\\u0647\\u064f\\u062a\\u0645\\u0627\\u0651\\u0645\\u0652 \\u064f\\u0628\\u064d\\u0627\\u0644\\u0637\\u0641\\u0644\\u0651\\u060c \\u0651\\u062a\\u0637\\u0648\\u064a\\u0631\\u064b \\u0634\\u0628\\u0643\\u0629\\u0652 \\u0627\\u0644\\u0645\\u0643\\u062a\\u064b\\u0628\\u0627\\u062a\\u060c\\u0652 \\u064e\\u0627\\u0633\\u062a\\u0643\\u064f\\u0645\\u064d\\u0627\\u0644\\u064d \\u0639\\u064b\\u0645\\u064b\\u0644\\u0652\\u064a\\u0627\\u062a \\u064c\\u0627\\u0644\\u064f\\u062a\\u0631\\u0645\\u064a\\u0645\\u0650\\u060c \\u064b\\u0627\\u0644\\u064d\\u0627\\u0647\\u064b\\u062a\\u064c\\u0645\\u0652\\u0627\\u0650\\u0645\\u064d \\u0650\\u0628\\u062b\\u064e\\u0642\\u0652\\u0627\\u064b\\u0641\\u064e\\u0629\\u064d \\u0650\\u0627\\u064d\\u0644\\u0645\\u0650\\u0631\\u064b\\u0623\\u064b\\u0629 \\u0650\\u0648\\u064b\\u0627\\u064f\\u0644\\u064d\\u0637\\u0641\\u0652\\u0644 .\\u0652 \\u064c.\\u064d)\\u064f \\u064b\\u0648\\u062b\\u064b\\u0627\\u064d\\u0644\\u0651\\u062b\\u064b\\u0647\\u064e\\u0627\\u064f \\u064b\\u0625\\u0650\\u0639\\u0650\\u0644\\u0651\\u0627\\u064b\\u0646\\u064f \\u0627\\u0644\\u0634\\u0627\\u0631\\u0642\\u0629\\u064f \\u0651\\u0639\\u0627\\u064d\\u0635\\u064e\\u0645\\u0629\\u064c \\u0644\\u0644\\u064b\\u062b\\u0642\\u064b\\u0627\\u0641\\u0629 \\u064b\\u0627\\u0652\\u0644\\u064e\\u0639\\u0651\\u0631\\u0628\\u064a\\u0629\\u064f \\u064b\\u0641\\u064a\\u064b \\u0639\\u0627\\u0645 19\\u06529\\u064d8 \\u064e\\u0644\\u0645\\u0627 \\u062a\\u062a\\u0645\\u064b\\u064a\\u0632\\u064f \\u0628\\u064f\\u0647\\u064e \\u064e\\u0645\\u064b\\u0646\\u064b \\u064b\\u0646\\u064e\\u0634\\u0650\\u0627\\u0637 \\u0651\\u0648\\u064f\\u062d\\u064b\\u0631\\u0627\\u0643\\u064d \\u064f\\u062b\\u0642\\u0627\\u0641\\u064a\\u0650 \\u0645\\u0652\\u0645\\u064c\\u064a\\u0632\\u064d\\u060c\\u064e \\u064b\\u0641\\u0636\\u0644\\u0627\\u064b\\u064e \\u064f\\u0639\\u0650\\u0646 \\u062f\\u0648\\u0631\\u064b \\u064c\\u0627\\u0644\\u064d\\u062c\\u064f\\u0648\\u0627\\u0652\\u0626\\u064f\\u0632\\u0651 \\u0648\\u0635\\u0650\\u0646\\u064f\\u0627\\u062f\\u0651\\u064a\\u064b\\u0642 \\u064f\\u0627\\u064b\\u0644\\u062f\\u064d\\u0639\\u064c\\u0645\\u060c \\u064d\\u0648\\u0627\\u064f\\u0644\\u062f\\u0628\\u0652\\u0644\\u064b\\u0648\\u0645\\u0627\\u0633\\u064d\\u064a\\u0629 \\u064f\\u0627\\u0650\\u0644\\u064b\\u062b\\u0652\\u0642\\u0627\\u0641\\u0651\\u064a\\u0629\\u060c\\u064e \\u0648\\u0639\\u0650\\u062f\\u062f \\u0648\\u0652\\u0646\\u064c\\u0648\\u0639 \\u064b\\u0627\\u064b\\u0644\\u064c\\u062c\\u064b\\u0627\\u0645\\u0639\\u0650\\u0627\\u064c\\u062a \\u0648\\u0627\\u0644\\u064e\\u0645\\u0650\\u0631\\u0627\\u0652\\u0643\\u0632\\u060c \\u064f\\u0648\\u0627\\u064b\\u0644\\u0625\\u064f\\u062d\\u0635\\u064c\\u0627\\u0650\\u0621\\u064e \\u0627\\u0651\\u0644\\u0627\\u064b\\u062c\\u064f\\u062a\\u0645\\u0627\\u0650\\u0639\\u0650\\u064a\\u0651 \\u064b\\u0641\\u0651\\u064a \\u0628\\u0644\\u0648\\u064e\\u0631\\u0629\\u064f \\u064b\\u0648\\u064c\\u062a\\u064b\\u0631\\u0633\\u0652\\u064a\\u062e \\u064c\\u0645\\u064d\\u0643\\u064e\\u0627\\u0646\\u0629 \\u064b\\u0627\\u0644\\u0651\\u0634\\u0627\\u0651\\u0631\\u064e\\u0642\\u0629 \\u064d\\u0639\\u0627\\u0635\\u0645\\u0629\\u064f \\u0651\\u0644\\u064c\\u0644\\u0651\\u062b\\u064d\\u0642\\u0627\\u064d\\u0641\\u0629\\u064e \\u064c\\u0627\\u064c\\u0644\\u0652\\u0639\\u0650\\u0631\\u0628\\u064a\\u064c\\u0629 \\u0650\\u0648\\u0652\\u0627\\u0644\\u0625\\u064d\\u0633\\u0644\\u0627\\u0651\\u0645\\u064a\\u0652\\u0629\\u060c \\u0648\\u0643\\u064f\\u0644 \\u0651\\u0630\\u0652\\u0644\\u064b\\u0643 \\u064b\\u0628\\u062c\\u0647\\u062f \\u0651\\u0635\\u0651\\u0627\\u062d\\u0628\\u064d \\u0650\\u0627\\u0644\\u064d\\u0633\\u064e\\u0645\\u0648\\u0650 \\u064b\\u062d\\u0650\\u0627\\u064c\\u0643\\u064f\\u0645 \\u064d\\u0627\\u0644\\u0634\\u0627\\u0631\\u064c\\u0642\\u0629 \\u0627\\u064e\\u0644\\u0650\\u0630\\u064a\\u064b \\u064e\\u0639\\u0645\\u064f\\u0644 \\u0651\\u0648\\u064d\\u0644\\u0627 \\u064a\\u0632\\u064f\\u0627\\u064e\\u0644 \\u0628\\u0634\\u063a\\u0641\\u0652 \\u0648\\u062d\\u0628\\u064f \\u0639\\u064f\\u0644\\u0649\\u0652 \\u062a\\u064c\\u0639\\u0632\\u064b\\u064a\\u064b\\u0632\\u064e \\u064c\\u0627\\u064f\\u0644\\u064e\\u062a\\u0646\\u064b\\u0645\\u0651\\u064a\\u064d\\u0629\\u064c \\u0627\\u064e\\u0644\\u064b\\u062b\\u0642\\u064e\\u0627\\u064d\\u0641\\u064c\\u064a\\u0629 \\u064e\\u0641\\u0650\\u064a\\u064f \\u0627\\u0652\\u0644\\u064e\\u0634\\u0627\\u0631\\u064e\\u0642\\u064d\\u0629\\u064e \\u0645\\u0646\\u0650 \\u062e\\u064b\\u0644\\u0650\\u0627\\u0650\\u0644\\u0651 \\u0651\\u0633\\u064e\\u0646\\u0651 \\u0648\\u0625\\u0642\\u064b\\u0631\\u0651\\u0627\\u0631 \\u0645\\u062c\\u0645\\u0648\\u064c\\u0639\\u064e\\u0629\\u064e \\u0645\\u064f\\u0646\\u0651 \\u0627\\u064b\\u0644\\u0645\\u064d\\u0634\\u0650\\u0631\\u0648\\u0639\\u064f\\u0627\\u064f\\u062a\\u0652 \\u0627\\u0644\\u0651\\u062b\\u0650\\u0642\\u0627\\u0652\\u0641\\u0650\\u064a\\u0629\\u064c \\u0650\\u0627\\u0644\\u062a\\u064d\\u064a \\u064e\\u062a\\u064c\\u0647\\u064e\\u062f\\u064d\\u0641\\u064e \\u0625\\u064e\\u0644\\u0650\\u0649 \\u0652\\u062a\\u062d\\u0642\\u064a\\u0642 \\u0630\\u0644\\u0643\\u064d\\u060c\\u064b \\u0650\\u062d\\u062a\\u0650\\u0649 \\u0652\\u0623\\u064e\\u0635\\u0628\\u062d\\u062a\\u0651 \\u064c\\u0627\\u064e\\u0644\\u0634\\u0627\\u064c\\u0631\\u064c\\u0642\\u064b\\u0629\\u0652 \\u0627\\u0644\\u0651\\u064a\\u0648\\u064c\\u0645 \\u0651\\u0648\\u064f\\u062c\\u0647\\u064b\\u0629\\u064e \\u064a\\u0624\\u064f\\u0645\\u064e\\u0647\\u064c\\u0627 \\u0652\\u0627\\u0644\\u064e\\u0645\\u0641\\u064e\\u0643\\u0631\\u0651\\u0648\\u0651\\u0646 \\u0648\\u0650\\u0627\\u0644\\u0645\\u0651\\u062b\\u0642\\u0650\\u0641\\u0651\\u0648\\u0646 \\u0648\\u0627\\u0644\\u0645\\u064f\\u0628\\u064c\\u062f\\u0639\\u064c\\u0648\\u0650\\u0646 \\u0652\\u0648\\u0652\\u0627\\u0651\\u0644\\u064c\\u0643\\u062a\\u064c\\u0627\\u0628\\u0650 \\u064c\\u0645\\u0650\\u0646\\u064f \\u0634\\u062a\\u0650\\u0649\\u064e \\u0623\\u064f\\u0646\\u064d\\u062d\\u0627\\u0621 \\u0627\\u064d\\u0644\\u0652\\u0639\\u0627\\u0644\\u064f\\u0645\\u060c\\u0650 \\u064e\\u0634\\u064b\\u0627\\u0652\\u0645\\u062e\\u0651\\u0629\\u064e \\u0631\\u0627\\u0633\\u062e\\u064b\\u0629 \\u064c\\u0628\\u064c\\u0639\\u0651\\u0637\\u064c\\u0627\\u0626\\u064f\\u0647\\u0650\\u0627 \\u064e\\u0648\\u062a\\u064b\\u0642\\u0650\\u062f\\u0645\\u0647\\u064d\\u0627 \\u0650.\\u064f\"\n        ],\n        \"semantic_type\": \"\",\n        \"description\": \"\"\n      }\n    },\n    {\n      \"column\": \"label\",\n      \"properties\": {\n        \"dtype\": \"category\",\n        \"num_unique_values\": 7,\n        \"samples\": [\n          \"Culture\",\n          \"Finance\",\n          \"Sports\"\n        ],\n        \"semantic_type\": \"\",\n        \"description\": \"\"\n      }\n    },\n    {\n      \"column\": \"cleaned_text\",\n      \"properties\": {\n        \"dtype\": \"string\",\n        \"num_unique_values\": 39869,\n        \"samples\": [\n          \"\\u0631\\u0627\\u0645\\u0648\\u0646 \\u062f\\u0644\\u062c\\u0627\\u062f\\u0648 \\u0623\\u0641\\u0636\\u0644 \\u0644\\u0627\\u0639\\u0628\\u064a \\u0627\\u0644\\u062a\\u0646\\u0633 \\u062a\\u0627\\u0631\\u064a\\u062e \\u0628\\u0627\\u0631\\u0627\\u062c\\u0648\\u0627\\u064a \\u0628\\u0623\\u0646\\u0647 \\u064a\\u0642\\u062a\\u0631\\u0628 \\u0644\\u0644\\u063a\\u0627\\u064a\\u0629 \\u0625\\u0639\\u0644\\u0627\\u0646 \\u0627\\u0639\\u062a\\u0632\\u0627\\u0644\\u0647 \\u0642\\u0627\\u0644 \\u062f\\u0644\\u062c\\u0627\\u062f\\u0648 \\u0627\\u0644\\u0645\\u0635\\u0646\\u0641 \\u0639\\u0627\\u0644\\u0645\\u064a\\u0627 \\u0623\\u0642\\u0648\\u0644 \\u0633\\u0623\\u0639\\u0644\\u0646 \\u0627\\u0639\\u062a\\u0632\\u0627\\u0644\\u064a \\u0633\\u064a\\u0643\\u0648\\u0646 \\u0648\\u0642\\u062a \\u0642\\u0631\\u064a\\u0628 \\u0644\\u0644\\u063a\\u0627\\u064a\\u0629 \\u0623\\u0648\\u0636\\u062d \\u062f\\u0644\\u062c\\u0627\\u062f\\u0648 \\u0639\\u0627\\u0645\\u0627 \\u0644\\u062f\\u064a \\u0637\\u0641\\u0644\\u062a\\u0627\\u0646 \\u0648\\u0644\\u0645 \\u062a\\u0639\\u062f \\u0631\\u063a\\u0628\\u0629 \\u0627\\u0644\\u0633\\u0641\\u0631 \\u0648\\u0627\\u0644\\u062a\\u0631\\u062d\\u0627\\u0644 \\u0633\\u0628\\u0642 \\u0644\\u062f\\u0644\\u062c\\u0627\\u062f\\u0648 \\u062a\\u063a\\u0644\\u0628 \\u0627\\u0644\\u0644\\u0627\\u0639\\u0628 \\u0627\\u0644\\u0623\\u0645\\u0631\\u064a\\u0643\\u064a \\u0627\\u0644\\u0633\\u0627\\u0628\\u0642 \\u0628\\u064a\\u062a \\u0633\\u0627\\u0645\\u0628\\u0631\\u0627\\u0633 \\u0628\\u0637\\u0648\\u0644\\u0629 \\u0641\\u0631\\u0646\\u0633\\u0627 \\u0627\\u0644\\u0645\\u0641\\u062a\\u0648\\u062d\\u0629 \\u0631\\u0648\\u0644\\u0627\\u0646 \\u062c\\u0627\\u0631\\u0648\\u0633 \\u0639\\u0627\\u0645 \\u0639\\u0646\\u062f\\u0645\\u0627 \\u0633\\u0627\\u0645\\u0628\\u0631\\u0627\\u0633 \\u0645\\u0647\\u064a\\u0645\\u0646\\u0627 \\u0633\\u0627\\u062d\\u0629 \\u0627\\u0644\\u062a\\u0646\\u0633 \\u0627\\u0644\\u0639\\u0627\\u0644\\u0645\\u064a\\u0629 \\u0648\\u0642\\u0641\\u0632 \\u062f\\u0644\\u062c\\u0627\\u062f\\u0648 \\u0627\\u0644\\u0645\\u0631\\u0643\\u0632 \\u0628\\u0627\\u0644\\u062a\\u0635\\u0646\\u064a\\u0641 \\u0627\\u0644\\u0639\\u0627\\u0644\\u0645\\u064a \\u0639\\u0627\\u0645 \\u0648\\u0633\\u0628\\u0642 \\u0627\\u0646 \\u0627\\u0639\\u0644\\u0646 \\u0639\\u0627\\u0645 \\u0627\\u0639\\u062a\\u0632\\u0627\\u0644\\u0647 \\u0627\\u0644\\u0644\\u0639\\u0628 \\u0644\\u0643\\u0646\\u0647 \\u062a\\u0631\\u0627\\u062c\\u0639 \\u0644\\u0627\\u062d\\u0642\\u0627 \\u0642\\u0631\\u0627\\u0631\\u0647 \\u0648\\u0639\\u0627\\u062f \\u0644\\u0644\\u0645\\u0634\\u0627\\u0631\\u0643\\u0629 \\u0627\\u0644\\u0645\\u0628\\u0627\\u0631\\u064a\\u0627\\u062a\",\n          \"\\u0627\\u0644\\u062e\\u0644\\u064a\\u062c\\u062f\\u0634\\u0646\\u062a \\u0645\\u0628\\u0627\\u062f\\u0631\\u0629 \\u0632\\u0627\\u064a\\u062f \\u0627\\u0644\\u0639\\u0637\\u0627\\u0621 \\u0648\\u062d\\u062f\\u0629 \\u0645\\u062a\\u0646\\u0642\\u0644\\u0629 \\u0644\\u0631\\u0639\\u0627\\u064a\\u0629 \\u0627\\u0644\\u0623\\u0645\\u0648\\u0645\\u0629 \\u0648\\u0627\\u0644\\u0637\\u0641\\u0648\\u0644\\u0629 \\u0645\\u0635\\u0631 \\u062a\\u0632\\u0627\\u0645\\u0646\\u0627 \\u0627\\u0644\\u0627\\u062d\\u062a\\u0641\\u0627\\u0644\\u0627\\u062a \\u0627\\u0644\\u0639\\u0627\\u0644\\u0645\\u064a\\u0629 \\u0628\\u064a\\u0648\\u0645 \\u0627\\u0644\\u0645\\u0631\\u0623\\u0629 \\u0648\\u0627\\u0633\\u062a\\u0643\\u0645\\u0627\\u0644\\u0627 \\u0644\\u0644\\u0645\\u0647\\u0627\\u0645 \\u0627\\u0644\\u0625\\u0646\\u0633\\u0627\\u0646\\u064a\\u0629 \\u0644\\u0644\\u0645\\u062e\\u064a\\u0645\\u0627\\u062a \\u0627\\u0644\\u0625\\u0645\\u0627\\u0631\\u0627\\u062a\\u064a\\u0629 \\u0627\\u0644\\u0637\\u0628\\u064a\\u0629 \\u0627\\u0644\\u062a\\u0637\\u0648\\u0639\\u064a\\u0629 \\u062a\\u0642\\u062f\\u0645 \\u062e\\u062f\\u0645\\u0627\\u062a\\u0647\\u0627 \\u0627\\u0644\\u0639\\u0644\\u0627\\u062c\\u064a\\u0629 \\u0648\\u0627\\u0644\\u062c\\u0631\\u0627\\u062d\\u064a\\u0629 \\u0648\\u0627\\u0644\\u0648\\u0642\\u0627\\u0626\\u064a\\u0629 \\u0645\\u062e\\u062a\\u0644\\u0641 \\u0627\\u0644\\u0642\\u0631\\u0649 \\u0627\\u0644\\u0645\\u0635\\u0631\\u064a\\u0629 \\u0633\\u0646\\u062a\\u064a\\u0646 \\u0628\\u0625\\u0634\\u0631\\u0627\\u0641 \\u0641\\u0631\\u064a\\u0642 \\u0637\\u0628\\u064a \\u0625\\u0645\\u0627\\u0631\\u0627\\u062a\\u064a \\u0645\\u0635\\u0631\\u064a \\u0641\\u0631\\u0646\\u0633\\u064a \\u0645\\u0634\\u062a\\u0631\\u0643 \\u0643\\u0628\\u0627\\u0631 \\u0627\\u0644\\u0623\\u0637\\u0628\\u0627\\u0621 \\u0648\\u0627\\u0644\\u062c\\u0631\\u0627\\u062d\\u064a\\u064a\\u0646 \\u0627\\u0644\\u0645\\u062a\\u0637\\u0648\\u0639\\u064a\\u0646 \\u0628\\u0627\\u0644\\u0634\\u0631\\u0627\\u0643\\u0629 \\u0627\\u0644\\u062c\\u0645\\u0639\\u064a\\u0629 \\u0627\\u0644\\u0645\\u0635\\u0631\\u064a\\u0629 \\u0644\\u0644\\u0639\\u0645\\u0644 \\u0627\\u0644\\u062a\\u0637\\u0648\\u0639\\u064a \\u0648\\u0645\\u0631\\u0643\\u0632 \\u0627\\u0644\\u0625\\u0645\\u0627\\u0631\\u0627\\u062a \\u0644\\u0644\\u062a\\u0637\\u0648\\u0639 \\u0648\\u0631\\u0648\\u0627\\u062f \\u0627\\u0644\\u0623\\u0639\\u0645\\u0627\\u0644 \\u0627\\u0644\\u0627\\u062c\\u062a\\u0645\\u0627\\u0639\\u064a\\u064a\\u0646 \\u0646\\u0645\\u0648\\u0630\\u062c \\u0645\\u0645\\u064a\\u0632 \\u0644\\u0644\\u0639\\u0645\\u0644 \\u0627\\u0644\\u0645\\u062c\\u062a\\u0645\\u0639\\u064a \\u0648\\u0627\\u0644\\u062a\\u0637\\u0648\\u0639\\u064a \\u0648\\u0627\\u0644\\u0625\\u0646\\u0633\\u0627\\u0646\\u064a \\u0627\\u0644\\u0645\\u0634\\u062a\\u0631\\u0643 \\u0642\\u0627\\u0644 \\u062c\\u0631\\u0627\\u062d \\u0627\\u0644\\u0642\\u0644\\u0628 \\u0627\\u0644\\u0625\\u0645\\u0627\\u0631\\u0627\\u062a\\u064a \\u0627\\u0644\\u062f\\u0643\\u062a\\u0648\\u0631\\u0639\\u0627\\u062f\\u0644 \\u0627\\u0644\\u0634\\u0627\\u0645\\u0631\\u064a \\u0627\\u0644\\u0631\\u0626\\u064a\\u0633 \\u0627\\u0644\\u062a\\u0646\\u0641\\u064a\\u0630\\u064a \\u0644\\u0645\\u0628\\u0627\\u062f\\u0631\\u0629 \\u0632\\u0627\\u064a\\u062f \\u0627\\u0644\\u0639\\u0637\\u0627\\u0621 \\u0631\\u0626\\u064a\\u0633 \\u0627\\u0644\\u0641\\u0631\\u064a\\u0642 \\u0627\\u0644\\u0625\\u0645\\u0627\\u0631\\u0627\\u062a\\u064a \\u0627\\u0644\\u0637\\u0628\\u064a \\u0627\\u0644\\u062a\\u0637\\u0648\\u0639\\u064a \\u0644\\u0639\\u0644\\u0627\\u062c \\u0627\\u0644\\u0641\\u0642\\u0631\\u0627\\u0621 \\u0639\\u0644\\u0627\\u062c \\u0627\\u0644\\u0645\\u062e\\u064a\\u0645\\u0627\\u062a \\u0627\\u0644\\u0625\\u0645\\u0627\\u0631\\u0627\\u062a\\u064a\\u0629 \\u0627\\u0644\\u0637\\u0628\\u064a\\u0629 \\u0627\\u0644\\u062a\\u0637\\u0648\\u0639\\u064a\\u0629 \\u0642\\u062f\\u0645\\u062a \\u0646\\u0642\\u0644\\u0629 \\u0646\\u0648\\u0639\\u064a\\u0629 \\u0645\\u062c\\u0627\\u0644 \\u0627\\u0644\\u062e\\u062f\\u0645\\u0627\\u062a \\u0627\\u0644\\u0637\\u0628\\u064a \\u0627\\u0644\\u0645\\u064a\\u062f\\u0627\\u0646\\u064a\\u0629 \\u0648\\u0627\\u0633\\u062a\\u0637\\u0627\\u0639\\u062a \\u062a\\u0635\\u0644 \\u0627\\u0644\\u0649 \\u0627\\u0644\\u0645\\u0646\\u0627\\u0637\\u0642 \\u0627\\u0644\\u0628\\u0639\\u064a\\u062f\\u0629 \\u0645\\u062e\\u062a\\u0644\\u0641 \\u0627\\u0644\\u0642\\u0631\\u0649 \\u0627\\u0644\\u0645\\u0635\\u0631\\u064a\\u0629 \\u0648\\u0623\\u0646 \\u062a\\u0633\\u062a\\u0642\\u0637\\u0628 \\u0627\\u0644\\u0622\\u0644\\u0627\\u0641 \\u0627\\u0644\\u0623\\u0637\\u0628\\u0627\\u0621 \\u0627\\u0644\\u0645\\u062a\\u0637\\u0648\\u0639\\u064a\\u0646 \\u0644\\u0644\\u0639\\u0645\\u0644 \\u0636\\u0645\\u0646 \\u0627\\u0644\\u0643\\u0627\\u062f\\u0631 \\u0627\\u0644\\u0637\\u0628\\u064a \\u0648\\u0627\\u0644\\u0625\\u062f\\u0627\\u0631\\u064a \\u0648\\u0623\\u0643\\u062f \\u0627\\u0644\\u0648\\u062d\\u062f\\u0629 \\u0627\\u0644\\u0645\\u062a\\u0646\\u0642\\u0644\\u0629 \\u0644\\u0644\\u0623\\u0645\\u0648\\u0645\\u0629 \\u0648\\u0627\\u0644\\u0637\\u0641\\u0648\\u0644\\u0629 \\u0633\\u062a\\u0642\\u062f\\u0645 \\u0646\\u0642\\u0644\\u0629 \\u0646\\u0648\\u0639\\u064a\\u0629 \\u0646\\u0648\\u0639\\u064a\\u0629 \\u0627\\u0644\\u062e\\u062f\\u0645\\u0627\\u062a \\u0627\\u0644\\u0645\\u0642\\u062f\\u0645\\u0629 \\u0644\\u0644\\u0645\\u0631\\u0623\\u0629 \\u0648\\u0627\\u0644\\u0637\\u0641\\u0644 \\u0648\\u0628\\u0627\\u0644\\u0623\\u062e\\u0635 \\u0645\\u062c\\u0627\\u0644 \\u0627\\u0644\\u0648\\u0642\\u0627\\u064a\\u0629 \\u0648\\u0627\\u0644\\u0639\\u0644\\u0627\\u062c \\u0627\\u0644\\u0623\\u0645\\u0631\\u0627\\u0636 \\u0627\\u0644\\u0645\\u0632\\u0645\\u0646\\u0629 \\u0643\\u0627\\u0644\\u0623\\u0645\\u0631\\u0627\\u0636 \\u0627\\u0644\\u0642\\u0644\\u0628\\u064a\\u0629 \\u0648\\u0623\\u0645\\u0631\\u0627\\u0636 \\u0627\\u0644\\u0633\\u0643\\u0631\\u064a \\u0648\\u0623\\u0645\\u0631\\u0627\\u0636 \\u0627\\u0631\\u062a\\u0641\\u0627\\u0639 \\u0636\\u063a\\u0637 \\u0627\\u0644\\u062f\\u0645 \\u0648\\u0623\\u0645\\u0631\\u0627\\u0636 \\u0627\\u0631\\u062a\\u0641\\u0627\\u0639 \\u0627\\u0644\\u062f\\u0647\\u0648\\u0646 \\u0648\\u0642\\u0627\\u0644 \\u0627\\u0644\\u062f\\u0643\\u062a\\u0648\\u0631 \\u062a\\u0627\\u0645\\u0631 \\u0648\\u062c\\u064a\\u0647 \\u0631\\u0626\\u064a\\u0633 \\u0627\\u0644\\u0645\\u0631\\u0643\\u0632 \\u0627\\u0644\\u0645\\u0635\\u0631\\u064a \\u0644\\u0644\\u0639\\u0645\\u0644 \\u0627\\u0644\\u0625\\u0646\\u0633\\u0627\\u0646\\u064a \\u0627\\u0644\\u0648\\u062d\\u062f\\u0629 \\u0627\\u0644\\u0645\\u062a\\u0646\\u0642\\u0644\\u0629 \\u0633\\u062a\\u0631\\u0643\\u0632 \\u062a\\u0641\\u0639\\u064a\\u0644 \\u0627\\u0644\\u0628\\u0631\\u0627\\u0645\\u062c \\u0627\\u0644\\u0648\\u0642\\u0627\\u0626\\u064a\\u0629 \\u0648\\u0627\\u0644\\u062a\\u0648\\u0639\\u0648\\u064a\\u0629 \\u0625\\u0636\\u0627\\u0641\\u0629 \\u0627\\u0644\\u0649 \\u0628\\u0631\\u0627\\u0645\\u062c \\u0627\\u0644\\u0643\\u0634\\u0641 \\u0627\\u0644\\u0645\\u0628\\u0643\\u0631 \\u0627\\u0644\\u0623\\u0645\\u0631\\u0627\\u0636 \\u0627\\u0644\\u0645\\u0632\\u0645\\u0646\\u0629 \\u0627\\u0644\\u0645\\u0631\\u0623\\u0629 \\u0648\\u0627\\u0644\\u0623\\u0637\\u0641\\u0627\\u0644 \\u0648\\u0639\\u0644\\u0627\\u062c\\u0647\\u0627 \\u0628\\u0627\\u0644\\u062a\\u0646\\u0633\\u064a\\u0642 \\u0646\\u062e\\u0628\\u0629 \\u0643\\u0628\\u0627\\u0631 \\u0623\\u0637\\u0628\\u0627\\u0621 \\u0627\\u0644\\u0642\\u0644\\u0628 \\u0648\\u0627\\u0644\\u0633\\u0643\\u0631\\u064a \\u0648\\u0627\\u0644\\u0623\\u0645\\u0631\\u0627\\u0636 \\u0627\\u0644\\u0645\\u0632\\u0645\\u0646\\u0629 \\u0645\\u062e\\u062a\\u0644\\u0641 \\u0627\\u0644\\u0645\\u0633\\u062a\\u0634\\u0641\\u064a\\u0627\\u062a \\u0627\\u0644\\u062c\\u0627\\u0645\\u0639\\u064a\\u0629 \\u0627\\u0644\\u0645\\u0635\\u0631\\u064a\\u0629 \\u0648\\u0627\\u0644\\u0625\\u0645\\u0627\\u0631\\u0627\\u062a\\u064a\\u0629 \\u0648\\u0627\\u0644\\u0639\\u0627\\u0644\\u0645\\u064a\\u0629 \\u0648\\u0623\\u0643\\u062f\\u062a \\u0645\\u0648\\u0632\\u0629 \\u0627\\u0644\\u0639\\u062a\\u064a\\u0628\\u0629 \\u0639\\u0636\\u0648 \\u0645\\u062c\\u0644\\u0633 \\u0623\\u0645\\u0646\\u0627\\u0621 \\u0645\\u0628\\u0627\\u062f\\u0631\\u0629 \\u0632\\u0627\\u064a\\u062f \\u0627\\u0644\\u0639\\u0637\\u0627\\u0621 \\u0627\\u0644\\u0645\\u062e\\u064a\\u0645\\u0627\\u062a \\u0627\\u0644\\u0625\\u0645\\u0627\\u0631\\u0627\\u062a\\u064a\\u0629 \\u0627\\u0644\\u0637\\u0628\\u064a\\u0629 \\u0627\\u0644\\u062a\\u0637\\u0648\\u0639\\u064a\\u0629 \\u0633\\u062a\\u0643\\u062b\\u0641 \\u0645\\u0647\\u0627\\u0645\\u0647\\u0627 \\u0627\\u0644\\u0625\\u0646\\u0633\\u0627\\u0646\\u064a\\u0629 \\u0627\\u0644\\u0642\\u0627\\u0631\\u0629 \\u0627\\u0644\\u0625\\u0641\\u0631\\u064a\\u0642\\u064a\\u0629 \\u062e\\u0644\\u0627\\u0644 \\u062a\\u0637\\u0648\\u064a\\u0631 \\u062e\\u062f\\u0645\\u0627\\u062a\\u0647\\u0627 \\u0627\\u0644\\u062a\\u0634\\u062e\\u064a\\u0635\\u064a\\u0629 \\u0648\\u0627\\u0644\\u0639\\u0644\\u0627\\u062c\\u064a\\u0629 \\u0648\\u0627\\u0644\\u062c\\u0631\\u0627\\u062d\\u064a\\u0629 \\u0648\\u0627\\u0644\\u0648\\u0642\\u0627\\u0626\\u064a\\u0629 \\u0648\\u0627\\u0644\\u062a\\u062f\\u0631\\u064a\\u0628\\u064a\\u0629 \\u0628\\u0625\\u062f\\u062e\\u0627\\u0644 \\u0648\\u062d\\u062f\\u0627\\u062a \\u0637\\u0628\\u064a\\u0629 \\u0645\\u062a\\u0646\\u0642\\u0644\\u0629 \\u0644\\u0644\\u0648\\u0635\\u0648\\u0644 \\u0627\\u0644\\u0649 \\u0627\\u0644\\u0641\\u0626\\u0627\\u062a \\u0627\\u0644\\u0645\\u0639\\u0648\\u0632\\u0629 \\u0645\\u062e\\u062a\\u0644\\u0641 \\u0627\\u0644\\u0642\\u0631\\u0649 \\u0648\\u0623\\u0643\\u062f\\u062a \\u0627\\u0644\\u062f\\u0643\\u062a\\u0648\\u0631\\u0629 \\u0634\\u0645\\u0633\\u0629 \\u0627\\u0644\\u0639\\u0648\\u0631 \\u0645\\u062f\\u064a\\u0631\\u0629 \\u0645\\u0628\\u0627\\u062f\\u0631\\u0629 \\u0623\\u0637\\u0628\\u0627\\u0621 \\u0627\\u0644\\u0641\\u0642\\u0631\\u0627\\u0621 \\u0645\\u0628\\u0627\\u062f\\u0631\\u0629 \\u0632\\u0627\\u064a\\u062f \\u0627\\u0644\\u0639\\u0637\\u0627\\u0621 \\u0627\\u0646\\u0637\\u0644\\u0627\\u0642\\u0647\\u0627 \\u0639\\u0627\\u0645 \\u062a\\u062d\\u0631\\u0635 \\u062a\\u0642\\u062f\\u064a\\u0645 \\u0623\\u0641\\u0636\\u0644 \\u0627\\u0644\\u062e\\u062f\\u0645\\u0627\\u062a \\u0627\\u0644\\u0639\\u0644\\u0627\\u062c\\u064a\\u0629 \\u0644\\u0644\\u0641\\u0626\\u0627\\u062a \\u0627\\u0644\\u0645\\u0639\\u0648\\u0632\\u0629 \\u0645\\u062e\\u062a\\u0644\\u0641 \\u062f\\u0648\\u0644 \\u0627\\u0644\\u0639\\u0627\\u0644\\u0645 \\u0628\\u063a\\u0636 \\u0627\\u0644\\u0646\\u0638\\u0631 \\u0627\\u0644\\u0644\\u0648\\u0646 \\u0627\\u0644\\u062c\\u0646\\u0633 \\u0627\\u0644\\u062f\\u064a\\u0646 \\u0627\\u0644\\u0639\\u0631\\u0642 \\u0627\\u0646\\u0633\\u062c\\u0627\\u0645\\u0627 \\u0627\\u0644\\u0631\\u0648\\u062d \\u0627\\u0644\\u0625\\u0646\\u0633\\u0627\\u0646\\u064a\\u0629 \\u0644\\u0644\\u0645\\u063a\\u0641\\u0648\\u0631 \\u0628\\u0625\\u0630\\u0646 \\u0627\\u0644\\u0644\\u0647 \\u0627\\u0644\\u0634\\u064a\\u062e \\u0632\\u0627\\u064a\\u062f \\u0628\\u0646 \\u0633\\u0644\\u0637\\u0627\\u0646 \\u0622\\u0644 \\u0646\\u0647\\u064a\\u0627\\u0646 \\u0645\\u0624\\u0633\\u0633 \\u062f\\u0648\\u0644\\u0629 \\u0627\\u0644\\u0625\\u0645\\u0627\\u0631\\u0627\\u062a \\u0627\\u0644\\u0639\\u0631\\u0628\\u064a\\u0629 \\u0627\\u0644\\u0645\\u062a\\u062d\\u062f\\u0629 \\u0648\\u0627\\u0646\\u0637\\u0644\\u0627\\u0642\\u0627 \\u062a\\u0648\\u062c\\u064a\\u0647\\u0627\\u062a \\u0642\\u064a\\u0627\\u062f\\u062a\\u0646\\u0627 \\u0627\\u0644\\u062d\\u0643\\u064a\\u0645\\u0629 \\u0628\\u0642\\u064a\\u0627\\u062f\\u0629 \\u0635\\u0627\\u062d\\u0628 \\u0627\\u0644\\u0633\\u0645\\u0648 \\u0627\\u0644\\u0634\\u064a\\u062e \\u062e\\u0644\\u064a\\u0641\\u0629 \\u0628\\u0646 \\u0632\\u0627\\u064a\\u062f \\u0622\\u0644 \\u0646\\u0647\\u064a\\u0627\\u0646 \\u0631\\u0626\\u064a\\u0633 \\u0627\\u0644\\u062f\\u0648\\u0644\\u0629 \\u062d\\u0641\\u0638\\u0647 \\u0627\\u0644\\u0644\\u0647 \\u0648\\u0623\\u062e\\u064a\\u0647 \\u0635\\u0627\\u062d\\u0628 \\u0627\\u0644\\u0633\\u0645\\u0648 \\u0627\\u0644\\u0634\\u064a\\u062e \\u0645\\u062d\\u0645\\u062f \\u0628\\u0646 \\u0631\\u0627\\u0634\\u062f \\u0622\\u0644 \\u0645\\u0643\\u062a\\u0648\\u0645 \\u0631\\u0626\\u064a\\u0633 \\u0645\\u062c\\u0644\\u0633 \\u0627\\u0644\\u0648\\u0632\\u0631\\u0627\\u0621 \\u062d\\u0627\\u0643\\u0645 \\u062f\\u0628\\u064a \\u0628\\u062a\\u0639\\u0632\\u064a\\u0632 \\u0645\\u0641\\u0647\\u0648\\u0645 \\u0627\\u0644\\u062a\\u0644\\u0627\\u062d\\u0645 \\u0627\\u0644\\u0627\\u062c\\u062a\\u0645\\u0627\\u0639\\u064a \\u0627\\u0644\\u0634\\u0639\\u0648\\u0628 \\u0648\\u062a\\u0631\\u062c\\u0645\\u0647 \\u0644\\u0631\\u0624\\u064a\\u0629 \\u0627\\u0644\\u0641\\u0631\\u064a\\u0642 \\u0633\\u0645\\u0648 \\u0627\\u0644\\u0634\\u064a\\u062e \\u0645\\u062d\\u0645\\u062f \\u0628\\u0646 \\u0632\\u0627\\u064a\\u062f \\u0622\\u0644 \\u0646\\u0647\\u064a\\u0627\\u0646 \\u0648\\u0644\\u064a \\u0639\\u0647\\u062f \\u0623\\u0628\\u0648\\u0638\\u0628\\u064a \\u0646\\u0627\\u0626\\u0628 \\u0627\\u0644\\u0642\\u0627\\u0626\\u062f \\u0627\\u0644\\u0623\\u0639\\u0644\\u0649 \\u0644\\u0644\\u0642\\u0648\\u0627\\u062a \\u0627\\u0644\\u0645\\u0633\\u0644\\u062d\\u0629 \\u0644\\u062a\\u0631\\u0633\\u064a\\u062e \\u062b\\u0642\\u0627\\u0641\\u0629 \\u0627\\u0644\\u0639\\u0645\\u0644 \\u0627\\u0644\\u062a\\u0637\\u0648\\u0639\\u064a \\u0648\\u0627\\u0644\\u0639\\u0645\\u0644 \\u0627\\u0644\\u0625\\u0646\\u0633\\u0627\\u0646\\u064a \\u0645\\u062d\\u0644\\u064a\\u0627 \\u0648\\u0639\\u0627\\u0644\\u0645\\u064a\\u0627\",\n          \"\\u0633\\u0628\\u0627\\u0642 \\u0627\\u0644\\u0641\\u0639\\u0627\\u0644\\u064a\\u0627\\u062a \\u0648\\u0627\\u0644\\u0623\\u0646\\u0634\\u0637\\u0629 \\u0627\\u0644\\u062b\\u0642\\u0627\\u0641\\u064a\\u0629 \\u062a\\u0646\\u0638\\u0645\\u0647\\u0627 \\u062f\\u0627\\u0626\\u0631\\u0629 \\u0627\\u0644\\u062b\\u0642\\u0627\\u0641\\u0629 \\u0648\\u0627\\u0644\\u0627\\u0639\\u0644\\u0627\\u0645 \\u0627\\u0644\\u0634\\u0627\\u0631\\u0642\\u0629 \\u0625\\u0628\\u0627\\u0646 \\u0641\\u0639\\u0627\\u0644\\u064a\\u0627\\u062a \\u0645\\u0639\\u0631\\u0636 \\u0627\\u0644\\u0634\\u0627\\u0631\\u0642\\u0629 \\u0627\\u0644\\u062f\\u0648\\u0644\\u064a \\u0644\\u0644\\u0643\\u062a\\u0627\\u0628 \\u062f\\u0648\\u0631\\u062a\\u0647 \\u0627\\u0644\\u062b\\u0627\\u0645\\u0646\\u0629 \\u0648\\u0627\\u0644\\u0639\\u0634\\u0631\\u064a\\u0646 \\u0648\\u0627\\u0644\\u062a\\u064a \\u062a\\u0628\\u062f\\u0623 \\u0641\\u0639\\u0627\\u0644\\u064a\\u0627\\u062a\\u0647\\u0627 \\u063a\\u062f \\u0646\\u0634\\u0627\\u0637 \\u062b\\u0642\\u0627\\u0641\\u064a \\u0646\\u0648\\u0639\\u064a \\u064a\\u0631\\u0641\\u062f \\u0627\\u0644\\u0645\\u0639\\u0631\\u0636 \\u0628\\u062c\\u062f\\u064a\\u062f \\u0627\\u0644\\u0643\\u062a\\u0627\\u0628 \\u0648\\u0627\\u0644\\u062b\\u0642\\u0627\\u0641\\u0629 \\u0648\\u0627\\u0644\\u0646\\u0634\\u0631 \\u0648\\u0627\\u0644\\u0627\\u0628\\u062f\\u0627\\u0639 \\u0648\\u0642\\u0627\\u0644 \\u0645\\u062d\\u0645\\u062f \\u0627\\u0644\\u0642\\u0635\\u064a\\u0631 \\u0645\\u0633\\u0624\\u0648\\u0644 \\u0627\\u0644\\u0628\\u0631\\u0627\\u0645\\u062c \\u0627\\u0644\\u062b\\u0642\\u0627\\u0641\\u064a\\u0629 \\u0627\\u0644\\u0645\\u0639\\u0631\\u0636 \\u0627\\u0646 \\u0627\\u0644\\u062f\\u0627\\u0626\\u0631\\u0629 \\u0633\\u0639\\u062a \\u062c\\u0627\\u0647\\u062f\\u0629 \\u0644\\u062e\\u0644\\u0642 \\u062a\\u0648\\u0627\\u0635\\u0644 \\u0627\\u0644\\u0642\\u0627\\u0631\\u0626 \\u0648\\u0627\\u0644\\u0643\\u0627\\u062a\\u0628 \\u0648\\u0627\\u0644\\u0646\\u0627\\u0634\\u0631 \\u0648\\u0627\\u0644\\u0643\\u062a\\u0627\\u0628 \\u062e\\u0644\\u0627\\u0644 \\u0627\\u0644\\u0641\\u0639\\u0627\\u0644\\u064a\\u0627\\u062a \\u0648\\u0627\\u0644\\u0627\\u0646\\u0634\\u0637\\u0629 \\u0648\\u0631\\u0643\\u0632\\u062a \\u0645\\u0648\\u0636\\u0648\\u0639\\u0629 \\u0627\\u0644\\u0642\\u0631\\u0627\\u0621\\u0629 \\u0643\\u0645\\u062d\\u0648\\u0631 \\u0648\\u062b\\u064a\\u0645\\u0629 \\u0639\\u0645\\u0644 \\u0644\\u0647\\u0630\\u0627 \\u0627\\u0644\\u0639\\u0627\\u0645 \\u062d\\u0628 \\u0627\\u0644\\u0643\\u0644\\u0645\\u0629 \\u0627\\u0644\\u0645\\u0642\\u0631\\u0648\\u0621\\u0629 \\u0648\\u0630\\u0644\\u0643 \\u062e\\u0644\\u0627\\u0644 \\u0627\\u0644\\u0646\\u062f\\u0648\\u0627\\u062a \\u0627\\u0644\\u0641\\u0643\\u0631\\u064a\\u0629 \\u0648\\u0627\\u0644\\u062a\\u064a \\u062a\\u062a\\u0636\\u0645\\u0646 \\u062d\\u0645\\u0627\\u064a\\u0629 \\u062d\\u0642\\u0648\\u0642 \\u0627\\u0644\\u0645\\u0644\\u0643\\u064a\\u0629 \\u0627\\u0644\\u0641\\u0643\\u0631\\u064a\\u0629 \\u0648\\u062a\\u0627\\u0631\\u064a\\u062e \\u0627\\u0644\\u0643\\u062a\\u0627\\u0628 \\u0648\\u0645\\u0639\\u0627\\u064a\\u064a\\u0631 \\u0635\\u0646\\u0627\\u0639\\u0629 \\u0627\\u0644\\u0643\\u062a\\u0627\\u0628 \\u0648\\u0627\\u0635\\u062f\\u0627\\u0631\\u0627\\u062a \\u0627\\u0644\\u062c\\u062f\\u064a\\u062f \\u0648\\u0637\\u0628\\u0627\\u0639\\u0629 \\u0627\\u0644\\u0643\\u062a\\u0628 \\u0627\\u0636\\u0627\\u0641\\u0629 \\u0627\\u0644\\u0649 \\u0627\\u0644\\u0648\\u0631\\u0634 \\u0627\\u0644\\u0645\\u0647\\u0646\\u064a\\u0629 \\u064a\\u0634\\u0631\\u0641 \\u0639\\u0644\\u064a\\u0647\\u0627 \\u0646\\u062e\\u0628\\u0629 \\u0627\\u0644\\u0645\\u062e\\u062a\\u0635\\u064a\\u0646 \\u0645\\u062c\\u0627\\u0644 \\u0627\\u0644\\u062b\\u0642\\u0627\\u0641\\u0629 \\u0648\\u0627\\u0644\\u0643\\u062a\\u0627\\u0628 \\u0648\\u062b\\u0642\\u0627\\u0641\\u0629 \\u0627\\u0644\\u0637\\u0641\\u0644 \\u0648\\u0648\\u0631\\u0634 \\u0644\\u0644\\u0643\\u062a\\u0627\\u0628 \\u0627\\u0644\\u0627\\u0644\\u0643\\u062a\\u0631\\u0648\\u0646\\u064a \\u0648\\u064a\\u0646\\u0638\\u0645 \\u0627\\u0644\\u0645\\u0639\\u0631\\u0636 \\u0644\\u0644\\u0645\\u0631\\u0629 \\u0627\\u0644\\u0623\\u0648\\u0644\\u0649 \\u0645\\u0642\\u0647\\u0649 \\u062b\\u0642\\u0627\\u0641\\u064a\\u0627 \\u064a\\u0633\\u062a\\u0636\\u064a\\u0641 \\u062e\\u0644\\u0627\\u0644\\u0647 \\u0642\\u0627\\u0645\\u0627\\u062a \\u0627\\u0633\\u0647\\u0645\\u062a \\u0627\\u0644\\u062d\\u0631\\u0627\\u0643 \\u0627\\u0644\\u062b\\u0642\\u0627\\u0641\\u064a \\u062f\\u0627\\u062e\\u0644 \\u0627\\u0644\\u062f\\u0648\\u0644\\u0629 \\u0627\\u0644\\u0623\\u0642\\u0637\\u0627\\u0631 \\u0627\\u0644\\u0639\\u0631\\u0628\\u064a\\u0629 \\u0627\\u0644\\u0634\\u0642\\u064a\\u0642\\u0629 \\u064a\\u0646\\u0627\\u0642\\u0634\\u0648\\u0646 \\u0645\\u0648\\u0636\\u0648\\u0639\\u0627\\u062a \\u062a\\u062e\\u0635 \\u062b\\u0642\\u0627\\u0641\\u0629 \\u0627\\u0644\\u0646\\u0634\\u0631 \\u0648\\u0627\\u0644\\u0641\\u0646 \\u0627\\u0644\\u0645\\u0633\\u0631\\u062d\\u064a \\u0648\\u0645\\u0643\\u062a\\u0628\\u0629 \\u0627\\u0644\\u0637\\u0641\\u0644 \\u0627\\u0644\\u0649 \\u062c\\u0627\\u0646\\u0628 \\u0625\\u062d\\u064a\\u0627\\u0621 \\u0623\\u0645\\u0633\\u064a\\u0627\\u062a \\u0634\\u0639\\u0631\\u064a\\u0629 \\u0627\\u0644\\u0645\\u063a\\u0631\\u0628 \\u0627\\u0644\\u0639\\u0631\\u0628\\u064a \\u0627\\u0644\\u0647\\u0646\\u062f \\u0627\\u0644\\u0649 \\u062c\\u0627\\u0646\\u0628 \\u0628\\u0631\\u0646\\u0627\\u0645\\u062c \\u062e\\u0627\\u0635 \\u0644\\u0645\\u0628\\u062f\\u0639\\u064a\\u0646 \\u0628\\u0627\\u0644\\u062b\\u0642\\u0627\\u0641\\u0629 \\u0627\\u0644\\u0641\\u0644\\u0633\\u0637\\u064a\\u0646\\u064a\\u0629 \\u064a\\u0636\\u0645 \\u0636\\u064a\\u0641\\u0627 \\u064a\\u0634\\u0627\\u0631\\u0643\\u0648\\u0646 \\u0623\\u0645\\u0633\\u064a\\u0627\\u062a \\u0648\\u0645\\u0639\\u0631\\u0636 \\u062a\\u0631\\u0627\\u062b\\u064a \\u0648\\u0622\\u062e\\u0631 \\u062a\\u0634\\u0643\\u064a\\u0644\\u064a\"\n        ],\n        \"semantic_type\": \"\",\n        \"description\": \"\"\n      }\n    }\n  ]\n}"
            }
          },
          "metadata": {},
          "execution_count": 24
        }
      ],
      "source": [
        "df"
      ]
    },
    {
      "cell_type": "code",
      "execution_count": null,
      "metadata": {
        "colab": {
          "base_uri": "https://localhost:8080/"
        },
        "id": "wZyCPw8qFwit",
        "outputId": "bd9f1048-8654-4309-fff0-0c31d26b3cd3"
      },
      "outputs": [
        {
          "data": {
            "text/plain": [
              "(39885, 3)"
            ]
          },
          "execution_count": 28,
          "metadata": {},
          "output_type": "execute_result"
        }
      ],
      "source": [
        "df.shape"
      ]
    },
    {
      "cell_type": "code",
      "execution_count": 25,
      "metadata": {
        "id": "-ZVr5SuLDE28"
      },
      "outputs": [],
      "source": [
        "tokenizer = Tokenizer()\n",
        "tokenizer.fit_on_texts(df['cleaned_text'])\n",
        "sequences = tokenizer.texts_to_sequences(df['cleaned_text'])\n",
        "\n",
        "max_len = 100\n",
        "X = pad_sequences(sequences, maxlen=max_len)\n",
        "y = pd.get_dummies(df['label']).values\n",
        "\n",
        "X_train, X_test, y_train, y_test = train_test_split(X, y, test_size=0.2)"
      ]
    },
    {
      "cell_type": "code",
      "source": [
        "max_len"
      ],
      "metadata": {
        "colab": {
          "base_uri": "https://localhost:8080/"
        },
        "id": "IU_xxKnqoYLl",
        "outputId": "6a00092a-e349-4ac3-cfdb-98561ab443aa"
      },
      "execution_count": 26,
      "outputs": [
        {
          "output_type": "execute_result",
          "data": {
            "text/plain": [
              "100"
            ]
          },
          "metadata": {},
          "execution_count": 26
        }
      ]
    },
    {
      "cell_type": "markdown",
      "metadata": {
        "id": "qd5Ek4NLTgVN"
      },
      "source": [
        "# Building the Classifier"
      ]
    },
    {
      "cell_type": "markdown",
      "metadata": {
        "id": "HpLEoTaITEGx"
      },
      "source": [
        "In this step, you will design and build a NLP Classifier model to classify text data. Below is a breakdown of the key components you'll implement, but it's up to you to decide how to configure them based on your understanding and experimentation:\n",
        "\n",
        "1. **Model Type**:\n",
        "   You will use a Sequential model, which allows you to stack layers in a linear sequence.\n",
        "\n",
        "2. **Input Layer**:\n",
        "   Define the shape of the input data. Consider the dimensions of your padded sequences and set the input shape accordingly.\n",
        "\n",
        "3. **Embedding Layer**:\n",
        "   The embedding layer will convert input tokens (integers) into dense vector representations. You will need to determine the size of the input dimension (based on your vocabulary) and the output dimension (embedding size).\n",
        "\n",
        "4. **Bidirectional Simple RNN/LSTM Layers**:\n",
        "   You can add one or more recurrent layers. Consider using Bidirectional layers to capture contextual information from both directions (forward and backward). You can chose SimpleRNN/GRU/LSTM to perform this step.\n",
        "\n",
        "5. **Dense Layers**:\n",
        "   Add one or more fully connected (Dense) layers to process the output from the RNN/GRU/LSTM layers.\n",
        "\n",
        "6. **Output Layer**:\n",
        "   The output layer should match the type of classification task you're working on. Consider using appropriate activation function with appropriate number of units.\n",
        "\n",
        "7. **Model Summary**:\n",
        "   After defining your model architecture, print a summary to review the number of layers, types of layers, and total parameters.\n",
        "\n",
        "8. **Model Compilation**:\n",
        "   Finally, compile the model by selecting an optimizer, a loss function, and metrics."
      ]
    },
    {
      "cell_type": "code",
      "execution_count": 31,
      "metadata": {
        "colab": {
          "base_uri": "https://localhost:8080/",
          "height": 282
        },
        "id": "y2TGz0uzDDWM",
        "outputId": "6200f4a3-9748-49da-e1e9-e5dc0271d6f5"
      },
      "outputs": [
        {
          "output_type": "display_data",
          "data": {
            "text/plain": [
              "\u001b[1mModel: \"sequential_4\"\u001b[0m\n"
            ],
            "text/html": [
              "<pre style=\"white-space:pre;overflow-x:auto;line-height:normal;font-family:Menlo,'DejaVu Sans Mono',consolas,'Courier New',monospace\"><span style=\"font-weight: bold\">Model: \"sequential_4\"</span>\n",
              "</pre>\n"
            ]
          },
          "metadata": {}
        },
        {
          "output_type": "display_data",
          "data": {
            "text/plain": [
              "┏━━━━━━━━━━━━━━━━━━━━━━━━━━━━━━━━━━━━━━┳━━━━━━━━━━━━━━━━━━━━━━━━━━━━━┳━━━━━━━━━━━━━━━━━┓\n",
              "┃\u001b[1m \u001b[0m\u001b[1mLayer (type)                        \u001b[0m\u001b[1m \u001b[0m┃\u001b[1m \u001b[0m\u001b[1mOutput Shape               \u001b[0m\u001b[1m \u001b[0m┃\u001b[1m \u001b[0m\u001b[1m        Param #\u001b[0m\u001b[1m \u001b[0m┃\n",
              "┡━━━━━━━━━━━━━━━━━━━━━━━━━━━━━━━━━━━━━━╇━━━━━━━━━━━━━━━━━━━━━━━━━━━━━╇━━━━━━━━━━━━━━━━━┩\n",
              "│ embedding_1 (\u001b[38;5;33mEmbedding\u001b[0m)              │ (\u001b[38;5;45mNone\u001b[0m, \u001b[38;5;34m100\u001b[0m, \u001b[38;5;34m128\u001b[0m)            │      \u001b[38;5;34m45,621,120\u001b[0m │\n",
              "├──────────────────────────────────────┼─────────────────────────────┼─────────────────┤\n",
              "│ bidirectional_1 (\u001b[38;5;33mBidirectional\u001b[0m)      │ (\u001b[38;5;45mNone\u001b[0m, \u001b[38;5;34m128\u001b[0m)                 │          \u001b[38;5;34m98,816\u001b[0m │\n",
              "├──────────────────────────────────────┼─────────────────────────────┼─────────────────┤\n",
              "│ dense_2 (\u001b[38;5;33mDense\u001b[0m)                      │ (\u001b[38;5;45mNone\u001b[0m, \u001b[38;5;34m32\u001b[0m)                  │           \u001b[38;5;34m4,128\u001b[0m │\n",
              "├──────────────────────────────────────┼─────────────────────────────┼─────────────────┤\n",
              "│ dense_3 (\u001b[38;5;33mDense\u001b[0m)                      │ (\u001b[38;5;45mNone\u001b[0m, \u001b[38;5;34m7\u001b[0m)                   │             \u001b[38;5;34m231\u001b[0m │\n",
              "└──────────────────────────────────────┴─────────────────────────────┴─────────────────┘\n"
            ],
            "text/html": [
              "<pre style=\"white-space:pre;overflow-x:auto;line-height:normal;font-family:Menlo,'DejaVu Sans Mono',consolas,'Courier New',monospace\">┏━━━━━━━━━━━━━━━━━━━━━━━━━━━━━━━━━━━━━━┳━━━━━━━━━━━━━━━━━━━━━━━━━━━━━┳━━━━━━━━━━━━━━━━━┓\n",
              "┃<span style=\"font-weight: bold\"> Layer (type)                         </span>┃<span style=\"font-weight: bold\"> Output Shape                </span>┃<span style=\"font-weight: bold\">         Param # </span>┃\n",
              "┡━━━━━━━━━━━━━━━━━━━━━━━━━━━━━━━━━━━━━━╇━━━━━━━━━━━━━━━━━━━━━━━━━━━━━╇━━━━━━━━━━━━━━━━━┩\n",
              "│ embedding_1 (<span style=\"color: #0087ff; text-decoration-color: #0087ff\">Embedding</span>)              │ (<span style=\"color: #00d7ff; text-decoration-color: #00d7ff\">None</span>, <span style=\"color: #00af00; text-decoration-color: #00af00\">100</span>, <span style=\"color: #00af00; text-decoration-color: #00af00\">128</span>)            │      <span style=\"color: #00af00; text-decoration-color: #00af00\">45,621,120</span> │\n",
              "├──────────────────────────────────────┼─────────────────────────────┼─────────────────┤\n",
              "│ bidirectional_1 (<span style=\"color: #0087ff; text-decoration-color: #0087ff\">Bidirectional</span>)      │ (<span style=\"color: #00d7ff; text-decoration-color: #00d7ff\">None</span>, <span style=\"color: #00af00; text-decoration-color: #00af00\">128</span>)                 │          <span style=\"color: #00af00; text-decoration-color: #00af00\">98,816</span> │\n",
              "├──────────────────────────────────────┼─────────────────────────────┼─────────────────┤\n",
              "│ dense_2 (<span style=\"color: #0087ff; text-decoration-color: #0087ff\">Dense</span>)                      │ (<span style=\"color: #00d7ff; text-decoration-color: #00d7ff\">None</span>, <span style=\"color: #00af00; text-decoration-color: #00af00\">32</span>)                  │           <span style=\"color: #00af00; text-decoration-color: #00af00\">4,128</span> │\n",
              "├──────────────────────────────────────┼─────────────────────────────┼─────────────────┤\n",
              "│ dense_3 (<span style=\"color: #0087ff; text-decoration-color: #0087ff\">Dense</span>)                      │ (<span style=\"color: #00d7ff; text-decoration-color: #00d7ff\">None</span>, <span style=\"color: #00af00; text-decoration-color: #00af00\">7</span>)                   │             <span style=\"color: #00af00; text-decoration-color: #00af00\">231</span> │\n",
              "└──────────────────────────────────────┴─────────────────────────────┴─────────────────┘\n",
              "</pre>\n"
            ]
          },
          "metadata": {}
        },
        {
          "output_type": "display_data",
          "data": {
            "text/plain": [
              "\u001b[1m Total params: \u001b[0m\u001b[38;5;34m45,724,295\u001b[0m (174.42 MB)\n"
            ],
            "text/html": [
              "<pre style=\"white-space:pre;overflow-x:auto;line-height:normal;font-family:Menlo,'DejaVu Sans Mono',consolas,'Courier New',monospace\"><span style=\"font-weight: bold\"> Total params: </span><span style=\"color: #00af00; text-decoration-color: #00af00\">45,724,295</span> (174.42 MB)\n",
              "</pre>\n"
            ]
          },
          "metadata": {}
        },
        {
          "output_type": "display_data",
          "data": {
            "text/plain": [
              "\u001b[1m Trainable params: \u001b[0m\u001b[38;5;34m45,724,295\u001b[0m (174.42 MB)\n"
            ],
            "text/html": [
              "<pre style=\"white-space:pre;overflow-x:auto;line-height:normal;font-family:Menlo,'DejaVu Sans Mono',consolas,'Courier New',monospace\"><span style=\"font-weight: bold\"> Trainable params: </span><span style=\"color: #00af00; text-decoration-color: #00af00\">45,724,295</span> (174.42 MB)\n",
              "</pre>\n"
            ]
          },
          "metadata": {}
        },
        {
          "output_type": "display_data",
          "data": {
            "text/plain": [
              "\u001b[1m Non-trainable params: \u001b[0m\u001b[38;5;34m0\u001b[0m (0.00 B)\n"
            ],
            "text/html": [
              "<pre style=\"white-space:pre;overflow-x:auto;line-height:normal;font-family:Menlo,'DejaVu Sans Mono',consolas,'Courier New',monospace\"><span style=\"font-weight: bold\"> Non-trainable params: </span><span style=\"color: #00af00; text-decoration-color: #00af00\">0</span> (0.00 B)\n",
              "</pre>\n"
            ]
          },
          "metadata": {}
        },
        {
          "output_type": "stream",
          "name": "stdout",
          "text": [
            "None\n"
          ]
        }
      ],
      "source": [
        "from tensorflow.keras.models import Sequential\n",
        "from tensorflow.keras.layers import Input, Embedding, LSTM, Dense, Bidirectional\n",
        "\n",
        "model = Sequential()\n",
        "model.add(Input(shape=(max_len,)))\n",
        "model.add(Embedding(input_dim=len(tokenizer.word_index)+1, output_dim=128, input_length=max_len))\n",
        "model.add(Bidirectional(LSTM(64)))\n",
        "model.add(Dense(32, activation='relu'))\n",
        "model.add(Dense(y_train.shape[1], activation='softmax'))\n",
        "\n",
        "model.compile(optimizer='adam', loss='categorical_crossentropy', metrics=['accuracy'])\n",
        "print(model.summary())"
      ]
    },
    {
      "cell_type": "markdown",
      "metadata": {
        "id": "57DXwqqQTloy"
      },
      "source": [
        "# Defining Batch Size, Creating Datasets, and Training the Model"
      ]
    },
    {
      "cell_type": "markdown",
      "metadata": {
        "id": "LEOvs_dETmQp"
      },
      "source": [
        "In this step, you will define the batch size, create TensorFlow Datasets for both training and testing, and train the model. The key elements to consider are outlined below, and it is up to you to choose the specific configurations based on your preferences and experimentation:\n",
        "\n",
        "1. **Batch Size**:\n",
        "   Select a batch size for training and testing. The batch size determines how many samples will be processed together in one forward and backward pass during training.\n",
        "\n",
        "2. **Creating Datasets**:\n",
        "   Use TensorFlow’s `Dataset.from_tensor_slices()` to create datasets from the training and testing data.\n",
        "\n",
        "3. **Batching the Datasets**:\n",
        "   Batch the datasets by grouping the data into batches of the specified size.\n",
        "\n",
        "4. **Training the Model**:\n",
        "   Train the model by fitting it on the training dataset for a specified number of epochs. You will also need to provide the validation data to monitor the model’s performance on unseen data during training.\n",
        "\n",
        "5. **Tracking Training History**:\n",
        "   During training, the model’s performance metrics (such as loss and accuracy) will be tracked over the epochs, and the results will be stored in the `history` object."
      ]
    },
    {
      "cell_type": "code",
      "execution_count": 32,
      "metadata": {
        "colab": {
          "base_uri": "https://localhost:8080/"
        },
        "id": "o6unhJgFfQbM",
        "outputId": "9777810c-5f7e-4d4b-f267-8a9575d39eb1"
      },
      "outputs": [
        {
          "output_type": "stream",
          "name": "stdout",
          "text": [
            "Epoch 1/10\n",
            "\u001b[1m798/798\u001b[0m \u001b[32m━━━━━━━━━━━━━━━━━━━━\u001b[0m\u001b[37m\u001b[0m \u001b[1m36s\u001b[0m 37ms/step - accuracy: 0.6828 - loss: 0.8755 - val_accuracy: 0.9213 - val_loss: 0.2747\n",
            "Epoch 2/10\n",
            "\u001b[1m798/798\u001b[0m \u001b[32m━━━━━━━━━━━━━━━━━━━━\u001b[0m\u001b[37m\u001b[0m \u001b[1m38s\u001b[0m 39ms/step - accuracy: 0.9573 - loss: 0.1568 - val_accuracy: 0.9475 - val_loss: 0.2079\n",
            "Epoch 3/10\n",
            "\u001b[1m798/798\u001b[0m \u001b[32m━━━━━━━━━━━━━━━━━━━━\u001b[0m\u001b[37m\u001b[0m \u001b[1m29s\u001b[0m 37ms/step - accuracy: 0.9871 - loss: 0.0525 - val_accuracy: 0.8817 - val_loss: 0.6587\n",
            "Epoch 4/10\n",
            "\u001b[1m798/798\u001b[0m \u001b[32m━━━━━━━━━━━━━━━━━━━━\u001b[0m\u001b[37m\u001b[0m \u001b[1m41s\u001b[0m 37ms/step - accuracy: 0.9678 - loss: 0.1237 - val_accuracy: 0.9403 - val_loss: 0.2614\n",
            "Epoch 5/10\n",
            "\u001b[1m798/798\u001b[0m \u001b[32m━━━━━━━━━━━━━━━━━━━━\u001b[0m\u001b[37m\u001b[0m \u001b[1m42s\u001b[0m 38ms/step - accuracy: 0.9979 - loss: 0.0084 - val_accuracy: 0.9323 - val_loss: 0.2960\n",
            "Epoch 6/10\n",
            "\u001b[1m798/798\u001b[0m \u001b[32m━━━━━━━━━━━━━━━━━━━━\u001b[0m\u001b[37m\u001b[0m \u001b[1m40s\u001b[0m 37ms/step - accuracy: 0.9987 - loss: 0.0054 - val_accuracy: 0.9398 - val_loss: 0.3121\n",
            "Epoch 7/10\n",
            "\u001b[1m798/798\u001b[0m \u001b[32m━━━━━━━━━━━━━━━━━━━━\u001b[0m\u001b[37m\u001b[0m \u001b[1m41s\u001b[0m 37ms/step - accuracy: 0.9999 - loss: 0.0010 - val_accuracy: 0.9309 - val_loss: 0.3062\n",
            "Epoch 8/10\n",
            "\u001b[1m798/798\u001b[0m \u001b[32m━━━━━━━━━━━━━━━━━━━━\u001b[0m\u001b[37m\u001b[0m \u001b[1m41s\u001b[0m 37ms/step - accuracy: 0.9985 - loss: 0.0065 - val_accuracy: 0.9331 - val_loss: 0.3684\n",
            "Epoch 9/10\n",
            "\u001b[1m798/798\u001b[0m \u001b[32m━━━━━━━━━━━━━━━━━━━━\u001b[0m\u001b[37m\u001b[0m \u001b[1m41s\u001b[0m 37ms/step - accuracy: 0.9978 - loss: 0.0101 - val_accuracy: 0.9303 - val_loss: 0.3850\n",
            "Epoch 10/10\n",
            "\u001b[1m798/798\u001b[0m \u001b[32m━━━━━━━━━━━━━━━━━━━━\u001b[0m\u001b[37m\u001b[0m \u001b[1m41s\u001b[0m 38ms/step - accuracy: 1.0000 - loss: 5.1688e-04 - val_accuracy: 0.9312 - val_loss: 0.4020\n"
          ]
        }
      ],
      "source": [
        "batch_size = 32\n",
        "epochs = 10\n",
        "\n",
        "history = model.fit(X_train, y_train, epochs=epochs, batch_size=batch_size, validation_split=0.2)"
      ]
    },
    {
      "cell_type": "markdown",
      "metadata": {
        "id": "XmoJfr3nfP-n"
      },
      "source": [
        "# Model Evaluation"
      ]
    },
    {
      "cell_type": "markdown",
      "metadata": {
        "id": "2Gb8G9XiT-ec"
      },
      "source": [
        "Once the model is trained, the next step is to evaluate its performance on the testing dataset.\n",
        "\n",
        "1. **Evaluate the Model**:\n",
        "   You will use the `evaluate()` method to assess the model’s performance on the test dataset.\n",
        "\n",
        "2. **Testing Dataset**:\n",
        "   Ensure that the testing dataset is properly prepared and batched, just like the training dataset.\n",
        "\n",
        "4. **Loss Curve**:\n",
        "   A loss curve plots the loss values for both the training and validation datasets over the epochs."
      ]
    },
    {
      "cell_type": "code",
      "execution_count": 33,
      "metadata": {
        "id": "SdECXvQGUQae",
        "colab": {
          "base_uri": "https://localhost:8080/",
          "height": 466
        },
        "outputId": "1f4c4987-cdc5-454e-cfa7-a42855e7434d"
      },
      "outputs": [
        {
          "output_type": "stream",
          "name": "stdout",
          "text": [
            "\u001b[1m250/250\u001b[0m \u001b[32m━━━━━━━━━━━━━━━━━━━━\u001b[0m\u001b[37m\u001b[0m \u001b[1m1s\u001b[0m 6ms/step - accuracy: 0.9304 - loss: 0.4024\n",
            "Test Accuracy: 0.9315532445907593\n"
          ]
        },
        {
          "output_type": "display_data",
          "data": {
            "text/plain": [
              "<Figure size 640x480 with 1 Axes>"
            ],
            "image/png": "[encoded data removed]"
          },
          "metadata": {}
        }
      ],
      "source": [
        "loss, accuracy = model.evaluate(X_test, y_test)\n",
        "print(f\"Test Accuracy: {accuracy}\")\n",
        "\n",
        "plt.plot(history.history['loss'], label='Train Loss')\n",
        "plt.plot(history.history['val_loss'], label='Validation Loss')\n",
        "plt.legend()\n",
        "plt.show()"
      ]
    },
    {
      "cell_type": "markdown",
      "metadata": {
        "id": "ifx5RFxnUQqc"
      },
      "source": [
        "# Model Inference"
      ]
    },
    {
      "cell_type": "markdown",
      "metadata": {
        "id": "sVh0WCBoUSlP"
      },
      "source": [
        "In this step, you will use the trained model to make predictions on new, unseen data (inference). Here’s an outline of the key points:\n",
        "\n",
        "1. **Create Test Sample**:\n",
        "   Create a string to test your modelm the goal here is to give the model Before making predictions, ensure that the new data is preprocessed in the same way as the training data. This includes tokenization, padding, and any other transformations you applied during the data preprocessing step. The data can be single text to see the result of the prediction.\n",
        "\n",
        "2. **Model Prediction**:\n",
        "   Use the `predict()` method to feed new samples into the trained model and obtain predictions. The model will output probabilities or predicted class labels based on the type of classification task (binary or multi-class).\n",
        "\n",
        "3. **Interpreting Predictions**:\n",
        "   The model will return probabilities for each class."
      ]
    },
    {
      "cell_type": "code",
      "execution_count": 34,
      "metadata": {
        "colab": {
          "base_uri": "https://localhost:8080/"
        },
        "id": "2XiahrhffR0J",
        "outputId": "02c793e8-2436-42f6-bbfb-fe965133f60b"
      },
      "outputs": [
        {
          "output_type": "stream",
          "name": "stdout",
          "text": [
            "\u001b[1m1/1\u001b[0m \u001b[32m━━━━━━━━━━━━━━━━━━━━\u001b[0m\u001b[37m\u001b[0m \u001b[1m0s\u001b[0m 207ms/step\n",
            "Predicted Class: 3\n"
          ]
        }
      ],
      "source": [
        "sample_text = \"sample_text\"\n",
        "cleaned_sample = clean_text(sample_text)\n",
        "sequence = tokenizer.texts_to_sequences([cleaned_sample])\n",
        "padded_sequence = pad_sequences(sequence, maxlen=max_len)\n",
        "prediction = model.predict(padded_sequence)\n",
        "predicted_class = np.argmax(prediction)\n",
        "print(f\"Predicted Class: {predicted_class}\")"
      ]
    },
    {
      "cell_type": "markdown",
      "metadata": {
        "id": "fHbgQVrt43DQ"
      },
      "source": [
        "# Notebook Question:\n",
        "- How did you handle text preprocessing? Why did you choose this approach?\n",
        "\n",
        "- Why did you choose this model design?\n",
        "\n",
        "- Why did you pick this number of layers or units for the model?\n",
        "\n",
        "- Why did you select these evaluation methods?\n",
        "\n",
        "- Does your model show signs of overfitting or underfitting? How do you know?\n",
        "\n",
        "- What changes could you make to improve the model and fix overfitting or underfitting?"
      ]
    },
    {
      "cell_type": "markdown",
      "metadata": {
        "id": "x7vOe0JZ43DQ"
      },
      "source": [
        "Answer Here:"
      ]
    }
  ],
  "metadata": {
    "accelerator": "GPU",
    "colab": {
      "gpuType": "T4",
      "provenance": [],
      "include_colab_link": true
    },
    "kernelspec": {
      "display_name": "Python 3",
      "name": "python3"
    },
    "language_info": {
      "name": "python"
    }
  },
  "nbformat": 4,
  "nbformat_minor": 0
}