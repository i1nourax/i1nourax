{
  "cells": [
    {
      "cell_type": "markdown",
      "metadata": {
        "id": "view-in-github",
        "colab_type": "text"
      },
      "source": [
        "<a href=\"https://colab.research.google.com/github/i1nourax/i1nourax/blob/main/Copy_of_Task2_Text_Classification_Nora.ipynb\" target=\"_parent\"><img src=\"https://colab.research.google.com/assets/colab-badge.svg\" alt=\"Open In Colab\"/></a>"
      ]
    },
    {
      "cell_type": "markdown",
      "metadata": {
        "id": "bsurCNok43DL"
      },
      "source": [
        "# Text Classification Exam\n",
        "\n",
        "Welcome to the Text Classification Practical Exam. In this exam, you will be tasked with building, training, and evaluating an NLP model to classify text data. You are provided with a labeled dataset containing both the text and its corresponding class labels.\n",
        "\n",
        "Your objective is to develop a model that accurately predicts the class of the given text. Make sure to follow best practices in data preprocessing, model selection, and evaluation to achieve optimal results.\n",
        "\n",
        "Good luck!\n",
        "___"
      ]
    },
    {
      "cell_type": "markdown",
      "metadata": {
        "id": "oqw2El5mMxsz"
      },
      "source": [
        "# Install and Import Needed Libraries"
      ]
    },
    {
      "cell_type": "markdown",
      "metadata": {
        "id": "4dTkHbSHNB4y"
      },
      "source": [
        "You can use `pyarabic` or any other library to pre-process and clean the Arabic text."
      ]
    },
    {
      "cell_type": "code",
      "execution_count": 13,
      "metadata": {
        "id": "z6mRe6i5Wqqc",
        "colab": {
          "base_uri": "https://localhost:8080/"
        },
        "outputId": "65e43aaa-c149-470b-a83a-0d8d427dcb5e"
      },
      "outputs": [
        {
          "output_type": "stream",
          "name": "stdout",
          "text": [
            "Collecting pyarabic\n",
            "  Downloading PyArabic-0.6.15-py3-none-any.whl.metadata (10 kB)\n",
            "Requirement already satisfied: six>=1.14.0 in /usr/local/lib/python3.10/dist-packages (from pyarabic) (1.16.0)\n",
            "Downloading PyArabic-0.6.15-py3-none-any.whl (126 kB)\n",
            "\u001b[?25l   \u001b[90m━━━━━━━━━━━━━━━━━━━━━━━━━━━━━━━━━━━━━━━━\u001b[0m \u001b[32m0.0/126.4 kB\u001b[0m \u001b[31m?\u001b[0m eta \u001b[36m-:--:--\u001b[0m\r\u001b[2K   \u001b[90m━━━━━━━━━━━━━━━━━━━━━━━━━━━━━━━━━━━━━━━━\u001b[0m \u001b[32m126.4/126.4 kB\u001b[0m \u001b[31m8.6 MB/s\u001b[0m eta \u001b[36m0:00:00\u001b[0m\n",
            "\u001b[?25hInstalling collected packages: pyarabic\n",
            "Successfully installed pyarabic-0.6.15\n"
          ]
        }
      ],
      "source": [
        "!pip install pyarabic"
      ]
    },
    {
      "cell_type": "code",
      "source": [
        "import pandas as pd\n",
        "import numpy as np\n",
        "import pyarabic.araby as araby\n",
        "import tensorflow as tf\n",
        "from sklearn.model_selection import train_test_split\n",
        "from tensorflow.keras.preprocessing.text import Tokenizer\n",
        "from tensorflow.keras.preprocessing.sequence import pad_sequences\n",
        "from tensorflow.keras.models import Sequential\n",
        "from tensorflow.keras.layers import Embedding, LSTM, Dense, Bidirectional\n",
        "from matplotlib import pyplot as plt\n"
      ],
      "metadata": {
        "id": "jiS2Afbl___5"
      },
      "execution_count": 14,
      "outputs": []
    },
    {
      "cell_type": "markdown",
      "metadata": {
        "id": "Hq5KJRZ5Ph0Z"
      },
      "source": [
        "# Download the Dataset"
      ]
    },
    {
      "cell_type": "markdown",
      "metadata": {
        "id": "3riATTJ243DN"
      },
      "source": [
        "Please note that you are allowed to take a subset of this dataset, the reason for that is it might take a long time to train the model on."
      ]
    },
    {
      "cell_type": "code",
      "execution_count": 15,
      "metadata": {
        "id": "M1n3uTg043DN",
        "colab": {
          "base_uri": "https://localhost:8080/"
        },
        "outputId": "cc54dc74-35a4-48cd-f7da-6ec26e39190d"
      },
      "outputs": [
        {
          "output_type": "stream",
          "name": "stdout",
          "text": [
            "Dataset URL: https://www.kaggle.com/datasets/khaledzsa/sanad\n",
            "License(s): unknown\n",
            "Downloading sanad.zip to /content\n",
            " 98% 70.0M/71.4M [00:04<00:00, 24.5MB/s]\n",
            "100% 71.4M/71.4M [00:04<00:00, 17.4MB/s]\n",
            "Archive:  sanad.zip\n",
            "  inflating: sanad.csv               \n"
          ]
        }
      ],
      "source": [
        "!kaggle datasets download -d khaledzsa/sanad\n",
        "!unzip sanad.zip"
      ]
    },
    {
      "cell_type": "code",
      "source": [
        "df = pd.read_csv(\"sanad.csv\")\n",
        "df.head()"
      ],
      "metadata": {
        "id": "5sWtxRPi48r5",
        "colab": {
          "base_uri": "https://localhost:8080/",
          "height": 206
        },
        "outputId": "cb29272e-4545-42c1-d703-29464b214a16"
      },
      "execution_count": 16,
      "outputs": [
        {
          "output_type": "execute_result",
          "data": {
            "text/plain": [
              "                                                text    label\n",
              "0  https://example.com/resource/الشاٌرقة -ْ محمِد...  Culture\n",
              "1  https://example.com/resource/اَنِطٌلقّتَ ٍفٍيّ...  Culture\n",
              "2  https://example.com/resource/أُقيًمٌتِ مِساءُ ...  Culture\n",
              "3  https://example.com/resource/بٍاسُمةَ يًوٌنٍس ...  Culture\n",
              "4  https://example.com/resource/قُرر اَتحِاد اًلْ...  Culture"
            ],
            "text/html": [
              "\n",
              "  <div id=\"df-c4c7c705-8e63-4f17-91e8-328b75caffa1\" class=\"colab-df-container\">\n",
              "    <div>\n",
              "<style scoped>\n",
              "    .dataframe tbody tr th:only-of-type {\n",
              "        vertical-align: middle;\n",
              "    }\n",
              "\n",
              "    .dataframe tbody tr th {\n",
              "        vertical-align: top;\n",
              "    }\n",
              "\n",
              "    .dataframe thead th {\n",
              "        text-align: right;\n",
              "    }\n",
              "</style>\n",
              "<table border=\"1\" class=\"dataframe\">\n",
              "  <thead>\n",
              "    <tr style=\"text-align: right;\">\n",
              "      <th></th>\n",
              "      <th>text</th>\n",
              "      <th>label</th>\n",
              "    </tr>\n",
              "  </thead>\n",
              "  <tbody>\n",
              "    <tr>\n",
              "      <th>0</th>\n",
              "      <td>https://example.com/resource/الشاٌرقة -ْ محمِد...</td>\n",
              "      <td>Culture</td>\n",
              "    </tr>\n",
              "    <tr>\n",
              "      <th>1</th>\n",
              "      <td>https://example.com/resource/اَنِطٌلقّتَ ٍفٍيّ...</td>\n",
              "      <td>Culture</td>\n",
              "    </tr>\n",
              "    <tr>\n",
              "      <th>2</th>\n",
              "      <td>https://example.com/resource/أُقيًمٌتِ مِساءُ ...</td>\n",
              "      <td>Culture</td>\n",
              "    </tr>\n",
              "    <tr>\n",
              "      <th>3</th>\n",
              "      <td>https://example.com/resource/بٍاسُمةَ يًوٌنٍس ...</td>\n",
              "      <td>Culture</td>\n",
              "    </tr>\n",
              "    <tr>\n",
              "      <th>4</th>\n",
              "      <td>https://example.com/resource/قُرر اَتحِاد اًلْ...</td>\n",
              "      <td>Culture</td>\n",
              "    </tr>\n",
              "  </tbody>\n",
              "</table>\n",
              "</div>\n",
              "    <div class=\"colab-df-buttons\">\n",
              "\n",
              "  <div class=\"colab-df-container\">\n",
              "    <button class=\"colab-df-convert\" onclick=\"convertToInteractive('df-c4c7c705-8e63-4f17-91e8-328b75caffa1')\"\n",
              "            title=\"Convert this dataframe to an interactive table.\"\n",
              "            style=\"display:none;\">\n",
              "\n",
              "  <svg xmlns=\"http://www.w3.org/2000/svg\" height=\"24px\" viewBox=\"0 -960 960 960\">\n",
              "    <path d=\"M120-120v-720h720v720H120Zm60-500h600v-160H180v160Zm220 220h160v-160H400v160Zm0 220h160v-160H400v160ZM180-400h160v-160H180v160Zm440 0h160v-160H620v160ZM180-180h160v-160H180v160Zm440 0h160v-160H620v160Z\"/>\n",
              "  </svg>\n",
              "    </button>\n",
              "\n",
              "  <style>\n",
              "    .colab-df-container {\n",
              "      display:flex;\n",
              "      gap: 12px;\n",
              "    }\n",
              "\n",
              "    .colab-df-convert {\n",
              "      background-color: #E8F0FE;\n",
              "      border: none;\n",
              "      border-radius: 50%;\n",
              "      cursor: pointer;\n",
              "      display: none;\n",
              "      fill: #1967D2;\n",
              "      height: 32px;\n",
              "      padding: 0 0 0 0;\n",
              "      width: 32px;\n",
              "    }\n",
              "\n",
              "    .colab-df-convert:hover {\n",
              "      background-color: #E2EBFA;\n",
              "      box-shadow: 0px 1px 2px rgba(60, 64, 67, 0.3), 0px 1px 3px 1px rgba(60, 64, 67, 0.15);\n",
              "      fill: #174EA6;\n",
              "    }\n",
              "\n",
              "    .colab-df-buttons div {\n",
              "      margin-bottom: 4px;\n",
              "    }\n",
              "\n",
              "    [theme=dark] .colab-df-convert {\n",
              "      background-color: #3B4455;\n",
              "      fill: #D2E3FC;\n",
              "    }\n",
              "\n",
              "    [theme=dark] .colab-df-convert:hover {\n",
              "      background-color: #434B5C;\n",
              "      box-shadow: 0px 1px 3px 1px rgba(0, 0, 0, 0.15);\n",
              "      filter: drop-shadow(0px 1px 2px rgba(0, 0, 0, 0.3));\n",
              "      fill: #FFFFFF;\n",
              "    }\n",
              "  </style>\n",
              "\n",
              "    <script>\n",
              "      const buttonEl =\n",
              "        document.querySelector('#df-c4c7c705-8e63-4f17-91e8-328b75caffa1 button.colab-df-convert');\n",
              "      buttonEl.style.display =\n",
              "        google.colab.kernel.accessAllowed ? 'block' : 'none';\n",
              "\n",
              "      async function convertToInteractive(key) {\n",
              "        const element = document.querySelector('#df-c4c7c705-8e63-4f17-91e8-328b75caffa1');\n",
              "        const dataTable =\n",
              "          await google.colab.kernel.invokeFunction('convertToInteractive',\n",
              "                                                    [key], {});\n",
              "        if (!dataTable) return;\n",
              "\n",
              "        const docLinkHtml = 'Like what you see? Visit the ' +\n",
              "          '<a target=\"_blank\" href=https://colab.research.google.com/notebooks/data_table.ipynb>data table notebook</a>'\n",
              "          + ' to learn more about interactive tables.';\n",
              "        element.innerHTML = '';\n",
              "        dataTable['output_type'] = 'display_data';\n",
              "        await google.colab.output.renderOutput(dataTable, element);\n",
              "        const docLink = document.createElement('div');\n",
              "        docLink.innerHTML = docLinkHtml;\n",
              "        element.appendChild(docLink);\n",
              "      }\n",
              "    </script>\n",
              "  </div>\n",
              "\n",
              "\n",
              "<div id=\"df-4693f233-6e95-485d-b14b-c828fbe98921\">\n",
              "  <button class=\"colab-df-quickchart\" onclick=\"quickchart('df-4693f233-6e95-485d-b14b-c828fbe98921')\"\n",
              "            title=\"Suggest charts\"\n",
              "            style=\"display:none;\">\n",
              "\n",
              "<svg xmlns=\"http://www.w3.org/2000/svg\" height=\"24px\"viewBox=\"0 0 24 24\"\n",
              "     width=\"24px\">\n",
              "    <g>\n",
              "        <path d=\"M19 3H5c-1.1 0-2 .9-2 2v14c0 1.1.9 2 2 2h14c1.1 0 2-.9 2-2V5c0-1.1-.9-2-2-2zM9 17H7v-7h2v7zm4 0h-2V7h2v10zm4 0h-2v-4h2v4z\"/>\n",
              "    </g>\n",
              "</svg>\n",
              "  </button>\n",
              "\n",
              "<style>\n",
              "  .colab-df-quickchart {\n",
              "      --bg-color: #E8F0FE;\n",
              "      --fill-color: #1967D2;\n",
              "      --hover-bg-color: #E2EBFA;\n",
              "      --hover-fill-color: #174EA6;\n",
              "      --disabled-fill-color: #AAA;\n",
              "      --disabled-bg-color: #DDD;\n",
              "  }\n",
              "\n",
              "  [theme=dark] .colab-df-quickchart {\n",
              "      --bg-color: #3B4455;\n",
              "      --fill-color: #D2E3FC;\n",
              "      --hover-bg-color: #434B5C;\n",
              "      --hover-fill-color: #FFFFFF;\n",
              "      --disabled-bg-color: #3B4455;\n",
              "      --disabled-fill-color: #666;\n",
              "  }\n",
              "\n",
              "  .colab-df-quickchart {\n",
              "    background-color: var(--bg-color);\n",
              "    border: none;\n",
              "    border-radius: 50%;\n",
              "    cursor: pointer;\n",
              "    display: none;\n",
              "    fill: var(--fill-color);\n",
              "    height: 32px;\n",
              "    padding: 0;\n",
              "    width: 32px;\n",
              "  }\n",
              "\n",
              "  .colab-df-quickchart:hover {\n",
              "    background-color: var(--hover-bg-color);\n",
              "    box-shadow: 0 1px 2px rgba(60, 64, 67, 0.3), 0 1px 3px 1px rgba(60, 64, 67, 0.15);\n",
              "    fill: var(--button-hover-fill-color);\n",
              "  }\n",
              "\n",
              "  .colab-df-quickchart-complete:disabled,\n",
              "  .colab-df-quickchart-complete:disabled:hover {\n",
              "    background-color: var(--disabled-bg-color);\n",
              "    fill: var(--disabled-fill-color);\n",
              "    box-shadow: none;\n",
              "  }\n",
              "\n",
              "  .colab-df-spinner {\n",
              "    border: 2px solid var(--fill-color);\n",
              "    border-color: transparent;\n",
              "    border-bottom-color: var(--fill-color);\n",
              "    animation:\n",
              "      spin 1s steps(1) infinite;\n",
              "  }\n",
              "\n",
              "  @keyframes spin {\n",
              "    0% {\n",
              "      border-color: transparent;\n",
              "      border-bottom-color: var(--fill-color);\n",
              "      border-left-color: var(--fill-color);\n",
              "    }\n",
              "    20% {\n",
              "      border-color: transparent;\n",
              "      border-left-color: var(--fill-color);\n",
              "      border-top-color: var(--fill-color);\n",
              "    }\n",
              "    30% {\n",
              "      border-color: transparent;\n",
              "      border-left-color: var(--fill-color);\n",
              "      border-top-color: var(--fill-color);\n",
              "      border-right-color: var(--fill-color);\n",
              "    }\n",
              "    40% {\n",
              "      border-color: transparent;\n",
              "      border-right-color: var(--fill-color);\n",
              "      border-top-color: var(--fill-color);\n",
              "    }\n",
              "    60% {\n",
              "      border-color: transparent;\n",
              "      border-right-color: var(--fill-color);\n",
              "    }\n",
              "    80% {\n",
              "      border-color: transparent;\n",
              "      border-right-color: var(--fill-color);\n",
              "      border-bottom-color: var(--fill-color);\n",
              "    }\n",
              "    90% {\n",
              "      border-color: transparent;\n",
              "      border-bottom-color: var(--fill-color);\n",
              "    }\n",
              "  }\n",
              "</style>\n",
              "\n",
              "  <script>\n",
              "    async function quickchart(key) {\n",
              "      const quickchartButtonEl =\n",
              "        document.querySelector('#' + key + ' button');\n",
              "      quickchartButtonEl.disabled = true;  // To prevent multiple clicks.\n",
              "      quickchartButtonEl.classList.add('colab-df-spinner');\n",
              "      try {\n",
              "        const charts = await google.colab.kernel.invokeFunction(\n",
              "            'suggestCharts', [key], {});\n",
              "      } catch (error) {\n",
              "        console.error('Error during call to suggestCharts:', error);\n",
              "      }\n",
              "      quickchartButtonEl.classList.remove('colab-df-spinner');\n",
              "      quickchartButtonEl.classList.add('colab-df-quickchart-complete');\n",
              "    }\n",
              "    (() => {\n",
              "      let quickchartButtonEl =\n",
              "        document.querySelector('#df-4693f233-6e95-485d-b14b-c828fbe98921 button');\n",
              "      quickchartButtonEl.style.display =\n",
              "        google.colab.kernel.accessAllowed ? 'block' : 'none';\n",
              "    })();\n",
              "  </script>\n",
              "</div>\n",
              "\n",
              "    </div>\n",
              "  </div>\n"
            ],
            "application/vnd.google.colaboratory.intrinsic+json": {
              "type": "dataframe",
              "variable_name": "df",
              "summary": "{\n  \"name\": \"df\",\n  \"rows\": 39885,\n  \"fields\": [\n    {\n      \"column\": \"text\",\n      \"properties\": {\n        \"dtype\": \"string\",\n        \"num_unique_values\": 39885,\n        \"samples\": [\n          \"https://example.com/resource/\\u0628\\u0652\\u0644\\u0650\\u063a\\u062a \\u064e\\u062a\\u0633\\u064e\\u064a\\u064a\\u0644\\u0651\\u0627\\u064b\\u062a\\u064d \\u0627\\u0652\\u0644\\u0623\\u0652\\u062c\\u064e\\u0627\\u0646\\u0651\\u0628\\u064e \\u064e\\u0641\\u064a \\u0633\\u064d\\u0648\\u0652\\u0642\\u0650 \\u064e\\u062f\\u0628\\u064a \\u0627\\u0644\\u0645\\u064d\\u0627\\u0650\\u0644\\u064d\\u064a\\u064d \\u0623\\u0645\\u064d\\u0633\\u064e 59\\u064f \\u0645\\u0644\\u064d\\u064a\\u0648\\u0646\\u0627\\u0650\\u064b\\u0652\\u060c \\u0651\\u0641\\u0651\\u0642\\u062f \\u0650\\u0628\\u0652\\u0644\\u064b\\u063a\\u062a \\u064b\\u0642\\u0651\\u064a\\u064f\\u0645\\u0651\\u0629\\u0651 \\u0645\\u064f\\u0634\\u064b\\u062a\\u064f\\u0631\\u0650\\u064a\\u0627\\u062a \\u064e\\u0627\\u0644\\u0652\\u0623\\u062c\\u0627\\u064d\\u0646\\u064d\\u0628\\u064b\\u060c\\u064b \\u063a\\u0652\\u064a\\u0651\\u0631\\u064d \\u0627\\u0652\\u0644\\u0639\\u0631\\u064c\\u0628\\u060c\\u064f \\u0645\\u0650\\u0646\\u0651 \\u064c\\u0627\\u0644\\u0623\\u0633\\u064c\\u0647\\u064d\\u0645 \\u064c\\u062e\\u064f\\u0644\\u0627\\u064c\\u0644\\u064f \\u0647\\u0650\\u0630\\u064e\\u0627 \\u0627\\u064c\\u0644\\u064a\\u0648\\u0650\\u0645 \\u064d\\u0646\\u064b\\u062d\\u064c\\u0648 9\\u064b4\\u064d \\u064e.\\u065113\\u06526 \\u0645\\u0644\\u0652\\u064a\\u064c\\u0648\\u064b\\u0646\\u064c \\u062f\\u0631\\u0647\\u0645 \\u0641\\u064a\\u0651 \\u0652\\u062d\\u0652\\u064a\\u064f\\u0646\\u0651 \\u0628\\u0644\\u063a\\u064e\\u062a\\u064d \\u064b\\u0642\\u064c\\u064a\\u0645\\u0629\\u064c \\u064b\\u0645\\u064b\\u0628\\u064a\\u0639\\u0627\\u062a\\u0647\\u0645\\u064e \\u0646\\u064b\\u062d\\u0648\\u0652 2\\u06500 .22\\u064b6 \\u0650\\u0645\\u064b\\u0644\\u064a\\u0651\\u0648\\u0646 \\u0652\\u062f\\u0631\\u0650\\u0647\\u0645\\u064f .\\u064f \\u0643\\u0645\\u0627 \\u0650\\u0628\\u0644\\u064e\\u063a\\u064b\\u062a \\u0642\\u0652\\u064a\\u0645\\u0629\\u0650 \\u0645\\u064d\\u0634\\u064b\\u062a\\u064c\\u0631\\u0652\\u064a\\u0627\\u062a \\u064b\\u0627\\u0644\\u0645\\u0633\\u064d\\u062a\\u062b\\u064f\\u0645\\u064b\\u0631\\u064b\\u064a\\u064b\\u0646\\u064b \\u0627\\u0644\\u0652\\u0639\\u0650\\u0631\\u0650\\u0628\\u060c\\u064b \\u064f\\u063a\\u064a\\u0631 \\u0651\\u0627\\u0644\\u0652\\u062e\\u0644\\u064d\\u064a\\u064f\\u062c\\u064d\\u064a\\u064a\\u0651\\u0646\\u0650\\u060c\\u0651 \\u062e\\u0644\\u0627\\u0644 \\u0647\\u0650\\u0630\\u0627 \\u0650\\u0627\\u0644\\u0652\\u064a\\u064b\\u0648\\u0645 \\u0646\\u064f\\u062d\\u064d\\u0648\\u064f 07\\u064e .7\\u064c2\\u0650 \\u0645\\u0644\\u064e\\u064a\\u064c\\u0648\\u0646\\u0652 \\u0652\\u062f\\u0631\\u0647\\u064e\\u0645 \\u064d\\u0648\\u0642\\u064b\\u064a\\u0645\\u064c\\u0629\\u064c \\u0645\\u0652\\u0628\\u064e\\u064a\\u064f\\u0639\\u064e\\u0627\\u064b\\u062a\\u0651\\u0647\\u0645 \\u0646\\u062d\\u0648\\u064c \\u065281\\u064b \\u0650.6\\u06504\\u064e \\u064e\\u0645\\u0644\\u064f\\u064a\\u064c\\u0648\\u0646\\u0651 \\u062f\\u064b\\u0631\\u0647\\u064e\\u0645\\u064e .\\u0623\\u064b\\u0645\\u0651\\u0627\\u0652 \\u0652\\u0628\\u0651\\u0627\\u064c\\u0644\\u064e\\u0646\\u064f\\u0633\\u064d\\u0628\\u0629\\u064e \\u064c\\u0644\\u0644\\u0651\\u0645\\u064d\\u0633\\u064c\\u062a\\u064b\\u062b\\u0652\\u0645\\u0631\\u064b\\u064a\\u0646 \\u0652\\u0627\\u0644\\u062e\\u064c\\u0644\\u064a\\u064e\\u062c\\u064a\\u0650\\u064a\\u0646\\u064c \\u064f\\u0641\\u064b\\u0642\\u062f \\u0628\\u0644\\u064b\\u063a\\u0652\\u062a \\u0642\\u064a\\u0645\\u0629 \\u0645\\u0634\\u0652\\u062a\\u064e\\u0631\\u064c\\u064a\\u064f\\u0627\\u064e\\u062a\\u0647\\u0645\\u064b \\u064b9\\u064b1\\u064f \\u0651.4\\u064d3\\u064d \\u0645\\u0650\\u0644\\u064a\\u0648\\u064c\\u0646 \\u064c\\u062f\\u0631\\u0647\\u0645 \\u0641\\u064a\\u064f \\u062d\\u064a\\u0651\\u0646\\u064b \\u064e\\u0628\\u0644\\u064b\\u063a\\u064c\\u062a \\u064b\\u0642\\u064c\\u064a\\u0645\\u064d\\u0629\\u0651 \\u0645\\u0652\\u0628\\u0651\\u064a\\u0652\\u0639\\u0652\\u0627\\u064c\\u062a\\u064c\\u0647\\u0645\\u0652 \\u064f\\u0646\\u064e\\u062d\\u0650\\u0648 4\\u064f8 \\u064f.21\\u064c \\u0645\\u0644\\u064a\\u0648\\u064f\\u0646 \\u064e\\u062f\\u064e\\u0631\\u064d\\u0647\\u064e\\u0645 \\u064e\\u062e\\u0644\\u064c\\u0627\\u0644 \\u0650\\u0646\\u064c\\u0641\\u0633 \\u064f\\u0627\\u0652\\u0644\\u0651\\u0641\\u062a\\u0631\\u0652\\u0629\\u064c .\",\n          \"https://example.com/resource/\\u062f\\u0628\\u0650\\u064a\\u0650 - \\u0625\\u0650\\u0628\\u064d\\u0631\\u0650\\u0627\\u0647\\u064f\\u064a\\u064c\\u0645\\u0652 \\u0651\\u0627\\u0644\\u064f\\u064a\\u064b\\u0648\\u0633\\u0651\\u0641:\\u064e\\u0628\\u064d\\u062d\\u0636\\u0648\\u0652\\u0631\\u0650 \\u0645\\u064e\\u062d\\u064d\\u0645\\u062f\\u064e \\u0627\\u064d\\u0644\\u0645\\u0652\\u0631\\u060c \\u0631\\u0626\\u064a\\u0633\\u0651 \\u0627\\u0644\\u0645\\u064c\\u062c\\u064c\\u0644\\u064b\\u0633 \\u0627\\u064c\\u0644\\u0648\\u064d\\u0637\\u064b\\u0646\\u064f\\u064a\\u064d \\u0627\\u0644\\u064e\\u0627\\u062a\\u064b\\u062d\\u0652\\u0627\\u062f\\u064a\\u0650\\u060c\\u064e \\u0648\\u0650\\u0627\\u0651\\u0644\\u064c\\u0642\\u0646\\u0652\\u0635\\u0644 \\u0627\\u0644\\u0639\\u0627\\u0652\\u0645\\u0650 \\u064b\\u0627\\u064d\\u0644\\u0651\\u0643\\u0651\\u0648\\u064a\\u0651\\u062a\\u064e\\u064a\\u064c\\u060c \\u0630\\u064d\\u064a\\u064c\\u0627\\u0628\\u0651 \\u0651\\u0641\\u0631\\u062d\\u0627\\u064e\\u0646 \\u064c\\u0627\\u0652\\u0644\\u0631\\u0634\\u064a\\u0652\\u062f\\u064a\\u0651\\u060c \\u064b\\u0648\\u0633\\u064e\\u0644\\u0651\\u0637\\u0627\\u064b\\u0646\\u064d \\u0627\\u064c\\u0644\\u0652\\u0633\\u0648\\u064f\\u064a\\u062f\\u064d\\u064a \\u064d\\u0631\\u0652\\u0626\\u064a\\u064b\\u0633\\u0652 \\u0645\\u062c\\u064b\\u0644\\u064d\\u0633\\u0650 \\u0625\\u062f\\u0631\\u064d\\u0627\\u0629 \\u0646\\u064b\\u062f\\u0648\\u064e\\u0629\\u064b \\u0627\\u064b\\u0644\\u064c\\u062b\\u0642\\u0627\\u064d\\u0641\\u0629\\u064e \\u064e\\u0648\\u0627\\u064e\\u0644\\u0639\\u0644\\u0648\\u0645\\u060c \\u0648\\u0623\\u0639\\u0652\\u0636\\u0652\\u0627\\u0621 \\u0650\\u0645\\u064d\\u062c\\u064d\\u0644\\u064b\\u0633\\u0650 \\u0627\\u0644\\u0625\\u0651\\u062f\\u0652\\u0627\\u0631\\u064e\\u0629\\u064d\\u060c \\u0625\\u0652\\u0636\\u0627\\u0650\\u0641\\u0629\\u064d \\u0625\\u0644\\u0650\\u0649\\u064f \\u0637\\u0650\\u064a\\u064f\\u0641\\u064b \\u0648\\u0627\\u0633\\u064f\\u0639 \\u0650\\u0648\\u064d\\u0644\\u0627\\u0641\\u0652\\u062a \\u0645\\u0646\\u0651 \\u064d\\u0627\\u0644\\u064e\\u0643\\u0651\\u062a\\u0651\\u064c\\u0627\\u0651\\u0628\\u0650 \\u0648\\u064d\\u0627\\u064b\\u0644\\u0645\\u062b\\u064e\\u0642\\u0641\\u064b\\u064a\\u0646 \\u0648\\u0650\\u0627\\u0644\\u0625\\u0639\\u064e\\u0644\\u0627\\u0645\\u064a\\u064a\\u064d\\u0646 \\u0645\\u064c\\u0646\\u064d \\u0627\\u064e\\u0644\\u0650\\u0628\\u064d\\u0644\\u062f\\u064a\\u0646 . \\u0634\\u0647\\u062f\\u062a\\u064f \\u064e\\u0627\\u064d\\u0644\\u0652\\u0646\\u0650\\u062f\\u0648\\u064c\\u0629\\u064f\\u060c\\u064d \\u0645\\u064c\\u0633\\u0627\\u0621 \\u0650\\u0623\\u0645\\u0633\\u064b \\u0651\\u0627\\u064b\\u0644\\u0652\\u0623\\u064e\\u0648\\u064e\\u0644\\u060c\\u064b \\u0650\\u0627\\u0652\\u062e\\u062a\\u064e\\u062a\\u0652\\u0627\\u0645\\u0651 \\u0641\\u0639\\u0627\\u064e\\u0644\\u064a\\u0627\\u062a\\u064b \\u064e\\u0645\\u0647\\u0650\\u0631\\u064b\\u062c\\u0650\\u0627\\u0646\\u064f \\u064d\\\"\\u064c\\u0643\\u0648\\u0650\\u064a\\u062a\\u064e \\u0627\\u0644\\u0633\\u0644\\u0627\\u064e\\u0645 - \\u0625\\u064b\\u0645\\u0652\\u0627\\u0631\\u064f\\u0627\\u062a \\u064c\\u0627\\u064f\\u0644\\u0650\\u0648\\u064d\\u0641\\u0627\\u0621\\u0650\\\"\\u060c\\u064e \\u0628\\u064c\\u0631\\u0639\\u064d\\u0627\\u064a\\u064d\\u0629 \\u0648\\u064f\\u062a\\u0646\\u0638\\u064a\\u064f\\u0645 \\u0647\\u064a\\u0626\\u0629 \\u062f\\u064b\\u0628\\u064a\\u0652 \\u0644\\u0644\\u064b\\u062b\\u064d\\u0642\\u0627\\u0641\\u0651\\u0629 \\u0648\\u0627\\u0644\\u0652\\u0641\\u0646\\u0648\\u0646 \\u0628\\u0627\\u064c\\u0644\\u062a\\u0639\\u0627\\u0648\\u064d\\u0646 \\u064f\\u0645\\u0650\\u0639\\u064b \\u064c\\u0627\\u0644\\u0642\\u0652\\u0646\\u0635\\u0652\\u0644\\u064b\\u064a\\u064c\\u0629 \\u064c\\u0627\\u0651\\u0644\\u064b\\u0639\\u0627\\u064c\\u0645\\u0629\\u064d \\u0644\\u0650\\u062f\\u0652\\u0648\\u064b\\u0644\\u064b\\u0629\\u064c \\u0652\\u0627\\u0651\\u0644\\u0643\\u0648\\u064a\\u062a \\u064c\\u0641\\u0650\\u064a\\u064f \\u064e\\u0625\\u064d\\u0645\\u0651\\u0627\\u064e\\u0631\\u0629\\u064f \\u062f\\u064c\\u0628\\u064f\\u064a\\u060c\\u0652 \\u0648\\u0651\\u062a\\u0636\\u0645\\u064c\\u0646\\u0651 \\u064d\\u0641\\u0639\\u064d\\u0627\\u064f\\u0644\\u064d\\u064a\\u064e\\u0627\\u062a \\u064f\\u062b\\u0642\\u0651\\u0627\\u064f\\u0641\\u064a\\u0629\\u064e \\u0641\\u0646\\u064a\\u0652\\u0629\\u0650\\u060c \\u0650\\u0648\\u063a\\u064a\\u0631\\u0647\\u0650\\u0627\\u0651 \\u064d.\\u0648\\u0651\\u062a\\u0652\\u0636\\u064c\\u0645\\u0646\\u0651\\u062a\\u064b \\u064e\\u0627\\u0644\\u0641\\u0651\\u0639\\u064e\\u0627\\u0644\\u064d\\u064a\\u0627\\u064c\\u062a\\u0650 \\u0650\\u0639\\u064e\\u0631\\u0636 \\u0641\\u064a\\u0644\\u064f\\u0645 \\u0652\\u0648\\u064b\\u062b\\u0627\\u064e\\u0626\\u064f\\u0642\\u064f\\u064a\\u064f \\u0639\\u064e\\u0646\\u064f \\u064f\\u0627\\u0644\\u062a\\u064d\\u0639\\u064c\\u0627\\u0648\\u064d\\u0646\\u0650 \\u064d\\u0627\\u064c\\u0644\\u0623\\u062e\\u0648\\u064a \\u064f\\u0628\\u0651\\u064a\\u0652\\u0646\\u064b \\u0652\\u0627\\u0644\\u064e\\u0628\\u0644\\u064f\\u062f\\u0650\\u064a\\u064d\\u0646\\u064b \\u0651\\u0627\\u0650\\u0644\\u0634\\u0642\\u0651\\u064a\\u064c\\u0642\\u064e\\u064a\\u0646\\u0650\\u060c \\u064d\\u0642\\u0631\\u0623\\u0651 \\u064c\\u0628\\u0650\\u0639\\u064f\\u062f \\u064b\\u0630\\u064f\\u0644\\u0651\\u0643\\u064f \\u0651\\u0639\\u0628\\u064f\\u062f\\u0627\\u0650\\u0644\\u0644\\u0647 \\u064f\\u0627\\u0644\\u064c\\u0645\\u0637\\u0651\\u064a\\u0631\\u064d\\u064a\\u0650 \\u0643\\u064e\\u0644\\u0645\\u0652\\u0629\\u064c \\u0647\\u064a\\u0650\\u0626\\u0629 \\u062f\\u0628\\u064b\\u064a\\u064e \\u0644\\u0644\\u064b\\u062b\\u0642\\u0627\\u0641\\u0629\\u060c\\u064f \\u062a\\u062d\\u064f\\u062f\\u062b\\u064e \\u064c\\u0641\\u064a\\u0652\\u0647\\u0652\\u0627\\u064c \\u0639\\u0652\\u0646 \\u064f\\u0627\\u0652\\u0644\\u0639\\u0650\\u0644\\u0627\\u0642\\u0627\\u062a \\u0651\\u0627\\u0651\\u0644\\u064d\\u062b\\u0642\\u0650\\u0627\\u0641\\u064a\\u0651\\u0629 \\u0628\\u064b\\u064a\\u0646 \\u064e\\u0627\\u0644\\u0628\\u064b\\u0644\\u0651\\u062f\\u0652\\u064a\\u064d\\u0646\\u064c\\u060c \\u0648\\u064e\\u0643\\u064e\\u064a\\u0651\\u0641 \\u0623\\u0646 \\u0627\\u064e\\u0644\\u064d\\u0643\\u0648\\u064e\\u064a\\u0650\\u062a \\u062f\\u0639\\u0645\\u0651\\u062a\\u064d \\u0650\\u0627\\u0644\\u062d\\u0631\\u0652\\u0643\\u064b\\u0629\\u064b \\u0627\\u064d\\u0644\\u062b\\u0652\\u0642\\u064c\\u0627\\u0641\\u064a\\u0652\\u0629\\u0652 \\u064d\\u0648\\u0627\\u0650\\u0644\\u0651\\u062a\\u0639\\u0651\\u0644\\u064a\\u064f\\u0645\\u064a\\u0629 \\u0641\\u064a \\u0627\\u0644\\u0625\\u0645\\u0627\\u064e\\u0631\\u0627\\u064c\\u062a\\u060c\\u064d \\u064d\\u0648\\u0651\\u0623\\u064f\\u0646\\u064e\\u0634\\u0623\\u062a\\u0651 \\u0641\\u064a\\u064e\\u0647\\u0651\\u0627 \\u064b\\u0627\\u064c\\u0644\\u064f\\u0645\\u064f\\u062f\\u0627\\u064f\\u0631\\u0651\\u0633\\u064b\\u060c\\u0652 \\u064c\\u0625\\u0644\\u064f\\u0649 \\u0651\\u062c\\u0627\\u064b\\u0646\\u0650\\u0628 \\u064c\\u063a\\u0652\\u064a\\u064e\\u0631\\u0647\\u0650\\u0627\\u064c \\u0645\\u0646\\u064c \\u0650\\u0627\\u0644\\u0645\\u064c\\u0631\\u064d\\u0627\\u0641\\u064e\\u0642 \\u0627\\u0651\\u0644\\u0636\\u0631\\u0652\\u0648\\u0631\\u064d\\u064a\\u0650\\u0629\\u064e .\\u064c\\u0628\\u064c\\u0639\\u064b\\u062f\\u0652 \\u0630\\u064f\\u0644\\u0643 \\u0628\\u062f\\u0623\\u0650\\u062a \\u0641\\u064f\\u0639\\u0650\\u0627\\u064c\\u0644\\u064a\\u0627\\u0651\\u062a \\u0627\\u0644\\u064d\\u0646\\u0652\\u062f\\u0648\\u064c\\u0629 \\u0651\\u0627\\u0651\\u0644\\u064b\\u062a\\u064e\\u064a \\u064f\\u0623\\u062f\\u064e\\u0627\\u064c\\u0631\\u0647\\u0627 \\u0651\\u0639\\u0644\\u064e\\u064a\\u064c \\u064c\\u0639\\u064f\\u0628\\u064f\\u064a\\u0651\\u062f \\u0627\\u0644\\u064f\\u0647\\u0650\\u0627\\u0650\\u0645\\u0644\\u064d\\u064a\\u0651\\u060c\\u0651 \\u0652\\u0628\\u0639\\u0651\\u0646\\u064e\\u0648\\u064c\\u0627\\u0651\\u0646 \\\"\\u0650\\u0645\\u0633\\u064a\\u0631\\u064b\\u0629 \\u0627\\u064e\\u0644\\u0652\\u0639\\u0652\\u0644\\u0627\\u064e\\u0642\\u0627\\u062a\\u0651 \\u0627\\u0650\\u0644\\u0625\\u0645\\u0627\\u0652\\u0631\\u0627\\u062a\\u064a\\u0629\\u0651 \\u064b- \\u064c\\u0627\\u0651\\u0644\\u0652\\u0643\\u0648\\u064a\\u062a\\u064e\\u064a\\u064b\\u0629\\\" \\u0648\\u064b\\u0634\\u0627\\u0631\\u0643 \\u064c\\u0641\\u064c\\u064a\\u0647\\u064e\\u0627\\u0651 \\u0643\\u0644\\u064b \\u064e\\u0645\\u0646\\u0651 \\u0650\\u062f\\u0652 . \\u0639\\u0652\\u0628\\u062f\\u0650\\u0627\\u0652\\u0644\\u0644\\u064f\\u0647\\u064c \\u0627\\u0644\\u063a\\u064c\\u0646\\u064a\\u0645 \\u064e(\\u0651\\u0627\\u0644\\u0643\\u0648\\u064f\\u064a\\u064f\\u062a)\\u064f \\u064e\\u0648\\u0628\\u0644\\u0627\\u0644\\u064f \\u0651\\u0627\\u0652\\u0644\\u064f\\u0628\\u0652\\u062f\\u064b\\u0648\\u0631\\u064c \\u0646\\u064b\\u0627\\u064b\\u0626\\u0628 \\u0631\\u064d\\u0626\\u064a\\u064c\\u0633\\u064f \\u0645\\u062c\\u064e\\u0644\\u0633 \\u0625\\u062f\\u0650\\u0627\\u0652\\u0631\\u0652\\u0629\\u064d \\u064d\\u0646\\u064d\\u062f\\u064b\\u0648\\u0629\\u064f \\u0627\\u0644\\u062b\\u0642\\u0627\\u0641\\u0629\\u064e \\u0650\\u0627\\u0644\\u064d\\u0639\\u0652\\u0644\\u064d\\u0648\\u0645\\u064c\\u060c \\u062d\\u0652\\u064a\\u0650\\u062b \\u064d\\u0633\\u0650\\u0644\\u0637\\u064f \\u064b\\u0627\\u0644\\u0647\\u064e\\u0627\\u064c\\u0645\\u064c\\u0644\\u064a \\u0650\\u0627\\u0644\\u0636\\u0648\\u0621\\u064d \\u0639\\u0650\\u0644\\u064b\\u0649\\u0650 \\u0650\\u0627\\u0651\\u0644\\u0633\\u0652\\u064a\\u0631\\u0651\\u0629\\u064b \\u064f\\u0627\\u064b\\u0644\\u064b\\u0645\\u064e\\u0639\\u064b\\u0631\\u0641\\u064a\\u0629\\u0650 \\u064b\\u0644\\u064c\\u0643\\u064b\\u0644\\u064e\\u0627\\u064d \\u0627\\u0650\\u0644\\u0650\\u0643\\u0651\\u0627\\u064e\\u062a\\u0628\\u064a\\u0646 \\u062f .\\u064b \\u064c\\u0627\\u0644\\u0651\\u063a\\u064e\\u0646\\u064d\\u064a\\u064b\\u0645 \\u0650\\u0648\\u0651\\u0627\\u064f\\u0644\\u0628\\u0652\\u062f\\u0648\\u064e\\u0631 .\\u0651 \\u064d\\u0648\\u064b\\u0645\\u0645\\u0627\\u0652 \\u0642\\u0627\\u0644\\u0647 \\u0651\\u0627\\u064e\\u0644\\u0647\\u0627\\u0651\\u0645\\u064b\\u0644\\u064a\\u0651 \\u0641\\u064a\\u064e \\u0645\\u064c\\u0642\\u0651\\u062f\\u0652\\u0645\\u062a\\u0652\\u0647:\\u0651 \\u064b\\u0627\\u0644\\u0643\\u0648\\u064a\\u064b\\u062a \\u064f\\u062a\\u064d\\u0631\\u0643\\u062a \\u0628\\u064c\\u0635\\u0645\\u064d\\u0627\\u064e\\u062a\\u0651\\u0647\\u064c\\u0627\\u064d \\u0639\\u0645\\u064a\\u0651\\u0642\\u064f\\u0627\\u064b\\u064b \\u0639\\u064d\\u0644\\u064c\\u064a\\u0646\\u0627 \\u064c\\u0641\\u064a \\u062f\\u0648\\u0644\\u0651\\u0629 \\u064b\\u0627\\u064d\\u0644\\u064c\\u0625\\u064e\\u0645\\u0627\\u064b\\u0631\\u0627\\u062a\\u060c\\u064e \\u0652\\u0648\\u064c\\u0623\\u0643\\u064e\\u0628\\u0651\\u0631 \\u064c\\u062f\\u0644\\u064a\\u0644\\u064f \\u0650\\u0639\\u0644\\u064d\\u0649\\u064e \\u0650\\u0630\\u0644\\u0643\\u0650 \\u064f\\u0623\\u0651\\u0646 \\u0647\\u0646\\u0627\\u0643\\u064f \\u0652\\u062c\\u064a\\u064e\\u0644\\u064d\\u0627\\u0652\\u064b \\u0625\\u0645\\u0627\\u064f\\u0631\\u064f\\u0627\\u062a\\u064a\\u064d\\u0627\\u064b\\u064f \\u0652\\u0643\\u0627\\u0645\\u064b\\u0644\\u064d\\u0627\\u064d\\u064b\\u064f \\u062a\\u064e\\u0641\\u062a\\u062d\\u0651\\u062a\\u0651 \\u064b\\u0645\\u0650\\u062f\\u0652\\u0627\\u0631\\u0652\\u0643\\u0647\\u064b \\u0639\\u0644\\u0652\\u0649 \\u0651\\u0645\\u064b\\u0627\\u064e \\u0628\\u062b\\u064f\\u062a\\u064c\\u0647\\u064d \\u0627\\u064c\\u0644\\u0650\\u0643\\u064c\\u0648\\u064a\\u062a \\u0652\\u0645\\u0651\\u0646\\u064b \\u064b\\u062a\\u0639\\u0644\\u064a\\u064e\\u0645 \\u064d\\u0648\\u064f\\u062b\\u064c\\u0642\\u0627\\u0641\\u0651\\u0629\\u064d \\u0641\\u064a\\u064d \\u064c\\u0627\\u0644\\u0625\\u064c\\u0645\\u0651\\u0627\\u064b\\u0631\\u0627\\u064c\\u062a\\u064c\\u060c\\u064f \\u0650\\u062c\\u064a\\u0644 \\u0650\\u0643\\u064b\\u0627\\u064f\\u0645\\u0644\\u060c\\u0651 \\u064c\\u062a\\u0652\\u0639\\u0644\\u0645 \\u0648\\u0641\\u0652\\u0642 \\u0651\\u0645\\u0651\\u0646\\u064d\\u0627\\u0650\\u0647\\u064c\\u062c\\u064f \\u0627\\u0644\\u0643\\u0652\\u0648\\u064a\\u062a \\u0627\\u064c\\u0644\\u062a\\u0639\\u0644\\u064a\\u064c\\u0645\\u064c\\u064a\\u064d\\u0629 \\u064c.\\u064e\\u0648\\u0623\\u0634\\u0627\\u0651\\u062f\\u064d \\u064e\\u062f \\u064e.\\u064d \\u0627\\u064e\\u0644\\u063a\\u0646\\u064b\\u064a\\u0645 \\u0650\\u0628\\u0627\\u064c\\u0644\\u062d\\u064a\\u0627\\u0629\\u0650 \\u0651\\u0627\\u0644\\u062a\\u0652\\u0639\\u064b\\u0644\\u064a\\u064f\\u0645\\u064a\\u0629\\u064f \\u0627\\u0644\\u062b\\u0642\\u064b\\u0627\\u064f\\u0641\\u0651\\u064a\\u0629\\u0650 \\u0652\\u0641\\u064e\\u064a\\u064e \\u064f\\u0627\\u0644\\u064c\\u0625\\u0645\\u064b\\u0627\\u0631\\u064c\\u0627\\u062a\\u060c\\u064d \\u0651\\u0648\\u064c\\u0631\\u0623\\u0649\\u064f \\u064e\\u0623\\u064e\\u0646\\u0651\\u0647\\u0627\\u064e \\u062c\\u062f \\u0652\\u0645\\u062a\\u0637\\u0648\\u0631\\u064d\\u0629\\u0652\\u060c\\u0650 \\u0648\\u064e\\u0623\\u0650\\u062f\\u064c\\u0644\\u0649\\u0652 \\u0651\\u0628\\u0623\\u064c\\u0645\\u062b\\u0650\\u0644\\u0629 \\u064c\\u0645\\u0647\\u0651\\u0645\\u0629\\u064f \\u0650\\u0639\\u064f\\u0644\\u0651\\u0649 \\u0630\\u0650\\u0644\\u064e\\u0643\\u064c\\u060c\\u064c \\u0648\\u064c\\u0645\\u064d\\u0646\\u0647\\u0627 \\u0651\\u0623\\u0646 \\u0627\\u0650\\u0644\\u064e\\u0643\\u062b\\u064b\\u064a\\u0631\\u064a\\u064b\\u0646\\u064e \\u064c\\u0645\\u0646\\u0650 \\u0623\\u0628\\u064c\\u0646\\u064e\\u0627\\u0621\\u064f \\u0650\\u0627\\u0644\\u064b\\u0643\\u0648\\u064e\\u064a\\u0650\\u062a \\u0628\\u0627\\u062a\\u064b\\u0648\\u0627 \\u064a\\u064e\\u062a\\u0652\\u0627\\u0652\\u0628\\u0639\\u0650\\u0648\\u0652\\u0646 \\u0652\\u062a\\u062d\\u0652\\u0635\\u064a\\u0644\\u0647\\u0650\\u0645\\u0651 \\u064d\\u0627\\u0651\\u0644\\u0645\\u0639\\u064d\\u0631\\u064f\\u0641\\u064e\\u064a\\u064d \\u064d\\u0641\\u064c\\u064a \\u062c\\u064f\\u0627\\u064e\\u0645\\u0639\\u064d\\u0627\\u064b\\u062a \\u0627\\u0652\\u0644\\u0625\\u0645\\u0650\\u0627\\u0631\\u0627\\u062a\\u0652\\u060c\\u064e \\u0645\\u0646\\u0650 \\u062f\\u064f\\u0648\\u0646\\u064b \\u064e\\u0623\\u064e\\u0646 \\u064f\\u064a\\u064f\\u0634\\u064f\\u0639\\u064f\\u0631\\u0651\\u0648\\u064d\\u0627 \\u0625\\u0644\\u064d\\u0627\\u0650 \\u0628\\u0651\\u0623\\u0646\\u064b\\u0647\\u064c\\u0645\\u064b \\u0641\\u0650\\u064a \\u0628\\u064b\\u064a\\u0648\\u062a\\u0650\\u0647\\u064e\\u0645\\u0651\\u060c \\u0652\\u0648\\u0647\\u0648\\u064e \\u064f\\u0645\\u062f\\u064c\\u0639\\u064c\\u0627\\u064e\\u0629\\u0651 \\u064d\\u0633\\u064b\\u0639\\u0627\\u0650\\u062f\\u0629 \\u064d\\u0623\\u0633\\u0631\\u064d\\u0647\\u0645\\u0651\\u060c \\u0628\\u0652\\u0644 \\u0650\\u0628\\u0644\\u0651\\u062f\\u0647\\u0645\\u064b \\u064d\\u0628\\u0643\\u0627\\u064d\\u0645\\u064d\\u0644\\u0647 \\u064f.\\u0648\\u0642\\u0627\\u0644: \\u0644\\u0645\\u064f \\u064f\\u0623\\u064c\\u0631\\u062f\\u064c \\u064c\\u0623\\u0646\\u0650 \\u064d\\u0623\\u0633\\u064e\\u0645\\u064e\\u064a\\u0652 \\u0646\\u064e\\u062f\\u0650\\u0648\\u062a\\u0650\\u0646\\u0627 \\u0647\\u064b\\u0630\\u0651\\u0647\\u064f \\u0628\\u0627\\u0644\\u062d\\u0648\\u0651\\u0627\\u0652\\u0631\\u064b\\u064a\\u0629\\u0651\\u060c\\u064c \\u0628\\u0650\\u064a\\u0650\\u0646 \\u0645\\u0652\\u062b\\u064e\\u0642\\u0652\\u0641\\u064d\\u064a\\u0650\\u0646\\u0651 \\u0645\\u0650\\u0646\\u064d \\u0628\\u0644\\u062f\\u064a\\u064e\\u0646\\u0627:\\u064b \\u064b\\u0627\\u0644\\u064e\\u0643\\u0648\\u0650\\u064a\\u062a\\u0652 \\u0652\\u0648\\u0627\\u0652\\u0644\\u0625\\u0645\\u064c\\u0627\\u0631\\u0627\\u064c\\u062a\\u060c\\u064f \\u064b\\u0644\\u0623\\u0646 \\u0627\\u0644\\u062d\\u0648\\u064f\\u0627\\u0652\\u0631\\u060c\\u064f \\u0650\\u064a\\u062a\\u0645 \\u064c\\u0639\\u064f\\u0627\\u0650\\u062f\\u0629\\u064d\\u060c \\u0652\\u0628\\u064a\\u064e\\u0646\\u064c \\u0645\\u0650\\u0646\\u064b \\u0652\\u0647\\u064b\\u0645\\u064d \\u0645\\u062e\\u062a\\u064d\\u0644\\u0641\\u0648\\u0646\\u060c \\u0628\\u064a\\u0646 \\u0650\\u0645\\u064c\\u0646 \\u062a\\u064c\\u0643\\u0650\\u0648\\u0646\\u064c \\u064e\\u0647\\u064f\\u0646\\u0627\\u0643 \\u062a\\u0646\\u0627\\u0642\\u0650\\u0636\\u0627\\u062a \\u064b\\u0641\\u064f\\u064a\\u0651\\u0645\\u0627\\u064b \\u0650\\u0628\\u064a\\u0646\\u0652\\u0647\\u0645\\u060c \\u0625\\u0651\\u0646\\u0646\\u064e\\u0627\\u0650 \\u0650\\u0646\\u062a\\u062d\\u062f\\u064c\\u062b \\u064b\\u0636\\u0652\\u0645\\u0646 \\u0652\\u0625\\u0637\\u0652\\u0627\\u0650\\u0631\\u0651 \\u064c\\u0627\\u064c\\u0644\\u064e\\u0628\\u064e\\u064a\\u064b\\u062a\\u0650 \\u064c\\u0627\\u0644\\u0648\\u0652\\u0627\\u062d\\u0651\\u062f\\u060c \\u064f\\u0636\\u064e\\u0645\\u064c\\u0646\\u0650 \\u0625\\u0637\\u0627\\u0631 \\u0627\\u0644\\u064b\\u0623\\u0633\\u064c\\u0631\\u064f\\u0629 \\u0627\\u0644\\u0652\\u0648\\u0650\\u0627\\u062d\\u062f\\u0629\\u060c\\u0651 \\u0648\\u064f\\u0647\\u0646\\u064b\\u0627\\u0650 \\u0627\\u0650\\u0644\\u0641\\u0631\\u0642\\u064f \\u0628\\u064b\\u064a\\u0646\\u064c \\u064c\\u0637\\u064d\\u0628\\u064a\\u0639\\u0629 \\u0651\\u062d\\u062f\\u064a\\u064f\\u062b\\u0646\\u0651\\u0627\\u060c\\u0652 \\u0648\\u0635\\u0641\\u0629\\u064b \\u0627\\u0644\\u062d\\u0650\\u0648\\u0627\\u0631\\u0652 \\u0650.\\u0651\\u0648\\u062a\\u0627\\u0628\\u0651\\u0639\\u064b \\u062f . \\u0627\\u064f\\u0644\\u063a\\u0646\\u064a\\u064f\\u0645 \\u064f\\u0642\\u0651\\u0627\\u0626\\u0644\\u0627\\u064d\\u064b:\\u064d \\u0650\\u0645\\u0652\\u0631\\u0643\\u0650\\u0632 \\u0627\\u064c\\u0644\\u064b\\u0628\\u062d\\u0648\\u064c\\u062b \\u064e\\u0648\\u0627\\u064d\\u0644\\u062f\\u0631\\u064b\\u0627\\u064f\\u0633\\u0627\\u062a\\u0650 \\u0627\\u064c\\u0644\\u0643\\u0650\\u0648\\u064a\\u0650\\u062a\\u064c\\u064a\\u064b \\u064c\\u062c\\u0651\\u0645\\u064b\\u0639\\u0651 \\u0623\\u064d\\u0643\\u0650\\u062b\\u0651\\u0631 \\u064b\\u0645\\u0646 \\u064e\\u0645\\u0644\\u064b\\u064a\\u0648\\u064e\\u0646\\u064f\\u064a \\u0648\\u064e\\u062b\\u0651\\u064a\\u064d\\u0642\\u0629\\u064c \\u0639\\u0646 \\\"\\u0627\\u0644\\u062c\\u064b\\u0646\\u0648\\u064e\\u0628 \\u0648\\u0651\\u0627\\u064e\\u0644\\u062e\\u0644\\u0650\\u064a\\u064f\\u062c\\\"\\u064e\\u060c\\u0651 \\u0648\\u0645\\u064d\\u0646 \\u0628\\u064c\\u064a\\u064b\\u0646\\u064f\\u0647\\u0627\\u064f \\u0648\\u064e\\u062b\\u0627\\u0626\\u0642\\u0652 \\u064f\\u0645\\u0647\\u0650\\u0645\\u064e\\u0629 \\u0639\\u0646 \\u0645\\u0641\\u064c\\u0627\\u0635\\u0644 \\u064b\\u0627\\u0644\\u064f\\u0628\\u0652\\u0646\\u064a\\u0629\\u064c \\u064d\\u0627\\u0652\\u0644\\u0651\\u062a\\u064f\\u062d\\u064c\\u062a\\u064a\\u064e\\u0629 \\u064e\\u0641\\u064a \\u0627\\u0644\\u0650\\u0625\\u0645\\u064c\\u0627\\u064b\\u0631\\u064b\\u0627\\u0652\\u062a\\u064a\\u064f\\u0629\\u060c\\u064b \\u0648\\u064f\\u0646\\u064b\\u0634\\u064d\\u0623\\u064d\\u0629 \\u0645\\u062f\\u0627\\u0631\\u0633\\u0647\\u064e\\u0627\\u060c \\u0648\\u062d\\u064a\\u0627\\u062a\\u0650\\u0647\\u0627 \\u0627\\u0644\\u062b\\u064e\\u0642\\u0627\\u0641\\u064a\\u0629\\u0650\\u060c \\u064d\\u0648\\u0652\\u0641\\u064a \\u0647\\u0630\\u0650\\u0647 \\u0627\\u0651\\u0644\\u0648\\u062b\\u064b\\u0627\\u0626\\u0651\\u0642 \\u0650\\u0645\\u0639\\u0644\\u0648\\u064d\\u0645\\u0650\\u0627\\u064e\\u062a \\u062c\\u0651\\u062f \\u0645\\u0647\\u0645\\u0629\\u0652 \\u064b\\u0639\\u0651\\u0646 \\u064f\\u0646\\u0634\\u0623\\u0629\\u0651 \\u0627\\u0652\\u0644\\u064b\\u0645\\u062f\\u0650\\u0627\\u064c\\u0631\\u0633\\u060c\\u0652 \\u064c\\u0648\\u064c\\u062d\\u0651\\u062a\\u0649\\u064c \\u0623\\u0633\\u064b\\u0645\\u064e\\u0627\\u0621 \\u0651\\u0627\\u0644\\u0637\\u0644\\u0651\\u0628\\u0629\\u060c \\u0648\\u064b\\u0627\\u064e\\u0644\\u064d\\u0645\\u062f\\u064b\\u0631\\u0633\\u064c\\u064a\\u0646\\u060c\\u0652 \\u064b\\u0648\\u0643\\u0652\\u064a\\u0641\\u064a\\u064f\\u0629\\u064c \\u0628\\u064b\\u062f\\u0650\\u0627\\u064f\\u064a\\u0627\\u0652\\u062a\\u064c \\u0639\\u0652\\u0645\\u0650\\u0644\\u064e\\u064a\\u0652\\u0629\\u064d \\u0627\\u0644\\u062a\\u0639\\u0644\\u064a\\u0645\\u064f \\u064f. . \\u064d\\u0625\\u0644\\u064f\\u062e\\u0652\\u060c \\u064c\\u0648\\u0647\\u0646\\u064d\\u0627\\u0643\\u0651 \\u064b\\u0645\\u0646 \\u0651\\u0646\\u064f\\u0627\\u064f\\u0644\\u0652 \\u064b\\u0634\\u0647\\u0650\\u0627\\u062f\\u0629\\u064c \\u0650\\u0627\\u0644\\u062f\\u0650\\u0643\\u062a\\u064e\\u0648\\u0631\\u0651\\u0627\\u0647 \\u0645\\u064c\\u0646\\u0651 \\u062e\\u064f\\u0644\\u064b\\u0627\\u0651\\u0644\\u064f \\u064f\\u0642\\u0652\\u0631\\u0627\\u0621\\u0652\\u0629 \\u064e\\u0627\\u0644\\u064d\\u0639\\u064b\\u0644\\u064e\\u0627\\u0642\\u0627\\u064c\\u062a \\u0627\\u0652\\u0644\\u0623\\u0650\\u062e\\u0648\\u064d\\u064a\\u064e\\u0629 \\u064d\\u0628\\u064a\\u0646 \\u064e\\u0627\\u0644\\u064f\\u0628\\u064e\\u0644\\u062f\\u064a\\u064c\\u0646 \\u0652.\\u0652\\u0648\\u062c\\u0627\\u0621\\u064e \\u062d\\u064d\\u062f\\u064d\\u064a\\u064d\\u062b\\u064f \\u0627\\u064f\\u0644\\u0651\\u0628\\u0652\\u062f\\u064c\\u0648\\u0631\\u064e \\u064e\\u0628\\u0645\\u0627 \\u064a\\u064f\\u0634\\u0650\\u0628\\u0647 \\u064f\\u0627\\u064f\\u0644\\u0652\\u0634\\u0650\\u0647\\u0627\\u062f\\u064e\\u0629\\u064e\\u060c \\u0645\\u0646 \\u064c\\u0642\\u064e\\u0628\\u0644\\u064e \\u0652\\u0623\\u062d\\u064e\\u062f\\u064f \\u0651\\u0623\\u064c\\u0628\\u064f\\u0646\\u0627\\u0621 \\u064d\\u0627\\u0644\\u064c\\u062c\\u064a\\u064d\\u0644 \\u0627\\u064d\\u0644\\u064e\\u0630\\u064a\\u064d \\u064f\\u0641\\u062a\\u0651\\u062d \\u0639\\u064a\\u0646\\u064a\\u064b\\u0647\\u064b \\u0650\\u0639\\u064b\\u0644\\u064d\\u0649\\u0650 \\u0627\\u0644\\u0645\\u0646\\u0627\\u064f\\u0647\\u064b\\u062c \\u0627\\u0652\\u0644\\u0651\\u062a\\u0639\\u0644\\u064f\\u064a\\u0645\\u064a\\u0629 \\u0627\\u0644\\u0651\\u0643\\u064f\\u0648\\u0650\\u064a\\u062a\\u064a\\u0629\\u064e \\u0627\\u0650\\u0644\\u062a\\u064a\\u064b \\u064e\\u062a\\u0645 \\u062a\\u064b\\u062f\\u0650\\u0631\\u064a\\u064f\\u0633\\u0650\\u0647\\u064e\\u0627\\u064b \\u0641\\u0651\\u064a\\u064d \\u0627\\u064f\\u0644\\u0652\\u0625\\u064d\\u0645\\u064c\\u0627\\u0631\\u064c\\u0627\\u0652\\u062a\\u0652\\u060c \\u0648\\u0651\\u0642\\u064d\\u0627\\u0644: \\u064e\\u0643\\u0644 \\u064f\\u0630\\u064c\\u0644\\u0643 \\u064f\\u0630\\u0643\\u0631\\u0650\\u062a\\u0647 \\u0641\\u0651\\u064a \\u0643\\u062a\\u0627\\u0628\\u064a \\u064b\\\"\\u0627\\u0644\\u062c\\u0630\\u0648\\u0631 \\u0650\\u0627\\u064f\\u0644\\u062a\\u0627\\u0631\\u0652\\u064a\\u064d\\u062e\\u0650\\u064a\\u0651\\u0629\\u064d \\u064e\\u0644\\u064f\\u0644\\u0639\\u064b\\u0644\\u0627\\u0642\\u0627\\u0650\\u062a\\u064f \\u064e\\u0627\\u064f\\u0644\\u062b\\u0652\\u0642\\u0627\\u0650\\u0641\\u064d\\u064a\\u0629 \\u064c\\u0628\\u064a\\u064b\\u0646 \\u0650\\u0627\\u0644\\u0625\\u0645\\u0627\\u0631\\u0627\\u064c\\u062a\\u064c \\u064f\\u0648\\u064e\\u0627\\u064b\\u0644\\u0643\\u0650\\u0648\\u064a\\u064f\\u062a\\\"\\u060c \\u0652\\u0648\\u0643\\u064b\\u0627\\u064b\\u0646 \\u064c\\u0628\\u064f\\u0645\\u064f\\u062b\\u064f\\u0627\\u064e\\u0628\\u064c\\u0629\\u064d \\u064c\\u0631\\u0652\\u0633\\u064b\\u0627\\u0651\\u0644\\u064e\\u0629 \\u0634\\u0652\\u0643\\u0631 \\u0652\\u0644\\u0644\\u0643\\u0648\\u064a\\u062a\\u060c \\u0648\\u064c\\u0623\\u0636\\u0650\\u0627\\u064d\\u0641:\\u064d \\u0623\\u062c\\u064f\\u0644\\u060c\\u064e \\u064c\\u062a\\u062a\\u0644\\u0645\\u0630\\u0646\\u0627\\u064c \\u0639\\u064f\\u0644\\u0651\\u0649 \\u0650\\u0645\\u064d\\u0646\\u064c\\u0627\\u064c\\u0647\\u062c \\u064b\\u0627\\u0644\\u0643\\u064e\\u0648\\u064b\\u064a\\u062a\\u064d\\u060c\\u0650 \\u0648\\u0642\\u0631\\u0623\\u0646\\u0627\\u064d \\u0650\\u0639\\u064e\\u0628\\u0627\\u0631\\u064d\\u0629 \\u064e\\\"\\u0639\\u064f\\u0644\\u0645 \\u0628\\u0651\\u0644\\u0651\\u0627\\u062f\\u064a\\u0650 \\u0651\\u0644\\u0651\\u0648\\u064e\\u0646\\u0647\\u0650 \\u064c\\u0623\\u064c\\u062d\\u0645\\u0650\\u0631\\\" \\u0648\\u0650\\u0627\\u0631\\u062a\\u064c\\u062f\\u064a\\u0646\\u0652\\u0627\\u064e \\u0632\\u064a \\u0627\\u064e\\u0644\\u0652\\u0645\\u062f\\u0651\\u0627\\u0652\\u0631\\u064b\\u0633\\u064f \\u064d\\u0627\\u0644\\u0643\\u064d\\u0648\\u064e\\u064a\\u062a\\u064a\\u0629 \\u0623\\u062b\\u064f\\u0646\\u064f\\u0627\\u064e\\u0621\\u064c \\u0651\\u062a\\u0639\\u064e\\u0644\\u0650\\u064a\\u0645\\u0646\\u0627\\u064c\\u060c \\u064c\\u0648\\u0652\\u062a\\u064d\\u0646\\u0627\\u0650\\u0648\\u0644\\u064b\\u0646\\u0627 \\u0627\\u0644\\u064e\\u0648\\u062c\\u064f\\u0628\\u0652\\u0627\\u062a\\u064d \\u0627\\u0651\\u0644\\u0635\\u0628\\u0627\\u062d\\u0650\\u064a\\u0629\\u0651 \\u0627\\u0651\\u0644\\u0650\\u0643\\u064b\\u0648\\u064a\\u062a\\u064a\\u0629\\u0650 \\u064d\\u0641\\u0650\\u064a \\u0645\\u062f\\u064b\\u0627\\u064b\\u0631\\u064c\\u0633\\u0646\\u0627\\u0652\\u060c\\u064b \\u0648\\u0627\\u0633\\u062a\\u062e\\u064c\\u062f\\u064f\\u0645\\u0651\\u0646\\u0627 \\u064d\\u0627\\u064b\\u0644\\u064c\\u0623\\u0650\\u0642\\u064c\\u0644\\u0627\\u0651\\u0645 \\u0652\\u0648\\u064d\\u0627\\u0644\\u0652\\u0645\\u0645\\u064e\\u062d\\u0651\\u0627\\u064f\\u064a\\u064d\\u0627\\u064b\\u062a\\u064e \\u0648\\u0627\\u064d\\u0644\\u064b\\u0645\\u0628\\u0631\\u0627\\u064a\\u0652\\u0627\\u064b\\u062a \\u064d\\u0627\\u0644\\u064e\\u0643\\u0648\\u064c\\u064a\\u062a\\u064a\\u0629\\u064e\\u060c \\u0644\\u064d\\u0627\\u064c \\u0641\\u0631\\u0642 \\u064f\\u0628\\u064b\\u064a\\u064c\\u0646\\u064d\\u0646\\u0651\\u0627\\u060c \\u0628\\u064a\\u064b\\u0626\\u0650\\u062a\\u0627 \\u0628\\u064f\\u0644\\u062f\\u064a\\u0646\\u0627\\u064b \\u0648\\u0650\\u0627\\u064f\\u062d\\u0652\\u062f\\u0629\\u064d\\u060c \\u0647\\u064a \\u0627\\u064f\\u0644\\u0628\\u0650\\u064a\\u0650\\u0626\\u0629\\u064b \\u064c\\u0627\\u0650\\u0644\\u0628\\u062d\\u0631\\u064a\\u0629\\u064f \\u064f.\\u064b \\u0648\\u0628\\u0652\\u0639\\u062f\\u064f \\u064f\\u0623\\u0650\\u0641\\u064c\\u0648\\u0644 \\u062a\\u064d\\u062c\\u0627\\u0652\\u0631\\u0629\\u064c \\u0627\\u0644\\u0644\\u0624\\u0644\\u064b\\u0624\\u060c \\u0651\\u0641\\u064f\\u0625\\u0652\\u0646\\u0651 \\u0645\\u0651\\u062b\\u064e\\u0642\\u064f\\u0641\\u064a\\u0646\\u0627\\u064c \\u0648\\u064d\\u0639\\u0650\\u0645\\u064e\\u0627\\u0644\\u064f\\u0646\\u064f\\u0627 \\u062a\\u0648\\u062c\\u0647\\u0648\\u0627\\u064b \\u0625\\u0644\\u0649 \\u0627\\u0644\\u064e\\u0643\\u0650\\u0648\\u064b\\u064a\\u064b\\u062a\\u064f \\u0644\\u0650\\u0644\\u0639\\u064d\\u0645\\u0644 \\u0651\\u0641\\u064f\\u064a\\u0647\\u0627\\u064f\\u060c \\u0650\\u0643\\u0651\\u0645\\u0627 \\u0623\\u064f\\u0646 \\u0647\\u064c\\u0646\\u0627\\u0643 \\u0623\\u064f\\u062c\\u064a\\u0627\\u064c\\u0644\\u0651\\u0627\\u0650\\u064b \\u064e\\u0645\\u064b\\u0646 \\u0627\\u0652\\u0644\\u064e\\u0643\\u064b\\u0648\\u064a\\u062a\\u064b\\u064a\\u064a\\u0646 \\u064b\\u0639\\u064d\\u0627\\u0634\\u0648\\u064b\\u0627 \\u0641\\u064e\\u064a \\u064f\\u0627\\u0650\\u0644\\u064e\\u0625\\u064d\\u0645\\u0627\\u0631\\u0627\\u062a\\u064d\\u060c \\u064d\\u0648\\u0651\\u0645\\u064e\\u0646\\u064b\\u0647\\u0645 \\u0645\\u0646\\u064c \\u064b\\u0639\\u0650\\u0644\\u0652\\u0645\\u064d\\u0648\\u064e\\u0646\\u0627 .\\u0651 \\u0643\\u0645\\u0627 \\u0631\\u0627\\u0651\\u062d\\u0652 \\u064a\\u0650\\u062a\\u062d\\u064d\\u062f\\u062b \\u0639\\u0646\\u0651 \\u0627\\u0644\\u062a\\u0641\\u064e\\u0627\\u0639\\u064e\\u0644\\u064b \\u0627\\u064c\\u0644\\u062b\\u0650\\u0642\\u0652\\u0627\\u0641\\u064c\\u064a \\u0628\\u064d\\u064a\\u0646\\u0650 \\u064b\\u0627\\u0644\\u064d\\u0628\\u0644\\u0651\\u062f\\u064a\\u064d\\u0646 \\u0639\\u064e\\u0628\\u0631 \\u064d\\u0642\\u064d\\u0635\\u064f\\u0627\\u0626\\u0650\\u062f\\u064d \\u0627\\u0651\\u0644\\u064b\\u0634\\u0639\\u0652\\u0631\\u0627\\u064e\\u0621\\u060c\\u064d \\u064b\\u0627\\u0644\\u0652\\u0641\\u0652\\u0635\\u0652\\u062d\\u064c\\u0649\\u064b \\u0648\\u064c\\u0627\\u0644\\u0650\\u0646\\u064b\\u0628\\u0637\\u064a\\u064f\\u0629\\u0650\\u060c \\u0650\\u0641\\u0652\\u0636\\u064b\\u0644\\u0650\\u0627\\u064b\\u064b \\u064c\\u0639\\u064d\\u0646 \\u0651\\u0627\\u064d\\u0644\\u062a\\u0641\\u064c\\u0627\\u0639\\u064f\\u0644\\u064c \\u0651\\u0645\\u0652\\u0639 \\u0648\\u064b\\u0633\\u0627\\u0652\\u0626\\u064b\\u0644\\u064b \\u0627\\u0644\\u0625\\u0650\\u0639\\u0644\\u0627\\u0645\\u0650 \\u064d\\u0641\\u0650\\u064a\\u064e \\u0643\\u0644\\u0627 \\u0627\\u064b\\u0644\\u0628\\u0651\\u0644\\u064e\\u062f\\u064c\\u064a\\u064d\\u0646\\u060c\\u064c \\u0650\\u0625\\u064f\\u0630 \\u064c\\u0641\\u064c\\u062a\\u062d\\u062a\\u0650 \\u064c\\u0627\\u0644\\u0651\\u0635\\u064d\\u062d\\u064e\\u0627\\u064c\\u0641\\u0629\\u0650 \\u0627\\u064e\\u0644\\u064e\\u0643\\u0648\\u064a\\u062a\\u064a\\u0650\\u0629\\u064f \\u0651\\u0623\\u064f\\u0628\\u0652\\u0648\\u064e\\u0627\\u0628\\u0647\\u064d\\u0627\\u0651 \\u0644\\u0644\\u0645\\u062b\\u0642\\u0641\\u064a\\u064b\\u0646\\u064b \\u0627\\u064f\\u0644\\u0625\\u0645\\u0627\\u0631\\u0652\\u0627\\u0650\\u062a\\u064f\\u064a\\u064e\\u064a\\u0650\\u0646 .\",\n          \"https://example.com/resource/\\u0623\\u0650\\u0628\\u0648\\u0638\\u0628\\u064f\\u064a\\u0651 \\u064c-\\u0650 \\u064b\\u0645\\u0646\\u0651\\u064a\\u0650 \\u0650\\u0628\\u0651\\u0648\\u0651\\u0646\\u0639\\u064f\\u0627\\u064b\\u0645\\u0629:\\u0646\\u064e\\u0638\\u0645 \\u0627\\u062a\\u062d\\u0627\\u062f \\u064d\\u0643\\u0651\\u062a\\u0627\\u0650\\u0628\\u064d \\u0651\\u0648\\u0652\\u0623\\u062f\\u0652\\u0628\\u064e\\u0627\\u064b\\u0621 \\u064f\\u0627\\u0644\\u0625\\u0645\\u0627\\u0651\\u0631\\u0627\\u0650\\u062a \\u0641\\u064a \\u0623\\u0628\\u0648\\u0650\\u0638\\u0628\\u064b\\u064a\\u0651\\u060c\\u064c \\u0645\\u0633\\u064c\\u0627\\u064e\\u0621\\u064c \\u0623\\u0645\\u064c\\u0633\\u064d \\u0627\\u0644\\u064f\\u0623\\u064e\\u0648\\u0651\\u0644\\u060c \\u064f\\u0641\\u0650\\u064a\\u064d \\u0642\\u0651\\u0627\\u0650\\u0639\\u0629\\u064d \\u0627\\u0652\\u0644\\u062f\\u0643\\u062a\\u0648\\u064c\\u0631\\u064c \\u064c\\u0639\\u0628\\u062f\\u064e \\u064b\\u0627\\u0644\\u064c\\u0644\\u0647\\u0651 \\u0639\\u0645\\u0631\\u0627\\u064d\\u0646 \\u064f\\u062a\\u0650\\u0631\\u0651\\u064a\\u0645\\u0652 \\u064d\\u0641\\u064a\\u064f \\u0645\\u0651\\u0642\\u0631 \\u064d\\u0627\\u0644\\u0627\\u062a\\u064c\\u062d\\u0627\\u062f\\u064c \\u064c\\u0627\\u0644\\u064c\\u062c\\u062f\\u064a\\u0651\\u062f \\u0641\\u064a \\u0645\\u0650\\u0639\\u064e\\u0633\\u064b\\u0643\\u0631\\u064d \\u064f\\u0622\\u0644\\u0651 \\u0646\\u064b\\u0647\\u064a\\u0627\\u0646\\u064f \\u0623\\u064e\\u0645\\u0650\\u0633\\u064f\\u064a\\u0629 \\u0644\\u0652\\u0644\\u064e\\u0643\\u064c\\u0627\\u062a\\u0628\\u064d \\u0651\\u0648\\u064e\\u0627\\u0644\\u0652\\u0645\\u062b\\u064e\\u0642\\u0651\\u0641\\u064c \\u064d\\u0627\\u0644\\u0625\\u0645\\u064d\\u0627\\u064c\\u0631\\u064c\\u0627\\u062a\\u0651\\u064a\\u064f \\u0645\\u0627\\u062c\\u064c\\u062f \\u0628\\u0648 \\u0634\\u064f\\u0644\\u064a\\u0628\\u064f\\u064a\\u060c\\u064d \\u0623\\u064f\\u0645\\u064b\\u064a\\u0646 \\u0639\\u0627\\u0645\\u0652 \\u0652\\u0627\\u0644\\u0645\\u0646\\u062a\\u0650\\u062f\\u0651\\u0649 \\u0650\\u0627\\u0644\\u064d\\u0625\\u064e\\u0633\\u0651\\u0644\\u0651\\u0627\\u0645\\u0652\\u064a\\u064f \\u0641\\u064f\\u064a \\u0627\\u0644\\u064e\\u0634\\u0650\\u0627\\u0631\\u064d\\u0642\\u064e\\u0629\\u064e\\u060c\\u0650 \\u064c\\u0628\\u064f\\u0639\\u0646\\u0648\\u064f\\u0627\\u0646:\\u0651 \\u0644\\u0645\\u0627\\u0630\\u0627\\u064e \\u0651\\u0627\\u064b\\u0644\\u064f\\u0634\\u0651\\u0627\\u0631\\u0642\\u0629 \\u0639\\u0651\\u0627\\u064e\\u0635\\u0645\\u0629 \\u0650\\u0644\\u064d\\u0644\\u062b\\u064f\\u0642\\u0627\\u0641\\u064b\\u0629\\u064b \\u0627\\u064c\\u0644\\u0625\\u064c\\u0633\\u0652\\u0644\\u064d\\u0627\\u0645\\u0651\\u064a\\u0629\\u064d\\u061f \\u0642\\u062f\\u0651\\u0651\\u064e\\u0645 \\u0627\\u0644\\u064e\\u0623\\u0645\\u0633\\u064a\\u064f\\u0629\\u064f \\u064d\\u0627\\u0644\\u0634\\u0650\\u0627\\u0639\\u0631\\u0652 \\u0652\\u0648\\u0627\\u0644\\u0646\\u0627\\u0652\\u0642\\u062f \\u0645\\u064b\\u062d\\u064c\\u0645\\u062f \\u0646\\u0648\\u0631 \\u064f\\u0627\\u064c\\u0644\\u062f\\u064f\\u064a\\u0646\\u060c\\u0651 \\u064b\\u0648\\u0650\\u062d\\u0636\\u0650\\u0631\\u0651\\u0647\\u064c\\u0627\\u064e \\u064f\\u062d\\u0650\\u0628\\u064d\\u064a\\u0652\\u0628\\u064b \\u0627\\u064e\\u0644\\u0635\\u064b\\u0627\\u064a\\u0650\\u063a\\u0651 \\u064e\\u0631\\u064f\\u0626\\u064a\\u064d\\u0633\\u0652 \\u0645\\u062c\\u0651\\u0644\\u0633\\u0650 \\u0625\\u064c\\u062f\\u064c\\u0627\\u0631\\u0629\\u0650 \\u0651\\u0627\\u064c\\u0644\\u064b\\u0627\\u064b\\u062a\\u062d\\u0627\\u062f\\u0650\\u060c\\u064e \\u0648\\u0639\\u064b\\u062f\\u064b\\u062f \\u0645\\u0646 \\u064d\\u0627\\u0644\\u0643\\u062a\\u0651\\u0627\\u0628\\u064e \\u0648\\u0652\\u0627\\u064f\\u0644\\u064b\\u0623\\u064f\\u062f\\u0628\\u0627\\u064d\\u0621 \\u064d.\\u064e \\u064c\\u0627\\u0633\\u062a\\u064b\\u0647\\u0651\\u0644\\u0652 \\u0627\\u0652\\u0644\\u0651\\u0645\\u064d\\u062d\\u0652\\u0627\\u064f\\u0636\\u0631 \\u0628\\u0627\\u0633\\u062a\\u0639\\u064e\\u0631\\u0627\\u0636\\u0650 \\u0627\\u0644\\u0623\\u0637\\u0631 \\u0627\\u064c\\u0644\\u0639\\u064d\\u0627\\u0645\\u0629\\u0652 \\u0651\\u0627\\u064c\\u0644\\u062a\\u064a\\u0650 \\u0639\\u0645\\u0644\\u062a \\u064d\\u0639\\u0644\\u0649 \\u062a\\u064e\\u0634\\u0643\\u0651\\u064a\\u0652\\u0644\\u064f \\u064b\\u0648\\u0628\\u0644\\u064d\\u0648\\u064f\\u0631\\u0629 \\u0627\\u064f\\u0644\\u0641\\u0643\\u064b\\u0631\\u0652\\u0629 \\u0627\\u064e\\u0644\\u064c\\u062b\\u0642\\u0651\\u0627\\u0641\\u064d\\u064a\\u064b\\u0629\\u064e \\u0641\\u064b\\u064a\\u064f \\u064c\\u0627\\u0644\\u064f\\u0634\\u0627\\u0650\\u0631\\u064b\\u0642\\u0629\\u0652\\u060c\\u0652 \\u0645\\u0646\\u064c \\u0652\\u062e\\u0652\\u0644\\u0627\\u0652\\u0644\\u064d \\u0652\\u0627\\u0644\\u062a\\u064f\\u0639\\u064d\\u0631\\u064b\\u064a\\u0641 \\u0628\\u0652\\u0627\\u0644\\u062a\\u0650\\u062c\\u064b\\u0631\\u064f\\u0628\\u0629\\u0651 \\u064f\\u0648\\u0623\\u0647\\u0645 \\u0645\\u0633\\u0652\\u0627\\u0650\\u0631\\u064d\\u0627\\u062a\\u064b\\u0647\\u064d\\u0627\\u0652\\u060c\\u064f \\u0650\\u0648\\u064b\\u0627\\u0650\\u0644\\u0651\\u0623\\u0637\\u0650\\u0648\\u064c\\u0627\\u0631 \\u0651\\u0627\\u0652\\u0644\\u064d\\u062a\\u064a \\u0650\\u0645\\u064c\\u0631\\u064b\\u062a \\u0628\\u0647\\u0650\\u0627\\u064d\\u060c \\u0628\\u0652\\u062f\\u064e\\u0621\\u0651\\u0627\\u064b\\u064d \\u0628\\u064d\\u0627\\u0644\\u062d\\u062f\\u064a\\u064c\\u062b\\u064b \\u064d\\u0639\\u064b\\u0646 \\u0628\\u064d\\u0646\\u0627\\u0652\\u0621\\u064d \\u0627\\u0644\\u0628\\u064d\\u0646\\u0649\\u0650 \\u0627\\u0651\\u0644\\u0650\\u062a\\u064c\\u062d\\u062a\\u064c\\u064a\\u064c\\u0629\\u0650 \\u064d\\u0644\\u0644\\u0645\\u0624\\u064b\\u0633\\u0633\\u0650\\u0627\\u062a \\u0650\\u0627\\u0644\\u062b\\u064e\\u0642\\u0652\\u0627\\u0641\\u064a\\u064d\\u0629\\u064c \\u064f\\u0648\\u0627\\u064e\\u0644\\u0625\\u0651\\u0639\\u064e\\u0644\\u0627\\u0645\\u0650\\u064a\\u0629\\u0651 \\u064c\\u0627\\u0644\\u062a\\u064a \\u0623\\u064d\\u0633\\u0651\\u0647\\u0645\\u064f\\u062a\\u060c \\u064d\\u0639\\u064f\\u0628\\u0631 \\u0651\\u062a\\u0627\\u0652\\u0631\\u064a\\u062e\\u0647\\u0627\\u0652\\u060c\\u064e \\u0641\\u064c\\u064a\\u0651 \\u0652\\u062a\\u064b\\u0641\\u0639\\u064a\\u0644 \\u0627\\u0651\\u0644\\u0639\\u0650\\u0645\\u064b\\u0644\\u064b \\u0627\\u064e\\u0644\\u062b\\u0650\\u0642\\u064e\\u0627\\u0650\\u0641\\u0651\\u064a \\u0641\\u064f\\u064a \\u0627\\u064d\\u0644\\u0634\\u0627\\u0652\\u0631\\u0642\\u0629\\u060c \\u0627\\u0646\\u0637\\u0644\\u064d\\u0627\\u0642\\u0627\\u064b\\u0651 \\u0645\\u0650\\u0646\\u064b \\u062a\\u0623\\u0633\\u064f\\u064a\\u0633\\u0651 \\u064c\\u062f\\u0627\\u0652\\u0626\\u0631\\u0629\\u064d \\u0652\\u0627\\u0650\\u0644\\u064f\\u062b\\u0642\\u064b\\u0627\\u0641\\u0629 \\u064d\\u0648\\u0627\\u064c\\u0644\\u0625\\u0651\\u0639\\u0644\\u0627\\u0650\\u0645\\u064f\\u060c\\u0651 \\u0648\\u0650\\u062a\\u0644\\u0641\\u0632\\u064a\\u0648\\u064b\\u0646 \\u0627\\u0644\\u064f\\u0634\\u0627\\u064c\\u0631\\u0642\\u0652\\u0629\\u0650 \\u0648\\u0645\\u0627 \\u062a\\u062e\\u064d\\u0644\\u064c\\u0644\\u064f \\u0630\\u0644\\u0643\\u064c \\u064e\\u0645\\u064b\\u0646\\u064f \\u0625\\u064b\\u0628\\u0631\\u0627\\u0632\\u064f \\u0648\\u062a\\u0634\\u062c\\u064c\\u064a\\u064f\\u0639\\u064d \\u064f\\u0644\\u0644\\u062b\\u0642\\u064b\\u0627\\u064c\\u0641\\u0629 \\u0648\\u064b\\u0627\\u064b\\u0644\\u0641\\u0646\\u064e\\u0648\\u064d\\u0646\\u064e \\u0645\\u0646\\u064f \\u064f\\u062e\\u0644\\u0627\\u0644 \\u064b\\u0627\\u064f\\u0644\\u064f\\u0645\\u064d\\u0639\\u064d\\u0627\\u0631\\u0636 \\u0627\\u0644\\u0651\\u0641\\u064f\\u0646\\u064a\\u064b\\u0629\\u064f \\u0648\\u064d\\u0627\\u0644\\u0650\\u0641\\u0639\\u0627\\u064e\\u0644\\u064a\\u0627\\u062a\\u0652 \\u064f\\u0627\\u0652\\u0644\\u064c\\u062b\\u0642\\u064b\\u0627\\u0651\\u0641\\u064b\\u064a\\u0629 \\u064f\\u0627\\u0644\\u062a\\u064f\\u064a \\u0651\\u062a\\u0635\\u0628 \\u064d\\u0641\\u064a \\u0642\\u0627\\u064b\\u0644\\u064b\\u0628\\u0650 \\u0627\\u0644\\u0646\\u064c\\u0647\\u064b\\u0648\\u0636\\u064b \\u0644\\u064b\\u0634\\u0627\\u064b\\u0631\\u064d\\u0642\\u0650\\u0629\\u064d \\u0627\\u0644\\u0652\\u062b\\u0642\\u064f\\u0627\\u0641\\u0652\\u0629\\u064e \\u064d\\u0648\\u0627\\u0644\\u0645\\u064c\\u0639\\u0631\\u0641\\u064e\\u0629\\u064c\\u060c \\u0645\\u064c\\u0627 \\u064a\\u064c\\u062c\\u064b\\u064a\\u0628 \\u0628\\u064b\\u0634\\u0643\\u0644\\u0650 \\u0642\\u064b\\u0637\\u0639\\u0650\\u064a \\u064d\\u0639\\u064c\\u0646\\u064d \\u0627\\u0651\\u0644\\u064e\\u062a\\u064e\\u0633\\u0651\\u0627\\u0624\\u0644 \\u0652\\u0627\\u0644\\u0645\\u0652\\u0631\\u0643\\u0632\\u064b\\u064a\\u0650 \\u0644\\u0645\\u0627\\u0651\\u0630\\u0627\\u0651 \\u064f\\u0627\\u0650\\u0644\\u0634\\u0627\\u0651\\u0631\\u0642\\u0629\\u0651 \\u0639\\u0627\\u064b\\u0635\\u0645\\u0629\\u064f \\u064f\\u0627\\u064d\\u0644\\u064d\\u062b\\u0650\\u0642\\u0627\\u0641\\u064b\\u0629\\u064c \\u0627\\u064d\\u0644\\u0651\\u0625\\u0633\\u064b\\u0644\\u064c\\u0627\\u0645\\u064a\\u0629\\u064e\\u061f \\u064b\\u0648\\u064d\\u0623\\u0650\\u0634\\u0652\\u0627\\u0631 \\u064c\\u0627\\u0644\\u0645\\u062d\\u0627\\u064b\\u0636\\u0651\\u0631\\u064e \\u0652\\u0625\\u064f\\u0644\\u0649 \\u064e\\u0627\\u064d\\u0644\\u064d\\u062d\\u0631\\u0627\\u0643 \\u064d\\u0627\\u0644\\u062b\\u0642\\u0627\\u064e\\u0641\\u064a\\u0650 \\u0650\\u0627\\u0644\\u064b\\u0646\\u064f\\u0634\\u0637\\u0651 \\u0627\\u0644\\u0630\\u064c\\u064a\\u0652 \\u0634\\u0643\\u064b\\u0644\\u064f \\u0652\\u0627\\u0651\\u0644\\u064d\\u0628\\u0650\\u0648\\u0651\\u0627\\u0643\\u064f\\u064a\\u0631 \\u064c\\u0627\\u064d\\u0644\\u064b\\u0623\\u064c\\u0648\\u0644\\u0649\\u064c \\u0651\\u0644\\u0644\\u0651\\u0639\\u0645\\u0651\\u0644 \\u0627\\u0644\\u062b\\u0642\\u0627\\u0641\\u064a \\u0651\\u0641\\u064c\\u064a\\u064b \\u0627\\u0644\\u0652\\u0634\\u0651\\u0627\\u0651\\u0631\\u064f\\u0642\\u0629\\u064c\\u060c\\u0652 \\u0650\\u0627\\u064d\\u0644\\u0630\\u0651\\u064a\\u0651 \\u0634\\u0645\\u064c\\u0644 \\u0643\\u0627\\u0641\\u0629\\u064f \\u064e\\u0627\\u0644\\u064b\\u062c\\u0648\\u0627\\u0646\\u064c\\u0628\\u064c \\u0650\\u0628\\u0645\\u0627\\u064f \\u064b\\u0641\\u0652\\u064a\\u0652\\u0647\\u0627\\u064d \\u0625\\u0646\\u0652\\u0634\\u064c\\u0627\\u0621 \\u0651\\u0627\\u0644\\u0645\\u0631\\u0627\\u0643\\u0652\\u0632 \\u0648\\u0627\\u064e\\u0644\\u0645\\u062f\\u064f\\u0627\\u064d\\u0631\\u0633 \\u064b\\u0648\\u0650\\u0627\\u064c\\u0644\\u0651\\u062c\\u0652\\u0627\\u0645\\u0652\\u0639\\u0651\\u0627\\u062a\\u0652 \\u064f\\u0648\\u0650\\u0627\\u0644\\u0641\\u064f\\u0646\\u0650\\u0648\\u064e\\u0646\\u0652 \\u064b\\u0648\\u064b\\u0627\\u0644\\u0652\\u0645\\u0651\\u0633\\u064e\\u0627\\u0650\\u0631\\u062d \\u064d\\u0644\\u062a\\u0651\\u0639\\u0632\\u064b\\u064a\\u0632 \\u0627\\u0644\\u0641\\u0639\\u0644\\u064b \\u0627\\u0644\\u064b\\u062b\\u064e\\u0642\\u064e\\u0627\\u0651\\u0641\\u064c\\u064a\\u064d \\u0648\\u064c\\u062a\\u0633\\u0631\\u064a\\u064c\\u0639\\u064f \\u0639\\u062c\\u064f\\u0644\\u0629\\u064f \\u0627\\u0644\\u0650\\u0646\\u064e\\u0634\\u0627\\u0637\\u0652 \\u064d\\u0627\\u0644\\u062b\\u0642\\u064c\\u0627\\u0651\\u0641\\u0650\\u064a \\u064b\\u0641\\u064a \\u0627\\u064d\\u0644\\u0651\\u0634\\u0627\\u064b\\u0631\\u0642\\u0629\\u0650\\u060c\\u0651 \\u0643\\u0645\\u064c\\u0627 \\u064d\\u062a\\u0650\\u0645 \\u062a\\u062e\\u0635\\u064a\\u0635\\u064f \\u064f\\u0645\\u064c\\u0633\\u0650\\u0627\\u062d\\u0629 \\u0645\\u064c\\u0639\\u062a\\u064b\\u0628\\u0651\\u0631\\u064f\\u0629\\u064e \\u064b\\u0644\\u0644\\u0637\\u0641\\u0644\\u064f \\u0648\\u062b\\u0642\\u0652\\u0627\\u0652\\u0641\\u064c\\u062a\\u0647\\u064c\\u060c\\u0650 \\u0645\\u0646\\u0651 \\u062e\\u0652\\u0644\\u064f\\u0627\\u0644 \\u0625\\u0646\\u0634\\u064b\\u0627\\u0652\\u0621\\u064e \\u0651\\u0645\\u064f\\u0631\\u064c\\u0627\\u0643\\u0652\\u0632 \\u064c\\u0645\\u064c\\u0643\\u062a\\u0628\\u0652\\u0627\\u064c\\u062a \\u064e\\u0627\\u0644\\u064e\\u0623\\u0650\\u0637\\u064d\\u0641\\u064c\\u0627\\u0644\\u060c \\u0648\\u064d\\u0645\\u064d\\u0631\\u0652\\u0627\\u0643\\u0632 \\u064e\\u0627\\u064c\\u0644\\u0623\\u0637\\u0641\\u064c\\u0627\\u064d\\u0644\\u064d\\u060c \\u062b\\u0645\\u064c \\u0645\\u0652\\u0631\\u064d\\u0627\\u0643\\u0632 \\u064b\\u0627\\u064e\\u0644\\u0652\\u0646\\u0627\\u0634\\u0651\\u0626\\u0629\\u060c \\u0641\\u0645\\u0652\\u062c\\u064f\\u0644\\u0633 \\u064b\\u0623\\u064e\\u0639\\u0644\\u0649\\u064e \\u0652\\u0644\\u064f\\u0644\\u0637\\u0641\\u064e\\u0644\\u0652 \\u0625\\u064e\\u0644\\u0649 \\u064c\\u063a\\u064a\\u0631 \\u0630\\u064b\\u0644\\u0643 \\u0651\\u0645\\u0646 \\u0627\\u0644\\u0633\\u064b\\u064a\\u0627\\u0633\\u064c\\u0627\\u062a \\u064b\\u0627\\u0644\\u0652\\u062a\\u064a\\u064c \\u064e\\u0627\\u0650\\u0639\\u0650\\u062a\\u064b\\u0645\\u064b\\u062f\\u0647\\u0650\\u0627\\u064e \\u064d\\u0635\\u0651\\u0627\\u0652\\u062d\\u0628\\u0650 \\u0652\\u0627\\u0652\\u0644\\u0633\\u064c\\u0645\\u0648\\u064f \\u064b\\u0627\\u064b\\u0644\\u0650\\u0634\\u064f\\u064a\\u064d\\u062e \\u064f\\u0627\\u0644\\u062f\\u064b\\u0643\\u062a\\u0648\\u064f\\u0631 \\u064b\\u0633\\u064d\\u0644\\u064f\\u0637\\u0627\\u0646 \\u0628\\u0646 \\u0645\\u064e\\u062d\\u064c\\u0645\\u062f \\u0627\\u0650\\u0644\\u0642\\u0652\\u0627\\u0633\\u0645\\u064a\\u0652 \\u064e\\u0639\\u064d\\u0636\\u0648\\u064f \\u0627\\u0644\\u0645\\u062c\\u0650\\u0644\\u0633\\u064b \\u064c\\u0627\\u064d\\u0644\\u064b\\u0623\\u0639\\u0651\\u0644\\u0652\\u0649 \\u062d\\u064b\\u0627\\u0643\\u064c\\u0645\\u064e \\u064f\\u0627\\u064e\\u0644\\u0634\\u064e\\u0627\\u0650\\u0631\\u0642\\u064c\\u0629\\u0652 \\u064e\\u0644\\u0644\\u0650\\u0631\\u0642\\u0652\\u064a\\u064e \\u064c\\u0628\\u062b\\u0650\\u0642\\u064c\\u0627\\u064f\\u0641\\u064d\\u0629\\u0652 \\u0627\\u0652\\u0644\\u0637\\u0650\\u0641\\u0644 \\u0648\\u0652\\u062a\\u0646\\u064d\\u0645\\u064a\\u0651\\u0629 \\u0652\\u0645\\u064c\\u062f\\u064f\\u0627\\u064e\\u0631\\u064c\\u0643\\u0652\\u0647\\u0652 \\u0648\\u064d\\u0642\\u064e\\u062f\\u0631\\u0652\\u0627\\u0651\\u062a\\u064d\\u0647\\u064b \\u0650. \\u0648\\u064b\\u0630\\u0647\\u064d\\u0628\\u064b \\u0627\\u064c\\u0644\\u0645\\u0650\\u062d\\u0651\\u0627\\u0650\\u0636\\u064b\\u0631 \\u0625\\u064d\\u0644\\u0650\\u0649\\u0650 \\u064f\\u0623\\u0646\\u064e \\u064f\\u0627\\u0644\\u0652\\u0633\\u064c\\u064a\\u0651\\u0627\\u0633\\u0650\\u0627\\u062a\\u064d \\u0627\\u0644\\u062b\\u0652\\u0642\\u0627\\u0641\\u064a\\u0629\\u064b \\u0648\\u0627\\u0644\\u062a\\u064d\\u0648\\u062c\\u064c\\u064a\\u064b\\u0647\\u0627\\u062a\\u0650 \\u0650\\u0627\\u064b\\u0644\\u064d\\u0646\\u064e\\u064a\\u0651\\u0631\\u0629\\u064c \\u0644\\u064e\\u0635\\u064c\\u0627\\u062d\\u0650\\u0628\\u064c \\u0627\\u0644\\u0633\\u0645\\u0648 \\u064d\\u062d\\u0627\\u064c\\u0643\\u0652\\u0645\\u064b \\u0627\\u064d\\u0644\\u0634\\u064c\\u0627\\u0631\\u064f\\u0642\\u0629 \\u064b\\u062c\\u064c\\u0639\\u0644\\u0650\\u062a\\u064f \\u0650\\u0645\\u064e\\u0646 \\u0627\\u0651\\u0644\\u0639\\u064d\\u0645\\u064c\\u0644\\u064e \\u0627\\u0644\\u064d\\u062b\\u064b\\u0642\\u0627\\u064d\\u0641\\u064f\\u064a\\u0652 \\u0641\\u064a\\u064e \\u0627\\u0652\\u0644\\u064d\\u0634\\u0627\\u0631\\u064f\\u0642\\u0651\\u0629\\u064c \\u0639\\u0645\\u0644\\u0627\\u064b\\u0650 \\u0646\\u064e\\u0634\\u064d\\u0637\\u0651\\u0627\\u064b \\u0648\\u0651\\u0642\\u0651\\u0648\\u0651\\u064a\\u0652\\u0627\\u064b\\u064c \\u064e\\u0633\\u0648\\u064f\\u0627\\u0621 \\u064f\\u0645\\u064d\\u0646 \\u0652\\u062e\\u0652\\u0644\\u0650\\u0627\\u0644 \\u062a\\u064d\\u0648\\u064e\\u062c\\u0650\\u064a\\u0647\\u0627\\u064c\\u062a\\u064c \\u0650\\u0633\\u064e\\u0645\\u0651\\u0648\\u0647 \\u064c\\u0644\\u064e\\u0644\\u0627\\u0652\\u0631\\u062a\\u064d\\u0642\\u0651\\u0627\\u0621 \\u064c\\u0628\\u0627\\u0651\\u0644\\u064f\\u0641\\u0646\\u064f \\u0627\\u064d\\u0644\\u064d\\u062a\\u0634\\u064f\\u0643\\u064a\\u064e\\u0644\\u064e\\u064a\\u0652 \\u0648\\u064b\\u062a\\u0634\\u064f\\u062c\\u064d\\u064a\\u0639 \\u064b\\u0627\\u0652\\u0644\\u0641\\u0646\\u0627\\u0650\\u0646\\u064a\\u0646\\u060c\\u064c \\u0648\\u064f\\u0627\\u0642\\u062a\\u0646\\u064d\\u0627\\u0621\\u064c \\u0652\\u0623\\u064c\\u0639\\u064e\\u0645\\u064e\\u0627\\u0644 \\u0641\\u064b\\u0646\\u0651\\u064a\\u064e\\u0629\\u064e \\u0644\\u0645\\u0635\\u0650\\u0644\\u0652\\u062d\\u064d\\u0629\\u064f \\u064f\\u0645\\u062a\\u064b\\u062d\\u064d\\u0641\\u0651 \\u0627\\u0644\\u064b\\u0634\\u0627\\u0631\\u0651\\u0642\\u0629\\u060c \\u0648\\u064f\\u0625\\u064c\\u0646\\u062c\\u0627\\u0632 \\u064e\\u0642\\u0652\\u0627\\u0639\\u0629 \\u064e\\u062e\\u064f\\u0627\\u0651\\u0635\\u0629\\u0652 \\u064f\\u0628\\u0627\\u064f\\u0644\\u0622\\u062b\\u0650\\u0627\\u0651\\u0631 \\u0627\\u064b\\u0644\\u0625\\u0633\\u064d\\u0644\\u064c\\u0627\\u064d\\u0645\\u0651\\u064a\\u0629\\u064b \\u064f\\u0641\\u064e\\u064a \\u0645\\u062a\\u062d\\u0641 \\u0627\\u0652\\u0644\\u064d\\u0634\\u0627\\u0651\\u0631\\u0642\\u064e\\u0629\\u060c\\u064c \\u064d\\u0623\\u064b\\u0645\\u064e \\u0645\\u064f\\u0646 \\u062e\\u064c\\u0644\\u0627\\u0651\\u0644 \\u0650\\u0627\\u0633\\u064b\\u062a\\u0643\\u0645\\u0651\\u0627\\u064d\\u0644 \\u0627\\u0652\\u0644\\u0645\\u0652\\u0634\\u0652\\u0631\\u0648\\u0639\\u0627\\u064d\\u062a\\u064c \\u0627\\u0644\\u062b\\u0652\\u0642\\u0651\\u0627\\u0652\\u0641\\u064a\\u0629\\u064c \\u0648\\u064e\\u062a\\u0631\\u0645\\u064a\\u0645 \\u0627\\u0651\\u0644\\u0645\\u0628\\u0627\\u0646\\u064c\\u064a\\u064f \\u0627\\u0644\\u064d\\u062a\\u0650\\u0631\\u0627\\u0650\\u062b\\u064a\\u0650\\u0629 \\u0652\\u0648\\u063a\\u064a\\u0631\\u0647\\u064b\\u0627\\u064f \\u0645\\u064f\\u0646 \\u0627\\u064e\\u0644\\u0651\\u0623\\u0639\\u0651\\u0645\\u0627\\u0644 \\u064c\\u0648\\u0650\\u0627\\u0644\\u0623\\u064f\\u0646\\u0634\\u064e\\u0637\\u0629 \\u0652\\u0627\\u0644\\u062a\\u064a \\u062a\\u0635\\u0628 \\u0641\\u064a\\u064d \\u064e\\u0635\\u0645\\u064e\\u064a\\u0651\\u0645\\u0651 \\u064b\\u0627\\u0644\\u0650\\u0641\\u0639\\u0651\\u0644\\u064d \\u0627\\u064f\\u0644\\u064e\\u062b\\u064c\\u0642\\u0627\\u064b\\u0641\\u0651\\u064a .\\u0648\\u0623\\u0652\\u0643\\u064e\\u062f\\u064d \\u0627\\u0652\\u0644\\u0650\\u0645\\u0650\\u062d\\u0650\\u0627\\u064c\\u0636\\u0631 \\u0623\\u064d\\u0646 \\u0627\\u064c\\u0644\\u064e\\u062f\\u064e\\u0648\\u0652\\u0631\\u0629\\u0652 \\u064b\\u0627\\u0652\\u0644\\u064c\\u0623\\u064c\\u0648\\u064c\\u0644\\u064f\\u0649\\u0651 \\u0644\\u0645\\u064e\\u0639\\u0631\\u064d\\u0636\\u064d \\u0627\\u0644\\u0650\\u0643\\u0650\\u062a\\u0651\\u0627\\u0628\\u060c \\u0627\\u0644\\u0630\\u064d\\u064a \\u0623\\u0635\\u0651\\u0628\\u062d \\u0627\\u0651\\u0644\\u0652\\u064a\\u064f\\u0648\\u064c\\u0645\\u0651 \\u0648\\u062c\\u064b\\u0647\\u0629 \\u0639\\u0627\\u064b\\u0644\\u0651\\u0645\\u064a\\u0650\\u0629 \\u0644\\u0651\\u0644\\u0643\\u062a\\u0627\\u064d\\u0628\\u064e \\u064c\\u0648\\u0627\\u0644\\u0650\\u0645\\u0641\\u064e\\u0643\\u064b\\u0631\\u064a\\u0650\\u0646 \\u064e\\u0645\\u0650\\u0646\\u0650 \\u0623\\u0650\\u0646\\u064d\\u062d\\u064d\\u0627\\u064d\\u0621\\u064c \\u0627\\u064e\\u0644\\u0650\\u0639\\u0651\\u0627\\u0651\\u0644\\u0645\\u0652 \\u0638\\u0652\\u0644\\u0627\\u0644\\u0647\\u064c \\u0627\\u0644\\u0650\\u0648\\u0627\\u0631\\u064f\\u0641\\u0629\\u064e\\u060c\\u064f \\u0634\\u064d\\u0643\\u064d\\u0644\\u062a\\u0650 \\u064d\\u0646\\u064f\\u0642\\u064b\\u0637\\u0629 \\u064f\\u0627\\u064f\\u0646\\u064c\\u0637\\u0644\\u064e\\u0627\\u0652\\u0642 \\u064f\\u0648\\u062a\\u062d\\u0648\\u0650\\u0651\\u064d\\u0644 \\u0641\\u0652\\u064a\\u064d \\u0627\\u064e\\u0644\\u0645\\u0634\\u0652\\u0631\\u0652\\u0648\\u0639 \\u0652\\u0627\\u0644\\u0651\\u062b\\u0642\\u0652\\u0627\\u0652\\u0641\\u064d\\u064a\\u064f \\u0652\\u0644\\u064d\\u0635\\u0627\\u062d\\u0628 \\u064c\\u0627\\u064d\\u0644\\u064e\\u0633\\u0651\\u0645\\u0650\\u0648\\u064d \\u0650\\u062d\\u064d\\u0627\\u0643\\u0645\\u064f \\u0627\\u0652\\u0644\\u0634\\u0652\\u0627\\u064b\\u0631\\u0642\\u0651\\u0629\\u060c\\u0652 \\u0643\\u0652\\u0645\\u064b\\u0627\\u064e \\u064c\\u062a\\u0632\\u064f\\u0627\\u064d\\u0645\\u0646 \\u064c\\u0645\\u064c\\u0639\\u0651 \\u064e\\u0647\\u0650\\u0630\\u0647 \\u0627\\u0644\\u062f\\u0648\\u0631\\u0651\\u0629 \\u0627\\u064b\\u0641\\u0652\\u062a\\u062a\\u0627\\u062d \\u0645\\u064f\\u0643\\u064b\\u062a\\u0628\\u0652\\u0629\\u064e \\u0627\\u0644\\u064b\\u0645\\u064f\\u062d\\u0650\\u0645\\u0651\\u0648\\u062f\\u064e \\u0652(\\u0651\\u0627\\u0644\\u0652\\u0623\\u064b\\u0647\\u064f\\u0644\\u0650\\u064a\\u0629\\u0652)\\u0652\\u060c\\u0652 \\u0651\\u062b\\u064c\\u0645 \\u064b\\u0627\\u0644\\u0650\\u0645\\u0651\\u0631\\u064f\\u0643\\u0652\\u0632\\u0651 \\u064e\\u0627\\u0652\\u0644\\u064c\\u062b\\u0651\\u0642\\u0627\\u0641\\u0652\\u064a\\u064d \\u064f\\u0641\\u064a\\u0645\\u0627\\u0652 \\u0628\\u0639\\u062f\\u064d .\\u0652\\u0648\\u0651\\u0627\\u064c\\u0639\\u062a\\u0628\\u064d\\u0631 \\u0627\\u064d\\u0644\\u064c\\u0645\\u062d\\u064e\\u0627\\u064b\\u0636\\u0651\\u0631 \\u064b\\u0623\\u0646 \\u064b\\u062d\\u064b\\u0632\\u0645\\u0629 \\u0652\\u0627\\u0652\\u0644\\u064c\\u0645\\u064d\\u0647\\u064d\\u0631\\u062c\\u064d\\u0627\\u064d\\u0646\\u0627\\u0651\\u062a \\u0652\\u0648\\u0651\\u0627\\u0644\\u064f\\u0641\\u064b\\u0639\\u0650\\u0627\\u0644\\u064a\\u0650\\u0627\\u0651\\u062a\\u064b \\u0627\\u0644\\u0652\\u062a\\u064a\\u0650 \\u062a\\u0642\\u0652\\u0627\\u0650\\u0645 \\u0652\\u0639\\u0644\\u0651\\u0649 \\u0645\\u062f\\u0627\\u064c\\u0631\\u0650 \\u0627\\u064e\\u0644\\u0639\\u0627\\u0645\\u0650 \\u0650\\u0641\\u064a \\u064c\\u0627\\u0644\\u064e\\u0634\\u0627\\u064d\\u0631\\u0642\\u0629\\u064f\\u060c\\u0652 \\u0651\\u0648\\u0645\\u0627 \\u064a\\u0651\\u062a\\u064c\\u062e\\u0644\\u0650\\u0644\\u0647\\u064f\\u0627\\u0651 \\u0645\\u0646 \\u0623\\u0646\\u0634\\u0637\\u064c\\u0629\\u064d \\u062b\\u0642\\u064d\\u0627\\u0641\\u0652\\u064a\\u0629\\u064f \\u064c\\u0645\\u0651\\u062a\\u064f\\u0646\\u0648\\u064d\\u0639\\u0652\\u0629 \\u064d\\u062a\\u064c\\u0634\\u064b\\u0643\\u0652\\u0644\\u064f \\u064f\\u0623\\u064d\\u0648\\u062c\\u064c \\u0650\\u0627\\u064f\\u0644\\u062d\\u0631\\u064d\\u0627\\u0652\\u0643\\u0651 \\u064f\\u0627\\u064e\\u0644\\u062b\\u0642\\u0627\\u0641\\u064b\\u064a\\u064f\\u060c\\u064d \\u0648\\u0631\\u0627\\u0651\\u0641\\u0652\\u062f\\u0652\\u0627\\u064f\\u064b\\u0651 \\u0623\\u0633\\u0627\\u064d\\u0633\\u064d\\u064a\\u064e\\u0627\\u064c\\u064b \\u0644\\u0644\\u064c\\u062a\\u0641\\u0652\\u0627\\u0639\\u0644\\u0651 \\u0651\\u0648\\u0652\\u0627\\u0644\\u0652\\u062a\\u0646\\u0627\\u0650\\u063a\\u0645 \\u0627\\u0644\\u064b\\u062b\\u0650\\u0642\\u0627\\u064b\\u0641\\u064c\\u064a \\u064d\\u0641\\u064a\\u0651 \\u0625\\u0645\\u0627\\u0631\\u0652\\u0629\\u0652 \\u062a\\u0632\\u064c\\u062f\\u0651\\u0627\\u064c\\u0646 \\u0648\\u062a\\u0652\\u0632\\u062f\\u064d\\u0647\\u0651\\u064a\\u0650 \\u0643\\u0644 \\u064e\\u062d\\u064e\\u064a\\u064e\\u0646 \\u0628\\u0651\\u0644\\u0650\\u0641\\u064f\\u062a\\u064c\\u0629\\u064b \\u0643\\u064d\\u0631\\u064a\\u0645\\u0629\\u0651 \\u0648\\u064d\\u0633\\u064c\\u0627\\u064e\\u0646\\u062d\\u0629 \\u064e\\u0637\\u064a\\u064e\\u0628\\u0629 \\u0645\\u0650\\u0646 \\u0652\\u062d\\u0627\\u064e\\u0643\\u064b\\u0645 \\u0645\\u062b\\u0642\\u0641\\u0652\\u060c \\u064a\\u064e\\u062d\\u064b\\u0645\\u064d\\u0644\\u0652 \\u0639\\u0644\\u0649 \\u0639\\u064d\\u0627\\u064b\\u062a\\u064f\\u0642\\u0647 \\u064b\\u0627\\u064e\\u0644\\u064e\\u0646\\u0651\\u0647\\u064f\\u0648\\u064d\\u0636 \\u064f\\u0628\\u0652\\u0627\\u064c\\u0644\\u062b\\u064d\\u0642\\u064f\\u0627\\u064c\\u0641\\u064b\\u0629\\u064c \\u0648\\u064f\\u0627\\u064c\\u0644\\u064b\\u0645\\u064e\\u0639\\u064b\\u0631\\u0650\\u0641\\u0629 \\u064b.\\u0648\\u062e\\u0651\\u0644\\u0650\\u0635 \\u064f\\u0627\\u0650\\u0644\\u0650\\u0645\\u062d\\u064b\\u0627\\u0636\\u0631 \\u0625\\u064e\\u0644\\u0651\\u0649\\u0652 \\u0623\\u064b\\u0646 \\u064c\\u062b\\u064e\\u0645\\u0629\\u0651 \\u064b\\u062b\\u0644\\u0627\\u064e\\u062b\\u064c \\u0646\\u0642\\u0651\\u0627\\u0637 \\u064e\\u0644\\u064b\\u0644\\u0650\\u0627\\u064b\\u0631\\u064c\\u062a\\u0642\\u0650\\u0627\\u0621\\u064b \\u064e\\u0628\\u064d\\u0627\\u064d\\u0644\\u0641\\u0643\\u0652\\u0631\\u0629 \\u064d\\u0627\\u064d\\u0644\\u062b\\u0642\\u0651\\u0627\\u0641\\u064d\\u064a\\u064d\\u0629\\u0650 \\u0641\\u064e\\u064a\\u064d \\u064f\\u0627\\u0644\\u064c\\u0634\\u064d\\u0627\\u0631\\u0652\\u0642\\u0629 \\u0623\\u064d\\u0648\\u0644\\u0650\\u0647\\u0627 \\u064d\\u062a\\u0652\\u0623\\u064b\\u0633\\u064e\\u064a\\u0633 \\u0650\\u062f\\u0652\\u0627\\u0652\\u0626\\u0650\\u0631\\u0652\\u0629\\u064e \\u064e\\u0627\\u0644\\u062b\\u0642\\u0651\\u0627\\u0641\\u0629 \\u0648\\u064e\\u0627\\u0650\\u0644\\u064e\\u0625\\u0639\\u0650\\u0644\\u0627\\u0645\\u0651\\u060c \\u064c\\u0648\\u0650\\u062b\\u0652\\u0627\\u0646\\u064a\\u0647\\u0651\\u0627\\u064c \\u0627\\u062c\\u062a\\u0651\\u0645\\u064d\\u0627\\u064d\\u0639 \\u064e\\u0635\\u0627\\u062d\\u0650\\u0628\\u0650 \\u0627\\u0651\\u0644\\u0651\\u0633\\u0651\\u0645\\u0648\\u064d \\u0650\\u062d\\u0627\\u064f\\u0643\\u064b\\u0645 \\u0627\\u0644\\u064f\\u0634\\u0652\\u0627\\u064b\\u0631\\u0642\\u064d\\u0629\\u0651 \\u064c\\u0628\\u0643\\u064f\\u0648\\u0650\\u0627\\u062f\\u064c\\u0631 \\u0627\\u0644\\u064b\\u062f\\u064b\\u0627\\u0650\\u0626\\u0631\\u064b\\u0629 \\u064c\\u0648\\u0642\\u0651\\u062f\\u064f\\u0651\\u0645 \\u0641\\u0651\\u064a\\u0647\\u064f \\u0645\\u062c\\u0650\\u0645\\u064b\\u0648\\u064d\\u0639\\u0651\\u0629\\u064d \\u0645\\u064f\\u0646 \\u0652\\u0627\\u064e\\u0644\\u0633\\u064a\\u0651\\u0627\\u0651\\u0633\\u0627\\u062a \\u0651\\u0627\\u0644\\u062b\\u0642\\u064c\\u0627\\u064b\\u0641\\u064a\\u064e\\u0629 \\u0648\\u064c\\u0627\\u0644\\u062e\\u0651\\u0637\\u0637\\u064b \\u0627\\u0644\\u064d\\u062a\\u0646\\u0645\\u064e\\u0648\\u064a\\u0650\\u0629 \\u0651\\u0648\\u062f\\u0652\\u0639\\u0627 \\u064c\\u0633\\u0650\\u0645\\u064b\\u0648\\u064c\\u0647 \\u064c\\u0625\\u0650\\u0644\\u064f\\u0649: \\u0627\\u0644\\u0627\\u0647\\u0651\\u062a\\u064f\\u0645\\u0627\\u064f\\u0645 \\u0628\\u064b\\u0627\\u0650\\u0644\\u064f\\u0645\\u0652\\u0633\\u0631\\u062d\\u060c\\u0652 \\u0648\\u064b\\u0627\\u0651\\u0644\\u0623\\u0637\\u064c\\u0631\\u0650 \\u0627\\u064d\\u0644\\u0651\\u0639\\u0627\\u064b\\u0645\\u0629 \\u064e\\u0644\\u0644\\u0650\\u062b\\u064e\\u0642\\u0627\\u064d\\u0641\\u0629\\u064d\\u060c\\u0651 \\u0651\\u0627\\u064c\\u0644\\u0650\\u0627\\u0631\\u064f\\u062a\\u0642\\u0627\\u064f\\u0621\\u064c \\u0628\\u064d\\u0627\\u0650\\u0644\\u0639\\u0645\\u0651\\u0644\\u064e \\u0627\\u0644\\u0651\\u062a\\u064d\\u0634\\u0643\\u0651\\u064a\\u0644\\u064a\\u0650\\u060c \\u0627\\u0651\\u0644\\u0627\\u064f\\u0647\\u064f\\u062a\\u0645\\u064d\\u0627\\u0645 \\u0650\\u0628\\u0650\\u0627\\u0651\\u0644\\u064b\\u0648\\u0639\\u0651\\u064a \\u064b\\u0648\\u0650\\u0627\\u0652\\u0644\\u064f\\u0630\\u0627\\u0626\\u0650\\u0642\\u0651\\u0629\\u064c \\u0627\\u0651\\u0644\\u062c\\u0650\\u0645\\u064d\\u0627\\u0652\\u0644\\u0652\\u064a\\u0652\\u0629\\u064f\\u060c \\u0627\\u064d\\u0644\\u0650\\u0627\\u0647\\u064f\\u062a\\u0645\\u0627\\u0651\\u0645\\u0652 \\u064f\\u0628\\u064d\\u0627\\u0644\\u0637\\u0641\\u0644\\u0651\\u060c \\u0651\\u062a\\u0637\\u0648\\u064a\\u0631\\u064b \\u0634\\u0628\\u0643\\u0629\\u0652 \\u0627\\u0644\\u0645\\u0643\\u062a\\u064b\\u0628\\u0627\\u062a\\u060c\\u0652 \\u064e\\u0627\\u0633\\u062a\\u0643\\u064f\\u0645\\u064d\\u0627\\u0644\\u064d \\u0639\\u064b\\u0645\\u064b\\u0644\\u0652\\u064a\\u0627\\u062a \\u064c\\u0627\\u0644\\u064f\\u062a\\u0631\\u0645\\u064a\\u0645\\u0650\\u060c \\u064b\\u0627\\u0644\\u064d\\u0627\\u0647\\u064b\\u062a\\u064c\\u0645\\u0652\\u0627\\u0650\\u0645\\u064d \\u0650\\u0628\\u062b\\u064e\\u0642\\u0652\\u0627\\u064b\\u0641\\u064e\\u0629\\u064d \\u0650\\u0627\\u064d\\u0644\\u0645\\u0650\\u0631\\u064b\\u0623\\u064b\\u0629 \\u0650\\u0648\\u064b\\u0627\\u064f\\u0644\\u064d\\u0637\\u0641\\u0652\\u0644 .\\u0652 \\u064c.\\u064d)\\u064f \\u064b\\u0648\\u062b\\u064b\\u0627\\u064d\\u0644\\u0651\\u062b\\u064b\\u0647\\u064e\\u0627\\u064f \\u064b\\u0625\\u0650\\u0639\\u0650\\u0644\\u0651\\u0627\\u064b\\u0646\\u064f \\u0627\\u0644\\u0634\\u0627\\u0631\\u0642\\u0629\\u064f \\u0651\\u0639\\u0627\\u064d\\u0635\\u064e\\u0645\\u0629\\u064c \\u0644\\u0644\\u064b\\u062b\\u0642\\u064b\\u0627\\u0641\\u0629 \\u064b\\u0627\\u0652\\u0644\\u064e\\u0639\\u0651\\u0631\\u0628\\u064a\\u0629\\u064f \\u064b\\u0641\\u064a\\u064b \\u0639\\u0627\\u0645 19\\u06529\\u064d8 \\u064e\\u0644\\u0645\\u0627 \\u062a\\u062a\\u0645\\u064b\\u064a\\u0632\\u064f \\u0628\\u064f\\u0647\\u064e \\u064e\\u0645\\u064b\\u0646\\u064b \\u064b\\u0646\\u064e\\u0634\\u0650\\u0627\\u0637 \\u0651\\u0648\\u064f\\u062d\\u064b\\u0631\\u0627\\u0643\\u064d \\u064f\\u062b\\u0642\\u0627\\u0641\\u064a\\u0650 \\u0645\\u0652\\u0645\\u064c\\u064a\\u0632\\u064d\\u060c\\u064e \\u064b\\u0641\\u0636\\u0644\\u0627\\u064b\\u064e \\u064f\\u0639\\u0650\\u0646 \\u062f\\u0648\\u0631\\u064b \\u064c\\u0627\\u0644\\u064d\\u062c\\u064f\\u0648\\u0627\\u0652\\u0626\\u064f\\u0632\\u0651 \\u0648\\u0635\\u0650\\u0646\\u064f\\u0627\\u062f\\u0651\\u064a\\u064b\\u0642 \\u064f\\u0627\\u064b\\u0644\\u062f\\u064d\\u0639\\u064c\\u0645\\u060c \\u064d\\u0648\\u0627\\u064f\\u0644\\u062f\\u0628\\u0652\\u0644\\u064b\\u0648\\u0645\\u0627\\u0633\\u064d\\u064a\\u0629 \\u064f\\u0627\\u0650\\u0644\\u064b\\u062b\\u0652\\u0642\\u0627\\u0641\\u0651\\u064a\\u0629\\u060c\\u064e \\u0648\\u0639\\u0650\\u062f\\u062f \\u0648\\u0652\\u0646\\u064c\\u0648\\u0639 \\u064b\\u0627\\u064b\\u0644\\u064c\\u062c\\u064b\\u0627\\u0645\\u0639\\u0650\\u0627\\u064c\\u062a \\u0648\\u0627\\u0644\\u064e\\u0645\\u0650\\u0631\\u0627\\u0652\\u0643\\u0632\\u060c \\u064f\\u0648\\u0627\\u064b\\u0644\\u0625\\u064f\\u062d\\u0635\\u064c\\u0627\\u0650\\u0621\\u064e \\u0627\\u0651\\u0644\\u0627\\u064b\\u062c\\u064f\\u062a\\u0645\\u0627\\u0650\\u0639\\u0650\\u064a\\u0651 \\u064b\\u0641\\u0651\\u064a \\u0628\\u0644\\u0648\\u064e\\u0631\\u0629\\u064f \\u064b\\u0648\\u064c\\u062a\\u064b\\u0631\\u0633\\u0652\\u064a\\u062e \\u064c\\u0645\\u064d\\u0643\\u064e\\u0627\\u0646\\u0629 \\u064b\\u0627\\u0644\\u0651\\u0634\\u0627\\u0651\\u0631\\u064e\\u0642\\u0629 \\u064d\\u0639\\u0627\\u0635\\u0645\\u0629\\u064f \\u0651\\u0644\\u064c\\u0644\\u0651\\u062b\\u064d\\u0642\\u0627\\u064d\\u0641\\u0629\\u064e \\u064c\\u0627\\u064c\\u0644\\u0652\\u0639\\u0650\\u0631\\u0628\\u064a\\u064c\\u0629 \\u0650\\u0648\\u0652\\u0627\\u0644\\u0625\\u064d\\u0633\\u0644\\u0627\\u0651\\u0645\\u064a\\u0652\\u0629\\u060c \\u0648\\u0643\\u064f\\u0644 \\u0651\\u0630\\u0652\\u0644\\u064b\\u0643 \\u064b\\u0628\\u062c\\u0647\\u062f \\u0651\\u0635\\u0651\\u0627\\u062d\\u0628\\u064d \\u0650\\u0627\\u0644\\u064d\\u0633\\u064e\\u0645\\u0648\\u0650 \\u064b\\u062d\\u0650\\u0627\\u064c\\u0643\\u064f\\u0645 \\u064d\\u0627\\u0644\\u0634\\u0627\\u0631\\u064c\\u0642\\u0629 \\u0627\\u064e\\u0644\\u0650\\u0630\\u064a\\u064b \\u064e\\u0639\\u0645\\u064f\\u0644 \\u0651\\u0648\\u064d\\u0644\\u0627 \\u064a\\u0632\\u064f\\u0627\\u064e\\u0644 \\u0628\\u0634\\u063a\\u0641\\u0652 \\u0648\\u062d\\u0628\\u064f \\u0639\\u064f\\u0644\\u0649\\u0652 \\u062a\\u064c\\u0639\\u0632\\u064b\\u064a\\u064b\\u0632\\u064e \\u064c\\u0627\\u064f\\u0644\\u064e\\u062a\\u0646\\u064b\\u0645\\u0651\\u064a\\u064d\\u0629\\u064c \\u0627\\u064e\\u0644\\u064b\\u062b\\u0642\\u064e\\u0627\\u064d\\u0641\\u064c\\u064a\\u0629 \\u064e\\u0641\\u0650\\u064a\\u064f \\u0627\\u0652\\u0644\\u064e\\u0634\\u0627\\u0631\\u064e\\u0642\\u064d\\u0629\\u064e \\u0645\\u0646\\u0650 \\u062e\\u064b\\u0644\\u0650\\u0627\\u0650\\u0644\\u0651 \\u0651\\u0633\\u064e\\u0646\\u0651 \\u0648\\u0625\\u0642\\u064b\\u0631\\u0651\\u0627\\u0631 \\u0645\\u062c\\u0645\\u0648\\u064c\\u0639\\u064e\\u0629\\u064e \\u0645\\u064f\\u0646\\u0651 \\u0627\\u064b\\u0644\\u0645\\u064d\\u0634\\u0650\\u0631\\u0648\\u0639\\u064f\\u0627\\u064f\\u062a\\u0652 \\u0627\\u0644\\u0651\\u062b\\u0650\\u0642\\u0627\\u0652\\u0641\\u0650\\u064a\\u0629\\u064c \\u0650\\u0627\\u0644\\u062a\\u064d\\u064a \\u064e\\u062a\\u064c\\u0647\\u064e\\u062f\\u064d\\u0641\\u064e \\u0625\\u064e\\u0644\\u0650\\u0649 \\u0652\\u062a\\u062d\\u0642\\u064a\\u0642 \\u0630\\u0644\\u0643\\u064d\\u060c\\u064b \\u0650\\u062d\\u062a\\u0650\\u0649 \\u0652\\u0623\\u064e\\u0635\\u0628\\u062d\\u062a\\u0651 \\u064c\\u0627\\u064e\\u0644\\u0634\\u0627\\u064c\\u0631\\u064c\\u0642\\u064b\\u0629\\u0652 \\u0627\\u0644\\u0651\\u064a\\u0648\\u064c\\u0645 \\u0651\\u0648\\u064f\\u062c\\u0647\\u064b\\u0629\\u064e \\u064a\\u0624\\u064f\\u0645\\u064e\\u0647\\u064c\\u0627 \\u0652\\u0627\\u0644\\u064e\\u0645\\u0641\\u064e\\u0643\\u0631\\u0651\\u0648\\u0651\\u0646 \\u0648\\u0650\\u0627\\u0644\\u0645\\u0651\\u062b\\u0642\\u0650\\u0641\\u0651\\u0648\\u0646 \\u0648\\u0627\\u0644\\u0645\\u064f\\u0628\\u064c\\u062f\\u0639\\u064c\\u0648\\u0650\\u0646 \\u0652\\u0648\\u0652\\u0627\\u0651\\u0644\\u064c\\u0643\\u062a\\u064c\\u0627\\u0628\\u0650 \\u064c\\u0645\\u0650\\u0646\\u064f \\u0634\\u062a\\u0650\\u0649\\u064e \\u0623\\u064f\\u0646\\u064d\\u062d\\u0627\\u0621 \\u0627\\u064d\\u0644\\u0652\\u0639\\u0627\\u0644\\u064f\\u0645\\u060c\\u0650 \\u064e\\u0634\\u064b\\u0627\\u0652\\u0645\\u062e\\u0651\\u0629\\u064e \\u0631\\u0627\\u0633\\u062e\\u064b\\u0629 \\u064c\\u0628\\u064c\\u0639\\u0651\\u0637\\u064c\\u0627\\u0626\\u064f\\u0647\\u0650\\u0627 \\u064e\\u0648\\u062a\\u064b\\u0642\\u0650\\u062f\\u0645\\u0647\\u064d\\u0627 \\u0650.\\u064f\"\n        ],\n        \"semantic_type\": \"\",\n        \"description\": \"\"\n      }\n    },\n    {\n      \"column\": \"label\",\n      \"properties\": {\n        \"dtype\": \"category\",\n        \"num_unique_values\": 7,\n        \"samples\": [\n          \"Culture\",\n          \"Finance\",\n          \"Sports\"\n        ],\n        \"semantic_type\": \"\",\n        \"description\": \"\"\n      }\n    }\n  ]\n}"
            }
          },
          "metadata": {},
          "execution_count": 16
        }
      ]
    },
    {
      "cell_type": "code",
      "source": [
        "df.isnull().sum()\n",
        "df['label'].value_counts()"
      ],
      "metadata": {
        "colab": {
          "base_uri": "https://localhost:8080/",
          "height": 335
        },
        "id": "sye80ixHBK8h",
        "outputId": "6e00e39f-e409-4897-dd8c-ce7b756532c2"
      },
      "execution_count": 17,
      "outputs": [
        {
          "output_type": "execute_result",
          "data": {
            "text/plain": [
              "label\n",
              "Politics    6334\n",
              "Medical     6292\n",
              "Culture     6098\n",
              "Finance     6095\n",
              "Tech        5979\n",
              "Sports      5859\n",
              "Religion    3228\n",
              "Name: count, dtype: int64"
            ],
            "text/html": [
              "<div>\n",
              "<style scoped>\n",
              "    .dataframe tbody tr th:only-of-type {\n",
              "        vertical-align: middle;\n",
              "    }\n",
              "\n",
              "    .dataframe tbody tr th {\n",
              "        vertical-align: top;\n",
              "    }\n",
              "\n",
              "    .dataframe thead th {\n",
              "        text-align: right;\n",
              "    }\n",
              "</style>\n",
              "<table border=\"1\" class=\"dataframe\">\n",
              "  <thead>\n",
              "    <tr style=\"text-align: right;\">\n",
              "      <th></th>\n",
              "      <th>count</th>\n",
              "    </tr>\n",
              "    <tr>\n",
              "      <th>label</th>\n",
              "      <th></th>\n",
              "    </tr>\n",
              "  </thead>\n",
              "  <tbody>\n",
              "    <tr>\n",
              "      <th>Politics</th>\n",
              "      <td>6334</td>\n",
              "    </tr>\n",
              "    <tr>\n",
              "      <th>Medical</th>\n",
              "      <td>6292</td>\n",
              "    </tr>\n",
              "    <tr>\n",
              "      <th>Culture</th>\n",
              "      <td>6098</td>\n",
              "    </tr>\n",
              "    <tr>\n",
              "      <th>Finance</th>\n",
              "      <td>6095</td>\n",
              "    </tr>\n",
              "    <tr>\n",
              "      <th>Tech</th>\n",
              "      <td>5979</td>\n",
              "    </tr>\n",
              "    <tr>\n",
              "      <th>Sports</th>\n",
              "      <td>5859</td>\n",
              "    </tr>\n",
              "    <tr>\n",
              "      <th>Religion</th>\n",
              "      <td>3228</td>\n",
              "    </tr>\n",
              "  </tbody>\n",
              "</table>\n",
              "</div><br><label><b>dtype:</b> int64</label>"
            ]
          },
          "metadata": {},
          "execution_count": 17
        }
      ]
    },
    {
      "cell_type": "markdown",
      "metadata": {
        "id": "kVc0b_9fQGeH"
      },
      "source": [
        "# Data Exploration"
      ]
    },
    {
      "cell_type": "markdown",
      "metadata": {
        "id": "a98DaVUvQsi8"
      },
      "source": [
        "Before diving into preprocessing and model building, it’s important to first explore the dataset to understand its structure, distribution, and key characteristics. This step will help you gain insights into the data and guide your decisions in subsequent steps. Here’s what to consider:\n",
        "\n",
        "1. **Inspect the Data**:\n",
        "   Start by looking at the first few rows of the dataset to get a sense of its structure. Check the columns, data types, and a few sample entries. This helps to ensure that the data is loaded correctly and gives you an initial overview of the content.\n",
        "\n",
        "2. **Check for Missing Values**:\n",
        "   Identify if there are any missing values in the dataset.\n",
        "\n",
        "3. **Distribution of Labels**:\n",
        "   Examine the distribution of the target labels (classes).\n",
        "\n",
        "4. **Text Data Characteristics (Bonus)**:\n",
        "   Analyze the length of the text data. It is useful to calculate the number of words or characters in each text sample to understand how long the texts are. This will help you set a suitable `max_length` for tokenization and padding later. You can plot a histogram of text lengths to visualize the distribution.\n",
        "\n",
        "5. **Common Words and Vocabulary (Bonus)**:\n",
        "   Explore the most frequent words in the text data."
      ]
    },
    {
      "cell_type": "code",
      "source": [
        "df.isnull().sum()"
      ],
      "metadata": {
        "colab": {
          "base_uri": "https://localhost:8080/",
          "height": 147
        },
        "id": "8xf1-2qUB4_k",
        "outputId": "81bafdaa-6412-4dc2-be15-b7c765e73968"
      },
      "execution_count": 18,
      "outputs": [
        {
          "output_type": "execute_result",
          "data": {
            "text/plain": [
              "text     0\n",
              "label    0\n",
              "dtype: int64"
            ],
            "text/html": [
              "<div>\n",
              "<style scoped>\n",
              "    .dataframe tbody tr th:only-of-type {\n",
              "        vertical-align: middle;\n",
              "    }\n",
              "\n",
              "    .dataframe tbody tr th {\n",
              "        vertical-align: top;\n",
              "    }\n",
              "\n",
              "    .dataframe thead th {\n",
              "        text-align: right;\n",
              "    }\n",
              "</style>\n",
              "<table border=\"1\" class=\"dataframe\">\n",
              "  <thead>\n",
              "    <tr style=\"text-align: right;\">\n",
              "      <th></th>\n",
              "      <th>0</th>\n",
              "    </tr>\n",
              "  </thead>\n",
              "  <tbody>\n",
              "    <tr>\n",
              "      <th>text</th>\n",
              "      <td>0</td>\n",
              "    </tr>\n",
              "    <tr>\n",
              "      <th>label</th>\n",
              "      <td>0</td>\n",
              "    </tr>\n",
              "  </tbody>\n",
              "</table>\n",
              "</div><br><label><b>dtype:</b> int64</label>"
            ]
          },
          "metadata": {},
          "execution_count": 18
        }
      ]
    },
    {
      "cell_type": "code",
      "source": [
        "df.describe()"
      ],
      "metadata": {
        "colab": {
          "base_uri": "https://localhost:8080/",
          "height": 175
        },
        "id": "ECSCL_lvCAtK",
        "outputId": "6e284e24-abc6-482a-940c-e2aea44ea5c4"
      },
      "execution_count": 19,
      "outputs": [
        {
          "output_type": "execute_result",
          "data": {
            "text/plain": [
              "                                                     text     label\n",
              "count                                               39885     39885\n",
              "unique                                              39885         7\n",
              "top     https://example.com/resource/تنطًلقٍ اٌليومّ َ...  Politics\n",
              "freq                                                    1      6334"
            ],
            "text/html": [
              "\n",
              "  <div id=\"df-fddbd37d-b656-4aed-bf6a-10cc244bee0a\" class=\"colab-df-container\">\n",
              "    <div>\n",
              "<style scoped>\n",
              "    .dataframe tbody tr th:only-of-type {\n",
              "        vertical-align: middle;\n",
              "    }\n",
              "\n",
              "    .dataframe tbody tr th {\n",
              "        vertical-align: top;\n",
              "    }\n",
              "\n",
              "    .dataframe thead th {\n",
              "        text-align: right;\n",
              "    }\n",
              "</style>\n",
              "<table border=\"1\" class=\"dataframe\">\n",
              "  <thead>\n",
              "    <tr style=\"text-align: right;\">\n",
              "      <th></th>\n",
              "      <th>text</th>\n",
              "      <th>label</th>\n",
              "    </tr>\n",
              "  </thead>\n",
              "  <tbody>\n",
              "    <tr>\n",
              "      <th>count</th>\n",
              "      <td>39885</td>\n",
              "      <td>39885</td>\n",
              "    </tr>\n",
              "    <tr>\n",
              "      <th>unique</th>\n",
              "      <td>39885</td>\n",
              "      <td>7</td>\n",
              "    </tr>\n",
              "    <tr>\n",
              "      <th>top</th>\n",
              "      <td>https://example.com/resource/تنطًلقٍ اٌليومّ َ...</td>\n",
              "      <td>Politics</td>\n",
              "    </tr>\n",
              "    <tr>\n",
              "      <th>freq</th>\n",
              "      <td>1</td>\n",
              "      <td>6334</td>\n",
              "    </tr>\n",
              "  </tbody>\n",
              "</table>\n",
              "</div>\n",
              "    <div class=\"colab-df-buttons\">\n",
              "\n",
              "  <div class=\"colab-df-container\">\n",
              "    <button class=\"colab-df-convert\" onclick=\"convertToInteractive('df-fddbd37d-b656-4aed-bf6a-10cc244bee0a')\"\n",
              "            title=\"Convert this dataframe to an interactive table.\"\n",
              "            style=\"display:none;\">\n",
              "\n",
              "  <svg xmlns=\"http://www.w3.org/2000/svg\" height=\"24px\" viewBox=\"0 -960 960 960\">\n",
              "    <path d=\"M120-120v-720h720v720H120Zm60-500h600v-160H180v160Zm220 220h160v-160H400v160Zm0 220h160v-160H400v160ZM180-400h160v-160H180v160Zm440 0h160v-160H620v160ZM180-180h160v-160H180v160Zm440 0h160v-160H620v160Z\"/>\n",
              "  </svg>\n",
              "    </button>\n",
              "\n",
              "  <style>\n",
              "    .colab-df-container {\n",
              "      display:flex;\n",
              "      gap: 12px;\n",
              "    }\n",
              "\n",
              "    .colab-df-convert {\n",
              "      background-color: #E8F0FE;\n",
              "      border: none;\n",
              "      border-radius: 50%;\n",
              "      cursor: pointer;\n",
              "      display: none;\n",
              "      fill: #1967D2;\n",
              "      height: 32px;\n",
              "      padding: 0 0 0 0;\n",
              "      width: 32px;\n",
              "    }\n",
              "\n",
              "    .colab-df-convert:hover {\n",
              "      background-color: #E2EBFA;\n",
              "      box-shadow: 0px 1px 2px rgba(60, 64, 67, 0.3), 0px 1px 3px 1px rgba(60, 64, 67, 0.15);\n",
              "      fill: #174EA6;\n",
              "    }\n",
              "\n",
              "    .colab-df-buttons div {\n",
              "      margin-bottom: 4px;\n",
              "    }\n",
              "\n",
              "    [theme=dark] .colab-df-convert {\n",
              "      background-color: #3B4455;\n",
              "      fill: #D2E3FC;\n",
              "    }\n",
              "\n",
              "    [theme=dark] .colab-df-convert:hover {\n",
              "      background-color: #434B5C;\n",
              "      box-shadow: 0px 1px 3px 1px rgba(0, 0, 0, 0.15);\n",
              "      filter: drop-shadow(0px 1px 2px rgba(0, 0, 0, 0.3));\n",
              "      fill: #FFFFFF;\n",
              "    }\n",
              "  </style>\n",
              "\n",
              "    <script>\n",
              "      const buttonEl =\n",
              "        document.querySelector('#df-fddbd37d-b656-4aed-bf6a-10cc244bee0a button.colab-df-convert');\n",
              "      buttonEl.style.display =\n",
              "        google.colab.kernel.accessAllowed ? 'block' : 'none';\n",
              "\n",
              "      async function convertToInteractive(key) {\n",
              "        const element = document.querySelector('#df-fddbd37d-b656-4aed-bf6a-10cc244bee0a');\n",
              "        const dataTable =\n",
              "          await google.colab.kernel.invokeFunction('convertToInteractive',\n",
              "                                                    [key], {});\n",
              "        if (!dataTable) return;\n",
              "\n",
              "        const docLinkHtml = 'Like what you see? Visit the ' +\n",
              "          '<a target=\"_blank\" href=https://colab.research.google.com/notebooks/data_table.ipynb>data table notebook</a>'\n",
              "          + ' to learn more about interactive tables.';\n",
              "        element.innerHTML = '';\n",
              "        dataTable['output_type'] = 'display_data';\n",
              "        await google.colab.output.renderOutput(dataTable, element);\n",
              "        const docLink = document.createElement('div');\n",
              "        docLink.innerHTML = docLinkHtml;\n",
              "        element.appendChild(docLink);\n",
              "      }\n",
              "    </script>\n",
              "  </div>\n",
              "\n",
              "\n",
              "<div id=\"df-47f01089-6af0-4003-b096-9463da56aa55\">\n",
              "  <button class=\"colab-df-quickchart\" onclick=\"quickchart('df-47f01089-6af0-4003-b096-9463da56aa55')\"\n",
              "            title=\"Suggest charts\"\n",
              "            style=\"display:none;\">\n",
              "\n",
              "<svg xmlns=\"http://www.w3.org/2000/svg\" height=\"24px\"viewBox=\"0 0 24 24\"\n",
              "     width=\"24px\">\n",
              "    <g>\n",
              "        <path d=\"M19 3H5c-1.1 0-2 .9-2 2v14c0 1.1.9 2 2 2h14c1.1 0 2-.9 2-2V5c0-1.1-.9-2-2-2zM9 17H7v-7h2v7zm4 0h-2V7h2v10zm4 0h-2v-4h2v4z\"/>\n",
              "    </g>\n",
              "</svg>\n",
              "  </button>\n",
              "\n",
              "<style>\n",
              "  .colab-df-quickchart {\n",
              "      --bg-color: #E8F0FE;\n",
              "      --fill-color: #1967D2;\n",
              "      --hover-bg-color: #E2EBFA;\n",
              "      --hover-fill-color: #174EA6;\n",
              "      --disabled-fill-color: #AAA;\n",
              "      --disabled-bg-color: #DDD;\n",
              "  }\n",
              "\n",
              "  [theme=dark] .colab-df-quickchart {\n",
              "      --bg-color: #3B4455;\n",
              "      --fill-color: #D2E3FC;\n",
              "      --hover-bg-color: #434B5C;\n",
              "      --hover-fill-color: #FFFFFF;\n",
              "      --disabled-bg-color: #3B4455;\n",
              "      --disabled-fill-color: #666;\n",
              "  }\n",
              "\n",
              "  .colab-df-quickchart {\n",
              "    background-color: var(--bg-color);\n",
              "    border: none;\n",
              "    border-radius: 50%;\n",
              "    cursor: pointer;\n",
              "    display: none;\n",
              "    fill: var(--fill-color);\n",
              "    height: 32px;\n",
              "    padding: 0;\n",
              "    width: 32px;\n",
              "  }\n",
              "\n",
              "  .colab-df-quickchart:hover {\n",
              "    background-color: var(--hover-bg-color);\n",
              "    box-shadow: 0 1px 2px rgba(60, 64, 67, 0.3), 0 1px 3px 1px rgba(60, 64, 67, 0.15);\n",
              "    fill: var(--button-hover-fill-color);\n",
              "  }\n",
              "\n",
              "  .colab-df-quickchart-complete:disabled,\n",
              "  .colab-df-quickchart-complete:disabled:hover {\n",
              "    background-color: var(--disabled-bg-color);\n",
              "    fill: var(--disabled-fill-color);\n",
              "    box-shadow: none;\n",
              "  }\n",
              "\n",
              "  .colab-df-spinner {\n",
              "    border: 2px solid var(--fill-color);\n",
              "    border-color: transparent;\n",
              "    border-bottom-color: var(--fill-color);\n",
              "    animation:\n",
              "      spin 1s steps(1) infinite;\n",
              "  }\n",
              "\n",
              "  @keyframes spin {\n",
              "    0% {\n",
              "      border-color: transparent;\n",
              "      border-bottom-color: var(--fill-color);\n",
              "      border-left-color: var(--fill-color);\n",
              "    }\n",
              "    20% {\n",
              "      border-color: transparent;\n",
              "      border-left-color: var(--fill-color);\n",
              "      border-top-color: var(--fill-color);\n",
              "    }\n",
              "    30% {\n",
              "      border-color: transparent;\n",
              "      border-left-color: var(--fill-color);\n",
              "      border-top-color: var(--fill-color);\n",
              "      border-right-color: var(--fill-color);\n",
              "    }\n",
              "    40% {\n",
              "      border-color: transparent;\n",
              "      border-right-color: var(--fill-color);\n",
              "      border-top-color: var(--fill-color);\n",
              "    }\n",
              "    60% {\n",
              "      border-color: transparent;\n",
              "      border-right-color: var(--fill-color);\n",
              "    }\n",
              "    80% {\n",
              "      border-color: transparent;\n",
              "      border-right-color: var(--fill-color);\n",
              "      border-bottom-color: var(--fill-color);\n",
              "    }\n",
              "    90% {\n",
              "      border-color: transparent;\n",
              "      border-bottom-color: var(--fill-color);\n",
              "    }\n",
              "  }\n",
              "</style>\n",
              "\n",
              "  <script>\n",
              "    async function quickchart(key) {\n",
              "      const quickchartButtonEl =\n",
              "        document.querySelector('#' + key + ' button');\n",
              "      quickchartButtonEl.disabled = true;  // To prevent multiple clicks.\n",
              "      quickchartButtonEl.classList.add('colab-df-spinner');\n",
              "      try {\n",
              "        const charts = await google.colab.kernel.invokeFunction(\n",
              "            'suggestCharts', [key], {});\n",
              "      } catch (error) {\n",
              "        console.error('Error during call to suggestCharts:', error);\n",
              "      }\n",
              "      quickchartButtonEl.classList.remove('colab-df-spinner');\n",
              "      quickchartButtonEl.classList.add('colab-df-quickchart-complete');\n",
              "    }\n",
              "    (() => {\n",
              "      let quickchartButtonEl =\n",
              "        document.querySelector('#df-47f01089-6af0-4003-b096-9463da56aa55 button');\n",
              "      quickchartButtonEl.style.display =\n",
              "        google.colab.kernel.accessAllowed ? 'block' : 'none';\n",
              "    })();\n",
              "  </script>\n",
              "</div>\n",
              "\n",
              "    </div>\n",
              "  </div>\n"
            ],
            "application/vnd.google.colaboratory.intrinsic+json": {
              "type": "dataframe",
              "summary": "{\n  \"name\": \"df\",\n  \"rows\": 4,\n  \"fields\": [\n    {\n      \"column\": \"text\",\n      \"properties\": {\n        \"dtype\": \"string\",\n        \"num_unique_values\": 3,\n        \"samples\": [\n          \"39885\",\n          \"https://example.com/resource/\\u062a\\u0646\\u0637\\u064b\\u0644\\u0642\\u064d \\u0627\\u064c\\u0644\\u064a\\u0648\\u0645\\u0651 \\u064e\\u0641\\u0651\\u064a\\u064d \\u0645\\u0631\\u0643\\u064e\\u0632\\u064c \\u064d\\u0645\\u0639\\u0627\\u0631\\u0636\\u064f \\u064b\\u0645\\u064f\\u0637\\u0627\\u0631 \\u062f\\u0628\\u064b\\u064a \\u0627\\u064f\\u0644\\u062f\\u0648\\u064e\\u0631\\u0629 \\u0627\\u064d\\u0644\\u064e \\u065021\\u064c \\u0651\\u0644\\u0652\\u0645\\u064e\\u0639\\u0631\\u0636\\u0652 \\u064d\\u062c\\u064e\\u064a\\u062a\\u0650\\u0643\\u064d\\u0633\\u064c \\u0634\\u064d\\u0648\\u0628\\u0631 \\u060c\\u065120\\u064f1\\u064d1 \\u064e\\u0627\\u0644\\u0630\\u0651\\u064a\\u064f \\u064f\\u064a\\u064b\\u0648\\u0627\\u064b\\u0635\\u0650\\u0644\\u064e \\u0627\\u0633\\u064e\\u062a\\u064b\\u0642\\u0628\\u0627\\u0651\\u0644 \\u064f\\u0627\\u0652\\u0644\\u064f\\u0645\\u064d\\u062a\\u064e\\u0633\\u064d\\u0648\\u0642\\u064a\\u0646\\u0652 \\u0645\\u064d\\u0646\\u064b \\u064b\\u0627\\u064b\\u0644\\u062f\\u0648\\u0644\\u0629 \\u0648\\u0651\\u062f\\u064d\\u0648\\u064d\\u0644\\u064b \\u064f\\u0645\\u062c\\u0644\\u0633\\u064f \\u064e\\u0627\\u0644\\u064c\\u062a\\u064e\\u0639\\u0627\\u0648\\u064d\\u0646\\u0652 \\u064f\\u0648\\u0627\\u0644\\u0645\\u064d\\u0646\\u064c\\u0637\\u064e\\u0642\\u0629\\u064b \\u0650\\u062d\\u062a\\u0651\\u0649 \\u0627\\u0650\\u0644\\u0652\\u0633\\u0628\\u062a\\u0651 \\u064f\\u0627\\u0644\\u0645\\u0642\\u0628\\u0644\\u0652 \\u064b1\\u06525\\u0652 \\u0652\\u0623\\u064e\\u0643\\u062a\\u064b\\u0648\\u0628\\u064b\\u0631\\u0652 \\u064f\\u0627\\u0644\\u062c\\u0627\\u0631\\u064a\\u0651 \\u0652\\u0648\\u0633\\u0637 \\u0645\\u0650\\u0646\\u0651\\u0627\\u064b\\u0641\\u0633\\u0629\\u064d \\u0642\\u0650\\u0648\\u064a\\u0629 \\u0645\\u0646\\u064f \\u0646\\u064b\\u062d\\u0648 \\u0651100 \\u064f\\u0634\\u0631\\u064d\\u0643\\u064d\\u0629\\u0652 \\u0650\\u0645\\u062a\\u0650\\u062e\\u0651\\u0635\\u0635\\u0651\\u0629 \\u064b\\u0641\\u064a \\u0645\\u0628\\u064b\\u064a\\u0639\\u0627\\u062a \\u0625\\u064f\\u0644\\u0643\\u064c\\u062a\\u0631\\u0651\\u0648\\u064c\\u0646\\u0652\\u064a\\u0627\\u064f\\u062a \\u064d\\u0627\\u0650\\u0644\\u062a\\u062c\\u0632\\u0650\\u0626\\u064b\\u0629\\u064e \\u0648\\u064e\\u0627\\u0652\\u0644\\u0652\\u0630\\u064d\\u064a\\u064e\\u0646 \\u064a\\u0633\\u064c\\u062a\\u0647\\u062f\\u064e\\u0641\\u064c\\u0648\\u0646\\u064b \\u064b\\u062a\\u062d\\u0651\\u0642\\u064f\\u064a\\u0642 \\u0646\\u064f\\u0633\\u0651\\u0628 \\u064d\\u0646\\u0645\\u064b\\u0648\\u0652 \\u0644\\u0651\\u0645\\u0628\\u064f\\u064a\\u064b\\u0639\\u0627\\u062a\\u0647\\u0645\\u0652 \\u064e\\u062a\\u062a\\u0631\\u064d\\u0627\\u0648\\u064b\\u062d \\u0651\\u0628\\u064a\\u064e\\u0646\\u064d \\u06501\\u06525 \\u064d\\u0648\\u064b25\\u064d \\u064f%\\u0650\\u060c\\u064b \\u064f\\u062d\\u0633\\u0628 \\u0625\\u0641\\u0627\\u064c\\u062f\\u062a\\u0647\\u0645\\u064e \\u0644\\u064c\\u0627\\u064e\\u0644\\u062e\\u0650\\u0644\\u064c\\u064a\\u064e\\u062c .\\u0652\\u0648\\u062a\\u0652\\u062a\\u064f\\u0646\\u064e\\u0627\\u0651\\u0641\\u064e\\u0633 \\u064f\\u0627\\u0650\\u0644\\u0634\\u0651\\u0631\\u0643\\u064e\\u0627\\u062a \\u064e\\u0627\\u0644\\u064d\\u0639\\u064d\\u0627\\u064b\\u0631\\u064b\\u0636\\u0652\\u0629 \\u0650\\u0644\\u064c\\u0623\\u0650\\u0643\\u064f\\u062b\\u0650\\u0631\\u0652 \\u0645\\u0651\\u0646\\u0652 \\u064d25 \\u0652\\u0623\\u0644\\u064d\\u0641 \\u0645\\u064b\\u0646\\u062a\\u0650\\u062c \\u0628\\u0651\\u0627\\u0644\\u064d\\u0625\\u0636\\u064c\\u0627\\u0641\\u0629\\u064f \\u064d\\u0625\\u064f\\u0644\\u0649 \\u064e\\u0634\\u064d\\u0631\\u0651\\u0643\\u064e\\u0627\\u064d\\u062a \\u0623\\u062e\\u0631\\u064c\\u0649 \\u0652\\u0645\\u0652\\u062a\\u0650\\u062e\\u064e\\u0635\\u0635\\u064d\\u0629 \\u064f\\u0641\\u064b\\u064a\\u064e \\u0628\\u064a\\u0639 \\u064b\\u0627\\u0650\\u0644\\u0623\\u0633\\u0652\\u0637\\u0648\\u0627\\u064c\\u0646\\u0652\\u0627\\u0651\\u062a\\u064b \\u064c\\u0648\\u0650\\u0627\\u0644\\u064f\\u0628\\u0652\\u0631\\u0650\\u0627\\u064c\\u0645\\u0650\\u062c \\u0627\\u064e\\u0644\\u064e\\u062a\\u0639\\u0644\\u064a\\u0645\\u064c\\u064a\\u0629 \\u0628\\u0651\\u0627\\u0650\\u0644\\u064b\\u0625\\u0636\\u0627\\u0641\\u0629\\u064d \\u0625\\u0644\\u0651\\u0649\\u064e \\u0627\\u064b\\u0644\\u064b\\u0639\\u062f\\u064a\\u0650\\u062f\\u064c \\u0650\\u0645\\u0646 \\u0627\\u064f\\u0644\\u062e\\u064d\\u062f\\u064b\\u0645\\u0627\\u062a\\u064b \\u0627\\u064e\\u0644\\u0623\\u062e\\u0631\\u0649\\u064c\\u060c\\u0651 \\u0648\\u064c\\u062a\\u064b\\u0633\\u064b\\u062a\\u062d\\u0648\\u064f\\u0630\\u064b \\u064d\\u0639\\u0631\\u0648\\u0636 \\u0651\\u0634\\u0631\\u064e\\u0643\\u0650\\u0627\\u062a\\u0651 \\u0627\\u062a\\u0635\\u0651\\u0627\\u0644\\u0650\\u0627\\u064d\\u062a \\u064d\\u0648\\u062f\\u0648 \\u0644\\u064b\\u0628\\u064a\\u0639\\u064e \\u064f\\u0627\\u0644\\u064d\\u0647\\u0648\\u0627\\u062a\\u0650\\u0641\\u064d \\u064e\\u0627\\u064e\\u0644\\u064d\\u0645\\u062d\\u0645\\u0648\\u0644\\u0629\\u064d \\u064d\\u0648\\u064b\\u0641\\u0651\\u0642 \\u0652\\u0639\\u064e\\u0631\\u0650\\u0648\\u0636\\u064f\\u0647\\u0627 \\u0627\\u0652\\u0644\\u0651\\u062e\\u0627\\u0635\\u0652\\u0629 \\u064f\\u0628\\u0627\\u0652\\u0644\\u0625\\u0651\\u0636\\u0627\\u0652\\u0641\\u064b\\u0629 \\u0652\\u0625\\u064c\\u0644\\u064f\\u0649\\u064e \\u0623\\u0650\\u062c\\u0647\\u0632\\u0629\\u0650 \\u0627\\u0652\\u0644\\u0643\\u064e\\u0645\\u064d\\u0628\\u0651\\u064a\\u0648\\u062a\\u064f\\u0631\\u064d \\u0627\\u064f\\u0644\\u064b\\u0645\\u062d\\u0652\\u0645\\u064e\\u0648\\u064e\\u0644\\u064e \\u0648\\u064e\\u0627\\u064b\\u0644\\u064b\\u0623\\u064e\\u062c\\u0647\\u0632\\u0652\\u0629\\u064b \\u0627\\u0644\\u0644\\u0648\\u064f\\u062d\\u064a\\u064d\\u0629 \\u0648\\u064f\\u0627\\u064d\\u0644\\u064f\\u0647\\u064b\\u0648\\u0627\\u064f\\u062a\\u0641 \\u0651\\u0627\\u0644\\u0645\\u0650\\u062d\\u064e\\u0645\\u0648\\u0644\\u0629 \\u0651\\u0648\\u064c\\u0627\\u064b\\u0644\\u064c\\u0643\\u0627\\u0651\\u0645\\u064f\\u064a\\u0650\\u0631\\u0627\\u0651\\u062a\\u0652 \\u0628\\u064e\\u0623\\u064f\\u0646\\u0648\\u0627\\u0639\\u0647\\u064b\\u0627\\u0650 \\u064e\\u0639\\u0644\\u064d\\u0649 \\u064b\\u0627\\u0650\\u0647\\u062a\\u0652\\u0645\\u0627\\u064d\\u0645\\u064c \\u064b\\u0627\\u0652\\u0644\\u064d\\u063a\\u0651\\u0627\\u064e\\u0644\\u064b\\u0628\\u064a\\u0652\\u0629\\u0650 \\u0627\\u0644\\u064f\\u0639\\u0638\\u0650\\u0645\\u064d\\u0649 \\u0645\\u0646\\u0652 \\u064e\\u0632\\u0648\\u0627\\u0631\\u064c \\u0627\\u0652\\u0644\\u064c\\u0645\\u064f\\u0639\\u064e\\u0631\\u0636 \\u064d\\u0627\\u0644\\u0651\\u0630\\u0650\\u064a\\u0646\\u0651 \\u0650\\u064a\\u062a\\u064e\\u0648\\u064d\\u0642\\u064e\\u0639\\u064c \\u064b\\u0623\\u064c\\u0646 \\u064d\\u064a\\u0632\\u064a\\u064c\\u062f\\u064d \\u064f\\u0639\\u0651\\u062f\\u064f\\u062f\\u0651\\u0647\\u0645 \\u0650\\u0639\\u0651\\u0644\\u0650\\u0649 1\\u065260\\u0650 \\u0623\\u064f\\u0644\\u0652\\u0641\\u0651 \\u0632\\u064f\\u0627\\u0626\\u0631 \\u0650\\u0627\\u064e\\u0644\\u0639\\u0627\\u064c\\u0645 \\u064c\\u0627\\u064e\\u0644\\u0645\\u0652\\u0627\\u0651\\u0636\\u064a \\u064d.\\u0648\\u064c\\u064a\\u0642\\u0651\\u062f\\u064e\\u0645\\u0652 \\u0623\\u0651\\u0628\\u0652\\u0631\\u064c\\u0632\\u064e \\u0652\\u0627\\u0644\\u064f\\u0645\\u0648\\u064e\\u0632\\u0651\\u0639\\u064a\\u0650\\u0646 \\u064f\\u0627\\u0652\\u0644\\u0650\\u0625\\u064d\\u0642\\u0644\\u0650\\u064a\\u0645\\u0652\\u064a\\u0652\\u064a\\u0652\\u0646 \\u0648\\u0652\\u0634\\u0631\\u0643\\u0651\\u0627\\u064f\\u062a\\u064c \\u064e\\u0627\\u0650\\u0644\\u0628\\u064a\\u0639\\u0651 \\u064b\\u0628\\u0627\\u0644\\u062a\\u0651\\u062c\\u064e\\u0632\\u064b\\u0626\\u0629 \\u0648\\u0639\\u0644\\u0649 \\u0631\\u0623\\u0650\\u0633\\u0647\\u064e\\u0627\\u0650 \\u0634\\u0631\\u0641 \\u064e\\u062f\\u064a \\u064e\\u062c\\u064a\\u064c \\u064d\\u0648\\u064c\\u0628\\u064c\\u0644\\u0651\\u062c\\u064d-\\u064b \\u0652\\u0625\\u0646\\u0633 \\u064c\\u0648\\u062c\\u064f\\u0627\\u0643\\u0650\\u064a\\u0632 \\u064e\\u0625\\u064e\\u0644\\u064d\\u0643\\u0650\\u062a\\u0631\\u0648\\u064b\\u0646\\u064a\\u0652\\u0643\\u064c\\u0633\\u0651\\u060c \\u0648\\u062c\\u0645\\u064f\\u0628\\u0648 \\u0625\\u064e\\u0644\\u0643\\u062a\\u0631\\u064b\\u0648\\u0650\\u0646\\u0651\\u064a\\u064d\\u0643\\u0633\\u064b \\u0652\\u0648\\u064e\\u0622\\u0651\\u064a\\u0652 \\u064f\\u0633\\u062a\\u0650\\u0627\\u0652\\u064a\\u0644\\u060c\\u064b \\u064e\\u0648\\u064b\\u0625\\u0651\\u064a- \\u0633\\u064a\\u062a\\u064f\\u064a\\u060c \\u0648\\u064b\\u0643\\u0648\\u0645\\u0628\\u0650\\u064a\\u064d\\u0648 \\u0645\\u064d\\u064a\\u064e \\u0648\\u0651\\u0625\\u0650\\u064a \\u0641\\u0651\\u0648\\u0631\\u0650 \\u064a\\u0648\\u0651\\u060c\\u064c \\u0648\\u0625\\u064b\\u064a \\u0650\\u0645\\u064e\\u0627\\u0643\\u0651\\u0633\\u064c\\u060c \\u0648\\u062a\\u064f\\u062a\\u064d\\u0634 \\u0645\\u0650\\u0627\\u064a\\u0651\\u062a\\u0651\\u060c \\u062a\\u064d\\u062e\\u064f\\u0641\\u0652\\u064a\\u064d\\u0636\\u0652\\u0627\\u064f\\u062a \\u0641\\u064a\\u0651 \\u0623\\u0633\\u064c\\u0639\\u0652\\u0627\\u0631 \\u064c\\u0628\\u0639\\u064f\\u0636 \\u0627\\u0644\\u064b\\u0645\\u064f\\u0646\\u064e\\u062a\\u062c\\u0627\\u062a \\u0648\\u0645\\u0646\\u062a\\u062c\\u0650\\u0627\\u064e\\u062a \\u0645\\u0651\\u062c\\u0627\\u0646\\u064a\\u0629\\u064b \\u0639\\u0644\\u064d\\u0649\\u0650 \\u064f\\u0634\\u0651\\u0631\\u064c\\u0627\\u064e\\u0621\\u064e \\u064f\\u0628\\u0639\\u0636 \\u0627\\u0644\\u0645\\u0646\\u062a\\u064b\\u062c\\u0627\\u064e\\u062a\\u064f \\u064f\\u0627\\u064f\\u0644\\u0623\\u0651\\u062e\\u0631\\u0649 \\u0652.\\u0648\\u0650\\u0628\\u0627\\u064e\\u0644\\u0650\\u0625\\u0636\\u0627\\u0641\\u064d\\u0629\\u064d \\u064d\\u0625\\u0644\\u0649\\u0650 \\u0650\\u0627\\u064e\\u0644\\u064e\\u0645\\u0646\\u062a\\u064b\\u062c\\u064f\\u0627\\u0651\\u062a \\u0627\\u0644\\u0625\\u0650\\u0644\\u0643\\u064f\\u062a\\u0631\\u064f\\u0648\\u0646\\u0650\\u064a\\u064d\\u0629\\u0650 \\u0627\\u0644\\u062a\\u064a \\u0650\\u0633\\u064e\\u064a\\u064d\\u062a\\u0651\\u0645 \\u064f\\u0639\\u0651\\u0631\\u0652\\u0636\\u064f\\u0647\\u0627\\u064c \\u0651\\u0643\\u064f\\u0627\\u064d\\u0644\\u0623\\u062c\\u0647\\u0632\\u0629\\u0652 \\u0627\\u0652\\u0644\\u064d\\u0644\\u0650\\u0648\\u064c\\u062d\\u0652\\u064a\\u0629\\u0650 \\u0648\\u0627\\u0650\\u0644\\u062a\\u064e\\u0644\\u0641\\u0632\\u064d\\u064a\\u064c\\u0648\\u0652\\u0646\\u064c\\u0627\\u062a\\u0650 \\u0650\\u0648\\u0623\\u0651\\u062c\\u064f\\u0647\\u0652\\u0632\\u064c\\u0629 \\u064f\\u0627\\u0644\\u062d\\u0627\\u0651\\u0633\\u064f\\u0648\\u0628 \\u0627\\u064c\\u0644\\u0645\\u064b\\u062d\\u064b\\u0645\\u0648\\u064f\\u0644\\u0629\\u064f \\u064e\\u0648\\u064c\\u0627\\u0644\\u0650\\u0647\\u0648\\u064e\\u0627\\u0652\\u062a\\u0641\\u064c \\u0627\\u064f\\u0644\\u0630\\u0650\\u0643\\u064a\\u0629\\u064d \\u064e\\u0648\\u0650\\u063a\\u064a\\u0652\\u0631\\u0651\\u0647\\u064f\\u0627\\u064e\\u060c\\u064f \\u064b\\u0641\\u064b\\u0633\\u064d\\u064a\\u0650\\u062a\\u0645\\u064c \\u0639\\u0631\\u064d\\u0636\\u064b \\u064e\\u0645\\u062c\\u064e\\u0645\\u064c\\u0648\\u064d\\u0639\\u0629 \\u0645\\u0646\\u064d \\u0652\\u0627\\u064d\\u0644\\u0651\\u0645\\u0650\\u0646\\u062a\\u062c\\u0627\\u064d\\u062a \\u0650\\u063a\\u064e\\u064a\\u0652\\u0631\\u0652 \\u064f\\u0627\\u064b\\u0644\\u064b\\u062a\\u0650\\u0642\\u0644\\u064f\\u064a\\u0652\\u062f\\u0650\\u064a\\u0629\\u064d\\u060c\\u064f \\u0650\\u0625\\u0630\\u064b \\u0650\\u062a\\u064d\\u0637\\u064e\\u0644\\u0642 \\u0634\\u0650\\u0631\\u064c\\u0643\\u064f\\u0629\\u064d \\u0652\\u062c\\u0631\\u0651\\u064a\\u0646\\u064c\\u0633\\u0627\\u064e\\u0648\\u0646\\u062f\\u064b \\u062a\\u0650\\u064a\\u0643\\u0652\\u0646\\u0648\\u0651\\u0644\\u0648\\u062c\\u064c\\u064a \\u0650\\u0633\\u0645\\u064c\\u0627\\u0639\\u0627\\u064b\\u062a\\u0652 \\u0632\\u0651\\u062c\\u0627\\u0652\\u062c\\u064e\\u064a\\u0629\\u0652 \\u0644\\u064d\\u0627\\u064e\\u0633\\u0644\\u0643\\u064a\\u0629\\u064c \\u064e\\u062c\\u0651\\u0630\\u0627\\u0628\\u064f\\u0629\\u060c\\u064b \\u0650\\u0641\\u0651\\u064a \\u064c\\u062d\\u064a\\u0646 \\u064f\\u062a\\u064d\\u0642\\u0652\\u062f\\u0651\\u064e\\u0645 \\u0651\\u0645\\u0651\\u064a\\u0652\\u0631\\u0644\\u064a\\u064d\\u0646\\u0650 \\u062f\\u064a\\u062c\\u064a\\u0650\\u062a\\u0627\\u0644 \\u0651\\u0645\\u064c\\u0631\\u064d\\u0643\\u064e\\u0628\\u0629 \\u0651\\u0625\\u0644\\u0643\\u062a\\u064e\\u0631\\u064d\\u0648\\u0646\\u064a\\u0651\\u0629\\u064b \\u064e\\u0630\\u0627\\u062a\\u064a\\u0652\\u0629 \\u0651\\u0627\\u0644\\u062a\\u0648\\u064f\\u0627\\u064d\\u0632\\u0646\\u064d \\u0628\\u064c\\u0639\\u062c\\u0644\\u062a\\u0650\\u064a\\u064c\\u0646 \\u064c\\u0627\\u0650\\u0633\\u0645\\u0647\\u0627 \\u0631\\u0650\\u0648\\u064d\\u0628\\u0648\\u0633\\u064b\\u062a\\u0651\\u064a\\u0628\\u064f \\u0648\\u064e \\u0628\\u064c\\u0644\\u064a\\u064f\\u0648 \\u0648\\u0650\\u0647\\u0652\\u0648\\u0650 \\u0623\\u064e\\u0648\\u0651\\u0644 \\u064d\\u0631\\u0648\\u064f\\u0628\\u0648\\u062a \\u064c\\u0639\\u0644\\u0649\\u0651 \\u064f\\u0647\\u064a\\u0650\\u0626\\u0629 \\u0650\\u062f\\u064a\\u0646\\u0651\\u0627\\u064e\\u0635\\u0648\\u064c\\u0631 \\u064a\\u0645\\u0650\\u0643\\u0646\\u064f \\u0651\\u0627\\u0642\\u064f\\u062a\\u064c\\u0646\\u0627\\u0624\\u0647 \\u064d\\u0643\\u062d\\u064a\\u0651\\u0648\\u0627\\u0652\\u0646\\u064d \\u0652\\u0645\\u0646\\u064b\\u0632\\u0644\\u0652\\u064a\\u064e \\u0623\\u064d\\u0644\\u064a\\u0641 \\u064f.\\u0648\\u0652\\u064a\\u0634\\u064f\\u0627\\u064b\\u0631\\u0643\\u064d \\u0641\\u064a\\u0652 \\u0627\\u0652\\u0644\\u0651\\u0645\\u064e\\u0639\\u0631\\u0651\\u0636 \\u0644\\u0644\\u0645\\u0631\\u0651\\u0629\\u0650 \\u0627\\u064e\\u0644\\u0623\\u064e\\u0648\\u0644\\u064c\\u0649 \\u064b\\u0647\\u0630\\u064d\\u0627 \\u0627\\u0652\\u0644\\u0639\\u0627\\u0645 \\u0643\\u064f\\u0644 \\u0645\\u064b\\u0646 \\u064d\\u0628\\u0648\\u0632\\u0651 \\u0648\\u0641\\u064a\\u064b\\u0631\\u0652\\u062c\\u0646 \\u0651\\u0645\\u064a\\u064b\\u062c\\u0627\\u0633\\u0652\\u062a\\u064f\\u0648\\u064e\\u0631 \\u064e\\u0648\\u0646\\u064b\\u0648\\u064b\\u0643\\u064a\\u0627\\u060c \\u0652\\u0641\\u064c\\u064a\\u064d \\u0652\\u062d\\u064a\\u0646 \\u064d\\u062a\\u0651\\u0639\\u0648\\u0651\\u062f \\u0639\\u0651\\u0644\\u0627\\u0645\\u064e\\u0627\\u062a \\u064c\\u062a\\u062c\\u0627\\u0631\\u064a\\u0629\\u064c \\u0639\\u064c\\u0627\\u0651\\u0644\\u0645\\u0650\\u064a\\u0629\\u064b \\u064c\\u0639\\u0652\\u062f\\u0650\\u0651\\u064c\\u0629 \\u0644\\u0644\\u064f\\u0645\\u0650\\u0634\\u064f\\u0627\\u0631\\u064c\\u0643\\u0629 \\u0641\\u064c\\u064a \\u0627\\u0652\\u0644\\u0650\\u0645\\u0639\\u0631\\u0651\\u0636\\u064d\\u060c \\u0645\\u062b\\u0644\\u0651 \\u064e\\u0625\\u064e\\u062a\\u0634 \\u062a\\u0652\\u064a \\u0650\\u0633\\u064a\\u060c\\u0652 \\u064c\\u0648\\u0625\\u0646\\u0651\\u062a\\u0652\\u0644\\u060c\\u064d \\u0648\\u0628\\u0627\\u0646\\u064c\\u0627\\u0652\\u0633\\u064b\\u0648\\u064e\\u0646\\u064a\\u064c\\u0643\\u060c\\u064d \\u0651\\u0648\\u064f\\u062c\\u064a\\u0647 \\u0641\\u064a \\u0633\\u0651\\u064a\\u0651\\u060c \\u0652\\u0648\\u064f\\u062f\\u064e\\u064a\\u064b\\u0644\\u060c\\u064d \\u0651\\u0648\\u0631\\u0650\\u0645\\u064e \\u0628\\u0651\\u0644\\u064f\\u0627\\u0643 \\u064d\\u0628\\u064a\\u0631\\u064a\\u060c \\u0648\\u0633\\u0651\\u0627\\u0645\\u0633\\u064e\\u0648\\u064c\\u0646\\u062c\\u060c \\u0648\\u064b\\u0633\\u064e\\u0627\\u0646\\u062f\\u064a\\u064c\\u0633\\u0651\\u0643\\u064f\\u060c \\u0651\\u0648\\u064c\\u0643\\u064c\\u0627\\u064b\\u0646\\u0648\\u0646\\u060c \\u0651\\u0648\\u0650\\u0644\\u064a\\u0646\\u0648\\u0641\\u0648\\u060c \\u0648\\u0646\\u0627\\u0652\\u0643\\u064c\\u0627\\u0645\\u0652\\u064a\\u062a\\u064c\\u0634\\u0652\\u064a\\u064b\\u060c \\u0648\\u0647\\u064a\\u0652\\u0648\\u0644\\u064a\\u062a\\u064c \\u0628\\u0627\\u0643\\u0627\\u0631\\u062f\\u0651\\u060c \\u0648\\u0648\\u064e\\u064a\\u064c\\u0633\\u062a\\u064a\\u0631\\u0646\\u064e \\u064b\\u062f\\u0650\\u064a\\u062c\\u064a\\u062a\\u064c\\u0627\\u0650\\u0644 \\u064b.\",\n          \"1\"\n        ],\n        \"semantic_type\": \"\",\n        \"description\": \"\"\n      }\n    },\n    {\n      \"column\": \"label\",\n      \"properties\": {\n        \"dtype\": \"string\",\n        \"num_unique_values\": 4,\n        \"samples\": [\n          7,\n          \"6334\",\n          \"39885\"\n        ],\n        \"semantic_type\": \"\",\n        \"description\": \"\"\n      }\n    }\n  ]\n}"
            }
          },
          "metadata": {},
          "execution_count": 19
        }
      ]
    },
    {
      "cell_type": "code",
      "source": [
        "df['label'].value_counts()"
      ],
      "metadata": {
        "colab": {
          "base_uri": "https://localhost:8080/",
          "height": 335
        },
        "id": "08Lo9_XMD-TW",
        "outputId": "e23bb220-2840-46c4-8955-5bcbd144ce77"
      },
      "execution_count": 20,
      "outputs": [
        {
          "output_type": "execute_result",
          "data": {
            "text/plain": [
              "label\n",
              "Politics    6334\n",
              "Medical     6292\n",
              "Culture     6098\n",
              "Finance     6095\n",
              "Tech        5979\n",
              "Sports      5859\n",
              "Religion    3228\n",
              "Name: count, dtype: int64"
            ],
            "text/html": [
              "<div>\n",
              "<style scoped>\n",
              "    .dataframe tbody tr th:only-of-type {\n",
              "        vertical-align: middle;\n",
              "    }\n",
              "\n",
              "    .dataframe tbody tr th {\n",
              "        vertical-align: top;\n",
              "    }\n",
              "\n",
              "    .dataframe thead th {\n",
              "        text-align: right;\n",
              "    }\n",
              "</style>\n",
              "<table border=\"1\" class=\"dataframe\">\n",
              "  <thead>\n",
              "    <tr style=\"text-align: right;\">\n",
              "      <th></th>\n",
              "      <th>count</th>\n",
              "    </tr>\n",
              "    <tr>\n",
              "      <th>label</th>\n",
              "      <th></th>\n",
              "    </tr>\n",
              "  </thead>\n",
              "  <tbody>\n",
              "    <tr>\n",
              "      <th>Politics</th>\n",
              "      <td>6334</td>\n",
              "    </tr>\n",
              "    <tr>\n",
              "      <th>Medical</th>\n",
              "      <td>6292</td>\n",
              "    </tr>\n",
              "    <tr>\n",
              "      <th>Culture</th>\n",
              "      <td>6098</td>\n",
              "    </tr>\n",
              "    <tr>\n",
              "      <th>Finance</th>\n",
              "      <td>6095</td>\n",
              "    </tr>\n",
              "    <tr>\n",
              "      <th>Tech</th>\n",
              "      <td>5979</td>\n",
              "    </tr>\n",
              "    <tr>\n",
              "      <th>Sports</th>\n",
              "      <td>5859</td>\n",
              "    </tr>\n",
              "    <tr>\n",
              "      <th>Religion</th>\n",
              "      <td>3228</td>\n",
              "    </tr>\n",
              "  </tbody>\n",
              "</table>\n",
              "</div><br><label><b>dtype:</b> int64</label>"
            ]
          },
          "metadata": {},
          "execution_count": 20
        }
      ]
    },
    {
      "cell_type": "code",
      "source": [
        "df.duplicated().sum()"
      ],
      "metadata": {
        "colab": {
          "base_uri": "https://localhost:8080/"
        },
        "id": "xoPY-9DbEfj6",
        "outputId": "0c072ddd-18e9-4a6c-c3ab-1e1b8995e581"
      },
      "execution_count": 21,
      "outputs": [
        {
          "output_type": "execute_result",
          "data": {
            "text/plain": [
              "0"
            ]
          },
          "metadata": {},
          "execution_count": 21
        }
      ]
    },
    {
      "cell_type": "code",
      "source": [
        "df.info()"
      ],
      "metadata": {
        "colab": {
          "base_uri": "https://localhost:8080/"
        },
        "id": "Wad7aaI-EEqv",
        "outputId": "37a88f09-7433-4648-f81a-25b9e4e3bde2"
      },
      "execution_count": 22,
      "outputs": [
        {
          "output_type": "stream",
          "name": "stdout",
          "text": [
            "<class 'pandas.core.frame.DataFrame'>\n",
            "RangeIndex: 39885 entries, 0 to 39884\n",
            "Data columns (total 2 columns):\n",
            " #   Column  Non-Null Count  Dtype \n",
            "---  ------  --------------  ----- \n",
            " 0   text    39885 non-null  object\n",
            " 1   label   39885 non-null  object\n",
            "dtypes: object(2)\n",
            "memory usage: 623.3+ KB\n"
          ]
        }
      ]
    },
    {
      "cell_type": "code",
      "source": [
        "df.head()"
      ],
      "metadata": {
        "colab": {
          "base_uri": "https://localhost:8080/",
          "height": 206
        },
        "id": "Oilq82-yCCT7",
        "outputId": "761444ea-eeff-4747-9d2c-c8cbae3e32cc"
      },
      "execution_count": 23,
      "outputs": [
        {
          "output_type": "execute_result",
          "data": {
            "text/plain": [
              "                                                text    label\n",
              "0  https://example.com/resource/الشاٌرقة -ْ محمِد...  Culture\n",
              "1  https://example.com/resource/اَنِطٌلقّتَ ٍفٍيّ...  Culture\n",
              "2  https://example.com/resource/أُقيًمٌتِ مِساءُ ...  Culture\n",
              "3  https://example.com/resource/بٍاسُمةَ يًوٌنٍس ...  Culture\n",
              "4  https://example.com/resource/قُرر اَتحِاد اًلْ...  Culture"
            ],
            "text/html": [
              "\n",
              "  <div id=\"df-d1530b2f-61a8-4c65-afc9-0338e23cb076\" class=\"colab-df-container\">\n",
              "    <div>\n",
              "<style scoped>\n",
              "    .dataframe tbody tr th:only-of-type {\n",
              "        vertical-align: middle;\n",
              "    }\n",
              "\n",
              "    .dataframe tbody tr th {\n",
              "        vertical-align: top;\n",
              "    }\n",
              "\n",
              "    .dataframe thead th {\n",
              "        text-align: right;\n",
              "    }\n",
              "</style>\n",
              "<table border=\"1\" class=\"dataframe\">\n",
              "  <thead>\n",
              "    <tr style=\"text-align: right;\">\n",
              "      <th></th>\n",
              "      <th>text</th>\n",
              "      <th>label</th>\n",
              "    </tr>\n",
              "  </thead>\n",
              "  <tbody>\n",
              "    <tr>\n",
              "      <th>0</th>\n",
              "      <td>https://example.com/resource/الشاٌرقة -ْ محمِد...</td>\n",
              "      <td>Culture</td>\n",
              "    </tr>\n",
              "    <tr>\n",
              "      <th>1</th>\n",
              "      <td>https://example.com/resource/اَنِطٌلقّتَ ٍفٍيّ...</td>\n",
              "      <td>Culture</td>\n",
              "    </tr>\n",
              "    <tr>\n",
              "      <th>2</th>\n",
              "      <td>https://example.com/resource/أُقيًمٌتِ مِساءُ ...</td>\n",
              "      <td>Culture</td>\n",
              "    </tr>\n",
              "    <tr>\n",
              "      <th>3</th>\n",
              "      <td>https://example.com/resource/بٍاسُمةَ يًوٌنٍس ...</td>\n",
              "      <td>Culture</td>\n",
              "    </tr>\n",
              "    <tr>\n",
              "      <th>4</th>\n",
              "      <td>https://example.com/resource/قُرر اَتحِاد اًلْ...</td>\n",
              "      <td>Culture</td>\n",
              "    </tr>\n",
              "  </tbody>\n",
              "</table>\n",
              "</div>\n",
              "    <div class=\"colab-df-buttons\">\n",
              "\n",
              "  <div class=\"colab-df-container\">\n",
              "    <button class=\"colab-df-convert\" onclick=\"convertToInteractive('df-d1530b2f-61a8-4c65-afc9-0338e23cb076')\"\n",
              "            title=\"Convert this dataframe to an interactive table.\"\n",
              "            style=\"display:none;\">\n",
              "\n",
              "  <svg xmlns=\"http://www.w3.org/2000/svg\" height=\"24px\" viewBox=\"0 -960 960 960\">\n",
              "    <path d=\"M120-120v-720h720v720H120Zm60-500h600v-160H180v160Zm220 220h160v-160H400v160Zm0 220h160v-160H400v160ZM180-400h160v-160H180v160Zm440 0h160v-160H620v160ZM180-180h160v-160H180v160Zm440 0h160v-160H620v160Z\"/>\n",
              "  </svg>\n",
              "    </button>\n",
              "\n",
              "  <style>\n",
              "    .colab-df-container {\n",
              "      display:flex;\n",
              "      gap: 12px;\n",
              "    }\n",
              "\n",
              "    .colab-df-convert {\n",
              "      background-color: #E8F0FE;\n",
              "      border: none;\n",
              "      border-radius: 50%;\n",
              "      cursor: pointer;\n",
              "      display: none;\n",
              "      fill: #1967D2;\n",
              "      height: 32px;\n",
              "      padding: 0 0 0 0;\n",
              "      width: 32px;\n",
              "    }\n",
              "\n",
              "    .colab-df-convert:hover {\n",
              "      background-color: #E2EBFA;\n",
              "      box-shadow: 0px 1px 2px rgba(60, 64, 67, 0.3), 0px 1px 3px 1px rgba(60, 64, 67, 0.15);\n",
              "      fill: #174EA6;\n",
              "    }\n",
              "\n",
              "    .colab-df-buttons div {\n",
              "      margin-bottom: 4px;\n",
              "    }\n",
              "\n",
              "    [theme=dark] .colab-df-convert {\n",
              "      background-color: #3B4455;\n",
              "      fill: #D2E3FC;\n",
              "    }\n",
              "\n",
              "    [theme=dark] .colab-df-convert:hover {\n",
              "      background-color: #434B5C;\n",
              "      box-shadow: 0px 1px 3px 1px rgba(0, 0, 0, 0.15);\n",
              "      filter: drop-shadow(0px 1px 2px rgba(0, 0, 0, 0.3));\n",
              "      fill: #FFFFFF;\n",
              "    }\n",
              "  </style>\n",
              "\n",
              "    <script>\n",
              "      const buttonEl =\n",
              "        document.querySelector('#df-d1530b2f-61a8-4c65-afc9-0338e23cb076 button.colab-df-convert');\n",
              "      buttonEl.style.display =\n",
              "        google.colab.kernel.accessAllowed ? 'block' : 'none';\n",
              "\n",
              "      async function convertToInteractive(key) {\n",
              "        const element = document.querySelector('#df-d1530b2f-61a8-4c65-afc9-0338e23cb076');\n",
              "        const dataTable =\n",
              "          await google.colab.kernel.invokeFunction('convertToInteractive',\n",
              "                                                    [key], {});\n",
              "        if (!dataTable) return;\n",
              "\n",
              "        const docLinkHtml = 'Like what you see? Visit the ' +\n",
              "          '<a target=\"_blank\" href=https://colab.research.google.com/notebooks/data_table.ipynb>data table notebook</a>'\n",
              "          + ' to learn more about interactive tables.';\n",
              "        element.innerHTML = '';\n",
              "        dataTable['output_type'] = 'display_data';\n",
              "        await google.colab.output.renderOutput(dataTable, element);\n",
              "        const docLink = document.createElement('div');\n",
              "        docLink.innerHTML = docLinkHtml;\n",
              "        element.appendChild(docLink);\n",
              "      }\n",
              "    </script>\n",
              "  </div>\n",
              "\n",
              "\n",
              "<div id=\"df-a93cb23c-ce7f-4476-a77a-4a02add27fa0\">\n",
              "  <button class=\"colab-df-quickchart\" onclick=\"quickchart('df-a93cb23c-ce7f-4476-a77a-4a02add27fa0')\"\n",
              "            title=\"Suggest charts\"\n",
              "            style=\"display:none;\">\n",
              "\n",
              "<svg xmlns=\"http://www.w3.org/2000/svg\" height=\"24px\"viewBox=\"0 0 24 24\"\n",
              "     width=\"24px\">\n",
              "    <g>\n",
              "        <path d=\"M19 3H5c-1.1 0-2 .9-2 2v14c0 1.1.9 2 2 2h14c1.1 0 2-.9 2-2V5c0-1.1-.9-2-2-2zM9 17H7v-7h2v7zm4 0h-2V7h2v10zm4 0h-2v-4h2v4z\"/>\n",
              "    </g>\n",
              "</svg>\n",
              "  </button>\n",
              "\n",
              "<style>\n",
              "  .colab-df-quickchart {\n",
              "      --bg-color: #E8F0FE;\n",
              "      --fill-color: #1967D2;\n",
              "      --hover-bg-color: #E2EBFA;\n",
              "      --hover-fill-color: #174EA6;\n",
              "      --disabled-fill-color: #AAA;\n",
              "      --disabled-bg-color: #DDD;\n",
              "  }\n",
              "\n",
              "  [theme=dark] .colab-df-quickchart {\n",
              "      --bg-color: #3B4455;\n",
              "      --fill-color: #D2E3FC;\n",
              "      --hover-bg-color: #434B5C;\n",
              "      --hover-fill-color: #FFFFFF;\n",
              "      --disabled-bg-color: #3B4455;\n",
              "      --disabled-fill-color: #666;\n",
              "  }\n",
              "\n",
              "  .colab-df-quickchart {\n",
              "    background-color: var(--bg-color);\n",
              "    border: none;\n",
              "    border-radius: 50%;\n",
              "    cursor: pointer;\n",
              "    display: none;\n",
              "    fill: var(--fill-color);\n",
              "    height: 32px;\n",
              "    padding: 0;\n",
              "    width: 32px;\n",
              "  }\n",
              "\n",
              "  .colab-df-quickchart:hover {\n",
              "    background-color: var(--hover-bg-color);\n",
              "    box-shadow: 0 1px 2px rgba(60, 64, 67, 0.3), 0 1px 3px 1px rgba(60, 64, 67, 0.15);\n",
              "    fill: var(--button-hover-fill-color);\n",
              "  }\n",
              "\n",
              "  .colab-df-quickchart-complete:disabled,\n",
              "  .colab-df-quickchart-complete:disabled:hover {\n",
              "    background-color: var(--disabled-bg-color);\n",
              "    fill: var(--disabled-fill-color);\n",
              "    box-shadow: none;\n",
              "  }\n",
              "\n",
              "  .colab-df-spinner {\n",
              "    border: 2px solid var(--fill-color);\n",
              "    border-color: transparent;\n",
              "    border-bottom-color: var(--fill-color);\n",
              "    animation:\n",
              "      spin 1s steps(1) infinite;\n",
              "  }\n",
              "\n",
              "  @keyframes spin {\n",
              "    0% {\n",
              "      border-color: transparent;\n",
              "      border-bottom-color: var(--fill-color);\n",
              "      border-left-color: var(--fill-color);\n",
              "    }\n",
              "    20% {\n",
              "      border-color: transparent;\n",
              "      border-left-color: var(--fill-color);\n",
              "      border-top-color: var(--fill-color);\n",
              "    }\n",
              "    30% {\n",
              "      border-color: transparent;\n",
              "      border-left-color: var(--fill-color);\n",
              "      border-top-color: var(--fill-color);\n",
              "      border-right-color: var(--fill-color);\n",
              "    }\n",
              "    40% {\n",
              "      border-color: transparent;\n",
              "      border-right-color: var(--fill-color);\n",
              "      border-top-color: var(--fill-color);\n",
              "    }\n",
              "    60% {\n",
              "      border-color: transparent;\n",
              "      border-right-color: var(--fill-color);\n",
              "    }\n",
              "    80% {\n",
              "      border-color: transparent;\n",
              "      border-right-color: var(--fill-color);\n",
              "      border-bottom-color: var(--fill-color);\n",
              "    }\n",
              "    90% {\n",
              "      border-color: transparent;\n",
              "      border-bottom-color: var(--fill-color);\n",
              "    }\n",
              "  }\n",
              "</style>\n",
              "\n",
              "  <script>\n",
              "    async function quickchart(key) {\n",
              "      const quickchartButtonEl =\n",
              "        document.querySelector('#' + key + ' button');\n",
              "      quickchartButtonEl.disabled = true;  // To prevent multiple clicks.\n",
              "      quickchartButtonEl.classList.add('colab-df-spinner');\n",
              "      try {\n",
              "        const charts = await google.colab.kernel.invokeFunction(\n",
              "            'suggestCharts', [key], {});\n",
              "      } catch (error) {\n",
              "        console.error('Error during call to suggestCharts:', error);\n",
              "      }\n",
              "      quickchartButtonEl.classList.remove('colab-df-spinner');\n",
              "      quickchartButtonEl.classList.add('colab-df-quickchart-complete');\n",
              "    }\n",
              "    (() => {\n",
              "      let quickchartButtonEl =\n",
              "        document.querySelector('#df-a93cb23c-ce7f-4476-a77a-4a02add27fa0 button');\n",
              "      quickchartButtonEl.style.display =\n",
              "        google.colab.kernel.accessAllowed ? 'block' : 'none';\n",
              "    })();\n",
              "  </script>\n",
              "</div>\n",
              "\n",
              "    </div>\n",
              "  </div>\n"
            ],
            "application/vnd.google.colaboratory.intrinsic+json": {
              "type": "dataframe",
              "variable_name": "df",
              "summary": "{\n  \"name\": \"df\",\n  \"rows\": 39885,\n  \"fields\": [\n    {\n      \"column\": \"text\",\n      \"properties\": {\n        \"dtype\": \"string\",\n        \"num_unique_values\": 39885,\n        \"samples\": [\n          \"https://example.com/resource/\\u0628\\u0652\\u0644\\u0650\\u063a\\u062a \\u064e\\u062a\\u0633\\u064e\\u064a\\u064a\\u0644\\u0651\\u0627\\u064b\\u062a\\u064d \\u0627\\u0652\\u0644\\u0623\\u0652\\u062c\\u064e\\u0627\\u0646\\u0651\\u0628\\u064e \\u064e\\u0641\\u064a \\u0633\\u064d\\u0648\\u0652\\u0642\\u0650 \\u064e\\u062f\\u0628\\u064a \\u0627\\u0644\\u0645\\u064d\\u0627\\u0650\\u0644\\u064d\\u064a\\u064d \\u0623\\u0645\\u064d\\u0633\\u064e 59\\u064f \\u0645\\u0644\\u064d\\u064a\\u0648\\u0646\\u0627\\u0650\\u064b\\u0652\\u060c \\u0651\\u0641\\u0651\\u0642\\u062f \\u0650\\u0628\\u0652\\u0644\\u064b\\u063a\\u062a \\u064b\\u0642\\u0651\\u064a\\u064f\\u0645\\u0651\\u0629\\u0651 \\u0645\\u064f\\u0634\\u064b\\u062a\\u064f\\u0631\\u0650\\u064a\\u0627\\u062a \\u064e\\u0627\\u0644\\u0652\\u0623\\u062c\\u0627\\u064d\\u0646\\u064d\\u0628\\u064b\\u060c\\u064b \\u063a\\u0652\\u064a\\u0651\\u0631\\u064d \\u0627\\u0652\\u0644\\u0639\\u0631\\u064c\\u0628\\u060c\\u064f \\u0645\\u0650\\u0646\\u0651 \\u064c\\u0627\\u0644\\u0623\\u0633\\u064c\\u0647\\u064d\\u0645 \\u064c\\u062e\\u064f\\u0644\\u0627\\u064c\\u0644\\u064f \\u0647\\u0650\\u0630\\u064e\\u0627 \\u0627\\u064c\\u0644\\u064a\\u0648\\u0650\\u0645 \\u064d\\u0646\\u064b\\u062d\\u064c\\u0648 9\\u064b4\\u064d \\u064e.\\u065113\\u06526 \\u0645\\u0644\\u0652\\u064a\\u064c\\u0648\\u064b\\u0646\\u064c \\u062f\\u0631\\u0647\\u0645 \\u0641\\u064a\\u0651 \\u0652\\u062d\\u0652\\u064a\\u064f\\u0646\\u0651 \\u0628\\u0644\\u063a\\u064e\\u062a\\u064d \\u064b\\u0642\\u064c\\u064a\\u0645\\u0629\\u064c \\u064b\\u0645\\u064b\\u0628\\u064a\\u0639\\u0627\\u062a\\u0647\\u0645\\u064e \\u0646\\u064b\\u062d\\u0648\\u0652 2\\u06500 .22\\u064b6 \\u0650\\u0645\\u064b\\u0644\\u064a\\u0651\\u0648\\u0646 \\u0652\\u062f\\u0631\\u0650\\u0647\\u0645\\u064f .\\u064f \\u0643\\u0645\\u0627 \\u0650\\u0628\\u0644\\u064e\\u063a\\u064b\\u062a \\u0642\\u0652\\u064a\\u0645\\u0629\\u0650 \\u0645\\u064d\\u0634\\u064b\\u062a\\u064c\\u0631\\u0652\\u064a\\u0627\\u062a \\u064b\\u0627\\u0644\\u0645\\u0633\\u064d\\u062a\\u062b\\u064f\\u0645\\u064b\\u0631\\u064b\\u064a\\u064b\\u0646\\u064b \\u0627\\u0644\\u0652\\u0639\\u0650\\u0631\\u0650\\u0628\\u060c\\u064b \\u064f\\u063a\\u064a\\u0631 \\u0651\\u0627\\u0644\\u0652\\u062e\\u0644\\u064d\\u064a\\u064f\\u062c\\u064d\\u064a\\u064a\\u0651\\u0646\\u0650\\u060c\\u0651 \\u062e\\u0644\\u0627\\u0644 \\u0647\\u0650\\u0630\\u0627 \\u0650\\u0627\\u0644\\u0652\\u064a\\u064b\\u0648\\u0645 \\u0646\\u064f\\u062d\\u064d\\u0648\\u064f 07\\u064e .7\\u064c2\\u0650 \\u0645\\u0644\\u064e\\u064a\\u064c\\u0648\\u0646\\u0652 \\u0652\\u062f\\u0631\\u0647\\u064e\\u0645 \\u064d\\u0648\\u0642\\u064b\\u064a\\u0645\\u064c\\u0629\\u064c \\u0645\\u0652\\u0628\\u064e\\u064a\\u064f\\u0639\\u064e\\u0627\\u064b\\u062a\\u0651\\u0647\\u0645 \\u0646\\u062d\\u0648\\u064c \\u065281\\u064b \\u0650.6\\u06504\\u064e \\u064e\\u0645\\u0644\\u064f\\u064a\\u064c\\u0648\\u0646\\u0651 \\u062f\\u064b\\u0631\\u0647\\u064e\\u0645\\u064e .\\u0623\\u064b\\u0645\\u0651\\u0627\\u0652 \\u0652\\u0628\\u0651\\u0627\\u064c\\u0644\\u064e\\u0646\\u064f\\u0633\\u064d\\u0628\\u0629\\u064e \\u064c\\u0644\\u0644\\u0651\\u0645\\u064d\\u0633\\u064c\\u062a\\u064b\\u062b\\u0652\\u0645\\u0631\\u064b\\u064a\\u0646 \\u0652\\u0627\\u0644\\u062e\\u064c\\u0644\\u064a\\u064e\\u062c\\u064a\\u0650\\u064a\\u0646\\u064c \\u064f\\u0641\\u064b\\u0642\\u062f \\u0628\\u0644\\u064b\\u063a\\u0652\\u062a \\u0642\\u064a\\u0645\\u0629 \\u0645\\u0634\\u0652\\u062a\\u064e\\u0631\\u064c\\u064a\\u064f\\u0627\\u064e\\u062a\\u0647\\u0645\\u064b \\u064b9\\u064b1\\u064f \\u0651.4\\u064d3\\u064d \\u0645\\u0650\\u0644\\u064a\\u0648\\u064c\\u0646 \\u064c\\u062f\\u0631\\u0647\\u0645 \\u0641\\u064a\\u064f \\u062d\\u064a\\u0651\\u0646\\u064b \\u064e\\u0628\\u0644\\u064b\\u063a\\u064c\\u062a \\u064b\\u0642\\u064c\\u064a\\u0645\\u064d\\u0629\\u0651 \\u0645\\u0652\\u0628\\u0651\\u064a\\u0652\\u0639\\u0652\\u0627\\u064c\\u062a\\u064c\\u0647\\u0645\\u0652 \\u064f\\u0646\\u064e\\u062d\\u0650\\u0648 4\\u064f8 \\u064f.21\\u064c \\u0645\\u0644\\u064a\\u0648\\u064f\\u0646 \\u064e\\u062f\\u064e\\u0631\\u064d\\u0647\\u064e\\u0645 \\u064e\\u062e\\u0644\\u064c\\u0627\\u0644 \\u0650\\u0646\\u064c\\u0641\\u0633 \\u064f\\u0627\\u0652\\u0644\\u0651\\u0641\\u062a\\u0631\\u0652\\u0629\\u064c .\",\n          \"https://example.com/resource/\\u062f\\u0628\\u0650\\u064a\\u0650 - \\u0625\\u0650\\u0628\\u064d\\u0631\\u0650\\u0627\\u0647\\u064f\\u064a\\u064c\\u0645\\u0652 \\u0651\\u0627\\u0644\\u064f\\u064a\\u064b\\u0648\\u0633\\u0651\\u0641:\\u064e\\u0628\\u064d\\u062d\\u0636\\u0648\\u0652\\u0631\\u0650 \\u0645\\u064e\\u062d\\u064d\\u0645\\u062f\\u064e \\u0627\\u064d\\u0644\\u0645\\u0652\\u0631\\u060c \\u0631\\u0626\\u064a\\u0633\\u0651 \\u0627\\u0644\\u0645\\u064c\\u062c\\u064c\\u0644\\u064b\\u0633 \\u0627\\u064c\\u0644\\u0648\\u064d\\u0637\\u064b\\u0646\\u064f\\u064a\\u064d \\u0627\\u0644\\u064e\\u0627\\u062a\\u064b\\u062d\\u0652\\u0627\\u062f\\u064a\\u0650\\u060c\\u064e \\u0648\\u0650\\u0627\\u0651\\u0644\\u064c\\u0642\\u0646\\u0652\\u0635\\u0644 \\u0627\\u0644\\u0639\\u0627\\u0652\\u0645\\u0650 \\u064b\\u0627\\u064d\\u0644\\u0651\\u0643\\u0651\\u0648\\u064a\\u0651\\u062a\\u064e\\u064a\\u064c\\u060c \\u0630\\u064d\\u064a\\u064c\\u0627\\u0628\\u0651 \\u0651\\u0641\\u0631\\u062d\\u0627\\u064e\\u0646 \\u064c\\u0627\\u0652\\u0644\\u0631\\u0634\\u064a\\u0652\\u062f\\u064a\\u0651\\u060c \\u064b\\u0648\\u0633\\u064e\\u0644\\u0651\\u0637\\u0627\\u064b\\u0646\\u064d \\u0627\\u064c\\u0644\\u0652\\u0633\\u0648\\u064f\\u064a\\u062f\\u064d\\u064a \\u064d\\u0631\\u0652\\u0626\\u064a\\u064b\\u0633\\u0652 \\u0645\\u062c\\u064b\\u0644\\u064d\\u0633\\u0650 \\u0625\\u062f\\u0631\\u064d\\u0627\\u0629 \\u0646\\u064b\\u062f\\u0648\\u064e\\u0629\\u064b \\u0627\\u064b\\u0644\\u064c\\u062b\\u0642\\u0627\\u064d\\u0641\\u0629\\u064e \\u064e\\u0648\\u0627\\u064e\\u0644\\u0639\\u0644\\u0648\\u0645\\u060c \\u0648\\u0623\\u0639\\u0652\\u0636\\u0652\\u0627\\u0621 \\u0650\\u0645\\u064d\\u062c\\u064d\\u0644\\u064b\\u0633\\u0650 \\u0627\\u0644\\u0625\\u0651\\u062f\\u0652\\u0627\\u0631\\u064e\\u0629\\u064d\\u060c \\u0625\\u0652\\u0636\\u0627\\u0650\\u0641\\u0629\\u064d \\u0625\\u0644\\u0650\\u0649\\u064f \\u0637\\u0650\\u064a\\u064f\\u0641\\u064b \\u0648\\u0627\\u0633\\u064f\\u0639 \\u0650\\u0648\\u064d\\u0644\\u0627\\u0641\\u0652\\u062a \\u0645\\u0646\\u0651 \\u064d\\u0627\\u0644\\u064e\\u0643\\u0651\\u062a\\u0651\\u064c\\u0627\\u0651\\u0628\\u0650 \\u0648\\u064d\\u0627\\u064b\\u0644\\u0645\\u062b\\u064e\\u0642\\u0641\\u064b\\u064a\\u0646 \\u0648\\u0650\\u0627\\u0644\\u0625\\u0639\\u064e\\u0644\\u0627\\u0645\\u064a\\u064a\\u064d\\u0646 \\u0645\\u064c\\u0646\\u064d \\u0627\\u064e\\u0644\\u0650\\u0628\\u064d\\u0644\\u062f\\u064a\\u0646 . \\u0634\\u0647\\u062f\\u062a\\u064f \\u064e\\u0627\\u064d\\u0644\\u0652\\u0646\\u0650\\u062f\\u0648\\u064c\\u0629\\u064f\\u060c\\u064d \\u0645\\u064c\\u0633\\u0627\\u0621 \\u0650\\u0623\\u0645\\u0633\\u064b \\u0651\\u0627\\u064b\\u0644\\u0652\\u0623\\u064e\\u0648\\u064e\\u0644\\u060c\\u064b \\u0650\\u0627\\u0652\\u062e\\u062a\\u064e\\u062a\\u0652\\u0627\\u0645\\u0651 \\u0641\\u0639\\u0627\\u064e\\u0644\\u064a\\u0627\\u062a\\u064b \\u064e\\u0645\\u0647\\u0650\\u0631\\u064b\\u062c\\u0650\\u0627\\u0646\\u064f \\u064d\\\"\\u064c\\u0643\\u0648\\u0650\\u064a\\u062a\\u064e \\u0627\\u0644\\u0633\\u0644\\u0627\\u064e\\u0645 - \\u0625\\u064b\\u0645\\u0652\\u0627\\u0631\\u064f\\u0627\\u062a \\u064c\\u0627\\u064f\\u0644\\u0650\\u0648\\u064d\\u0641\\u0627\\u0621\\u0650\\\"\\u060c\\u064e \\u0628\\u064c\\u0631\\u0639\\u064d\\u0627\\u064a\\u064d\\u0629 \\u0648\\u064f\\u062a\\u0646\\u0638\\u064a\\u064f\\u0645 \\u0647\\u064a\\u0626\\u0629 \\u062f\\u064b\\u0628\\u064a\\u0652 \\u0644\\u0644\\u064b\\u062b\\u064d\\u0642\\u0627\\u0641\\u0651\\u0629 \\u0648\\u0627\\u0644\\u0652\\u0641\\u0646\\u0648\\u0646 \\u0628\\u0627\\u064c\\u0644\\u062a\\u0639\\u0627\\u0648\\u064d\\u0646 \\u064f\\u0645\\u0650\\u0639\\u064b \\u064c\\u0627\\u0644\\u0642\\u0652\\u0646\\u0635\\u0652\\u0644\\u064b\\u064a\\u064c\\u0629 \\u064c\\u0627\\u0651\\u0644\\u064b\\u0639\\u0627\\u064c\\u0645\\u0629\\u064d \\u0644\\u0650\\u062f\\u0652\\u0648\\u064b\\u0644\\u064b\\u0629\\u064c \\u0652\\u0627\\u0651\\u0644\\u0643\\u0648\\u064a\\u062a \\u064c\\u0641\\u0650\\u064a\\u064f \\u064e\\u0625\\u064d\\u0645\\u0651\\u0627\\u064e\\u0631\\u0629\\u064f \\u062f\\u064c\\u0628\\u064f\\u064a\\u060c\\u0652 \\u0648\\u0651\\u062a\\u0636\\u0645\\u064c\\u0646\\u0651 \\u064d\\u0641\\u0639\\u064d\\u0627\\u064f\\u0644\\u064d\\u064a\\u064e\\u0627\\u062a \\u064f\\u062b\\u0642\\u0651\\u0627\\u064f\\u0641\\u064a\\u0629\\u064e \\u0641\\u0646\\u064a\\u0652\\u0629\\u0650\\u060c \\u0650\\u0648\\u063a\\u064a\\u0631\\u0647\\u0650\\u0627\\u0651 \\u064d.\\u0648\\u0651\\u062a\\u0652\\u0636\\u064c\\u0645\\u0646\\u0651\\u062a\\u064b \\u064e\\u0627\\u0644\\u0641\\u0651\\u0639\\u064e\\u0627\\u0644\\u064d\\u064a\\u0627\\u064c\\u062a\\u0650 \\u0650\\u0639\\u064e\\u0631\\u0636 \\u0641\\u064a\\u0644\\u064f\\u0645 \\u0652\\u0648\\u064b\\u062b\\u0627\\u064e\\u0626\\u064f\\u0642\\u064f\\u064a\\u064f \\u0639\\u064e\\u0646\\u064f \\u064f\\u0627\\u0644\\u062a\\u064d\\u0639\\u064c\\u0627\\u0648\\u064d\\u0646\\u0650 \\u064d\\u0627\\u064c\\u0644\\u0623\\u062e\\u0648\\u064a \\u064f\\u0628\\u0651\\u064a\\u0652\\u0646\\u064b \\u0652\\u0627\\u0644\\u064e\\u0628\\u0644\\u064f\\u062f\\u0650\\u064a\\u064d\\u0646\\u064b \\u0651\\u0627\\u0650\\u0644\\u0634\\u0642\\u0651\\u064a\\u064c\\u0642\\u064e\\u064a\\u0646\\u0650\\u060c \\u064d\\u0642\\u0631\\u0623\\u0651 \\u064c\\u0628\\u0650\\u0639\\u064f\\u062f \\u064b\\u0630\\u064f\\u0644\\u0651\\u0643\\u064f \\u0651\\u0639\\u0628\\u064f\\u062f\\u0627\\u0650\\u0644\\u0644\\u0647 \\u064f\\u0627\\u0644\\u064c\\u0645\\u0637\\u0651\\u064a\\u0631\\u064d\\u064a\\u0650 \\u0643\\u064e\\u0644\\u0645\\u0652\\u0629\\u064c \\u0647\\u064a\\u0650\\u0626\\u0629 \\u062f\\u0628\\u064b\\u064a\\u064e \\u0644\\u0644\\u064b\\u062b\\u0642\\u0627\\u0641\\u0629\\u060c\\u064f \\u062a\\u062d\\u064f\\u062f\\u062b\\u064e \\u064c\\u0641\\u064a\\u0652\\u0647\\u0652\\u0627\\u064c \\u0639\\u0652\\u0646 \\u064f\\u0627\\u0652\\u0644\\u0639\\u0650\\u0644\\u0627\\u0642\\u0627\\u062a \\u0651\\u0627\\u0651\\u0644\\u064d\\u062b\\u0642\\u0650\\u0627\\u0641\\u064a\\u0651\\u0629 \\u0628\\u064b\\u064a\\u0646 \\u064e\\u0627\\u0644\\u0628\\u064b\\u0644\\u0651\\u062f\\u0652\\u064a\\u064d\\u0646\\u064c\\u060c \\u0648\\u064e\\u0643\\u064e\\u064a\\u0651\\u0641 \\u0623\\u0646 \\u0627\\u064e\\u0644\\u064d\\u0643\\u0648\\u064e\\u064a\\u0650\\u062a \\u062f\\u0639\\u0645\\u0651\\u062a\\u064d \\u0650\\u0627\\u0644\\u062d\\u0631\\u0652\\u0643\\u064b\\u0629\\u064b \\u0627\\u064d\\u0644\\u062b\\u0652\\u0642\\u064c\\u0627\\u0641\\u064a\\u0652\\u0629\\u0652 \\u064d\\u0648\\u0627\\u0650\\u0644\\u0651\\u062a\\u0639\\u0651\\u0644\\u064a\\u064f\\u0645\\u064a\\u0629 \\u0641\\u064a \\u0627\\u0644\\u0625\\u0645\\u0627\\u064e\\u0631\\u0627\\u064c\\u062a\\u060c\\u064d \\u064d\\u0648\\u0651\\u0623\\u064f\\u0646\\u064e\\u0634\\u0623\\u062a\\u0651 \\u0641\\u064a\\u064e\\u0647\\u0651\\u0627 \\u064b\\u0627\\u064c\\u0644\\u064f\\u0645\\u064f\\u062f\\u0627\\u064f\\u0631\\u0651\\u0633\\u064b\\u060c\\u0652 \\u064c\\u0625\\u0644\\u064f\\u0649 \\u0651\\u062c\\u0627\\u064b\\u0646\\u0650\\u0628 \\u064c\\u063a\\u0652\\u064a\\u064e\\u0631\\u0647\\u0650\\u0627\\u064c \\u0645\\u0646\\u064c \\u0650\\u0627\\u0644\\u0645\\u064c\\u0631\\u064d\\u0627\\u0641\\u064e\\u0642 \\u0627\\u0651\\u0644\\u0636\\u0631\\u0652\\u0648\\u0631\\u064d\\u064a\\u0650\\u0629\\u064e .\\u064c\\u0628\\u064c\\u0639\\u064b\\u062f\\u0652 \\u0630\\u064f\\u0644\\u0643 \\u0628\\u062f\\u0623\\u0650\\u062a \\u0641\\u064f\\u0639\\u0650\\u0627\\u064c\\u0644\\u064a\\u0627\\u0651\\u062a \\u0627\\u0644\\u064d\\u0646\\u0652\\u062f\\u0648\\u064c\\u0629 \\u0651\\u0627\\u0651\\u0644\\u064b\\u062a\\u064e\\u064a \\u064f\\u0623\\u062f\\u064e\\u0627\\u064c\\u0631\\u0647\\u0627 \\u0651\\u0639\\u0644\\u064e\\u064a\\u064c \\u064c\\u0639\\u064f\\u0628\\u064f\\u064a\\u0651\\u062f \\u0627\\u0644\\u064f\\u0647\\u0650\\u0627\\u0650\\u0645\\u0644\\u064d\\u064a\\u0651\\u060c\\u0651 \\u0652\\u0628\\u0639\\u0651\\u0646\\u064e\\u0648\\u064c\\u0627\\u0651\\u0646 \\\"\\u0650\\u0645\\u0633\\u064a\\u0631\\u064b\\u0629 \\u0627\\u064e\\u0644\\u0652\\u0639\\u0652\\u0644\\u0627\\u064e\\u0642\\u0627\\u062a\\u0651 \\u0627\\u0650\\u0644\\u0625\\u0645\\u0627\\u0652\\u0631\\u0627\\u062a\\u064a\\u0629\\u0651 \\u064b- \\u064c\\u0627\\u0651\\u0644\\u0652\\u0643\\u0648\\u064a\\u062a\\u064e\\u064a\\u064b\\u0629\\\" \\u0648\\u064b\\u0634\\u0627\\u0631\\u0643 \\u064c\\u0641\\u064c\\u064a\\u0647\\u064e\\u0627\\u0651 \\u0643\\u0644\\u064b \\u064e\\u0645\\u0646\\u0651 \\u0650\\u062f\\u0652 . \\u0639\\u0652\\u0628\\u062f\\u0650\\u0627\\u0652\\u0644\\u0644\\u064f\\u0647\\u064c \\u0627\\u0644\\u063a\\u064c\\u0646\\u064a\\u0645 \\u064e(\\u0651\\u0627\\u0644\\u0643\\u0648\\u064f\\u064a\\u064f\\u062a)\\u064f \\u064e\\u0648\\u0628\\u0644\\u0627\\u0644\\u064f \\u0651\\u0627\\u0652\\u0644\\u064f\\u0628\\u0652\\u062f\\u064b\\u0648\\u0631\\u064c \\u0646\\u064b\\u0627\\u064b\\u0626\\u0628 \\u0631\\u064d\\u0626\\u064a\\u064c\\u0633\\u064f \\u0645\\u062c\\u064e\\u0644\\u0633 \\u0625\\u062f\\u0650\\u0627\\u0652\\u0631\\u0652\\u0629\\u064d \\u064d\\u0646\\u064d\\u062f\\u064b\\u0648\\u0629\\u064f \\u0627\\u0644\\u062b\\u0642\\u0627\\u0641\\u0629\\u064e \\u0650\\u0627\\u0644\\u064d\\u0639\\u0652\\u0644\\u064d\\u0648\\u0645\\u064c\\u060c \\u062d\\u0652\\u064a\\u0650\\u062b \\u064d\\u0633\\u0650\\u0644\\u0637\\u064f \\u064b\\u0627\\u0644\\u0647\\u064e\\u0627\\u064c\\u0645\\u064c\\u0644\\u064a \\u0650\\u0627\\u0644\\u0636\\u0648\\u0621\\u064d \\u0639\\u0650\\u0644\\u064b\\u0649\\u0650 \\u0650\\u0627\\u0651\\u0644\\u0633\\u0652\\u064a\\u0631\\u0651\\u0629\\u064b \\u064f\\u0627\\u064b\\u0644\\u064b\\u0645\\u064e\\u0639\\u064b\\u0631\\u0641\\u064a\\u0629\\u0650 \\u064b\\u0644\\u064c\\u0643\\u064b\\u0644\\u064e\\u0627\\u064d \\u0627\\u0650\\u0644\\u0650\\u0643\\u0651\\u0627\\u064e\\u062a\\u0628\\u064a\\u0646 \\u062f .\\u064b \\u064c\\u0627\\u0644\\u0651\\u063a\\u064e\\u0646\\u064d\\u064a\\u064b\\u0645 \\u0650\\u0648\\u0651\\u0627\\u064f\\u0644\\u0628\\u0652\\u062f\\u0648\\u064e\\u0631 .\\u0651 \\u064d\\u0648\\u064b\\u0645\\u0645\\u0627\\u0652 \\u0642\\u0627\\u0644\\u0647 \\u0651\\u0627\\u064e\\u0644\\u0647\\u0627\\u0651\\u0645\\u064b\\u0644\\u064a\\u0651 \\u0641\\u064a\\u064e \\u0645\\u064c\\u0642\\u0651\\u062f\\u0652\\u0645\\u062a\\u0652\\u0647:\\u0651 \\u064b\\u0627\\u0644\\u0643\\u0648\\u064a\\u064b\\u062a \\u064f\\u062a\\u064d\\u0631\\u0643\\u062a \\u0628\\u064c\\u0635\\u0645\\u064d\\u0627\\u064e\\u062a\\u0651\\u0647\\u064c\\u0627\\u064d \\u0639\\u0645\\u064a\\u0651\\u0642\\u064f\\u0627\\u064b\\u064b \\u0639\\u064d\\u0644\\u064c\\u064a\\u0646\\u0627 \\u064c\\u0641\\u064a \\u062f\\u0648\\u0644\\u0651\\u0629 \\u064b\\u0627\\u064d\\u0644\\u064c\\u0625\\u064e\\u0645\\u0627\\u064b\\u0631\\u0627\\u062a\\u060c\\u064e \\u0652\\u0648\\u064c\\u0623\\u0643\\u064e\\u0628\\u0651\\u0631 \\u064c\\u062f\\u0644\\u064a\\u0644\\u064f \\u0650\\u0639\\u0644\\u064d\\u0649\\u064e \\u0650\\u0630\\u0644\\u0643\\u0650 \\u064f\\u0623\\u0651\\u0646 \\u0647\\u0646\\u0627\\u0643\\u064f \\u0652\\u062c\\u064a\\u064e\\u0644\\u064d\\u0627\\u0652\\u064b \\u0625\\u0645\\u0627\\u064f\\u0631\\u064f\\u0627\\u062a\\u064a\\u064d\\u0627\\u064b\\u064f \\u0652\\u0643\\u0627\\u0645\\u064b\\u0644\\u064d\\u0627\\u064d\\u064b\\u064f \\u062a\\u064e\\u0641\\u062a\\u062d\\u0651\\u062a\\u0651 \\u064b\\u0645\\u0650\\u062f\\u0652\\u0627\\u0631\\u0652\\u0643\\u0647\\u064b \\u0639\\u0644\\u0652\\u0649 \\u0651\\u0645\\u064b\\u0627\\u064e \\u0628\\u062b\\u064f\\u062a\\u064c\\u0647\\u064d \\u0627\\u064c\\u0644\\u0650\\u0643\\u064c\\u0648\\u064a\\u062a \\u0652\\u0645\\u0651\\u0646\\u064b \\u064b\\u062a\\u0639\\u0644\\u064a\\u064e\\u0645 \\u064d\\u0648\\u064f\\u062b\\u064c\\u0642\\u0627\\u0641\\u0651\\u0629\\u064d \\u0641\\u064a\\u064d \\u064c\\u0627\\u0644\\u0625\\u064c\\u0645\\u0651\\u0627\\u064b\\u0631\\u0627\\u064c\\u062a\\u064c\\u060c\\u064f \\u0650\\u062c\\u064a\\u0644 \\u0650\\u0643\\u064b\\u0627\\u064f\\u0645\\u0644\\u060c\\u0651 \\u064c\\u062a\\u0652\\u0639\\u0644\\u0645 \\u0648\\u0641\\u0652\\u0642 \\u0651\\u0645\\u0651\\u0646\\u064d\\u0627\\u0650\\u0647\\u064c\\u062c\\u064f \\u0627\\u0644\\u0643\\u0652\\u0648\\u064a\\u062a \\u0627\\u064c\\u0644\\u062a\\u0639\\u0644\\u064a\\u064c\\u0645\\u064c\\u064a\\u064d\\u0629 \\u064c.\\u064e\\u0648\\u0623\\u0634\\u0627\\u0651\\u062f\\u064d \\u064e\\u062f \\u064e.\\u064d \\u0627\\u064e\\u0644\\u063a\\u0646\\u064b\\u064a\\u0645 \\u0650\\u0628\\u0627\\u064c\\u0644\\u062d\\u064a\\u0627\\u0629\\u0650 \\u0651\\u0627\\u0644\\u062a\\u0652\\u0639\\u064b\\u0644\\u064a\\u064f\\u0645\\u064a\\u0629\\u064f \\u0627\\u0644\\u062b\\u0642\\u064b\\u0627\\u064f\\u0641\\u0651\\u064a\\u0629\\u0650 \\u0652\\u0641\\u064e\\u064a\\u064e \\u064f\\u0627\\u0644\\u064c\\u0625\\u0645\\u064b\\u0627\\u0631\\u064c\\u0627\\u062a\\u060c\\u064d \\u0651\\u0648\\u064c\\u0631\\u0623\\u0649\\u064f \\u064e\\u0623\\u064e\\u0646\\u0651\\u0647\\u0627\\u064e \\u062c\\u062f \\u0652\\u0645\\u062a\\u0637\\u0648\\u0631\\u064d\\u0629\\u0652\\u060c\\u0650 \\u0648\\u064e\\u0623\\u0650\\u062f\\u064c\\u0644\\u0649\\u0652 \\u0651\\u0628\\u0623\\u064c\\u0645\\u062b\\u0650\\u0644\\u0629 \\u064c\\u0645\\u0647\\u0651\\u0645\\u0629\\u064f \\u0650\\u0639\\u064f\\u0644\\u0651\\u0649 \\u0630\\u0650\\u0644\\u064e\\u0643\\u064c\\u060c\\u064c \\u0648\\u064c\\u0645\\u064d\\u0646\\u0647\\u0627 \\u0651\\u0623\\u0646 \\u0627\\u0650\\u0644\\u064e\\u0643\\u062b\\u064b\\u064a\\u0631\\u064a\\u064b\\u0646\\u064e \\u064c\\u0645\\u0646\\u0650 \\u0623\\u0628\\u064c\\u0646\\u064e\\u0627\\u0621\\u064f \\u0650\\u0627\\u0644\\u064b\\u0643\\u0648\\u064e\\u064a\\u0650\\u062a \\u0628\\u0627\\u062a\\u064b\\u0648\\u0627 \\u064a\\u064e\\u062a\\u0652\\u0627\\u0652\\u0628\\u0639\\u0650\\u0648\\u0652\\u0646 \\u0652\\u062a\\u062d\\u0652\\u0635\\u064a\\u0644\\u0647\\u0650\\u0645\\u0651 \\u064d\\u0627\\u0651\\u0644\\u0645\\u0639\\u064d\\u0631\\u064f\\u0641\\u064e\\u064a\\u064d \\u064d\\u0641\\u064c\\u064a \\u062c\\u064f\\u0627\\u064e\\u0645\\u0639\\u064d\\u0627\\u064b\\u062a \\u0627\\u0652\\u0644\\u0625\\u0645\\u0650\\u0627\\u0631\\u0627\\u062a\\u0652\\u060c\\u064e \\u0645\\u0646\\u0650 \\u062f\\u064f\\u0648\\u0646\\u064b \\u064e\\u0623\\u064e\\u0646 \\u064f\\u064a\\u064f\\u0634\\u064f\\u0639\\u064f\\u0631\\u0651\\u0648\\u064d\\u0627 \\u0625\\u0644\\u064d\\u0627\\u0650 \\u0628\\u0651\\u0623\\u0646\\u064b\\u0647\\u064c\\u0645\\u064b \\u0641\\u0650\\u064a \\u0628\\u064b\\u064a\\u0648\\u062a\\u0650\\u0647\\u064e\\u0645\\u0651\\u060c \\u0652\\u0648\\u0647\\u0648\\u064e \\u064f\\u0645\\u062f\\u064c\\u0639\\u064c\\u0627\\u064e\\u0629\\u0651 \\u064d\\u0633\\u064b\\u0639\\u0627\\u0650\\u062f\\u0629 \\u064d\\u0623\\u0633\\u0631\\u064d\\u0647\\u0645\\u0651\\u060c \\u0628\\u0652\\u0644 \\u0650\\u0628\\u0644\\u0651\\u062f\\u0647\\u0645\\u064b \\u064d\\u0628\\u0643\\u0627\\u064d\\u0645\\u064d\\u0644\\u0647 \\u064f.\\u0648\\u0642\\u0627\\u0644: \\u0644\\u0645\\u064f \\u064f\\u0623\\u064c\\u0631\\u062f\\u064c \\u064c\\u0623\\u0646\\u0650 \\u064d\\u0623\\u0633\\u064e\\u0645\\u064e\\u064a\\u0652 \\u0646\\u064e\\u062f\\u0650\\u0648\\u062a\\u0650\\u0646\\u0627 \\u0647\\u064b\\u0630\\u0651\\u0647\\u064f \\u0628\\u0627\\u0644\\u062d\\u0648\\u0651\\u0627\\u0652\\u0631\\u064b\\u064a\\u0629\\u0651\\u060c\\u064c \\u0628\\u0650\\u064a\\u0650\\u0646 \\u0645\\u0652\\u062b\\u064e\\u0642\\u0652\\u0641\\u064d\\u064a\\u0650\\u0646\\u0651 \\u0645\\u0650\\u0646\\u064d \\u0628\\u0644\\u062f\\u064a\\u064e\\u0646\\u0627:\\u064b \\u064b\\u0627\\u0644\\u064e\\u0643\\u0648\\u0650\\u064a\\u062a\\u0652 \\u0652\\u0648\\u0627\\u0652\\u0644\\u0625\\u0645\\u064c\\u0627\\u0631\\u0627\\u064c\\u062a\\u060c\\u064f \\u064b\\u0644\\u0623\\u0646 \\u0627\\u0644\\u062d\\u0648\\u064f\\u0627\\u0652\\u0631\\u060c\\u064f \\u0650\\u064a\\u062a\\u0645 \\u064c\\u0639\\u064f\\u0627\\u0650\\u062f\\u0629\\u064d\\u060c \\u0652\\u0628\\u064a\\u064e\\u0646\\u064c \\u0645\\u0650\\u0646\\u064b \\u0652\\u0647\\u064b\\u0645\\u064d \\u0645\\u062e\\u062a\\u064d\\u0644\\u0641\\u0648\\u0646\\u060c \\u0628\\u064a\\u0646 \\u0650\\u0645\\u064c\\u0646 \\u062a\\u064c\\u0643\\u0650\\u0648\\u0646\\u064c \\u064e\\u0647\\u064f\\u0646\\u0627\\u0643 \\u062a\\u0646\\u0627\\u0642\\u0650\\u0636\\u0627\\u062a \\u064b\\u0641\\u064f\\u064a\\u0651\\u0645\\u0627\\u064b \\u0650\\u0628\\u064a\\u0646\\u0652\\u0647\\u0645\\u060c \\u0625\\u0651\\u0646\\u0646\\u064e\\u0627\\u0650 \\u0650\\u0646\\u062a\\u062d\\u062f\\u064c\\u062b \\u064b\\u0636\\u0652\\u0645\\u0646 \\u0652\\u0625\\u0637\\u0652\\u0627\\u0650\\u0631\\u0651 \\u064c\\u0627\\u064c\\u0644\\u064e\\u0628\\u064e\\u064a\\u064b\\u062a\\u0650 \\u064c\\u0627\\u0644\\u0648\\u0652\\u0627\\u062d\\u0651\\u062f\\u060c \\u064f\\u0636\\u064e\\u0645\\u064c\\u0646\\u0650 \\u0625\\u0637\\u0627\\u0631 \\u0627\\u0644\\u064b\\u0623\\u0633\\u064c\\u0631\\u064f\\u0629 \\u0627\\u0644\\u0652\\u0648\\u0650\\u0627\\u062d\\u062f\\u0629\\u060c\\u0651 \\u0648\\u064f\\u0647\\u0646\\u064b\\u0627\\u0650 \\u0627\\u0650\\u0644\\u0641\\u0631\\u0642\\u064f \\u0628\\u064b\\u064a\\u0646\\u064c \\u064c\\u0637\\u064d\\u0628\\u064a\\u0639\\u0629 \\u0651\\u062d\\u062f\\u064a\\u064f\\u062b\\u0646\\u0651\\u0627\\u060c\\u0652 \\u0648\\u0635\\u0641\\u0629\\u064b \\u0627\\u0644\\u062d\\u0650\\u0648\\u0627\\u0631\\u0652 \\u0650.\\u0651\\u0648\\u062a\\u0627\\u0628\\u0651\\u0639\\u064b \\u062f . \\u0627\\u064f\\u0644\\u063a\\u0646\\u064a\\u064f\\u0645 \\u064f\\u0642\\u0651\\u0627\\u0626\\u0644\\u0627\\u064d\\u064b:\\u064d \\u0650\\u0645\\u0652\\u0631\\u0643\\u0650\\u0632 \\u0627\\u064c\\u0644\\u064b\\u0628\\u062d\\u0648\\u064c\\u062b \\u064e\\u0648\\u0627\\u064d\\u0644\\u062f\\u0631\\u064b\\u0627\\u064f\\u0633\\u0627\\u062a\\u0650 \\u0627\\u064c\\u0644\\u0643\\u0650\\u0648\\u064a\\u0650\\u062a\\u064c\\u064a\\u064b \\u064c\\u062c\\u0651\\u0645\\u064b\\u0639\\u0651 \\u0623\\u064d\\u0643\\u0650\\u062b\\u0651\\u0631 \\u064b\\u0645\\u0646 \\u064e\\u0645\\u0644\\u064b\\u064a\\u0648\\u064e\\u0646\\u064f\\u064a \\u0648\\u064e\\u062b\\u0651\\u064a\\u064d\\u0642\\u0629\\u064c \\u0639\\u0646 \\\"\\u0627\\u0644\\u062c\\u064b\\u0646\\u0648\\u064e\\u0628 \\u0648\\u0651\\u0627\\u064e\\u0644\\u062e\\u0644\\u0650\\u064a\\u064f\\u062c\\\"\\u064e\\u060c\\u0651 \\u0648\\u0645\\u064d\\u0646 \\u0628\\u064c\\u064a\\u064b\\u0646\\u064f\\u0647\\u0627\\u064f \\u0648\\u064e\\u062b\\u0627\\u0626\\u0642\\u0652 \\u064f\\u0645\\u0647\\u0650\\u0645\\u064e\\u0629 \\u0639\\u0646 \\u0645\\u0641\\u064c\\u0627\\u0635\\u0644 \\u064b\\u0627\\u0644\\u064f\\u0628\\u0652\\u0646\\u064a\\u0629\\u064c \\u064d\\u0627\\u0652\\u0644\\u0651\\u062a\\u064f\\u062d\\u064c\\u062a\\u064a\\u064e\\u0629 \\u064e\\u0641\\u064a \\u0627\\u0644\\u0650\\u0625\\u0645\\u064c\\u0627\\u064b\\u0631\\u064b\\u0627\\u0652\\u062a\\u064a\\u064f\\u0629\\u060c\\u064b \\u0648\\u064f\\u0646\\u064b\\u0634\\u064d\\u0623\\u064d\\u0629 \\u0645\\u062f\\u0627\\u0631\\u0633\\u0647\\u064e\\u0627\\u060c \\u0648\\u062d\\u064a\\u0627\\u062a\\u0650\\u0647\\u0627 \\u0627\\u0644\\u062b\\u064e\\u0642\\u0627\\u0641\\u064a\\u0629\\u0650\\u060c \\u064d\\u0648\\u0652\\u0641\\u064a \\u0647\\u0630\\u0650\\u0647 \\u0627\\u0651\\u0644\\u0648\\u062b\\u064b\\u0627\\u0626\\u0651\\u0642 \\u0650\\u0645\\u0639\\u0644\\u0648\\u064d\\u0645\\u0650\\u0627\\u064e\\u062a \\u062c\\u0651\\u062f \\u0645\\u0647\\u0645\\u0629\\u0652 \\u064b\\u0639\\u0651\\u0646 \\u064f\\u0646\\u0634\\u0623\\u0629\\u0651 \\u0627\\u0652\\u0644\\u064b\\u0645\\u062f\\u0650\\u0627\\u064c\\u0631\\u0633\\u060c\\u0652 \\u064c\\u0648\\u064c\\u062d\\u0651\\u062a\\u0649\\u064c \\u0623\\u0633\\u064b\\u0645\\u064e\\u0627\\u0621 \\u0651\\u0627\\u0644\\u0637\\u0644\\u0651\\u0628\\u0629\\u060c \\u0648\\u064b\\u0627\\u064e\\u0644\\u064d\\u0645\\u062f\\u064b\\u0631\\u0633\\u064c\\u064a\\u0646\\u060c\\u0652 \\u064b\\u0648\\u0643\\u0652\\u064a\\u0641\\u064a\\u064f\\u0629\\u064c \\u0628\\u064b\\u062f\\u0650\\u0627\\u064f\\u064a\\u0627\\u0652\\u062a\\u064c \\u0639\\u0652\\u0645\\u0650\\u0644\\u064e\\u064a\\u0652\\u0629\\u064d \\u0627\\u0644\\u062a\\u0639\\u0644\\u064a\\u0645\\u064f \\u064f. . \\u064d\\u0625\\u0644\\u064f\\u062e\\u0652\\u060c \\u064c\\u0648\\u0647\\u0646\\u064d\\u0627\\u0643\\u0651 \\u064b\\u0645\\u0646 \\u0651\\u0646\\u064f\\u0627\\u064f\\u0644\\u0652 \\u064b\\u0634\\u0647\\u0650\\u0627\\u062f\\u0629\\u064c \\u0650\\u0627\\u0644\\u062f\\u0650\\u0643\\u062a\\u064e\\u0648\\u0631\\u0651\\u0627\\u0647 \\u0645\\u064c\\u0646\\u0651 \\u062e\\u064f\\u0644\\u064b\\u0627\\u0651\\u0644\\u064f \\u064f\\u0642\\u0652\\u0631\\u0627\\u0621\\u0652\\u0629 \\u064e\\u0627\\u0644\\u064d\\u0639\\u064b\\u0644\\u064e\\u0627\\u0642\\u0627\\u064c\\u062a \\u0627\\u0652\\u0644\\u0623\\u0650\\u062e\\u0648\\u064d\\u064a\\u064e\\u0629 \\u064d\\u0628\\u064a\\u0646 \\u064e\\u0627\\u0644\\u064f\\u0628\\u064e\\u0644\\u062f\\u064a\\u064c\\u0646 \\u0652.\\u0652\\u0648\\u062c\\u0627\\u0621\\u064e \\u062d\\u064d\\u062f\\u064d\\u064a\\u064d\\u062b\\u064f \\u0627\\u064f\\u0644\\u0651\\u0628\\u0652\\u062f\\u064c\\u0648\\u0631\\u064e \\u064e\\u0628\\u0645\\u0627 \\u064a\\u064f\\u0634\\u0650\\u0628\\u0647 \\u064f\\u0627\\u064f\\u0644\\u0652\\u0634\\u0650\\u0647\\u0627\\u062f\\u064e\\u0629\\u064e\\u060c \\u0645\\u0646 \\u064c\\u0642\\u064e\\u0628\\u0644\\u064e \\u0652\\u0623\\u062d\\u064e\\u062f\\u064f \\u0651\\u0623\\u064c\\u0628\\u064f\\u0646\\u0627\\u0621 \\u064d\\u0627\\u0644\\u064c\\u062c\\u064a\\u064d\\u0644 \\u0627\\u064d\\u0644\\u064e\\u0630\\u064a\\u064d \\u064f\\u0641\\u062a\\u0651\\u062d \\u0639\\u064a\\u0646\\u064a\\u064b\\u0647\\u064b \\u0650\\u0639\\u064b\\u0644\\u064d\\u0649\\u0650 \\u0627\\u0644\\u0645\\u0646\\u0627\\u064f\\u0647\\u064b\\u062c \\u0627\\u0652\\u0644\\u0651\\u062a\\u0639\\u0644\\u064f\\u064a\\u0645\\u064a\\u0629 \\u0627\\u0644\\u0651\\u0643\\u064f\\u0648\\u0650\\u064a\\u062a\\u064a\\u0629\\u064e \\u0627\\u0650\\u0644\\u062a\\u064a\\u064b \\u064e\\u062a\\u0645 \\u062a\\u064b\\u062f\\u0650\\u0631\\u064a\\u064f\\u0633\\u0650\\u0647\\u064e\\u0627\\u064b \\u0641\\u0651\\u064a\\u064d \\u0627\\u064f\\u0644\\u0652\\u0625\\u064d\\u0645\\u064c\\u0627\\u0631\\u064c\\u0627\\u0652\\u062a\\u0652\\u060c \\u0648\\u0651\\u0642\\u064d\\u0627\\u0644: \\u064e\\u0643\\u0644 \\u064f\\u0630\\u064c\\u0644\\u0643 \\u064f\\u0630\\u0643\\u0631\\u0650\\u062a\\u0647 \\u0641\\u0651\\u064a \\u0643\\u062a\\u0627\\u0628\\u064a \\u064b\\\"\\u0627\\u0644\\u062c\\u0630\\u0648\\u0631 \\u0650\\u0627\\u064f\\u0644\\u062a\\u0627\\u0631\\u0652\\u064a\\u064d\\u062e\\u0650\\u064a\\u0651\\u0629\\u064d \\u064e\\u0644\\u064f\\u0644\\u0639\\u064b\\u0644\\u0627\\u0642\\u0627\\u0650\\u062a\\u064f \\u064e\\u0627\\u064f\\u0644\\u062b\\u0652\\u0642\\u0627\\u0650\\u0641\\u064d\\u064a\\u0629 \\u064c\\u0628\\u064a\\u064b\\u0646 \\u0650\\u0627\\u0644\\u0625\\u0645\\u0627\\u0631\\u0627\\u064c\\u062a\\u064c \\u064f\\u0648\\u064e\\u0627\\u064b\\u0644\\u0643\\u0650\\u0648\\u064a\\u064f\\u062a\\\"\\u060c \\u0652\\u0648\\u0643\\u064b\\u0627\\u064b\\u0646 \\u064c\\u0628\\u064f\\u0645\\u064f\\u062b\\u064f\\u0627\\u064e\\u0628\\u064c\\u0629\\u064d \\u064c\\u0631\\u0652\\u0633\\u064b\\u0627\\u0651\\u0644\\u064e\\u0629 \\u0634\\u0652\\u0643\\u0631 \\u0652\\u0644\\u0644\\u0643\\u0648\\u064a\\u062a\\u060c \\u0648\\u064c\\u0623\\u0636\\u0650\\u0627\\u064d\\u0641:\\u064d \\u0623\\u062c\\u064f\\u0644\\u060c\\u064e \\u064c\\u062a\\u062a\\u0644\\u0645\\u0630\\u0646\\u0627\\u064c \\u0639\\u064f\\u0644\\u0651\\u0649 \\u0650\\u0645\\u064d\\u0646\\u064c\\u0627\\u064c\\u0647\\u062c \\u064b\\u0627\\u0644\\u0643\\u064e\\u0648\\u064b\\u064a\\u062a\\u064d\\u060c\\u0650 \\u0648\\u0642\\u0631\\u0623\\u0646\\u0627\\u064d \\u0650\\u0639\\u064e\\u0628\\u0627\\u0631\\u064d\\u0629 \\u064e\\\"\\u0639\\u064f\\u0644\\u0645 \\u0628\\u0651\\u0644\\u0651\\u0627\\u062f\\u064a\\u0650 \\u0651\\u0644\\u0651\\u0648\\u064e\\u0646\\u0647\\u0650 \\u064c\\u0623\\u064c\\u062d\\u0645\\u0650\\u0631\\\" \\u0648\\u0650\\u0627\\u0631\\u062a\\u064c\\u062f\\u064a\\u0646\\u0652\\u0627\\u064e \\u0632\\u064a \\u0627\\u064e\\u0644\\u0652\\u0645\\u062f\\u0651\\u0627\\u0652\\u0631\\u064b\\u0633\\u064f \\u064d\\u0627\\u0644\\u0643\\u064d\\u0648\\u064e\\u064a\\u062a\\u064a\\u0629 \\u0623\\u062b\\u064f\\u0646\\u064f\\u0627\\u064e\\u0621\\u064c \\u0651\\u062a\\u0639\\u064e\\u0644\\u0650\\u064a\\u0645\\u0646\\u0627\\u064c\\u060c \\u064c\\u0648\\u0652\\u062a\\u064d\\u0646\\u0627\\u0650\\u0648\\u0644\\u064b\\u0646\\u0627 \\u0627\\u0644\\u064e\\u0648\\u062c\\u064f\\u0628\\u0652\\u0627\\u062a\\u064d \\u0627\\u0651\\u0644\\u0635\\u0628\\u0627\\u062d\\u0650\\u064a\\u0629\\u0651 \\u0627\\u0651\\u0644\\u0650\\u0643\\u064b\\u0648\\u064a\\u062a\\u064a\\u0629\\u0650 \\u064d\\u0641\\u0650\\u064a \\u0645\\u062f\\u064b\\u0627\\u064b\\u0631\\u064c\\u0633\\u0646\\u0627\\u0652\\u060c\\u064b \\u0648\\u0627\\u0633\\u062a\\u062e\\u064c\\u062f\\u064f\\u0645\\u0651\\u0646\\u0627 \\u064d\\u0627\\u064b\\u0644\\u064c\\u0623\\u0650\\u0642\\u064c\\u0644\\u0627\\u0651\\u0645 \\u0652\\u0648\\u064d\\u0627\\u0644\\u0652\\u0645\\u0645\\u064e\\u062d\\u0651\\u0627\\u064f\\u064a\\u064d\\u0627\\u064b\\u062a\\u064e \\u0648\\u0627\\u064d\\u0644\\u064b\\u0645\\u0628\\u0631\\u0627\\u064a\\u0652\\u0627\\u064b\\u062a \\u064d\\u0627\\u0644\\u064e\\u0643\\u0648\\u064c\\u064a\\u062a\\u064a\\u0629\\u064e\\u060c \\u0644\\u064d\\u0627\\u064c \\u0641\\u0631\\u0642 \\u064f\\u0628\\u064b\\u064a\\u064c\\u0646\\u064d\\u0646\\u0651\\u0627\\u060c \\u0628\\u064a\\u064b\\u0626\\u0650\\u062a\\u0627 \\u0628\\u064f\\u0644\\u062f\\u064a\\u0646\\u0627\\u064b \\u0648\\u0650\\u0627\\u064f\\u062d\\u0652\\u062f\\u0629\\u064d\\u060c \\u0647\\u064a \\u0627\\u064f\\u0644\\u0628\\u0650\\u064a\\u0650\\u0626\\u0629\\u064b \\u064c\\u0627\\u0650\\u0644\\u0628\\u062d\\u0631\\u064a\\u0629\\u064f \\u064f.\\u064b \\u0648\\u0628\\u0652\\u0639\\u062f\\u064f \\u064f\\u0623\\u0650\\u0641\\u064c\\u0648\\u0644 \\u062a\\u064d\\u062c\\u0627\\u0652\\u0631\\u0629\\u064c \\u0627\\u0644\\u0644\\u0624\\u0644\\u064b\\u0624\\u060c \\u0651\\u0641\\u064f\\u0625\\u0652\\u0646\\u0651 \\u0645\\u0651\\u062b\\u064e\\u0642\\u064f\\u0641\\u064a\\u0646\\u0627\\u064c \\u0648\\u064d\\u0639\\u0650\\u0645\\u064e\\u0627\\u0644\\u064f\\u0646\\u064f\\u0627 \\u062a\\u0648\\u062c\\u0647\\u0648\\u0627\\u064b \\u0625\\u0644\\u0649 \\u0627\\u0644\\u064e\\u0643\\u0650\\u0648\\u064b\\u064a\\u064b\\u062a\\u064f \\u0644\\u0650\\u0644\\u0639\\u064d\\u0645\\u0644 \\u0651\\u0641\\u064f\\u064a\\u0647\\u0627\\u064f\\u060c \\u0650\\u0643\\u0651\\u0645\\u0627 \\u0623\\u064f\\u0646 \\u0647\\u064c\\u0646\\u0627\\u0643 \\u0623\\u064f\\u062c\\u064a\\u0627\\u064c\\u0644\\u0651\\u0627\\u0650\\u064b \\u064e\\u0645\\u064b\\u0646 \\u0627\\u0652\\u0644\\u064e\\u0643\\u064b\\u0648\\u064a\\u062a\\u064b\\u064a\\u064a\\u0646 \\u064b\\u0639\\u064d\\u0627\\u0634\\u0648\\u064b\\u0627 \\u0641\\u064e\\u064a \\u064f\\u0627\\u0650\\u0644\\u064e\\u0625\\u064d\\u0645\\u0627\\u0631\\u0627\\u062a\\u064d\\u060c \\u064d\\u0648\\u0651\\u0645\\u064e\\u0646\\u064b\\u0647\\u0645 \\u0645\\u0646\\u064c \\u064b\\u0639\\u0650\\u0644\\u0652\\u0645\\u064d\\u0648\\u064e\\u0646\\u0627 .\\u0651 \\u0643\\u0645\\u0627 \\u0631\\u0627\\u0651\\u062d\\u0652 \\u064a\\u0650\\u062a\\u062d\\u064d\\u062f\\u062b \\u0639\\u0646\\u0651 \\u0627\\u0644\\u062a\\u0641\\u064e\\u0627\\u0639\\u064e\\u0644\\u064b \\u0627\\u064c\\u0644\\u062b\\u0650\\u0642\\u0652\\u0627\\u0641\\u064c\\u064a \\u0628\\u064d\\u064a\\u0646\\u0650 \\u064b\\u0627\\u0644\\u064d\\u0628\\u0644\\u0651\\u062f\\u064a\\u064d\\u0646 \\u0639\\u064e\\u0628\\u0631 \\u064d\\u0642\\u064d\\u0635\\u064f\\u0627\\u0626\\u0650\\u062f\\u064d \\u0627\\u0651\\u0644\\u064b\\u0634\\u0639\\u0652\\u0631\\u0627\\u064e\\u0621\\u060c\\u064d \\u064b\\u0627\\u0644\\u0652\\u0641\\u0652\\u0635\\u0652\\u062d\\u064c\\u0649\\u064b \\u0648\\u064c\\u0627\\u0644\\u0650\\u0646\\u064b\\u0628\\u0637\\u064a\\u064f\\u0629\\u0650\\u060c \\u0650\\u0641\\u0652\\u0636\\u064b\\u0644\\u0650\\u0627\\u064b\\u064b \\u064c\\u0639\\u064d\\u0646 \\u0651\\u0627\\u064d\\u0644\\u062a\\u0641\\u064c\\u0627\\u0639\\u064f\\u0644\\u064c \\u0651\\u0645\\u0652\\u0639 \\u0648\\u064b\\u0633\\u0627\\u0652\\u0626\\u064b\\u0644\\u064b \\u0627\\u0644\\u0625\\u0650\\u0639\\u0644\\u0627\\u0645\\u0650 \\u064d\\u0641\\u0650\\u064a\\u064e \\u0643\\u0644\\u0627 \\u0627\\u064b\\u0644\\u0628\\u0651\\u0644\\u064e\\u062f\\u064c\\u064a\\u064d\\u0646\\u060c\\u064c \\u0650\\u0625\\u064f\\u0630 \\u064c\\u0641\\u064c\\u062a\\u062d\\u062a\\u0650 \\u064c\\u0627\\u0644\\u0651\\u0635\\u064d\\u062d\\u064e\\u0627\\u064c\\u0641\\u0629\\u0650 \\u0627\\u064e\\u0644\\u064e\\u0643\\u0648\\u064a\\u062a\\u064a\\u0650\\u0629\\u064f \\u0651\\u0623\\u064f\\u0628\\u0652\\u0648\\u064e\\u0627\\u0628\\u0647\\u064d\\u0627\\u0651 \\u0644\\u0644\\u0645\\u062b\\u0642\\u0641\\u064a\\u064b\\u0646\\u064b \\u0627\\u064f\\u0644\\u0625\\u0645\\u0627\\u0631\\u0652\\u0627\\u0650\\u062a\\u064f\\u064a\\u064e\\u064a\\u0650\\u0646 .\",\n          \"https://example.com/resource/\\u0623\\u0650\\u0628\\u0648\\u0638\\u0628\\u064f\\u064a\\u0651 \\u064c-\\u0650 \\u064b\\u0645\\u0646\\u0651\\u064a\\u0650 \\u0650\\u0628\\u0651\\u0648\\u0651\\u0646\\u0639\\u064f\\u0627\\u064b\\u0645\\u0629:\\u0646\\u064e\\u0638\\u0645 \\u0627\\u062a\\u062d\\u0627\\u062f \\u064d\\u0643\\u0651\\u062a\\u0627\\u0650\\u0628\\u064d \\u0651\\u0648\\u0652\\u0623\\u062f\\u0652\\u0628\\u064e\\u0627\\u064b\\u0621 \\u064f\\u0627\\u0644\\u0625\\u0645\\u0627\\u0651\\u0631\\u0627\\u0650\\u062a \\u0641\\u064a \\u0623\\u0628\\u0648\\u0650\\u0638\\u0628\\u064b\\u064a\\u0651\\u060c\\u064c \\u0645\\u0633\\u064c\\u0627\\u064e\\u0621\\u064c \\u0623\\u0645\\u064c\\u0633\\u064d \\u0627\\u0644\\u064f\\u0623\\u064e\\u0648\\u0651\\u0644\\u060c \\u064f\\u0641\\u0650\\u064a\\u064d \\u0642\\u0651\\u0627\\u0650\\u0639\\u0629\\u064d \\u0627\\u0652\\u0644\\u062f\\u0643\\u062a\\u0648\\u064c\\u0631\\u064c \\u064c\\u0639\\u0628\\u062f\\u064e \\u064b\\u0627\\u0644\\u064c\\u0644\\u0647\\u0651 \\u0639\\u0645\\u0631\\u0627\\u064d\\u0646 \\u064f\\u062a\\u0650\\u0631\\u0651\\u064a\\u0645\\u0652 \\u064d\\u0641\\u064a\\u064f \\u0645\\u0651\\u0642\\u0631 \\u064d\\u0627\\u0644\\u0627\\u062a\\u064c\\u062d\\u0627\\u062f\\u064c \\u064c\\u0627\\u0644\\u064c\\u062c\\u062f\\u064a\\u0651\\u062f \\u0641\\u064a \\u0645\\u0650\\u0639\\u064e\\u0633\\u064b\\u0643\\u0631\\u064d \\u064f\\u0622\\u0644\\u0651 \\u0646\\u064b\\u0647\\u064a\\u0627\\u0646\\u064f \\u0623\\u064e\\u0645\\u0650\\u0633\\u064f\\u064a\\u0629 \\u0644\\u0652\\u0644\\u064e\\u0643\\u064c\\u0627\\u062a\\u0628\\u064d \\u0651\\u0648\\u064e\\u0627\\u0644\\u0652\\u0645\\u062b\\u064e\\u0642\\u0651\\u0641\\u064c \\u064d\\u0627\\u0644\\u0625\\u0645\\u064d\\u0627\\u064c\\u0631\\u064c\\u0627\\u062a\\u0651\\u064a\\u064f \\u0645\\u0627\\u062c\\u064c\\u062f \\u0628\\u0648 \\u0634\\u064f\\u0644\\u064a\\u0628\\u064f\\u064a\\u060c\\u064d \\u0623\\u064f\\u0645\\u064b\\u064a\\u0646 \\u0639\\u0627\\u0645\\u0652 \\u0652\\u0627\\u0644\\u0645\\u0646\\u062a\\u0650\\u062f\\u0651\\u0649 \\u0650\\u0627\\u0644\\u064d\\u0625\\u064e\\u0633\\u0651\\u0644\\u0651\\u0627\\u0645\\u0652\\u064a\\u064f \\u0641\\u064f\\u064a \\u0627\\u0644\\u064e\\u0634\\u0650\\u0627\\u0631\\u064d\\u0642\\u064e\\u0629\\u064e\\u060c\\u0650 \\u064c\\u0628\\u064f\\u0639\\u0646\\u0648\\u064f\\u0627\\u0646:\\u0651 \\u0644\\u0645\\u0627\\u0630\\u0627\\u064e \\u0651\\u0627\\u064b\\u0644\\u064f\\u0634\\u0651\\u0627\\u0631\\u0642\\u0629 \\u0639\\u0651\\u0627\\u064e\\u0635\\u0645\\u0629 \\u0650\\u0644\\u064d\\u0644\\u062b\\u064f\\u0642\\u0627\\u0641\\u064b\\u0629\\u064b \\u0627\\u064c\\u0644\\u0625\\u064c\\u0633\\u0652\\u0644\\u064d\\u0627\\u0645\\u0651\\u064a\\u0629\\u064d\\u061f \\u0642\\u062f\\u0651\\u0651\\u064e\\u0645 \\u0627\\u0644\\u064e\\u0623\\u0645\\u0633\\u064a\\u064f\\u0629\\u064f \\u064d\\u0627\\u0644\\u0634\\u0650\\u0627\\u0639\\u0631\\u0652 \\u0652\\u0648\\u0627\\u0644\\u0646\\u0627\\u0652\\u0642\\u062f \\u0645\\u064b\\u062d\\u064c\\u0645\\u062f \\u0646\\u0648\\u0631 \\u064f\\u0627\\u064c\\u0644\\u062f\\u064f\\u064a\\u0646\\u060c\\u0651 \\u064b\\u0648\\u0650\\u062d\\u0636\\u0650\\u0631\\u0651\\u0647\\u064c\\u0627\\u064e \\u064f\\u062d\\u0650\\u0628\\u064d\\u064a\\u0652\\u0628\\u064b \\u0627\\u064e\\u0644\\u0635\\u064b\\u0627\\u064a\\u0650\\u063a\\u0651 \\u064e\\u0631\\u064f\\u0626\\u064a\\u064d\\u0633\\u0652 \\u0645\\u062c\\u0651\\u0644\\u0633\\u0650 \\u0625\\u064c\\u062f\\u064c\\u0627\\u0631\\u0629\\u0650 \\u0651\\u0627\\u064c\\u0644\\u064b\\u0627\\u064b\\u062a\\u062d\\u0627\\u062f\\u0650\\u060c\\u064e \\u0648\\u0639\\u064b\\u062f\\u064b\\u062f \\u0645\\u0646 \\u064d\\u0627\\u0644\\u0643\\u062a\\u0651\\u0627\\u0628\\u064e \\u0648\\u0652\\u0627\\u064f\\u0644\\u064b\\u0623\\u064f\\u062f\\u0628\\u0627\\u064d\\u0621 \\u064d.\\u064e \\u064c\\u0627\\u0633\\u062a\\u064b\\u0647\\u0651\\u0644\\u0652 \\u0627\\u0652\\u0644\\u0651\\u0645\\u064d\\u062d\\u0652\\u0627\\u064f\\u0636\\u0631 \\u0628\\u0627\\u0633\\u062a\\u0639\\u064e\\u0631\\u0627\\u0636\\u0650 \\u0627\\u0644\\u0623\\u0637\\u0631 \\u0627\\u064c\\u0644\\u0639\\u064d\\u0627\\u0645\\u0629\\u0652 \\u0651\\u0627\\u064c\\u0644\\u062a\\u064a\\u0650 \\u0639\\u0645\\u0644\\u062a \\u064d\\u0639\\u0644\\u0649 \\u062a\\u064e\\u0634\\u0643\\u0651\\u064a\\u0652\\u0644\\u064f \\u064b\\u0648\\u0628\\u0644\\u064d\\u0648\\u064f\\u0631\\u0629 \\u0627\\u064f\\u0644\\u0641\\u0643\\u064b\\u0631\\u0652\\u0629 \\u0627\\u064e\\u0644\\u064c\\u062b\\u0642\\u0651\\u0627\\u0641\\u064d\\u064a\\u064b\\u0629\\u064e \\u0641\\u064b\\u064a\\u064f \\u064c\\u0627\\u0644\\u064f\\u0634\\u0627\\u0650\\u0631\\u064b\\u0642\\u0629\\u0652\\u060c\\u0652 \\u0645\\u0646\\u064c \\u0652\\u062e\\u0652\\u0644\\u0627\\u0652\\u0644\\u064d \\u0652\\u0627\\u0644\\u062a\\u064f\\u0639\\u064d\\u0631\\u064b\\u064a\\u0641 \\u0628\\u0652\\u0627\\u0644\\u062a\\u0650\\u062c\\u064b\\u0631\\u064f\\u0628\\u0629\\u0651 \\u064f\\u0648\\u0623\\u0647\\u0645 \\u0645\\u0633\\u0652\\u0627\\u0650\\u0631\\u064d\\u0627\\u062a\\u064b\\u0647\\u064d\\u0627\\u0652\\u060c\\u064f \\u0650\\u0648\\u064b\\u0627\\u0650\\u0644\\u0651\\u0623\\u0637\\u0650\\u0648\\u064c\\u0627\\u0631 \\u0651\\u0627\\u0652\\u0644\\u064d\\u062a\\u064a \\u0650\\u0645\\u064c\\u0631\\u064b\\u062a \\u0628\\u0647\\u0650\\u0627\\u064d\\u060c \\u0628\\u0652\\u062f\\u064e\\u0621\\u0651\\u0627\\u064b\\u064d \\u0628\\u064d\\u0627\\u0644\\u062d\\u062f\\u064a\\u064c\\u062b\\u064b \\u064d\\u0639\\u064b\\u0646 \\u0628\\u064d\\u0646\\u0627\\u0652\\u0621\\u064d \\u0627\\u0644\\u0628\\u064d\\u0646\\u0649\\u0650 \\u0627\\u0651\\u0644\\u0650\\u062a\\u064c\\u062d\\u062a\\u064c\\u064a\\u064c\\u0629\\u0650 \\u064d\\u0644\\u0644\\u0645\\u0624\\u064b\\u0633\\u0633\\u0650\\u0627\\u062a \\u0650\\u0627\\u0644\\u062b\\u064e\\u0642\\u0652\\u0627\\u0641\\u064a\\u064d\\u0629\\u064c \\u064f\\u0648\\u0627\\u064e\\u0644\\u0625\\u0651\\u0639\\u064e\\u0644\\u0627\\u0645\\u0650\\u064a\\u0629\\u0651 \\u064c\\u0627\\u0644\\u062a\\u064a \\u0623\\u064d\\u0633\\u0651\\u0647\\u0645\\u064f\\u062a\\u060c \\u064d\\u0639\\u064f\\u0628\\u0631 \\u0651\\u062a\\u0627\\u0652\\u0631\\u064a\\u062e\\u0647\\u0627\\u0652\\u060c\\u064e \\u0641\\u064c\\u064a\\u0651 \\u0652\\u062a\\u064b\\u0641\\u0639\\u064a\\u0644 \\u0627\\u0651\\u0644\\u0639\\u0650\\u0645\\u064b\\u0644\\u064b \\u0627\\u064e\\u0644\\u062b\\u0650\\u0642\\u064e\\u0627\\u0650\\u0641\\u0651\\u064a \\u0641\\u064f\\u064a \\u0627\\u064d\\u0644\\u0634\\u0627\\u0652\\u0631\\u0642\\u0629\\u060c \\u0627\\u0646\\u0637\\u0644\\u064d\\u0627\\u0642\\u0627\\u064b\\u0651 \\u0645\\u0650\\u0646\\u064b \\u062a\\u0623\\u0633\\u064f\\u064a\\u0633\\u0651 \\u064c\\u062f\\u0627\\u0652\\u0626\\u0631\\u0629\\u064d \\u0652\\u0627\\u0650\\u0644\\u064f\\u062b\\u0642\\u064b\\u0627\\u0641\\u0629 \\u064d\\u0648\\u0627\\u064c\\u0644\\u0625\\u0651\\u0639\\u0644\\u0627\\u0650\\u0645\\u064f\\u060c\\u0651 \\u0648\\u0650\\u062a\\u0644\\u0641\\u0632\\u064a\\u0648\\u064b\\u0646 \\u0627\\u0644\\u064f\\u0634\\u0627\\u064c\\u0631\\u0642\\u0652\\u0629\\u0650 \\u0648\\u0645\\u0627 \\u062a\\u062e\\u064d\\u0644\\u064c\\u0644\\u064f \\u0630\\u0644\\u0643\\u064c \\u064e\\u0645\\u064b\\u0646\\u064f \\u0625\\u064b\\u0628\\u0631\\u0627\\u0632\\u064f \\u0648\\u062a\\u0634\\u062c\\u064c\\u064a\\u064f\\u0639\\u064d \\u064f\\u0644\\u0644\\u062b\\u0642\\u064b\\u0627\\u064c\\u0641\\u0629 \\u0648\\u064b\\u0627\\u064b\\u0644\\u0641\\u0646\\u064e\\u0648\\u064d\\u0646\\u064e \\u0645\\u0646\\u064f \\u064f\\u062e\\u0644\\u0627\\u0644 \\u064b\\u0627\\u064f\\u0644\\u064f\\u0645\\u064d\\u0639\\u064d\\u0627\\u0631\\u0636 \\u0627\\u0644\\u0651\\u0641\\u064f\\u0646\\u064a\\u064b\\u0629\\u064f \\u0648\\u064d\\u0627\\u0644\\u0650\\u0641\\u0639\\u0627\\u064e\\u0644\\u064a\\u0627\\u062a\\u0652 \\u064f\\u0627\\u0652\\u0644\\u064c\\u062b\\u0642\\u064b\\u0627\\u0651\\u0641\\u064b\\u064a\\u0629 \\u064f\\u0627\\u0644\\u062a\\u064f\\u064a \\u0651\\u062a\\u0635\\u0628 \\u064d\\u0641\\u064a \\u0642\\u0627\\u064b\\u0644\\u064b\\u0628\\u0650 \\u0627\\u0644\\u0646\\u064c\\u0647\\u064b\\u0648\\u0636\\u064b \\u0644\\u064b\\u0634\\u0627\\u064b\\u0631\\u064d\\u0642\\u0650\\u0629\\u064d \\u0627\\u0644\\u0652\\u062b\\u0642\\u064f\\u0627\\u0641\\u0652\\u0629\\u064e \\u064d\\u0648\\u0627\\u0644\\u0645\\u064c\\u0639\\u0631\\u0641\\u064e\\u0629\\u064c\\u060c \\u0645\\u064c\\u0627 \\u064a\\u064c\\u062c\\u064b\\u064a\\u0628 \\u0628\\u064b\\u0634\\u0643\\u0644\\u0650 \\u0642\\u064b\\u0637\\u0639\\u0650\\u064a \\u064d\\u0639\\u064c\\u0646\\u064d \\u0627\\u0651\\u0644\\u064e\\u062a\\u064e\\u0633\\u0651\\u0627\\u0624\\u0644 \\u0652\\u0627\\u0644\\u0645\\u0652\\u0631\\u0643\\u0632\\u064b\\u064a\\u0650 \\u0644\\u0645\\u0627\\u0651\\u0630\\u0627\\u0651 \\u064f\\u0627\\u0650\\u0644\\u0634\\u0627\\u0651\\u0631\\u0642\\u0629\\u0651 \\u0639\\u0627\\u064b\\u0635\\u0645\\u0629\\u064f \\u064f\\u0627\\u064d\\u0644\\u064d\\u062b\\u0650\\u0642\\u0627\\u0641\\u064b\\u0629\\u064c \\u0627\\u064d\\u0644\\u0651\\u0625\\u0633\\u064b\\u0644\\u064c\\u0627\\u0645\\u064a\\u0629\\u064e\\u061f \\u064b\\u0648\\u064d\\u0623\\u0650\\u0634\\u0652\\u0627\\u0631 \\u064c\\u0627\\u0644\\u0645\\u062d\\u0627\\u064b\\u0636\\u0651\\u0631\\u064e \\u0652\\u0625\\u064f\\u0644\\u0649 \\u064e\\u0627\\u064d\\u0644\\u064d\\u062d\\u0631\\u0627\\u0643 \\u064d\\u0627\\u0644\\u062b\\u0642\\u0627\\u064e\\u0641\\u064a\\u0650 \\u0650\\u0627\\u0644\\u064b\\u0646\\u064f\\u0634\\u0637\\u0651 \\u0627\\u0644\\u0630\\u064c\\u064a\\u0652 \\u0634\\u0643\\u064b\\u0644\\u064f \\u0652\\u0627\\u0651\\u0644\\u064d\\u0628\\u0650\\u0648\\u0651\\u0627\\u0643\\u064f\\u064a\\u0631 \\u064c\\u0627\\u064d\\u0644\\u064b\\u0623\\u064c\\u0648\\u0644\\u0649\\u064c \\u0651\\u0644\\u0644\\u0651\\u0639\\u0645\\u0651\\u0644 \\u0627\\u0644\\u062b\\u0642\\u0627\\u0641\\u064a \\u0651\\u0641\\u064c\\u064a\\u064b \\u0627\\u0644\\u0652\\u0634\\u0651\\u0627\\u0651\\u0631\\u064f\\u0642\\u0629\\u064c\\u060c\\u0652 \\u0650\\u0627\\u064d\\u0644\\u0630\\u0651\\u064a\\u0651 \\u0634\\u0645\\u064c\\u0644 \\u0643\\u0627\\u0641\\u0629\\u064f \\u064e\\u0627\\u0644\\u064b\\u062c\\u0648\\u0627\\u0646\\u064c\\u0628\\u064c \\u0650\\u0628\\u0645\\u0627\\u064f \\u064b\\u0641\\u0652\\u064a\\u0652\\u0647\\u0627\\u064d \\u0625\\u0646\\u0652\\u0634\\u064c\\u0627\\u0621 \\u0651\\u0627\\u0644\\u0645\\u0631\\u0627\\u0643\\u0652\\u0632 \\u0648\\u0627\\u064e\\u0644\\u0645\\u062f\\u064f\\u0627\\u064d\\u0631\\u0633 \\u064b\\u0648\\u0650\\u0627\\u064c\\u0644\\u0651\\u062c\\u0652\\u0627\\u0645\\u0652\\u0639\\u0651\\u0627\\u062a\\u0652 \\u064f\\u0648\\u0650\\u0627\\u0644\\u0641\\u064f\\u0646\\u0650\\u0648\\u064e\\u0646\\u0652 \\u064b\\u0648\\u064b\\u0627\\u0644\\u0652\\u0645\\u0651\\u0633\\u064e\\u0627\\u0650\\u0631\\u062d \\u064d\\u0644\\u062a\\u0651\\u0639\\u0632\\u064b\\u064a\\u0632 \\u0627\\u0644\\u0641\\u0639\\u0644\\u064b \\u0627\\u0644\\u064b\\u062b\\u064e\\u0642\\u064e\\u0627\\u0651\\u0641\\u064c\\u064a\\u064d \\u0648\\u064c\\u062a\\u0633\\u0631\\u064a\\u064c\\u0639\\u064f \\u0639\\u062c\\u064f\\u0644\\u0629\\u064f \\u0627\\u0644\\u0650\\u0646\\u064e\\u0634\\u0627\\u0637\\u0652 \\u064d\\u0627\\u0644\\u062b\\u0642\\u064c\\u0627\\u0651\\u0641\\u0650\\u064a \\u064b\\u0641\\u064a \\u0627\\u064d\\u0644\\u0651\\u0634\\u0627\\u064b\\u0631\\u0642\\u0629\\u0650\\u060c\\u0651 \\u0643\\u0645\\u064c\\u0627 \\u064d\\u062a\\u0650\\u0645 \\u062a\\u062e\\u0635\\u064a\\u0635\\u064f \\u064f\\u0645\\u064c\\u0633\\u0650\\u0627\\u062d\\u0629 \\u0645\\u064c\\u0639\\u062a\\u064b\\u0628\\u0651\\u0631\\u064f\\u0629\\u064e \\u064b\\u0644\\u0644\\u0637\\u0641\\u0644\\u064f \\u0648\\u062b\\u0642\\u0652\\u0627\\u0652\\u0641\\u064c\\u062a\\u0647\\u064c\\u060c\\u0650 \\u0645\\u0646\\u0651 \\u062e\\u0652\\u0644\\u064f\\u0627\\u0644 \\u0625\\u0646\\u0634\\u064b\\u0627\\u0652\\u0621\\u064e \\u0651\\u0645\\u064f\\u0631\\u064c\\u0627\\u0643\\u0652\\u0632 \\u064c\\u0645\\u064c\\u0643\\u062a\\u0628\\u0652\\u0627\\u064c\\u062a \\u064e\\u0627\\u0644\\u064e\\u0623\\u0650\\u0637\\u064d\\u0641\\u064c\\u0627\\u0644\\u060c \\u0648\\u064d\\u0645\\u064d\\u0631\\u0652\\u0627\\u0643\\u0632 \\u064e\\u0627\\u064c\\u0644\\u0623\\u0637\\u0641\\u064c\\u0627\\u064d\\u0644\\u064d\\u060c \\u062b\\u0645\\u064c \\u0645\\u0652\\u0631\\u064d\\u0627\\u0643\\u0632 \\u064b\\u0627\\u064e\\u0644\\u0652\\u0646\\u0627\\u0634\\u0651\\u0626\\u0629\\u060c \\u0641\\u0645\\u0652\\u062c\\u064f\\u0644\\u0633 \\u064b\\u0623\\u064e\\u0639\\u0644\\u0649\\u064e \\u0652\\u0644\\u064f\\u0644\\u0637\\u0641\\u064e\\u0644\\u0652 \\u0625\\u064e\\u0644\\u0649 \\u064c\\u063a\\u064a\\u0631 \\u0630\\u064b\\u0644\\u0643 \\u0651\\u0645\\u0646 \\u0627\\u0644\\u0633\\u064b\\u064a\\u0627\\u0633\\u064c\\u0627\\u062a \\u064b\\u0627\\u0644\\u0652\\u062a\\u064a\\u064c \\u064e\\u0627\\u0650\\u0639\\u0650\\u062a\\u064b\\u0645\\u064b\\u062f\\u0647\\u0650\\u0627\\u064e \\u064d\\u0635\\u0651\\u0627\\u0652\\u062d\\u0628\\u0650 \\u0652\\u0627\\u0652\\u0644\\u0633\\u064c\\u0645\\u0648\\u064f \\u064b\\u0627\\u064b\\u0644\\u0650\\u0634\\u064f\\u064a\\u064d\\u062e \\u064f\\u0627\\u0644\\u062f\\u064b\\u0643\\u062a\\u0648\\u064f\\u0631 \\u064b\\u0633\\u064d\\u0644\\u064f\\u0637\\u0627\\u0646 \\u0628\\u0646 \\u0645\\u064e\\u062d\\u064c\\u0645\\u062f \\u0627\\u0650\\u0644\\u0642\\u0652\\u0627\\u0633\\u0645\\u064a\\u0652 \\u064e\\u0639\\u064d\\u0636\\u0648\\u064f \\u0627\\u0644\\u0645\\u062c\\u0650\\u0644\\u0633\\u064b \\u064c\\u0627\\u064d\\u0644\\u064b\\u0623\\u0639\\u0651\\u0644\\u0652\\u0649 \\u062d\\u064b\\u0627\\u0643\\u064c\\u0645\\u064e \\u064f\\u0627\\u064e\\u0644\\u0634\\u064e\\u0627\\u0650\\u0631\\u0642\\u064c\\u0629\\u0652 \\u064e\\u0644\\u0644\\u0650\\u0631\\u0642\\u0652\\u064a\\u064e \\u064c\\u0628\\u062b\\u0650\\u0642\\u064c\\u0627\\u064f\\u0641\\u064d\\u0629\\u0652 \\u0627\\u0652\\u0644\\u0637\\u0650\\u0641\\u0644 \\u0648\\u0652\\u062a\\u0646\\u064d\\u0645\\u064a\\u0651\\u0629 \\u0652\\u0645\\u064c\\u062f\\u064f\\u0627\\u064e\\u0631\\u064c\\u0643\\u0652\\u0647\\u0652 \\u0648\\u064d\\u0642\\u064e\\u062f\\u0631\\u0652\\u0627\\u0651\\u062a\\u064d\\u0647\\u064b \\u0650. \\u0648\\u064b\\u0630\\u0647\\u064d\\u0628\\u064b \\u0627\\u064c\\u0644\\u0645\\u0650\\u062d\\u0651\\u0627\\u0650\\u0636\\u064b\\u0631 \\u0625\\u064d\\u0644\\u0650\\u0649\\u0650 \\u064f\\u0623\\u0646\\u064e \\u064f\\u0627\\u0644\\u0652\\u0633\\u064c\\u064a\\u0651\\u0627\\u0633\\u0650\\u0627\\u062a\\u064d \\u0627\\u0644\\u062b\\u0652\\u0642\\u0627\\u0641\\u064a\\u0629\\u064b \\u0648\\u0627\\u0644\\u062a\\u064d\\u0648\\u062c\\u064c\\u064a\\u064b\\u0647\\u0627\\u062a\\u0650 \\u0650\\u0627\\u064b\\u0644\\u064d\\u0646\\u064e\\u064a\\u0651\\u0631\\u0629\\u064c \\u0644\\u064e\\u0635\\u064c\\u0627\\u062d\\u0650\\u0628\\u064c \\u0627\\u0644\\u0633\\u0645\\u0648 \\u064d\\u062d\\u0627\\u064c\\u0643\\u0652\\u0645\\u064b \\u0627\\u064d\\u0644\\u0634\\u064c\\u0627\\u0631\\u064f\\u0642\\u0629 \\u064b\\u062c\\u064c\\u0639\\u0644\\u0650\\u062a\\u064f \\u0650\\u0645\\u064e\\u0646 \\u0627\\u0651\\u0644\\u0639\\u064d\\u0645\\u064c\\u0644\\u064e \\u0627\\u0644\\u064d\\u062b\\u064b\\u0642\\u0627\\u064d\\u0641\\u064f\\u064a\\u0652 \\u0641\\u064a\\u064e \\u0627\\u0652\\u0644\\u064d\\u0634\\u0627\\u0631\\u064f\\u0642\\u0651\\u0629\\u064c \\u0639\\u0645\\u0644\\u0627\\u064b\\u0650 \\u0646\\u064e\\u0634\\u064d\\u0637\\u0651\\u0627\\u064b \\u0648\\u0651\\u0642\\u0651\\u0648\\u0651\\u064a\\u0652\\u0627\\u064b\\u064c \\u064e\\u0633\\u0648\\u064f\\u0627\\u0621 \\u064f\\u0645\\u064d\\u0646 \\u0652\\u062e\\u0652\\u0644\\u0650\\u0627\\u0644 \\u062a\\u064d\\u0648\\u064e\\u062c\\u0650\\u064a\\u0647\\u0627\\u064c\\u062a\\u064c \\u0650\\u0633\\u064e\\u0645\\u0651\\u0648\\u0647 \\u064c\\u0644\\u064e\\u0644\\u0627\\u0652\\u0631\\u062a\\u064d\\u0642\\u0651\\u0627\\u0621 \\u064c\\u0628\\u0627\\u0651\\u0644\\u064f\\u0641\\u0646\\u064f \\u0627\\u064d\\u0644\\u064d\\u062a\\u0634\\u064f\\u0643\\u064a\\u064e\\u0644\\u064e\\u064a\\u0652 \\u0648\\u064b\\u062a\\u0634\\u064f\\u062c\\u064d\\u064a\\u0639 \\u064b\\u0627\\u0652\\u0644\\u0641\\u0646\\u0627\\u0650\\u0646\\u064a\\u0646\\u060c\\u064c \\u0648\\u064f\\u0627\\u0642\\u062a\\u0646\\u064d\\u0627\\u0621\\u064c \\u0652\\u0623\\u064c\\u0639\\u064e\\u0645\\u064e\\u0627\\u0644 \\u0641\\u064b\\u0646\\u0651\\u064a\\u064e\\u0629\\u064e \\u0644\\u0645\\u0635\\u0650\\u0644\\u0652\\u062d\\u064d\\u0629\\u064f \\u064f\\u0645\\u062a\\u064b\\u062d\\u064d\\u0641\\u0651 \\u0627\\u0644\\u064b\\u0634\\u0627\\u0631\\u0651\\u0642\\u0629\\u060c \\u0648\\u064f\\u0625\\u064c\\u0646\\u062c\\u0627\\u0632 \\u064e\\u0642\\u0652\\u0627\\u0639\\u0629 \\u064e\\u062e\\u064f\\u0627\\u0651\\u0635\\u0629\\u0652 \\u064f\\u0628\\u0627\\u064f\\u0644\\u0622\\u062b\\u0650\\u0627\\u0651\\u0631 \\u0627\\u064b\\u0644\\u0625\\u0633\\u064d\\u0644\\u064c\\u0627\\u064d\\u0645\\u0651\\u064a\\u0629\\u064b \\u064f\\u0641\\u064e\\u064a \\u0645\\u062a\\u062d\\u0641 \\u0627\\u0652\\u0644\\u064d\\u0634\\u0627\\u0651\\u0631\\u0642\\u064e\\u0629\\u060c\\u064c \\u064d\\u0623\\u064b\\u0645\\u064e \\u0645\\u064f\\u0646 \\u062e\\u064c\\u0644\\u0627\\u0651\\u0644 \\u0650\\u0627\\u0633\\u064b\\u062a\\u0643\\u0645\\u0651\\u0627\\u064d\\u0644 \\u0627\\u0652\\u0644\\u0645\\u0652\\u0634\\u0652\\u0631\\u0648\\u0639\\u0627\\u064d\\u062a\\u064c \\u0627\\u0644\\u062b\\u0652\\u0642\\u0651\\u0627\\u0652\\u0641\\u064a\\u0629\\u064c \\u0648\\u064e\\u062a\\u0631\\u0645\\u064a\\u0645 \\u0627\\u0651\\u0644\\u0645\\u0628\\u0627\\u0646\\u064c\\u064a\\u064f \\u0627\\u0644\\u064d\\u062a\\u0650\\u0631\\u0627\\u0650\\u062b\\u064a\\u0650\\u0629 \\u0652\\u0648\\u063a\\u064a\\u0631\\u0647\\u064b\\u0627\\u064f \\u0645\\u064f\\u0646 \\u0627\\u064e\\u0644\\u0651\\u0623\\u0639\\u0651\\u0645\\u0627\\u0644 \\u064c\\u0648\\u0650\\u0627\\u0644\\u0623\\u064f\\u0646\\u0634\\u064e\\u0637\\u0629 \\u0652\\u0627\\u0644\\u062a\\u064a \\u062a\\u0635\\u0628 \\u0641\\u064a\\u064d \\u064e\\u0635\\u0645\\u064e\\u064a\\u0651\\u0645\\u0651 \\u064b\\u0627\\u0644\\u0650\\u0641\\u0639\\u0651\\u0644\\u064d \\u0627\\u064f\\u0644\\u064e\\u062b\\u064c\\u0642\\u0627\\u064b\\u0641\\u0651\\u064a .\\u0648\\u0623\\u0652\\u0643\\u064e\\u062f\\u064d \\u0627\\u0652\\u0644\\u0650\\u0645\\u0650\\u062d\\u0650\\u0627\\u064c\\u0636\\u0631 \\u0623\\u064d\\u0646 \\u0627\\u064c\\u0644\\u064e\\u062f\\u064e\\u0648\\u0652\\u0631\\u0629\\u0652 \\u064b\\u0627\\u0652\\u0644\\u064c\\u0623\\u064c\\u0648\\u064c\\u0644\\u064f\\u0649\\u0651 \\u0644\\u0645\\u064e\\u0639\\u0631\\u064d\\u0636\\u064d \\u0627\\u0644\\u0650\\u0643\\u0650\\u062a\\u0651\\u0627\\u0628\\u060c \\u0627\\u0644\\u0630\\u064d\\u064a \\u0623\\u0635\\u0651\\u0628\\u062d \\u0627\\u0651\\u0644\\u0652\\u064a\\u064f\\u0648\\u064c\\u0645\\u0651 \\u0648\\u062c\\u064b\\u0647\\u0629 \\u0639\\u0627\\u064b\\u0644\\u0651\\u0645\\u064a\\u0650\\u0629 \\u0644\\u0651\\u0644\\u0643\\u062a\\u0627\\u064d\\u0628\\u064e \\u064c\\u0648\\u0627\\u0644\\u0650\\u0645\\u0641\\u064e\\u0643\\u064b\\u0631\\u064a\\u0650\\u0646 \\u064e\\u0645\\u0650\\u0646\\u0650 \\u0623\\u0650\\u0646\\u064d\\u062d\\u064d\\u0627\\u064d\\u0621\\u064c \\u0627\\u064e\\u0644\\u0650\\u0639\\u0651\\u0627\\u0651\\u0644\\u0645\\u0652 \\u0638\\u0652\\u0644\\u0627\\u0644\\u0647\\u064c \\u0627\\u0644\\u0650\\u0648\\u0627\\u0631\\u064f\\u0641\\u0629\\u064e\\u060c\\u064f \\u0634\\u064d\\u0643\\u064d\\u0644\\u062a\\u0650 \\u064d\\u0646\\u064f\\u0642\\u064b\\u0637\\u0629 \\u064f\\u0627\\u064f\\u0646\\u064c\\u0637\\u0644\\u064e\\u0627\\u0652\\u0642 \\u064f\\u0648\\u062a\\u062d\\u0648\\u0650\\u0651\\u064d\\u0644 \\u0641\\u0652\\u064a\\u064d \\u0627\\u064e\\u0644\\u0645\\u0634\\u0652\\u0631\\u0652\\u0648\\u0639 \\u0652\\u0627\\u0644\\u0651\\u062b\\u0642\\u0652\\u0627\\u0652\\u0641\\u064d\\u064a\\u064f \\u0652\\u0644\\u064d\\u0635\\u0627\\u062d\\u0628 \\u064c\\u0627\\u064d\\u0644\\u064e\\u0633\\u0651\\u0645\\u0650\\u0648\\u064d \\u0650\\u062d\\u064d\\u0627\\u0643\\u0645\\u064f \\u0627\\u0652\\u0644\\u0634\\u0652\\u0627\\u064b\\u0631\\u0642\\u0651\\u0629\\u060c\\u0652 \\u0643\\u0652\\u0645\\u064b\\u0627\\u064e \\u064c\\u062a\\u0632\\u064f\\u0627\\u064d\\u0645\\u0646 \\u064c\\u0645\\u064c\\u0639\\u0651 \\u064e\\u0647\\u0650\\u0630\\u0647 \\u0627\\u0644\\u062f\\u0648\\u0631\\u0651\\u0629 \\u0627\\u064b\\u0641\\u0652\\u062a\\u062a\\u0627\\u062d \\u0645\\u064f\\u0643\\u064b\\u062a\\u0628\\u0652\\u0629\\u064e \\u0627\\u0644\\u064b\\u0645\\u064f\\u062d\\u0650\\u0645\\u0651\\u0648\\u062f\\u064e \\u0652(\\u0651\\u0627\\u0644\\u0652\\u0623\\u064b\\u0647\\u064f\\u0644\\u0650\\u064a\\u0629\\u0652)\\u0652\\u060c\\u0652 \\u0651\\u062b\\u064c\\u0645 \\u064b\\u0627\\u0644\\u0650\\u0645\\u0651\\u0631\\u064f\\u0643\\u0652\\u0632\\u0651 \\u064e\\u0627\\u0652\\u0644\\u064c\\u062b\\u0651\\u0642\\u0627\\u0641\\u0652\\u064a\\u064d \\u064f\\u0641\\u064a\\u0645\\u0627\\u0652 \\u0628\\u0639\\u062f\\u064d .\\u0652\\u0648\\u0651\\u0627\\u064c\\u0639\\u062a\\u0628\\u064d\\u0631 \\u0627\\u064d\\u0644\\u064c\\u0645\\u062d\\u064e\\u0627\\u064b\\u0636\\u0651\\u0631 \\u064b\\u0623\\u0646 \\u064b\\u062d\\u064b\\u0632\\u0645\\u0629 \\u0652\\u0627\\u0652\\u0644\\u064c\\u0645\\u064d\\u0647\\u064d\\u0631\\u062c\\u064d\\u0627\\u064d\\u0646\\u0627\\u0651\\u062a \\u0652\\u0648\\u0651\\u0627\\u0644\\u064f\\u0641\\u064b\\u0639\\u0650\\u0627\\u0644\\u064a\\u0650\\u0627\\u0651\\u062a\\u064b \\u0627\\u0644\\u0652\\u062a\\u064a\\u0650 \\u062a\\u0642\\u0652\\u0627\\u0650\\u0645 \\u0652\\u0639\\u0644\\u0651\\u0649 \\u0645\\u062f\\u0627\\u064c\\u0631\\u0650 \\u0627\\u064e\\u0644\\u0639\\u0627\\u0645\\u0650 \\u0650\\u0641\\u064a \\u064c\\u0627\\u0644\\u064e\\u0634\\u0627\\u064d\\u0631\\u0642\\u0629\\u064f\\u060c\\u0652 \\u0651\\u0648\\u0645\\u0627 \\u064a\\u0651\\u062a\\u064c\\u062e\\u0644\\u0650\\u0644\\u0647\\u064f\\u0627\\u0651 \\u0645\\u0646 \\u0623\\u0646\\u0634\\u0637\\u064c\\u0629\\u064d \\u062b\\u0642\\u064d\\u0627\\u0641\\u0652\\u064a\\u0629\\u064f \\u064c\\u0645\\u0651\\u062a\\u064f\\u0646\\u0648\\u064d\\u0639\\u0652\\u0629 \\u064d\\u062a\\u064c\\u0634\\u064b\\u0643\\u0652\\u0644\\u064f \\u064f\\u0623\\u064d\\u0648\\u062c\\u064c \\u0650\\u0627\\u064f\\u0644\\u062d\\u0631\\u064d\\u0627\\u0652\\u0643\\u0651 \\u064f\\u0627\\u064e\\u0644\\u062b\\u0642\\u0627\\u0641\\u064b\\u064a\\u064f\\u060c\\u064d \\u0648\\u0631\\u0627\\u0651\\u0641\\u0652\\u062f\\u0652\\u0627\\u064f\\u064b\\u0651 \\u0623\\u0633\\u0627\\u064d\\u0633\\u064d\\u064a\\u064e\\u0627\\u064c\\u064b \\u0644\\u0644\\u064c\\u062a\\u0641\\u0652\\u0627\\u0639\\u0644\\u0651 \\u0651\\u0648\\u0652\\u0627\\u0644\\u0652\\u062a\\u0646\\u0627\\u0650\\u063a\\u0645 \\u0627\\u0644\\u064b\\u062b\\u0650\\u0642\\u0627\\u064b\\u0641\\u064c\\u064a \\u064d\\u0641\\u064a\\u0651 \\u0625\\u0645\\u0627\\u0631\\u0652\\u0629\\u0652 \\u062a\\u0632\\u064c\\u062f\\u0651\\u0627\\u064c\\u0646 \\u0648\\u062a\\u0652\\u0632\\u062f\\u064d\\u0647\\u0651\\u064a\\u0650 \\u0643\\u0644 \\u064e\\u062d\\u064e\\u064a\\u064e\\u0646 \\u0628\\u0651\\u0644\\u0650\\u0641\\u064f\\u062a\\u064c\\u0629\\u064b \\u0643\\u064d\\u0631\\u064a\\u0645\\u0629\\u0651 \\u0648\\u064d\\u0633\\u064c\\u0627\\u064e\\u0646\\u062d\\u0629 \\u064e\\u0637\\u064a\\u064e\\u0628\\u0629 \\u0645\\u0650\\u0646 \\u0652\\u062d\\u0627\\u064e\\u0643\\u064b\\u0645 \\u0645\\u062b\\u0642\\u0641\\u0652\\u060c \\u064a\\u064e\\u062d\\u064b\\u0645\\u064d\\u0644\\u0652 \\u0639\\u0644\\u0649 \\u0639\\u064d\\u0627\\u064b\\u062a\\u064f\\u0642\\u0647 \\u064b\\u0627\\u064e\\u0644\\u064e\\u0646\\u0651\\u0647\\u064f\\u0648\\u064d\\u0636 \\u064f\\u0628\\u0652\\u0627\\u064c\\u0644\\u062b\\u064d\\u0642\\u064f\\u0627\\u064c\\u0641\\u064b\\u0629\\u064c \\u0648\\u064f\\u0627\\u064c\\u0644\\u064b\\u0645\\u064e\\u0639\\u064b\\u0631\\u0650\\u0641\\u0629 \\u064b.\\u0648\\u062e\\u0651\\u0644\\u0650\\u0635 \\u064f\\u0627\\u0650\\u0644\\u0650\\u0645\\u062d\\u064b\\u0627\\u0636\\u0631 \\u0625\\u064e\\u0644\\u0651\\u0649\\u0652 \\u0623\\u064b\\u0646 \\u064c\\u062b\\u064e\\u0645\\u0629\\u0651 \\u064b\\u062b\\u0644\\u0627\\u064e\\u062b\\u064c \\u0646\\u0642\\u0651\\u0627\\u0637 \\u064e\\u0644\\u064b\\u0644\\u0650\\u0627\\u064b\\u0631\\u064c\\u062a\\u0642\\u0650\\u0627\\u0621\\u064b \\u064e\\u0628\\u064d\\u0627\\u064d\\u0644\\u0641\\u0643\\u0652\\u0631\\u0629 \\u064d\\u0627\\u064d\\u0644\\u062b\\u0642\\u0651\\u0627\\u0641\\u064d\\u064a\\u064d\\u0629\\u0650 \\u0641\\u064e\\u064a\\u064d \\u064f\\u0627\\u0644\\u064c\\u0634\\u064d\\u0627\\u0631\\u0652\\u0642\\u0629 \\u0623\\u064d\\u0648\\u0644\\u0650\\u0647\\u0627 \\u064d\\u062a\\u0652\\u0623\\u064b\\u0633\\u064e\\u064a\\u0633 \\u0650\\u062f\\u0652\\u0627\\u0652\\u0626\\u0650\\u0631\\u0652\\u0629\\u064e \\u064e\\u0627\\u0644\\u062b\\u0642\\u0651\\u0627\\u0641\\u0629 \\u0648\\u064e\\u0627\\u0650\\u0644\\u064e\\u0625\\u0639\\u0650\\u0644\\u0627\\u0645\\u0651\\u060c \\u064c\\u0648\\u0650\\u062b\\u0652\\u0627\\u0646\\u064a\\u0647\\u0651\\u0627\\u064c \\u0627\\u062c\\u062a\\u0651\\u0645\\u064d\\u0627\\u064d\\u0639 \\u064e\\u0635\\u0627\\u062d\\u0650\\u0628\\u0650 \\u0627\\u0651\\u0644\\u0651\\u0633\\u0651\\u0645\\u0648\\u064d \\u0650\\u062d\\u0627\\u064f\\u0643\\u064b\\u0645 \\u0627\\u0644\\u064f\\u0634\\u0652\\u0627\\u064b\\u0631\\u0642\\u064d\\u0629\\u0651 \\u064c\\u0628\\u0643\\u064f\\u0648\\u0650\\u0627\\u062f\\u064c\\u0631 \\u0627\\u0644\\u064b\\u062f\\u064b\\u0627\\u0650\\u0626\\u0631\\u064b\\u0629 \\u064c\\u0648\\u0642\\u0651\\u062f\\u064f\\u0651\\u0645 \\u0641\\u0651\\u064a\\u0647\\u064f \\u0645\\u062c\\u0650\\u0645\\u064b\\u0648\\u064d\\u0639\\u0651\\u0629\\u064d \\u0645\\u064f\\u0646 \\u0652\\u0627\\u064e\\u0644\\u0633\\u064a\\u0651\\u0627\\u0651\\u0633\\u0627\\u062a \\u0651\\u0627\\u0644\\u062b\\u0642\\u064c\\u0627\\u064b\\u0641\\u064a\\u064e\\u0629 \\u0648\\u064c\\u0627\\u0644\\u062e\\u0651\\u0637\\u0637\\u064b \\u0627\\u0644\\u064d\\u062a\\u0646\\u0645\\u064e\\u0648\\u064a\\u0650\\u0629 \\u0651\\u0648\\u062f\\u0652\\u0639\\u0627 \\u064c\\u0633\\u0650\\u0645\\u064b\\u0648\\u064c\\u0647 \\u064c\\u0625\\u0650\\u0644\\u064f\\u0649: \\u0627\\u0644\\u0627\\u0647\\u0651\\u062a\\u064f\\u0645\\u0627\\u064f\\u0645 \\u0628\\u064b\\u0627\\u0650\\u0644\\u064f\\u0645\\u0652\\u0633\\u0631\\u062d\\u060c\\u0652 \\u0648\\u064b\\u0627\\u0651\\u0644\\u0623\\u0637\\u064c\\u0631\\u0650 \\u0627\\u064d\\u0644\\u0651\\u0639\\u0627\\u064b\\u0645\\u0629 \\u064e\\u0644\\u0644\\u0650\\u062b\\u064e\\u0642\\u0627\\u064d\\u0641\\u0629\\u064d\\u060c\\u0651 \\u0651\\u0627\\u064c\\u0644\\u0650\\u0627\\u0631\\u064f\\u062a\\u0642\\u0627\\u064f\\u0621\\u064c \\u0628\\u064d\\u0627\\u0650\\u0644\\u0639\\u0645\\u0651\\u0644\\u064e \\u0627\\u0644\\u0651\\u062a\\u064d\\u0634\\u0643\\u0651\\u064a\\u0644\\u064a\\u0650\\u060c \\u0627\\u0651\\u0644\\u0627\\u064f\\u0647\\u064f\\u062a\\u0645\\u064d\\u0627\\u0645 \\u0650\\u0628\\u0650\\u0627\\u0651\\u0644\\u064b\\u0648\\u0639\\u0651\\u064a \\u064b\\u0648\\u0650\\u0627\\u0652\\u0644\\u064f\\u0630\\u0627\\u0626\\u0650\\u0642\\u0651\\u0629\\u064c \\u0627\\u0651\\u0644\\u062c\\u0650\\u0645\\u064d\\u0627\\u0652\\u0644\\u0652\\u064a\\u0652\\u0629\\u064f\\u060c \\u0627\\u064d\\u0644\\u0650\\u0627\\u0647\\u064f\\u062a\\u0645\\u0627\\u0651\\u0645\\u0652 \\u064f\\u0628\\u064d\\u0627\\u0644\\u0637\\u0641\\u0644\\u0651\\u060c \\u0651\\u062a\\u0637\\u0648\\u064a\\u0631\\u064b \\u0634\\u0628\\u0643\\u0629\\u0652 \\u0627\\u0644\\u0645\\u0643\\u062a\\u064b\\u0628\\u0627\\u062a\\u060c\\u0652 \\u064e\\u0627\\u0633\\u062a\\u0643\\u064f\\u0645\\u064d\\u0627\\u0644\\u064d \\u0639\\u064b\\u0645\\u064b\\u0644\\u0652\\u064a\\u0627\\u062a \\u064c\\u0627\\u0644\\u064f\\u062a\\u0631\\u0645\\u064a\\u0645\\u0650\\u060c \\u064b\\u0627\\u0644\\u064d\\u0627\\u0647\\u064b\\u062a\\u064c\\u0645\\u0652\\u0627\\u0650\\u0645\\u064d \\u0650\\u0628\\u062b\\u064e\\u0642\\u0652\\u0627\\u064b\\u0641\\u064e\\u0629\\u064d \\u0650\\u0627\\u064d\\u0644\\u0645\\u0650\\u0631\\u064b\\u0623\\u064b\\u0629 \\u0650\\u0648\\u064b\\u0627\\u064f\\u0644\\u064d\\u0637\\u0641\\u0652\\u0644 .\\u0652 \\u064c.\\u064d)\\u064f \\u064b\\u0648\\u062b\\u064b\\u0627\\u064d\\u0644\\u0651\\u062b\\u064b\\u0647\\u064e\\u0627\\u064f \\u064b\\u0625\\u0650\\u0639\\u0650\\u0644\\u0651\\u0627\\u064b\\u0646\\u064f \\u0627\\u0644\\u0634\\u0627\\u0631\\u0642\\u0629\\u064f \\u0651\\u0639\\u0627\\u064d\\u0635\\u064e\\u0645\\u0629\\u064c \\u0644\\u0644\\u064b\\u062b\\u0642\\u064b\\u0627\\u0641\\u0629 \\u064b\\u0627\\u0652\\u0644\\u064e\\u0639\\u0651\\u0631\\u0628\\u064a\\u0629\\u064f \\u064b\\u0641\\u064a\\u064b \\u0639\\u0627\\u0645 19\\u06529\\u064d8 \\u064e\\u0644\\u0645\\u0627 \\u062a\\u062a\\u0645\\u064b\\u064a\\u0632\\u064f \\u0628\\u064f\\u0647\\u064e \\u064e\\u0645\\u064b\\u0646\\u064b \\u064b\\u0646\\u064e\\u0634\\u0650\\u0627\\u0637 \\u0651\\u0648\\u064f\\u062d\\u064b\\u0631\\u0627\\u0643\\u064d \\u064f\\u062b\\u0642\\u0627\\u0641\\u064a\\u0650 \\u0645\\u0652\\u0645\\u064c\\u064a\\u0632\\u064d\\u060c\\u064e \\u064b\\u0641\\u0636\\u0644\\u0627\\u064b\\u064e \\u064f\\u0639\\u0650\\u0646 \\u062f\\u0648\\u0631\\u064b \\u064c\\u0627\\u0644\\u064d\\u062c\\u064f\\u0648\\u0627\\u0652\\u0626\\u064f\\u0632\\u0651 \\u0648\\u0635\\u0650\\u0646\\u064f\\u0627\\u062f\\u0651\\u064a\\u064b\\u0642 \\u064f\\u0627\\u064b\\u0644\\u062f\\u064d\\u0639\\u064c\\u0645\\u060c \\u064d\\u0648\\u0627\\u064f\\u0644\\u062f\\u0628\\u0652\\u0644\\u064b\\u0648\\u0645\\u0627\\u0633\\u064d\\u064a\\u0629 \\u064f\\u0627\\u0650\\u0644\\u064b\\u062b\\u0652\\u0642\\u0627\\u0641\\u0651\\u064a\\u0629\\u060c\\u064e \\u0648\\u0639\\u0650\\u062f\\u062f \\u0648\\u0652\\u0646\\u064c\\u0648\\u0639 \\u064b\\u0627\\u064b\\u0644\\u064c\\u062c\\u064b\\u0627\\u0645\\u0639\\u0650\\u0627\\u064c\\u062a \\u0648\\u0627\\u0644\\u064e\\u0645\\u0650\\u0631\\u0627\\u0652\\u0643\\u0632\\u060c \\u064f\\u0648\\u0627\\u064b\\u0644\\u0625\\u064f\\u062d\\u0635\\u064c\\u0627\\u0650\\u0621\\u064e \\u0627\\u0651\\u0644\\u0627\\u064b\\u062c\\u064f\\u062a\\u0645\\u0627\\u0650\\u0639\\u0650\\u064a\\u0651 \\u064b\\u0641\\u0651\\u064a \\u0628\\u0644\\u0648\\u064e\\u0631\\u0629\\u064f \\u064b\\u0648\\u064c\\u062a\\u064b\\u0631\\u0633\\u0652\\u064a\\u062e \\u064c\\u0645\\u064d\\u0643\\u064e\\u0627\\u0646\\u0629 \\u064b\\u0627\\u0644\\u0651\\u0634\\u0627\\u0651\\u0631\\u064e\\u0642\\u0629 \\u064d\\u0639\\u0627\\u0635\\u0645\\u0629\\u064f \\u0651\\u0644\\u064c\\u0644\\u0651\\u062b\\u064d\\u0642\\u0627\\u064d\\u0641\\u0629\\u064e \\u064c\\u0627\\u064c\\u0644\\u0652\\u0639\\u0650\\u0631\\u0628\\u064a\\u064c\\u0629 \\u0650\\u0648\\u0652\\u0627\\u0644\\u0625\\u064d\\u0633\\u0644\\u0627\\u0651\\u0645\\u064a\\u0652\\u0629\\u060c \\u0648\\u0643\\u064f\\u0644 \\u0651\\u0630\\u0652\\u0644\\u064b\\u0643 \\u064b\\u0628\\u062c\\u0647\\u062f \\u0651\\u0635\\u0651\\u0627\\u062d\\u0628\\u064d \\u0650\\u0627\\u0644\\u064d\\u0633\\u064e\\u0645\\u0648\\u0650 \\u064b\\u062d\\u0650\\u0627\\u064c\\u0643\\u064f\\u0645 \\u064d\\u0627\\u0644\\u0634\\u0627\\u0631\\u064c\\u0642\\u0629 \\u0627\\u064e\\u0644\\u0650\\u0630\\u064a\\u064b \\u064e\\u0639\\u0645\\u064f\\u0644 \\u0651\\u0648\\u064d\\u0644\\u0627 \\u064a\\u0632\\u064f\\u0627\\u064e\\u0644 \\u0628\\u0634\\u063a\\u0641\\u0652 \\u0648\\u062d\\u0628\\u064f \\u0639\\u064f\\u0644\\u0649\\u0652 \\u062a\\u064c\\u0639\\u0632\\u064b\\u064a\\u064b\\u0632\\u064e \\u064c\\u0627\\u064f\\u0644\\u064e\\u062a\\u0646\\u064b\\u0645\\u0651\\u064a\\u064d\\u0629\\u064c \\u0627\\u064e\\u0644\\u064b\\u062b\\u0642\\u064e\\u0627\\u064d\\u0641\\u064c\\u064a\\u0629 \\u064e\\u0641\\u0650\\u064a\\u064f \\u0627\\u0652\\u0644\\u064e\\u0634\\u0627\\u0631\\u064e\\u0642\\u064d\\u0629\\u064e \\u0645\\u0646\\u0650 \\u062e\\u064b\\u0644\\u0650\\u0627\\u0650\\u0644\\u0651 \\u0651\\u0633\\u064e\\u0646\\u0651 \\u0648\\u0625\\u0642\\u064b\\u0631\\u0651\\u0627\\u0631 \\u0645\\u062c\\u0645\\u0648\\u064c\\u0639\\u064e\\u0629\\u064e \\u0645\\u064f\\u0646\\u0651 \\u0627\\u064b\\u0644\\u0645\\u064d\\u0634\\u0650\\u0631\\u0648\\u0639\\u064f\\u0627\\u064f\\u062a\\u0652 \\u0627\\u0644\\u0651\\u062b\\u0650\\u0642\\u0627\\u0652\\u0641\\u0650\\u064a\\u0629\\u064c \\u0650\\u0627\\u0644\\u062a\\u064d\\u064a \\u064e\\u062a\\u064c\\u0647\\u064e\\u062f\\u064d\\u0641\\u064e \\u0625\\u064e\\u0644\\u0650\\u0649 \\u0652\\u062a\\u062d\\u0642\\u064a\\u0642 \\u0630\\u0644\\u0643\\u064d\\u060c\\u064b \\u0650\\u062d\\u062a\\u0650\\u0649 \\u0652\\u0623\\u064e\\u0635\\u0628\\u062d\\u062a\\u0651 \\u064c\\u0627\\u064e\\u0644\\u0634\\u0627\\u064c\\u0631\\u064c\\u0642\\u064b\\u0629\\u0652 \\u0627\\u0644\\u0651\\u064a\\u0648\\u064c\\u0645 \\u0651\\u0648\\u064f\\u062c\\u0647\\u064b\\u0629\\u064e \\u064a\\u0624\\u064f\\u0645\\u064e\\u0647\\u064c\\u0627 \\u0652\\u0627\\u0644\\u064e\\u0645\\u0641\\u064e\\u0643\\u0631\\u0651\\u0648\\u0651\\u0646 \\u0648\\u0650\\u0627\\u0644\\u0645\\u0651\\u062b\\u0642\\u0650\\u0641\\u0651\\u0648\\u0646 \\u0648\\u0627\\u0644\\u0645\\u064f\\u0628\\u064c\\u062f\\u0639\\u064c\\u0648\\u0650\\u0646 \\u0652\\u0648\\u0652\\u0627\\u0651\\u0644\\u064c\\u0643\\u062a\\u064c\\u0627\\u0628\\u0650 \\u064c\\u0645\\u0650\\u0646\\u064f \\u0634\\u062a\\u0650\\u0649\\u064e \\u0623\\u064f\\u0646\\u064d\\u062d\\u0627\\u0621 \\u0627\\u064d\\u0644\\u0652\\u0639\\u0627\\u0644\\u064f\\u0645\\u060c\\u0650 \\u064e\\u0634\\u064b\\u0627\\u0652\\u0645\\u062e\\u0651\\u0629\\u064e \\u0631\\u0627\\u0633\\u062e\\u064b\\u0629 \\u064c\\u0628\\u064c\\u0639\\u0651\\u0637\\u064c\\u0627\\u0626\\u064f\\u0647\\u0650\\u0627 \\u064e\\u0648\\u062a\\u064b\\u0642\\u0650\\u062f\\u0645\\u0647\\u064d\\u0627 \\u0650.\\u064f\"\n        ],\n        \"semantic_type\": \"\",\n        \"description\": \"\"\n      }\n    },\n    {\n      \"column\": \"label\",\n      \"properties\": {\n        \"dtype\": \"category\",\n        \"num_unique_values\": 7,\n        \"samples\": [\n          \"Culture\",\n          \"Finance\",\n          \"Sports\"\n        ],\n        \"semantic_type\": \"\",\n        \"description\": \"\"\n      }\n    }\n  ]\n}"
            }
          },
          "metadata": {},
          "execution_count": 23
        }
      ]
    },
    {
      "cell_type": "code",
      "source": [
        "df.dtypes"
      ],
      "metadata": {
        "colab": {
          "base_uri": "https://localhost:8080/",
          "height": 147
        },
        "id": "IqOOnGi4CPvk",
        "outputId": "a59f6fb9-e813-4760-d1b8-4b106766b4a5"
      },
      "execution_count": 24,
      "outputs": [
        {
          "output_type": "execute_result",
          "data": {
            "text/plain": [
              "text     object\n",
              "label    object\n",
              "dtype: object"
            ],
            "text/html": [
              "<div>\n",
              "<style scoped>\n",
              "    .dataframe tbody tr th:only-of-type {\n",
              "        vertical-align: middle;\n",
              "    }\n",
              "\n",
              "    .dataframe tbody tr th {\n",
              "        vertical-align: top;\n",
              "    }\n",
              "\n",
              "    .dataframe thead th {\n",
              "        text-align: right;\n",
              "    }\n",
              "</style>\n",
              "<table border=\"1\" class=\"dataframe\">\n",
              "  <thead>\n",
              "    <tr style=\"text-align: right;\">\n",
              "      <th></th>\n",
              "      <th>0</th>\n",
              "    </tr>\n",
              "  </thead>\n",
              "  <tbody>\n",
              "    <tr>\n",
              "      <th>text</th>\n",
              "      <td>object</td>\n",
              "    </tr>\n",
              "    <tr>\n",
              "      <th>label</th>\n",
              "      <td>object</td>\n",
              "    </tr>\n",
              "  </tbody>\n",
              "</table>\n",
              "</div><br><label><b>dtype:</b> object</label>"
            ]
          },
          "metadata": {},
          "execution_count": 24
        }
      ]
    },
    {
      "cell_type": "code",
      "source": [
        "df"
      ],
      "metadata": {
        "colab": {
          "base_uri": "https://localhost:8080/",
          "height": 424
        },
        "id": "yHU4NoiYCXJ_",
        "outputId": "f711330b-2a84-4e83-ca7d-3342e63be003"
      },
      "execution_count": 25,
      "outputs": [
        {
          "output_type": "execute_result",
          "data": {
            "text/plain": [
              "                                                    text    label\n",
              "0      https://example.com/resource/الشاٌرقة -ْ محمِد...  Culture\n",
              "1      https://example.com/resource/اَنِطٌلقّتَ ٍفٍيّ...  Culture\n",
              "2      https://example.com/resource/أُقيًمٌتِ مِساءُ ...  Culture\n",
              "3      https://example.com/resource/بٍاسُمةَ يًوٌنٍس ...  Culture\n",
              "4      https://example.com/resource/قُرر اَتحِاد اًلْ...  Culture\n",
              "...                                                  ...      ...\n",
              "39880  https://example.com/resource/أعلّنت شّركٌةً بّ...     Tech\n",
              "39881  https://example.com/resource/بُتٍاَرٌيًخَ 28ْ ...     Tech\n",
              "39882  https://example.com/resource/دبَيُ:َ «ُاَلخليج...     Tech\n",
              "39883  https://example.com/resource/LٌG GًS2ْ9ً0 Coْo...     Tech\n",
              "39884  https://example.com/resource/تنطًلقٍ اٌليومّ َ...     Tech\n",
              "\n",
              "[39885 rows x 2 columns]"
            ],
            "text/html": [
              "\n",
              "  <div id=\"df-be869a70-0dbf-4257-8ec6-fe62187d8bc1\" class=\"colab-df-container\">\n",
              "    <div>\n",
              "<style scoped>\n",
              "    .dataframe tbody tr th:only-of-type {\n",
              "        vertical-align: middle;\n",
              "    }\n",
              "\n",
              "    .dataframe tbody tr th {\n",
              "        vertical-align: top;\n",
              "    }\n",
              "\n",
              "    .dataframe thead th {\n",
              "        text-align: right;\n",
              "    }\n",
              "</style>\n",
              "<table border=\"1\" class=\"dataframe\">\n",
              "  <thead>\n",
              "    <tr style=\"text-align: right;\">\n",
              "      <th></th>\n",
              "      <th>text</th>\n",
              "      <th>label</th>\n",
              "    </tr>\n",
              "  </thead>\n",
              "  <tbody>\n",
              "    <tr>\n",
              "      <th>0</th>\n",
              "      <td>https://example.com/resource/الشاٌرقة -ْ محمِد...</td>\n",
              "      <td>Culture</td>\n",
              "    </tr>\n",
              "    <tr>\n",
              "      <th>1</th>\n",
              "      <td>https://example.com/resource/اَنِطٌلقّتَ ٍفٍيّ...</td>\n",
              "      <td>Culture</td>\n",
              "    </tr>\n",
              "    <tr>\n",
              "      <th>2</th>\n",
              "      <td>https://example.com/resource/أُقيًمٌتِ مِساءُ ...</td>\n",
              "      <td>Culture</td>\n",
              "    </tr>\n",
              "    <tr>\n",
              "      <th>3</th>\n",
              "      <td>https://example.com/resource/بٍاسُمةَ يًوٌنٍس ...</td>\n",
              "      <td>Culture</td>\n",
              "    </tr>\n",
              "    <tr>\n",
              "      <th>4</th>\n",
              "      <td>https://example.com/resource/قُرر اَتحِاد اًلْ...</td>\n",
              "      <td>Culture</td>\n",
              "    </tr>\n",
              "    <tr>\n",
              "      <th>...</th>\n",
              "      <td>...</td>\n",
              "      <td>...</td>\n",
              "    </tr>\n",
              "    <tr>\n",
              "      <th>39880</th>\n",
              "      <td>https://example.com/resource/أعلّنت شّركٌةً بّ...</td>\n",
              "      <td>Tech</td>\n",
              "    </tr>\n",
              "    <tr>\n",
              "      <th>39881</th>\n",
              "      <td>https://example.com/resource/بُتٍاَرٌيًخَ 28ْ ...</td>\n",
              "      <td>Tech</td>\n",
              "    </tr>\n",
              "    <tr>\n",
              "      <th>39882</th>\n",
              "      <td>https://example.com/resource/دبَيُ:َ «ُاَلخليج...</td>\n",
              "      <td>Tech</td>\n",
              "    </tr>\n",
              "    <tr>\n",
              "      <th>39883</th>\n",
              "      <td>https://example.com/resource/LٌG GًS2ْ9ً0 Coْo...</td>\n",
              "      <td>Tech</td>\n",
              "    </tr>\n",
              "    <tr>\n",
              "      <th>39884</th>\n",
              "      <td>https://example.com/resource/تنطًلقٍ اٌليومّ َ...</td>\n",
              "      <td>Tech</td>\n",
              "    </tr>\n",
              "  </tbody>\n",
              "</table>\n",
              "<p>39885 rows × 2 columns</p>\n",
              "</div>\n",
              "    <div class=\"colab-df-buttons\">\n",
              "\n",
              "  <div class=\"colab-df-container\">\n",
              "    <button class=\"colab-df-convert\" onclick=\"convertToInteractive('df-be869a70-0dbf-4257-8ec6-fe62187d8bc1')\"\n",
              "            title=\"Convert this dataframe to an interactive table.\"\n",
              "            style=\"display:none;\">\n",
              "\n",
              "  <svg xmlns=\"http://www.w3.org/2000/svg\" height=\"24px\" viewBox=\"0 -960 960 960\">\n",
              "    <path d=\"M120-120v-720h720v720H120Zm60-500h600v-160H180v160Zm220 220h160v-160H400v160Zm0 220h160v-160H400v160ZM180-400h160v-160H180v160Zm440 0h160v-160H620v160ZM180-180h160v-160H180v160Zm440 0h160v-160H620v160Z\"/>\n",
              "  </svg>\n",
              "    </button>\n",
              "\n",
              "  <style>\n",
              "    .colab-df-container {\n",
              "      display:flex;\n",
              "      gap: 12px;\n",
              "    }\n",
              "\n",
              "    .colab-df-convert {\n",
              "      background-color: #E8F0FE;\n",
              "      border: none;\n",
              "      border-radius: 50%;\n",
              "      cursor: pointer;\n",
              "      display: none;\n",
              "      fill: #1967D2;\n",
              "      height: 32px;\n",
              "      padding: 0 0 0 0;\n",
              "      width: 32px;\n",
              "    }\n",
              "\n",
              "    .colab-df-convert:hover {\n",
              "      background-color: #E2EBFA;\n",
              "      box-shadow: 0px 1px 2px rgba(60, 64, 67, 0.3), 0px 1px 3px 1px rgba(60, 64, 67, 0.15);\n",
              "      fill: #174EA6;\n",
              "    }\n",
              "\n",
              "    .colab-df-buttons div {\n",
              "      margin-bottom: 4px;\n",
              "    }\n",
              "\n",
              "    [theme=dark] .colab-df-convert {\n",
              "      background-color: #3B4455;\n",
              "      fill: #D2E3FC;\n",
              "    }\n",
              "\n",
              "    [theme=dark] .colab-df-convert:hover {\n",
              "      background-color: #434B5C;\n",
              "      box-shadow: 0px 1px 3px 1px rgba(0, 0, 0, 0.15);\n",
              "      filter: drop-shadow(0px 1px 2px rgba(0, 0, 0, 0.3));\n",
              "      fill: #FFFFFF;\n",
              "    }\n",
              "  </style>\n",
              "\n",
              "    <script>\n",
              "      const buttonEl =\n",
              "        document.querySelector('#df-be869a70-0dbf-4257-8ec6-fe62187d8bc1 button.colab-df-convert');\n",
              "      buttonEl.style.display =\n",
              "        google.colab.kernel.accessAllowed ? 'block' : 'none';\n",
              "\n",
              "      async function convertToInteractive(key) {\n",
              "        const element = document.querySelector('#df-be869a70-0dbf-4257-8ec6-fe62187d8bc1');\n",
              "        const dataTable =\n",
              "          await google.colab.kernel.invokeFunction('convertToInteractive',\n",
              "                                                    [key], {});\n",
              "        if (!dataTable) return;\n",
              "\n",
              "        const docLinkHtml = 'Like what you see? Visit the ' +\n",
              "          '<a target=\"_blank\" href=https://colab.research.google.com/notebooks/data_table.ipynb>data table notebook</a>'\n",
              "          + ' to learn more about interactive tables.';\n",
              "        element.innerHTML = '';\n",
              "        dataTable['output_type'] = 'display_data';\n",
              "        await google.colab.output.renderOutput(dataTable, element);\n",
              "        const docLink = document.createElement('div');\n",
              "        docLink.innerHTML = docLinkHtml;\n",
              "        element.appendChild(docLink);\n",
              "      }\n",
              "    </script>\n",
              "  </div>\n",
              "\n",
              "\n",
              "<div id=\"df-f8121917-d4e5-44bc-b6ea-cbaf0bb8ce91\">\n",
              "  <button class=\"colab-df-quickchart\" onclick=\"quickchart('df-f8121917-d4e5-44bc-b6ea-cbaf0bb8ce91')\"\n",
              "            title=\"Suggest charts\"\n",
              "            style=\"display:none;\">\n",
              "\n",
              "<svg xmlns=\"http://www.w3.org/2000/svg\" height=\"24px\"viewBox=\"0 0 24 24\"\n",
              "     width=\"24px\">\n",
              "    <g>\n",
              "        <path d=\"M19 3H5c-1.1 0-2 .9-2 2v14c0 1.1.9 2 2 2h14c1.1 0 2-.9 2-2V5c0-1.1-.9-2-2-2zM9 17H7v-7h2v7zm4 0h-2V7h2v10zm4 0h-2v-4h2v4z\"/>\n",
              "    </g>\n",
              "</svg>\n",
              "  </button>\n",
              "\n",
              "<style>\n",
              "  .colab-df-quickchart {\n",
              "      --bg-color: #E8F0FE;\n",
              "      --fill-color: #1967D2;\n",
              "      --hover-bg-color: #E2EBFA;\n",
              "      --hover-fill-color: #174EA6;\n",
              "      --disabled-fill-color: #AAA;\n",
              "      --disabled-bg-color: #DDD;\n",
              "  }\n",
              "\n",
              "  [theme=dark] .colab-df-quickchart {\n",
              "      --bg-color: #3B4455;\n",
              "      --fill-color: #D2E3FC;\n",
              "      --hover-bg-color: #434B5C;\n",
              "      --hover-fill-color: #FFFFFF;\n",
              "      --disabled-bg-color: #3B4455;\n",
              "      --disabled-fill-color: #666;\n",
              "  }\n",
              "\n",
              "  .colab-df-quickchart {\n",
              "    background-color: var(--bg-color);\n",
              "    border: none;\n",
              "    border-radius: 50%;\n",
              "    cursor: pointer;\n",
              "    display: none;\n",
              "    fill: var(--fill-color);\n",
              "    height: 32px;\n",
              "    padding: 0;\n",
              "    width: 32px;\n",
              "  }\n",
              "\n",
              "  .colab-df-quickchart:hover {\n",
              "    background-color: var(--hover-bg-color);\n",
              "    box-shadow: 0 1px 2px rgba(60, 64, 67, 0.3), 0 1px 3px 1px rgba(60, 64, 67, 0.15);\n",
              "    fill: var(--button-hover-fill-color);\n",
              "  }\n",
              "\n",
              "  .colab-df-quickchart-complete:disabled,\n",
              "  .colab-df-quickchart-complete:disabled:hover {\n",
              "    background-color: var(--disabled-bg-color);\n",
              "    fill: var(--disabled-fill-color);\n",
              "    box-shadow: none;\n",
              "  }\n",
              "\n",
              "  .colab-df-spinner {\n",
              "    border: 2px solid var(--fill-color);\n",
              "    border-color: transparent;\n",
              "    border-bottom-color: var(--fill-color);\n",
              "    animation:\n",
              "      spin 1s steps(1) infinite;\n",
              "  }\n",
              "\n",
              "  @keyframes spin {\n",
              "    0% {\n",
              "      border-color: transparent;\n",
              "      border-bottom-color: var(--fill-color);\n",
              "      border-left-color: var(--fill-color);\n",
              "    }\n",
              "    20% {\n",
              "      border-color: transparent;\n",
              "      border-left-color: var(--fill-color);\n",
              "      border-top-color: var(--fill-color);\n",
              "    }\n",
              "    30% {\n",
              "      border-color: transparent;\n",
              "      border-left-color: var(--fill-color);\n",
              "      border-top-color: var(--fill-color);\n",
              "      border-right-color: var(--fill-color);\n",
              "    }\n",
              "    40% {\n",
              "      border-color: transparent;\n",
              "      border-right-color: var(--fill-color);\n",
              "      border-top-color: var(--fill-color);\n",
              "    }\n",
              "    60% {\n",
              "      border-color: transparent;\n",
              "      border-right-color: var(--fill-color);\n",
              "    }\n",
              "    80% {\n",
              "      border-color: transparent;\n",
              "      border-right-color: var(--fill-color);\n",
              "      border-bottom-color: var(--fill-color);\n",
              "    }\n",
              "    90% {\n",
              "      border-color: transparent;\n",
              "      border-bottom-color: var(--fill-color);\n",
              "    }\n",
              "  }\n",
              "</style>\n",
              "\n",
              "  <script>\n",
              "    async function quickchart(key) {\n",
              "      const quickchartButtonEl =\n",
              "        document.querySelector('#' + key + ' button');\n",
              "      quickchartButtonEl.disabled = true;  // To prevent multiple clicks.\n",
              "      quickchartButtonEl.classList.add('colab-df-spinner');\n",
              "      try {\n",
              "        const charts = await google.colab.kernel.invokeFunction(\n",
              "            'suggestCharts', [key], {});\n",
              "      } catch (error) {\n",
              "        console.error('Error during call to suggestCharts:', error);\n",
              "      }\n",
              "      quickchartButtonEl.classList.remove('colab-df-spinner');\n",
              "      quickchartButtonEl.classList.add('colab-df-quickchart-complete');\n",
              "    }\n",
              "    (() => {\n",
              "      let quickchartButtonEl =\n",
              "        document.querySelector('#df-f8121917-d4e5-44bc-b6ea-cbaf0bb8ce91 button');\n",
              "      quickchartButtonEl.style.display =\n",
              "        google.colab.kernel.accessAllowed ? 'block' : 'none';\n",
              "    })();\n",
              "  </script>\n",
              "</div>\n",
              "\n",
              "  <div id=\"id_39ccc4e3-2cde-4d4d-b67f-b19f26d5548c\">\n",
              "    <style>\n",
              "      .colab-df-generate {\n",
              "        background-color: #E8F0FE;\n",
              "        border: none;\n",
              "        border-radius: 50%;\n",
              "        cursor: pointer;\n",
              "        display: none;\n",
              "        fill: #1967D2;\n",
              "        height: 32px;\n",
              "        padding: 0 0 0 0;\n",
              "        width: 32px;\n",
              "      }\n",
              "\n",
              "      .colab-df-generate:hover {\n",
              "        background-color: #E2EBFA;\n",
              "        box-shadow: 0px 1px 2px rgba(60, 64, 67, 0.3), 0px 1px 3px 1px rgba(60, 64, 67, 0.15);\n",
              "        fill: #174EA6;\n",
              "      }\n",
              "\n",
              "      [theme=dark] .colab-df-generate {\n",
              "        background-color: #3B4455;\n",
              "        fill: #D2E3FC;\n",
              "      }\n",
              "\n",
              "      [theme=dark] .colab-df-generate:hover {\n",
              "        background-color: #434B5C;\n",
              "        box-shadow: 0px 1px 3px 1px rgba(0, 0, 0, 0.15);\n",
              "        filter: drop-shadow(0px 1px 2px rgba(0, 0, 0, 0.3));\n",
              "        fill: #FFFFFF;\n",
              "      }\n",
              "    </style>\n",
              "    <button class=\"colab-df-generate\" onclick=\"generateWithVariable('df')\"\n",
              "            title=\"Generate code using this dataframe.\"\n",
              "            style=\"display:none;\">\n",
              "\n",
              "  <svg xmlns=\"http://www.w3.org/2000/svg\" height=\"24px\"viewBox=\"0 0 24 24\"\n",
              "       width=\"24px\">\n",
              "    <path d=\"M7,19H8.4L18.45,9,17,7.55,7,17.6ZM5,21V16.75L18.45,3.32a2,2,0,0,1,2.83,0l1.4,1.43a1.91,1.91,0,0,1,.58,1.4,1.91,1.91,0,0,1-.58,1.4L9.25,21ZM18.45,9,17,7.55Zm-12,3A5.31,5.31,0,0,0,4.9,8.1,5.31,5.31,0,0,0,1,6.5,5.31,5.31,0,0,0,4.9,4.9,5.31,5.31,0,0,0,6.5,1,5.31,5.31,0,0,0,8.1,4.9,5.31,5.31,0,0,0,12,6.5,5.46,5.46,0,0,0,6.5,12Z\"/>\n",
              "  </svg>\n",
              "    </button>\n",
              "    <script>\n",
              "      (() => {\n",
              "      const buttonEl =\n",
              "        document.querySelector('#id_39ccc4e3-2cde-4d4d-b67f-b19f26d5548c button.colab-df-generate');\n",
              "      buttonEl.style.display =\n",
              "        google.colab.kernel.accessAllowed ? 'block' : 'none';\n",
              "\n",
              "      buttonEl.onclick = () => {\n",
              "        google.colab.notebook.generateWithVariable('df');\n",
              "      }\n",
              "      })();\n",
              "    </script>\n",
              "  </div>\n",
              "\n",
              "    </div>\n",
              "  </div>\n"
            ],
            "application/vnd.google.colaboratory.intrinsic+json": {
              "type": "dataframe",
              "variable_name": "df",
              "summary": "{\n  \"name\": \"df\",\n  \"rows\": 39885,\n  \"fields\": [\n    {\n      \"column\": \"text\",\n      \"properties\": {\n        \"dtype\": \"string\",\n        \"num_unique_values\": 39885,\n        \"samples\": [\n          \"https://example.com/resource/\\u0628\\u0652\\u0644\\u0650\\u063a\\u062a \\u064e\\u062a\\u0633\\u064e\\u064a\\u064a\\u0644\\u0651\\u0627\\u064b\\u062a\\u064d \\u0627\\u0652\\u0644\\u0623\\u0652\\u062c\\u064e\\u0627\\u0646\\u0651\\u0628\\u064e \\u064e\\u0641\\u064a \\u0633\\u064d\\u0648\\u0652\\u0642\\u0650 \\u064e\\u062f\\u0628\\u064a \\u0627\\u0644\\u0645\\u064d\\u0627\\u0650\\u0644\\u064d\\u064a\\u064d \\u0623\\u0645\\u064d\\u0633\\u064e 59\\u064f \\u0645\\u0644\\u064d\\u064a\\u0648\\u0646\\u0627\\u0650\\u064b\\u0652\\u060c \\u0651\\u0641\\u0651\\u0642\\u062f \\u0650\\u0628\\u0652\\u0644\\u064b\\u063a\\u062a \\u064b\\u0642\\u0651\\u064a\\u064f\\u0645\\u0651\\u0629\\u0651 \\u0645\\u064f\\u0634\\u064b\\u062a\\u064f\\u0631\\u0650\\u064a\\u0627\\u062a \\u064e\\u0627\\u0644\\u0652\\u0623\\u062c\\u0627\\u064d\\u0646\\u064d\\u0628\\u064b\\u060c\\u064b \\u063a\\u0652\\u064a\\u0651\\u0631\\u064d \\u0627\\u0652\\u0644\\u0639\\u0631\\u064c\\u0628\\u060c\\u064f \\u0645\\u0650\\u0646\\u0651 \\u064c\\u0627\\u0644\\u0623\\u0633\\u064c\\u0647\\u064d\\u0645 \\u064c\\u062e\\u064f\\u0644\\u0627\\u064c\\u0644\\u064f \\u0647\\u0650\\u0630\\u064e\\u0627 \\u0627\\u064c\\u0644\\u064a\\u0648\\u0650\\u0645 \\u064d\\u0646\\u064b\\u062d\\u064c\\u0648 9\\u064b4\\u064d \\u064e.\\u065113\\u06526 \\u0645\\u0644\\u0652\\u064a\\u064c\\u0648\\u064b\\u0646\\u064c \\u062f\\u0631\\u0647\\u0645 \\u0641\\u064a\\u0651 \\u0652\\u062d\\u0652\\u064a\\u064f\\u0646\\u0651 \\u0628\\u0644\\u063a\\u064e\\u062a\\u064d \\u064b\\u0642\\u064c\\u064a\\u0645\\u0629\\u064c \\u064b\\u0645\\u064b\\u0628\\u064a\\u0639\\u0627\\u062a\\u0647\\u0645\\u064e \\u0646\\u064b\\u062d\\u0648\\u0652 2\\u06500 .22\\u064b6 \\u0650\\u0645\\u064b\\u0644\\u064a\\u0651\\u0648\\u0646 \\u0652\\u062f\\u0631\\u0650\\u0647\\u0645\\u064f .\\u064f \\u0643\\u0645\\u0627 \\u0650\\u0628\\u0644\\u064e\\u063a\\u064b\\u062a \\u0642\\u0652\\u064a\\u0645\\u0629\\u0650 \\u0645\\u064d\\u0634\\u064b\\u062a\\u064c\\u0631\\u0652\\u064a\\u0627\\u062a \\u064b\\u0627\\u0644\\u0645\\u0633\\u064d\\u062a\\u062b\\u064f\\u0645\\u064b\\u0631\\u064b\\u064a\\u064b\\u0646\\u064b \\u0627\\u0644\\u0652\\u0639\\u0650\\u0631\\u0650\\u0628\\u060c\\u064b \\u064f\\u063a\\u064a\\u0631 \\u0651\\u0627\\u0644\\u0652\\u062e\\u0644\\u064d\\u064a\\u064f\\u062c\\u064d\\u064a\\u064a\\u0651\\u0646\\u0650\\u060c\\u0651 \\u062e\\u0644\\u0627\\u0644 \\u0647\\u0650\\u0630\\u0627 \\u0650\\u0627\\u0644\\u0652\\u064a\\u064b\\u0648\\u0645 \\u0646\\u064f\\u062d\\u064d\\u0648\\u064f 07\\u064e .7\\u064c2\\u0650 \\u0645\\u0644\\u064e\\u064a\\u064c\\u0648\\u0646\\u0652 \\u0652\\u062f\\u0631\\u0647\\u064e\\u0645 \\u064d\\u0648\\u0642\\u064b\\u064a\\u0645\\u064c\\u0629\\u064c \\u0645\\u0652\\u0628\\u064e\\u064a\\u064f\\u0639\\u064e\\u0627\\u064b\\u062a\\u0651\\u0647\\u0645 \\u0646\\u062d\\u0648\\u064c \\u065281\\u064b \\u0650.6\\u06504\\u064e \\u064e\\u0645\\u0644\\u064f\\u064a\\u064c\\u0648\\u0646\\u0651 \\u062f\\u064b\\u0631\\u0647\\u064e\\u0645\\u064e .\\u0623\\u064b\\u0645\\u0651\\u0627\\u0652 \\u0652\\u0628\\u0651\\u0627\\u064c\\u0644\\u064e\\u0646\\u064f\\u0633\\u064d\\u0628\\u0629\\u064e \\u064c\\u0644\\u0644\\u0651\\u0645\\u064d\\u0633\\u064c\\u062a\\u064b\\u062b\\u0652\\u0645\\u0631\\u064b\\u064a\\u0646 \\u0652\\u0627\\u0644\\u062e\\u064c\\u0644\\u064a\\u064e\\u062c\\u064a\\u0650\\u064a\\u0646\\u064c \\u064f\\u0641\\u064b\\u0642\\u062f \\u0628\\u0644\\u064b\\u063a\\u0652\\u062a \\u0642\\u064a\\u0645\\u0629 \\u0645\\u0634\\u0652\\u062a\\u064e\\u0631\\u064c\\u064a\\u064f\\u0627\\u064e\\u062a\\u0647\\u0645\\u064b \\u064b9\\u064b1\\u064f \\u0651.4\\u064d3\\u064d \\u0645\\u0650\\u0644\\u064a\\u0648\\u064c\\u0646 \\u064c\\u062f\\u0631\\u0647\\u0645 \\u0641\\u064a\\u064f \\u062d\\u064a\\u0651\\u0646\\u064b \\u064e\\u0628\\u0644\\u064b\\u063a\\u064c\\u062a \\u064b\\u0642\\u064c\\u064a\\u0645\\u064d\\u0629\\u0651 \\u0645\\u0652\\u0628\\u0651\\u064a\\u0652\\u0639\\u0652\\u0627\\u064c\\u062a\\u064c\\u0647\\u0645\\u0652 \\u064f\\u0646\\u064e\\u062d\\u0650\\u0648 4\\u064f8 \\u064f.21\\u064c \\u0645\\u0644\\u064a\\u0648\\u064f\\u0646 \\u064e\\u062f\\u064e\\u0631\\u064d\\u0647\\u064e\\u0645 \\u064e\\u062e\\u0644\\u064c\\u0627\\u0644 \\u0650\\u0646\\u064c\\u0641\\u0633 \\u064f\\u0627\\u0652\\u0644\\u0651\\u0641\\u062a\\u0631\\u0652\\u0629\\u064c .\",\n          \"https://example.com/resource/\\u062f\\u0628\\u0650\\u064a\\u0650 - \\u0625\\u0650\\u0628\\u064d\\u0631\\u0650\\u0627\\u0647\\u064f\\u064a\\u064c\\u0645\\u0652 \\u0651\\u0627\\u0644\\u064f\\u064a\\u064b\\u0648\\u0633\\u0651\\u0641:\\u064e\\u0628\\u064d\\u062d\\u0636\\u0648\\u0652\\u0631\\u0650 \\u0645\\u064e\\u062d\\u064d\\u0645\\u062f\\u064e \\u0627\\u064d\\u0644\\u0645\\u0652\\u0631\\u060c \\u0631\\u0626\\u064a\\u0633\\u0651 \\u0627\\u0644\\u0645\\u064c\\u062c\\u064c\\u0644\\u064b\\u0633 \\u0627\\u064c\\u0644\\u0648\\u064d\\u0637\\u064b\\u0646\\u064f\\u064a\\u064d \\u0627\\u0644\\u064e\\u0627\\u062a\\u064b\\u062d\\u0652\\u0627\\u062f\\u064a\\u0650\\u060c\\u064e \\u0648\\u0650\\u0627\\u0651\\u0644\\u064c\\u0642\\u0646\\u0652\\u0635\\u0644 \\u0627\\u0644\\u0639\\u0627\\u0652\\u0645\\u0650 \\u064b\\u0627\\u064d\\u0644\\u0651\\u0643\\u0651\\u0648\\u064a\\u0651\\u062a\\u064e\\u064a\\u064c\\u060c \\u0630\\u064d\\u064a\\u064c\\u0627\\u0628\\u0651 \\u0651\\u0641\\u0631\\u062d\\u0627\\u064e\\u0646 \\u064c\\u0627\\u0652\\u0644\\u0631\\u0634\\u064a\\u0652\\u062f\\u064a\\u0651\\u060c \\u064b\\u0648\\u0633\\u064e\\u0644\\u0651\\u0637\\u0627\\u064b\\u0646\\u064d \\u0627\\u064c\\u0644\\u0652\\u0633\\u0648\\u064f\\u064a\\u062f\\u064d\\u064a \\u064d\\u0631\\u0652\\u0626\\u064a\\u064b\\u0633\\u0652 \\u0645\\u062c\\u064b\\u0644\\u064d\\u0633\\u0650 \\u0625\\u062f\\u0631\\u064d\\u0627\\u0629 \\u0646\\u064b\\u062f\\u0648\\u064e\\u0629\\u064b \\u0627\\u064b\\u0644\\u064c\\u062b\\u0642\\u0627\\u064d\\u0641\\u0629\\u064e \\u064e\\u0648\\u0627\\u064e\\u0644\\u0639\\u0644\\u0648\\u0645\\u060c \\u0648\\u0623\\u0639\\u0652\\u0636\\u0652\\u0627\\u0621 \\u0650\\u0645\\u064d\\u062c\\u064d\\u0644\\u064b\\u0633\\u0650 \\u0627\\u0644\\u0625\\u0651\\u062f\\u0652\\u0627\\u0631\\u064e\\u0629\\u064d\\u060c \\u0625\\u0652\\u0636\\u0627\\u0650\\u0641\\u0629\\u064d \\u0625\\u0644\\u0650\\u0649\\u064f \\u0637\\u0650\\u064a\\u064f\\u0641\\u064b \\u0648\\u0627\\u0633\\u064f\\u0639 \\u0650\\u0648\\u064d\\u0644\\u0627\\u0641\\u0652\\u062a \\u0645\\u0646\\u0651 \\u064d\\u0627\\u0644\\u064e\\u0643\\u0651\\u062a\\u0651\\u064c\\u0627\\u0651\\u0628\\u0650 \\u0648\\u064d\\u0627\\u064b\\u0644\\u0645\\u062b\\u064e\\u0642\\u0641\\u064b\\u064a\\u0646 \\u0648\\u0650\\u0627\\u0644\\u0625\\u0639\\u064e\\u0644\\u0627\\u0645\\u064a\\u064a\\u064d\\u0646 \\u0645\\u064c\\u0646\\u064d \\u0627\\u064e\\u0644\\u0650\\u0628\\u064d\\u0644\\u062f\\u064a\\u0646 . \\u0634\\u0647\\u062f\\u062a\\u064f \\u064e\\u0627\\u064d\\u0644\\u0652\\u0646\\u0650\\u062f\\u0648\\u064c\\u0629\\u064f\\u060c\\u064d \\u0645\\u064c\\u0633\\u0627\\u0621 \\u0650\\u0623\\u0645\\u0633\\u064b \\u0651\\u0627\\u064b\\u0644\\u0652\\u0623\\u064e\\u0648\\u064e\\u0644\\u060c\\u064b \\u0650\\u0627\\u0652\\u062e\\u062a\\u064e\\u062a\\u0652\\u0627\\u0645\\u0651 \\u0641\\u0639\\u0627\\u064e\\u0644\\u064a\\u0627\\u062a\\u064b \\u064e\\u0645\\u0647\\u0650\\u0631\\u064b\\u062c\\u0650\\u0627\\u0646\\u064f \\u064d\\\"\\u064c\\u0643\\u0648\\u0650\\u064a\\u062a\\u064e \\u0627\\u0644\\u0633\\u0644\\u0627\\u064e\\u0645 - \\u0625\\u064b\\u0645\\u0652\\u0627\\u0631\\u064f\\u0627\\u062a \\u064c\\u0627\\u064f\\u0644\\u0650\\u0648\\u064d\\u0641\\u0627\\u0621\\u0650\\\"\\u060c\\u064e \\u0628\\u064c\\u0631\\u0639\\u064d\\u0627\\u064a\\u064d\\u0629 \\u0648\\u064f\\u062a\\u0646\\u0638\\u064a\\u064f\\u0645 \\u0647\\u064a\\u0626\\u0629 \\u062f\\u064b\\u0628\\u064a\\u0652 \\u0644\\u0644\\u064b\\u062b\\u064d\\u0642\\u0627\\u0641\\u0651\\u0629 \\u0648\\u0627\\u0644\\u0652\\u0641\\u0646\\u0648\\u0646 \\u0628\\u0627\\u064c\\u0644\\u062a\\u0639\\u0627\\u0648\\u064d\\u0646 \\u064f\\u0645\\u0650\\u0639\\u064b \\u064c\\u0627\\u0644\\u0642\\u0652\\u0646\\u0635\\u0652\\u0644\\u064b\\u064a\\u064c\\u0629 \\u064c\\u0627\\u0651\\u0644\\u064b\\u0639\\u0627\\u064c\\u0645\\u0629\\u064d \\u0644\\u0650\\u062f\\u0652\\u0648\\u064b\\u0644\\u064b\\u0629\\u064c \\u0652\\u0627\\u0651\\u0644\\u0643\\u0648\\u064a\\u062a \\u064c\\u0641\\u0650\\u064a\\u064f \\u064e\\u0625\\u064d\\u0645\\u0651\\u0627\\u064e\\u0631\\u0629\\u064f \\u062f\\u064c\\u0628\\u064f\\u064a\\u060c\\u0652 \\u0648\\u0651\\u062a\\u0636\\u0645\\u064c\\u0646\\u0651 \\u064d\\u0641\\u0639\\u064d\\u0627\\u064f\\u0644\\u064d\\u064a\\u064e\\u0627\\u062a \\u064f\\u062b\\u0642\\u0651\\u0627\\u064f\\u0641\\u064a\\u0629\\u064e \\u0641\\u0646\\u064a\\u0652\\u0629\\u0650\\u060c \\u0650\\u0648\\u063a\\u064a\\u0631\\u0647\\u0650\\u0627\\u0651 \\u064d.\\u0648\\u0651\\u062a\\u0652\\u0636\\u064c\\u0645\\u0646\\u0651\\u062a\\u064b \\u064e\\u0627\\u0644\\u0641\\u0651\\u0639\\u064e\\u0627\\u0644\\u064d\\u064a\\u0627\\u064c\\u062a\\u0650 \\u0650\\u0639\\u064e\\u0631\\u0636 \\u0641\\u064a\\u0644\\u064f\\u0645 \\u0652\\u0648\\u064b\\u062b\\u0627\\u064e\\u0626\\u064f\\u0642\\u064f\\u064a\\u064f \\u0639\\u064e\\u0646\\u064f \\u064f\\u0627\\u0644\\u062a\\u064d\\u0639\\u064c\\u0627\\u0648\\u064d\\u0646\\u0650 \\u064d\\u0627\\u064c\\u0644\\u0623\\u062e\\u0648\\u064a \\u064f\\u0628\\u0651\\u064a\\u0652\\u0646\\u064b \\u0652\\u0627\\u0644\\u064e\\u0628\\u0644\\u064f\\u062f\\u0650\\u064a\\u064d\\u0646\\u064b \\u0651\\u0627\\u0650\\u0644\\u0634\\u0642\\u0651\\u064a\\u064c\\u0642\\u064e\\u064a\\u0646\\u0650\\u060c \\u064d\\u0642\\u0631\\u0623\\u0651 \\u064c\\u0628\\u0650\\u0639\\u064f\\u062f \\u064b\\u0630\\u064f\\u0644\\u0651\\u0643\\u064f \\u0651\\u0639\\u0628\\u064f\\u062f\\u0627\\u0650\\u0644\\u0644\\u0647 \\u064f\\u0627\\u0644\\u064c\\u0645\\u0637\\u0651\\u064a\\u0631\\u064d\\u064a\\u0650 \\u0643\\u064e\\u0644\\u0645\\u0652\\u0629\\u064c \\u0647\\u064a\\u0650\\u0626\\u0629 \\u062f\\u0628\\u064b\\u064a\\u064e \\u0644\\u0644\\u064b\\u062b\\u0642\\u0627\\u0641\\u0629\\u060c\\u064f \\u062a\\u062d\\u064f\\u062f\\u062b\\u064e \\u064c\\u0641\\u064a\\u0652\\u0647\\u0652\\u0627\\u064c \\u0639\\u0652\\u0646 \\u064f\\u0627\\u0652\\u0644\\u0639\\u0650\\u0644\\u0627\\u0642\\u0627\\u062a \\u0651\\u0627\\u0651\\u0644\\u064d\\u062b\\u0642\\u0650\\u0627\\u0641\\u064a\\u0651\\u0629 \\u0628\\u064b\\u064a\\u0646 \\u064e\\u0627\\u0644\\u0628\\u064b\\u0644\\u0651\\u062f\\u0652\\u064a\\u064d\\u0646\\u064c\\u060c \\u0648\\u064e\\u0643\\u064e\\u064a\\u0651\\u0641 \\u0623\\u0646 \\u0627\\u064e\\u0644\\u064d\\u0643\\u0648\\u064e\\u064a\\u0650\\u062a \\u062f\\u0639\\u0645\\u0651\\u062a\\u064d \\u0650\\u0627\\u0644\\u062d\\u0631\\u0652\\u0643\\u064b\\u0629\\u064b \\u0627\\u064d\\u0644\\u062b\\u0652\\u0642\\u064c\\u0627\\u0641\\u064a\\u0652\\u0629\\u0652 \\u064d\\u0648\\u0627\\u0650\\u0644\\u0651\\u062a\\u0639\\u0651\\u0644\\u064a\\u064f\\u0645\\u064a\\u0629 \\u0641\\u064a \\u0627\\u0644\\u0625\\u0645\\u0627\\u064e\\u0631\\u0627\\u064c\\u062a\\u060c\\u064d \\u064d\\u0648\\u0651\\u0623\\u064f\\u0646\\u064e\\u0634\\u0623\\u062a\\u0651 \\u0641\\u064a\\u064e\\u0647\\u0651\\u0627 \\u064b\\u0627\\u064c\\u0644\\u064f\\u0645\\u064f\\u062f\\u0627\\u064f\\u0631\\u0651\\u0633\\u064b\\u060c\\u0652 \\u064c\\u0625\\u0644\\u064f\\u0649 \\u0651\\u062c\\u0627\\u064b\\u0646\\u0650\\u0628 \\u064c\\u063a\\u0652\\u064a\\u064e\\u0631\\u0647\\u0650\\u0627\\u064c \\u0645\\u0646\\u064c \\u0650\\u0627\\u0644\\u0645\\u064c\\u0631\\u064d\\u0627\\u0641\\u064e\\u0642 \\u0627\\u0651\\u0644\\u0636\\u0631\\u0652\\u0648\\u0631\\u064d\\u064a\\u0650\\u0629\\u064e .\\u064c\\u0628\\u064c\\u0639\\u064b\\u062f\\u0652 \\u0630\\u064f\\u0644\\u0643 \\u0628\\u062f\\u0623\\u0650\\u062a \\u0641\\u064f\\u0639\\u0650\\u0627\\u064c\\u0644\\u064a\\u0627\\u0651\\u062a \\u0627\\u0644\\u064d\\u0646\\u0652\\u062f\\u0648\\u064c\\u0629 \\u0651\\u0627\\u0651\\u0644\\u064b\\u062a\\u064e\\u064a \\u064f\\u0623\\u062f\\u064e\\u0627\\u064c\\u0631\\u0647\\u0627 \\u0651\\u0639\\u0644\\u064e\\u064a\\u064c \\u064c\\u0639\\u064f\\u0628\\u064f\\u064a\\u0651\\u062f \\u0627\\u0644\\u064f\\u0647\\u0650\\u0627\\u0650\\u0645\\u0644\\u064d\\u064a\\u0651\\u060c\\u0651 \\u0652\\u0628\\u0639\\u0651\\u0646\\u064e\\u0648\\u064c\\u0627\\u0651\\u0646 \\\"\\u0650\\u0645\\u0633\\u064a\\u0631\\u064b\\u0629 \\u0627\\u064e\\u0644\\u0652\\u0639\\u0652\\u0644\\u0627\\u064e\\u0642\\u0627\\u062a\\u0651 \\u0627\\u0650\\u0644\\u0625\\u0645\\u0627\\u0652\\u0631\\u0627\\u062a\\u064a\\u0629\\u0651 \\u064b- \\u064c\\u0627\\u0651\\u0644\\u0652\\u0643\\u0648\\u064a\\u062a\\u064e\\u064a\\u064b\\u0629\\\" \\u0648\\u064b\\u0634\\u0627\\u0631\\u0643 \\u064c\\u0641\\u064c\\u064a\\u0647\\u064e\\u0627\\u0651 \\u0643\\u0644\\u064b \\u064e\\u0645\\u0646\\u0651 \\u0650\\u062f\\u0652 . \\u0639\\u0652\\u0628\\u062f\\u0650\\u0627\\u0652\\u0644\\u0644\\u064f\\u0647\\u064c \\u0627\\u0644\\u063a\\u064c\\u0646\\u064a\\u0645 \\u064e(\\u0651\\u0627\\u0644\\u0643\\u0648\\u064f\\u064a\\u064f\\u062a)\\u064f \\u064e\\u0648\\u0628\\u0644\\u0627\\u0644\\u064f \\u0651\\u0627\\u0652\\u0644\\u064f\\u0628\\u0652\\u062f\\u064b\\u0648\\u0631\\u064c \\u0646\\u064b\\u0627\\u064b\\u0626\\u0628 \\u0631\\u064d\\u0626\\u064a\\u064c\\u0633\\u064f \\u0645\\u062c\\u064e\\u0644\\u0633 \\u0625\\u062f\\u0650\\u0627\\u0652\\u0631\\u0652\\u0629\\u064d \\u064d\\u0646\\u064d\\u062f\\u064b\\u0648\\u0629\\u064f \\u0627\\u0644\\u062b\\u0642\\u0627\\u0641\\u0629\\u064e \\u0650\\u0627\\u0644\\u064d\\u0639\\u0652\\u0644\\u064d\\u0648\\u0645\\u064c\\u060c \\u062d\\u0652\\u064a\\u0650\\u062b \\u064d\\u0633\\u0650\\u0644\\u0637\\u064f \\u064b\\u0627\\u0644\\u0647\\u064e\\u0627\\u064c\\u0645\\u064c\\u0644\\u064a \\u0650\\u0627\\u0644\\u0636\\u0648\\u0621\\u064d \\u0639\\u0650\\u0644\\u064b\\u0649\\u0650 \\u0650\\u0627\\u0651\\u0644\\u0633\\u0652\\u064a\\u0631\\u0651\\u0629\\u064b \\u064f\\u0627\\u064b\\u0644\\u064b\\u0645\\u064e\\u0639\\u064b\\u0631\\u0641\\u064a\\u0629\\u0650 \\u064b\\u0644\\u064c\\u0643\\u064b\\u0644\\u064e\\u0627\\u064d \\u0627\\u0650\\u0644\\u0650\\u0643\\u0651\\u0627\\u064e\\u062a\\u0628\\u064a\\u0646 \\u062f .\\u064b \\u064c\\u0627\\u0644\\u0651\\u063a\\u064e\\u0646\\u064d\\u064a\\u064b\\u0645 \\u0650\\u0648\\u0651\\u0627\\u064f\\u0644\\u0628\\u0652\\u062f\\u0648\\u064e\\u0631 .\\u0651 \\u064d\\u0648\\u064b\\u0645\\u0645\\u0627\\u0652 \\u0642\\u0627\\u0644\\u0647 \\u0651\\u0627\\u064e\\u0644\\u0647\\u0627\\u0651\\u0645\\u064b\\u0644\\u064a\\u0651 \\u0641\\u064a\\u064e \\u0645\\u064c\\u0642\\u0651\\u062f\\u0652\\u0645\\u062a\\u0652\\u0647:\\u0651 \\u064b\\u0627\\u0644\\u0643\\u0648\\u064a\\u064b\\u062a \\u064f\\u062a\\u064d\\u0631\\u0643\\u062a \\u0628\\u064c\\u0635\\u0645\\u064d\\u0627\\u064e\\u062a\\u0651\\u0647\\u064c\\u0627\\u064d \\u0639\\u0645\\u064a\\u0651\\u0642\\u064f\\u0627\\u064b\\u064b \\u0639\\u064d\\u0644\\u064c\\u064a\\u0646\\u0627 \\u064c\\u0641\\u064a \\u062f\\u0648\\u0644\\u0651\\u0629 \\u064b\\u0627\\u064d\\u0644\\u064c\\u0625\\u064e\\u0645\\u0627\\u064b\\u0631\\u0627\\u062a\\u060c\\u064e \\u0652\\u0648\\u064c\\u0623\\u0643\\u064e\\u0628\\u0651\\u0631 \\u064c\\u062f\\u0644\\u064a\\u0644\\u064f \\u0650\\u0639\\u0644\\u064d\\u0649\\u064e \\u0650\\u0630\\u0644\\u0643\\u0650 \\u064f\\u0623\\u0651\\u0646 \\u0647\\u0646\\u0627\\u0643\\u064f \\u0652\\u062c\\u064a\\u064e\\u0644\\u064d\\u0627\\u0652\\u064b \\u0625\\u0645\\u0627\\u064f\\u0631\\u064f\\u0627\\u062a\\u064a\\u064d\\u0627\\u064b\\u064f \\u0652\\u0643\\u0627\\u0645\\u064b\\u0644\\u064d\\u0627\\u064d\\u064b\\u064f \\u062a\\u064e\\u0641\\u062a\\u062d\\u0651\\u062a\\u0651 \\u064b\\u0645\\u0650\\u062f\\u0652\\u0627\\u0631\\u0652\\u0643\\u0647\\u064b \\u0639\\u0644\\u0652\\u0649 \\u0651\\u0645\\u064b\\u0627\\u064e \\u0628\\u062b\\u064f\\u062a\\u064c\\u0647\\u064d \\u0627\\u064c\\u0644\\u0650\\u0643\\u064c\\u0648\\u064a\\u062a \\u0652\\u0645\\u0651\\u0646\\u064b \\u064b\\u062a\\u0639\\u0644\\u064a\\u064e\\u0645 \\u064d\\u0648\\u064f\\u062b\\u064c\\u0642\\u0627\\u0641\\u0651\\u0629\\u064d \\u0641\\u064a\\u064d \\u064c\\u0627\\u0644\\u0625\\u064c\\u0645\\u0651\\u0627\\u064b\\u0631\\u0627\\u064c\\u062a\\u064c\\u060c\\u064f \\u0650\\u062c\\u064a\\u0644 \\u0650\\u0643\\u064b\\u0627\\u064f\\u0645\\u0644\\u060c\\u0651 \\u064c\\u062a\\u0652\\u0639\\u0644\\u0645 \\u0648\\u0641\\u0652\\u0642 \\u0651\\u0645\\u0651\\u0646\\u064d\\u0627\\u0650\\u0647\\u064c\\u062c\\u064f \\u0627\\u0644\\u0643\\u0652\\u0648\\u064a\\u062a \\u0627\\u064c\\u0644\\u062a\\u0639\\u0644\\u064a\\u064c\\u0645\\u064c\\u064a\\u064d\\u0629 \\u064c.\\u064e\\u0648\\u0623\\u0634\\u0627\\u0651\\u062f\\u064d \\u064e\\u062f \\u064e.\\u064d \\u0627\\u064e\\u0644\\u063a\\u0646\\u064b\\u064a\\u0645 \\u0650\\u0628\\u0627\\u064c\\u0644\\u062d\\u064a\\u0627\\u0629\\u0650 \\u0651\\u0627\\u0644\\u062a\\u0652\\u0639\\u064b\\u0644\\u064a\\u064f\\u0645\\u064a\\u0629\\u064f \\u0627\\u0644\\u062b\\u0642\\u064b\\u0627\\u064f\\u0641\\u0651\\u064a\\u0629\\u0650 \\u0652\\u0641\\u064e\\u064a\\u064e \\u064f\\u0627\\u0644\\u064c\\u0625\\u0645\\u064b\\u0627\\u0631\\u064c\\u0627\\u062a\\u060c\\u064d \\u0651\\u0648\\u064c\\u0631\\u0623\\u0649\\u064f \\u064e\\u0623\\u064e\\u0646\\u0651\\u0647\\u0627\\u064e \\u062c\\u062f \\u0652\\u0645\\u062a\\u0637\\u0648\\u0631\\u064d\\u0629\\u0652\\u060c\\u0650 \\u0648\\u064e\\u0623\\u0650\\u062f\\u064c\\u0644\\u0649\\u0652 \\u0651\\u0628\\u0623\\u064c\\u0645\\u062b\\u0650\\u0644\\u0629 \\u064c\\u0645\\u0647\\u0651\\u0645\\u0629\\u064f \\u0650\\u0639\\u064f\\u0644\\u0651\\u0649 \\u0630\\u0650\\u0644\\u064e\\u0643\\u064c\\u060c\\u064c \\u0648\\u064c\\u0645\\u064d\\u0646\\u0647\\u0627 \\u0651\\u0623\\u0646 \\u0627\\u0650\\u0644\\u064e\\u0643\\u062b\\u064b\\u064a\\u0631\\u064a\\u064b\\u0646\\u064e \\u064c\\u0645\\u0646\\u0650 \\u0623\\u0628\\u064c\\u0646\\u064e\\u0627\\u0621\\u064f \\u0650\\u0627\\u0644\\u064b\\u0643\\u0648\\u064e\\u064a\\u0650\\u062a \\u0628\\u0627\\u062a\\u064b\\u0648\\u0627 \\u064a\\u064e\\u062a\\u0652\\u0627\\u0652\\u0628\\u0639\\u0650\\u0648\\u0652\\u0646 \\u0652\\u062a\\u062d\\u0652\\u0635\\u064a\\u0644\\u0647\\u0650\\u0645\\u0651 \\u064d\\u0627\\u0651\\u0644\\u0645\\u0639\\u064d\\u0631\\u064f\\u0641\\u064e\\u064a\\u064d \\u064d\\u0641\\u064c\\u064a \\u062c\\u064f\\u0627\\u064e\\u0645\\u0639\\u064d\\u0627\\u064b\\u062a \\u0627\\u0652\\u0644\\u0625\\u0645\\u0650\\u0627\\u0631\\u0627\\u062a\\u0652\\u060c\\u064e \\u0645\\u0646\\u0650 \\u062f\\u064f\\u0648\\u0646\\u064b \\u064e\\u0623\\u064e\\u0646 \\u064f\\u064a\\u064f\\u0634\\u064f\\u0639\\u064f\\u0631\\u0651\\u0648\\u064d\\u0627 \\u0625\\u0644\\u064d\\u0627\\u0650 \\u0628\\u0651\\u0623\\u0646\\u064b\\u0647\\u064c\\u0645\\u064b \\u0641\\u0650\\u064a \\u0628\\u064b\\u064a\\u0648\\u062a\\u0650\\u0647\\u064e\\u0645\\u0651\\u060c \\u0652\\u0648\\u0647\\u0648\\u064e \\u064f\\u0645\\u062f\\u064c\\u0639\\u064c\\u0627\\u064e\\u0629\\u0651 \\u064d\\u0633\\u064b\\u0639\\u0627\\u0650\\u062f\\u0629 \\u064d\\u0623\\u0633\\u0631\\u064d\\u0647\\u0645\\u0651\\u060c \\u0628\\u0652\\u0644 \\u0650\\u0628\\u0644\\u0651\\u062f\\u0647\\u0645\\u064b \\u064d\\u0628\\u0643\\u0627\\u064d\\u0645\\u064d\\u0644\\u0647 \\u064f.\\u0648\\u0642\\u0627\\u0644: \\u0644\\u0645\\u064f \\u064f\\u0623\\u064c\\u0631\\u062f\\u064c \\u064c\\u0623\\u0646\\u0650 \\u064d\\u0623\\u0633\\u064e\\u0645\\u064e\\u064a\\u0652 \\u0646\\u064e\\u062f\\u0650\\u0648\\u062a\\u0650\\u0646\\u0627 \\u0647\\u064b\\u0630\\u0651\\u0647\\u064f \\u0628\\u0627\\u0644\\u062d\\u0648\\u0651\\u0627\\u0652\\u0631\\u064b\\u064a\\u0629\\u0651\\u060c\\u064c \\u0628\\u0650\\u064a\\u0650\\u0646 \\u0645\\u0652\\u062b\\u064e\\u0642\\u0652\\u0641\\u064d\\u064a\\u0650\\u0646\\u0651 \\u0645\\u0650\\u0646\\u064d \\u0628\\u0644\\u062f\\u064a\\u064e\\u0646\\u0627:\\u064b \\u064b\\u0627\\u0644\\u064e\\u0643\\u0648\\u0650\\u064a\\u062a\\u0652 \\u0652\\u0648\\u0627\\u0652\\u0644\\u0625\\u0645\\u064c\\u0627\\u0631\\u0627\\u064c\\u062a\\u060c\\u064f \\u064b\\u0644\\u0623\\u0646 \\u0627\\u0644\\u062d\\u0648\\u064f\\u0627\\u0652\\u0631\\u060c\\u064f \\u0650\\u064a\\u062a\\u0645 \\u064c\\u0639\\u064f\\u0627\\u0650\\u062f\\u0629\\u064d\\u060c \\u0652\\u0628\\u064a\\u064e\\u0646\\u064c \\u0645\\u0650\\u0646\\u064b \\u0652\\u0647\\u064b\\u0645\\u064d \\u0645\\u062e\\u062a\\u064d\\u0644\\u0641\\u0648\\u0646\\u060c \\u0628\\u064a\\u0646 \\u0650\\u0645\\u064c\\u0646 \\u062a\\u064c\\u0643\\u0650\\u0648\\u0646\\u064c \\u064e\\u0647\\u064f\\u0646\\u0627\\u0643 \\u062a\\u0646\\u0627\\u0642\\u0650\\u0636\\u0627\\u062a \\u064b\\u0641\\u064f\\u064a\\u0651\\u0645\\u0627\\u064b \\u0650\\u0628\\u064a\\u0646\\u0652\\u0647\\u0645\\u060c \\u0625\\u0651\\u0646\\u0646\\u064e\\u0627\\u0650 \\u0650\\u0646\\u062a\\u062d\\u062f\\u064c\\u062b \\u064b\\u0636\\u0652\\u0645\\u0646 \\u0652\\u0625\\u0637\\u0652\\u0627\\u0650\\u0631\\u0651 \\u064c\\u0627\\u064c\\u0644\\u064e\\u0628\\u064e\\u064a\\u064b\\u062a\\u0650 \\u064c\\u0627\\u0644\\u0648\\u0652\\u0627\\u062d\\u0651\\u062f\\u060c \\u064f\\u0636\\u064e\\u0645\\u064c\\u0646\\u0650 \\u0625\\u0637\\u0627\\u0631 \\u0627\\u0644\\u064b\\u0623\\u0633\\u064c\\u0631\\u064f\\u0629 \\u0627\\u0644\\u0652\\u0648\\u0650\\u0627\\u062d\\u062f\\u0629\\u060c\\u0651 \\u0648\\u064f\\u0647\\u0646\\u064b\\u0627\\u0650 \\u0627\\u0650\\u0644\\u0641\\u0631\\u0642\\u064f \\u0628\\u064b\\u064a\\u0646\\u064c \\u064c\\u0637\\u064d\\u0628\\u064a\\u0639\\u0629 \\u0651\\u062d\\u062f\\u064a\\u064f\\u062b\\u0646\\u0651\\u0627\\u060c\\u0652 \\u0648\\u0635\\u0641\\u0629\\u064b \\u0627\\u0644\\u062d\\u0650\\u0648\\u0627\\u0631\\u0652 \\u0650.\\u0651\\u0648\\u062a\\u0627\\u0628\\u0651\\u0639\\u064b \\u062f . \\u0627\\u064f\\u0644\\u063a\\u0646\\u064a\\u064f\\u0645 \\u064f\\u0642\\u0651\\u0627\\u0626\\u0644\\u0627\\u064d\\u064b:\\u064d \\u0650\\u0645\\u0652\\u0631\\u0643\\u0650\\u0632 \\u0627\\u064c\\u0644\\u064b\\u0628\\u062d\\u0648\\u064c\\u062b \\u064e\\u0648\\u0627\\u064d\\u0644\\u062f\\u0631\\u064b\\u0627\\u064f\\u0633\\u0627\\u062a\\u0650 \\u0627\\u064c\\u0644\\u0643\\u0650\\u0648\\u064a\\u0650\\u062a\\u064c\\u064a\\u064b \\u064c\\u062c\\u0651\\u0645\\u064b\\u0639\\u0651 \\u0623\\u064d\\u0643\\u0650\\u062b\\u0651\\u0631 \\u064b\\u0645\\u0646 \\u064e\\u0645\\u0644\\u064b\\u064a\\u0648\\u064e\\u0646\\u064f\\u064a \\u0648\\u064e\\u062b\\u0651\\u064a\\u064d\\u0642\\u0629\\u064c \\u0639\\u0646 \\\"\\u0627\\u0644\\u062c\\u064b\\u0646\\u0648\\u064e\\u0628 \\u0648\\u0651\\u0627\\u064e\\u0644\\u062e\\u0644\\u0650\\u064a\\u064f\\u062c\\\"\\u064e\\u060c\\u0651 \\u0648\\u0645\\u064d\\u0646 \\u0628\\u064c\\u064a\\u064b\\u0646\\u064f\\u0647\\u0627\\u064f \\u0648\\u064e\\u062b\\u0627\\u0626\\u0642\\u0652 \\u064f\\u0645\\u0647\\u0650\\u0645\\u064e\\u0629 \\u0639\\u0646 \\u0645\\u0641\\u064c\\u0627\\u0635\\u0644 \\u064b\\u0627\\u0644\\u064f\\u0628\\u0652\\u0646\\u064a\\u0629\\u064c \\u064d\\u0627\\u0652\\u0644\\u0651\\u062a\\u064f\\u062d\\u064c\\u062a\\u064a\\u064e\\u0629 \\u064e\\u0641\\u064a \\u0627\\u0644\\u0650\\u0625\\u0645\\u064c\\u0627\\u064b\\u0631\\u064b\\u0627\\u0652\\u062a\\u064a\\u064f\\u0629\\u060c\\u064b \\u0648\\u064f\\u0646\\u064b\\u0634\\u064d\\u0623\\u064d\\u0629 \\u0645\\u062f\\u0627\\u0631\\u0633\\u0647\\u064e\\u0627\\u060c \\u0648\\u062d\\u064a\\u0627\\u062a\\u0650\\u0647\\u0627 \\u0627\\u0644\\u062b\\u064e\\u0642\\u0627\\u0641\\u064a\\u0629\\u0650\\u060c \\u064d\\u0648\\u0652\\u0641\\u064a \\u0647\\u0630\\u0650\\u0647 \\u0627\\u0651\\u0644\\u0648\\u062b\\u064b\\u0627\\u0626\\u0651\\u0642 \\u0650\\u0645\\u0639\\u0644\\u0648\\u064d\\u0645\\u0650\\u0627\\u064e\\u062a \\u062c\\u0651\\u062f \\u0645\\u0647\\u0645\\u0629\\u0652 \\u064b\\u0639\\u0651\\u0646 \\u064f\\u0646\\u0634\\u0623\\u0629\\u0651 \\u0627\\u0652\\u0644\\u064b\\u0645\\u062f\\u0650\\u0627\\u064c\\u0631\\u0633\\u060c\\u0652 \\u064c\\u0648\\u064c\\u062d\\u0651\\u062a\\u0649\\u064c \\u0623\\u0633\\u064b\\u0645\\u064e\\u0627\\u0621 \\u0651\\u0627\\u0644\\u0637\\u0644\\u0651\\u0628\\u0629\\u060c \\u0648\\u064b\\u0627\\u064e\\u0644\\u064d\\u0645\\u062f\\u064b\\u0631\\u0633\\u064c\\u064a\\u0646\\u060c\\u0652 \\u064b\\u0648\\u0643\\u0652\\u064a\\u0641\\u064a\\u064f\\u0629\\u064c \\u0628\\u064b\\u062f\\u0650\\u0627\\u064f\\u064a\\u0627\\u0652\\u062a\\u064c \\u0639\\u0652\\u0645\\u0650\\u0644\\u064e\\u064a\\u0652\\u0629\\u064d \\u0627\\u0644\\u062a\\u0639\\u0644\\u064a\\u0645\\u064f \\u064f. . \\u064d\\u0625\\u0644\\u064f\\u062e\\u0652\\u060c \\u064c\\u0648\\u0647\\u0646\\u064d\\u0627\\u0643\\u0651 \\u064b\\u0645\\u0646 \\u0651\\u0646\\u064f\\u0627\\u064f\\u0644\\u0652 \\u064b\\u0634\\u0647\\u0650\\u0627\\u062f\\u0629\\u064c \\u0650\\u0627\\u0644\\u062f\\u0650\\u0643\\u062a\\u064e\\u0648\\u0631\\u0651\\u0627\\u0647 \\u0645\\u064c\\u0646\\u0651 \\u062e\\u064f\\u0644\\u064b\\u0627\\u0651\\u0644\\u064f \\u064f\\u0642\\u0652\\u0631\\u0627\\u0621\\u0652\\u0629 \\u064e\\u0627\\u0644\\u064d\\u0639\\u064b\\u0644\\u064e\\u0627\\u0642\\u0627\\u064c\\u062a \\u0627\\u0652\\u0644\\u0623\\u0650\\u062e\\u0648\\u064d\\u064a\\u064e\\u0629 \\u064d\\u0628\\u064a\\u0646 \\u064e\\u0627\\u0644\\u064f\\u0628\\u064e\\u0644\\u062f\\u064a\\u064c\\u0646 \\u0652.\\u0652\\u0648\\u062c\\u0627\\u0621\\u064e \\u062d\\u064d\\u062f\\u064d\\u064a\\u064d\\u062b\\u064f \\u0627\\u064f\\u0644\\u0651\\u0628\\u0652\\u062f\\u064c\\u0648\\u0631\\u064e \\u064e\\u0628\\u0645\\u0627 \\u064a\\u064f\\u0634\\u0650\\u0628\\u0647 \\u064f\\u0627\\u064f\\u0644\\u0652\\u0634\\u0650\\u0647\\u0627\\u062f\\u064e\\u0629\\u064e\\u060c \\u0645\\u0646 \\u064c\\u0642\\u064e\\u0628\\u0644\\u064e \\u0652\\u0623\\u062d\\u064e\\u062f\\u064f \\u0651\\u0623\\u064c\\u0628\\u064f\\u0646\\u0627\\u0621 \\u064d\\u0627\\u0644\\u064c\\u062c\\u064a\\u064d\\u0644 \\u0627\\u064d\\u0644\\u064e\\u0630\\u064a\\u064d \\u064f\\u0641\\u062a\\u0651\\u062d \\u0639\\u064a\\u0646\\u064a\\u064b\\u0647\\u064b \\u0650\\u0639\\u064b\\u0644\\u064d\\u0649\\u0650 \\u0627\\u0644\\u0645\\u0646\\u0627\\u064f\\u0647\\u064b\\u062c \\u0627\\u0652\\u0644\\u0651\\u062a\\u0639\\u0644\\u064f\\u064a\\u0645\\u064a\\u0629 \\u0627\\u0644\\u0651\\u0643\\u064f\\u0648\\u0650\\u064a\\u062a\\u064a\\u0629\\u064e \\u0627\\u0650\\u0644\\u062a\\u064a\\u064b \\u064e\\u062a\\u0645 \\u062a\\u064b\\u062f\\u0650\\u0631\\u064a\\u064f\\u0633\\u0650\\u0647\\u064e\\u0627\\u064b \\u0641\\u0651\\u064a\\u064d \\u0627\\u064f\\u0644\\u0652\\u0625\\u064d\\u0645\\u064c\\u0627\\u0631\\u064c\\u0627\\u0652\\u062a\\u0652\\u060c \\u0648\\u0651\\u0642\\u064d\\u0627\\u0644: \\u064e\\u0643\\u0644 \\u064f\\u0630\\u064c\\u0644\\u0643 \\u064f\\u0630\\u0643\\u0631\\u0650\\u062a\\u0647 \\u0641\\u0651\\u064a \\u0643\\u062a\\u0627\\u0628\\u064a \\u064b\\\"\\u0627\\u0644\\u062c\\u0630\\u0648\\u0631 \\u0650\\u0627\\u064f\\u0644\\u062a\\u0627\\u0631\\u0652\\u064a\\u064d\\u062e\\u0650\\u064a\\u0651\\u0629\\u064d \\u064e\\u0644\\u064f\\u0644\\u0639\\u064b\\u0644\\u0627\\u0642\\u0627\\u0650\\u062a\\u064f \\u064e\\u0627\\u064f\\u0644\\u062b\\u0652\\u0642\\u0627\\u0650\\u0641\\u064d\\u064a\\u0629 \\u064c\\u0628\\u064a\\u064b\\u0646 \\u0650\\u0627\\u0644\\u0625\\u0645\\u0627\\u0631\\u0627\\u064c\\u062a\\u064c \\u064f\\u0648\\u064e\\u0627\\u064b\\u0644\\u0643\\u0650\\u0648\\u064a\\u064f\\u062a\\\"\\u060c \\u0652\\u0648\\u0643\\u064b\\u0627\\u064b\\u0646 \\u064c\\u0628\\u064f\\u0645\\u064f\\u062b\\u064f\\u0627\\u064e\\u0628\\u064c\\u0629\\u064d \\u064c\\u0631\\u0652\\u0633\\u064b\\u0627\\u0651\\u0644\\u064e\\u0629 \\u0634\\u0652\\u0643\\u0631 \\u0652\\u0644\\u0644\\u0643\\u0648\\u064a\\u062a\\u060c \\u0648\\u064c\\u0623\\u0636\\u0650\\u0627\\u064d\\u0641:\\u064d \\u0623\\u062c\\u064f\\u0644\\u060c\\u064e \\u064c\\u062a\\u062a\\u0644\\u0645\\u0630\\u0646\\u0627\\u064c \\u0639\\u064f\\u0644\\u0651\\u0649 \\u0650\\u0645\\u064d\\u0646\\u064c\\u0627\\u064c\\u0647\\u062c \\u064b\\u0627\\u0644\\u0643\\u064e\\u0648\\u064b\\u064a\\u062a\\u064d\\u060c\\u0650 \\u0648\\u0642\\u0631\\u0623\\u0646\\u0627\\u064d \\u0650\\u0639\\u064e\\u0628\\u0627\\u0631\\u064d\\u0629 \\u064e\\\"\\u0639\\u064f\\u0644\\u0645 \\u0628\\u0651\\u0644\\u0651\\u0627\\u062f\\u064a\\u0650 \\u0651\\u0644\\u0651\\u0648\\u064e\\u0646\\u0647\\u0650 \\u064c\\u0623\\u064c\\u062d\\u0645\\u0650\\u0631\\\" \\u0648\\u0650\\u0627\\u0631\\u062a\\u064c\\u062f\\u064a\\u0646\\u0652\\u0627\\u064e \\u0632\\u064a \\u0627\\u064e\\u0644\\u0652\\u0645\\u062f\\u0651\\u0627\\u0652\\u0631\\u064b\\u0633\\u064f \\u064d\\u0627\\u0644\\u0643\\u064d\\u0648\\u064e\\u064a\\u062a\\u064a\\u0629 \\u0623\\u062b\\u064f\\u0646\\u064f\\u0627\\u064e\\u0621\\u064c \\u0651\\u062a\\u0639\\u064e\\u0644\\u0650\\u064a\\u0645\\u0646\\u0627\\u064c\\u060c \\u064c\\u0648\\u0652\\u062a\\u064d\\u0646\\u0627\\u0650\\u0648\\u0644\\u064b\\u0646\\u0627 \\u0627\\u0644\\u064e\\u0648\\u062c\\u064f\\u0628\\u0652\\u0627\\u062a\\u064d \\u0627\\u0651\\u0644\\u0635\\u0628\\u0627\\u062d\\u0650\\u064a\\u0629\\u0651 \\u0627\\u0651\\u0644\\u0650\\u0643\\u064b\\u0648\\u064a\\u062a\\u064a\\u0629\\u0650 \\u064d\\u0641\\u0650\\u064a \\u0645\\u062f\\u064b\\u0627\\u064b\\u0631\\u064c\\u0633\\u0646\\u0627\\u0652\\u060c\\u064b \\u0648\\u0627\\u0633\\u062a\\u062e\\u064c\\u062f\\u064f\\u0645\\u0651\\u0646\\u0627 \\u064d\\u0627\\u064b\\u0644\\u064c\\u0623\\u0650\\u0642\\u064c\\u0644\\u0627\\u0651\\u0645 \\u0652\\u0648\\u064d\\u0627\\u0644\\u0652\\u0645\\u0645\\u064e\\u062d\\u0651\\u0627\\u064f\\u064a\\u064d\\u0627\\u064b\\u062a\\u064e \\u0648\\u0627\\u064d\\u0644\\u064b\\u0645\\u0628\\u0631\\u0627\\u064a\\u0652\\u0627\\u064b\\u062a \\u064d\\u0627\\u0644\\u064e\\u0643\\u0648\\u064c\\u064a\\u062a\\u064a\\u0629\\u064e\\u060c \\u0644\\u064d\\u0627\\u064c \\u0641\\u0631\\u0642 \\u064f\\u0628\\u064b\\u064a\\u064c\\u0646\\u064d\\u0646\\u0651\\u0627\\u060c \\u0628\\u064a\\u064b\\u0626\\u0650\\u062a\\u0627 \\u0628\\u064f\\u0644\\u062f\\u064a\\u0646\\u0627\\u064b \\u0648\\u0650\\u0627\\u064f\\u062d\\u0652\\u062f\\u0629\\u064d\\u060c \\u0647\\u064a \\u0627\\u064f\\u0644\\u0628\\u0650\\u064a\\u0650\\u0626\\u0629\\u064b \\u064c\\u0627\\u0650\\u0644\\u0628\\u062d\\u0631\\u064a\\u0629\\u064f \\u064f.\\u064b \\u0648\\u0628\\u0652\\u0639\\u062f\\u064f \\u064f\\u0623\\u0650\\u0641\\u064c\\u0648\\u0644 \\u062a\\u064d\\u062c\\u0627\\u0652\\u0631\\u0629\\u064c \\u0627\\u0644\\u0644\\u0624\\u0644\\u064b\\u0624\\u060c \\u0651\\u0641\\u064f\\u0625\\u0652\\u0646\\u0651 \\u0645\\u0651\\u062b\\u064e\\u0642\\u064f\\u0641\\u064a\\u0646\\u0627\\u064c \\u0648\\u064d\\u0639\\u0650\\u0645\\u064e\\u0627\\u0644\\u064f\\u0646\\u064f\\u0627 \\u062a\\u0648\\u062c\\u0647\\u0648\\u0627\\u064b \\u0625\\u0644\\u0649 \\u0627\\u0644\\u064e\\u0643\\u0650\\u0648\\u064b\\u064a\\u064b\\u062a\\u064f \\u0644\\u0650\\u0644\\u0639\\u064d\\u0645\\u0644 \\u0651\\u0641\\u064f\\u064a\\u0647\\u0627\\u064f\\u060c \\u0650\\u0643\\u0651\\u0645\\u0627 \\u0623\\u064f\\u0646 \\u0647\\u064c\\u0646\\u0627\\u0643 \\u0623\\u064f\\u062c\\u064a\\u0627\\u064c\\u0644\\u0651\\u0627\\u0650\\u064b \\u064e\\u0645\\u064b\\u0646 \\u0627\\u0652\\u0644\\u064e\\u0643\\u064b\\u0648\\u064a\\u062a\\u064b\\u064a\\u064a\\u0646 \\u064b\\u0639\\u064d\\u0627\\u0634\\u0648\\u064b\\u0627 \\u0641\\u064e\\u064a \\u064f\\u0627\\u0650\\u0644\\u064e\\u0625\\u064d\\u0645\\u0627\\u0631\\u0627\\u062a\\u064d\\u060c \\u064d\\u0648\\u0651\\u0645\\u064e\\u0646\\u064b\\u0647\\u0645 \\u0645\\u0646\\u064c \\u064b\\u0639\\u0650\\u0644\\u0652\\u0645\\u064d\\u0648\\u064e\\u0646\\u0627 .\\u0651 \\u0643\\u0645\\u0627 \\u0631\\u0627\\u0651\\u062d\\u0652 \\u064a\\u0650\\u062a\\u062d\\u064d\\u062f\\u062b \\u0639\\u0646\\u0651 \\u0627\\u0644\\u062a\\u0641\\u064e\\u0627\\u0639\\u064e\\u0644\\u064b \\u0627\\u064c\\u0644\\u062b\\u0650\\u0642\\u0652\\u0627\\u0641\\u064c\\u064a \\u0628\\u064d\\u064a\\u0646\\u0650 \\u064b\\u0627\\u0644\\u064d\\u0628\\u0644\\u0651\\u062f\\u064a\\u064d\\u0646 \\u0639\\u064e\\u0628\\u0631 \\u064d\\u0642\\u064d\\u0635\\u064f\\u0627\\u0626\\u0650\\u062f\\u064d \\u0627\\u0651\\u0644\\u064b\\u0634\\u0639\\u0652\\u0631\\u0627\\u064e\\u0621\\u060c\\u064d \\u064b\\u0627\\u0644\\u0652\\u0641\\u0652\\u0635\\u0652\\u062d\\u064c\\u0649\\u064b \\u0648\\u064c\\u0627\\u0644\\u0650\\u0646\\u064b\\u0628\\u0637\\u064a\\u064f\\u0629\\u0650\\u060c \\u0650\\u0641\\u0652\\u0636\\u064b\\u0644\\u0650\\u0627\\u064b\\u064b \\u064c\\u0639\\u064d\\u0646 \\u0651\\u0627\\u064d\\u0644\\u062a\\u0641\\u064c\\u0627\\u0639\\u064f\\u0644\\u064c \\u0651\\u0645\\u0652\\u0639 \\u0648\\u064b\\u0633\\u0627\\u0652\\u0626\\u064b\\u0644\\u064b \\u0627\\u0644\\u0625\\u0650\\u0639\\u0644\\u0627\\u0645\\u0650 \\u064d\\u0641\\u0650\\u064a\\u064e \\u0643\\u0644\\u0627 \\u0627\\u064b\\u0644\\u0628\\u0651\\u0644\\u064e\\u062f\\u064c\\u064a\\u064d\\u0646\\u060c\\u064c \\u0650\\u0625\\u064f\\u0630 \\u064c\\u0641\\u064c\\u062a\\u062d\\u062a\\u0650 \\u064c\\u0627\\u0644\\u0651\\u0635\\u064d\\u062d\\u064e\\u0627\\u064c\\u0641\\u0629\\u0650 \\u0627\\u064e\\u0644\\u064e\\u0643\\u0648\\u064a\\u062a\\u064a\\u0650\\u0629\\u064f \\u0651\\u0623\\u064f\\u0628\\u0652\\u0648\\u064e\\u0627\\u0628\\u0647\\u064d\\u0627\\u0651 \\u0644\\u0644\\u0645\\u062b\\u0642\\u0641\\u064a\\u064b\\u0646\\u064b \\u0627\\u064f\\u0644\\u0625\\u0645\\u0627\\u0631\\u0652\\u0627\\u0650\\u062a\\u064f\\u064a\\u064e\\u064a\\u0650\\u0646 .\",\n          \"https://example.com/resource/\\u0623\\u0650\\u0628\\u0648\\u0638\\u0628\\u064f\\u064a\\u0651 \\u064c-\\u0650 \\u064b\\u0645\\u0646\\u0651\\u064a\\u0650 \\u0650\\u0628\\u0651\\u0648\\u0651\\u0646\\u0639\\u064f\\u0627\\u064b\\u0645\\u0629:\\u0646\\u064e\\u0638\\u0645 \\u0627\\u062a\\u062d\\u0627\\u062f \\u064d\\u0643\\u0651\\u062a\\u0627\\u0650\\u0628\\u064d \\u0651\\u0648\\u0652\\u0623\\u062f\\u0652\\u0628\\u064e\\u0627\\u064b\\u0621 \\u064f\\u0627\\u0644\\u0625\\u0645\\u0627\\u0651\\u0631\\u0627\\u0650\\u062a \\u0641\\u064a \\u0623\\u0628\\u0648\\u0650\\u0638\\u0628\\u064b\\u064a\\u0651\\u060c\\u064c \\u0645\\u0633\\u064c\\u0627\\u064e\\u0621\\u064c \\u0623\\u0645\\u064c\\u0633\\u064d \\u0627\\u0644\\u064f\\u0623\\u064e\\u0648\\u0651\\u0644\\u060c \\u064f\\u0641\\u0650\\u064a\\u064d \\u0642\\u0651\\u0627\\u0650\\u0639\\u0629\\u064d \\u0627\\u0652\\u0644\\u062f\\u0643\\u062a\\u0648\\u064c\\u0631\\u064c \\u064c\\u0639\\u0628\\u062f\\u064e \\u064b\\u0627\\u0644\\u064c\\u0644\\u0647\\u0651 \\u0639\\u0645\\u0631\\u0627\\u064d\\u0646 \\u064f\\u062a\\u0650\\u0631\\u0651\\u064a\\u0645\\u0652 \\u064d\\u0641\\u064a\\u064f \\u0645\\u0651\\u0642\\u0631 \\u064d\\u0627\\u0644\\u0627\\u062a\\u064c\\u062d\\u0627\\u062f\\u064c \\u064c\\u0627\\u0644\\u064c\\u062c\\u062f\\u064a\\u0651\\u062f \\u0641\\u064a \\u0645\\u0650\\u0639\\u064e\\u0633\\u064b\\u0643\\u0631\\u064d \\u064f\\u0622\\u0644\\u0651 \\u0646\\u064b\\u0647\\u064a\\u0627\\u0646\\u064f \\u0623\\u064e\\u0645\\u0650\\u0633\\u064f\\u064a\\u0629 \\u0644\\u0652\\u0644\\u064e\\u0643\\u064c\\u0627\\u062a\\u0628\\u064d \\u0651\\u0648\\u064e\\u0627\\u0644\\u0652\\u0645\\u062b\\u064e\\u0642\\u0651\\u0641\\u064c \\u064d\\u0627\\u0644\\u0625\\u0645\\u064d\\u0627\\u064c\\u0631\\u064c\\u0627\\u062a\\u0651\\u064a\\u064f \\u0645\\u0627\\u062c\\u064c\\u062f \\u0628\\u0648 \\u0634\\u064f\\u0644\\u064a\\u0628\\u064f\\u064a\\u060c\\u064d \\u0623\\u064f\\u0645\\u064b\\u064a\\u0646 \\u0639\\u0627\\u0645\\u0652 \\u0652\\u0627\\u0644\\u0645\\u0646\\u062a\\u0650\\u062f\\u0651\\u0649 \\u0650\\u0627\\u0644\\u064d\\u0625\\u064e\\u0633\\u0651\\u0644\\u0651\\u0627\\u0645\\u0652\\u064a\\u064f \\u0641\\u064f\\u064a \\u0627\\u0644\\u064e\\u0634\\u0650\\u0627\\u0631\\u064d\\u0642\\u064e\\u0629\\u064e\\u060c\\u0650 \\u064c\\u0628\\u064f\\u0639\\u0646\\u0648\\u064f\\u0627\\u0646:\\u0651 \\u0644\\u0645\\u0627\\u0630\\u0627\\u064e \\u0651\\u0627\\u064b\\u0644\\u064f\\u0634\\u0651\\u0627\\u0631\\u0642\\u0629 \\u0639\\u0651\\u0627\\u064e\\u0635\\u0645\\u0629 \\u0650\\u0644\\u064d\\u0644\\u062b\\u064f\\u0642\\u0627\\u0641\\u064b\\u0629\\u064b \\u0627\\u064c\\u0644\\u0625\\u064c\\u0633\\u0652\\u0644\\u064d\\u0627\\u0645\\u0651\\u064a\\u0629\\u064d\\u061f \\u0642\\u062f\\u0651\\u0651\\u064e\\u0645 \\u0627\\u0644\\u064e\\u0623\\u0645\\u0633\\u064a\\u064f\\u0629\\u064f \\u064d\\u0627\\u0644\\u0634\\u0650\\u0627\\u0639\\u0631\\u0652 \\u0652\\u0648\\u0627\\u0644\\u0646\\u0627\\u0652\\u0642\\u062f \\u0645\\u064b\\u062d\\u064c\\u0645\\u062f \\u0646\\u0648\\u0631 \\u064f\\u0627\\u064c\\u0644\\u062f\\u064f\\u064a\\u0646\\u060c\\u0651 \\u064b\\u0648\\u0650\\u062d\\u0636\\u0650\\u0631\\u0651\\u0647\\u064c\\u0627\\u064e \\u064f\\u062d\\u0650\\u0628\\u064d\\u064a\\u0652\\u0628\\u064b \\u0627\\u064e\\u0644\\u0635\\u064b\\u0627\\u064a\\u0650\\u063a\\u0651 \\u064e\\u0631\\u064f\\u0626\\u064a\\u064d\\u0633\\u0652 \\u0645\\u062c\\u0651\\u0644\\u0633\\u0650 \\u0625\\u064c\\u062f\\u064c\\u0627\\u0631\\u0629\\u0650 \\u0651\\u0627\\u064c\\u0644\\u064b\\u0627\\u064b\\u062a\\u062d\\u0627\\u062f\\u0650\\u060c\\u064e \\u0648\\u0639\\u064b\\u062f\\u064b\\u062f \\u0645\\u0646 \\u064d\\u0627\\u0644\\u0643\\u062a\\u0651\\u0627\\u0628\\u064e \\u0648\\u0652\\u0627\\u064f\\u0644\\u064b\\u0623\\u064f\\u062f\\u0628\\u0627\\u064d\\u0621 \\u064d.\\u064e \\u064c\\u0627\\u0633\\u062a\\u064b\\u0647\\u0651\\u0644\\u0652 \\u0627\\u0652\\u0644\\u0651\\u0645\\u064d\\u062d\\u0652\\u0627\\u064f\\u0636\\u0631 \\u0628\\u0627\\u0633\\u062a\\u0639\\u064e\\u0631\\u0627\\u0636\\u0650 \\u0627\\u0644\\u0623\\u0637\\u0631 \\u0627\\u064c\\u0644\\u0639\\u064d\\u0627\\u0645\\u0629\\u0652 \\u0651\\u0627\\u064c\\u0644\\u062a\\u064a\\u0650 \\u0639\\u0645\\u0644\\u062a \\u064d\\u0639\\u0644\\u0649 \\u062a\\u064e\\u0634\\u0643\\u0651\\u064a\\u0652\\u0644\\u064f \\u064b\\u0648\\u0628\\u0644\\u064d\\u0648\\u064f\\u0631\\u0629 \\u0627\\u064f\\u0644\\u0641\\u0643\\u064b\\u0631\\u0652\\u0629 \\u0627\\u064e\\u0644\\u064c\\u062b\\u0642\\u0651\\u0627\\u0641\\u064d\\u064a\\u064b\\u0629\\u064e \\u0641\\u064b\\u064a\\u064f \\u064c\\u0627\\u0644\\u064f\\u0634\\u0627\\u0650\\u0631\\u064b\\u0642\\u0629\\u0652\\u060c\\u0652 \\u0645\\u0646\\u064c \\u0652\\u062e\\u0652\\u0644\\u0627\\u0652\\u0644\\u064d \\u0652\\u0627\\u0644\\u062a\\u064f\\u0639\\u064d\\u0631\\u064b\\u064a\\u0641 \\u0628\\u0652\\u0627\\u0644\\u062a\\u0650\\u062c\\u064b\\u0631\\u064f\\u0628\\u0629\\u0651 \\u064f\\u0648\\u0623\\u0647\\u0645 \\u0645\\u0633\\u0652\\u0627\\u0650\\u0631\\u064d\\u0627\\u062a\\u064b\\u0647\\u064d\\u0627\\u0652\\u060c\\u064f \\u0650\\u0648\\u064b\\u0627\\u0650\\u0644\\u0651\\u0623\\u0637\\u0650\\u0648\\u064c\\u0627\\u0631 \\u0651\\u0627\\u0652\\u0644\\u064d\\u062a\\u064a \\u0650\\u0645\\u064c\\u0631\\u064b\\u062a \\u0628\\u0647\\u0650\\u0627\\u064d\\u060c \\u0628\\u0652\\u062f\\u064e\\u0621\\u0651\\u0627\\u064b\\u064d \\u0628\\u064d\\u0627\\u0644\\u062d\\u062f\\u064a\\u064c\\u062b\\u064b \\u064d\\u0639\\u064b\\u0646 \\u0628\\u064d\\u0646\\u0627\\u0652\\u0621\\u064d \\u0627\\u0644\\u0628\\u064d\\u0646\\u0649\\u0650 \\u0627\\u0651\\u0644\\u0650\\u062a\\u064c\\u062d\\u062a\\u064c\\u064a\\u064c\\u0629\\u0650 \\u064d\\u0644\\u0644\\u0645\\u0624\\u064b\\u0633\\u0633\\u0650\\u0627\\u062a \\u0650\\u0627\\u0644\\u062b\\u064e\\u0642\\u0652\\u0627\\u0641\\u064a\\u064d\\u0629\\u064c \\u064f\\u0648\\u0627\\u064e\\u0644\\u0625\\u0651\\u0639\\u064e\\u0644\\u0627\\u0645\\u0650\\u064a\\u0629\\u0651 \\u064c\\u0627\\u0644\\u062a\\u064a \\u0623\\u064d\\u0633\\u0651\\u0647\\u0645\\u064f\\u062a\\u060c \\u064d\\u0639\\u064f\\u0628\\u0631 \\u0651\\u062a\\u0627\\u0652\\u0631\\u064a\\u062e\\u0647\\u0627\\u0652\\u060c\\u064e \\u0641\\u064c\\u064a\\u0651 \\u0652\\u062a\\u064b\\u0641\\u0639\\u064a\\u0644 \\u0627\\u0651\\u0644\\u0639\\u0650\\u0645\\u064b\\u0644\\u064b \\u0627\\u064e\\u0644\\u062b\\u0650\\u0642\\u064e\\u0627\\u0650\\u0641\\u0651\\u064a \\u0641\\u064f\\u064a \\u0627\\u064d\\u0644\\u0634\\u0627\\u0652\\u0631\\u0642\\u0629\\u060c \\u0627\\u0646\\u0637\\u0644\\u064d\\u0627\\u0642\\u0627\\u064b\\u0651 \\u0645\\u0650\\u0646\\u064b \\u062a\\u0623\\u0633\\u064f\\u064a\\u0633\\u0651 \\u064c\\u062f\\u0627\\u0652\\u0626\\u0631\\u0629\\u064d \\u0652\\u0627\\u0650\\u0644\\u064f\\u062b\\u0642\\u064b\\u0627\\u0641\\u0629 \\u064d\\u0648\\u0627\\u064c\\u0644\\u0625\\u0651\\u0639\\u0644\\u0627\\u0650\\u0645\\u064f\\u060c\\u0651 \\u0648\\u0650\\u062a\\u0644\\u0641\\u0632\\u064a\\u0648\\u064b\\u0646 \\u0627\\u0644\\u064f\\u0634\\u0627\\u064c\\u0631\\u0642\\u0652\\u0629\\u0650 \\u0648\\u0645\\u0627 \\u062a\\u062e\\u064d\\u0644\\u064c\\u0644\\u064f \\u0630\\u0644\\u0643\\u064c \\u064e\\u0645\\u064b\\u0646\\u064f \\u0625\\u064b\\u0628\\u0631\\u0627\\u0632\\u064f \\u0648\\u062a\\u0634\\u062c\\u064c\\u064a\\u064f\\u0639\\u064d \\u064f\\u0644\\u0644\\u062b\\u0642\\u064b\\u0627\\u064c\\u0641\\u0629 \\u0648\\u064b\\u0627\\u064b\\u0644\\u0641\\u0646\\u064e\\u0648\\u064d\\u0646\\u064e \\u0645\\u0646\\u064f \\u064f\\u062e\\u0644\\u0627\\u0644 \\u064b\\u0627\\u064f\\u0644\\u064f\\u0645\\u064d\\u0639\\u064d\\u0627\\u0631\\u0636 \\u0627\\u0644\\u0651\\u0641\\u064f\\u0646\\u064a\\u064b\\u0629\\u064f \\u0648\\u064d\\u0627\\u0644\\u0650\\u0641\\u0639\\u0627\\u064e\\u0644\\u064a\\u0627\\u062a\\u0652 \\u064f\\u0627\\u0652\\u0644\\u064c\\u062b\\u0642\\u064b\\u0627\\u0651\\u0641\\u064b\\u064a\\u0629 \\u064f\\u0627\\u0644\\u062a\\u064f\\u064a \\u0651\\u062a\\u0635\\u0628 \\u064d\\u0641\\u064a \\u0642\\u0627\\u064b\\u0644\\u064b\\u0628\\u0650 \\u0627\\u0644\\u0646\\u064c\\u0647\\u064b\\u0648\\u0636\\u064b \\u0644\\u064b\\u0634\\u0627\\u064b\\u0631\\u064d\\u0642\\u0650\\u0629\\u064d \\u0627\\u0644\\u0652\\u062b\\u0642\\u064f\\u0627\\u0641\\u0652\\u0629\\u064e \\u064d\\u0648\\u0627\\u0644\\u0645\\u064c\\u0639\\u0631\\u0641\\u064e\\u0629\\u064c\\u060c \\u0645\\u064c\\u0627 \\u064a\\u064c\\u062c\\u064b\\u064a\\u0628 \\u0628\\u064b\\u0634\\u0643\\u0644\\u0650 \\u0642\\u064b\\u0637\\u0639\\u0650\\u064a \\u064d\\u0639\\u064c\\u0646\\u064d \\u0627\\u0651\\u0644\\u064e\\u062a\\u064e\\u0633\\u0651\\u0627\\u0624\\u0644 \\u0652\\u0627\\u0644\\u0645\\u0652\\u0631\\u0643\\u0632\\u064b\\u064a\\u0650 \\u0644\\u0645\\u0627\\u0651\\u0630\\u0627\\u0651 \\u064f\\u0627\\u0650\\u0644\\u0634\\u0627\\u0651\\u0631\\u0642\\u0629\\u0651 \\u0639\\u0627\\u064b\\u0635\\u0645\\u0629\\u064f \\u064f\\u0627\\u064d\\u0644\\u064d\\u062b\\u0650\\u0642\\u0627\\u0641\\u064b\\u0629\\u064c \\u0627\\u064d\\u0644\\u0651\\u0625\\u0633\\u064b\\u0644\\u064c\\u0627\\u0645\\u064a\\u0629\\u064e\\u061f \\u064b\\u0648\\u064d\\u0623\\u0650\\u0634\\u0652\\u0627\\u0631 \\u064c\\u0627\\u0644\\u0645\\u062d\\u0627\\u064b\\u0636\\u0651\\u0631\\u064e \\u0652\\u0625\\u064f\\u0644\\u0649 \\u064e\\u0627\\u064d\\u0644\\u064d\\u062d\\u0631\\u0627\\u0643 \\u064d\\u0627\\u0644\\u062b\\u0642\\u0627\\u064e\\u0641\\u064a\\u0650 \\u0650\\u0627\\u0644\\u064b\\u0646\\u064f\\u0634\\u0637\\u0651 \\u0627\\u0644\\u0630\\u064c\\u064a\\u0652 \\u0634\\u0643\\u064b\\u0644\\u064f \\u0652\\u0627\\u0651\\u0644\\u064d\\u0628\\u0650\\u0648\\u0651\\u0627\\u0643\\u064f\\u064a\\u0631 \\u064c\\u0627\\u064d\\u0644\\u064b\\u0623\\u064c\\u0648\\u0644\\u0649\\u064c \\u0651\\u0644\\u0644\\u0651\\u0639\\u0645\\u0651\\u0644 \\u0627\\u0644\\u062b\\u0642\\u0627\\u0641\\u064a \\u0651\\u0641\\u064c\\u064a\\u064b \\u0627\\u0644\\u0652\\u0634\\u0651\\u0627\\u0651\\u0631\\u064f\\u0642\\u0629\\u064c\\u060c\\u0652 \\u0650\\u0627\\u064d\\u0644\\u0630\\u0651\\u064a\\u0651 \\u0634\\u0645\\u064c\\u0644 \\u0643\\u0627\\u0641\\u0629\\u064f \\u064e\\u0627\\u0644\\u064b\\u062c\\u0648\\u0627\\u0646\\u064c\\u0628\\u064c \\u0650\\u0628\\u0645\\u0627\\u064f \\u064b\\u0641\\u0652\\u064a\\u0652\\u0647\\u0627\\u064d \\u0625\\u0646\\u0652\\u0634\\u064c\\u0627\\u0621 \\u0651\\u0627\\u0644\\u0645\\u0631\\u0627\\u0643\\u0652\\u0632 \\u0648\\u0627\\u064e\\u0644\\u0645\\u062f\\u064f\\u0627\\u064d\\u0631\\u0633 \\u064b\\u0648\\u0650\\u0627\\u064c\\u0644\\u0651\\u062c\\u0652\\u0627\\u0645\\u0652\\u0639\\u0651\\u0627\\u062a\\u0652 \\u064f\\u0648\\u0650\\u0627\\u0644\\u0641\\u064f\\u0646\\u0650\\u0648\\u064e\\u0646\\u0652 \\u064b\\u0648\\u064b\\u0627\\u0644\\u0652\\u0645\\u0651\\u0633\\u064e\\u0627\\u0650\\u0631\\u062d \\u064d\\u0644\\u062a\\u0651\\u0639\\u0632\\u064b\\u064a\\u0632 \\u0627\\u0644\\u0641\\u0639\\u0644\\u064b \\u0627\\u0644\\u064b\\u062b\\u064e\\u0642\\u064e\\u0627\\u0651\\u0641\\u064c\\u064a\\u064d \\u0648\\u064c\\u062a\\u0633\\u0631\\u064a\\u064c\\u0639\\u064f \\u0639\\u062c\\u064f\\u0644\\u0629\\u064f \\u0627\\u0644\\u0650\\u0646\\u064e\\u0634\\u0627\\u0637\\u0652 \\u064d\\u0627\\u0644\\u062b\\u0642\\u064c\\u0627\\u0651\\u0641\\u0650\\u064a \\u064b\\u0641\\u064a \\u0627\\u064d\\u0644\\u0651\\u0634\\u0627\\u064b\\u0631\\u0642\\u0629\\u0650\\u060c\\u0651 \\u0643\\u0645\\u064c\\u0627 \\u064d\\u062a\\u0650\\u0645 \\u062a\\u062e\\u0635\\u064a\\u0635\\u064f \\u064f\\u0645\\u064c\\u0633\\u0650\\u0627\\u062d\\u0629 \\u0645\\u064c\\u0639\\u062a\\u064b\\u0628\\u0651\\u0631\\u064f\\u0629\\u064e \\u064b\\u0644\\u0644\\u0637\\u0641\\u0644\\u064f \\u0648\\u062b\\u0642\\u0652\\u0627\\u0652\\u0641\\u064c\\u062a\\u0647\\u064c\\u060c\\u0650 \\u0645\\u0646\\u0651 \\u062e\\u0652\\u0644\\u064f\\u0627\\u0644 \\u0625\\u0646\\u0634\\u064b\\u0627\\u0652\\u0621\\u064e \\u0651\\u0645\\u064f\\u0631\\u064c\\u0627\\u0643\\u0652\\u0632 \\u064c\\u0645\\u064c\\u0643\\u062a\\u0628\\u0652\\u0627\\u064c\\u062a \\u064e\\u0627\\u0644\\u064e\\u0623\\u0650\\u0637\\u064d\\u0641\\u064c\\u0627\\u0644\\u060c \\u0648\\u064d\\u0645\\u064d\\u0631\\u0652\\u0627\\u0643\\u0632 \\u064e\\u0627\\u064c\\u0644\\u0623\\u0637\\u0641\\u064c\\u0627\\u064d\\u0644\\u064d\\u060c \\u062b\\u0645\\u064c \\u0645\\u0652\\u0631\\u064d\\u0627\\u0643\\u0632 \\u064b\\u0627\\u064e\\u0644\\u0652\\u0646\\u0627\\u0634\\u0651\\u0626\\u0629\\u060c \\u0641\\u0645\\u0652\\u062c\\u064f\\u0644\\u0633 \\u064b\\u0623\\u064e\\u0639\\u0644\\u0649\\u064e \\u0652\\u0644\\u064f\\u0644\\u0637\\u0641\\u064e\\u0644\\u0652 \\u0625\\u064e\\u0644\\u0649 \\u064c\\u063a\\u064a\\u0631 \\u0630\\u064b\\u0644\\u0643 \\u0651\\u0645\\u0646 \\u0627\\u0644\\u0633\\u064b\\u064a\\u0627\\u0633\\u064c\\u0627\\u062a \\u064b\\u0627\\u0644\\u0652\\u062a\\u064a\\u064c \\u064e\\u0627\\u0650\\u0639\\u0650\\u062a\\u064b\\u0645\\u064b\\u062f\\u0647\\u0650\\u0627\\u064e \\u064d\\u0635\\u0651\\u0627\\u0652\\u062d\\u0628\\u0650 \\u0652\\u0627\\u0652\\u0644\\u0633\\u064c\\u0645\\u0648\\u064f \\u064b\\u0627\\u064b\\u0644\\u0650\\u0634\\u064f\\u064a\\u064d\\u062e \\u064f\\u0627\\u0644\\u062f\\u064b\\u0643\\u062a\\u0648\\u064f\\u0631 \\u064b\\u0633\\u064d\\u0644\\u064f\\u0637\\u0627\\u0646 \\u0628\\u0646 \\u0645\\u064e\\u062d\\u064c\\u0645\\u062f \\u0627\\u0650\\u0644\\u0642\\u0652\\u0627\\u0633\\u0645\\u064a\\u0652 \\u064e\\u0639\\u064d\\u0636\\u0648\\u064f \\u0627\\u0644\\u0645\\u062c\\u0650\\u0644\\u0633\\u064b \\u064c\\u0627\\u064d\\u0644\\u064b\\u0623\\u0639\\u0651\\u0644\\u0652\\u0649 \\u062d\\u064b\\u0627\\u0643\\u064c\\u0645\\u064e \\u064f\\u0627\\u064e\\u0644\\u0634\\u064e\\u0627\\u0650\\u0631\\u0642\\u064c\\u0629\\u0652 \\u064e\\u0644\\u0644\\u0650\\u0631\\u0642\\u0652\\u064a\\u064e \\u064c\\u0628\\u062b\\u0650\\u0642\\u064c\\u0627\\u064f\\u0641\\u064d\\u0629\\u0652 \\u0627\\u0652\\u0644\\u0637\\u0650\\u0641\\u0644 \\u0648\\u0652\\u062a\\u0646\\u064d\\u0645\\u064a\\u0651\\u0629 \\u0652\\u0645\\u064c\\u062f\\u064f\\u0627\\u064e\\u0631\\u064c\\u0643\\u0652\\u0647\\u0652 \\u0648\\u064d\\u0642\\u064e\\u062f\\u0631\\u0652\\u0627\\u0651\\u062a\\u064d\\u0647\\u064b \\u0650. \\u0648\\u064b\\u0630\\u0647\\u064d\\u0628\\u064b \\u0627\\u064c\\u0644\\u0645\\u0650\\u062d\\u0651\\u0627\\u0650\\u0636\\u064b\\u0631 \\u0625\\u064d\\u0644\\u0650\\u0649\\u0650 \\u064f\\u0623\\u0646\\u064e \\u064f\\u0627\\u0644\\u0652\\u0633\\u064c\\u064a\\u0651\\u0627\\u0633\\u0650\\u0627\\u062a\\u064d \\u0627\\u0644\\u062b\\u0652\\u0642\\u0627\\u0641\\u064a\\u0629\\u064b \\u0648\\u0627\\u0644\\u062a\\u064d\\u0648\\u062c\\u064c\\u064a\\u064b\\u0647\\u0627\\u062a\\u0650 \\u0650\\u0627\\u064b\\u0644\\u064d\\u0646\\u064e\\u064a\\u0651\\u0631\\u0629\\u064c \\u0644\\u064e\\u0635\\u064c\\u0627\\u062d\\u0650\\u0628\\u064c \\u0627\\u0644\\u0633\\u0645\\u0648 \\u064d\\u062d\\u0627\\u064c\\u0643\\u0652\\u0645\\u064b \\u0627\\u064d\\u0644\\u0634\\u064c\\u0627\\u0631\\u064f\\u0642\\u0629 \\u064b\\u062c\\u064c\\u0639\\u0644\\u0650\\u062a\\u064f \\u0650\\u0645\\u064e\\u0646 \\u0627\\u0651\\u0644\\u0639\\u064d\\u0645\\u064c\\u0644\\u064e \\u0627\\u0644\\u064d\\u062b\\u064b\\u0642\\u0627\\u064d\\u0641\\u064f\\u064a\\u0652 \\u0641\\u064a\\u064e \\u0627\\u0652\\u0644\\u064d\\u0634\\u0627\\u0631\\u064f\\u0642\\u0651\\u0629\\u064c \\u0639\\u0645\\u0644\\u0627\\u064b\\u0650 \\u0646\\u064e\\u0634\\u064d\\u0637\\u0651\\u0627\\u064b \\u0648\\u0651\\u0642\\u0651\\u0648\\u0651\\u064a\\u0652\\u0627\\u064b\\u064c \\u064e\\u0633\\u0648\\u064f\\u0627\\u0621 \\u064f\\u0645\\u064d\\u0646 \\u0652\\u062e\\u0652\\u0644\\u0650\\u0627\\u0644 \\u062a\\u064d\\u0648\\u064e\\u062c\\u0650\\u064a\\u0647\\u0627\\u064c\\u062a\\u064c \\u0650\\u0633\\u064e\\u0645\\u0651\\u0648\\u0647 \\u064c\\u0644\\u064e\\u0644\\u0627\\u0652\\u0631\\u062a\\u064d\\u0642\\u0651\\u0627\\u0621 \\u064c\\u0628\\u0627\\u0651\\u0644\\u064f\\u0641\\u0646\\u064f \\u0627\\u064d\\u0644\\u064d\\u062a\\u0634\\u064f\\u0643\\u064a\\u064e\\u0644\\u064e\\u064a\\u0652 \\u0648\\u064b\\u062a\\u0634\\u064f\\u062c\\u064d\\u064a\\u0639 \\u064b\\u0627\\u0652\\u0644\\u0641\\u0646\\u0627\\u0650\\u0646\\u064a\\u0646\\u060c\\u064c \\u0648\\u064f\\u0627\\u0642\\u062a\\u0646\\u064d\\u0627\\u0621\\u064c \\u0652\\u0623\\u064c\\u0639\\u064e\\u0645\\u064e\\u0627\\u0644 \\u0641\\u064b\\u0646\\u0651\\u064a\\u064e\\u0629\\u064e \\u0644\\u0645\\u0635\\u0650\\u0644\\u0652\\u062d\\u064d\\u0629\\u064f \\u064f\\u0645\\u062a\\u064b\\u062d\\u064d\\u0641\\u0651 \\u0627\\u0644\\u064b\\u0634\\u0627\\u0631\\u0651\\u0642\\u0629\\u060c \\u0648\\u064f\\u0625\\u064c\\u0646\\u062c\\u0627\\u0632 \\u064e\\u0642\\u0652\\u0627\\u0639\\u0629 \\u064e\\u062e\\u064f\\u0627\\u0651\\u0635\\u0629\\u0652 \\u064f\\u0628\\u0627\\u064f\\u0644\\u0622\\u062b\\u0650\\u0627\\u0651\\u0631 \\u0627\\u064b\\u0644\\u0625\\u0633\\u064d\\u0644\\u064c\\u0627\\u064d\\u0645\\u0651\\u064a\\u0629\\u064b \\u064f\\u0641\\u064e\\u064a \\u0645\\u062a\\u062d\\u0641 \\u0627\\u0652\\u0644\\u064d\\u0634\\u0627\\u0651\\u0631\\u0642\\u064e\\u0629\\u060c\\u064c \\u064d\\u0623\\u064b\\u0645\\u064e \\u0645\\u064f\\u0646 \\u062e\\u064c\\u0644\\u0627\\u0651\\u0644 \\u0650\\u0627\\u0633\\u064b\\u062a\\u0643\\u0645\\u0651\\u0627\\u064d\\u0644 \\u0627\\u0652\\u0644\\u0645\\u0652\\u0634\\u0652\\u0631\\u0648\\u0639\\u0627\\u064d\\u062a\\u064c \\u0627\\u0644\\u062b\\u0652\\u0642\\u0651\\u0627\\u0652\\u0641\\u064a\\u0629\\u064c \\u0648\\u064e\\u062a\\u0631\\u0645\\u064a\\u0645 \\u0627\\u0651\\u0644\\u0645\\u0628\\u0627\\u0646\\u064c\\u064a\\u064f \\u0627\\u0644\\u064d\\u062a\\u0650\\u0631\\u0627\\u0650\\u062b\\u064a\\u0650\\u0629 \\u0652\\u0648\\u063a\\u064a\\u0631\\u0647\\u064b\\u0627\\u064f \\u0645\\u064f\\u0646 \\u0627\\u064e\\u0644\\u0651\\u0623\\u0639\\u0651\\u0645\\u0627\\u0644 \\u064c\\u0648\\u0650\\u0627\\u0644\\u0623\\u064f\\u0646\\u0634\\u064e\\u0637\\u0629 \\u0652\\u0627\\u0644\\u062a\\u064a \\u062a\\u0635\\u0628 \\u0641\\u064a\\u064d \\u064e\\u0635\\u0645\\u064e\\u064a\\u0651\\u0645\\u0651 \\u064b\\u0627\\u0644\\u0650\\u0641\\u0639\\u0651\\u0644\\u064d \\u0627\\u064f\\u0644\\u064e\\u062b\\u064c\\u0642\\u0627\\u064b\\u0641\\u0651\\u064a .\\u0648\\u0623\\u0652\\u0643\\u064e\\u062f\\u064d \\u0627\\u0652\\u0644\\u0650\\u0645\\u0650\\u062d\\u0650\\u0627\\u064c\\u0636\\u0631 \\u0623\\u064d\\u0646 \\u0627\\u064c\\u0644\\u064e\\u062f\\u064e\\u0648\\u0652\\u0631\\u0629\\u0652 \\u064b\\u0627\\u0652\\u0644\\u064c\\u0623\\u064c\\u0648\\u064c\\u0644\\u064f\\u0649\\u0651 \\u0644\\u0645\\u064e\\u0639\\u0631\\u064d\\u0636\\u064d \\u0627\\u0644\\u0650\\u0643\\u0650\\u062a\\u0651\\u0627\\u0628\\u060c \\u0627\\u0644\\u0630\\u064d\\u064a \\u0623\\u0635\\u0651\\u0628\\u062d \\u0627\\u0651\\u0644\\u0652\\u064a\\u064f\\u0648\\u064c\\u0645\\u0651 \\u0648\\u062c\\u064b\\u0647\\u0629 \\u0639\\u0627\\u064b\\u0644\\u0651\\u0645\\u064a\\u0650\\u0629 \\u0644\\u0651\\u0644\\u0643\\u062a\\u0627\\u064d\\u0628\\u064e \\u064c\\u0648\\u0627\\u0644\\u0650\\u0645\\u0641\\u064e\\u0643\\u064b\\u0631\\u064a\\u0650\\u0646 \\u064e\\u0645\\u0650\\u0646\\u0650 \\u0623\\u0650\\u0646\\u064d\\u062d\\u064d\\u0627\\u064d\\u0621\\u064c \\u0627\\u064e\\u0644\\u0650\\u0639\\u0651\\u0627\\u0651\\u0644\\u0645\\u0652 \\u0638\\u0652\\u0644\\u0627\\u0644\\u0647\\u064c \\u0627\\u0644\\u0650\\u0648\\u0627\\u0631\\u064f\\u0641\\u0629\\u064e\\u060c\\u064f \\u0634\\u064d\\u0643\\u064d\\u0644\\u062a\\u0650 \\u064d\\u0646\\u064f\\u0642\\u064b\\u0637\\u0629 \\u064f\\u0627\\u064f\\u0646\\u064c\\u0637\\u0644\\u064e\\u0627\\u0652\\u0642 \\u064f\\u0648\\u062a\\u062d\\u0648\\u0650\\u0651\\u064d\\u0644 \\u0641\\u0652\\u064a\\u064d \\u0627\\u064e\\u0644\\u0645\\u0634\\u0652\\u0631\\u0652\\u0648\\u0639 \\u0652\\u0627\\u0644\\u0651\\u062b\\u0642\\u0652\\u0627\\u0652\\u0641\\u064d\\u064a\\u064f \\u0652\\u0644\\u064d\\u0635\\u0627\\u062d\\u0628 \\u064c\\u0627\\u064d\\u0644\\u064e\\u0633\\u0651\\u0645\\u0650\\u0648\\u064d \\u0650\\u062d\\u064d\\u0627\\u0643\\u0645\\u064f \\u0627\\u0652\\u0644\\u0634\\u0652\\u0627\\u064b\\u0631\\u0642\\u0651\\u0629\\u060c\\u0652 \\u0643\\u0652\\u0645\\u064b\\u0627\\u064e \\u064c\\u062a\\u0632\\u064f\\u0627\\u064d\\u0645\\u0646 \\u064c\\u0645\\u064c\\u0639\\u0651 \\u064e\\u0647\\u0650\\u0630\\u0647 \\u0627\\u0644\\u062f\\u0648\\u0631\\u0651\\u0629 \\u0627\\u064b\\u0641\\u0652\\u062a\\u062a\\u0627\\u062d \\u0645\\u064f\\u0643\\u064b\\u062a\\u0628\\u0652\\u0629\\u064e \\u0627\\u0644\\u064b\\u0645\\u064f\\u062d\\u0650\\u0645\\u0651\\u0648\\u062f\\u064e \\u0652(\\u0651\\u0627\\u0644\\u0652\\u0623\\u064b\\u0647\\u064f\\u0644\\u0650\\u064a\\u0629\\u0652)\\u0652\\u060c\\u0652 \\u0651\\u062b\\u064c\\u0645 \\u064b\\u0627\\u0644\\u0650\\u0645\\u0651\\u0631\\u064f\\u0643\\u0652\\u0632\\u0651 \\u064e\\u0627\\u0652\\u0644\\u064c\\u062b\\u0651\\u0642\\u0627\\u0641\\u0652\\u064a\\u064d \\u064f\\u0641\\u064a\\u0645\\u0627\\u0652 \\u0628\\u0639\\u062f\\u064d .\\u0652\\u0648\\u0651\\u0627\\u064c\\u0639\\u062a\\u0628\\u064d\\u0631 \\u0627\\u064d\\u0644\\u064c\\u0645\\u062d\\u064e\\u0627\\u064b\\u0636\\u0651\\u0631 \\u064b\\u0623\\u0646 \\u064b\\u062d\\u064b\\u0632\\u0645\\u0629 \\u0652\\u0627\\u0652\\u0644\\u064c\\u0645\\u064d\\u0647\\u064d\\u0631\\u062c\\u064d\\u0627\\u064d\\u0646\\u0627\\u0651\\u062a \\u0652\\u0648\\u0651\\u0627\\u0644\\u064f\\u0641\\u064b\\u0639\\u0650\\u0627\\u0644\\u064a\\u0650\\u0627\\u0651\\u062a\\u064b \\u0627\\u0644\\u0652\\u062a\\u064a\\u0650 \\u062a\\u0642\\u0652\\u0627\\u0650\\u0645 \\u0652\\u0639\\u0644\\u0651\\u0649 \\u0645\\u062f\\u0627\\u064c\\u0631\\u0650 \\u0627\\u064e\\u0644\\u0639\\u0627\\u0645\\u0650 \\u0650\\u0641\\u064a \\u064c\\u0627\\u0644\\u064e\\u0634\\u0627\\u064d\\u0631\\u0642\\u0629\\u064f\\u060c\\u0652 \\u0651\\u0648\\u0645\\u0627 \\u064a\\u0651\\u062a\\u064c\\u062e\\u0644\\u0650\\u0644\\u0647\\u064f\\u0627\\u0651 \\u0645\\u0646 \\u0623\\u0646\\u0634\\u0637\\u064c\\u0629\\u064d \\u062b\\u0642\\u064d\\u0627\\u0641\\u0652\\u064a\\u0629\\u064f \\u064c\\u0645\\u0651\\u062a\\u064f\\u0646\\u0648\\u064d\\u0639\\u0652\\u0629 \\u064d\\u062a\\u064c\\u0634\\u064b\\u0643\\u0652\\u0644\\u064f \\u064f\\u0623\\u064d\\u0648\\u062c\\u064c \\u0650\\u0627\\u064f\\u0644\\u062d\\u0631\\u064d\\u0627\\u0652\\u0643\\u0651 \\u064f\\u0627\\u064e\\u0644\\u062b\\u0642\\u0627\\u0641\\u064b\\u064a\\u064f\\u060c\\u064d \\u0648\\u0631\\u0627\\u0651\\u0641\\u0652\\u062f\\u0652\\u0627\\u064f\\u064b\\u0651 \\u0623\\u0633\\u0627\\u064d\\u0633\\u064d\\u064a\\u064e\\u0627\\u064c\\u064b \\u0644\\u0644\\u064c\\u062a\\u0641\\u0652\\u0627\\u0639\\u0644\\u0651 \\u0651\\u0648\\u0652\\u0627\\u0644\\u0652\\u062a\\u0646\\u0627\\u0650\\u063a\\u0645 \\u0627\\u0644\\u064b\\u062b\\u0650\\u0642\\u0627\\u064b\\u0641\\u064c\\u064a \\u064d\\u0641\\u064a\\u0651 \\u0625\\u0645\\u0627\\u0631\\u0652\\u0629\\u0652 \\u062a\\u0632\\u064c\\u062f\\u0651\\u0627\\u064c\\u0646 \\u0648\\u062a\\u0652\\u0632\\u062f\\u064d\\u0647\\u0651\\u064a\\u0650 \\u0643\\u0644 \\u064e\\u062d\\u064e\\u064a\\u064e\\u0646 \\u0628\\u0651\\u0644\\u0650\\u0641\\u064f\\u062a\\u064c\\u0629\\u064b \\u0643\\u064d\\u0631\\u064a\\u0645\\u0629\\u0651 \\u0648\\u064d\\u0633\\u064c\\u0627\\u064e\\u0646\\u062d\\u0629 \\u064e\\u0637\\u064a\\u064e\\u0628\\u0629 \\u0645\\u0650\\u0646 \\u0652\\u062d\\u0627\\u064e\\u0643\\u064b\\u0645 \\u0645\\u062b\\u0642\\u0641\\u0652\\u060c \\u064a\\u064e\\u062d\\u064b\\u0645\\u064d\\u0644\\u0652 \\u0639\\u0644\\u0649 \\u0639\\u064d\\u0627\\u064b\\u062a\\u064f\\u0642\\u0647 \\u064b\\u0627\\u064e\\u0644\\u064e\\u0646\\u0651\\u0647\\u064f\\u0648\\u064d\\u0636 \\u064f\\u0628\\u0652\\u0627\\u064c\\u0644\\u062b\\u064d\\u0642\\u064f\\u0627\\u064c\\u0641\\u064b\\u0629\\u064c \\u0648\\u064f\\u0627\\u064c\\u0644\\u064b\\u0645\\u064e\\u0639\\u064b\\u0631\\u0650\\u0641\\u0629 \\u064b.\\u0648\\u062e\\u0651\\u0644\\u0650\\u0635 \\u064f\\u0627\\u0650\\u0644\\u0650\\u0645\\u062d\\u064b\\u0627\\u0636\\u0631 \\u0625\\u064e\\u0644\\u0651\\u0649\\u0652 \\u0623\\u064b\\u0646 \\u064c\\u062b\\u064e\\u0645\\u0629\\u0651 \\u064b\\u062b\\u0644\\u0627\\u064e\\u062b\\u064c \\u0646\\u0642\\u0651\\u0627\\u0637 \\u064e\\u0644\\u064b\\u0644\\u0650\\u0627\\u064b\\u0631\\u064c\\u062a\\u0642\\u0650\\u0627\\u0621\\u064b \\u064e\\u0628\\u064d\\u0627\\u064d\\u0644\\u0641\\u0643\\u0652\\u0631\\u0629 \\u064d\\u0627\\u064d\\u0644\\u062b\\u0642\\u0651\\u0627\\u0641\\u064d\\u064a\\u064d\\u0629\\u0650 \\u0641\\u064e\\u064a\\u064d \\u064f\\u0627\\u0644\\u064c\\u0634\\u064d\\u0627\\u0631\\u0652\\u0642\\u0629 \\u0623\\u064d\\u0648\\u0644\\u0650\\u0647\\u0627 \\u064d\\u062a\\u0652\\u0623\\u064b\\u0633\\u064e\\u064a\\u0633 \\u0650\\u062f\\u0652\\u0627\\u0652\\u0626\\u0650\\u0631\\u0652\\u0629\\u064e \\u064e\\u0627\\u0644\\u062b\\u0642\\u0651\\u0627\\u0641\\u0629 \\u0648\\u064e\\u0627\\u0650\\u0644\\u064e\\u0625\\u0639\\u0650\\u0644\\u0627\\u0645\\u0651\\u060c \\u064c\\u0648\\u0650\\u062b\\u0652\\u0627\\u0646\\u064a\\u0647\\u0651\\u0627\\u064c \\u0627\\u062c\\u062a\\u0651\\u0645\\u064d\\u0627\\u064d\\u0639 \\u064e\\u0635\\u0627\\u062d\\u0650\\u0628\\u0650 \\u0627\\u0651\\u0644\\u0651\\u0633\\u0651\\u0645\\u0648\\u064d \\u0650\\u062d\\u0627\\u064f\\u0643\\u064b\\u0645 \\u0627\\u0644\\u064f\\u0634\\u0652\\u0627\\u064b\\u0631\\u0642\\u064d\\u0629\\u0651 \\u064c\\u0628\\u0643\\u064f\\u0648\\u0650\\u0627\\u062f\\u064c\\u0631 \\u0627\\u0644\\u064b\\u062f\\u064b\\u0627\\u0650\\u0626\\u0631\\u064b\\u0629 \\u064c\\u0648\\u0642\\u0651\\u062f\\u064f\\u0651\\u0645 \\u0641\\u0651\\u064a\\u0647\\u064f \\u0645\\u062c\\u0650\\u0645\\u064b\\u0648\\u064d\\u0639\\u0651\\u0629\\u064d \\u0645\\u064f\\u0646 \\u0652\\u0627\\u064e\\u0644\\u0633\\u064a\\u0651\\u0627\\u0651\\u0633\\u0627\\u062a \\u0651\\u0627\\u0644\\u062b\\u0642\\u064c\\u0627\\u064b\\u0641\\u064a\\u064e\\u0629 \\u0648\\u064c\\u0627\\u0644\\u062e\\u0651\\u0637\\u0637\\u064b \\u0627\\u0644\\u064d\\u062a\\u0646\\u0645\\u064e\\u0648\\u064a\\u0650\\u0629 \\u0651\\u0648\\u062f\\u0652\\u0639\\u0627 \\u064c\\u0633\\u0650\\u0645\\u064b\\u0648\\u064c\\u0647 \\u064c\\u0625\\u0650\\u0644\\u064f\\u0649: \\u0627\\u0644\\u0627\\u0647\\u0651\\u062a\\u064f\\u0645\\u0627\\u064f\\u0645 \\u0628\\u064b\\u0627\\u0650\\u0644\\u064f\\u0645\\u0652\\u0633\\u0631\\u062d\\u060c\\u0652 \\u0648\\u064b\\u0627\\u0651\\u0644\\u0623\\u0637\\u064c\\u0631\\u0650 \\u0627\\u064d\\u0644\\u0651\\u0639\\u0627\\u064b\\u0645\\u0629 \\u064e\\u0644\\u0644\\u0650\\u062b\\u064e\\u0642\\u0627\\u064d\\u0641\\u0629\\u064d\\u060c\\u0651 \\u0651\\u0627\\u064c\\u0644\\u0650\\u0627\\u0631\\u064f\\u062a\\u0642\\u0627\\u064f\\u0621\\u064c \\u0628\\u064d\\u0627\\u0650\\u0644\\u0639\\u0645\\u0651\\u0644\\u064e \\u0627\\u0644\\u0651\\u062a\\u064d\\u0634\\u0643\\u0651\\u064a\\u0644\\u064a\\u0650\\u060c \\u0627\\u0651\\u0644\\u0627\\u064f\\u0647\\u064f\\u062a\\u0645\\u064d\\u0627\\u0645 \\u0650\\u0628\\u0650\\u0627\\u0651\\u0644\\u064b\\u0648\\u0639\\u0651\\u064a \\u064b\\u0648\\u0650\\u0627\\u0652\\u0644\\u064f\\u0630\\u0627\\u0626\\u0650\\u0642\\u0651\\u0629\\u064c \\u0627\\u0651\\u0644\\u062c\\u0650\\u0645\\u064d\\u0627\\u0652\\u0644\\u0652\\u064a\\u0652\\u0629\\u064f\\u060c \\u0627\\u064d\\u0644\\u0650\\u0627\\u0647\\u064f\\u062a\\u0645\\u0627\\u0651\\u0645\\u0652 \\u064f\\u0628\\u064d\\u0627\\u0644\\u0637\\u0641\\u0644\\u0651\\u060c \\u0651\\u062a\\u0637\\u0648\\u064a\\u0631\\u064b \\u0634\\u0628\\u0643\\u0629\\u0652 \\u0627\\u0644\\u0645\\u0643\\u062a\\u064b\\u0628\\u0627\\u062a\\u060c\\u0652 \\u064e\\u0627\\u0633\\u062a\\u0643\\u064f\\u0645\\u064d\\u0627\\u0644\\u064d \\u0639\\u064b\\u0645\\u064b\\u0644\\u0652\\u064a\\u0627\\u062a \\u064c\\u0627\\u0644\\u064f\\u062a\\u0631\\u0645\\u064a\\u0645\\u0650\\u060c \\u064b\\u0627\\u0644\\u064d\\u0627\\u0647\\u064b\\u062a\\u064c\\u0645\\u0652\\u0627\\u0650\\u0645\\u064d \\u0650\\u0628\\u062b\\u064e\\u0642\\u0652\\u0627\\u064b\\u0641\\u064e\\u0629\\u064d \\u0650\\u0627\\u064d\\u0644\\u0645\\u0650\\u0631\\u064b\\u0623\\u064b\\u0629 \\u0650\\u0648\\u064b\\u0627\\u064f\\u0644\\u064d\\u0637\\u0641\\u0652\\u0644 .\\u0652 \\u064c.\\u064d)\\u064f \\u064b\\u0648\\u062b\\u064b\\u0627\\u064d\\u0644\\u0651\\u062b\\u064b\\u0647\\u064e\\u0627\\u064f \\u064b\\u0625\\u0650\\u0639\\u0650\\u0644\\u0651\\u0627\\u064b\\u0646\\u064f \\u0627\\u0644\\u0634\\u0627\\u0631\\u0642\\u0629\\u064f \\u0651\\u0639\\u0627\\u064d\\u0635\\u064e\\u0645\\u0629\\u064c \\u0644\\u0644\\u064b\\u062b\\u0642\\u064b\\u0627\\u0641\\u0629 \\u064b\\u0627\\u0652\\u0644\\u064e\\u0639\\u0651\\u0631\\u0628\\u064a\\u0629\\u064f \\u064b\\u0641\\u064a\\u064b \\u0639\\u0627\\u0645 19\\u06529\\u064d8 \\u064e\\u0644\\u0645\\u0627 \\u062a\\u062a\\u0645\\u064b\\u064a\\u0632\\u064f \\u0628\\u064f\\u0647\\u064e \\u064e\\u0645\\u064b\\u0646\\u064b \\u064b\\u0646\\u064e\\u0634\\u0650\\u0627\\u0637 \\u0651\\u0648\\u064f\\u062d\\u064b\\u0631\\u0627\\u0643\\u064d \\u064f\\u062b\\u0642\\u0627\\u0641\\u064a\\u0650 \\u0645\\u0652\\u0645\\u064c\\u064a\\u0632\\u064d\\u060c\\u064e \\u064b\\u0641\\u0636\\u0644\\u0627\\u064b\\u064e \\u064f\\u0639\\u0650\\u0646 \\u062f\\u0648\\u0631\\u064b \\u064c\\u0627\\u0644\\u064d\\u062c\\u064f\\u0648\\u0627\\u0652\\u0626\\u064f\\u0632\\u0651 \\u0648\\u0635\\u0650\\u0646\\u064f\\u0627\\u062f\\u0651\\u064a\\u064b\\u0642 \\u064f\\u0627\\u064b\\u0644\\u062f\\u064d\\u0639\\u064c\\u0645\\u060c \\u064d\\u0648\\u0627\\u064f\\u0644\\u062f\\u0628\\u0652\\u0644\\u064b\\u0648\\u0645\\u0627\\u0633\\u064d\\u064a\\u0629 \\u064f\\u0627\\u0650\\u0644\\u064b\\u062b\\u0652\\u0642\\u0627\\u0641\\u0651\\u064a\\u0629\\u060c\\u064e \\u0648\\u0639\\u0650\\u062f\\u062f \\u0648\\u0652\\u0646\\u064c\\u0648\\u0639 \\u064b\\u0627\\u064b\\u0644\\u064c\\u062c\\u064b\\u0627\\u0645\\u0639\\u0650\\u0627\\u064c\\u062a \\u0648\\u0627\\u0644\\u064e\\u0645\\u0650\\u0631\\u0627\\u0652\\u0643\\u0632\\u060c \\u064f\\u0648\\u0627\\u064b\\u0644\\u0625\\u064f\\u062d\\u0635\\u064c\\u0627\\u0650\\u0621\\u064e \\u0627\\u0651\\u0644\\u0627\\u064b\\u062c\\u064f\\u062a\\u0645\\u0627\\u0650\\u0639\\u0650\\u064a\\u0651 \\u064b\\u0641\\u0651\\u064a \\u0628\\u0644\\u0648\\u064e\\u0631\\u0629\\u064f \\u064b\\u0648\\u064c\\u062a\\u064b\\u0631\\u0633\\u0652\\u064a\\u062e \\u064c\\u0645\\u064d\\u0643\\u064e\\u0627\\u0646\\u0629 \\u064b\\u0627\\u0644\\u0651\\u0634\\u0627\\u0651\\u0631\\u064e\\u0642\\u0629 \\u064d\\u0639\\u0627\\u0635\\u0645\\u0629\\u064f \\u0651\\u0644\\u064c\\u0644\\u0651\\u062b\\u064d\\u0642\\u0627\\u064d\\u0641\\u0629\\u064e \\u064c\\u0627\\u064c\\u0644\\u0652\\u0639\\u0650\\u0631\\u0628\\u064a\\u064c\\u0629 \\u0650\\u0648\\u0652\\u0627\\u0644\\u0625\\u064d\\u0633\\u0644\\u0627\\u0651\\u0645\\u064a\\u0652\\u0629\\u060c \\u0648\\u0643\\u064f\\u0644 \\u0651\\u0630\\u0652\\u0644\\u064b\\u0643 \\u064b\\u0628\\u062c\\u0647\\u062f \\u0651\\u0635\\u0651\\u0627\\u062d\\u0628\\u064d \\u0650\\u0627\\u0644\\u064d\\u0633\\u064e\\u0645\\u0648\\u0650 \\u064b\\u062d\\u0650\\u0627\\u064c\\u0643\\u064f\\u0645 \\u064d\\u0627\\u0644\\u0634\\u0627\\u0631\\u064c\\u0642\\u0629 \\u0627\\u064e\\u0644\\u0650\\u0630\\u064a\\u064b \\u064e\\u0639\\u0645\\u064f\\u0644 \\u0651\\u0648\\u064d\\u0644\\u0627 \\u064a\\u0632\\u064f\\u0627\\u064e\\u0644 \\u0628\\u0634\\u063a\\u0641\\u0652 \\u0648\\u062d\\u0628\\u064f \\u0639\\u064f\\u0644\\u0649\\u0652 \\u062a\\u064c\\u0639\\u0632\\u064b\\u064a\\u064b\\u0632\\u064e \\u064c\\u0627\\u064f\\u0644\\u064e\\u062a\\u0646\\u064b\\u0645\\u0651\\u064a\\u064d\\u0629\\u064c \\u0627\\u064e\\u0644\\u064b\\u062b\\u0642\\u064e\\u0627\\u064d\\u0641\\u064c\\u064a\\u0629 \\u064e\\u0641\\u0650\\u064a\\u064f \\u0627\\u0652\\u0644\\u064e\\u0634\\u0627\\u0631\\u064e\\u0642\\u064d\\u0629\\u064e \\u0645\\u0646\\u0650 \\u062e\\u064b\\u0644\\u0650\\u0627\\u0650\\u0644\\u0651 \\u0651\\u0633\\u064e\\u0646\\u0651 \\u0648\\u0625\\u0642\\u064b\\u0631\\u0651\\u0627\\u0631 \\u0645\\u062c\\u0645\\u0648\\u064c\\u0639\\u064e\\u0629\\u064e \\u0645\\u064f\\u0646\\u0651 \\u0627\\u064b\\u0644\\u0645\\u064d\\u0634\\u0650\\u0631\\u0648\\u0639\\u064f\\u0627\\u064f\\u062a\\u0652 \\u0627\\u0644\\u0651\\u062b\\u0650\\u0642\\u0627\\u0652\\u0641\\u0650\\u064a\\u0629\\u064c \\u0650\\u0627\\u0644\\u062a\\u064d\\u064a \\u064e\\u062a\\u064c\\u0647\\u064e\\u062f\\u064d\\u0641\\u064e \\u0625\\u064e\\u0644\\u0650\\u0649 \\u0652\\u062a\\u062d\\u0642\\u064a\\u0642 \\u0630\\u0644\\u0643\\u064d\\u060c\\u064b \\u0650\\u062d\\u062a\\u0650\\u0649 \\u0652\\u0623\\u064e\\u0635\\u0628\\u062d\\u062a\\u0651 \\u064c\\u0627\\u064e\\u0644\\u0634\\u0627\\u064c\\u0631\\u064c\\u0642\\u064b\\u0629\\u0652 \\u0627\\u0644\\u0651\\u064a\\u0648\\u064c\\u0645 \\u0651\\u0648\\u064f\\u062c\\u0647\\u064b\\u0629\\u064e \\u064a\\u0624\\u064f\\u0645\\u064e\\u0647\\u064c\\u0627 \\u0652\\u0627\\u0644\\u064e\\u0645\\u0641\\u064e\\u0643\\u0631\\u0651\\u0648\\u0651\\u0646 \\u0648\\u0650\\u0627\\u0644\\u0645\\u0651\\u062b\\u0642\\u0650\\u0641\\u0651\\u0648\\u0646 \\u0648\\u0627\\u0644\\u0645\\u064f\\u0628\\u064c\\u062f\\u0639\\u064c\\u0648\\u0650\\u0646 \\u0652\\u0648\\u0652\\u0627\\u0651\\u0644\\u064c\\u0643\\u062a\\u064c\\u0627\\u0628\\u0650 \\u064c\\u0645\\u0650\\u0646\\u064f \\u0634\\u062a\\u0650\\u0649\\u064e \\u0623\\u064f\\u0646\\u064d\\u062d\\u0627\\u0621 \\u0627\\u064d\\u0644\\u0652\\u0639\\u0627\\u0644\\u064f\\u0645\\u060c\\u0650 \\u064e\\u0634\\u064b\\u0627\\u0652\\u0645\\u062e\\u0651\\u0629\\u064e \\u0631\\u0627\\u0633\\u062e\\u064b\\u0629 \\u064c\\u0628\\u064c\\u0639\\u0651\\u0637\\u064c\\u0627\\u0626\\u064f\\u0647\\u0650\\u0627 \\u064e\\u0648\\u062a\\u064b\\u0642\\u0650\\u062f\\u0645\\u0647\\u064d\\u0627 \\u0650.\\u064f\"\n        ],\n        \"semantic_type\": \"\",\n        \"description\": \"\"\n      }\n    },\n    {\n      \"column\": \"label\",\n      \"properties\": {\n        \"dtype\": \"category\",\n        \"num_unique_values\": 7,\n        \"samples\": [\n          \"Culture\",\n          \"Finance\",\n          \"Sports\"\n        ],\n        \"semantic_type\": \"\",\n        \"description\": \"\"\n      }\n    }\n  ]\n}"
            }
          },
          "metadata": {},
          "execution_count": 25
        }
      ]
    },
    {
      "cell_type": "code",
      "source": [
        "df.drop_duplicates(inplace=True)"
      ],
      "metadata": {
        "id": "xLzBR_4SCZZ1"
      },
      "execution_count": 26,
      "outputs": []
    },
    {
      "cell_type": "code",
      "source": [
        "df.columns"
      ],
      "metadata": {
        "colab": {
          "base_uri": "https://localhost:8080/"
        },
        "id": "_gzBzxX3C2B_",
        "outputId": "438020ab-f697-45b3-8ff4-ae0fb0aef98f"
      },
      "execution_count": 27,
      "outputs": [
        {
          "output_type": "execute_result",
          "data": {
            "text/plain": [
              "Index(['text', 'label'], dtype='object')"
            ]
          },
          "metadata": {},
          "execution_count": 27
        }
      ]
    },
    {
      "cell_type": "code",
      "source": [
        "df.shape"
      ],
      "metadata": {
        "colab": {
          "base_uri": "https://localhost:8080/"
        },
        "id": "Yl78oS3_DWca",
        "outputId": "eb40fbe7-6380-4314-95b1-ae8527d90d1b"
      },
      "execution_count": 28,
      "outputs": [
        {
          "output_type": "execute_result",
          "data": {
            "text/plain": [
              "(39885, 2)"
            ]
          },
          "metadata": {},
          "execution_count": 28
        }
      ]
    },
    {
      "cell_type": "markdown",
      "metadata": {
        "id": "X_oEu0TkSMEB"
      },
      "source": [
        "# Data Cleaning and Preprocessing"
      ]
    },
    {
      "cell_type": "markdown",
      "metadata": {
        "id": "wSAFiozlRQHt"
      },
      "source": [
        "In this section, we will focus on cleaning and filtering the dataset, preparing it for the text classification task. We will implement the following steps:\n",
        "\n",
        "1. **Remove missing values**:\n",
        "   First, we eliminate any rows with missing values to ensure the dataset is complete and consistent.\n",
        "\n",
        "2. **Filter by text length (Bonus)**:\n",
        "   To maintain a uniform dataset, we will filter the text samples by a specified word count range. This ensures that the texts are neither too short to lack context nor too long to introduce unnecessary complexity.\n",
        "\n",
        "3. **Arabic stopwords loading**:\n",
        "   We load a list of Arabic stopwords to filter out commonly used but contextually insignificant words. This is an important step for improving the performance of the model, as stopwords do not contribute valuable information.\n",
        "\n",
        "4. **Text cleaning**:\n",
        "   We apply a series of text cleaning steps to standardize and simplify the text data. This involves:\n",
        "   - **Removing links (URLs)**: Any URLs present in the text are removed as they are not meaningful for classification purposes.\n",
        "   - **Removing special characters and punctuation**: This step removes any non-alphabetical characters, ensuring the text only contains meaningful words.\n",
        "   - **Removing Arabic diacritics (Tashkeel) and elongated letters (Tatweel)**: Diacritical marks and elongated letters are stripped out to standardize the text.\n",
        "   - **Removing Arabic stopwords**: Words that are part of the stopwords list are removed, as they do not add value to the classification task.\n",
        "   - **Stemming or Lemmmatization**: Either stemming or lemmatization is applied to reduce words to their root or base form.\n",
        "   - **Normalizing Hamza**: Any variation of the Hamza character is normalized for consistency.\n",
        "\n",
        "   **Note:** Most of these you can do using the library [PyArabic](https://pyarabic.readthedocs.io/ar/latest/README.html#features)\n",
        "\n",
        "5. **Final cleanup**:\n",
        "   Apply the cleanup function to the feature column.\n",
        "\n",
        "By following these steps, the text will be cleaned, filtered, and ready for tokenization!"
      ]
    },
    {
      "cell_type": "code",
      "execution_count": 29,
      "metadata": {
        "id": "mHEObOY_fHhq",
        "colab": {
          "base_uri": "https://localhost:8080/"
        },
        "outputId": "f2458232-1eee-45f5-ffbd-6da67c8628a4"
      },
      "outputs": [
        {
          "output_type": "stream",
          "name": "stdout",
          "text": [
            "Requirement already satisfied: nltk in /usr/local/lib/python3.10/dist-packages (3.8.1)\n",
            "Requirement already satisfied: click in /usr/local/lib/python3.10/dist-packages (from nltk) (8.1.7)\n",
            "Requirement already satisfied: joblib in /usr/local/lib/python3.10/dist-packages (from nltk) (1.4.2)\n",
            "Requirement already satisfied: regex>=2021.8.3 in /usr/local/lib/python3.10/dist-packages (from nltk) (2024.5.15)\n",
            "Requirement already satisfied: tqdm in /usr/local/lib/python3.10/dist-packages (from nltk) (4.66.5)\n"
          ]
        }
      ],
      "source": [
        "!pip install nltk"
      ]
    },
    {
      "cell_type": "code",
      "source": [
        "import nltk\n",
        "nltk.download('stopwords')\n",
        "from nltk.corpus import stopwords\n",
        "\n",
        "arabic_stopwords = set(stopwords.words('arabic'))\n",
        "\n",
        "def clean_text(text):\n",
        "    text = re.sub(r'http\\S+', '', text)\n",
        "    text = re.sub(r'[^ء-ي ]', '', text)\n",
        "    text = araby.strip_tashkeel(text)\n",
        "    text = araby.strip_tatweel(text)\n",
        "    text = \" \".join([word for word in text.split() if word not in arabic_stopwords])\n",
        "    return text"
      ],
      "metadata": {
        "colab": {
          "base_uri": "https://localhost:8080/"
        },
        "id": "Gz7oYnLrBed_",
        "outputId": "8be3b5bb-5b7f-4941-feb7-2b87006de24f"
      },
      "execution_count": 30,
      "outputs": [
        {
          "output_type": "stream",
          "name": "stderr",
          "text": [
            "[nltk_data] Downloading package stopwords to /root/nltk_data...\n",
            "[nltk_data]   Package stopwords is already up-to-date!\n"
          ]
        }
      ]
    },
    {
      "cell_type": "markdown",
      "metadata": {
        "id": "VF45GS_ZSEix"
      },
      "source": [
        "# Tokenization, Padding, and Data Splitting"
      ]
    },
    {
      "cell_type": "markdown",
      "metadata": {
        "id": "YmsL3S-5SIbl"
      },
      "source": [
        "In this step, we will prepare the text data for input into a model by converting the text into numerical sequences, padding them to a uniform length, and splitting the dataset into training and testing sets. Here's an overview of the steps involved:\n",
        "\n",
        "1. **Tokenization**:\n",
        "   We use a tokenizer to convert the cleaned text into numerical sequences. You can use `Tokenizer` tokenizer from `tensorflow.keras.preprocessing.text` package or any other tokenizer you like.\n",
        "\n",
        "2. **Text to sequences**:\n",
        "   After fitting the tokenizer on the cleaned text, we transform each text into a sequence of numbers, where each number corresponds to a token (word) in the text.\n",
        "\n",
        "3. **Padding the sequences**:\n",
        "   Since different texts may vary in length, we pad the sequences to ensure they all have the same length.\n",
        "\n",
        "4. **Label encoding**:\n",
        "   The labels (target values) also need to be converted into numerical form if they are not encoded.\n",
        "\n",
        "5. **Train-test split**:\n",
        "   The dataset is divided into training and testing sets. We allocate 80% of the data for training the model and reserve 20% for testing its performance.\n",
        "   \n",
        "   - The **training data** consists of the padded sequences used to train the model.\n",
        "   - The **training labels** are the encoded labels corresponding to the training data.\n",
        "   - The **testing data** is used to assess the model’s performance after training.\n",
        "   - The **testing labels** are the encoded labels corresponding to the testing data.\n",
        "\n",
        "6. **Data shape confirmation**:\n",
        "   After splitting the data, we print the shape (dimensions) of both the training and testing sets to confirm that the data is properly divided and formatted.\n",
        "\n",
        "By the end of this step, the text data will be transformed into padded numerical sequences, the labels will be encoded, and the data will be split into training and testing sets for model development and evaluation."
      ]
    },
    {
      "cell_type": "code",
      "source": [
        "import nltk\n",
        "nltk.download('stopwords')\n",
        "from nltk.corpus import stopwords\n",
        "import re\n",
        "\n",
        "arabic_stopwords = set(stopwords.words('arabic'))\n",
        "\n",
        "def clean_text(text):\n",
        "    text = re.sub(r'http\\S+', '', text)\n",
        "    text = re.sub(r'[^ء-ي ]', '', text)\n",
        "    text = araby.strip_tashkeel(text)\n",
        "    text = araby.strip_tatweel(text)\n",
        "    text = \" \".join([word for word in text.split() if word not in arabic_stopwords])\n",
        "    return text"
      ],
      "metadata": {
        "colab": {
          "base_uri": "https://localhost:8080/"
        },
        "id": "keOf6jraFY4q",
        "outputId": "7350d936-727c-46ff-c9cb-240ce8f19868"
      },
      "execution_count": 44,
      "outputs": [
        {
          "output_type": "stream",
          "name": "stderr",
          "text": [
            "[nltk_data] Downloading package stopwords to /root/nltk_data...\n",
            "[nltk_data]   Package stopwords is already up-to-date!\n"
          ]
        }
      ]
    },
    {
      "cell_type": "code",
      "execution_count": 32,
      "metadata": {
        "id": "z401Re0VfI1f"
      },
      "outputs": [],
      "source": [
        "df['cleaned_text'] = df['text'].apply(clean_text)"
      ]
    },
    {
      "cell_type": "code",
      "source": [
        "print(df.columns)"
      ],
      "metadata": {
        "colab": {
          "base_uri": "https://localhost:8080/"
        },
        "id": "jm0y7_MGBiYa",
        "outputId": "b1ff1b31-e6c1-4bd3-dd9d-7710819d04ac"
      },
      "execution_count": 33,
      "outputs": [
        {
          "output_type": "stream",
          "name": "stdout",
          "text": [
            "Index(['text', 'label', 'cleaned_text'], dtype='object')\n"
          ]
        }
      ]
    },
    {
      "cell_type": "code",
      "source": [
        "print(df.head())"
      ],
      "metadata": {
        "colab": {
          "base_uri": "https://localhost:8080/"
        },
        "id": "5PEKhUKcBj0i",
        "outputId": "14705cfb-1db8-44eb-8b32-759f087a23e3"
      },
      "execution_count": 34,
      "outputs": [
        {
          "output_type": "stream",
          "name": "stdout",
          "text": [
            "                                                text    label  \\\n",
            "0  https://example.com/resource/الشاٌرقة -ْ محمِد...  Culture   \n",
            "1  https://example.com/resource/اَنِطٌلقّتَ ٍفٍيّ...  Culture   \n",
            "2  https://example.com/resource/أُقيًمٌتِ مِساءُ ...  Culture   \n",
            "3  https://example.com/resource/بٍاسُمةَ يًوٌنٍس ...  Culture   \n",
            "4  https://example.com/resource/قُرر اَتحِاد اًلْ...  Culture   \n",
            "\n",
            "                                        cleaned_text  \n",
            "0  محمد ولد محمد سالمعرضت الأول خشبة مسرح قصر الث...  \n",
            "1  الأيام العام الفائت فعاليات مهرجان دبي لمسرح ا...  \n",
            "2  الأول إكسبو الشارقة ندوة حوارية حول أهمية تجار...  \n",
            "3  يونس حينما قال صاحب السمو الشيخ الدكتور سلطان ...  \n",
            "4  اتحاد الأدباء والكتاب الموريتانيين عقد مؤتمره ...  \n"
          ]
        }
      ]
    },
    {
      "cell_type": "code",
      "source": [
        "df.shape"
      ],
      "metadata": {
        "colab": {
          "base_uri": "https://localhost:8080/"
        },
        "id": "wZyCPw8qFwit",
        "outputId": "3ad06b60-2d45-43d0-cf57-975a536775b3"
      },
      "execution_count": 35,
      "outputs": [
        {
          "output_type": "execute_result",
          "data": {
            "text/plain": [
              "(39885, 3)"
            ]
          },
          "metadata": {},
          "execution_count": 35
        }
      ]
    },
    {
      "cell_type": "code",
      "source": [
        "tokenizer = Tokenizer()\n",
        "tokenizer.fit_on_texts(df['cleaned_text'])\n",
        "sequences = tokenizer.texts_to_sequences(df['cleaned_text'])\n",
        "\n",
        "max_len = 100\n",
        "X = pad_sequences(sequences, maxlen=max_len)\n",
        "y = pd.get_dummies(df['label']).values\n",
        "\n",
        "X_train, X_test, y_train, y_test = train_test_split(X, y, test_size=0.2)"
      ],
      "metadata": {
        "id": "-ZVr5SuLDE28"
      },
      "execution_count": 36,
      "outputs": []
    },
    {
      "cell_type": "markdown",
      "metadata": {
        "id": "qd5Ek4NLTgVN"
      },
      "source": [
        "# Building the Classifier"
      ]
    },
    {
      "cell_type": "markdown",
      "metadata": {
        "id": "HpLEoTaITEGx"
      },
      "source": [
        "In this step, you will design and build a NLP Classifier model to classify text data. Below is a breakdown of the key components you'll implement, but it's up to you to decide how to configure them based on your understanding and experimentation:\n",
        "\n",
        "1. **Model Type**:\n",
        "   You will use a Sequential model, which allows you to stack layers in a linear sequence.\n",
        "\n",
        "2. **Input Layer**:\n",
        "   Define the shape of the input data. Consider the dimensions of your padded sequences and set the input shape accordingly.\n",
        "\n",
        "3. **Embedding Layer**:\n",
        "   The embedding layer will convert input tokens (integers) into dense vector representations. You will need to determine the size of the input dimension (based on your vocabulary) and the output dimension (embedding size).\n",
        "\n",
        "4. **Bidirectional Simple RNN/LSTM Layers**:\n",
        "   You can add one or more recurrent layers. Consider using Bidirectional layers to capture contextual information from both directions (forward and backward). You can chose SimpleRNN/GRU/LSTM to perform this step.\n",
        "\n",
        "5. **Dense Layers**:\n",
        "   Add one or more fully connected (Dense) layers to process the output from the RNN/GRU/LSTM layers.\n",
        "\n",
        "6. **Output Layer**:\n",
        "   The output layer should match the type of classification task you're working on. Consider using appropriate activation function with appropriate number of units.\n",
        "\n",
        "7. **Model Summary**:\n",
        "   After defining your model architecture, print a summary to review the number of layers, types of layers, and total parameters.\n",
        "\n",
        "8. **Model Compilation**:\n",
        "   Finally, compile the model by selecting an optimizer, a loss function, and metrics."
      ]
    },
    {
      "cell_type": "code",
      "source": [
        "model = Sequential()\n",
        "model.add(Embedding(input_dim=len(tokenizer.word_index)+1, output_dim=128, input_length=max_len))\n",
        "model.add(Bidirectional(LSTM(64)))\n",
        "model.add(Dense(32, activation='relu'))\n",
        "model.add(Dense(y_train.shape[1], activation='softmax'))"
      ],
      "metadata": {
        "id": "y2TGz0uzDDWM"
      },
      "execution_count": 38,
      "outputs": []
    },
    {
      "cell_type": "code",
      "source": [
        "model.compile(optimizer='adam', loss='categorical_crossentropy', metrics=['accuracy'])\n",
        "print(model.summary())"
      ],
      "metadata": {
        "colab": {
          "base_uri": "https://localhost:8080/",
          "height": 282
        },
        "id": "iRVC7DCBI4v9",
        "outputId": "26303bb3-2ce3-4146-9f6a-6767ba7e9371"
      },
      "execution_count": 39,
      "outputs": [
        {
          "output_type": "display_data",
          "data": {
            "text/plain": [
              "\u001b[1mModel: \"sequential_1\"\u001b[0m\n"
            ],
            "text/html": [
              "<pre style=\"white-space:pre;overflow-x:auto;line-height:normal;font-family:Menlo,'DejaVu Sans Mono',consolas,'Courier New',monospace\"><span style=\"font-weight: bold\">Model: \"sequential_1\"</span>\n",
              "</pre>\n"
            ]
          },
          "metadata": {}
        },
        {
          "output_type": "display_data",
          "data": {
            "text/plain": [
              "┏━━━━━━━━━━━━━━━━━━━━━━━━━━━━━━━━━━━━━━┳━━━━━━━━━━━━━━━━━━━━━━━━━━━━━┳━━━━━━━━━━━━━━━━━┓\n",
              "┃\u001b[1m \u001b[0m\u001b[1mLayer (type)                        \u001b[0m\u001b[1m \u001b[0m┃\u001b[1m \u001b[0m\u001b[1mOutput Shape               \u001b[0m\u001b[1m \u001b[0m┃\u001b[1m \u001b[0m\u001b[1m        Param #\u001b[0m\u001b[1m \u001b[0m┃\n",
              "┡━━━━━━━━━━━━━━━━━━━━━━━━━━━━━━━━━━━━━━╇━━━━━━━━━━━━━━━━━━━━━━━━━━━━━╇━━━━━━━━━━━━━━━━━┩\n",
              "│ embedding_1 (\u001b[38;5;33mEmbedding\u001b[0m)              │ ?                           │     \u001b[38;5;34m0\u001b[0m (unbuilt) │\n",
              "├──────────────────────────────────────┼─────────────────────────────┼─────────────────┤\n",
              "│ bidirectional_1 (\u001b[38;5;33mBidirectional\u001b[0m)      │ ?                           │     \u001b[38;5;34m0\u001b[0m (unbuilt) │\n",
              "├──────────────────────────────────────┼─────────────────────────────┼─────────────────┤\n",
              "│ dense_2 (\u001b[38;5;33mDense\u001b[0m)                      │ ?                           │     \u001b[38;5;34m0\u001b[0m (unbuilt) │\n",
              "├──────────────────────────────────────┼─────────────────────────────┼─────────────────┤\n",
              "│ dense_3 (\u001b[38;5;33mDense\u001b[0m)                      │ ?                           │     \u001b[38;5;34m0\u001b[0m (unbuilt) │\n",
              "└──────────────────────────────────────┴─────────────────────────────┴─────────────────┘\n"
            ],
            "text/html": [
              "<pre style=\"white-space:pre;overflow-x:auto;line-height:normal;font-family:Menlo,'DejaVu Sans Mono',consolas,'Courier New',monospace\">┏━━━━━━━━━━━━━━━━━━━━━━━━━━━━━━━━━━━━━━┳━━━━━━━━━━━━━━━━━━━━━━━━━━━━━┳━━━━━━━━━━━━━━━━━┓\n",
              "┃<span style=\"font-weight: bold\"> Layer (type)                         </span>┃<span style=\"font-weight: bold\"> Output Shape                </span>┃<span style=\"font-weight: bold\">         Param # </span>┃\n",
              "┡━━━━━━━━━━━━━━━━━━━━━━━━━━━━━━━━━━━━━━╇━━━━━━━━━━━━━━━━━━━━━━━━━━━━━╇━━━━━━━━━━━━━━━━━┩\n",
              "│ embedding_1 (<span style=\"color: #0087ff; text-decoration-color: #0087ff\">Embedding</span>)              │ ?                           │     <span style=\"color: #00af00; text-decoration-color: #00af00\">0</span> (unbuilt) │\n",
              "├──────────────────────────────────────┼─────────────────────────────┼─────────────────┤\n",
              "│ bidirectional_1 (<span style=\"color: #0087ff; text-decoration-color: #0087ff\">Bidirectional</span>)      │ ?                           │     <span style=\"color: #00af00; text-decoration-color: #00af00\">0</span> (unbuilt) │\n",
              "├──────────────────────────────────────┼─────────────────────────────┼─────────────────┤\n",
              "│ dense_2 (<span style=\"color: #0087ff; text-decoration-color: #0087ff\">Dense</span>)                      │ ?                           │     <span style=\"color: #00af00; text-decoration-color: #00af00\">0</span> (unbuilt) │\n",
              "├──────────────────────────────────────┼─────────────────────────────┼─────────────────┤\n",
              "│ dense_3 (<span style=\"color: #0087ff; text-decoration-color: #0087ff\">Dense</span>)                      │ ?                           │     <span style=\"color: #00af00; text-decoration-color: #00af00\">0</span> (unbuilt) │\n",
              "└──────────────────────────────────────┴─────────────────────────────┴─────────────────┘\n",
              "</pre>\n"
            ]
          },
          "metadata": {}
        },
        {
          "output_type": "display_data",
          "data": {
            "text/plain": [
              "\u001b[1m Total params: \u001b[0m\u001b[38;5;34m0\u001b[0m (0.00 B)\n"
            ],
            "text/html": [
              "<pre style=\"white-space:pre;overflow-x:auto;line-height:normal;font-family:Menlo,'DejaVu Sans Mono',consolas,'Courier New',monospace\"><span style=\"font-weight: bold\"> Total params: </span><span style=\"color: #00af00; text-decoration-color: #00af00\">0</span> (0.00 B)\n",
              "</pre>\n"
            ]
          },
          "metadata": {}
        },
        {
          "output_type": "display_data",
          "data": {
            "text/plain": [
              "\u001b[1m Trainable params: \u001b[0m\u001b[38;5;34m0\u001b[0m (0.00 B)\n"
            ],
            "text/html": [
              "<pre style=\"white-space:pre;overflow-x:auto;line-height:normal;font-family:Menlo,'DejaVu Sans Mono',consolas,'Courier New',monospace\"><span style=\"font-weight: bold\"> Trainable params: </span><span style=\"color: #00af00; text-decoration-color: #00af00\">0</span> (0.00 B)\n",
              "</pre>\n"
            ]
          },
          "metadata": {}
        },
        {
          "output_type": "display_data",
          "data": {
            "text/plain": [
              "\u001b[1m Non-trainable params: \u001b[0m\u001b[38;5;34m0\u001b[0m (0.00 B)\n"
            ],
            "text/html": [
              "<pre style=\"white-space:pre;overflow-x:auto;line-height:normal;font-family:Menlo,'DejaVu Sans Mono',consolas,'Courier New',monospace\"><span style=\"font-weight: bold\"> Non-trainable params: </span><span style=\"color: #00af00; text-decoration-color: #00af00\">0</span> (0.00 B)\n",
              "</pre>\n"
            ]
          },
          "metadata": {}
        },
        {
          "output_type": "stream",
          "name": "stdout",
          "text": [
            "None\n"
          ]
        }
      ]
    },
    {
      "cell_type": "code",
      "source": [
        "max_len = 100"
      ],
      "metadata": {
        "id": "O4nlMxUWI6XY"
      },
      "execution_count": 40,
      "outputs": []
    },
    {
      "cell_type": "markdown",
      "metadata": {
        "id": "57DXwqqQTloy"
      },
      "source": [
        "# Defining Batch Size, Creating Datasets, and Training the Model"
      ]
    },
    {
      "cell_type": "markdown",
      "metadata": {
        "id": "LEOvs_dETmQp"
      },
      "source": [
        "In this step, you will define the batch size, create TensorFlow Datasets for both training and testing, and train the model. The key elements to consider are outlined below, and it is up to you to choose the specific configurations based on your preferences and experimentation:\n",
        "\n",
        "1. **Batch Size**:\n",
        "   Select a batch size for training and testing. The batch size determines how many samples will be processed together in one forward and backward pass during training.\n",
        "\n",
        "2. **Creating Datasets**:\n",
        "   Use TensorFlow’s `Dataset.from_tensor_slices()` to create datasets from the training and testing data.\n",
        "\n",
        "3. **Batching the Datasets**:\n",
        "   Batch the datasets by grouping the data into batches of the specified size.\n",
        "\n",
        "4. **Training the Model**:\n",
        "   Train the model by fitting it on the training dataset for a specified number of epochs. You will also need to provide the validation data to monitor the model’s performance on unseen data during training.\n",
        "\n",
        "5. **Tracking Training History**:\n",
        "   During training, the model’s performance metrics (such as loss and accuracy) will be tracked over the epochs, and the results will be stored in the `history` object."
      ]
    },
    {
      "cell_type": "code",
      "execution_count": 41,
      "metadata": {
        "id": "o6unhJgFfQbM",
        "colab": {
          "base_uri": "https://localhost:8080/"
        },
        "outputId": "904cda51-186a-4e8f-eb1a-f2da10c708ba"
      },
      "outputs": [
        {
          "output_type": "stream",
          "name": "stdout",
          "text": [
            "Epoch 1/10\n",
            "\u001b[1m798/798\u001b[0m \u001b[32m━━━━━━━━━━━━━━━━━━━━\u001b[0m\u001b[37m\u001b[0m \u001b[1m38s\u001b[0m 37ms/step - accuracy: 0.6660 - loss: 0.9302 - val_accuracy: 0.9416 - val_loss: 0.2103\n",
            "Epoch 2/10\n",
            "\u001b[1m798/798\u001b[0m \u001b[32m━━━━━━━━━━━━━━━━━━━━\u001b[0m\u001b[37m\u001b[0m \u001b[1m38s\u001b[0m 37ms/step - accuracy: 0.9728 - loss: 0.1045 - val_accuracy: 0.9469 - val_loss: 0.2007\n",
            "Epoch 3/10\n",
            "\u001b[1m798/798\u001b[0m \u001b[32m━━━━━━━━━━━━━━━━━━━━\u001b[0m\u001b[37m\u001b[0m \u001b[1m41s\u001b[0m 37ms/step - accuracy: 0.9922 - loss: 0.0328 - val_accuracy: 0.9437 - val_loss: 0.2016\n",
            "Epoch 4/10\n",
            "\u001b[1m798/798\u001b[0m \u001b[32m━━━━━━━━━━━━━━━━━━━━\u001b[0m\u001b[37m\u001b[0m \u001b[1m29s\u001b[0m 37ms/step - accuracy: 0.9970 - loss: 0.0128 - val_accuracy: 0.9525 - val_loss: 0.2230\n",
            "Epoch 5/10\n",
            "\u001b[1m798/798\u001b[0m \u001b[32m━━━━━━━━━━━━━━━━━━━━\u001b[0m\u001b[37m\u001b[0m \u001b[1m43s\u001b[0m 39ms/step - accuracy: 0.9991 - loss: 0.0051 - val_accuracy: 0.9514 - val_loss: 0.2022\n",
            "Epoch 6/10\n",
            "\u001b[1m798/798\u001b[0m \u001b[32m━━━━━━━━━━━━━━━━━━━━\u001b[0m\u001b[37m\u001b[0m \u001b[1m40s\u001b[0m 37ms/step - accuracy: 0.9996 - loss: 0.0017 - val_accuracy: 0.9519 - val_loss: 0.2485\n",
            "Epoch 7/10\n",
            "\u001b[1m798/798\u001b[0m \u001b[32m━━━━━━━━━━━━━━━━━━━━\u001b[0m\u001b[37m\u001b[0m \u001b[1m41s\u001b[0m 37ms/step - accuracy: 1.0000 - loss: 3.0870e-04 - val_accuracy: 0.9547 - val_loss: 0.2491\n",
            "Epoch 8/10\n",
            "\u001b[1m798/798\u001b[0m \u001b[32m━━━━━━━━━━━━━━━━━━━━\u001b[0m\u001b[37m\u001b[0m \u001b[1m41s\u001b[0m 38ms/step - accuracy: 1.0000 - loss: 3.9539e-05 - val_accuracy: 0.9561 - val_loss: 0.2658\n",
            "Epoch 9/10\n",
            "\u001b[1m798/798\u001b[0m \u001b[32m━━━━━━━━━━━━━━━━━━━━\u001b[0m\u001b[37m\u001b[0m \u001b[1m29s\u001b[0m 37ms/step - accuracy: 1.0000 - loss: 2.2218e-05 - val_accuracy: 0.9571 - val_loss: 0.2798\n",
            "Epoch 10/10\n",
            "\u001b[1m798/798\u001b[0m \u001b[32m━━━━━━━━━━━━━━━━━━━━\u001b[0m\u001b[37m\u001b[0m \u001b[1m41s\u001b[0m 37ms/step - accuracy: 1.0000 - loss: 1.2709e-05 - val_accuracy: 0.9571 - val_loss: 0.2946\n"
          ]
        }
      ],
      "source": [
        "batch_size = 32\n",
        "epochs = 10\n",
        "history = model.fit(X_train, y_train, epochs=epochs, batch_size=batch_size, validation_split=0.2)"
      ]
    },
    {
      "cell_type": "markdown",
      "metadata": {
        "id": "XmoJfr3nfP-n"
      },
      "source": [
        "# Model Evaluation"
      ]
    },
    {
      "cell_type": "markdown",
      "metadata": {
        "id": "2Gb8G9XiT-ec"
      },
      "source": [
        "Once the model is trained, the next step is to evaluate its performance on the testing dataset.\n",
        "\n",
        "1. **Evaluate the Model**:\n",
        "   You will use the `evaluate()` method to assess the model’s performance on the test dataset.\n",
        "\n",
        "2. **Testing Dataset**:\n",
        "   Ensure that the testing dataset is properly prepared and batched, just like the training dataset.\n",
        "\n",
        "4. **Loss Curve**:\n",
        "   A loss curve plots the loss values for both the training and validation datasets over the epochs."
      ]
    },
    {
      "cell_type": "code",
      "execution_count": 42,
      "metadata": {
        "id": "SdECXvQGUQae",
        "colab": {
          "base_uri": "https://localhost:8080/",
          "height": 466
        },
        "outputId": "a390e4a2-d23a-4d9b-be94-be70aa687e91"
      },
      "outputs": [
        {
          "output_type": "stream",
          "name": "stdout",
          "text": [
            "\u001b[1m250/250\u001b[0m \u001b[32m━━━━━━━━━━━━━━━━━━━━\u001b[0m\u001b[37m\u001b[0m \u001b[1m2s\u001b[0m 8ms/step - accuracy: 0.9504 - loss: 0.3378\n",
            "Test Accuracy: 0.9494797587394714\n"
          ]
        },
        {
          "output_type": "display_data",
          "data": {
            "text/plain": [
              "<Figure size 640x480 with 1 Axes>"
            ],
            "image/png": "[encoded data removed]"
          },
          "metadata": {}
        }
      ],
      "source": [
        "loss, accuracy = model.evaluate(X_test, y_test)\n",
        "print(f\"Test Accuracy: {accuracy}\")\n",
        "\n",
        "plt.plot(history.history['loss'], label='Train Loss')\n",
        "plt.plot(history.history['val_loss'], label='Validation Loss')\n",
        "plt.legend()\n",
        "plt.show()"
      ]
    },
    {
      "cell_type": "markdown",
      "metadata": {
        "id": "ifx5RFxnUQqc"
      },
      "source": [
        "# Model Inference"
      ]
    },
    {
      "cell_type": "markdown",
      "metadata": {
        "id": "sVh0WCBoUSlP"
      },
      "source": [
        "In this step, you will use the trained model to make predictions on new, unseen data (inference). Here’s an outline of the key points:\n",
        "\n",
        "1. **Create Test Sample**:\n",
        "   Create a string to test your modelm the goal here is to give the model Before making predictions, ensure that the new data is preprocessed in the same way as the training data. This includes tokenization, padding, and any other transformations you applied during the data preprocessing step. The data can be single text to see the result of the prediction.\n",
        "\n",
        "2. **Model Prediction**:\n",
        "   Use the `predict()` method to feed new samples into the trained model and obtain predictions. The model will output probabilities or predicted class labels based on the type of classification task (binary or multi-class).\n",
        "\n",
        "3. **Interpreting Predictions**:\n",
        "   The model will return probabilities for each class."
      ]
    },
    {
      "cell_type": "code",
      "execution_count": 43,
      "metadata": {
        "id": "2XiahrhffR0J",
        "colab": {
          "base_uri": "https://localhost:8080/"
        },
        "outputId": "74098202-6844-4034-8c1f-b517a87849cf"
      },
      "outputs": [
        {
          "output_type": "stream",
          "name": "stdout",
          "text": [
            "\u001b[1m1/1\u001b[0m \u001b[32m━━━━━━━━━━━━━━━━━━━━\u001b[0m\u001b[37m\u001b[0m \u001b[1m0s\u001b[0m 227ms/step\n",
            "Predicted Class: 3\n"
          ]
        }
      ],
      "source": [
        "sample_text = \"sample_text\"\n",
        "cleaned_sample = clean_text(sample_text)\n",
        "sequence = tokenizer.texts_to_sequences([cleaned_sample])\n",
        "padded_sequence = pad_sequences(sequence, maxlen=max_len)\n",
        "prediction = model.predict(padded_sequence)\n",
        "predicted_class = np.argmax(prediction)\n",
        "print(f\"Predicted Class: {predicted_class}\")\n"
      ]
    },
    {
      "cell_type": "markdown",
      "metadata": {
        "id": "fHbgQVrt43DQ"
      },
      "source": [
        "# Notebook Question:\n",
        "- How did you handle text preprocessing? Why did you choose this approach?\n",
        "\n",
        "- Why did you choose this model design?\n",
        "\n",
        "- Why did you pick this number of layers or units for the model?\n",
        "\n",
        "- Why did you select these evaluation methods?\n",
        "\n",
        "- Does your model show signs of overfitting or underfitting? How do you know?\n",
        "\n",
        "- What changes could you make to improve the model and fix overfitting or underfitting?"
      ]
    },
    {
      "cell_type": "markdown",
      "metadata": {
        "id": "x7vOe0JZ43DQ"
      },
      "source": [
        "Answer Here:"
      ]
    }
  ],
  "metadata": {
    "accelerator": "GPU",
    "colab": {
      "gpuType": "T4",
      "provenance": [],
      "include_colab_link": true
    },
    "kernelspec": {
      "display_name": "Python 3",
      "name": "python3"
    },
    "language_info": {
      "name": "python"
    }
  },
  "nbformat": 4,
  "nbformat_minor": 0
}